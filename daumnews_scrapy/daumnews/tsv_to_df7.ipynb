{
 "cells": [
  {
   "cell_type": "code",
   "execution_count": 11,
   "metadata": {},
   "outputs": [
    {
     "name": "stderr",
     "output_type": "stream",
     "text": [
      "C:\\Users\\Gyoungwon Jeong\\AppData\\Local\\Temp\\ipykernel_8768\\1261631917.py:19: SettingWithCopyWarning: \n",
      "A value is trying to be set on a copy of a slice from a DataFrame\n",
      "\n",
      "See the caveats in the documentation: https://pandas.pydata.org/pandas-docs/stable/user_guide/indexing.html#returning-a-view-versus-a-copy\n",
      "  df.writed_at[i]=s[0]+ \"-0\"+s[1].strip()+\"-\"+s[2].strip()+s[3]+\":00\"\n"
     ]
    }
   ],
   "source": [
    "import pandas as pd\n",
    "METADATA_PATH = './daumnews_society.tsv'\n",
    "NEWS_PATH = './news_contents/'\n",
    "\n",
    "def get_contents(news_id, ctg):\n",
    "    if ctg == '사회':\n",
    "        return open(NEWS_PATH + str(news_id) + '.txt', 'r', encoding='utf-8').read()\n",
    "\n",
    "def get_df():\n",
    "    df = pd.read_csv(METADATA_PATH, sep='\\t')\n",
    "    df['content'] = df.apply(lambda x: get_contents(x['id'], x['main_category']), axis=1)\n",
    "    df['platform'] = '다음'\n",
    "    df=df[['id', 'platform', 'main_category', 'sub_category', 'title', 'content', 'writer', 'writed_at']]\n",
    "    \n",
    "    for i in range(len(df.writed_at)) :\n",
    "        s = df.writed_at[i].split(\".\")\n",
    "        if int(s[2])//10== 0: #일이 한자리수\n",
    "            s[2]=str(\"0\")+s[2].replace(' ','')\n",
    "        df.writed_at[i]=s[0]+ \"-0\"+s[1].strip()+\"-\"+s[2].strip()+s[3]+\":00\"\n",
    "    \n",
    "    for i in range(len(df)):\n",
    "        if '20230329' in str(df.id[i]):\n",
    "            df.drop(i, axis = 0, inplace= True)\n",
    "    \n",
    "    return df\n",
    "     \n",
    "if __name__ == '__main__':\n",
    "    final_df = get_df()\n",
    "    final_df.to_csv('daumnews_society7_finally.csv', index=False)"
   ]
  }
 ],
 "metadata": {
  "kernelspec": {
   "display_name": "study",
   "language": "python",
   "name": "python3"
  },
  "language_info": {
   "codemirror_mode": {
    "name": "ipython",
    "version": 3
   },
   "file_extension": ".py",
   "mimetype": "text/x-python",
   "name": "python",
   "nbconvert_exporter": "python",
   "pygments_lexer": "ipython3",
   "version": "3.10.9"
  },
  "orig_nbformat": 4
 },
 "nbformat": 4,
 "nbformat_minor": 2
}
