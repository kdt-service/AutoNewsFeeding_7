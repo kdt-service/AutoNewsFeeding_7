{
 "cells": [
  {
   "cell_type": "markdown",
   "id": "4a62b8e2",
   "metadata": {},
   "source": [
    "# Scrapy 시작 설정"
   ]
  },
  {
   "cell_type": "code",
   "execution_count": 2,
   "id": "9006ea2a",
   "metadata": {},
   "outputs": [],
   "source": [
    "# Scrapy 설치 -> 처음 한번만 실행하면 됨\n",
    "# pip install scrapy"
   ]
  },
  {
   "cell_type": "code",
   "execution_count": 4,
   "id": "20969927",
   "metadata": {},
   "outputs": [
    {
     "name": "stdout",
     "output_type": "stream",
     "text": [
      "New Scrapy project 'daumnews', using template directory 'C:\\Users\\user\\anaconda3\\lib\\site-packages\\scrapy\\templates\\project', created in:\n",
      "    C:\\Users\\user\\OneDrive - konkuk.ac.kr\\바탕 화면\\workspace\\dadu_package\\News_PipeLine\\daumnews\n",
      "\n",
      "You can start your first spider with:\n",
      "    cd daumnews\n",
      "    scrapy genspider example example.com\n"
     ]
    }
   ],
   "source": [
    "# scrapy project 생성\n",
    "!scrapy startproject daumnews"
   ]
  },
  {
   "cell_type": "code",
   "execution_count": 5,
   "id": "a2195b98",
   "metadata": {},
   "outputs": [
    {
     "name": "stdout",
     "output_type": "stream",
     "text": [
      "C:\\Users\\user\\OneDrive - konkuk.ac.kr\\바탕 화면\\workspace\\dadu_package\\News_PipeLine\\daumnews\\daumnews\\spiders\n"
     ]
    }
   ],
   "source": [
    "# spider 폴더로 이동\n",
    "%cd ./daumnews/daumnews/spiders"
   ]
  },
  {
   "cell_type": "code",
   "execution_count": 6,
   "id": "9e6b178a",
   "metadata": {},
   "outputs": [
    {
     "name": "stdout",
     "output_type": "stream",
     "text": [
      "Created spider 'daumnewsspider' using template 'basic' in module:\n",
      "  daumnews.spiders.daumnewsspider\n"
     ]
    }
   ],
   "source": [
    "# 크롤링 진행할 메인 py 파일 초기화 (생성)\n",
    "!scrapy genspider daumnewsspider news.daum.net"
   ]
  },
  {
   "cell_type": "markdown",
   "id": "b63d89ea",
   "metadata": {},
   "source": [
    "# 크롤링 GO"
   ]
  },
  {
   "cell_type": "code",
   "execution_count": 9,
   "id": "4a2ee80b",
   "metadata": {},
   "outputs": [],
   "source": [
    "import scrapy\n",
    "# id, platform, main_category, sub_category, title, content, writer, writed_at\n",
    "\n",
    "class DaumnewsItem(scrapy.Item):\n",
    "    id = scrapy.Field()\n",
    "    platform = scrapy.Field()\n",
    "    main_category = scrapy.Field()\n",
    "    sub_category = scrapy.Field()\n",
    "    title = scrapy.Field()\n",
    "    content = scrapy.Field()\n",
    "    writer = scrapy.Field()\n",
    "    writed_at = scrapy.Field()"
   ]
  },
  {
   "cell_type": "code",
   "execution_count": 10,
   "id": "58457415",
   "metadata": {},
   "outputs": [],
   "source": [
    "DOWNLOAD_DELAY = 0.001"
   ]
  },
  {
   "cell_type": "code",
   "execution_count": 20,
   "id": "dd9e05fa",
   "metadata": {},
   "outputs": [
    {
     "ename": "ModuleNotFoundError",
     "evalue": "No module named 'daumnews.items'",
     "output_type": "error",
     "traceback": [
      "\u001b[1;31m---------------------------------------------------------------------------\u001b[0m",
      "\u001b[1;31mModuleNotFoundError\u001b[0m                       Traceback (most recent call last)",
      "\u001b[1;32m~\\AppData\\Local\\Temp\\ipykernel_2408\\884429066.py\u001b[0m in \u001b[0;36m<module>\u001b[1;34m\u001b[0m\n\u001b[0;32m      1\u001b[0m \u001b[1;32mimport\u001b[0m \u001b[0mscrapy\u001b[0m\u001b[1;33m\u001b[0m\u001b[1;33m\u001b[0m\u001b[0m\n\u001b[1;32m----> 2\u001b[1;33m \u001b[1;32mfrom\u001b[0m \u001b[0mdaumnews\u001b[0m\u001b[1;33m.\u001b[0m\u001b[0mitems\u001b[0m \u001b[1;32mimport\u001b[0m \u001b[0mDaumnewsItem\u001b[0m \u001b[1;31m#위에서 사용할 Item의 공간을 미리 만들어놨으니 사용하기 위해서 불러오는 과정\u001b[0m\u001b[1;33m\u001b[0m\u001b[1;33m\u001b[0m\u001b[0m\n\u001b[0m\u001b[0;32m      3\u001b[0m \u001b[1;32mfrom\u001b[0m \u001b[0mdatetime\u001b[0m \u001b[1;32mimport\u001b[0m \u001b[0mdatetime\u001b[0m\u001b[1;33m,\u001b[0m \u001b[0mtimedelta\u001b[0m\u001b[1;33m\u001b[0m\u001b[1;33m\u001b[0m\u001b[0m\n\u001b[0;32m      4\u001b[0m \u001b[1;33m\u001b[0m\u001b[0m\n\u001b[0;32m      5\u001b[0m \u001b[1;32mimport\u001b[0m \u001b[0mtime\u001b[0m\u001b[1;33m\u001b[0m\u001b[1;33m\u001b[0m\u001b[0m\n",
      "\u001b[1;31mModuleNotFoundError\u001b[0m: No module named 'daumnews.items'"
     ]
    }
   ],
   "source": [
    "import scrapy\n",
    "from daumnews.items import DaumnewsItem #위에서 사용할 Item의 공간을 미리 만들어놨으니 사용하기 위해서 불러오는 과정\n",
    "from datetime import datetime, timedelta\n",
    "\n",
    "import time\n",
    "import re"
   ]
  },
  {
   "cell_type": "code",
   "execution_count": 24,
   "id": "ac8dfab0",
   "metadata": {},
   "outputs": [
    {
     "ename": "NameError",
     "evalue": "name 're' is not defined",
     "output_type": "error",
     "traceback": [
      "\u001b[1;31m---------------------------------------------------------------------------\u001b[0m",
      "\u001b[1;31mNameError\u001b[0m                                 Traceback (most recent call last)",
      "\u001b[1;32m~\\AppData\\Local\\Temp\\ipykernel_2408\\2305177978.py\u001b[0m in \u001b[0;36m<module>\u001b[1;34m\u001b[0m\n\u001b[1;32m----> 1\u001b[1;33m \u001b[0mdir\u001b[0m\u001b[1;33m(\u001b[0m\u001b[0mre\u001b[0m\u001b[1;33m)\u001b[0m\u001b[1;33m\u001b[0m\u001b[1;33m\u001b[0m\u001b[0m\n\u001b[0m",
      "\u001b[1;31mNameError\u001b[0m: name 're' is not defined"
     ]
    }
   ],
   "source": []
  },
  {
   "cell_type": "code",
   "execution_count": null,
   "id": "e807fb72",
   "metadata": {},
   "outputs": [],
   "source": []
  }
 ],
 "metadata": {
  "kernelspec": {
   "display_name": "Python 3 (ipykernel)",
   "language": "python",
   "name": "python3"
  },
  "language_info": {
   "codemirror_mode": {
    "name": "ipython",
    "version": 3
   },
   "file_extension": ".py",
   "mimetype": "text/x-python",
   "name": "python",
   "nbconvert_exporter": "python",
   "pygments_lexer": "ipython3",
   "version": "3.9.13"
  },
  "toc": {
   "base_numbering": 1,
   "nav_menu": {},
   "number_sections": true,
   "sideBar": true,
   "skip_h1_title": false,
   "title_cell": "Table of Contents",
   "title_sidebar": "Contents",
   "toc_cell": false,
   "toc_position": {},
   "toc_section_display": true,
   "toc_window_display": false
  }
 },
 "nbformat": 4,
 "nbformat_minor": 5
}
