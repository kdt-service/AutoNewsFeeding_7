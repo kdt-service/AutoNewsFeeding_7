{
 "cells": [
  {
   "cell_type": "code",
   "execution_count": 5,
   "id": "eb403fcd",
   "metadata": {},
   "outputs": [],
   "source": [
    "import pandas as pd"
   ]
  },
  {
   "cell_type": "code",
   "execution_count": 33,
   "id": "0aec1afa",
   "metadata": {},
   "outputs": [],
   "source": [
    "import re"
   ]
  },
  {
   "cell_type": "code",
   "execution_count": 12,
   "id": "a461e4a9",
   "metadata": {},
   "outputs": [
    {
     "name": "stdout",
     "output_type": "stream",
     "text": [
      "C:\\Users\\Gyoungwon Jeong\\daumnews\n"
     ]
    }
   ],
   "source": [
    "cd daumnews"
   ]
  },
  {
   "cell_type": "code",
   "execution_count": 24,
   "id": "4093a368",
   "metadata": {},
   "outputs": [],
   "source": [
    "df_news = pd.read_csv('daumnews_society7.csv')"
   ]
  },
  {
   "cell_type": "code",
   "execution_count": 177,
   "id": "6010cd7a",
   "metadata": {},
   "outputs": [],
   "source": [
    "clean_content = df_news['content'].map(lambda x: re.sub(\"  +\", ' ', re.sub('\\n', '', str(x)))) #하나의 lambda 안에 같이 넣어야 동시에 적용됨"
   ]
  },
  {
   "cell_type": "code",
   "execution_count": 178,
   "id": "18bfb52f",
   "metadata": {},
   "outputs": [
    {
     "data": {
      "text/plain": [
       "'박경석 전국장애인차별철폐연대(전장연) 상임공동대표./뉴스1 법원이 전국장애인차별철폐연대(전장연)의 출근길 지하철 시위를 주도해온 박경석 대표에 대해 체포영장을 발부했다. 서울남대문경찰서는 “서울중앙지법에 신청한 박경석 전장연 대표에 대한 체포영장이 발부됐다”고 16일 밝혔다. 박 대표는 2021년 1월부터 지난 1월까지 서울 도심 곳곳에서 지하철 탑승 시위를 벌이며 열차 운행을 방해한 혐의(업무방해, 기차교통방해, 집회 및 시위에 관한 법률 위반)를 받고 있다. 경찰은 박 대표에게 18차례 출석을 요구했지만 그는 응하지 않았다. 지난 9일 박 대표가 주도한 또다른 시위에서는 함께 시위에 참석했던 전장연 활동가가 지하철 보안관을 폭행해 입건되기도 했다. 경찰은 앞서 전장연의 시위 도중 불법 행위에 대해 엄정하게 대응하겠다는 방침을 세운 바 있다. 전장연은 이날 경찰의 체포영장 신청과 관련해 “서울경찰청의 장애인 등 편의법 위반에 대한 반성이 먼저”라고 밝혔다. 전장연은 17일 서울경찰청 앞에서 기자회견을 열고 박 대표에 대한 체포영장 발부 관련 입장을 밝힐 예정이다.'"
      ]
     },
     "execution_count": 178,
     "metadata": {},
     "output_type": "execute_result"
    }
   ],
   "source": [
    "clean_content[0]"
   ]
  },
  {
   "cell_type": "code",
   "execution_count": 162,
   "id": "e0e99b8a",
   "metadata": {},
   "outputs": [
    {
     "data": {
      "text/plain": [
       "'박경석 전국장애인차별철폐연대(전장연) 상임공동대표./뉴스1\\n           \\n          \\n          법원이 전국장애인차별철폐연대(전장연)의 출근길 지하철 시위를 주도해온 박경석 대표에 대해 체포영장을 발부했다.\\n          서울남대문경찰서는 “서울중앙지법에 신청한 박경석 전장연 대표에 대한 체포영장이 발부됐다”고 16일 밝혔다. 박 대표는 2021년 1월부터 지난 1월까지 서울 도심 곳곳에서 지하철 탑승 시위를 벌이며 열차 운행을 방해한 혐의(업무방해, 기차교통방해, 집회 및 시위에 관한 법률 위반)를 받고 있다.\\n          경찰은 박 대표에게 18차례 출석을 요구했지만 그는 응하지 않았다. 지난 9일 박 대표가 주도한 또다른 시위에서는 함께 시위에 참석했던 전장연 활동가가 지하철 보안관을 폭행해 입건되기도 했다. 경찰은 앞서 전장연의 시위 도중 불법 행위에 대해 엄정하게 대응하겠다는 방침을 세운 바 있다.\\n          전장연은 이날 경찰의 체포영장 신청과 관련해 “서울경찰청의 장애인 등 편의법 위반에 대한 반성이 먼저”라고 밝혔다. 전장연은 17일 서울경찰청 앞에서 기자회견을 열고 박 대표에 대한 체포영장 발부 관련 입장을 밝힐 예정이다.'"
      ]
     },
     "execution_count": 162,
     "metadata": {},
     "output_type": "execute_result"
    }
   ],
   "source": [
    "df_news['content'][0]"
   ]
  }
 ],
 "metadata": {
  "kernelspec": {
   "display_name": "Python 3 (ipykernel)",
   "language": "python",
   "name": "python3"
  },
  "language_info": {
   "codemirror_mode": {
    "name": "ipython",
    "version": 3
   },
   "file_extension": ".py",
   "mimetype": "text/x-python",
   "name": "python",
   "nbconvert_exporter": "python",
   "pygments_lexer": "ipython3",
   "version": "3.9.13"
  }
 },
 "nbformat": 4,
 "nbformat_minor": 5
}
