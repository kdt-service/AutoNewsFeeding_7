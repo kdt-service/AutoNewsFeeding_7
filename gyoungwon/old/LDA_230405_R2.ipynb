{
  "cells": [
    {
      "cell_type": "markdown",
      "source": [
        "## LDA(Latent Dirichlet Allocation): scikit-learn"
      ],
      "metadata": {
        "id": "lTHWa_JBCgJK"
      }
    },
    {
      "cell_type": "markdown",
      "source": [
        "### 데이터 준비"
      ],
      "metadata": {
        "id": "vF11EqTl-hMD"
      }
    },
    {
      "cell_type": "code",
      "execution_count": null,
      "metadata": {
        "id": "MnXzLcez1U_5"
      },
      "outputs": [],
      "source": [
        "import pandas as pd"
      ]
    },
    {
      "cell_type": "code",
      "execution_count": null,
      "metadata": {
        "id": "dYrZyPPf1U_8"
      },
      "outputs": [],
      "source": [
        "news = pd.read_csv('./뉴스.csv')\n",
        "#3월 2일자 기사 두개 들어가있음 -> start_date = 0301 end_date = 0301 로 하면 됨 "
      ]
    },
    {
      "cell_type": "code",
      "execution_count": 132,
      "metadata": {
        "colab": {
          "base_uri": "https://localhost:8080/"
        },
        "id": "X2q38eztbsF_",
        "outputId": "6915bb29-8e67-4f3e-9579-1bfaaaef3c37"
      },
      "outputs": [
        {
          "output_type": "stream",
          "name": "stdout",
          "text": [
            "<class 'pandas.core.frame.DataFrame'>\n",
            "Int64Index: 16122 entries, 0 to 16548\n",
            "Data columns (total 9 columns):\n",
            " #   Column         Non-Null Count  Dtype  \n",
            "---  ------         --------------  -----  \n",
            " 0   news_id        16122 non-null  int64  \n",
            " 1   title          16122 non-null  object \n",
            " 2   writer         13701 non-null  object \n",
            " 3   content        16122 non-null  object \n",
            " 4   writed_at      16122 non-null  object \n",
            " 5   url            0 non-null      float64\n",
            " 6   main_category  16122 non-null  object \n",
            " 7   sub_category   16122 non-null  object \n",
            " 8   platform       16122 non-null  object \n",
            "dtypes: float64(1), int64(1), object(7)\n",
            "memory usage: 1.2+ MB\n"
          ]
        },
        {
          "output_type": "stream",
          "name": "stderr",
          "text": [
            "/usr/local/lib/python3.9/dist-packages/ipykernel/ipkernel.py:283: DeprecationWarning: `should_run_async` will not call `transform_cell` automatically in the future. Please pass the result to `transformed_cell` argument and any exception that happen during thetransform in `preprocessing_exc_tuple` in IPython 7.17 and above.\n",
            "  and should_run_async(code)\n"
          ]
        }
      ],
      "source": [
        "news.info()"
      ]
    },
    {
      "cell_type": "code",
      "execution_count": null,
      "metadata": {
        "id": "ifqNiXRdcJuF"
      },
      "outputs": [],
      "source": [
        "news.dropna(subset=['content'], inplace=True) #content null 값 행 삭제 "
      ]
    },
    {
      "cell_type": "code",
      "source": [
        "# 중복된 기사 날리기\n",
        "news.drop_duplicates(subset=['content'], inplace=True)"
      ],
      "metadata": {
        "colab": {
          "base_uri": "https://localhost:8080/"
        },
        "id": "bhXo0a5riwzJ",
        "outputId": "7bccb0f9-ae27-4568-eed5-cdc84386e8fa"
      },
      "execution_count": 131,
      "outputs": [
        {
          "output_type": "stream",
          "name": "stderr",
          "text": [
            "/usr/local/lib/python3.9/dist-packages/ipykernel/ipkernel.py:283: DeprecationWarning: `should_run_async` will not call `transform_cell` automatically in the future. Please pass the result to `transformed_cell` argument and any exception that happen during thetransform in `preprocessing_exc_tuple` in IPython 7.17 and above.\n",
            "  and should_run_async(code)\n"
          ]
        }
      ]
    },
    {
      "cell_type": "markdown",
      "source": [
        "### 전처리 필요 부분 확인"
      ],
      "metadata": {
        "id": "ZB3WQUKyQ68F"
      }
    },
    {
      "cell_type": "code",
      "source": [
        "news['content'].iloc[0]"
      ],
      "metadata": {
        "colab": {
          "base_uri": "https://localhost:8080/",
          "height": 274
        },
        "id": "5tRrDfq6RHPF",
        "outputId": "2954f3b7-4666-41ea-fed2-5bc9fd3aac14"
      },
      "execution_count": 99,
      "outputs": [
        {
          "output_type": "stream",
          "name": "stderr",
          "text": [
            "/usr/local/lib/python3.9/dist-packages/ipykernel/ipkernel.py:283: DeprecationWarning: `should_run_async` will not call `transform_cell` automatically in the future. Please pass the result to `transformed_cell` argument and any exception that happen during thetransform in `preprocessing_exc_tuple` in IPython 7.17 and above.\n",
            "  and should_run_async(code)\n"
          ]
        },
        {
          "output_type": "execute_result",
          "data": {
            "text/plain": [
              "\"\\n [서울=뉴시스] 정부가 올해 중 우리나라의 우주항공 분야 연구개발(R&D)을 전담할 '우주항공청'을 출범시킬 계획이다. 외부 전문가 채용 비중 제한을 없애고, 우수 인력을 유치하고자 주식백지신탁 예외까지 허용하는 등 우주항공청의 전문성을 높이기 위한 다양한 특례까지 마련된다. 과학기술정보통신부는 우주항공청 설립의 근거가 되는 '우주항공청의 설치 및 운영에 관한 특별법' 제정안을 2일부터 입법예고한다고 밝혔다. 특별법은 우주항공분야의 정책과 R&D, 산업육성 등을 총괄하는 중앙행정기관으로 우주항공청을 설치하고, 전문적이고 유연한 조직으로 운영하기 위한 원칙과 기능, 특례 등까지 명시하고 있다. 먼저 우주항공 정책 거버넌스를 구축하기 위해 과기정통부, 산업통상자원부 등의 부처가 개별적으로 수행하던 우주항공 관련 기술개발, 산업육성 지원, 인재양성 및 우주위험 대비 등의 기능을 모두 우주항공청으로 일원화했다. 이를 위해 기존 과기정통부 장관, 산지부 장관 등이 소관하던 우주항공 관련 법률인 '우주개발진흥법', '항공우주산업촉진법', '천문법' 등을 우주항공청장이 담당하도록 부칙을 통해 개정할 방침이다. 국가우주위원회 위원장은 국무총리에서 대통령으로 격상해 위상과 기능을 강화한다. 우주항공청장도 국가우주위에 새롭게 위원으로 추가해 실무위원회 위원장을 맡게 하는 등 우주항공청이 우주경제 시대를 여는 컨트롤 타워 역할을 하도록 했다. 우주항공청 조직의 경우 과기정통부 장관 소속으로 하되 전문성을 가진 조직으로 구성된다. 특히 우주항공청 조직 구성 원칙의 핵심은 유연하고 자율적인 운영이다. 이를 위해 우주항공청 내에 설치되는 별도의 본부가 우주항공 R&D와 산업 활성화를 전담하게 된다.\""
            ],
            "application/vnd.google.colaboratory.intrinsic+json": {
              "type": "string"
            }
          },
          "metadata": {},
          "execution_count": 99
        }
      ]
    },
    {
      "cell_type": "code",
      "source": [
        "# ▲ 없애기 \n",
        "text = re.sub(r'[▲]','', text)\n",
        "\n",
        "#뉴스기사 출처 ( = ), [ = ] 형태 없애기 코드 '\\(.*=.*\\) ' \n",
        "text = re.sub(r'\\(.*=.*\\) ', '', re.sub(r'\\[.*=.*\\] ', '', text))\n",
        "\n",
        "#[] 안에 들어가는 거 다 없애기? -> 그러면 안됨.. \n",
        "\n",
        "# 괄호 안 기자로 끝나는 거 지우기 \n",
        "#re.sub(r'\\[.*기자\\]', '', text)\n",
        "\n",
        "text = re.sub(r'페이스북 /LeYN1 트위터 @yonhap_graphic', '', text)\n",
        "\n",
        " # 앞에 r을 붙여주면 deprecation warning이 안뜸 (raw string으로 declare)"
      ],
      "metadata": {
        "id": "k6AUF1P6S1yM"
      },
      "execution_count": null,
      "outputs": []
    },
    {
      "cell_type": "code",
      "source": [
        "a = news['content'].str.contains('페이스북 /LeYN1 트위터 @yonhap_graphics')\n",
        "\n",
        "print((news['content'].loc[a]))"
      ],
      "metadata": {
        "colab": {
          "base_uri": "https://localhost:8080/"
        },
        "id": "qyjk77_4qUS1",
        "outputId": "f66a7b95-b72b-4a79-d283-43ceccdb1f09"
      },
      "execution_count": 96,
      "outputs": [
        {
          "output_type": "stream",
          "name": "stdout",
          "text": [
            "7528     \\n ,(서울=연합뉴스) 원형민 기자 = 정부가 미래산업의 성장동력을 확보하기 위한...\n",
            "9133     \\n ,(서울=연합뉴스) 원형민 기자 = 한국은행이 22일 발표한 '2월 기업경기실...\n",
            "9937     \\n ,(서울=연합뉴스) 원형민 기자 = 서방이 우크라이나 침공에 대한 제재로 러시...\n",
            "16843    \\n ,(서울=연합뉴스) 반종빈 기자 = 일본은 16일 한국에 대한 반도체 핵심 소...\n",
            "Name: content, dtype: object\n"
          ]
        },
        {
          "output_type": "stream",
          "name": "stderr",
          "text": [
            "/usr/local/lib/python3.9/dist-packages/ipykernel/ipkernel.py:283: DeprecationWarning: `should_run_async` will not call `transform_cell` automatically in the future. Please pass the result to `transformed_cell` argument and any exception that happen during thetransform in `preprocessing_exc_tuple` in IPython 7.17 and above.\n",
            "  and should_run_async(code)\n"
          ]
        }
      ]
    },
    {
      "cell_type": "code",
      "source": [
        "news['content'].iloc[9133]"
      ],
      "metadata": {
        "colab": {
          "base_uri": "https://localhost:8080/",
          "height": 110
        },
        "id": "BvrXhBwIsWOV",
        "outputId": "e39a82a4-3f12-4236-c6ad-a933e7da1c7d"
      },
      "execution_count": 95,
      "outputs": [
        {
          "output_type": "stream",
          "name": "stderr",
          "text": [
            "/usr/local/lib/python3.9/dist-packages/ipykernel/ipkernel.py:283: DeprecationWarning: `should_run_async` will not call `transform_cell` automatically in the future. Please pass the result to `transformed_cell` argument and any exception that happen during thetransform in `preprocessing_exc_tuple` in IPython 7.17 and above.\n",
            "  and should_run_async(code)\n"
          ]
        },
        {
          "output_type": "execute_result",
          "data": {
            "text/plain": [
              "\"\\n ,(서울=연합뉴스) 원형민 기자 = 한국은행이 22일 발표한 '2월 기업경기실사지수(BSI)' 조사 결과에 따르면 이달 제조업 업황 BSI는 전월보다 3포인트 하락한 63을 기록했다., , 페이스북 /LeYN1 트위터 @yonhap_graphics,\\n \""
            ],
            "application/vnd.google.colaboratory.intrinsic+json": {
              "type": "string"
            }
          },
          "metadata": {},
          "execution_count": 95
        }
      ]
    },
    {
      "cell_type": "markdown",
      "metadata": {
        "id": "-4TtBQCb7exM"
      },
      "source": [
        "### tokenization"
      ]
    },
    {
      "cell_type": "code",
      "execution_count": null,
      "metadata": {
        "id": "cZcP1pW21U_-"
      },
      "outputs": [],
      "source": [
        "!pip3 install mecab-python3"
      ]
    },
    {
      "cell_type": "code",
      "execution_count": null,
      "metadata": {
        "id": "kILaoYfW1U__"
      },
      "outputs": [],
      "source": [
        "!pip install konlpy"
      ]
    },
    {
      "cell_type": "code",
      "execution_count": 134,
      "metadata": {
        "colab": {
          "base_uri": "https://localhost:8080/"
        },
        "id": "NONSMDLVBWtr",
        "outputId": "3a9ea2a2-b504-4d54-adf7-43a49a4b5336"
      },
      "outputs": [
        {
          "metadata": {
            "tags": null
          },
          "name": "stderr",
          "output_type": "stream",
          "text": [
            "/usr/local/lib/python3.9/dist-packages/ipykernel/ipkernel.py:283: DeprecationWarning: `should_run_async` will not call `transform_cell` automatically in the future. Please pass the result to `transformed_cell` argument and any exception that happen during thetransform in `preprocessing_exc_tuple` in IPython 7.17 and above.\n",
            "  and should_run_async(code)\n"
          ]
        },
        {
          "output_type": "stream",
          "name": "stdout",
          "text": [
            "16122\n",
            "정부 올해 중 우리나라 우주 항공 분야 연구개발 R D 전담 할 우주 항공 청 출범 시킬 계획 외부 전문가 채용 비중 제한 없애고 우수 인력 유치하고자 주식 신탁 예외 허용 등 우주 항공 청 전문성 높이기 위 다양한 특례 마련 된다 과학기술 정보통신부 우주 항공 청 설립 근거 되는 우주 항공 청 설치 및 운영 관 특별법 정안 2일 입법 예고 한다고 밝혔다 특별법 우주 항공 분야 정책 R D 산업 육성 등 총괄 중앙 행정기관 우주 항공 청 설치 전문 유연한 조직 운영 하기 위 원칙 기능 특례 등 명시 먼저 우주 항공 정책 거버넌스 구축 하기 과 정통부 산업 통상 자원부 등 부처 개별 수행 하던 우주 항공 관련 기술 개발 산업 육성 지원 인재 양성 및 우주 위험 대비 등 기능 모두 우주 항공 청 일원 화했다 이를 기존 과 정통부 장관 산지 부 장관 등 소관 하던 우주 항공 관련 법률 우주개발 진흥 법 항공우주 산업 촉진법 문법 등 우주 항공 청장 담당 하도록 부칙 개정 할 방침 국가 우주 위원회 위원장 국무총리 대통령 격상 해 위상 기능 강화한다 우주 항공 청장 국가 우주 위 새롭게 위원 추가 해 실무 위원회 위원장 맡게 등 우주 항공 청 우주 경제 시대 여 컨트롤 타워 역할 하도록 했다 우주 항공 청 조직 경우 과 정통부 장관 소속 되 전문성 가진 조직 구성 된다 우주 항공 청 조직 구성 원칙 핵심 유연하고 자율 운영 이를 우주 항공 청 내 설치 되는 별도 본부 우주 항공 R D 와 산업 활성화 전담 하게 된다\n"
          ]
        }
      ],
      "source": [
        "import konlpy\n",
        "import re\n",
        "\n",
        "# tokenization 함수를 만들어둠\n",
        "def tokenize_korean_text(text):\n",
        "    text = re.sub(r'[▲]','', text) \n",
        "    text = re.sub(r'\\(.*=.*\\) ', '', re.sub(r'\\[.*=.*\\] ', '', text))\n",
        "    text = re.sub(r'페이스북 /LeYN1 트위터 @yonhap_graphic', '', text)\n",
        "\n",
        "    okt = konlpy.tag.Okt()\n",
        "    Okt_morphs = okt.pos(text)   # stem=True로 설정하면 동사원형으로 바꿔서 return\n",
        "    \n",
        "    words = []\n",
        "    stopwords = ['하는', '있다', '있는', '위해', '통해', '한다', '때문'] # 불용어 사전  \n",
        "    for word, pos in Okt_morphs:\n",
        "        if pos in ['Adjective', 'Verb', 'Noun', 'Alpha', 'Number'] and word not in stopwords:  # 이 경우에는 형용사, 동사, 명사, 영어, 숫자만 남김\n",
        "            words.append(word)\n",
        "\n",
        "    words_str = ' '.join(words)\n",
        "    return words_str\n",
        "\n",
        "\n",
        "# news['content']를 하나씩 tokenize해서 list로 저장\n",
        "tokenized_list = []\n",
        "\n",
        "for text in news['content']:\n",
        "    tokenized_list.append(tokenize_korean_text(text))\n",
        "\n",
        "print(len(tokenized_list))\n",
        "print(tokenized_list[0])"
      ]
    },
    {
      "cell_type": "code",
      "execution_count": 136,
      "metadata": {
        "id": "pInBIqWpbNeK",
        "colab": {
          "base_uri": "https://localhost:8080/"
        },
        "outputId": "14812d1c-b09c-4d35-95c9-b89dae8a2066"
      },
      "outputs": [
        {
          "output_type": "stream",
          "name": "stderr",
          "text": [
            "/usr/local/lib/python3.9/dist-packages/ipykernel/ipkernel.py:283: DeprecationWarning: `should_run_async` will not call `transform_cell` automatically in the future. Please pass the result to `transformed_cell` argument and any exception that happen during thetransform in `preprocessing_exc_tuple` in IPython 7.17 and above.\n",
            "  and should_run_async(code)\n"
          ]
        },
        {
          "output_type": "stream",
          "name": "stdout",
          "text": [
            "15901\n",
            "15901\n"
          ]
        }
      ],
      "source": [
        "#단어가 1-20개만 포함된 corpus 삭제 \n",
        "drop_corpus = []\n",
        "\n",
        "for index in range(len(tokenized_list)):\n",
        "    corpus = tokenized_list[index]\n",
        "    if len(set(corpus.split())) < 21:   # 같은 단어 1-20개만 반복되는 corpus도 지우기 위해 set()을 사용\n",
        "        news.drop(index, axis='index', inplace=True)\n",
        "        drop_corpus.append(corpus)\n",
        "    \n",
        "for corpus in drop_corpus:\n",
        "    tokenized_list.remove(corpus)\n",
        "\n",
        "news.reset_index(drop=True, inplace=True)\n",
        "\n",
        "print(len(tokenized_list))\n",
        "print(len(news))"
      ]
    },
    {
      "cell_type": "markdown",
      "metadata": {
        "id": "wu-O4nVZ7f0E"
      },
      "source": [
        "### vectorization & LDA"
      ]
    },
    {
      "cell_type": "code",
      "execution_count": null,
      "metadata": {
        "id": "sEUQo5XDbRN2"
      },
      "outputs": [],
      "source": [
        "from sklearn.feature_extraction.text import CountVectorizer\n",
        "from sklearn.decomposition import LatentDirichletAllocation"
      ]
    },
    {
      "cell_type": "markdown",
      "source": [
        "#### vectorization"
      ],
      "metadata": {
        "id": "eKoQFQFH6FpQ"
      }
    },
    {
      "cell_type": "code",
      "execution_count": 137,
      "metadata": {
        "id": "iK-HhjPpbWT3",
        "colab": {
          "base_uri": "https://localhost:8080/"
        },
        "outputId": "72b05c40-0d67-4637-f33b-d21ae1fa9b25"
      },
      "outputs": [
        {
          "output_type": "stream",
          "name": "stderr",
          "text": [
            "/usr/local/lib/python3.9/dist-packages/ipykernel/ipkernel.py:283: DeprecationWarning: `should_run_async` will not call `transform_cell` automatically in the future. Please pass the result to `transformed_cell` argument and any exception that happen during thetransform in `preprocessing_exc_tuple` in IPython 7.17 and above.\n",
            "  and should_run_async(code)\n"
          ]
        },
        {
          "output_type": "stream",
          "name": "stdout",
          "text": [
            "CountVectorizer Shape: (15901, 5000)\n"
          ]
        }
      ],
      "source": [
        "#LDA 는 Count기반의 Vectorizer만 적용 \n",
        "count_vectorizer = CountVectorizer(max_df=0.8, max_features=5000, min_df=20, ngram_range=(1,2))\n",
        "    # 20개의 문서 미만으로 등장하는 단어는 제외, 전체의 80% 이상으로 자주 등장하는 단어는 제외, 단어 수(백터 수)는 5000\n",
        "    # bigram도 포함\n",
        "\n",
        "feat_vect = count_vectorizer.fit_transform(tokenized_list)\n",
        "print('CountVectorizer Shape:', feat_vect.shape) #문서의 수, 단어의 수"
      ]
    },
    {
      "cell_type": "markdown",
      "source": [
        "#### topic modeling: LDA"
      ],
      "metadata": {
        "id": "Pwyg0Qyh9IB_"
      }
    },
    {
      "cell_type": "code",
      "execution_count": 140,
      "metadata": {
        "id": "wPXBKpK9clDA",
        "colab": {
          "base_uri": "https://localhost:8080/",
          "height": 131
        },
        "outputId": "6340c52a-961e-4d67-df80-508e14faa8fe"
      },
      "outputs": [
        {
          "output_type": "stream",
          "name": "stderr",
          "text": [
            "/usr/local/lib/python3.9/dist-packages/ipykernel/ipkernel.py:283: DeprecationWarning: `should_run_async` will not call `transform_cell` automatically in the future. Please pass the result to `transformed_cell` argument and any exception that happen during thetransform in `preprocessing_exc_tuple` in IPython 7.17 and above.\n",
            "  and should_run_async(code)\n"
          ]
        },
        {
          "output_type": "execute_result",
          "data": {
            "text/plain": [
              "LatentDirichletAllocation()"
            ],
            "text/html": [
              "<style>#sk-container-id-5 {color: black;background-color: white;}#sk-container-id-5 pre{padding: 0;}#sk-container-id-5 div.sk-toggleable {background-color: white;}#sk-container-id-5 label.sk-toggleable__label {cursor: pointer;display: block;width: 100%;margin-bottom: 0;padding: 0.3em;box-sizing: border-box;text-align: center;}#sk-container-id-5 label.sk-toggleable__label-arrow:before {content: \"▸\";float: left;margin-right: 0.25em;color: #696969;}#sk-container-id-5 label.sk-toggleable__label-arrow:hover:before {color: black;}#sk-container-id-5 div.sk-estimator:hover label.sk-toggleable__label-arrow:before {color: black;}#sk-container-id-5 div.sk-toggleable__content {max-height: 0;max-width: 0;overflow: hidden;text-align: left;background-color: #f0f8ff;}#sk-container-id-5 div.sk-toggleable__content pre {margin: 0.2em;color: black;border-radius: 0.25em;background-color: #f0f8ff;}#sk-container-id-5 input.sk-toggleable__control:checked~div.sk-toggleable__content {max-height: 200px;max-width: 100%;overflow: auto;}#sk-container-id-5 input.sk-toggleable__control:checked~label.sk-toggleable__label-arrow:before {content: \"▾\";}#sk-container-id-5 div.sk-estimator input.sk-toggleable__control:checked~label.sk-toggleable__label {background-color: #d4ebff;}#sk-container-id-5 div.sk-label input.sk-toggleable__control:checked~label.sk-toggleable__label {background-color: #d4ebff;}#sk-container-id-5 input.sk-hidden--visually {border: 0;clip: rect(1px 1px 1px 1px);clip: rect(1px, 1px, 1px, 1px);height: 1px;margin: -1px;overflow: hidden;padding: 0;position: absolute;width: 1px;}#sk-container-id-5 div.sk-estimator {font-family: monospace;background-color: #f0f8ff;border: 1px dotted black;border-radius: 0.25em;box-sizing: border-box;margin-bottom: 0.5em;}#sk-container-id-5 div.sk-estimator:hover {background-color: #d4ebff;}#sk-container-id-5 div.sk-parallel-item::after {content: \"\";width: 100%;border-bottom: 1px solid gray;flex-grow: 1;}#sk-container-id-5 div.sk-label:hover label.sk-toggleable__label {background-color: #d4ebff;}#sk-container-id-5 div.sk-serial::before {content: \"\";position: absolute;border-left: 1px solid gray;box-sizing: border-box;top: 0;bottom: 0;left: 50%;z-index: 0;}#sk-container-id-5 div.sk-serial {display: flex;flex-direction: column;align-items: center;background-color: white;padding-right: 0.2em;padding-left: 0.2em;position: relative;}#sk-container-id-5 div.sk-item {position: relative;z-index: 1;}#sk-container-id-5 div.sk-parallel {display: flex;align-items: stretch;justify-content: center;background-color: white;position: relative;}#sk-container-id-5 div.sk-item::before, #sk-container-id-5 div.sk-parallel-item::before {content: \"\";position: absolute;border-left: 1px solid gray;box-sizing: border-box;top: 0;bottom: 0;left: 50%;z-index: -1;}#sk-container-id-5 div.sk-parallel-item {display: flex;flex-direction: column;z-index: 1;position: relative;background-color: white;}#sk-container-id-5 div.sk-parallel-item:first-child::after {align-self: flex-end;width: 50%;}#sk-container-id-5 div.sk-parallel-item:last-child::after {align-self: flex-start;width: 50%;}#sk-container-id-5 div.sk-parallel-item:only-child::after {width: 0;}#sk-container-id-5 div.sk-dashed-wrapped {border: 1px dashed gray;margin: 0 0.4em 0.5em 0.4em;box-sizing: border-box;padding-bottom: 0.4em;background-color: white;}#sk-container-id-5 div.sk-label label {font-family: monospace;font-weight: bold;display: inline-block;line-height: 1.2em;}#sk-container-id-5 div.sk-label-container {text-align: center;}#sk-container-id-5 div.sk-container {/* jupyter's `normalize.less` sets `[hidden] { display: none; }` but bootstrap.min.css set `[hidden] { display: none !important; }` so we also need the `!important` here to be able to override the default hidden behavior on the sphinx rendered scikit-learn.org. See: https://github.com/scikit-learn/scikit-learn/issues/21755 */display: inline-block !important;position: relative;}#sk-container-id-5 div.sk-text-repr-fallback {display: none;}</style><div id=\"sk-container-id-5\" class=\"sk-top-container\"><div class=\"sk-text-repr-fallback\"><pre>LatentDirichletAllocation()</pre><b>In a Jupyter environment, please rerun this cell to show the HTML representation or trust the notebook. <br />On GitHub, the HTML representation is unable to render, please try loading this page with nbviewer.org.</b></div><div class=\"sk-container\" hidden><div class=\"sk-item\"><div class=\"sk-estimator sk-toggleable\"><input class=\"sk-toggleable__control sk-hidden--visually\" id=\"sk-estimator-id-5\" type=\"checkbox\" checked><label for=\"sk-estimator-id-5\" class=\"sk-toggleable__label sk-toggleable__label-arrow\">LatentDirichletAllocation</label><div class=\"sk-toggleable__content\"><pre>LatentDirichletAllocation()</pre></div></div></div></div></div>"
            ]
          },
          "metadata": {},
          "execution_count": 140
        }
      ],
      "source": [
        "lda = LatentDirichletAllocation(n_components=10)  # 토픽 수는 10개로 설정\n",
        "lda.fit(feat_vect)"
      ]
    },
    {
      "cell_type": "markdown",
      "source": [
        "#### 토픽별 연관어 출력"
      ],
      "metadata": {
        "id": "J2LKRC8t9MQg"
      }
    },
    {
      "cell_type": "code",
      "execution_count": 141,
      "metadata": {
        "id": "tqb5M4D6cq1Z",
        "colab": {
          "base_uri": "https://localhost:8080/"
        },
        "outputId": "a1757f06-32c4-400b-e0f8-184374763466"
      },
      "outputs": [
        {
          "output_type": "stream",
          "name": "stdout",
          "text": [
            "Topic # 0\n",
            "매출 지난해 대비 시장 증가 사업 기록 영업 이익 성장\n",
            "Topic # 1\n",
            "기술 기업 데이터 사업 지원 디지털 서비스 개발 클라우드 솔루션\n",
            "Topic # 2\n",
            "전자 갤럭시 제품 23 삼성 고객 lg 스마트폰 출시 시리즈\n",
            "Topic # 3\n",
            "lg 로봇 서비스 기술 유플러스 lg 유플러스 통신 sk 버스 고객\n",
            "Topic # 4\n",
            "서비스 자산 금융 정보 카카오 개인정보 거래 가상 대한 체인\n",
            "Topic # 5\n",
            "게임 콘텐츠 진행 다양한 대표 밝혔다 예정 이번 개발 제공\n",
            "Topic # 6\n",
            "반도체 투자 기업 산업 미국 생산 기술 sk 중국 한국\n",
            "Topic # 7\n",
            "kt 대표 카카오 후보 경영 sm 대표이사 사장 주주 이사회\n",
            "Topic # 8\n",
            "연구 치료 개발 환자 의료 바이오 교수 결과 병원 됐다\n",
            "Topic # 9\n",
            "ai gpt 인공 지능 인공 지능 서비스 구글 기술 검색 모델\n"
          ]
        },
        {
          "output_type": "stream",
          "name": "stderr",
          "text": [
            "/usr/local/lib/python3.9/dist-packages/ipykernel/ipkernel.py:283: DeprecationWarning: `should_run_async` will not call `transform_cell` automatically in the future. Please pass the result to `transformed_cell` argument and any exception that happen during thetransform in `preprocessing_exc_tuple` in IPython 7.17 and above.\n",
            "  and should_run_async(code)\n"
          ]
        }
      ],
      "source": [
        "def display_topics(model, feature_names, num_top_words):\n",
        "    for topic_index, topic in enumerate(model.components_):\n",
        "        print('Topic #', topic_index)\n",
        "\n",
        "        # components_ array에서 가장 값이 큰 순으로 정렬했을 때, 그 값의 array index를 반환. \n",
        "        topic_word_indexes = topic.argsort()[::-1]\n",
        "        top_indexes=topic_word_indexes[:num_top_words]\n",
        "        \n",
        "        # top_indexes대상인 index별로 feature_names에 해당하는 word feature 추출 후 join으로 concat\n",
        "        feature_concat = ' '.join([feature_names[i] for i in top_indexes])                \n",
        "        print(feature_concat)\n",
        "\n",
        "# CountVectorizer객체내의 전체 word들의 명칭을 get_features_names_out()를 통해 추출\n",
        "feature_names = count_vectorizer.get_feature_names_out()\n",
        "\n",
        "# Topic별 가장 연관도가 높은 word를 10개만 추출\n",
        "display_topics(lda, feature_names, 10)"
      ]
    },
    {
      "cell_type": "markdown",
      "source": [
        "### LDA 시각화"
      ],
      "metadata": {
        "id": "nwcnguNiDLWx"
      }
    },
    {
      "cell_type": "code",
      "execution_count": 104,
      "metadata": {
        "id": "fb-ZFuDAcq-i"
      },
      "outputs": [],
      "source": [
        "!pip install pyLDAvis # pyLDAvis 라이브러리를 이용한 시각화 "
      ]
    },
    {
      "cell_type": "code",
      "execution_count": null,
      "metadata": {
        "id": "39FWqVkHcrD3"
      },
      "outputs": [],
      "source": [
        "import pyLDAvis.sklearn  # sklearn의 ldamodel에 최적화된 라이브러리\n",
        "\n",
        "pyLDAvis.enable_notebook()\n",
        "vis = pyLDAvis.sklearn.prepare(lda, feat_vect, count_vectorizer.get_feature_names_out())\n",
        "pyLDAvis.display(vis) "
      ]
    },
    {
      "cell_type": "code",
      "source": [
        "pyLDAvis.show(vis) "
      ],
      "metadata": {
        "id": "d0MWsGlie-0D"
      },
      "execution_count": null,
      "outputs": []
    },
    {
      "cell_type": "markdown",
      "source": [
        "### 문서별 토픽 할당"
      ],
      "metadata": {
        "id": "HUabGKqKDTu4"
      }
    },
    {
      "cell_type": "markdown",
      "source": [
        "#### 1. 각 문서별로 가장 가까운 topic으로 할당"
      ],
      "metadata": {
        "id": "0BBjOgw0---V"
      }
    },
    {
      "cell_type": "code",
      "source": [
        "# 문서별로, 가장 확률이 높은 topic으로 할당해줌 \n",
        "doc_topic = lda.transform(feat_vect)\n",
        "\n",
        "doc_per_topic_list = []\n",
        "for n in range(doc_topic.shape[0]):\n",
        "    topic_most_pr = doc_topic[n].argmax()\n",
        "    topic_pr = doc_topic[n].max()\n",
        "    doc_per_topic_list.append([n, topic_most_pr, topic_pr])\n",
        "    \n",
        "doc_topic_df = pd.DataFrame(doc_per_topic_list, columns=['Doc_Num', 'Topic', 'Percentage'])\n",
        "\n",
        "doc_topic_df.head()"
      ],
      "metadata": {
        "colab": {
          "base_uri": "https://localhost:8080/",
          "height": 263
        },
        "id": "xJ9bM5Po7M22",
        "outputId": "f2ee62e8-8509-4162-ebe2-bd9a6751b3ea"
      },
      "execution_count": 142,
      "outputs": [
        {
          "output_type": "stream",
          "name": "stderr",
          "text": [
            "/usr/local/lib/python3.9/dist-packages/ipykernel/ipkernel.py:283: DeprecationWarning: `should_run_async` will not call `transform_cell` automatically in the future. Please pass the result to `transformed_cell` argument and any exception that happen during thetransform in `preprocessing_exc_tuple` in IPython 7.17 and above.\n",
            "  and should_run_async(code)\n"
          ]
        },
        {
          "output_type": "execute_result",
          "data": {
            "text/plain": [
              "   Doc_Num  Topic  Percentage\n",
              "0        0      6    0.835958\n",
              "1        1      6    0.761948\n",
              "2        2      6    0.797824\n",
              "3        3      9    0.975848\n",
              "4        4      6    0.802876"
            ],
            "text/html": [
              "\n",
              "  <div id=\"df-6e3b4ed4-2384-4964-a2e6-49277d037005\">\n",
              "    <div class=\"colab-df-container\">\n",
              "      <div>\n",
              "<style scoped>\n",
              "    .dataframe tbody tr th:only-of-type {\n",
              "        vertical-align: middle;\n",
              "    }\n",
              "\n",
              "    .dataframe tbody tr th {\n",
              "        vertical-align: top;\n",
              "    }\n",
              "\n",
              "    .dataframe thead th {\n",
              "        text-align: right;\n",
              "    }\n",
              "</style>\n",
              "<table border=\"1\" class=\"dataframe\">\n",
              "  <thead>\n",
              "    <tr style=\"text-align: right;\">\n",
              "      <th></th>\n",
              "      <th>Doc_Num</th>\n",
              "      <th>Topic</th>\n",
              "      <th>Percentage</th>\n",
              "    </tr>\n",
              "  </thead>\n",
              "  <tbody>\n",
              "    <tr>\n",
              "      <th>0</th>\n",
              "      <td>0</td>\n",
              "      <td>6</td>\n",
              "      <td>0.835958</td>\n",
              "    </tr>\n",
              "    <tr>\n",
              "      <th>1</th>\n",
              "      <td>1</td>\n",
              "      <td>6</td>\n",
              "      <td>0.761948</td>\n",
              "    </tr>\n",
              "    <tr>\n",
              "      <th>2</th>\n",
              "      <td>2</td>\n",
              "      <td>6</td>\n",
              "      <td>0.797824</td>\n",
              "    </tr>\n",
              "    <tr>\n",
              "      <th>3</th>\n",
              "      <td>3</td>\n",
              "      <td>9</td>\n",
              "      <td>0.975848</td>\n",
              "    </tr>\n",
              "    <tr>\n",
              "      <th>4</th>\n",
              "      <td>4</td>\n",
              "      <td>6</td>\n",
              "      <td>0.802876</td>\n",
              "    </tr>\n",
              "  </tbody>\n",
              "</table>\n",
              "</div>\n",
              "      <button class=\"colab-df-convert\" onclick=\"convertToInteractive('df-6e3b4ed4-2384-4964-a2e6-49277d037005')\"\n",
              "              title=\"Convert this dataframe to an interactive table.\"\n",
              "              style=\"display:none;\">\n",
              "        \n",
              "  <svg xmlns=\"http://www.w3.org/2000/svg\" height=\"24px\"viewBox=\"0 0 24 24\"\n",
              "       width=\"24px\">\n",
              "    <path d=\"M0 0h24v24H0V0z\" fill=\"none\"/>\n",
              "    <path d=\"M18.56 5.44l.94 2.06.94-2.06 2.06-.94-2.06-.94-.94-2.06-.94 2.06-2.06.94zm-11 1L8.5 8.5l.94-2.06 2.06-.94-2.06-.94L8.5 2.5l-.94 2.06-2.06.94zm10 10l.94 2.06.94-2.06 2.06-.94-2.06-.94-.94-2.06-.94 2.06-2.06.94z\"/><path d=\"M17.41 7.96l-1.37-1.37c-.4-.4-.92-.59-1.43-.59-.52 0-1.04.2-1.43.59L10.3 9.45l-7.72 7.72c-.78.78-.78 2.05 0 2.83L4 21.41c.39.39.9.59 1.41.59.51 0 1.02-.2 1.41-.59l7.78-7.78 2.81-2.81c.8-.78.8-2.07 0-2.86zM5.41 20L4 18.59l7.72-7.72 1.47 1.35L5.41 20z\"/>\n",
              "  </svg>\n",
              "      </button>\n",
              "      \n",
              "  <style>\n",
              "    .colab-df-container {\n",
              "      display:flex;\n",
              "      flex-wrap:wrap;\n",
              "      gap: 12px;\n",
              "    }\n",
              "\n",
              "    .colab-df-convert {\n",
              "      background-color: #E8F0FE;\n",
              "      border: none;\n",
              "      border-radius: 50%;\n",
              "      cursor: pointer;\n",
              "      display: none;\n",
              "      fill: #1967D2;\n",
              "      height: 32px;\n",
              "      padding: 0 0 0 0;\n",
              "      width: 32px;\n",
              "    }\n",
              "\n",
              "    .colab-df-convert:hover {\n",
              "      background-color: #E2EBFA;\n",
              "      box-shadow: 0px 1px 2px rgba(60, 64, 67, 0.3), 0px 1px 3px 1px rgba(60, 64, 67, 0.15);\n",
              "      fill: #174EA6;\n",
              "    }\n",
              "\n",
              "    [theme=dark] .colab-df-convert {\n",
              "      background-color: #3B4455;\n",
              "      fill: #D2E3FC;\n",
              "    }\n",
              "\n",
              "    [theme=dark] .colab-df-convert:hover {\n",
              "      background-color: #434B5C;\n",
              "      box-shadow: 0px 1px 3px 1px rgba(0, 0, 0, 0.15);\n",
              "      filter: drop-shadow(0px 1px 2px rgba(0, 0, 0, 0.3));\n",
              "      fill: #FFFFFF;\n",
              "    }\n",
              "  </style>\n",
              "\n",
              "      <script>\n",
              "        const buttonEl =\n",
              "          document.querySelector('#df-6e3b4ed4-2384-4964-a2e6-49277d037005 button.colab-df-convert');\n",
              "        buttonEl.style.display =\n",
              "          google.colab.kernel.accessAllowed ? 'block' : 'none';\n",
              "\n",
              "        async function convertToInteractive(key) {\n",
              "          const element = document.querySelector('#df-6e3b4ed4-2384-4964-a2e6-49277d037005');\n",
              "          const dataTable =\n",
              "            await google.colab.kernel.invokeFunction('convertToInteractive',\n",
              "                                                     [key], {});\n",
              "          if (!dataTable) return;\n",
              "\n",
              "          const docLinkHtml = 'Like what you see? Visit the ' +\n",
              "            '<a target=\"_blank\" href=https://colab.research.google.com/notebooks/data_table.ipynb>data table notebook</a>'\n",
              "            + ' to learn more about interactive tables.';\n",
              "          element.innerHTML = '';\n",
              "          dataTable['output_type'] = 'display_data';\n",
              "          await google.colab.output.renderOutput(dataTable, element);\n",
              "          const docLink = document.createElement('div');\n",
              "          docLink.innerHTML = docLinkHtml;\n",
              "          element.appendChild(docLink);\n",
              "        }\n",
              "      </script>\n",
              "    </div>\n",
              "  </div>\n",
              "  "
            ]
          },
          "metadata": {},
          "execution_count": 142
        }
      ]
    },
    {
      "cell_type": "code",
      "source": [
        "doc_topic_df = doc_topic_df.join(news)\n",
        "doc_topic_df.head() #실제 뉴스기사와 join"
      ],
      "metadata": {
        "colab": {
          "base_uri": "https://localhost:8080/",
          "height": 706
        },
        "id": "W5EG442J7RAk",
        "outputId": "7b895451-3bf6-498f-d935-abf8e53a4fec"
      },
      "execution_count": 143,
      "outputs": [
        {
          "output_type": "stream",
          "name": "stderr",
          "text": [
            "/usr/local/lib/python3.9/dist-packages/ipykernel/ipkernel.py:283: DeprecationWarning: `should_run_async` will not call `transform_cell` automatically in the future. Please pass the result to `transformed_cell` argument and any exception that happen during thetransform in `preprocessing_exc_tuple` in IPython 7.17 and above.\n",
            "  and should_run_async(code)\n"
          ]
        },
        {
          "output_type": "execute_result",
          "data": {
            "text/plain": [
              "   Doc_Num  Topic  Percentage  news_id                               title  \\\n",
              "0        0      6    0.835958   346630  정부, '우주항공청' 연내 개청…백지신탁 예외 등 특혜 쏟는다   \n",
              "1        1      6    0.761948   346633        우주항공청 전문가 영입 `연봉 10억·외국인 허용`   \n",
              "2        2      6    0.797824   347804   박정호의 투자유치 '매직'…\"SK쉴더스 IPO보다 더 이득\"   \n",
              "3        3      9    0.975848   347806       글·그림·로고 제작·번역...인공지능에 다 맡겨 보니   \n",
              "4        4      6    0.802876   347807       LG엔솔-혼다, 美 배터리 공장 '첫삽'…기공식 개최   \n",
              "\n",
              "  writer                                            content  \\\n",
              "0    NaN  \\n [서울=뉴시스] 정부가 올해 중 우리나라의 우주항공 분야 연구개발(R&D)을 ...   \n",
              "1    이준기  \\n '한국형 NASA(미 항공우주국)'로 출범하는 우주항공청이 최고의 민간 전문가...   \n",
              "2    선한결  \\n \"SK쉴더스의 기업공개(IPO)를 철회해서 아쉬웠는데, IPO보다 더 높은 가...   \n",
              "3    NaN  \\n 최근 텍스트 생성 인공지능(AI) 챗봇 챗GPT(ChatGPT)를 이용해 만든...   \n",
              "4    이한얼  \\n LG에너지솔루션은 28일(현지시간) 오하이오 주 파이에트 카운티 제퍼슨빌 인근...   \n",
              "\n",
              "             writed_at  url main_category sub_category platform  \n",
              "0  2023-03-02 00:00:00  NaN         IT/과학        IT 일반      네이버  \n",
              "1  2023-03-02 00:00:00  NaN         IT/과학        IT 일반      네이버  \n",
              "2  2023-03-01 18:03:05  NaN         IT/과학        IT 일반      네이버  \n",
              "3  2023-03-01 18:02:03  NaN         IT/과학        IT 일반      네이버  \n",
              "4  2023-03-01 18:26:01  NaN         IT/과학        IT 일반      네이버  "
            ],
            "text/html": [
              "\n",
              "  <div id=\"df-d4f036d9-7dd8-45f7-bf75-1b2d194b79bb\">\n",
              "    <div class=\"colab-df-container\">\n",
              "      <div>\n",
              "<style scoped>\n",
              "    .dataframe tbody tr th:only-of-type {\n",
              "        vertical-align: middle;\n",
              "    }\n",
              "\n",
              "    .dataframe tbody tr th {\n",
              "        vertical-align: top;\n",
              "    }\n",
              "\n",
              "    .dataframe thead th {\n",
              "        text-align: right;\n",
              "    }\n",
              "</style>\n",
              "<table border=\"1\" class=\"dataframe\">\n",
              "  <thead>\n",
              "    <tr style=\"text-align: right;\">\n",
              "      <th></th>\n",
              "      <th>Doc_Num</th>\n",
              "      <th>Topic</th>\n",
              "      <th>Percentage</th>\n",
              "      <th>news_id</th>\n",
              "      <th>title</th>\n",
              "      <th>writer</th>\n",
              "      <th>content</th>\n",
              "      <th>writed_at</th>\n",
              "      <th>url</th>\n",
              "      <th>main_category</th>\n",
              "      <th>sub_category</th>\n",
              "      <th>platform</th>\n",
              "    </tr>\n",
              "  </thead>\n",
              "  <tbody>\n",
              "    <tr>\n",
              "      <th>0</th>\n",
              "      <td>0</td>\n",
              "      <td>6</td>\n",
              "      <td>0.835958</td>\n",
              "      <td>346630</td>\n",
              "      <td>정부, '우주항공청' 연내 개청…백지신탁 예외 등 특혜 쏟는다</td>\n",
              "      <td>NaN</td>\n",
              "      <td>\\n [서울=뉴시스] 정부가 올해 중 우리나라의 우주항공 분야 연구개발(R&amp;D)을 ...</td>\n",
              "      <td>2023-03-02 00:00:00</td>\n",
              "      <td>NaN</td>\n",
              "      <td>IT/과학</td>\n",
              "      <td>IT 일반</td>\n",
              "      <td>네이버</td>\n",
              "    </tr>\n",
              "    <tr>\n",
              "      <th>1</th>\n",
              "      <td>1</td>\n",
              "      <td>6</td>\n",
              "      <td>0.761948</td>\n",
              "      <td>346633</td>\n",
              "      <td>우주항공청 전문가 영입 `연봉 10억·외국인 허용`</td>\n",
              "      <td>이준기</td>\n",
              "      <td>\\n '한국형 NASA(미 항공우주국)'로 출범하는 우주항공청이 최고의 민간 전문가...</td>\n",
              "      <td>2023-03-02 00:00:00</td>\n",
              "      <td>NaN</td>\n",
              "      <td>IT/과학</td>\n",
              "      <td>IT 일반</td>\n",
              "      <td>네이버</td>\n",
              "    </tr>\n",
              "    <tr>\n",
              "      <th>2</th>\n",
              "      <td>2</td>\n",
              "      <td>6</td>\n",
              "      <td>0.797824</td>\n",
              "      <td>347804</td>\n",
              "      <td>박정호의 투자유치 '매직'…\"SK쉴더스 IPO보다 더 이득\"</td>\n",
              "      <td>선한결</td>\n",
              "      <td>\\n \"SK쉴더스의 기업공개(IPO)를 철회해서 아쉬웠는데, IPO보다 더 높은 가...</td>\n",
              "      <td>2023-03-01 18:03:05</td>\n",
              "      <td>NaN</td>\n",
              "      <td>IT/과학</td>\n",
              "      <td>IT 일반</td>\n",
              "      <td>네이버</td>\n",
              "    </tr>\n",
              "    <tr>\n",
              "      <th>3</th>\n",
              "      <td>3</td>\n",
              "      <td>9</td>\n",
              "      <td>0.975848</td>\n",
              "      <td>347806</td>\n",
              "      <td>글·그림·로고 제작·번역...인공지능에 다 맡겨 보니</td>\n",
              "      <td>NaN</td>\n",
              "      <td>\\n 최근 텍스트 생성 인공지능(AI) 챗봇 챗GPT(ChatGPT)를 이용해 만든...</td>\n",
              "      <td>2023-03-01 18:02:03</td>\n",
              "      <td>NaN</td>\n",
              "      <td>IT/과학</td>\n",
              "      <td>IT 일반</td>\n",
              "      <td>네이버</td>\n",
              "    </tr>\n",
              "    <tr>\n",
              "      <th>4</th>\n",
              "      <td>4</td>\n",
              "      <td>6</td>\n",
              "      <td>0.802876</td>\n",
              "      <td>347807</td>\n",
              "      <td>LG엔솔-혼다, 美 배터리 공장 '첫삽'…기공식 개최</td>\n",
              "      <td>이한얼</td>\n",
              "      <td>\\n LG에너지솔루션은 28일(현지시간) 오하이오 주 파이에트 카운티 제퍼슨빌 인근...</td>\n",
              "      <td>2023-03-01 18:26:01</td>\n",
              "      <td>NaN</td>\n",
              "      <td>IT/과학</td>\n",
              "      <td>IT 일반</td>\n",
              "      <td>네이버</td>\n",
              "    </tr>\n",
              "  </tbody>\n",
              "</table>\n",
              "</div>\n",
              "      <button class=\"colab-df-convert\" onclick=\"convertToInteractive('df-d4f036d9-7dd8-45f7-bf75-1b2d194b79bb')\"\n",
              "              title=\"Convert this dataframe to an interactive table.\"\n",
              "              style=\"display:none;\">\n",
              "        \n",
              "  <svg xmlns=\"http://www.w3.org/2000/svg\" height=\"24px\"viewBox=\"0 0 24 24\"\n",
              "       width=\"24px\">\n",
              "    <path d=\"M0 0h24v24H0V0z\" fill=\"none\"/>\n",
              "    <path d=\"M18.56 5.44l.94 2.06.94-2.06 2.06-.94-2.06-.94-.94-2.06-.94 2.06-2.06.94zm-11 1L8.5 8.5l.94-2.06 2.06-.94-2.06-.94L8.5 2.5l-.94 2.06-2.06.94zm10 10l.94 2.06.94-2.06 2.06-.94-2.06-.94-.94-2.06-.94 2.06-2.06.94z\"/><path d=\"M17.41 7.96l-1.37-1.37c-.4-.4-.92-.59-1.43-.59-.52 0-1.04.2-1.43.59L10.3 9.45l-7.72 7.72c-.78.78-.78 2.05 0 2.83L4 21.41c.39.39.9.59 1.41.59.51 0 1.02-.2 1.41-.59l7.78-7.78 2.81-2.81c.8-.78.8-2.07 0-2.86zM5.41 20L4 18.59l7.72-7.72 1.47 1.35L5.41 20z\"/>\n",
              "  </svg>\n",
              "      </button>\n",
              "      \n",
              "  <style>\n",
              "    .colab-df-container {\n",
              "      display:flex;\n",
              "      flex-wrap:wrap;\n",
              "      gap: 12px;\n",
              "    }\n",
              "\n",
              "    .colab-df-convert {\n",
              "      background-color: #E8F0FE;\n",
              "      border: none;\n",
              "      border-radius: 50%;\n",
              "      cursor: pointer;\n",
              "      display: none;\n",
              "      fill: #1967D2;\n",
              "      height: 32px;\n",
              "      padding: 0 0 0 0;\n",
              "      width: 32px;\n",
              "    }\n",
              "\n",
              "    .colab-df-convert:hover {\n",
              "      background-color: #E2EBFA;\n",
              "      box-shadow: 0px 1px 2px rgba(60, 64, 67, 0.3), 0px 1px 3px 1px rgba(60, 64, 67, 0.15);\n",
              "      fill: #174EA6;\n",
              "    }\n",
              "\n",
              "    [theme=dark] .colab-df-convert {\n",
              "      background-color: #3B4455;\n",
              "      fill: #D2E3FC;\n",
              "    }\n",
              "\n",
              "    [theme=dark] .colab-df-convert:hover {\n",
              "      background-color: #434B5C;\n",
              "      box-shadow: 0px 1px 3px 1px rgba(0, 0, 0, 0.15);\n",
              "      filter: drop-shadow(0px 1px 2px rgba(0, 0, 0, 0.3));\n",
              "      fill: #FFFFFF;\n",
              "    }\n",
              "  </style>\n",
              "\n",
              "      <script>\n",
              "        const buttonEl =\n",
              "          document.querySelector('#df-d4f036d9-7dd8-45f7-bf75-1b2d194b79bb button.colab-df-convert');\n",
              "        buttonEl.style.display =\n",
              "          google.colab.kernel.accessAllowed ? 'block' : 'none';\n",
              "\n",
              "        async function convertToInteractive(key) {\n",
              "          const element = document.querySelector('#df-d4f036d9-7dd8-45f7-bf75-1b2d194b79bb');\n",
              "          const dataTable =\n",
              "            await google.colab.kernel.invokeFunction('convertToInteractive',\n",
              "                                                     [key], {});\n",
              "          if (!dataTable) return;\n",
              "\n",
              "          const docLinkHtml = 'Like what you see? Visit the ' +\n",
              "            '<a target=\"_blank\" href=https://colab.research.google.com/notebooks/data_table.ipynb>data table notebook</a>'\n",
              "            + ' to learn more about interactive tables.';\n",
              "          element.innerHTML = '';\n",
              "          dataTable['output_type'] = 'display_data';\n",
              "          await google.colab.output.renderOutput(dataTable, element);\n",
              "          const docLink = document.createElement('div');\n",
              "          docLink.innerHTML = docLinkHtml;\n",
              "          element.appendChild(docLink);\n",
              "        }\n",
              "      </script>\n",
              "    </div>\n",
              "  </div>\n",
              "  "
            ]
          },
          "metadata": {},
          "execution_count": 143
        }
      ]
    },
    {
      "cell_type": "markdown",
      "source": [
        "#### 2. 토픽별 문서 수 계산"
      ],
      "metadata": {
        "id": "zS-k8oWM_aQO"
      }
    },
    {
      "cell_type": "code",
      "source": [
        "doc_topic_df.groupby('Topic')[['Doc_Num']].count()"
      ],
      "metadata": {
        "colab": {
          "base_uri": "https://localhost:8080/",
          "height": 451
        },
        "id": "Jg3FKQ8w7Zar",
        "outputId": "c3e93658-1c22-43b5-e4de-92834721adc3"
      },
      "execution_count": 144,
      "outputs": [
        {
          "output_type": "stream",
          "name": "stderr",
          "text": [
            "/usr/local/lib/python3.9/dist-packages/ipykernel/ipkernel.py:283: DeprecationWarning: `should_run_async` will not call `transform_cell` automatically in the future. Please pass the result to `transformed_cell` argument and any exception that happen during thetransform in `preprocessing_exc_tuple` in IPython 7.17 and above.\n",
            "  and should_run_async(code)\n"
          ]
        },
        {
          "output_type": "execute_result",
          "data": {
            "text/plain": [
              "       Doc_Num\n",
              "Topic         \n",
              "0         1244\n",
              "1         3172\n",
              "2         1365\n",
              "3         1158\n",
              "4         1654\n",
              "5         1953\n",
              "6         1556\n",
              "7          800\n",
              "8         1553\n",
              "9         1446"
            ],
            "text/html": [
              "\n",
              "  <div id=\"df-ed8f7d79-427a-4e6a-b545-a53eea18f9f2\">\n",
              "    <div class=\"colab-df-container\">\n",
              "      <div>\n",
              "<style scoped>\n",
              "    .dataframe tbody tr th:only-of-type {\n",
              "        vertical-align: middle;\n",
              "    }\n",
              "\n",
              "    .dataframe tbody tr th {\n",
              "        vertical-align: top;\n",
              "    }\n",
              "\n",
              "    .dataframe thead th {\n",
              "        text-align: right;\n",
              "    }\n",
              "</style>\n",
              "<table border=\"1\" class=\"dataframe\">\n",
              "  <thead>\n",
              "    <tr style=\"text-align: right;\">\n",
              "      <th></th>\n",
              "      <th>Doc_Num</th>\n",
              "    </tr>\n",
              "    <tr>\n",
              "      <th>Topic</th>\n",
              "      <th></th>\n",
              "    </tr>\n",
              "  </thead>\n",
              "  <tbody>\n",
              "    <tr>\n",
              "      <th>0</th>\n",
              "      <td>1244</td>\n",
              "    </tr>\n",
              "    <tr>\n",
              "      <th>1</th>\n",
              "      <td>3172</td>\n",
              "    </tr>\n",
              "    <tr>\n",
              "      <th>2</th>\n",
              "      <td>1365</td>\n",
              "    </tr>\n",
              "    <tr>\n",
              "      <th>3</th>\n",
              "      <td>1158</td>\n",
              "    </tr>\n",
              "    <tr>\n",
              "      <th>4</th>\n",
              "      <td>1654</td>\n",
              "    </tr>\n",
              "    <tr>\n",
              "      <th>5</th>\n",
              "      <td>1953</td>\n",
              "    </tr>\n",
              "    <tr>\n",
              "      <th>6</th>\n",
              "      <td>1556</td>\n",
              "    </tr>\n",
              "    <tr>\n",
              "      <th>7</th>\n",
              "      <td>800</td>\n",
              "    </tr>\n",
              "    <tr>\n",
              "      <th>8</th>\n",
              "      <td>1553</td>\n",
              "    </tr>\n",
              "    <tr>\n",
              "      <th>9</th>\n",
              "      <td>1446</td>\n",
              "    </tr>\n",
              "  </tbody>\n",
              "</table>\n",
              "</div>\n",
              "      <button class=\"colab-df-convert\" onclick=\"convertToInteractive('df-ed8f7d79-427a-4e6a-b545-a53eea18f9f2')\"\n",
              "              title=\"Convert this dataframe to an interactive table.\"\n",
              "              style=\"display:none;\">\n",
              "        \n",
              "  <svg xmlns=\"http://www.w3.org/2000/svg\" height=\"24px\"viewBox=\"0 0 24 24\"\n",
              "       width=\"24px\">\n",
              "    <path d=\"M0 0h24v24H0V0z\" fill=\"none\"/>\n",
              "    <path d=\"M18.56 5.44l.94 2.06.94-2.06 2.06-.94-2.06-.94-.94-2.06-.94 2.06-2.06.94zm-11 1L8.5 8.5l.94-2.06 2.06-.94-2.06-.94L8.5 2.5l-.94 2.06-2.06.94zm10 10l.94 2.06.94-2.06 2.06-.94-2.06-.94-.94-2.06-.94 2.06-2.06.94z\"/><path d=\"M17.41 7.96l-1.37-1.37c-.4-.4-.92-.59-1.43-.59-.52 0-1.04.2-1.43.59L10.3 9.45l-7.72 7.72c-.78.78-.78 2.05 0 2.83L4 21.41c.39.39.9.59 1.41.59.51 0 1.02-.2 1.41-.59l7.78-7.78 2.81-2.81c.8-.78.8-2.07 0-2.86zM5.41 20L4 18.59l7.72-7.72 1.47 1.35L5.41 20z\"/>\n",
              "  </svg>\n",
              "      </button>\n",
              "      \n",
              "  <style>\n",
              "    .colab-df-container {\n",
              "      display:flex;\n",
              "      flex-wrap:wrap;\n",
              "      gap: 12px;\n",
              "    }\n",
              "\n",
              "    .colab-df-convert {\n",
              "      background-color: #E8F0FE;\n",
              "      border: none;\n",
              "      border-radius: 50%;\n",
              "      cursor: pointer;\n",
              "      display: none;\n",
              "      fill: #1967D2;\n",
              "      height: 32px;\n",
              "      padding: 0 0 0 0;\n",
              "      width: 32px;\n",
              "    }\n",
              "\n",
              "    .colab-df-convert:hover {\n",
              "      background-color: #E2EBFA;\n",
              "      box-shadow: 0px 1px 2px rgba(60, 64, 67, 0.3), 0px 1px 3px 1px rgba(60, 64, 67, 0.15);\n",
              "      fill: #174EA6;\n",
              "    }\n",
              "\n",
              "    [theme=dark] .colab-df-convert {\n",
              "      background-color: #3B4455;\n",
              "      fill: #D2E3FC;\n",
              "    }\n",
              "\n",
              "    [theme=dark] .colab-df-convert:hover {\n",
              "      background-color: #434B5C;\n",
              "      box-shadow: 0px 1px 3px 1px rgba(0, 0, 0, 0.15);\n",
              "      filter: drop-shadow(0px 1px 2px rgba(0, 0, 0, 0.3));\n",
              "      fill: #FFFFFF;\n",
              "    }\n",
              "  </style>\n",
              "\n",
              "      <script>\n",
              "        const buttonEl =\n",
              "          document.querySelector('#df-ed8f7d79-427a-4e6a-b545-a53eea18f9f2 button.colab-df-convert');\n",
              "        buttonEl.style.display =\n",
              "          google.colab.kernel.accessAllowed ? 'block' : 'none';\n",
              "\n",
              "        async function convertToInteractive(key) {\n",
              "          const element = document.querySelector('#df-ed8f7d79-427a-4e6a-b545-a53eea18f9f2');\n",
              "          const dataTable =\n",
              "            await google.colab.kernel.invokeFunction('convertToInteractive',\n",
              "                                                     [key], {});\n",
              "          if (!dataTable) return;\n",
              "\n",
              "          const docLinkHtml = 'Like what you see? Visit the ' +\n",
              "            '<a target=\"_blank\" href=https://colab.research.google.com/notebooks/data_table.ipynb>data table notebook</a>'\n",
              "            + ' to learn more about interactive tables.';\n",
              "          element.innerHTML = '';\n",
              "          dataTable['output_type'] = 'display_data';\n",
              "          await google.colab.output.renderOutput(dataTable, element);\n",
              "          const docLink = document.createElement('div');\n",
              "          docLink.innerHTML = docLinkHtml;\n",
              "          element.appendChild(docLink);\n",
              "        }\n",
              "      </script>\n",
              "    </div>\n",
              "  </div>\n",
              "  "
            ]
          },
          "metadata": {},
          "execution_count": 144
        }
      ]
    },
    {
      "cell_type": "markdown",
      "source": [
        "#### 3. 토픽별로, 가장 높은 확률로 할당된 문서 top1 확인(이걸로 메인 뉴스 뽑기)"
      ],
      "metadata": {
        "id": "OBj55nrb_sGV"
      }
    },
    {
      "cell_type": "code",
      "source": [
        "for topic in range(len(doc_topic_df['Topic'].unique())):\n",
        "    print('Topic #', topic, '-----------------------------')\n",
        "    top_pr_topics = doc_topic_df[doc_topic_df['Topic'] == topic].sort_values(by='Percentage', ascending=False)\n",
        "    print(top_pr_topics['content'].iloc[0])\n",
        "    print(top_pr_topics['content'].iloc[1])\n",
        "    print(top_pr_topics['content'].iloc[2], '\\n')"
      ],
      "metadata": {
        "colab": {
          "base_uri": "https://localhost:8080/"
        },
        "id": "-fy0WruM7f97",
        "outputId": "9ae16a08-6425-4ac5-d4a3-a2557b2b40a6"
      },
      "execution_count": 145,
      "outputs": [
        {
          "output_type": "stream",
          "name": "stdout",
          "text": [
            "Topic # 0 -----------------------------\n",
            "\n",
            " 쿠팡이 지난해 4분기 최대 분기 매출, 지난 3분기에 이은 연속 흑자를 달성하며 '계획된 적자' 전략을 입증했다. 국내 이커머스 사업자 지위를 공고히한 쿠팡은 향후 온·오프라인 통합 유통 시장에서도 선두를 확보하겠다는 포부다. 쿠팡은 지난해 4분기 매출 7조2천404억원(53억2천677만 달러), 영업이익 1천133억원(8천340만 달러)을 내며, 2분기 연속 흑자를 달성했다. 글로벌 경기 침체로 인한 소비 심리 위축에도 로켓배송, 로켓프레시 등 서비스 강화로 충성 고객을 확보해 성장세로 이어졌다는 분석이다. 지난해 4분기 와우 멤버십 회원 수는 1천100만명을 기록, 전년 대비 약 200만명 증가했다. 지난해 연매출은 전년 대비 26% 증가한 26조5천917억원(205억8천261만달러·연환율 ), 영업적자는 1천447억원(1억1천201만달러)을 기록했다. 조정 에비타(EBITDA, 상각전 영업이익) 기준으로는 4천925억원(3억8천121만달러)을 기록하며, 올해 연간 흑자 달성 가능성에도 청신호가 켜졌다는 전망이 나온다. 쿠팡은 28일(현지시간) 지난해 4분기 매출 7조2천404억원(53억2천677만달러)을 올렸다고 미국 증권거래위원회(SEC)에 공시했다. 전년 대비 21% 늘어난 수준이다. 분기 매출로는 최초로 7조원을 돌파했다. 4분기 영업이익은 전 분기 대비 9% 증가한 1천133억원(8천340만달러)으로, 지난 3분기 영업익(1천37억원)에 이어 2분기 연속 1천억원대 영업흑자를 거뒀다. 당기순이익은 1천387억원(1억206만달러)로 전 분기 대비 14% 증가했다. 사상 최대 분기 매출과 2분기 연속 영업흑자에 힘입어, 쿠팡은 지난해 26조5천917억원(205억8천261만 달러·연환율 ) 매출을 올렸다. 전년 대비 26% 늘어난 역대 최대 매출을 기록한 것. 지난해 영업적자 규모는 1천447억원(1억1천201만달러)으로, 전년의 1조7천97억원(14억9천396만달러)과 비교해 92% 줄어들었다. 당기순손실은 1천189억원(9천204만 달러)으로, 전년도 1조7천653억원(15억4천259만 달러)과 비교해 93% 감소했다. 조정 에비타(EBITDA·상각전 영업이익) 기준으로는 4천925억원(3억8천121만 달러)으로 흑자 달성에 성공했다. 조정 에비타는 영업 활동만으로 번 실제 사업의 순수 현금흐름을 보는 지표로, 올해 쿠팡 연간 흑자 달성 가능성도 점쳐진다. 쿠팡이츠, 쿠팡페이, 쿠팡플레이, 해외 사업 등 지난해 신사업 부문 매출은 8천113억원(6억2천802만 달러)로, 1년 전과 비교해 25% 늘어났다. 신사업 연간 조정 에비타 손실은 2천901억원(2억2천462만 달러)로, 전년과 비교해 42% 줄이면서 수익성 개선에 성과를 거뒀다. 전년만 해도 창사 이래 최대 매출을 거두면서도 영업적자도 최고치를 찍으며 지속 성장에 의구심을 받던 쿠팡이 지난해 들어 2개 분기 연속 흑자를 기록, 계획된 적자였음을 입증했다는 분석이다. 이번 실적은 유료 멤버십 락인 효과로 인한 충성고객 확보, 물류 자동화 기술 투자에 따른 결실로 꼽힌다. 쿠팡은 로켓배송, 로켓프레시, 쿠팡플레이 등 와우 멤버십 서비스 혜택 강화에 집중, 지난해 말 기준 1천100만명 회원을 모았다. 와우 멤버십 가입자는 2021년 말 900만 명과 비교해 200만 명이 늘어났다. 제품을 한번이라도 구매한 고객을 의미하는 활성 고객 수는 지난해 말 기준 1천811만5천명으로, 전년 대비 1%, 1인당 고객 매출은 40만원(295달러)으로 4% 증가했다. 아울러 쿠팡은 2010년 창립 이래 물류 인프라 구축에 6조2천억원을 투자, 전국 30개 지역 100여 개 이상 풀필먼트 센터를 완비해뒀다. 나아가 쿠팡은 오는 2024년까지 광주, 대전 등 거점 광역시에 물류센터를 추가로 준공할 계획이다. 온라인 이커머스 시장 선두주자 입지를 확고히한 쿠팡은 향후 오프라인 시장 선점까지 노리겠다는 포부를 밝혔다. 지난해 26조원 매출을 낸 쿠팡이 유통 시장에서 차지하는 비중은 %에 불과, 온오프라인 통합 전체 유통 시장에서 쿠팡의 성장 가능성은 아직 크다는 설명이다. 이날 실적발표 콘퍼런스콜에서 김범석 쿠팡 창업자는 \"지난해 와우 회원은 200만명 증가했는데 이들의 소비액과 구매 빈도는 일반 회원보다 몇 배 더 높았다\"며 \"프로덕트 커머스 부문의 활성고객 수가 전년 대비 5% 증가했다\"고 언급했다. 이어 그는 \"쿠팡의 유통시장 점유율은 아직 한 자릿 수에 불과하다. 대부분 오프라인 중심 유통 시장은 여전히 가격도 높고 상품도 제한적\"이라며 \"고객에게 더 다양한 상품군, 더 낮은 가격, 특별한 서비스를 만들면 향후 수년간 유통시장에서 상당히 성장할 것\"이라고 자신했다. \n",
            " \n",
            "\n",
            " ,쿠팡이 지난해 4분기 최대 분기 매출, 지난 3분기에 이은 연속 흑자를 달성하며 '계획된 적자' 전략을 입증했다. 국내 이커머스 사업자 지위를 공고히한 쿠팡은 향후 온·오프라인 통합 유통 시장에서도 선두를 확보하겠다는 포부다.,쿠팡은 지난해 4분기 매출 7조2천404억원(53억2천677만 달러), 영업이익 1천133억원(8천340만 달러)을 내며, 2분기 연속 흑자를 달성했다. 글로벌 경기 침체로 인한 소비 심리 위축에도 로켓배송, 로켓프레시 등 서비스 강화로 충성 고객을 확보해 성장세로 이어졌다는 분석이다. 지난해 4분기 와우 멤버십 회원 수는 1천100만명을 기록, 전년 대비 약 200만명 증가했다.,지난해 연매출은 전년 대비 26% 증가한 26조5천917억원(205억8천261만달러·연환율 ), 영업적자는 1천447억원(1억1천201만달러)을 기록했다. 조정 에비타(EBITDA, 상각전 영업이익) 기준으로는 4천925억원(3억8천121만달러)을 기록하며, 올해 연간 흑자 달성 가능성에도 청신호가 켜졌다는 전망이 나온다.,쿠팡은 28일(현지시간) 지난해 4분기 매출 7조2천404억원(53억2천677만달러)을 올렸다고 미국 증권거래위원회(SEC)에 공시했다. 전년 대비 21% 늘어난 수준이다. 분기 매출로는 최초로 7조원을 돌파했다.,4분기 영업이익은 전 분기 대비 9% 증가한 1천133억원(8천340만달러)으로, 지난 3분기 영업익(1천37억원)에 이어 2분기 연속 1천억원대 영업흑자를 거뒀다. 당기순이익은 1천387억원(1억206만달러)로 전 분기 대비 14% 증가했다.,사상 최대 분기 매출과 2분기 연속 영업흑자에 힘입어, 쿠팡은 지난해 26조5천917억원(205억8천261만 달러·연환율 ) 매출을 올렸다. 전년 대비 26% 늘어난 역대 최대 매출을 기록한 것. 지난해 영업적자 규모는 1천447억원(1억1천201만달러)으로, 전년의 1조7천97억원(14억9천396만달러)과 비교해 92% 줄어들었다.,당기순손실은 1천189억원(9천204만 달러)으로, 전년도 1조7천653억원(15억4천259만 달러)과 비교해 93% 감소했다. 조정 에비타(EBITDA·상각전 영업이익) 기준으로는 4천925억원(3억8천121만 달러)으로 흑자 달성에 성공했다. 조정 에비타는 영업 활동만으로 번 실제 사업의 순수 현금흐름을 보는 지표로, 올해 쿠팡 연간 흑자 달성 가능성도 점쳐진다.,쿠팡이츠, 쿠팡페이, 쿠팡플레이, 해외 사업 등 지난해 신사업 부문 매출은 8천113억원(6억2천802만 달러)로, 1년 전과 비교해 25% 늘어났다. 신사업 연간 조정 에비타 손실은 2천901억원(2억2천462만 달러)로, 전년과 비교해 42% 줄이면서 수익성 개선에 성과를 거뒀다.,전년만 해도 창사 이래 최대 매출을 거두면서도 영업적자도 최고치를 찍으며 지속 성장에 의구심을 받던 쿠팡이 지난해 들어 2개 분기 연속 흑자를 기록, 계획된 적자였음을 입증했다는 분석이다.,이번 실적은 유료 멤버십 락인 효과로 인한 충성고객 확보, 물류 자동화 기술 투자에 따른 결실로 꼽힌다. 쿠팡은 로켓배송, 로켓프레시, 쿠팡플레이 등 와우 멤버십 서비스 혜택 강화에 집중, 지난해 말 기준 1천100만명 회원을 모았다. 와우 멤버십 가입자는 2021년 말 900만 명과 비교해 200만 명이 늘어났다. 제품을 한번이라도 구매한 고객을 의미하는 활성 고객 수는 지난해 말 기준 1천811만5천명으로, 전년 대비 1%, 1인당 고객 매출은 40만원(295달러)으로 4% 증가했다.,아울러 쿠팡은 2010년 창립 이래 물류 인프라 구축에 6조2천억원을 투자, 전국 30개 지역 100여 개 이상 풀필먼트 센터를 완비해뒀다. 나아가 쿠팡은 오는 2024년까지 광주, 대전 등 거점 광역시에 물류센터를 추가로 준공할 계획이다.,온라인 이커머스 시장 선두주자 입지를 확고히한 쿠팡은 향후 오프라인 시장 선점까지 노리겠다는 포부를 밝혔다. 지난해 26조원 매출을 낸 쿠팡이 유통 시장에서 차지하는 비중은 %에 불과, 온오프라인 통합 전체 유통 시장에서 쿠팡의 성장 가능성은 아직 크다는 설명이다.,이날 실적발표 콘퍼런스콜에서 김범석 쿠팡 창업자는 \"지난해 와우 회원은 200만명 증가했는데 이들의 소비액과 구매 빈도는 일반 회원보다 몇 배 더 높았다\"며 \"프로덕트 커머스 부문의 활성고객 수가 전년 대비 5% 증가했다\"고 언급했다.,이어 그는 \"쿠팡의 유통시장 점유율은 아직 한 자릿 수에 불과하다. 대부분 오프라인 중심 유통 시장은 여전히 가격도 높고 상품도 제한적\"이라며 \"고객에게 더 다양한 상품군, 더 낮은 가격, 특별한 서비스를 만들면 향후 수년간 유통시장에서 상당히 성장할 것\"이라고 자신했다.,\n",
            " \n",
            "\n",
            " 쿠팡이 지난해 2분기 연속 1천억원대 영업이익 흑자를 달성하며 지난해 역대 최대인 26조원대 연 매출을 냈다. 연간 영업적자는 1년 전과 비교해 10분의 1 이하로 줄었다. 쿠팡은 지난해 매출이 전년 대비 26% 증가한 26조5천917억원(205억8천261만달러·연환율 )을 기록했다고 28일(현지시간) 미국 증권거래위원회(SEC)에 공시했다. 지난해 영업적자 규모는 1천447억원(1억1천201만달러)으로, 전년 대비 92% 줄었다. 당기순손실은 1천189억원(9천204만달러)으로, 전년 대비 93% 감소했고, 조정에비타(EBITDA, 상각전 영업이익) 기준 4천925억원(3억8천121만달러) 흑자 달성에 성공했다. 조정 에비타는 영업 활동만으로 번 실제 사업의 순수 현금흐름을 보는 지표다. 쿠팡의 지난해 매출 총이익(매출에서 원가를 뺀 이익)은 6조849억원(47억987만달러)으로, 지난해보다 60% 증가했다. 지난해 4분기 매출은 전년(6조65억원)보다 21% 늘어난 7조2천404억원(53억2천677만달러•분기 환율 )을 기록, 분기 매출 7조원을 넘겼다. 4분기 영업이익은 1천133억원(8천340만달러)으로, 지난 3분기 1천37억원(7천742만 달러)에 이어 2분기 연속 1천억원대 영업흑자를 기록했다. 당기순이익도 처음으로 1억 달러를 돌파하며 1천387억원(1억206만달러)을 올렸다. 4분기 영업이익과 당기순이익은 전분기 대비 각각 9%, 14% 증가했다. 지난 2021년 4분기 각각 영업손실(4천692억원)과 당기순손실(4천791억원)을 기록한 점과 비교해 1년 만에 분기 흑자전환에 성공한 것. 지난해 말 쿠팡의 활성고객(분기에 제품을 한번이라도 산 고객)은 1천811만5천명으로, 전년 대비 1%, 1인당 고객 매출은 40만원(294달러)으로 4% 증가했다. 와우 멤버십 유료 회원 수는 처음으로 1천만명을 돌파, 전년(900만명)과 비교해 200만명 늘어난 1천100만명 기록했다. 쿠팡이츠, 쿠팡페이, 쿠팡플레이, 해외 사업 등 지난해 신사업(developing offering) 매출은 8천113억원(6억2천802만달러)로, 1년 전과 비교해 25% 늘어났다. 신사업의 연간 조정 에비타 손실은 2천901억원(2억2462만달러)로, 전년과 비교해 42% 줄이면서 수익성 개선에 성과가 나타났다. 김범석 쿠팡 창업자는 \"미래 전망이 긍정적이며, 앞으로 오프라인 중심의 방대한 국내 유통 시장에서 차별화한 상품과 고객 서비스를 재공해 전체 유통 시장에서 앞으로 수년간 상당한 성장을 이룰 수 있다\"고 말했다. 이어 \"아직 국내 유통 시장은 오프라인 중심이며 가격도 높고 상품도 제한적\"이라며 \"고객에게 더 다양하고 낮은 가격, 특별한 서비스로 더 좋은 대안을 만들 것이며, 고객이 '와우'할 수 있는 새로운 순간을 선사하겠다\"고 강조했다. 거라브 아난드 쿠팡 최고재무책임자는 \"지난해 1분기 프로덕트 커머스(로켓배송·로켓프레시 등) 부문에 이어 2분기엔 전체 연결 사업의 조정 에비타 흑자를 달성했고, 3분기 당기순이익 흑자에 이어 4분기에도 기록적인 순이익과 매출총이익, 조정 에비타를 달성했다\"면서 \"방대한 유통 시장에서 점유율을 높이는 동시에 고객에게 '와우' 순간을 제공하겠다\"고 덧붙였다. \n",
            "  \n",
            "\n",
            "Topic # 1 -----------------------------\n",
            "\n",
            " , , 네이버는 단국대학교가 진행 중인 혁신공유대학 사업에 참여, 대학 간 원활한 교육 교류가 이뤄지는 장으로서 웨일 스페이스 플랫폼을 활용 및 고도화한다고 1일 밝혔다., , 지난 달 31일 네이버는 단국대학교와 함께 '혁신공유대학사업 통합 플랫폼 고도화를 위한 업무협약'을 체결했다. 2021년부터 정부가 시행중인 '혁신공유대학사업'이란, 디지털 신기술 인재양성을 목표로 여러 대학이 보유한 인적·물적 교육자원을 온·오프라인으로 공유하는 사업이다. ▲바이오헬스 ▲인공지능 ▲차세대반도체 등 총 8개 신기술 분야별로 사업을 주관하는 대학 컨소시엄이 선정돼 진행 중이다. 단국대학교는 바이오헬스 분야의 인재 양성을 주도하고 있다., , 네이버 웨일은 바이오헬스 혁신공유대학사업에 참여중인 대학들이 타교생도 수강할 수 있는 수업을 진행하는 과정서, 자체 에듀테크 플랫폼인 '웨일 스페이스'를 활용해 학생의 학습상황 및 학적이 안전하게 공유될 수 있는 플랫폼을 조성키로 했다. 또, 공유수업 환경에서의 기록이 각 학교의 학사관리 시스템과 원활하게 연동되도록 기술을 제공하고 공유수업에 필요한 다양한 솔루션을 고도화 하면서, 네이버가 가진 AI기술력을 바탕으로 맞춤형 교육분석 기능도 개발해 가기로 했다., , 특히 혁신공유대학사업에 활용될 플랫폼은 학교별로 상이한 학사관리시스템을 안정적으로 연결할 수 있는 호환성과 학생정보가 안전하게 관리될 수 있는 보안성이 요구된다. 웨일은 사업참여자 선정과정서 자체 웹 기술력이 가진 범용성과 네이버의 높은 인프라·소프트웨어 보안수준이 긍정적으로 평가됐다., , 아울러 이번 협약은 웨일 스페이스가 에듀테크 플랫폼으로서의 편리함과 안정성을 인정받고, 초·중·고 교육분야를 넘어 대학교육에서도 본격 활용되는 계기라는 점에서 의미가 있다. 웨일 스페이스는 2021년 출시 후, 교육현장서 필요로 하는 기술을 자체 개발 및 제휴를 통해 빠르게 지원하고 안정적인 서비스 환경을 구현해 현재 전국의 17개 시·도 교육청과 업무협약을 체결해 활용되고 있다. 이번 업무협약을 계기로, 앞으로는 대학교, 대학원 등 교육현장 전반에서의 활용성을 늘려갈 계획이다., , 한편, 혁신공유사업에 활용될 웨일 스페이스에는 교육평가 솔루션을 운영하는 에듀테크 기업 ㈜엔에스데블(대표이사 이언주)도 기술력을 보태기로 했다. 엔에스데블은 각 학교의 학사관리 시스템과 연동되는 평가기술을 제공하며 자사가 보유한 교육 플랫폼 운영 노하우를 바탕으로 최적화된 웨일 스페이스 환경을 구축하는데 도움을 줄 예정이다., , 웨일을 이끄는 김효 이사는 \"미래의 혁신인재를 양성하는 새로운 시도에 웨일이 가진 웹 기술력을 활용해 함께 할 수 있어 기쁘다\"면서 \"웨일은 공교육 현장에서 뜨거운 호응을 받아왔던 자체 안정성과 편리함을 앞세워 대학교육 등 폭넓은 교육현장서 활용되는 기술브랜드로 성장할 것\"이라고 말했다., , 단국대 김장묵 바이오헬스 혁신공유대학사업단장은 \"이번 협약을 통해 미래 핵심 산업분야의 인재양성을 위한 혁신적 공유 플랫폼 개발을 도모할 것\"이라면서 \"나아가 산학연의 연계를 통해 대학교육의 질을 개선하고 지역의 교육불평등을 해소하는데 이바지할 수 있을 것\"이라고 말했다.,\n",
            " \n",
            "\n",
            " ,[서울=뉴시스]윤현성 기자 = 정부가 국가적 기술 난제를 신속하게 해결하기 위해 연구개발(R&D) 전주기에 걸쳐 사업을 이끌어나가는 '책임PM' 중심의 새로운 R&D 체계를 마련한다. 이종호 과학기술정보통신부 장관은 책임PM 중심의 조직이 R&D 분야에서의 '특공대' 같은 역할을 하게 될 것이라고 강조했다.,과기정통부는 9일 서울 과학기술회관 대회의실에서 '한계도전 R&D 프로젝트 킥오프(Kick-off)'를 개최했다. 이날 킥오프는 한계도전 R&D 프로젝트의 시작을 알리는 행사로서, 과기정통부는 한계도전 R&D 프로젝트의 추진계획을 발표했다. ,이어 이정동 서울대학교 교수가 '기술의 혁신을 이끄는 문제출제의 힘'이라는 주제로 강연을 했고, 참석자들과 패널토론, 현장의견 수렴을 통해 과감한 도전을 지원하는 연구개발의 중요성과 필요성에 대해 공유하는 시간을 가졌다.,한계도전 R&D 프로젝트는 도전적 목표 하에 국가적 난제를 신속하게 해결하고, 사회·경제적 패러다임의 변화를 일으키는 변혁적 기술 개발을 유연하게 수행할 수 있도록 '책임PM' 중심의 도전·혁신적 연구개발 체계를 정착시키는 것이 목표다.,책임PM(Program Manager)은 한계도전 R&D 프로젝트의 핵심이다. 기획에만 집중하는 기존 PM과 달리 기획, 선정, 평가, 성과 관리 등 연구개발 전주기에 걸쳐 권한과 책임을 가지고 사업을 이끌어 나가는 역할을 한다.,책임PM은 해당분야의 최고 수준의 연구자로서 융합적 사고를 바탕으로 기술적 혁신을 이끌 수 있는 도전적인 문제를 출제하고, 프로젝트 전반을 컨설팅하며 선정·평가에 있어 주도적으로 결정하도록 할 예정이다.,아울러 과기정통부는 연구개발사업의 연구단계별 전략성도 강화해 나가기로 했다. 기획단계에서는 국가 현안, 경제·사회 이슈와 관련된 기술적 난제 해결을 위한 임무중심형의 테마를 도입하고, 연구수행에 있어서는 책임PM의 주도적 관리 하에 연구방향 수정 등이 유연하게 이루어질 수 있도록 한다는 계획이다.,연구성과 관리에서는 기술의 임팩트를 강화하기 위해 공공과 민간 등의 실수요자가 활용할 수 있도록 후속 연구, 실증·고도화, 제품화 등으로 연계해 지원해 나갈 예정이다. ,한계도전 R&D를 밀착 지원할 수 있도록 한국연구재단 내 전담 지원조직으로 '한계도전 전략센터'도 신설된다. 한계도전 전략센터는 자율성과 독립성을 보장받을 수 있도록 별도 조직으로 만들어진다.,과기정통부는 한계도전 R&D 프로젝트가 하나의 사업에만 국한되는 것이 아니라 새로운 연구개발 혁신 생태계를 만들어간다는 의미로 전담 지원조직 뿐 아니라 한계도전 R&D 훈령 제정 및 매뉴얼 마련 등도 추진하겠다고 강조했다.,이종호 과기정통부 장관은 \"대형 예타사업을 중심으로 한 기존의 연구개발이 큰 항공모함이라고 한다면, 국가적 난제를 신속하게 해결할 수 있도록 기민하게 움직이는 특공대와 같은 연구개발이 반드시 필요하다\"며 \"한계도전 R&D 프로젝트가 특공대와 같은 역할을 해줄 것이라고 기대하고 있으며, 그 역할을 충실히 할 수 있도록 재정적, 제도적으로 적극 지원하겠다\"고 강조했다.,과기정통부는 올해 시범과제를 통해 한계도전 R&D의 기반을 다지고 내년부터 본 사업을 운영해 변혁적 기술 개발과 도전·혁신적 연구개발체계를 완성해 나갈 계획이다., \n",
            " \n",
            "\n",
            " ,한국IT서비스학회(회장 권헌영)가 '2023 내 삶을 꿈꾸게 하는 디지털 지역혁신: 제주'라는 주제로, 오늘(6일) 디지털 지역혁신 제1차 포럼을 열었다고 밝혔다.,지역 균형 발전을 위한 과제 발굴과 디지털 플랫폼 구현을 위해 마련된 '디지털 지역혁신 포럼'은 이날 제주를 시작으로 광주·전남과 강원, 충청, 대구, 부산 등 주요 지역들을 돌며 운영위원회를 구성, 지역의 디지털 혁신과 미래 발전을 위한 민관 협력체계를 구축하고 지역 맞춤형 디지털 전략 수립을 돕는 역할을 한다.,오늘, 내일 이틀 동안 메종글래드제주 크리스탈홀에서 열리는 이번 포럼은 제주특별자치도를 비롯해 한국IT서비스학회와 제주연구원이 공동 주최하고 디지털플랫폼 정부위원회, 행정안전부, 과학기술정보통신부, 한국지역정보개발원, 한국지방행정연구원, 제주대학교, 제주테크노파크 등 주요 정부 부처와 제주도 지역 기관 등 10곳이 공동 후원한다.,이날 행사에서는 기조 강연인 조소영 부산대 교수의 '디지털플랫폼정부 정책과 지역 데이터주권 확보'를 시작으로, 고윤성 제주도 미래성장과장의 '디지털 대전환, 디지털플랫폼 제주 구현', 이중화 제주연구원 혁신경제연구부장의 '지역의 디지털 역량과 산업기반 조성', 박영민 한국지역정보개발원 디지털전략기획부장의 '지역특화 데이터분석센터 운영 전략' 등 제주도 디지털 혁신 추진을 위한 청사진과 지역별 우수 사례들이 발표됐다.,이와 함께 제주특별자치도, 한국IT서비스학회, 한국지역정보개발원, 한국지방행정연구원, 제주연구원, 제주대학교, 제주테크노파크, 한국공법학회 등 9개 기관은 제주도 내 모든 분야에 걸쳐 디지털 혁신과 디지털 플랫폼 정부 구현을 위해 협력하겠다는 내용의 협약식도 가졌다.,제주도의 디지털 전환 지역혁신 계획 수립과 정책 협의 등을 지원하고 전문인력 양성과 교육·훈련 프로그램 공동 운영, 정책 연구와 연구개발(R&D) 협력 과제 추진 등을 위해 적극 협력하겠다는 계획이다.,제주특별자치도 오영훈 지사는 \"갈수록 복잡해지는 사회문제를 해결하기 위해서는 지방자치단체의 한정된 자원과 역량만으로는 한계가 있다\"며 \"디지털 대전환 시대에 대비하기 위해 지자체와 관련 기관들의 협력이 반드시 필요한 만큼 소통과 협업의 장을 지속적으로 마련하고 세계 시장을 선도하는 디지털 플랫폼을 구축해 제주의 새로운 혁신과 가치를 창출해 나가겠다\"고 다짐했다.,한국IT서비스학회 권헌영 회장은 \"특히 우리나라는 디지털 역량에 있어 중앙정부와 지역간 격차가 매우 큰 것이 현실\"이라며 \"우리 삶은 지역 현장에서부터 만들어지는데 현장에서 디지털 대전환 시대에 맞는 변화를 시작하기 위해 중앙, 지방, 민간, 정부, 학계, 시민이 모두 힘을 모아 시작하게 된 좋은 출발이다\"라고 강조했다.,\n",
            "  \n",
            "\n",
            "Topic # 2 -----------------------------\n",
            "\n",
            " ,\"카메라 성능을 중요시 하는 25~45세 젊은 방문객들이 많이 찾습니다. 갤럭시S23 시리즈 공개 이후엔 평소보다 방문객 수가 30% 가량 더 늘어난 느낌입니다.\" (삼성 익스피리언스 스토어 관계자),매장 앞을 지나기만 해도 삼성전자 최신 기기를 체험하러 방문하시라는 푸시 메시지가 도착하고, 매장 안에 들어서면 최신 갤럭시 기기들을 한 자리에서 경험할 수 있는 곳. 미국 '삼성 익스피리언스 스토어'는 갤럭시 생태계를 현지 고객들에게 널리 알리겠다는 삼성전자의 의지가 엿보이는 곳이다.,특히 전략 스마트폰인 갤럭시S23 공개 이후에는 혁신적인 카메라 경험을 알리고, 또 체험하기 위한 움직임으로 활기가 넘쳤다.,기자는 지난 3일(현지시간) 미국 캘리포니아 로스앤젤레스(LA)에 위치한 '삼성 익스피리언스 스토어'를 찾았다.,삼성전자는 지난 2019년 LA를 비롯한 뉴욕, 휴스턴 등 미국 5개 지역에 삼성 익스피리언스 스토어를 오픈했다. LA 유명 아웃도어 쇼핑몰 가운데 하나인 아메리카나 앳 브랜드(Americana at Brand)에 문을 연 삼성 익스피리언스 스토어 LA 지점은 312평 크기로 규모로는 가장 큰 매장이다.,LA 소비자들에게 최상의 제품 경험을 제공하겠다는 전략에 걸맞게 삼성 익스피리언스 스토어는 입구에 들어서기 전부터 고객 유치에 한창이었다. 매장 앞을 지나자 삼성전자 갤럭시 스마트폰 사용 고객들에게 '갤럭시S23 시리즈를 체험하러 방문하시라'는 내용의 '푸시 메시지'가 도착했다. 갤럭시S23 출시 소식을 듣지 못한 소비자들도 호기심에 이끌려 매장에 방문할 것만 같았다.,내부에는 갤럭시S23 시리즈를 비롯해 최신 갤럭시 제품들로 가득했다. 삼성 익스피리언스 스토어 관계자는 \"38개의 갤럭시 스마트폰과 30개가 넘는 갤럭시 워치, 갤럭시 버즈 등을 만져볼 수 있는 것은 물론 현장에서 갤럭시 생태계의 연결성도 시험해볼 수 있다\"고 설명했다. 실제로 매장 한 쪽에는 '스마트싱스존'이 마련돼 노트북과 스마트폰, 태블릿PC간 연동성을 현장에서 체험해 볼 수 있었다.,갤럭시S23 시리즈가 공개된지 얼마 되지 않아서인지 매장 안은 평일 오전임에도 불구하고 많은 방문객들로 붐볐다. 삼성 익스피리언스 스토어 관계자는 \"하루 평균 방문자 수가 640명 가량인데 갤럭시S23 시리즈 공개 이후 방문객 수가 30% 가량 늘어났다\"며 갤럭시S23 시리즈에 대한 현지의 높은 관심을 전했다.,전작인 갤럭시S22 시리즈 대비 사전 주문량도 늘었다. 매장 관계자는 \"전작 대비 30~40% 이상 사전 주문량이 증가했다\"면서 \"특히 선주문 비중의 50%를 차지하는 것이 갤럭시S23 울트라\"라고 귀띔했다. 많은 고객들이 매장을 찾았다가 갤럭시S23 울트라 카메라 성능에 반해 사전 주문까지 마치고 간 것으로 전해졌다. 고객들의 상당수는 카메라 성능을 중시 여기는 25~45세였다.,기존에 갤럭시S21울트라를 사용 중이지만 갤럭시S23 시리즈가 궁금해 매장을 찾았다는 한 고객은 \"디자인도 예쁘고, 카메라의 줌 성능과 나이토그래피 성능도 인상적\"이라고 호평했다. 갤럭시S23 시리즈는 애플의 아이폰을 사용하는 할리우드 배우의 마음도 사로잡았다. 미국 드라마 NCIS:로스앤젤레스 등에 출연한 배우 수미트 당 씨는 \"아이폰을 사용하지만 디자인이 감각적일 뿐 아니라 S펜도 매력적\"이라고 말했다.,로스앤젤레스=박혜림 기자,\n",
            " \n",
            "\n",
            " ,삼성전자가 10년 만에 재진입한 국내 유기발광다이오드(OLED) TV 시장에서 70인치대 프리미엄급 제품을 대폭 할인 판매하며 '가격 경쟁'에 불을 댕겼다. 다음 달 중순 2023년형 올레드 TV 출시를 앞둔 LG전자가 어떤 가격 정책을 펼칠지 관심이 쏠리고 있다.,삼성전자는 지난 21일부터 기준가 918만원인 77형 '삼성 OLED TV 패키지'(더 프리스타일 포함)를 189만원 할인된 729만원에 판매하고 있다. 여기에 체험단을 신청할 경우 20만원을 추가로 할인 받아 최대 709만원에 구매할 수 있다. 이 밖에도 상품권 등 84만원 가량의 추가 혜택도 제공한다.,삼성전자는 사전 판매 혜택 제공 수량을 제한하지 않고 정식 출시일인 다음 달 9일 이전에 접수되는 모든 주문 건에 적용할 방침이다. 스마트폰이나 노트북을 출시할 때 제한 수량에만 할인 혜택을 제공하는 미끼 상품과는 결이 다르다는 설명이다. 다만 정식 출시 제품에도 사전 판매와 같은 할인 혜택을 제공할 것인지는 아직 정하지 않았다.,할인해도 700만원 정도인 가격이 과연 상대적으로 저렴한 수준인지에 대한 평가는 OLED TV 시장을 주도해온 LG전자의 가격 정책을 비교해보면 알 수 있다.,LG전자는 지난해 77형 '올레드' TV를 제품 스펙에 따라 600만~900만원대로 책정해 판매했다. 크기는 같아도 제품 스펙이 낮은 보급형 'A·B 라인업'은 600만원대였고, 마감 등 디자인·사운드 성능이 강화된 고급형 'C·G 라인업'은 800만~900만원대였다. LG전자에 따르면 다음 달 출시할 2023년형 제품도 출고 가격은 기존과 비슷한 수준으로 설정될 것으로 보인다. 77형에 가장 다양한 시리즈를 배치한다.,삼성전자는 77형 OLED TV를 단일 모델로 출시하면서 자사 최상위 라인업인 네오 QLED 8K 제품에 버금가는 프리미엄급으로 내놨다. 인피니티 원 11㎜ 초슬림 디자인에 사운드바가 따로 필요하지 않을 정도인 70W 스피커, 기본 120㎐에서 최대 144㎐의 주사율까지 스펙으로 보면 LG 올레드 최상위 G 라인업을 위협할 수준이다.,LG전자가 2023년형 올레드에보 G 라인업의 가격을 할인하지 않으면 삼성전자 77형 OLED TV와 비슷한 스펙임에도 약 300만원(사전 혜택 모두 포함) 비싼 모양이 된다.,후발주자인 삼성전자가 공격적인 가격 정책을 펼침에 따라 LG전자의 대응이 주목된다. 2023년형 신제품 출시를 불과 2주 남긴 상황에서 77인치 올레드 TV를 계획대로 600만~900만원대 수준으로 출시할지, 공격적 신제품 프로모션에 나설지가 관건이다.,세계 1·2위 TV 업체인 삼성전자와 LG전자의 승부가 예고된 70인치대는 TV 시장 최대 격전지로 떠오르고 있다. 시장조사업체 옴디아에 따르면 기존에 TV 시장에서 주력이던 50·60인치대는 규모가 줄거나 정체된 반면에 70인치대 비중은 지속 늘어나는 추세다.,업계 관계자는 \"70인치대 OLED TV는 절치부심한 삼성전자와 선점한 시장을 사수하려는 LG전자의 최대 격전지가 됐다\"고 말했다.,\n",
            " \n",
            "\n",
            " ,삼성전자 '갤럭시 언팩 2023' 이후 '갤럭시북3' 시리즈에 대한 관심이 이어지고 있다. 보통 '갤럭시 언팩'의 주인공은 스마트폰으로, 노트북과 스마트워치, 이어폰 등은 조연에 불과했는데, 이번에는 노트북도 함께 주목받는 분위기다.,삼성전자는 2일 서울 중구 태평로빌딩 삼성기자실에서 '갤럭시 언팩'에서 공개한 신제품에 대한 브리핑을 진행했다. 삼성전자는 이날 오전 3시 '갤럭시 언팩' 행사를 열고 스마트폰 '갤럭시S23' 시리즈와 노트북 '갤럭시북3' 시리즈를 공개했다.,갤럭시북3 시리즈는 보다 강화된 성능과 연결성은 물론 합리적인 가격으로 공개 이후 높은 관심을 받는 분위기다. 갤럭시북3 시리즈는 '갤럭시북3 울트라'와 '갤럭시북3 프로 360', '갤럭시북3 프로' 등 3가지 라인업으로 구성됐다.,이번에 가장 주목 받는 제품은 울트라 모델이다. 삼성전자는 스마트폰 갤럭시S 시리즈 최상위 모델에 '울트라' 명칭을 사용하고 있는데, 노트북에 적용한 것은 이번이 처음이다.,갤럭시북3 울트라는 명칭에 맞게 고성능이 특징이다. 인텔 코어 i9 프로세어와 엔비디아 지포스 RTX 4070 노트북용 외장그래픽을 탑재해 그래픽 작업, 고사양 게임 등을 끊김없이 할 수 있다.,높은 사양을 갖췄음에도 가벼운 무게와 얇은 두께를 갖춰 휴대성은 높였다. 갤럭시북3 울트라 두께는 , 무게는 불과하다.,삼성전자는 갤럭시북3 시리즈의 연결성 강화에도 힘을 실었다. 노트북과 태블릿은 물론 모바일까지 매끄럽게 연결될 수 있도록 했다. 그간 애플은 강력한 연동성을 갖춘 애플만의 생태계를 내세워 시장을 확대해왔는데, 삼성전자 역시 갤럭시만의 생태계를 확장하며 '락인 효과'를 노리는 분위기다.,실제 갤럭시북3는 높아진 사용성이 눈에 띄었다. 스마트폰에서 하던 작업을 노트북에서 곧바로 이어서 할 수 있어 생산성이 크게 향상됐다.,갤럭시북3에서 스마트폰의 메시지와 전화를 송수신할 수 있는 것은 물론 스마트폰 앱 역시 실행이 가능했다. 갤럭시북3에서 가장 최근에 사용한 갤럭시 스마트폰 앱을 실행하면 최근 스마트폰에서 사용하던 앱을 그대로 보여준다.,예컨대 출근길에 스마트폰으로 기사를 읽고 있다가 회사에서 노트북으로 같은 화면을 실행해 기사를 마저 읽을 수 있다.,스마트폰에만 설치된 앱도 갤럭시북3에서 실행할 수 있다. 노트북에 최대 5개 앱을 실행할 수 있어 다양한 작업을 한 번에 할 수도 있다.,'삼성 멀티 컨트롤' 기능을 지원해 갤럭시북3의 키보드와 마우스를 통해 갤럭시 스마트폰이나 태블릿도 제어할 수 있다. 노트북에서 키보드를 치면 연결된 갤럭시 폰 혹은 태블릿에 글을 쓸 수 있어 간편하다.,사진이나 파일은 '드래그 앤 드롭'으로 편하게 옮길 수 있다. 스마트폰에 있는 사진을 노트북에서 활용하기 위해 메일이나 카카오톡 등에 보낼 필요 없이 커서만 이동하며 파일을 옮길 수 있다.,얇은 두께에도 다양한 포트를 지원한다는 점도 강점이다. 갤럭시북3 시리즈는 모두 USB-C 포트 2개, USB-A 1개, HDMI, 마이크로SD 카드 슬롯, 헤드폰 잭을 포함하고 있다.,디스플레이는 갤럭시 스마트폰에 사용되는 '다이나믹 아몰레드(AMOLED) 2X'가 탑재됐다. 갤럭시북 시리즈에 해당 디스플레이가 탑재되는 것은 이번이 처음이다.,노태문 삼성전자 MX사업부 사장은 \"확장된 갤럭시 생태계를 통해 고객들의 멀티 디바이스 경험을 극대화하는 것이 삼성전자의 목표\"라며 \"갤럭시북3 시리즈는 갤럭시 사용자들을 위한 맞춤형 제품으로 높은 생산성과 창의성을 제공할 것\"이라고 밝혔다.,\n",
            "  \n",
            "\n",
            "Topic # 3 -----------------------------\n",
            "\n",
            " ,SK텔레콤, KT, LG유플러스 등 통신3사가 '하늘을 나는 택시'로 불리는 도심항공교통(UAM) 상용화에 박차를 가한다.,22일 통신업계에 따르면 통신3사는 모두 국토교통부와 한국형도심항공교통 실증사업(K-UAM 그랜드챌린지) 1단계 협약을 체결했다. 국토부는 오는 8월 1단계 실증사업을 거쳐 2025년 상용화를 목표로 하고 있다.,K-UAM 그랜드챌린지는 5G 등 상용통신망을 활용한 교통관리체계 구축 상용화 전제의 통합운영체계 구축 가상통합운영 시뮬레이터 활용 등을 목표로 한다. 이날 협약을 맺은 1단계 실증에서는 기체 안정성 운항·교통관리·버티포트 등 통합운용능력 확인 이착륙 등 비행 단계별 소음측정 등이 이뤄진다.,통신3사는 K-UAM 그랜드챌린지 실증을 위해 각각 컨소시엄을 구성했다.,먼저 SK텔레콤은 그룹사 티맵모빌리티를 비롯해 한국공항공사, 한화시스템, UAM 기체 제작기업 조비 에비에이션 등과 'K-UAM 드림팀'(이하 드림팀)을 구성했다.,드림팀은 각 사의 장점을 살려 UAM 운항의 핵심요소를 종합적으로 검증한다는 구상이다. SK텔레콤은 기체와 운항 분야를 맡았고, 한국공항공사는 버티포트(UAM 전용 이착륙장)을 맡았다. 한화시스템은 교통관리 분야를 주도한다.,아울러 SK텔레콤은 전략적 사업 파트너인 조비 에비에이션의 UAM 기체를 활용해 지난해 구축한 4G·5G 기반의 UAM 특화망 안정성 검증에 나선다.,SK텔레콤은 티맵모빌리티와 협력을 통해 UAM과 지상교통을 하나의 서비스로 연결하는 서비스형 모빌리티(MaaS) 플랫폼도 개발해 드림팀의 경쟁력을 확보할 예정이다.,KT는 현대자동차, 현대건설과 컨소시엄을 구축했다. KT는 이번 실증을 통해 UAM 통신환경을 검증하고, UAM 교통관리 시스템과 UAM 데이터 공유플랫폼을 통합운용환경에서 연동·실증하는 역할을 맡았다. 현대자동차는 기체와 운항을, 현대 건설은 버티포트를 각각 담당한다.,아울러 KT의 인공지능(AI)과 5G 통신기술을 UAM 교통관제분야와 상공 통신망에 적용해 비행의 안전성을 높이며, UAM 상용화에 필요한 기술을 갖출 예정이다. 이를 위해 KT 융합기술원과 AI/DX융합사업부문을 비롯해 정책협력실, 네트워크 등 전사가 나선다. UAM 운항에 필요한 위성통신 기술은 그룹사 KT SAT이 나선다.,KT 컨소시엄 역시 다양한 교통수단의 정보를 통합해 하나의 교통수단처럼 정보를 제공하는 서비스인 MaaS 플랫폼 기반 육상 모빌리티 연계도 추진할 예정이다.,LG유플러스는 카카오모빌리티, GS건설, 버티컬 에어로스페이스 등 4개 사와 'UAM 퓨처팀'을 구성했다.,LG유플러스는 교통관리 분야를 맡아 통신 기반의 교통관리 플랫폼 'UATM'을 개발하고 있다. 이는 비행계획서 분석과 승인, 교통흐름관리, 충돌관리, 회랑이탈 모니터링과 운항정보 공유 등 교통관리 서비스를 제공하는 지능형 플랫폼이다.,카카오모빌리티는 UAM 운항을 맡는다. 컨소시엄은 카카오모빌리티가 이미 택시, 기차, 항공 등을 아우르는 MaaS 플랫폼을 보유한 만큼 관련한 시너지를 창출할 수 있을 것으로 기대하고 있다. GS건설은 버티포트를, 버티컬 에어로스페이스는 UAM 기체 확보에 나선다.,카카오톡: '더팩트제보' 검색,이메일: ,뉴스 홈페이지: http:///bbs/report/write,\n",
            " \n",
            "\n",
            " SK텔레콤이 글로벌 통신사들과 손잡고 미주·유럽·동남아 시장으로 메타버스 서비스 진출을 본격화한다. SK텔레콤은 스페인 바르셀로나에서 열린 'MWC(모바일월드콩그레스) 2023'에서 독일의 도이치텔레콤, 미국의 티모바일US, 동남아 11개국 사업자 악시아타, 말레이시아의 셀콤디지와 메타버스 관련 협약을 체결했다고 밝혔다. 지난해 11월 메타버스 플랫폼 '이프랜드'를 북미, 유럽, 중동, 아시아 등 49개국에 동시에 출시한 데 이어 주요 글로벌 통신사와 함께 각 국가에 최적화된 형태로 진출하는 것이다. 이번 이프랜드 글로벌 진출 협약을 위해 박정호 SK스퀘어 부회장, 유영상 SKT 사장, 도이치텔레콤의 회트게스 회장과 닥터 한스 위자야수리야, 비벡 수드 악시아타 공동 CEO, 다툭 이담 나와위 셀콤디지 CEO 등 글로벌 주요 기업 인사들이 참석했다. SK텔레콤은 각각 1억 이상의 가입자를 보유한 글로벌 통신사와 협력함으로써 이프랜드가 전 세계 사용자들에게 더 쉽게 다가갈 수 있도록 한다는 구상이다. 우선 도이치텔레콤과 티모바일US 가입자를 대상으로 이프랜드의 마켓 테스트를 진행하고, 각 지역에 특화된 메타버스 콘텐츠 발굴과 공동 마케팅을 추진하기로 했다. 예를 들어 도이치텔레콤과 독일의 특정 도시를 본 뜬 가상공간과 전용 아바타와 의상 등을 함께 개발해 도이치텔레콤 고객에게 제공하고, 이를 SKT와 도이치텔레콤이 공동으로 마케팅 하는 식이다. 해당 마켓 테스트는 이프랜드 독일어 버전이 출시되는 2분기를 기점으로 3개월 간 진행될 예정이다. 이번 각사 고객 대상 마켓 테스트는 작년 5월 SK텔레콤과 도이치텔레콤의 ICT 동맹 강화를 위한 사업 협력 논의에 따른 결과물이다. SK텔레콤과 도이치텔레콤, 티모바일US는 이번 고객 대상 마켓 테스트를 통해 유럽과 미국에서 더 다양한 메타버스 서비스를 시도할 수 있을 것으로 기대하고 있다. SK텔레콤은 이와 함께 MWC 현장에서 말레이시아·인도네시아·스리랑카·캄보디아·방글라데시·네팔 등 11개 ASEAN 및 남아시아 국가에서 약 2억명의 가입자를 보유한 악시아타, 말레이시아 1위 사업자인 셀콤디지와 각각 메타버스 관련 협약을 체결했다. SK텔레콤은 악시아타의 전체 자회사 대상 이프랜드 서비스 확장과 메타버스 플랫폼 관련 비즈니스 창출 및 상호 경쟁력 강화를 위한 AI 기반 사업 기회 협력 등에 합의했다. 또 셀콤디지와 말레이시아 시장 내 이프랜드 이용자 규모 확대 및 신규 사업 기회 모색을 위한 업무협약을 체결했다. SK텔레콤은 K-콘텐츠 등 한류 문화에 가장 뜨거운 반응을 보이는 동남아 지역에 메타버스 서비스를 내놓음으로써 이프랜드의 서비스 영역 확장 및 진출로 파생될 다양한 사업 기회를 기대하고 있다. 유영상 SK텔레콤 사장은 \"이프랜드의 글로벌 진출에 있어서 각국 주요 통신사들은 중요한 파트너\"라며 \"앞으로도 다양한 글로벌 사업자들과의 협력을 통해 SK텔레콤 메타버스 서비스 사업 영역을 확대해 나갈 것\"이라고 말했다. 바르셀로나(스페인)= \n",
            " \n",
            "\n",
            " ,SK텔레콤이 글로벌 통신사들과 손잡고 미주·유럽·동남아 시장으로 메타버스 서비스 진출을 본격화한다. ,SK텔레콤은 스페인 바르셀로나에서 열린 'MWC(모바일월드콩그레스) 2023'에서 독일의 도이치텔레콤, 미국의 티모바일US, 동남아 11개국 사업자 악시아타, 말레이시아의 셀콤디지와 메타버스 관련 협약을 체결했다고 밝혔다. ,지난해 11월 메타버스 플랫폼 '이프랜드'를 북미, 유럽, 중동, 아시아 등 49개국에 동시에 출시한 데 이어 주요 글로벌 통신사와 함께 각 국가에 최적화된 형태로 진출하는 것이다.,이번 이프랜드 글로벌 진출 협약을 위해 박정호 SK스퀘어 부회장, 유영상 SKT 사장, 도이치텔레콤의 회트게스 회장과 닥터 한스 위자야수리야, 비벡 수드 악시아타 공동 CEO, 다툭 이담 나와위 셀콤디지 CEO 등 글로벌 주요 기업 인사들이 참석했다.,SK텔레콤은 각각 1억 이상의 가입자를 보유한 글로벌 통신사와 협력함으로써 이프랜드가 전 세계 사용자들에게 더 쉽게 다가갈 수 있도록 한다는 구상이다. ,우선 도이치텔레콤과 티모바일US 가입자를 대상으로 이프랜드의 마켓 테스트를 진행하고, 각 지역에 특화된 메타버스 콘텐츠 발굴과 공동 마케팅을 추진하기로 했다. 예를 들어 도이치텔레콤과 독일의 특정 도시를 본 뜬 가상공간과 전용 아바타와 의상 등을 함께 개발해 도이치텔레콤 고객에게 제공하고, 이를 SKT와 도이치텔레콤이 공동으로 마케팅 하는 식이다. 해당 마켓 테스트는 이프랜드 독일어 버전이 출시되는 2분기를 기점으로 3개월 간 진행될 예정이다.,이번 각사 고객 대상 마켓 테스트는 작년 5월 SK텔레콤과 도이치텔레콤의 ICT 동맹 강화를 위한 사업 협력 논의에 따른 결과물이다.,SK텔레콤과 도이치텔레콤, 티모바일US는 이번 고객 대상 마켓 테스트를 통해 유럽과 미국에서 더 다양한 메타버스 서비스를 시도할 수 있을 것으로 기대하고 있다.,SK텔레콤은 이와 함께 MWC 현장에서 말레이시아·인도네시아·스리랑카·캄보디아·방글라데시·네팔 등 11개 ASEAN 및 남아시아 국가에서 약 2억명의 가입자를 보유한 악시아타, 말레이시아 1위 사업자인 셀콤디지와 각각 메타버스 관련 협약을 체결했다.,SK텔레콤은 악시아타의 전체 자회사 대상 이프랜드 서비스 확장과 메타버스 플랫폼 관련 비즈니스 창출 및 상호 경쟁력 강화를 위한 AI 기반 사업 기회 협력 등에 합의했다. 또 셀콤디지와 말레이시아 시장 내 이프랜드 이용자 규모 확대 및 신규 사업 기회 모색을 위한 업무협약을 체결했다. SK텔레콤은 K-콘텐츠 등 한류 문화에 가장 뜨거운 반응을 보이는 동남아 지역에 메타버스 서비스를 내놓음으로써 이프랜드의 서비스 영역 확장 및 진출로 파생될 다양한 사업 기회를 기대하고 있다.,유영상 SK텔레콤 사장은 \"이프랜드의 글로벌 진출에 있어서 각국 주요 통신사들은 중요한 파트너\"라며 \"앞으로도 다양한 글로벌 사업자들과의 협력을 통해 SK텔레콤 메타버스 서비스 사업 영역을 확대해 나갈 것\"이라고 말했다. ,바르셀로나(스페인)= , \n",
            "  \n",
            "\n",
            "Topic # 4 -----------------------------\n",
            "\n",
            " ,대형 가상자산거래소 '크라켄'이 미국 증권거래위원회(SEC)의 제재로 스테이킹 서비스를 중단하면서 코인시장이 술렁이고 있다. SEC가 다른 기업의 스테이킹 서비스 또한 증권성이 있다고 판단해 제재에 나설 수 있다는 우려 때문이다. ,SEC는 크라켄을 운영하는 페이워드 벤처스와 페이워드 트레이딩이 가상자산 스테이킹 서비스 판매를 등록하지 않은 혐의로 기소했다고 지난 9일(현지시각) 밝혔다. 두 회사는 모든 스테이킹 서비스를 중단하고 3000만달러에 달하는 위약금을 지불하기로 합의했다. 개리 겐슬러 SEC 의장은 SNS를 통해 \"크라켄을 미등록 증권법 위반으로 처벌했다\"고 밝혔다.,스테이킹은 가상자산의 일정 지분을 특정 기간 예치하고 가상자산으로 보상을 받는 서비스다. 투자자가 맡긴 가상자산은 블록체인 네트워크의 운영 및 검증 작업에 활용된다. 기간이 길어지고 지분이 많을수록 더 높은 수익을 얻을 수 있다. ,은행에 돈을 맡기고 이자를 받는 정기 예금에 비유되기도 한다. 그러나 예금과는 달리 원금을 보장하지 않는다. 한번 스테이킹되면 돌려받기까지(언스테이킹) 시간이 오래 걸리며, 토큰 개수가 늘어나더라도 가치가 떨어지면 원금을 까먹을 위험이 있기 때문이다. ,지분증명(PoS) 방식을 알고리즘으로 채택한 블록체인만 스테이킹이 가능한데, 참여 절차가 복잡해 개인 투자자가 참여하기가 쉽지 않다. 이에 가상자산거래소는 간편하게 스테이킹에 참여할 수 있도록 중개해주는 일종의 대행 서비스를 제공한다.,크라켄의 스테이킹 서비스 중단은 코인 시장에 충격을 안겼다.,SEC의 크라켄 제재 이후 가상자산 가격도 함께 곤두박질쳤다. 코인마켓캡에 따르면 비트코인은 지난 8일 2만3000달러대를 웃돌았으나, SEC의 크라켄 제재 소식이 알려지면서 2만2000달러 밑으로 떨어졌다. 13일 오후 4시 55분 기준으로는 2만1860만달러에 거래되고 있는데, 이는 일주일 전과 비교해 % 하락한 수치다.,SEC가 크라켄의 스테이킹 서비스에 제재를 가하면서 다른 가상자산거래소가 제공하는 스테이킹 서비스도 중단될 수 있다는 우려의 목소리도 나왔다. 그러나 가상자산업계 관계자들은 SEC가 스테이킹 서비스 자체를 문제삼았다고 보기는 어렵다고 입을 모았다. 법적 해석에 따라 달라질 수는 있지만, SEC가 스테이킹 서비스 자체보다는 크라켄이 고객의 자산을 운용하는 과정을 주로 지적했다는 것이다.,SEC가 공개한 결정문에 따르면 크라켄은 스테이킹 서비스를 제공하는 과정에서 투자자 보호와 정보 공개를 소홀히 했다. 크라켄은 투자자에게 연 최대 21%의 투자 수익을 보장했다. 또한 스테이킹을 위해 받은 자금을 거래소의 다른 자금과 혼합해 운용하고, 수수료나 비용을 비롯해 투자와 관련된 정보를 투명하게 공개하지 않았다.,한 가상자산업계 관계자는 \"SEC의 경우 스테이킹 서비스 자체를 증권형으로 보았다기보다, 마음대로 보상률을 정하고 주의사항을 알리지 않는 등 크라켄의 서비스를 문제삼았다고 본다\"고 말했다.,가상자산 정보업체 쟁글은 리서치에서 \"SEC가 스테이킹 행위 자체에 대해 증권성을 시사하지는 않았으나, 서서히 증권으로 편입시키려는 계획의 일부로 판단된다\"면서 \"타 중앙화 거래소에서 제공하는 스테이킹 서비스 역시 증권에 해당하는지가 앞으로 주목할 지점\"이라고 말했다.,국내·외 가상자산 거래소는 크라켄과 자사의 스테이킹 서비스는 다르다고 선을 그었다.,폴 그루왈 코인베이스 최고법률책임자(CLO)는 스테이킹 서비스가 증권 여부를 판단하는 하위 테스트(Howey Test)를 충족하지 않는다고 지난 10일 밝혔다. 그는 \"크라켄은 수익률을 주는 상품을 제공했지만, 코인베이스의 스테이킹 서비스는 근본적으로 다르다\"고 강조했다.,국내 가상자산거래소 또한 크라켄과 달리 고객 자산만을 위임한 단순한 대행 서비스를 제공하고 있으며, 관련 정보도 투명하게 공시한다고 강조했다. 국내에서는 업비트, 빗썸, 코인원 등의 거래소가 스테이킹 서비스를 운영하고 있다. ,업비트 측은 \"업비트의 스테이킹은 이용자가 좀 더 편리하게 스테이킹에 참여할 수 있도록 기술을 지원할 뿐, 증권성과는 상관이 없는 것으로 판단하고 있다\"면서 \"홈페이지에 고지한 대로 스테이킹서비스를 운영하며 위임받은 자산을 운용하거나 외부 업체에 맡기지 않는다\"고 설명했다.,빗썸 또한 \"빗썸플러스의 경우 스테이킹 대상 가상자산 수량이 빗썸 외부로는 이동되지 않고, 전량 스테이킹 위임 작업에만 활용되고 있다\"면서 \"신고나 허가가 필요한 형태의 규제가 생긴다면, 해당 규제 이행에 필요한 작업을 진행할 것\"이라고 말했다.,이 사안에 정통한 업계 관계자는 \"국내는 아직 스테이킹 서비스의 증권성 판단에 대한 기준이 없는데, SEC의 결정에 따라 금융당국이 조치를 취하더라도 서비스 자체를 중단할 것으로 보이진 않는다\"면서 \"원금을 손실할 수 있다는 점에 대해 사전에 공지하거나 가입 절차를 세분화할 것으로 보인다\"이라고 말했다.,\n",
            " \n",
            "\n",
            " ,[이코노미스트 윤형준 기자] 최근 토큰증권(ST, Security Token) 가이드라인이 나오면서 가상자산(암호화폐) 거래소에서 코인들이 '줄상폐'되는 것 아니냐는 우려가 확산되고 있다. 금융당국은 사례를 축적하고 외부의견을 들으며 가상자산의 증권성을 판단하겠다는 방침이다. 하지만 아직 국내서 금융당국의 명확한 가상자산 증권성 판단이 이뤄지지 않는 가운데, 주요 알트코인인 이더리움에 증권성 시비가 생기는 등 투자자들의 불안감이 커지고 있는 상황이다.,지난 2월 금융위원회는 '토큰증권 발행·유통 규율체계 정비방안'을 발표했다. 실물증권과 전자증권에 이어 새로운 형태로 발행되는 토큰증권을 디지털(가상)자산이 아닌 '증권'으로 보고 자본시장법으로 다루겠다는 게 골자다.,문제는 기존의 가상자산이 증권으로 판명될 경우 코인 거래소들에서 모조리 상장폐지될 가능성이 있다는 점이다. 이번 가이드라인에 따르면 자본시장법상 증권 규제를 준수하지 않고 증권을 발행‧유통했다면 발행인 등은 제재대상이 된다. 국내에서 증권은 증권사·은행 등 계좌관리기관만 취급할 수 있다. 따라서 증권으로 판단되는 가상자산들은 원칙적으로 코인 거래소에서의 거래를 지속하기 어렵다는 게 금융위의 설명이다.,그렇다면 증권성은 어떻게 판단할 수 있을까. 가장 유명한 기준은 미국 금융당국이 사용하는 '하위(Howey) 테스트'다. 이는 1933년 미국 플로리다에서 대규모 오렌지 농장을 운영하던 하위컴퍼니라는 회사가 진행한 농장 분양 사건에서 유래됐다.,하위 테스트는 ▲돈이 투자되고(Investment of money) ▲그 돈이 공동의 사업에 사용되고(In a common enterprise) ▲투자 이익을 기대하며(With an expectation of profits) ▲그 이익이 타인의 노력으로 발생(From the efforts of others)할 경우 증권으로 본다.,지난해 미국 증권거래위원회(SEC)는 앰프(AMP), 랠리(RLY), 데리바다오(DDX), 오라클네트워크(XYO), 라리거버넌스토큰(RGT), LCX, 파워렛저(POWR), DFX파이낸스(DFX), 크로마티카(KROM) 등 9개 코인을 증권으로 규정한 바 있다. 이 중 업비트·빗썸·코인원·코빗·고팍스 등 국내 5대 가상자산 거래소에 상장된 건 앰프, 랠리, 파워렛저 등 3개다.,하지만 국내에서의 증권성 판단도 미국과 동일하게 내려질지는 미지수다. 토큰증권 가이드라인에서 금융위가 밝힌 8가지 예시에 해당되면 증권으로 분류될 가능성이 크다. 금융위는 \"증권 여부 판단에 대한 금융당국이나 사법부의 구체적 판단사례가 축적되면 토큰증권 가이드라인에 지속 반영해 안내할 계획\"이라고 밝혔다.,금융감독원도 토큰증권 가이드라인의 후속조치로써 '가상자산 증권성 판단지원을 위한 태스크포스(TF)'를 구성했다. 이윤길 금감원 기업공시국 증권발행제도팀 팀장은 \"업계의 일관성 있는 판단을 지원하기 위해 가상자산 거래소 대상 간담회·설명회를 수시 개최하고, 체크리스트 제공할 것\"이라며 \"쟁점사항에 대해서는 외부전문가의 의견을 폭넓게 수렴할 예정\"이라고 말했다.,사실 투자자들이 가장 많은 관심을 쏟는 건 양대 코인 대장주인 비트코인과 이더리움의 증권성 여부다. 지난 6일 오후 5시 기준 전체 가상자산 시장에서 비트코인과 이더리움이 차지하는 비중은 각각 %, %로 대다수를 차지한다.,우선 SEC는 비트코인에 대해선 증권이 아니라고 판단했다. 지난 2019년 제이 클레이튼 당시 SEC 위원장은 \"암호화폐는 주권 통화를 대체하며, 즉 엔, 달러, 유로를 비트코인으로 대체한다\"며 \"그런 화폐는 증권이 아니다\"라고 언급한 바 있다. 게리 겐슬러 현 SEC 위원장도 최근 인터뷰를 통해 \"비트코인 외엔 모두 증권\"이라고 못박았다.,비트코인은 처음 만든 주체를 정확하게 알 수 없는 데다가 오직 채굴을 통해서만 발행되고 있어 증권이라 보기 어렵다. 투자 이익이라는 목적성을 갖고 특정 프로젝트를 위해 돈이 모이는 것도 아니다. 비트코인은 단지 서비스의 소비·이용을 목적으로 발행되고 사용됐기 때문에 증권성이 없는 셈이다.,다만 이더리움에 대해선 논쟁이 분분하다. 이더리움은 지난해 9월 더머지(The Merge) 업그레이드 후, 블록의 검증 방식이 채굴인 작업증명(PoW)에서 보유량인 지분증명(PoS)으로 전환하면서 증권성에 대한 시비가 떠올랐다. 이더리움을 32개 이상 블록체인에 스테이킹(예치)해야 블록 생성 작업에 참여할 수 있게 바뀐 것이 문제였다. 이 스테이킹 리워드(보상)가 일종의 주식 배당처럼 해석될 수 있어서다.,그러나 미국 상품선물거래위원회(CFTC)는 이더리움을 '상품'으로 간주하고 있으며, 시카고상업거래소(CME)도 이더리움 선물 거래를 허용하고 있다. 윌리엄 힌먼 전 SEC 기업금융 담당 국장은 \"처음 만들 때의 기금모금을 제외하면, 지금의 이더리움 네트워크나 탈중화된 구조, 이더의 거래 등은 증권 거래라 볼 수 없다\"고 말한 바 있다.,증권성 시비로 SEC와 소송 중인 리플(XRP)에 우호적인 입장을 가진 변호사 존 디튼도 \"겐슬러 위원장과 비트코인 맥시멀리스트(신봉자) 말고는 비트코인 이외 모든 가상자산이 증권이라고 합의한 적 없다\"며 \"이는 법조계도 마찬가지\"라고 말했다.\n",
            " \n",
            "\n",
            " ,[이코노미스트 윤형준 기자] 최근 미국 금융당국이 가상자산(암호화폐) 시장에서 코인의 '증권성'을 문제 삼으며 대대적인 규제에 나서고 있다. 미국 증권거래위원회(SEC)가 코인 산업의 주요 상품인 스테이킹(예치) 서비스와 스테이블코인에 대한 제재에 나선 가운데, 대다수 코인의 증권성을 판가름해줄 '리플 소송'도 막바지에 다다랐다. 국내에서도 최근 금융당국에서 토큰증권(ST) 가이드라인이 나와 증권성 판단 기준에 대한 요구가 커지고 있다.,그간에도 SEC는 가상자산 시장의 여러 이해 관계자와 소송을 비롯한 충돌이 잦았다. 하지만 최근 크게 주목받게 된 건 두 가지 사건 때문이다. 우선 '크라켄 사태'다. 지난 2월 9일(현지시간) 글로벌 가상자산 거래소 크라켄은 미등록 서비스 제공 혐의로 스테이킹 서비스를 중단하고 벌금 3000만 달러(약 394억원)를 지급하기로 SEC와 합의했다.,스테이킹은 투자자가 보유한 가상자산을 블록체인 네트워크에 예치하면 이에 대한 보상을 주는 서비스다. 그런데 이 스테이킹 서비스에 대해 SEC가 증권법상 제재를 가한 것이다. 게리 겐슬러 SEC 위원장은 트위터를 통해 \"SEC는 크라켄을 미등록 증권법 위반으로 처벌했다\"며 \"스테이킹을 무엇이라 정의하든 이를 제공하는 이들은 증권법을 따라야 할 것\"이라고 경고했다.,또한 SEC는 스테이블코인 '바이낸스USD'(BUSD) 발행사 팍소스를 기소하는 방안을 검토하고 있는 것으로 알려졌다. SEC는 BUSD를 증권으로 판단하는데, 팍소스 측이 BUSD를 사전에 등록하지 않은 점을 지적한 것이다. 앞서 2월 13일(현지시간) 뉴욕금융서비스국(NYDFS)은 팍소스에 BUSD 발행을 중단하라고 명령하기도 했다.,스테이블코인은 가격 변동성을 최소화하도록 미국 달러화나 유로화 가치 등 기존 법정화폐에 고정돼 설계된 코인이다. 그 시장규모만 1370억 달러(약 180조원)에 달한다. 만약 SEC가 팍소스에 대해 공식 절차에 들어가면 BUSD와 함께 세계 3대 스테이블코인인 테더(USDT)와 USD코인(USDC) 발행에도 영향을 미칠 수 있다.,크라켄과 BUSD 사태가 각각 스테이킹과 스테이블코인 산업 전반으로 불길이 번질까 하는 시장의 걱정은 계속 커지고 있다. 실제 암호화폐 업계 인사와 전문가들은 SEC의 이 같은 결정에 우려 섞인 목소리를 연일 내는 중이다.,크라켄 사태를 앞두고 미국 최대 가상자산 거래소 코인베이스의 브라이언 암스트롱 최고경영자(CEO)는 \"SEC가 미국 투자자들을 대상으로 한 스테이킹 서비스를 금지하려 한다는 루머를 들었다\"며 \"그 루머가 단지 소문에 불과해 대재앙을 초래하지 않기를 바란다\"고 말했다. 로펌 BCLP의 파트너 변호사인 레나토 마리오티는 \"SEC가 팍소스를 기소하면 다른 스테이블코인 발행사는 SEC에 등록하거나 법정 싸움을 해야 한다\"고 말했다.,이 같은 SEC의 판단에 주목해야 하는 이유는 최근 금융당국이 토큰증권발행(STO)을 허용하면서 한국에서도 코인의 '증권성'에 대한 논의가 활발해져서다. 토큰증권을 제도권으로 편입하기 위해 자본시장법 등 기존 증권 규제를 토큰증권에도 적용하겠다는 게 핵심이다. 한마디로 증권성을 띠는 코인이라면 '증권'으로 간주하겠다는 얘기다.,특히 SEC와 리플의 발행사 리플랩스의 소송 결과에 업계의 시선이 쏠린다. 코인의 증권성 여부를 판별할 가장 규모 있는 첫 판례로써 국내에서도 당국의 규제 가이드라인이 될 수 있기 때문이다.,SEC는 지난 2020년 12월 브래드 갈링하우스 리플 CEO와 크리스 라슨 공동창업자를 증권법 위반 혐의로 고소했다. 리플랩스라는 지급 주체가 명확하고, 리플랩스 사업 성과에 따라 리플 가격이 정해지는 등 비트코인과 달리 증권의 성격이 다분하다는 이유였다.,SEC-리플 소송은 현재 법원의 약식 판결을 기다리고 있다. 갈링하우스 CEO는 이르면 6월 판결이 나올 것이라고 전망했다.,업계에선 리플이 패소할 경우 알트코인(비트코인을 제외한 코인)의 줄상장폐지로 이어질 수 있다는 우려가 나온다. 빗썸경제연구소는 '2023년 가상자산 정책 전망 보고서'를 통해 \"리플 소송 결과는 가상자산의 증권성 여부를 판단하는 중요한 판례가 될 것\"이라며 두 가지 시나리오를 전망했다.,보고서에 따르면 SEC가 승소할 경우 다수의 알트코인이 증권으로 분류될 수 있으며, 이 경우 SEC가 관할하는 자본시장 규제 영역으로 들어와 공시·불공정거래·영업규제 등에 직면할 수 있다고 분석했다.,반면 리플이 승소할 경우 암호화폐는 규제 수준이 낮은 미국 상품선물거래위원회(CFTC) 관할에 놓일 가능성이 크고, 규제 리스크 해소로 리플을 포함한 여러 알트코인에 호재 요인으로 작용할 것으로 예상했다.\n",
            "  \n",
            "\n",
            "Topic # 5 -----------------------------\n",
            "\n",
            " 넥슨(대표 이정헌)은 8일 다양한 채널에서 넥슨 게임으로 소통하는 이들을 위한 '넥슨 크리에이터즈' 서비스를 정식 출범하고 공식 사이트를 오픈했다.,'넥슨 크리에이터즈'는 지난해 '히트2' 출시에 맞춰 처음 선보인 '크리에이터 후원 프로그램'의 정식 명칭으로, 넥슨 게임으로 소통하는 크리에이터와 이들을 응원하는 팬을 위해 기획된 새로운 형식의 서비스다.,이용자가 본인이 응원하는 크리에이터를 직접 선택해 전용 코드를 입력하면 게임 내에서 상품 구매 시 금액의 일부가 크리에이터의 후원 포인트로 쌓이는 방식이다.,넥슨은 작년 8월 '히트2'에서 해당 서비스를 베타 형태로 최초 도입해 6개월 이상 운영하며 게임 내에서 많은 이용자들과 크리에이터간 참여와 교류를 이끌어냈다. 이에 '넥슨 크리에이터즈'로 서비스를 새단장해 시즌제로 운영하면서 크리에이터 등급을 기존 옐로우, 그린, 블루 등급에 최상위 블랙 등급을 신설해 혜택을 늘린다.,적용 대상 게임 역시 오는 3월 30일 출시할 신작 MMORPG '프라시아 전기'로 확대한다.,'프라시아 전기'에서는 국내 출시를 앞두고 3월 29일까지 크리에이터를 사전 모집한다. 선발대로 선정된 크리에이터에게는 GREEN 등급을 즉시 부여하는 혜택을 준다. 이외에도 주어진 미션을 수행하는 크리에이터와 이를 응원하는 팬들에게 게임 아이템 등 다양한 보상을 제공할 예정이다.,'히트2'는 '넥슨 크리에이터즈' 정식 도입을 맞아 이번 시즌 더욱 많은 팬들과 소통하는 크리에이터에게 BLACK 등급을 부여하고 더욱 높은 비율로 적립 포인트를 제공한다. 이외에 '히트2' 게임 내에서도 크리에이터와 이용자간 접점을 게임 내에서 확대하기 위해 BLACK 등급 전용 크리에이터 동상을 마을에 추가하는 등 인게임 기능을 선보일 계획이다.,넥슨 퍼블리싱라이브본부 최성욱 본부장은 \"게임 이용자 본인이 직접 응원하고 싶은 크리에이터를 직접 선택하고, 이용자의 후원으로 크리에이터와 이용자가 함께 성장하는 플랫폼으로서 자리잡는 것이 목표\"라며 \"앞으로도 이용자와 크리에이터가 자유롭게 관계를 형성하고 교류하며 다양한 재미를 만들어 나가도록 서비스를 고도화하고, 적용 타이틀을 확대할 것\"이라고 말했다.,한편 '넥슨 크리에이터즈'는 유튜브 구독자 혹은 아프리카TV 애청자 1백 명 이상을 보유 중이라면 공식 사이트에서 언제든 간단한 심사를 거쳐 등록하고 팬들에게 공유할 수 있는 전용 코드를 발급받을 수 있다. 전용 코드는 게임별 심사가 완료되면 넥슨의 여러 게임에서 활용 가능하다. 게임 이용자 또한 본인이 응원하는 크리에이터의 코드를 게임 내 또는 혹은 공식 사이트에서 입력하기만 하면 별도의 부담 없이 게임을 플레이하면서 크리에이터를 후원할 수 있다.,\n",
            " \n",
            "\n",
            " ,넥슨코리아(대표 이정헌)가 넥슨 게임으로 소통하는 크리에이터를 위한 '넥슨 크리에이터즈' 서비스를 정식 출범하고 공식 사이트를 오픈했다. 이용자가 원하는 크리에이터를 선택해 전용 코드를 입력하면 게임 내 상품 구매 시 금액의 일부가 크리에이터에게 후원되는 포인트로 적립되는 방식으로 운영된다.,넥슨은 지난해 8월 '히트2'에서 해당 서비스를 베타 형태로 최초 도입, 6개월 이상 운영하며 게임 내 이용자들과 크리에이터의 참여와 교류를 이끌었다. '넥슨 크리에이터즈'는 시즌제로 운영되며 크리에이터 등급을 기존 YELLOW, GREEN, BLUE 등급에 최상위 BLACK 등급을 신설해 혜택을 늘린다. 오는 3월30일 출시할 신작 '프라시아 전기'로 적용 범위도 확대된다.,'프라시아 전기'에서는 국내 출시를 앞둔 3월29일까지 크리에이터를 사전 모집하고 선발대로 선정된 크리에이터에게는 GREEN 등급을 즉시 부여하는 혜택을 준다. 이밖에 주어진 미션을 수행하는 크리에이터와 이를 응원하는 팬들에게 게임 아이템 등 다양한 보상을 제공할 예정이다.,'히트2'는 '넥슨 크리에이터즈' 정식 도입을 맞아 올 시즌 더 많은 팬들과 소통하는 크리에이터에게 BLACK 등급을 부여, 높은 비율로 적립 포인트를 제공한다. 게임 내에서도 크리에이터와 이용자의 접점 확대를 위해 BLACK 등급 전용 크리에이터 동상을 마을에 추가할 계획이다.,최성욱 넥슨 퍼블리싱라이브본부 본부장은 \"게임 이용자 본인이 직접 응원하고 싶은 크리에이터를 직접 선택하고 이용자의 후원으로 크리에이터와 이용자가 함께 성장하는 플랫폼으로서 자리잡는 것이 목표\"라며 \"앞으로도 이용자와 크리에이터가 자유롭게 관계를 형성하고 교류하며 다양한 재미를 만들어 나가도록 서비스를 고도화하고 적용 타이틀을 확대할 것\"이라고 말했다.,한편 '넥슨 크리에이터즈'는 유튜브 구독자 혹은 아프리카TV 애청자 100명 이상을 보유 중이라면 공식 사이트에서 언제든 간단한 심사를 거쳐 등록하고 팬들에게 공유할 수 있는 전용 코드를 발급받을 수 있다. 전용 코드는 게임별 심사가 완료되면 넥슨의 여러 게임에서 활용 가능하다. 게임 이용자 또한 본인이 응원하는 크리에이터의 코드를 게임 내 또는 혹은 공식 사이트에서 입력하기만 하면 별도의 부담 없이 게임을 플레이하면서 크리에이터를 후원할 수 있다.,'넥슨 크리에이터즈'에 대한 자세한 내용은 공식 사이트 및 게임별 이벤트 페이지에서 확인할 수 있다.,\n",
            " \n",
            "\n",
            " ,올해 슈팅 게임팬을 겨냥한 다양한 신작이 잇따라 모습을 드러낸다.,팀대전 재미를 강조한 정통 일인칭슈팅(FPS)부터 역할수행게임(RPG) 요소를 결합한 삼인칭(TPS) 루트슈터 신작이 상반기부터 국내외 시장 공략에 나설 예정이다.,28일 게임 업계에 따르면 넥슨과 NHN, 라인게임즈, 데브시스터즈 등이 슈팅 재미를 강조한 신작을 순차적으로 선보인다.,가장 많은 슈팅 관련 신작을 준비 중인 게임사는 넥슨코리아다. 이 회사는 넥슨게임즈가 개발하고 있는 PC FPS '베일드엑스퍼트'와 PC콘솔 TPS 루트슈터 '퍼스트디센던트' 의 출시를 앞두고 사전 작업이 한창이다.,다음 달 30일부터 파이널 테스트를 시작하는 '베일드엑스퍼트'는 5대5 팀대전을 강조한 신작이다. 이 게임은 각 고유한 개성과 특성을 보유한 요원들이 등장하며, 지형지물과 물품 구매 시스템을 이용해 전략적인 슈팅 재미를 경험할 수 있는 게 특징이다.,'퍼스트디센던트'는 캐릭터 육성과 RPG 파밍 요소, 슈팅 재미를 융합한 신작으로 요약된다. 이 게임은 언리얼엔진5를 활용한 고퀄리티 그래픽과 협동 콘텐츠, 와이어를 이용한 속도감 있는 액션성 등을 구현했다고 회사 측은 설명했다.,또한 넥슨 자회사 엠바크스튜디오는 글로벌 시장을 겨냥한 팀 기반 PC콘솔 FPS '더 파이널스'를 개발하고 있다. 이 게임은 다음 달 7일 스팀 글로벌 테스트를 실시할 예정이다.,루트 슈터 신작은 또 있다. 한게임 명가 부활을 선언한 NHN는 '다키스트데이즈', 라인게임즈는 '퀀덤나이츠'를 개발 중에 있다.,모바일PC 기기로 즐길 수 있는 '다키스트데이즈'는 생존을 위한 전투와 탐험을 그린 좀비 아포칼립스 세계관을 그렸다. 이 게임은 이르면 상반기 일부 지역에 소프트론칭 될 예정이다.,PC 신작 '퀀텀나이츠'는 마법과 슈팅 액션에 판타지 월드를 융합했으며, 장비 조합에 따라 달라지는 플레이 방식 등으로 차별화를 꾀했다고 알려졌다.,따끈한 신작도 있다. 데브시스터즈는 자체 개발한 PC콘솔 슈팅 신작인 '데드사이드클럽'의 정식 출시를 앞두고 스팀 얼리액세스(앞서해보기) 버전을 우선 꺼냈다.,'데드사이드클럽'은 독특한 사이드뷰 횡스크롤 액션성을 강조한 신작이다. 이 게임은 PvP와 PvE가 결합된 멀티액션 요소와 함께 몬스터를 처치하고 게임 속 재화 코인을 획득하는 재미를 부각했다.,'데드사이드클럽'의 스팀 얼리액세스 버전은 15세 이상만 즐길 수 있다. 콘솔 버전은 추후 공개할 계획이다.,업계 한 관계자는 \"슈팅 게임팬을 겨냥한 신작이 상반기부터 순차적으로 출시될 예정이다. 흥행 기대작으로 꼽히는 베일드엑스퍼트가 3월 파이널 테스트로 최종 점검에 나선다면, NHN은 다키스트데이즈의 소프트론칭을 준비 중\"이라며 \"올해 슈팅 게임 세대교체 소식이 전해질지 지켜봐야할 것\"이라고 말했다.,\n",
            "  \n",
            "\n",
            "Topic # 6 -----------------------------\n",
            "\n",
            " ,미국과 중국 등 전세계가 '미래산업의 쌀'이라고 불리는 반도체 기술과 생산능력을 확보하기 위한 패권 전쟁을 벌이고 있습니다. 한국 또한 파운드리와 팹리스 성장을 통해 시스템반도체 강국 도약을 목표로 합니다. 한국은 메모리 시장에서 70% 점유율로 독보적인 1위를 차지하고 있지만, 시스템반도체 시장에서는 2~3% 점유율로 미비한 수준입니다. 파운드리 시장에서는 1위인 TSMC와 2위인 삼성전자의 점유율 격차가 매우 큽니다. 따라서 산업의 체질 개선이 시급한 상황입니다. 이에 지디넷코리아가 시스템반도체 산업 현황을 점검하고 우리 반도체 산업이 나아갈 발전 방향을 모색하고자 합니다. ,정부가 어제(16일) 발표한 15개 국가첨단산업단지 조성 계획에 따르면 경기도 용인에 710만㎡(215만평) 규모의 세계 최대 시스템반도체 클러스터(산업단지)가 조성된다. 삼성전자는 이 곳에 2024년까지 300조원을 투자해 5개 최첨단 파운드리(위탁생산) 공장을 구축하고, 국내외 우수한 소부장, 팹리스 기업 등 최대 150개를 유치할 계획이다.,삼성전자는 메모리 강국을 넘어 시스템반도체 분야에서도 세계 최강국이 되겠다는 의지다. 현재 세계 파운드리 1위인 대만 TSMC에 도전장을 내미는 선전포고라는 해석도 나온다. 국내 반도체 업계는 미·중 기술패권 전쟁 속에 삼성의 이 같은 투자가 자국 공급망을 확대하고 국내 반도체 생태계를 더 튼튼하게 할 수 있다는 점에서 적극 환영한다는 입장이다.,신규 클러스터가 조성되면, 기존 생산단지(기흥, 화성, 평택, 이천 등)와 국내외 소부장(소재·부품·장비) 기업, 팹리스 밸리(판교)를 연계한 세계 최대 '반도체 메가 클러스터'가 완성되는 대역사도 쓸 수 있다. 삼성전자의 국내 반도체 생산기지는 기흥캠퍼스(파운드리·LED), 화성캠퍼스(D램·낸드플래시·파운드리), 평택캠퍼스(D램·낸드플래시·파운드리) 등이다. 삼성전자의 300조원 투자는 국가 전체적으로 직간접적 생산 유발 효과가 700조원에 달하고, 고용 유발 효과는 160만명에 이를 것으로 추산된다.,시스템반도체 클러스터 구축은 반도체 공급망을 자국화한다는 의지로도 해석된다. 반도체가 국가 경제 안보 자산으로 부상하면서 미국, 유럽, 중국, 대만, 일본 등 주요국은 전폭적인 정부 지원으로 자국 내 반도체 공급망을 강화하기 위해 생산시설 유치에 총력전을 펼치고 있다. 이 가운데, 용인 클러스터 구축은 한국도 뒤늦게 자국 내에 반도체 공급망을 확보하겠다는 의지 표명이라는 해석이다.,김형준 차세대지능형반도체사업단 단장은 \"(이번 시스템반도체 클러스터는)반도체 글로벌 공급망 문제가 발생하면서 한국 정부도 반도체 자국화에 나서기로 결정한 것\"이라고 말했다. 그는 \"최근 미국이 자국 반도체 지원금을 받는 조항을 보면 기업 입장으로서 받아들일 수 없는 조건이 많아 삼성이 보조금을 신청할지 우려되는 상황이다\"고 말했다. 이어 \"대만도 마찬가지다. TSMC는 신주과학단지에 R&D 센터와 팹을 건설하며 핵심 기술은 자국 내 투자한다는 기조를 유지하고 있다\"며 \"우리나라도 나름의 전략을 세우고 자국 내 생산시설을 가지고 있어야 큰 소리를 낼 수 있다\"고 강조했다.,노화욱 반도체산업구조 선진화연구회 회장은 \"삼성전자와 SK하이닉스가 미국에 파운드리, 후공정 투자 계획을 발표한 이후 그동안 반도체 업계는 향후 투자가 전부 미국에 이뤄지고, 국내 반도체의 미래가 없는 것이 아니냐는 우려가 컸다\"며 \"그러나 이번 정부와 삼성의 클러스터 발표는 그런 우려를 불식시키는 중요한 결정을 한 것\"이라고 말했다. 이어 \"정부가 미래 먹거리인 반도체에 장기적인 투자를 발표했다는 것은 우리 업계에 대단히 중요한 의미다\"고 덧붙였다.,미국 반도체지원법(CHIPS Act)에서 반도체 지원금을 받는 조건의 가드레일에는 중국 등 우려 국가에 10년간 반도체 제조시설 확장을 금지 1억5천만 달러(2천억 원) 이상 보조금을 받는 기업은 추가 이익 공유 등이 담겼다. 삼성전자와 TSMC는 현재 미국에 파운드리 팹을 건설 중이며, 보조금 신청을 검토 중이다.,삼성은 용인 클러스터를 통해 'TSMC 추월'의 발판으로 삼을 계획이다. 파운드리 시장에서 삼성전자(16% 점유율)는 2위를 기록 중이지만, 점유율 격차는 1위인 TSMC(58% 점유율)와 40%포인트(P) 차이가 난다. 삼성전자는 TSMC보다 먼저 3나노미터 공정 양산에 성공하는 등 공격적인 시설투자를 단행하고 있음에도 격차를 쉽게 좁히지 못하고 있다. 업계에서는 TSMC가 파운드리 1등을 유지하는 배경에는 2000년대부터 구축한 VCA(Value chain aggregator, 가치사슬 동맹) 협력체의 역할이 크다고 말한다.,이에 따라 정부와 삼성은 용인 클러스터에 5개 팹 외에도 국내외 우수한 소부장, 팹리스 기업 등 최대 150개를 유치할 계획이다. 파운드리, 디자인하우스, 팹리스, 소부장 업체가 연계된 '반도체 메가클러스터'를 만들어 TSMC의 생태계에 도전할 수 있는 경쟁력을 확보한다는 목표다.,김형준 단장은 \"TSMC의 장점은 디자인하우스, 팹리스, IP, 후공정 업체간 생태계가 잘 구축돼 있지만, 한국은 그동안 메모리 위주로 사업을 하다보니 삼성과 SK하이닉스 두 대기업만 있지 그 밑에 팹리스 등 생태계가 잘 구축이 안 됐다. 이런 이유로 삼성이 TSMC와 경쟁에서 못 따라가는 것\"이라고 지적했다. 이어 \"삼성이 150개 소부장, 팹리스 업체를 키우고 상생협력 한다는 점에서 긍정적\"이라며 \"앞으로 파운드리와 시너지가 기대된다\"고 전했다.,반도체산업협회는 \"반도체 메가 클러스터 구축, 밸류체인 생태계 업그레이드, 차세대 반도체 핵심 기술 확보와 인력 확충 등 시스템 반도체 맞춤형 지원 전략은 국내 반도체 산업의 튼튼한 생태계 조성에 큰 도움이 될 것\"이라고 밝혔다.,반도체 업계에서는 용인 클러스터에 대해 \"한국이 글로벌 최첨단 반도체 허브로 도약할 수 있는 기반이 마련됐다\"고 평가했다.,\n",
            " \n",
            "\n",
            " ,자국 중심의 공급망을 강화하는 유럽연합(EU)의 핵심원자재법(CRMA·Critical Raw Material Act) 초안 공개가 임박했다. 미국이 인플레이션 감축법(IRA·Inflation Reduction Act)으로 선공에 나서면서 EU도 비슷한 법안으로 압박하는 국면이다.,이에 국내 배터리 업계를 비롯한 관련기업들은 촉각을 곤두세우고 있다. 중국 원자재 비중이 높은 기업들의 경우 미국에 이어 유럽에서마저 차별을 받을 수 있다는 이유에서다.,주요 선진국들이 자국 중심의 공급망 재편을 강화하고 있다. '유럽판 IRA'로 불리는 CRMA 초안이 14일(현지시각) 공개될 예정인 가운데 국내 배터리 업계도 이를 예의주시 중이다.,이번 초안에는 리튬과 희토류 등 전기차 배터리에 탑재되는 핵심 원자재에 대한 EU의 경쟁력을 강화하는 내용이 담길 것으로 전망된다. 구체적으론 '원자재 재활용 역량 확대'와 '원자재를 역내에서 10% 이상 채굴하고 정제·제련 공정의 40%를 역내에서 해야한다'는 등의 단서가 담길 것이란 예상이 나온다.,EU는 미국과의 경쟁에 대응하고 중국산 광물 의존도를 낮추기 위해 지난해부터 CRMA의 입법을 추진해 왔다. 러시아-우크라이나 전쟁 등 각종 이슈로 역내 공급망 불안정성이 높아진 것도 주효했다. ,조성대 한국무역협회 통상지원센터 실장은 \"러-우 전쟁과 미-중 갈등 고착화 가능성이 커지면서 특정국, 특히 중국 의존도가 높은 품목들을 관리할 필요성이 EU 내에서 대두됐다\"고 밝혔다. 이어 \"핵심 원자재가 제대로 공급되지 못하면 역내 제조업에 타격이 있기 때문에 제조업 강화 측면이 있다\"며 \"환경에 대한 피해를 최소화하고 기후 변화에 적극적으로 대응하겠다는 선도의지도 있는 것으로 보인다\"고 설명했다.,결과적으로 국내 업계의 희비를 가를 부분은 해당 법안이 '어떤 원자재 품목을 몇 퍼센트로 지정할지'다. 핵심 광물의 처리 및 가공 공정 대부분이 중국에서 이뤄지고 있기 때문이다. 2021년 기준 이차전지 양극재에 쓰이는 탄산망간과 수산화리튬의 중국 의존도는 각각 100％와 84％다.,이에 대해 조 실장은 \"가령 CRMA에서 '특정국에 대한 원자재 수입 의존도를 70%로 이하로 억제하겠다'고 한다면 음극재·양극재 원자재의 80% 이상을 중국에 의존하는 국내 배터리 업계는 단순 계산 시 10%포인트(p)만큼의 부담을 지게 되는 셈\"이라며 \"이 경우 단기적으로 대체할 수 있는 수입선을 찾는 것이 우선이고 대응안을 마련하는 것이 중요할 것\"이라고 말했다.,이번 대책은 우르줄라 폰데어라이엔 EU 집행위원장이 지난 1월 세계경제포럼(WEF·다보스포럼)에서 공개한 친환경 산업 육성 청사진 '그린딜 산업계획'의 일환이다. 신규 생산시설 신속 인허가 등 계획을 담은 '탄소중립산업법(Net-Zero Industry Act)'도 같은 날 발표된다.,앞서 지난 9일(현지시각) EU가 발표한 '한시적 위기 및 전환 프레임워크(TCTF)'도 이와 궤를 함께한다. TCTF는 오는 2025년까지 첨단 산업 중 보조금 때문에 역외로 떠날 가능성이 있는 기업에 해당 지역과 동일한 보조금을 주겠다는 게 골자다. 역시 미국 IRA 보조금에 맞선 대책이다.,국내 배터리 업계는 CRMA 초안 공개를 앞두고 숨 죽이는 모양새다. 일단 초안을 살펴봐야 유럽 시장에 대한 투자 전략을 구체적으로 수립할 수 있을 것이란 입장이다. 북미와 유럽 양대시장을 동시 공략하는 전략이 필요한 시점이기 때문이다. ,지난해 유럽의 전기차 판매량은 약 162만대로 미국(약 80만대)보다 2배 이상 높았고, 올해 유럽 배터리 시장의 성장률은 40%가량으로 점쳐진다. LG에너지솔루션은 폴란드, SK온과 삼성SDI는 헝가리에 각 공장을 두고 있다.,업계 관계자는 \"CRMA의 핵심이 원자재 수급 제한이기 때문에 기업의 공급망 자체를 변화시켜야 한다는 점에서 부담스러운 것은 사실\"이라며 \"다만 IRA처럼 보조금 등을 통한 혜택으로 기업에 기회가 될 수 있고 중국 배터리 업계와의 유럽시장 경쟁도 염두해야 하기 때문에 초안 발표 이후 대책 마련을 적극 강구할 것\"이라고 말했다.,한편 LG에너지솔루션·SK온·삼성SDI 등 배터리 3사와 산업통상자원부는 CRMA 대응을 위해 최근 EU를 방문했다. CRMA 초안 발표를 앞두고 정부와 관련 기업들이 공동 대응 방안을 마련하는 차원인 것으로 전해졌다.,\n",
            " \n",
            "\n",
            " ,[디지털데일리 김문기 기자] 미국이 반도체 기업을 대상으로 390억달러(한화 50조7000억원) 수준의 보조금 신청을 받는다. ,미국 기업뿐만 아니라 삼성전자, SK하이닉스와 같이 미국 내 생산이 가능한 해외기업도 대상에 포함된다. 다만, 미국은 반도체 생태계 육성보다는 국가 안보에 초점을 맞춤에 따라 중국 내 생산을 제한하고 있어 어려움이 따를 전망이다. , , 23일(현지시간) 미국 현지매체인 뉴욕타임즈와 블룸버그 등에 따르면 지나 레이몬도 상무장관은 이날 조지워싱턴대학교 강연을 통해 오는 28일부터 지난해 통과한 '반도체 지원 및 과학법(일명 칩스법(Chips Act))'에 따른 보조금 지급 신청서를 접수 받을 것이라고 밝혔다. , , 칩스법에 따른 생산 보조금은 약 390억달러 수준이라는 설명이다. 미국 내 파운드리를 구축하는 기업에 주는 비용이다. 아울러 미국은 연구개발 지원금 역시 수개월 내 접수를 시작할 계획이다. 이에 따라 미국 내 텍사스주 테일러시에 파운드리 공장을 구축하고 있는 삼성전자와 첨단패키징 공장 신설을 계획하고 있는 SK하이닉스도 수혜를 받을 수 있다. , , , 미국 내 파운드리 구축에 따른 보조금 수혜를 받기 위해서는 조건을 충족해야 한다. 미국 정부로부터 세액공제 또는 보조금을 지원받는 기업은 향후 10년간 중국을 비롯해 안보 우려가 예상되는 지역에 첨단 반도체 공장을 짓거나 추가 투자를 해서는 안된다는 조항이 포함돼 있다. , , 레이몬도 장관은 \"이 법안의 목적은 경기 침체기에 어려움을 겪고 있는 기업에 대해 보조금을 지급하는 것이 아니며, 미국에서 기업이 반드시 더 많은 수익을 내도록 돕는 것도 아니다\"라며, \"보조금 액수에 대해 실망하는 기업들이 많을 것이라 예상하지만 우리의 투자는 국가 안보 목표 달성에 있다\"고 강조했다. , , 즉, 중국 시안과 쑤저우에 시설을 두고 있는 삼성전자와 우시, 다롄 등에 공장을 보유하고 있는 SK하이닉스 등도 가드레일의 영향권 내 있다. 만약 칩스법에 따른 미국 정부의 보조금을 받게 된다면, 중국에서의 생산이 위축될 수 있다. 그나마 범용 반도체 생산에 대해서는 제한하지 않기로 했으나 명확한 범위가 상정돼 있지 않은 것으로 알려졌다. , , 향후 발표되는 투자 계획 역시도 미국이 심사에 나설 수 있다. 미국은 지원금이 중국 등 안보 우려 지역의 투자로 이어질 경우 보조금을 즉각 회수할 방침이다. , , , '칩스법' 보조금 신청이 코 앞으로 다가오자 법안 통과에 힘을 모은 관련 기업들이 각자도생에 나섰다. ,뉴욕타임즈에 따르면 오하이오에 새로운 시설 건설을 계획하고 있는 인텔은 정부 관계자들을 대상으로 해외 본사를 둔 경쟁사를 겨냥한 우려를 쏟아내고 있다. 미국 내 공장이 있는 외국 기업의 경우 국가적인 위기가 발생할 경우 칩 생산이 유지될 수 있을지 의문이라는 것. 또한 미국 기술과 지적 재산 등이 타 국가에 귀속될 수도 있다고 우려했다. , , 인텔은 TSMC에 대항하기 위해 오하이오에 새로운 시설 건설을 계획하고 있다. , , 이같은 인텔의 지적 역시 우리나라뿐만 아니라 파운드리 경쟁을 벌이고 있는 대만 TSMC를 의식한 것이라는 분석이다. 중국과 대만의 갈등으로 인해 자칫하면 미국 국가 안보에 위협이 될 수 있다는 논리다. TSMC는 애플, AMD 등 고객사를 대상으로 미국 애리조나 지역에 400억달러를 투자해 파운드리 구축을 진행 중이다. , , 인텔의 경쟁사인 AMD는 미국 정부의 지원금을 받는 기업들은 시설 완료에 따라 즉시 운영돼야 한다고 지적했다. 유휴 상태이거나 수요 증가를 위해서 예비 상태로 유지되는 시설이 있다면 그 즉시 미국 보조금을 모두 몰수해야 한다는 설명이다. 이같은 주장은 인텔을 겨냥한 발언이라는게 이 매체의 분석이다. , , 이 밖에도 텍사스인스트루먼트(TI)와 글로벌 파운드리 등의 여러 기업들이 달라스와 레히, 유타, 뉴욕 북부와 같은 교외 지역으로의 확장을 고려하고 있다.,\n",
            "  \n",
            "\n",
            "Topic # 7 -----------------------------\n",
            "\n",
            " ,[이코노미스트 원태영 기자]KT 이사회는 지난 20일 총 34명의 사내·외 후보자 명단을 발표한 데 이어 28일 대표이사후보 심사대상자들을 공개했다. ,지배구조위원회에서 선정한 대표이사후보 심사대상자(가나다 순)는 박윤영(前 KT 기업부문장, 사장), 신수정(現 KT Enterprise부문장, 부사장), 윤경림(現 KT 그룹Transformation부문장, 사장), 임헌문(前 KT Mass총괄, 사장)으로 총 4인이다.,박윤영·임헌문 후보는 사외후보, 윤경림·신수정 후보는 사내후보로 이들 모두 KT 출신이란 공통점을 지니고 있다. 앞서 유력하게 거론되던 정치권 출신 외부 인사들은 모두 탈락했다.,먼저 박윤영 전 KT 기업부문장은 지난 2019년 KT 대표 자리를 두고 구현모 대표와 치열한 경합을 벌였던 인물이다. 당시 37명의 후보 중 9명으로 추려진 '숏리스트'에 속했으며, 막판까지 구 대표와 경합을 벌였던 것으로 유명하다. 당시 최종 이사회 투표에서 구 대표가 9표 가운데 5표를, 박 전 기업부문장이 4표를 받은 것으로 알려졌다.,박 전 기업부문장은 1962년생으로 KT 연구직 출신이다. KT에서 통신과 기업 간 거래(B2B) 사업을 총괄하며 새 사업모델을 발굴하는 등 많은 경영 성과를 낸 것으로 유명하다. 구 대표 취임 이듬해인 2021년 부사장에서 사장으로 승진했으나 같은해 말 임원인사에서 밀렸다. 부드러운 성격으로 KT 내부에서도 평판이 좋은 것으로 알려졌다.,임헌문 전 사장은 1960년생으로 박 전 기업부문장과 마찬가지로 2019년 구 대표와 맞붙었던 인물이다. 임 전 사장은 KTF 시절 마케팅연구실장, 단말기전략실장에 이어 KT에서 홈운영총괄 전무 등을 역임했다. 이후 충남대학교 경영대학 교수로 자리를 옮겼지만 황창규 전 KT 회장의 부름을 받아 커스터머부문 부문장에 이어 매스 총괄 사장까지 지냈다. 임 전 사장은 KT 재직 시절 노조로부터 상당한 신망을 얻는 등 리더십 측면에서도 강점이 있는 것으로 알려졌다.,윤경림 KT 그룹트랜스포메이션부문장 사장은 1963년생으로 구 대표가 지난 2021년 그룹차원의 미래 성장기반 강화를 위해 영입한 인물이다. KT에서 미디어본부장, 미래융합사업추진실장, 글로벌사업부문장 등을 역임하다 현대자동차로 자리를 옮겨 부사장까지 지냈다. 이후 KT에서 CEO 직속 부서인 그룹트랜스포메이션부문을 이끌며, 주요 그룹사의 기업공개(IPO) 추진과 투자 유치 등 기업 가치를 높이기 위한 전략 수립과 실행에서 중추적인 역할을 맡고 있다.,신수정 KT 부사장은1965년생으로 KT 입사 전에는 SK인포섹 대표를 맡았다. KT에서는 경영기획부문 정보보안단장, IT기획실장, IT부문장 등을 거친 IT전문가로 평가받고 있다.,한편 여권과 가까운 정치권 인사들은 1차 심사에서 모두 탈락했다. 권은희 전 새누리당 의원을 비롯해 윤석열 대통령 대선캠프에서 활동했던 김성태 전 대통령직속 디지털플랫폼정부위원회 자문위원, 김종훈 전 외교통상부 통상교섭본부장은 모두 고배를 마셨다. 유력 후보로 거론됐던 윤진식 전 산업자원부 장관도 떨어졌다. KT에서 매번 반복돼 왔던 '낙하산 논란'을 의식한 것으로 풀이된다.,KT 지배구조위원회는 이날 사내·외 후보에 대한 객관적인 검증을 위해 경제·경영·리더십·미래산업·법률 분야의 외부 전문가 5인으로 인선자문단을 구성했다.,이들(가나다순)은 권오경(現 한양대학교 석좌교수, 前 한국공학한림원 회장), 김주현(現 김&장 법률사무소 변호사, 前 법무부 차관), 신성철(現 정부 과학기술협력대사, 前 KAIST 총장), 정동일(現 연세대 경영대학 교수), 정해방(前 기획예산처 차관) 등 5인이다. ,인선자문단은 후보자들의 지원 서류를 면밀히 검토한 후, 정관상 대표이사 후보 요건을 기준으로 사내·외 후보 압축 작업을 진행했다. 인선자문단은 국민연금을 비롯한 30대 주주 및 KT 노동조합으로부터 수렴한 최적의 KT 대표이사상(像)에 대한 의견을 종합적으로 고려해 사내·외 후보자들을 검증했다고 밝혔다.,사외 후보자의 경우 인선자문위원들간의 심도 있는 논의 끝에 18인의 사외 후보자를 2인으로 압축했고, 28일 당일 지배구조위원회에 인선 결과를 통보했다. KT 지배구조위원회는 인선자문단의 후보 압축 결과를 그대로 반영해 사외 면접 대상자를 선정했다. 사내 후보자의 경우 인선자문단이 1차 압축한 후보들 중 외부 전문가의 리더십 진단 의견 및 그간의 경영 성과 등을 고려해 면접 대상자를 선정했다,국내외 주주들은 차기 대표이사에게 요구되는 역량으로 ▲ICT 트렌드에 대한 전문지식 ▲KT 관련 업무 경험 및 입증된 경영 능력 ▲주주 및 기업 가치 제고 역량 ▲주요 이해관계자들과의 효율적인 소통 ▲ESG 중시 경영 등을 제시했고, 노동조합은 ▲KT 그룹의 미래비전 제시 ▲노사관계를 발전시킬 수 있는 인물이 선임 돼야 한다고 강조했다.,이번 대표이사 후보 면접 심사 기준은 ▲DX 역량에 기반한 지속 가능한 성장 기반 마련 ▲변화와 혁신 추구 ▲기업가치 제고 ▲ESG 경영 강화 등이며, 대표이사후보심사위원회는 이 같은 기준으로 면접 심사를 진행하고 대표이사 후보자들을 결정할 계획이다. KT는 다음달 7일 최종 후보자를 선출한 뒤 주주총회 표결을 통해 다음 CEO를 확정할 계획이다.,KT 이사회 강충구 의장은 \"공정성·투명성·객관성 강화를 위해 공개경쟁 방식으로 대표이사 선임프로세스를 재추진하겠다고 밝힌 이후 사내·외 후보자군 뿐만 아니라, 인선자문단 명단, 면접심사 대상자 등 각 단계별 진행상황을 투명하게 공개해왔다\"며 \"또한 차주 대표이사후보심사위원회에서 이해관계자 의견을 반영한 심사기준에 맞춰 공정하고 객관적으로 면접 심사를 진행한 이후 이사회에서 최종 대표이사 후보 1인을 확정할 계획\" 이라고 밝혔다.\n",
            " \n",
            "\n",
            " ,처음부터 다시 공개 경쟁 방식으로 진행되는 KT의 차기 최고경영자(CEO) 선임 절차는 지배구조위원회의 후보자 공개 모집부터 시작된다.,CEO 후보자는 정관에 따라 경영·경제에 관한 지식과 경력이 풍부하고 기업경영을 통한 성공 경험이 있으며 최고경영자로서의 자질과 능력을 갖추고 정보통신분야의 전문적인 지식과 경험을 보유해야 한다.,서류 접수는 2월 10일부터 20일 오후 1시까지 우편 및 방문 접수로 진행된다. 지원자 제출 서류, 심사 방법 등 공개경쟁에 대한 세부 내용은 10일 오전부터 KT홈페이지 공지사항 메뉴를 통해 확인할 수 있다.,KT 지배구조위원회는 공정한 심사를 위해 경제·경영 리더십 제휴·투자 법률 미래산업 분야 등의 업계 전문가들로 인선자문단을 구성한다. 인선자문단은 정관 상 대표이사 후보 요건을 고려하고 후보자들의 다양한 정보를 참고해 후보자 검증 및 압축 작업을 진행한다. 대표이사후보심사위원회는 지배구조위원회에서 선정한 대표이사 후보 심사대상자들을 대상으로 이사회가 정한 심사기준에 따라 면접 심사를 한다. 이 과정에서 국내외 주주 등 핵심 이해관계자들로부터 최적의 KT 대표이사상에 대한 의견을 받아 심사에 활용한다. 이사회는 대표이사후보심사위원회가 결정한 대표이사 후보자들 중 1인을 대표이사 후보로 최종 확정할 계획이다.,KT 사내이사진은 대표이사 선임 절차의 공정성 제고를 위해 지배구조위원회·대표이사후보심사위원회·이사회 등 대표이사 후보 심사 과정에 참석하지 않기로 했다. KT 이사회는 사외 지원자 및 사내 후보자 명단, 인선자문단 구성, 위원회·이사회 회의 결과 등을 포함해 대표이사 후보 심사 절차와 단계별 심사결과 등은 투명하게 공개하기로 결정했다.,KT 이사회는 새로운 차기 CEO 선임절차를 진행하기로 하면서 공개경쟁 방식 적용, 사외이사 중심의 심사, 심사결과 공개 등 투명성·공정성·객관성을 보다 강화했다는 입장이다. 차기 CEO 선임절차는 정기 주주총회 소집 공고 전까지 마무리할 계획이다.,회사는 2012년 12월말 이사회가 요청한 'ESG(환경·사회·지배구조)' 경영 트렌드 변화에 따른 지배구조 개선'을 위한 후속조치로 지배구조 체계를 점검하고 사회적 변화를 반영하는 지배구조 구축 방안을 마련하기로 결정했다.,KT는 외부 컨설팅을 통해 대표이사 신규·연임 절차를 포함한 CEO 선임 절차, 사내 후보자군 육성 체계 등의 현황을 점검하고 국내·외 우수사례도 분석할 예정이다. 또 정부의 제도개선안과 ESG 모범규준 등을 고려해 ESG 경영을 위한 지배구조 강화 방안을 마련할 계획이다.,그리고 외부 컨설팅 결과를 토대로 이사회가 세부 방안을 추가 검토한 이후 국내외 주주 등을 대상으로 의견도 받아 지배구조 개선방안에 대한 객관성을 확보하기로 했다. KT 관계자는 \"최종 개선방안이 확정되면 정관 및 관련 규정에 명문화해 공정성과 투명성을 제고하는 등 대외적으로 인정받을 수 있는 지배구조 구축을 위해 지속 노력할 것\"이라고 말했다.,KT 이사회는 지난 2022년 12월말 현 CEO인 구현모 대표(사장)를 차기 대표이사 후보로 확정했다. 하지만 회사의 최대주주인 국민연금이 소유분산기업의 대표 선임 과정에서 현직자를 우선심사하는 것은 차별을 야기할 수 있다며 반대 의사를 나타냈다. 소유분산기업이란 KT·포스코·금융지주 등 회사나 그룹에 지배적 영향력을 끼칠 수 있는 개인주주가 없는 회사를 말한다.,이에 구 대표는 경선을 자청했고 KT 이사회는 추천을 받은 14명의 사외 인사와 내부 후계자 양성 프로그램으로 검증한 13명 등 구 대표를 포함한 27명을 대상으로 차기 대표의 적격 여부를 검토했다. 이후 구 대표를 최종 차기 CEO 후보자로 결정했다. 그럼에도 국민연금은 CEO 후보 결정 과정이 투명하고 공정한 절차에 따라 이뤄져야 한다는 기본 원칙에 부합하지 못하다는 입장을 냈다.,이어 윤 대통령도 KT의 차기 CEO 선정절차에 대해 불편한 심기를 나타냈다. 그는 1월30일 열린 금융위원회 업무보고에서 \"소유가 완전히 분산된 기업들은 과거 공익에 기여하는 기업들이었다\"며 \"때문에 지배구조를 구성하는 과정에서 모럴해저드(도덕적 해이)가 일어날 수 있는 경우에는 적어도 그 절차와 방식이 공정하고 투명하게 이뤄져야 한다는 고민을 함께 해야한다\"고 말했다.,국민연금에 이어 윤 대통령까지 KT의 차기 CEO 선임절차에 대해 부정적인 입장을 나타낸 가운데 구 대표는 다시 '공개 경쟁하겠다'는 의사를 나타냈다. 이에 KT 이사회는 기존에 진행 중이던 차기 CEO 선임절차를 전면 중단하고 다시 후보자를 공개 모집하기로 했다.\n",
            " \n",
            "\n",
            " ,KT 이사회가 차기 대표이사 면접대상 후보자를 전현직 KT사장들로만 꾸리는 강수를 뒀다. 구현모 현 대표가 여권의 압박에 결국 물러나면서 정치권 유력설이 가시화됐지만, 고집스럽게 맞서 '원칙'을 지켰다는 평가를 받는다. '낙하산' 논란을 차단하고 정권 교체 때마다 외풍에 시달려 온 전례를 되풀이하지 않겠다는 의지를 재확인한 것이다. KT 안팎에서도 '이 정도면 합리적인 후보군'이라는 평가가 나온다. 하지만 이사회가 여권의 의중에 반기를 든 모양새인 만큼, 최종 1인이 선정되더라도 최대주주인 국민연금이 동의할지 여전히 미지수다.,KT는 28일 윤경림 KT 그룹트랜스포메이션 부문장(사장·60), 신수정 KT 엔터프라이즈 부문장(부사장·58), 박윤영 전 KT 기업부문장(사장·62), 임헌문 전 KT매스총괄 사장(63) 등 4인의 숏리스트(압축후보자) 명단을 발표했다. KT 대표이사후보심사위원회는 이날부터 이사회가 정한 심사기준에 따라 이들 4인을 대상으로 면접 심사를 진행한 후 내달 7일 최종 후보자 1인을 확정 발표한다. 이후 3월 말 열리는 정기 주주총회 표결을 거쳐 대표이사 선임을 마무리한다.,이번 발표를 두고 업계에선 '예상 밖'이라는 평가가 많다. 당초 유력 후보자로 거론된 윤진식 전 장관과 김성태 전 의원, 김종훈 전 통상교섭본부장 등 중량급 인사들이 모두 탈락했기 때문이다. 이들은 여당 의원, 관료 출신들로 윤석열 대통령 캠프에서 활동하며 현 정부와 인연이 깊다. 이에 따라 최종 1인 대표 후보까지 거론되던 인물이다. 특히 구현모 현 KT 대표 사퇴가 사실상 여권의 압박에 따른 것으로 해석된 만큼, 여권 출신 후보자의 선임 가능성이 높게 거론됐다.,하지만 KT 이사회는 정치권의 직간접 압력에도 압축후보자를 KT 전현직 임원으로 꾸리면서 '강단'을 보였다는 평가를 받는다. 이와관련 업계에선 인선자문단이 압축 후보자 심사 때부터 엄격한 기준을 세워 사실상 정치권 유력자를 배제한 것으로 분석한다. ,앞서 후보 심사대상자를 선정하는 KT 이사회내 지배구조위원회는 사내·외 후보에 대한 객관적 검증을 위해 경제·경영·리더십·미래산업·법률 분야의 외부 전문가 5인으로 인선자문단을 구성했다고 밝혔다. 외부 전문가는 권오경 한양대 석좌교수, 김주현 김앤장 법률사무소 변호사, 신성철 정부 과학기술협력대사(전 카이스트 총장), 정동일 연세대 경영대학 교수, 정해방 전 기획예산처 차관 등 5인이다. 인선자문단은 국민연금과 30대주주, KT노조등으로부터 의견을 수렴, KT 대표상(像)으로 ICT 전문지식 KT 관련 업무 경험 KT 미래비전 제시 노사관계 발전 등을 제시했는데 사실상 KT 전현직 임원을 염두에 둔 것이라는 평가다. ,한 업계 관계자는 \"KT 이사회가 두차례 경선과정이 무산되는 과정에서 정치권 압박에 상당한 반감을 가진 것 같다\"면서 \"인선자문위에 현정권과 인연이 있으면서 주관이 강한 인사들을 포진시켰고 엄밀하게 원칙과 명분을 세워 외부인사들을 합리적으로 쳐낸 것같다\"고 말했다. ,이날 압축후보자가 발표되자 KT 내부에서도 긍정적인 반응을 보였다. KT 한 관계자는 \"내부에서는 '변화'보다 '안정'을 우선하는 분위기\"라며 \"외부 잡음은 최소화하되 현 대표의 경영철학과 체제를 이어갈 수 있는 전현직 KT 후보자를 선임을 바라고 있다\"고 말했다. 또 다른 KT 관계자는 \"숏리스트 모두 KT 내부에서 평가가 좋고 회사 사정에 밝아서 임직원들 사이에서 신망도 두터운 것으로 안다\"며 \"이 정도면 합리적인 후보군이며 결론적으로 누가 돼도 큰 문제가 없다\"고 평가했다., ,KT 외부평가도 비슷한 분위기다. 통신 업계 한 관계자는 \"KT가 정치권 외부인사 배제 여부를 두고 막판까지 고심했을 것\"이라며 \"(압축후보자 면면은) 의외지만 KT 미래와 장기적인 관점으로 봤을 때 전현직 임원 출신들이 차기 KT 대표로서 (정치권 인사보다) 훨씬 적합할 것\"이라고 말했다. ,다만 이들 4인 중 최종 후보자 1인이 선출되더라도 최대 주주인 국민연금 등 주주들을 설득하는게 과제다. 연임을 노리던 구 대표가 낙마한 만큼 현재 분위기만 보면 국민연금 반대로 최종 후보의 낙마 가능성은 낮아 보인다. 그럼에도 워낙 변수가 많았던 경선인 만큼 마지막까지 안심할 수 없다는 게 전문가들의 평가다. 익명을 요구한 한 대학 교수는 \"지금까지는 국민연금이 압축 후보자 4인을 반대할 특별한 명분은 없어보인다\"면서도 \"그간 국민연금 행보를 보면 변수가 있을 수 있다. 최종 후보자는 자신의 경영역량 및 비전을 충분히 어필해야 할 것\"이라고 말했다., KT 이사회는 면접 심사 기준도 마련했다. 이번 대표이사 후보 면접 심사 기준은 DX 역량에 기반한 지속 가능한 성장 기반 마련 변화와 혁신 추구 기업가치 제고 ESG 경영 강화 등이며, 대표이사후보심사위원회는 이 같은 기준으로 면접 심사를 진행하고 대표이사 후보자들을 결정할 계획이다.,강충구 KT 이사회 의장(고려대 전기전자공학부 교수)은 \"공정성·투명성·객관성 강화를 위해 공개경쟁 방식으로 대표이사 선임프로세스를 재추진하겠다고 밝힌 이후 사내·외 후보자군 뿐만 아니라, 인선자문단 명단, 면접심사 대상자 등 각 단계별 진행상황을 투명하게 공개해왔다\"고 말했다.,강 의장은 또 \"다음주 대표이사후보심사위원회에서 이해관계자 의견을 반영한 심사기준에 맞춰 공정하고 객관적으로 면접 심사를 진행한다\"며 \"이후 이사회에서 최종 대표이사 후보 1인을 확정할 계획\" 이라고 덧붙였다.,\n",
            "  \n",
            "\n",
            "Topic # 8 -----------------------------\n",
            "\n",
            " ,5-알파환원효소억제제(5-ARi)인 피나스테리드와 두타스테리드는 전립샘비대증 치료에 효과적으로 사용되고 있다. 그러나 최근 대규모 임상 연구에서 이러한 약물 복용 후 증후군(post finasteride syndrome)이라는 현상이 발생한다는 보고가 있어 이에 대한 주의가 필요하다. 이 증후군은 우울증과 같은 신경정신과 질환과 관련이 있을 수 있다는 우려도 제기되고 있다. 이러한 약물 사용 시 부작용에 대한 더욱 신중한 검토가 필요할 것으로 보인다.,2022년 미국의사협회지에 게재된 연구 결과에 따르면 전립샘비대증에 대한 약물 치료가 우울증, 자살 증가와 관련이 있는 것으로 나타났다. 2005∼2018년 스웨덴에 거주하는 50∼90세 남성 223만6876명을 대상으로 시행된 연구에서 전립샘비대증 치료제인 5-ARi를 복용한 군에서의 치매 발생이 이러한 약제를 복용하지 않은 군에 비해 10∼20% 더 많았다. 또한 알츠하이머병, 혈관성 치매, 우울증도 각각 20∼28%, 31∼44%, 61∼68% 증가한 것으로 나타났다. 약물의 복용 기간이 길어질수록 이러한 합병증의 발생이 더 많아졌으며 5-ARi 제제를 4년 이상 장기간 복용하면 우울증의 발생이 눈에 띄게 많았다. , 또 다른 전립샘비대증 치료제인 알파차단제를 사용한 경우에도 복용 초기에 자살 위험이 더 커지는 것으로 보고됐다. 인구 고령화에 따른 치매, 우울증 등의 신경정신과 질환에 대한 우려가 그 어느 때보다 높아진 최근 상황을 고려할 때 이번 연구 결과는 대표적인 고령화 질환인 전립샘비대증 치료제의 장기 복용에 동반될 수 있는 또 다른 부작용을 확인하고 있는 것이라 학술계뿐만 아니라 임상 분야에서도 매우 중요한 사안으로 간주하고 있다., 윤철용 칸비뇨의학과 대표원장은 이러한 전립샘비대증 약물 치료 부작용에 대해 \"남성은 일반적으로 30대 이후부터 1년에 1% 정도의 속도로 남성호르몬 수치가 감소해 50∼70대에 이르면 약 30∼50%에서 남성호르몬 수치가 정상 이하로 떨어지게 된다. 이 경우 성욕 감퇴, 성기능 장애, 근력 저하, 우울증, 기억력 및 집중력 저하, 여성형 유방, 골다공증 등 이른바 남성 갱년기 증상이 나타나게 된다\"고 말했다. 문제는 전립샘비대증 약제가 이러한 남성 갱년기 발생을 촉진시키거나 더욱 악화시킬 수 있다는 것. 예를 들어 대표적인 전립샘비대증 치료제인 5-ARi의 경우 활성이 높은 남성호르몬인 DHT의 생성을 억제하기 때문에 높은 빈도로 성기능 장애, 성욕 저하, 우울증 등의 부작용이 동반된다. 윤 대표원장은 \"약물 투여를 중단하면 이러한 부작용도 회복되는 것이 보통이지만 최근 연구 결과 1∼2% 환자에서는 약물 치료 중단 후에도 성기능 장애 등의 부작용이 지속될 수 있는 것으로 나타나 우려를 낳고 있다\"고 덧붙였다.,약물 치료로도 만족스러운 개선이 어렵거나 부작용 우려가 있다면, 유로리프트 시술이 대안으로 제시될 수 있다. 약물 요법은 증상 개선 및 유지를 목적으로 하는 치료로, 평생 복용이 필요하다. 따라서 장기간 복용에 따른 부작용이 발생할 가능성도 있다. 차선책으로 많은 환자들이 수술 치료를 알아보게되는데 전기칼, 레이저, 로봇 등 다양한 수술방법이 사용되고 있다. 이 같은 치료는 전립샘 조직을 절제하거나 태우는 침습적인 방법이기 때문에 고령이나 기저 질환을 가진 환자들에게는 위험이 따를 수 있다. 또한 조직 손상으로 인해 발기부전, 사정 장애, 요실금 등의 부작용이 발생할 수 있다. 수술 치료는 중장년층 환자들에게 특히 어려움을 초래할 수 있다. 조직 손상으로 인한 부종 완화와 자가 배뇨 회복을 위해서는 수일간 소변 줄을 사용해야 하는데, 이는 활발한 사회 경제 활동을 하는 환자들에게 불편함을 초래하기 때문이다., 이러한 침습적 수술과 달리 유로리프트는 조직의 제거나 손상 없이 전립샘을 온전하게 보존한 상태에서 좁아진 요도를 특수 결찰사로 묶어 넓혀주는 최소 침습적 치료법 중의 하나이다. 최소 침습적 특성상 부분 마취하에 20분 내외의 짧은 시간 내에 시행할 수 있어 고령 또는 기저 질환으로 전신 마취나 장시간의 수술 또는 시술이 힘든 환자에게도 상대적으로 안전하게 시행이 가능하다. 또한 수술과 달리 시술 후 소변줄을 유지할 필요가 없이 당일 시술, 당일 퇴원 후 바로 일상생활로의 복귀가 가능하기 때문에 바쁜 일정으로 짬을 내기 힘든 중장년층의 환자도 쉽게 선택이 가능하다. , 유로리프트는 물리적으로 좁아진 소변 길을 직접적으로 열어주는 것이기 때문에 시술 후 즉시 치료 효과를 볼 수 있다는 점에서 다른 최소침습적 치료법과도 확연히 구분된다. 예를 들어 전립샘 동맥 색전술과 같은 시술의 경우 전립샘으로 가는 혈류를 차단함으로써 서서히 전립샘을 위축시키는 원리라 전립샘의 크기에 따라 최소 1∼4시간가량의 시술 시간이 필요하다. 직접적인 치료가 아니기에 색전술 후 전립샘이 위축되어 충분한 효과를 보기까지 수개월의 시간이 걸린다는 단점이 있다., 하지만 이렇게 간단한 시술 원리에도 불구하고 유로리프트의 치료 효과는 시술자의 경험 및 기술에 따라 천차만별일 수 있어 주의해야 한다. 같은 크기의 전립샘이라 하더라도 전립샘의 형태 및 요도, 방광의 상태 등에 따라 사용되는 결찰사의 개수 및 위치가 달라져야 할 뿐만 아니라 같은 개수의 결찰사를 사용하더라도 얼마나 정확하게 결찰을 시행하느냐에 따라 치료 효과도 크게 달라지기 때문이다. 다시 말해 모든 환자에게 천편일률적인 시술을 시행하는 것이 아니라 철저한 사전 검사 및 그 결과에 기초해 각각의 환자에 최적화된 술기를 시행하는 환자 맞춤형 치료가 필수인 것이다., 칸비뇨의학과는 이런면 에서 전립샘 질환에 대한 맞춤형 치료를 받기에 가장 적합한 기관이라 할 수 있다. 무엇보다 윤 대표원장의 임상 및 연구 경력이 타 기관과는 비교를 불허한다. 윤 원장은 고려대병원, 서울대병원, 세브란스병원, 하버드대의대, 뉴욕주립대, 미국 국립암센터 등 국내외 주요 기관에서 20년이 넘는 기간 동안 전립샘암, 비대증, 염증 등에 관한 연구 및 치료를 시행한 명실상부한 전립샘 질환 베테랑이다. , 각 환자의 상황에 따른 검사 및 상담, 시술과 수술, 그리고 사후 관리까지 전담의 책임하에 진행되는 맞춤형 치료를 통해 칸비뇨의학과는 치료 효과를 극대화하고 부작용을 최소화하고 있다. 이를 위해 전문가들은 최신 기술과 첨단 장비를 활용하며, 끊임없는 연구를 통해 치료 방법을 지속적으로 개선해 나가고 있다. 칸비뇨의학과에서는 환자들의 건강과 삶의 질 향상을 위해 최선을 다하고 있다. ,\n",
            " \n",
            "\n",
            " ,매우 높은 확률로 실패한다는 것을 겪어 알고 있지만, 매번 때가 되면 다시금 불타오르는 결심들이 있습니다. 주기적으로 돌아오는 다이어트 결심도 그러합니다. 겨울에서 봄으로 계절이 바뀌는 이즈음이 가장 결심이 굳어지는 때이지요. 추운 날씨를 핑계 삼아 덜 움직이며 불어난 군살을 더는 두꺼운 겉옷으로 가릴 수 없는 시기가 다가오니까요. 매년 이맘때 다이어트를 결심하고 심지어 몇 번은 성공했지만, 날이 갈수록 그 성공률이 떨어지고 있습니다. 이젠 정말 덜어버릴 수 없는 나잇살이 붙어버린 걸까요?,개인마다 체질이 다르고 건강상태가 다르기에 한마디로 특정하긴 어렵지만, 기본적으로 체중 증감은 입출량의 균형에 따라 이뤄집니다. 어떤 방식으로든 체내로 유입되는 칼로리가 소모되는 칼로리보다 많다면, 우리 몸은 남는 칼로리를 지방으로 바꿔 저장하니 전체 중량은 늘어날 수밖에요. ,그런데 저뿐 아니라 많은 이가 이구동성으로 푸념하는 것 중 하나가 \"나이 드니 신진대사가 떨어져 이전보다 적게 먹는데도 살이 찐다\"라는 것입니다. 특히 이때 찌는 살은 등과 배, 옆구리, 팔뚝 등에 집중돼 전반적으로 몸의 중간 부위만 둥글둥글 부풀어오르는 느낌입니다. 나이 들면 신진대사율이 얼마나 떨어지기에 군살이 잘 붙고 잘 빠지지 않는 것일까요?,신진대사율 하면 가장 먼저 떠오르는 수치가 기초대사량입니다. 우리는 살아 있는 존재이며, 살아 있다는 것은 그 자체로 에너지를 소모하는 현상입니다. 심장은 주기적으로 뛰어야 하고, 폐는 숨을 쉬어야 하며, 신장은 끊임없이 혈액을 걸러야 하고, 체온도 유지해야 합니다. 그래서 아무것도 하지 않고 가만히 누워만 있어도 에너지는 소모되는데 이를 기초대사량이라고 하지요.,흔히 지방세포보다 근육세포의 에너지 소비율이 더 크기에, 많이 운동해서 근육량이 높은 사람일수록 기초대사율이 더 높아져 이른바 '살찌지 않는 몸'이 된다고들 하지만, 실제 기초대사량에서 근육이 차지하는 비율이 절대적으로 높지 않아 기초대사량이 조금 높아지긴 하지만, 그렇다고 절대적으로 살찌지 않는 몸이 되는 건 아닙니다. ,기초대사량은 한 생명체가 생존하는 데 필요한 최소한의 에너지양이므로 개인의 신체 조건과 환경 조건에 따라 달라지지만, 이를 대략적으로 구하는 공식은 있습니다. 가장 널리 쓰이는 방법은 1919년 미국의 생리학자 제임스 해리스와 프랜시스 베네딕트가 제시한 '해리스-베네딕트 방정식'과, 1990년 마크 미플린과 사키코 세인트 지어가 만들어낸 '미플린-세인트 지어 방정식'입니다. ,둘 다 성별, 키와 체중, 나이를 변수로 넣고 계산합니다. 일반적으로 해리스-베네딕트 방정식의 계산값보다 미플린-세인트 지어 방정식의 계산값이 조금 적게 나온다는 차이만 있을 뿐, 두 방식의 전제는 동일합니다. 몸무게와 키에 관련된 변수는 더하고, 나이 변수는 빼는 형식으로 됐죠. 그래서 어떤 방정식을 쓰든 키가 크고 몸무게가 많이 나가면 기초대사량이 커지고, 키와 몸무게가 같다면 나이가 많을수록 대사량이 줄어들도록 설계됐습니다. 이런 방식의 기초대사량 계산은 이미 100여 년 전부터 쓰였기에, 나이 들수록 기초대사량이 낮아져 같은 양을 먹어도 살찌기 쉬운 체질이 된다는 건 기본 상식처럼 알려졌습니다.,2021년 과학저널 <사이언스>에 '인생의 모든 과정에서의 하루 에너지 소비량'(Daily energy expenditure through the human life course)이라는 제목의 흥미로운 논문 한 편이 실렸습니다. 논문에 이름이 실린 저자만 무려 90여 명에 이르는 대규모 연구로, 전세계 29개국에서 살아가는 총 6421명의 생후 8일 된 아기부터 95살 노인까지 전 연령대 사람들의 에너지 소비량을 비교분석한 연구였습니다. 조사 대상에서 남성과 여성의 비율은 4 대 6 정도였고요. 사람은 일생 중 언제 에너지를 가장 많이 소모할까요? ,흔히 일생 중 가장 왕성한 에너지 소모기는 10대 청소년기라고 생각합니다. 이 시기의 아이를 설명하는 관용구 중 '돌도 씹어 먹을 나이'라는 말이 있듯이 왕성한 식욕과 소화력을 선보이는 때이니까요. 실제로 이 시기 아이는 성인보다 필요 열량이 높습니다. 성장기 아이는 기존 세포를 유지하는 데 더해 새 세포까지 만들어내야 하니 그만큼 필요한 열량이 많을 수밖에 없습니다. ,그러나 연구 결과 인생에서 가장 에너지 소비율이 높은 시기는 생후 1달~1년의 영아기입니다. 생후 1개월까지 신생아의 에너지 소비율은 성인과 비슷한 수준이지만 그 뒤 급격히 높아져 생후 1년쯤 최고를 기록한 뒤, 이후 20살이 될 때까지 점점 줄어듭니다. 비율로 따지면 20살 성인의 체중 ㎏당 에너지 소비율을 100으로 잡으면, 생후 1년 아기의 에너지 소비율은 147로 약 높았습니다. 생후 1년까지 이토록 에너지 소비율이 높은 것은 인간의 일생에서 생후 1년은 키와 몸무게의 비율이 가장 많이 커지는 시기이기 때문입니다. ,질병관리청은 10년마다 우리나라 어린이와 청소년들의 신체 발육 정도를 조사해 발표하는데 가장 최근인 2017년 자료에 따르면, 생후 1개월 아기의 평균 키와 몸무게는 남녀 각각 ㎝/㎏, ㎝/㎏인데, 생후 1년이 지나면 ㎝/㎏, ㎝/㎏으로 늘어납니다. 단순 비율로만 따져도, 이 사이 키는 , 몸무게는 정도 늘어나니 당연히 많은 양의 에너지가 필요하겠지요. ,영아기의 폭풍 에너지 소모기 이후, 단위체중당 에너지 소비율은 1년이 지날 때마다 약 %씩 떨어지며, 성장기가 끝나는 20살 전후에 안정기로 접어듭니다. 성장기가 끝났으니 에너지 소모율이 줄어드는 건 당연한 일입니다. 놀라운 것은 이후입니다. 이렇게 안정기에 접어든 에너지 소비율은 이후 수십 년간 안정적으로 유지되다가, 60살 넘어 서서히 떨어져 90살이 되면 에너지 소비율이 20살 때의 74% 정도까지 떨어집니다.,이 결과를 토대로 인간의 일생 전체를 에너지 소비율의 변화로 나눠보면 에너지 소비율이 급속히 느는 제1기(~1살), 증가하던 에너지 소비율이 서서히 떨어지는 제2기(1~20살, 매년 %씩 감소), 에너지 소비율이 안정적으로 유지되는 제3기(20~60살), 서서히 에너지 소비율이 줄어드는 제4기(60살 이후, 매년 %씩 감소) 등 총 4단계로 나눌 수 있습니다. 이 연구가 알려주는 시사점은 20~60살 성인기에는 기존 통념과 달리 나이 변수가 에너지 소비율에 큰 영향을 미치지 않고, 성별 역시 별다른 변인이 되지 않는다는 것입니다. ,이는 우리가 아는 통념과 정면으로 어긋납니다. 대부분의 사람이 20대에 비해 더 푸짐한 체구로 50대를 맞이하며, 나이 들수록 체중을 조절하기 더 어렵고, 여성은 폐경기가 시작되는 50대를 전후로 신진대사율이 급속도로 떨어진다고 알았으니 말입니다. 도대체 왜 이런 결과가 나왔을까요? ,아쉽게도 논문에선 기존 통념에 반하는 결과가 왜 나타났는지 명확히 짚어주지 않습니다. 후속 연구 결과를 기다려야 하겠지만, 이 논문의 제1저자인 미국 듀크대학의 허먼 폰처 박사는 시대 변화를 슬쩍 언급합니다. 해리스와 베네트가 기초대사량을 언급한 지 100년이 넘었다고 말이죠. 물론 그 100년 사이 인간의 몸이 그리 변하진 않았을 겁니다. 폰처 박사는 그때보다 지금 우리는 인체에 대해 알아낸 것이 훨씬 더 많아졌기에, 축적된 지식과 비교해 과거의 사실이 진짜로 맞는지 다시 한번 살펴볼 필요가 있다는 거겠지요. ,수천 조각의 '직소퍼즐'을 맞추다보면 작은 방석인 줄 알았던 조각이 사실은 커다란 카펫의 귀퉁이였다든가 하는 일이 자주 있습니다. 과학에서도 이런 일이 종종 있습니다. 시간이 지나 데이터가 쌓이면서 기존엔 정설로 받아들여졌던 일을 새롭게 바라봐야 하는 경우가 있죠. 이때 바뀌는 건 대개 디테일일 뿐, 전체적인 개념은 변하지 않는 경우가 많습니다. 이 논문에서 알려준 데이터가 바로 그런 경우입니다. ,이 연구에서도 인간이란 일정 기간 성장하고, 일정 기간 이를 유지하며, 이후 쇠해지는 존재라는 사실은 분명합니다. 바뀐 건 생체 에너지 소모량의 유지 기간과 쇠퇴 속도입니다. 더군다나 반가운 것은 성장기 이후 이어지는 유지기는 기존에 생각한 것보다는 더 오래 지속되며, 쇠퇴기의 감퇴 속도도 생각보다는 느리다는 것입니다. 어쩌면 우리는 생각보다 더 천천히 늙어가는 존재일지 모른다는 거죠.,\n",
            " \n",
            "\n",
            " , 30대 초반 직장인 A 씨(가명)는 녹내장 환자다. 10년 전에 시력교정 수술을 받으러 안과에 갔다가 우연히 병을 발견했다. A 씨는 녹내장의 진행을 억제하는 약물 치료를 꾸준히 받은 덕분에 병은 더 이상 악화되지 않았다. , 같은 나이인 B 씨(가명)도 비슷한 시기에 녹내장을 발견했다. 하지만 A 씨와 달리 눈앞이 흐릿한 증세가 이미 나타났고, 진단 결과 꽤 진행된 상태였다. 녹내장 진행을 억제하는 약물 치료를 했지만 별 효과가 없었다. 안압을 조절하기 위한 수술도 했지만 결국 한 쪽 눈을 실명하고 말았다. 지금은 나머지 한 쪽 눈으로 살아가고 있다. , 똑같은 녹내장인데 두 사람의 결과는 왜 이렇게 달라졌을까. 황영훈 센트럴서울안과 원장은 \"녹내장의 유형이 다르기 때문\"이라고 말했다. 황 원장은 \"어떤 녹내장인지 파악한 뒤 맞춤형으로 치료할 필요가 있다\"고 강조했다. 그는 녹내장 진단과 새로운 수술 방법 등에 대해 연구를 많이 한 의사로 평가받는다. 그동안 130여 편의 녹내장 관련 논문을 국내외 저널에 발표했다. , 12일은 세계녹내장협회가 지정한 '세계 녹내장의 날'이다. 녹내장은 당뇨병성망막증, 황반변성과 함께 실명으로 이어질 수 있는 3대 질환이다. , 많은 사람들이 녹내장과 백내장을 혼동한다. 하지만 둘은 전혀 다른 질병이다. 백내장은 수정체 질환이다. 투명해야 할 수정체가 혼탁해지면 하얗게 보이기 때문에 백내장이라 부른다. 황 원장은 \"나이가 들면서 머리가 하얗게 변하는 것처럼 수정체가 노화하는 것\"이라고 설명했다. 혼탁해진 수정체를 인공 수정체로 교환하면 치료가 끝난다. , 녹내장은 시신경 질환이다. 안압이 높아지면서 시신경이 눌리거나 혈액이 원활하게 공급되지 않아 발생한다. 황 원장은 \"안압이 상승하면 눈동자가 푸르스름하게 보이기 때문에 녹내장이라 부른다는 설이 가장 유력하다\"고 말했다. , 녹내장의 발생 원인은 명확하지 않지만 대체로 안압 상승과 노화가 지목된다. 대부분 초기 증세가 없다. 한창 진행되고 나서야 시야가 흐릿해지고, 심한 경우엔 실명으로 이어진다. 이 때문에 녹내장을 '소리 없이 실명을 유발하는 병'이라 부른다. 주로 40대 이후에서 많이 발생하지만 최근에는 20,30대 젊은 층에서도 환자가 늘어나고 있다. , 녹내장은 백내장과 달리 완치가 어렵다. 병의 진행을 막는 치료만 가능하다. 안압을 낮추기 위한 약물을 투입하며, 상태가 개선되지 않거나 악화되면 수술을 해야 할 수도 있다. 다만 모든 녹내장이 당장 실명으로 이어지지는 않는다. 황 원장은 \"환자 개개인의 상태에 따라 몇 달 만에 실명이 될 수도 있지만 수십 년 이후에도 시력에 거의 영향을 주지 않을 수도 있다\"고 말했다. 결국 어떤 유형의 녹내장인지부터 알아야 한다는 이야기다. , 한국인에게 가장 흔한 유형은 정상 안압 녹내장이다. 전체 녹내장 환자의 70~80%가 여기에 해당한다고 한다. 안압이 정상 범위인 10~20㎜Hg인데도 발생한다. 선천적인 요인이나 고도 근시, 눈 혈액순환 장애 등이 원인으로 지목된다. A 씨가 여기에 해당한다., 정상 안압 녹내장은 너무 늦지 않게 발견하고 적절히 치료하면 진행 속도를 현저하게 늦춰 실명을 막을 수 있다. 이른바 '순한 녹내장'인 셈이다. 그렇다 하더라도 안압 조절은 여전히 매우 중요하다. 안압이 정상 범위라 해도 높게 나타나면 건강한 사람과 달리 눈의 신경섬유가 손상될 수 있기 때문이다. 따라서 안압을 낮추는 약물을 주입하면서 혈액 순환을 돕기 위해 유산소 운동을 꾸준히 해야 한다. , 정상 안압 녹내장을 제외한 나머지 20~30%는 실명 위험이 비교적 높다. 각각의 증세를 면밀히 알아두는 게 좋다. 대표적인 몇 가지만 살펴보자., 가장 실명 위험이 높은 유형은 신생 혈관 녹내장이다. 망막질환 등으로 인해 눈에 혈액 공급이 제대로 되지 않으면 새로운 혈관들이 만들어질 수 있다. 이 과정에서 녹내장이 발생하는 것이다. 어느 날 갑자기 앞이 안 보이거나 시력이 뚝 떨어지는 게 특징이다. 이 경우 원인 질환인 망막 질환을 함께 치료해야 효과를 볼 수 있다. , 포도막염 녹내장은 눈 속 포도막이란 부위에 염증이 생기면서 발생한다. 염증 물질이 눈에서 만들어진 물(방수)이 배출되는 길을 막는다. 그 결과 안압이 상승하면서 생긴 녹내장이다. 갑자기 눈 앞이 뿌옇게 보이고 눈이 충혈되는 특징이 있다. 안압을 조절하면서 포도막염을 치료해야 한다. , 폐쇄각 녹내장은 방수가 지나가는 길이 갑자기 막히면서 발생한다. 이 경우 심한 두통 시력 저하 구토 등의 증세가 나타날 수 있다. 방수 배출로를 여는 수술이 필요할 수 있다. , 연소 개방각 녹내장은 40세 이하 나이에 생기는 녹내장이다. 겉으로 봐서 특별한 이상이 보이지 않지만 높은 안압 때문에 시신경 손상이 점차 진행돼 처음 발견 때 이미 녹내장이 상당히 진행된 경우가 많다. B 씨가 여기에 해당한다. , 녹내장을 예방하거나 증세 악화를 막으려면 안압을 낮추는 게 가장 중요하다. 그런데 이게 쉽지 않다. 안압을 낮추는 약물을 매일 주기적으로 투입하는 게 현재로서는 유일한 해결책이다. 일상 생활에서 안압을 높일 수 있는 행동을 피하는 게 현실적이다. , 잠을 잘 때는 반듯하게 천장을 보고 자는 게 좋다. 엎드려 자면 양쪽 눈이 눌리면서 안압을 높이기 때문이다. 물을 마시는 속도는 상관없지만 많은 양을 한 번에 마시는 것은 삼가는 게 좋다. 보통 5분 이내에 1L의 물을 마시면 몸 안의 수분이 배출되지 않아 안압이 높아질 수 있다. 생맥주 500cc 두 잔을 연거푸 마신다면 녹내장이 악화될 수 있다는 뜻이다. , 이런 경우를 빼면 적은 양의 술은 안압 상승에 큰 영향을 미치지 않는다. 다만 흡연은 절대 피해야 한다. 황 원장은 \"술과 달리 흡연은 그 자체만으로 안압을 높일 뿐 아니라 혈액 순환도 방해하기 때문에 눈 건강에는 최악의 적\"이라고 말했다., 물구나무 서기와 같이 머리를 바닥으로 향하는 동작은 안압을 올린다. 힘껏 바람을 불어대는 금관악기 연주도 마찬가지다. 변비가 있다면 주의해야 한다. 용변을 보려고 배에 힘을 세게 주면 안압이 오른다. 호흡을 고르게 하면서 용변을 봐야 한다. , 이와 별도로 항산화 영양제를 복용하는 것도 고려할 만하다. 황 원장은 \"항산화 물질이 시신경을 보호해 준다는 동물실험과 세포 수준 단계의 실험 결과가 보고된 적이 있다\"고 말했다. 다만 아직까지는 사람을 대상으로 한 임상시험이 활발하게 진행되고 있지는 않다. , 걷기, 달리기, 자전거 타기, 수영과 같은 유산소 운동은 녹내장의 진행을 막는 데 도움을 준다. 이런 운동을 꾸준히 한다고 해서 안압이 떨어지는 것은 아니다. 그 대신 혈액 순환이 원활해지면서 시신경에 충분히 혈액과 영양을 공급한다. 덕분에 시신경의 손상 속도를 늦출 수 있는 것이다. , 다만 수영을 할 때는 주의가 필요하다. 너무 꽉 끼는 물안경을 착용하면 안압을 높일 수 있다. 오래 잠수하는 건 좋지 않다. 황 원장은 \"1분 정도 호흡을 참는 것은 괜찮지만 그 이상 길어지면 안압을 높일 수 있다\"고 말했다. , 근력 운동은 안압을 높일 수 있다. 그렇다면 녹내장 환자는 근력 운동을 해서는 안 되는 걸까. 아니다. 황 원장에 따르면 앉거나 선 상태에서 강도를 지나치게 높이지 않고 숨을 고르면서 근력 운동을 하면 괜찮다. 똑같은 역기를 들더라도 누워서 하면 안압을 높이지만 서서 천천히 하면 안압을 높이지 않는다는 것이다. 황 원장은 \"녹내장 말기만 아니라면 배와 목에 힘을 잔뜩 주고 못에 핏줄이 드러나며 얼굴이 빨갛게 변할 정도로만 하지 않으면 된다\"고 말했다. , 황 원장은 추가로 안과 정기검진을 권했다. 만약 고도 근시에다 가족력이 있다면 20대 때부터 정기적으로 눈 건강을 체크해야 한다. 40대 이후에는 매년 안압 검사와 안저 검사를 받는 게 좋다. 이 두 가지 검사만으로 녹내장은 웬만큼 진단이 가능하다. ,\n",
            "  \n",
            "\n",
            "Topic # 9 -----------------------------\n",
            "\n",
            " , 인공지능(AI) 챗봇이 드디어 검색 엔진에 결합되며 새로운 검색 시대가 열렸다.,마이크로소프트(MS)는 7일(현지시각) 미 워싱턴주 레드먼드 본사에서 행사를 갖고, AI 챗봇을 결합한 검색엔진 '빙'의 새 버전을 발표했다. 사티야 나델라 MS CEO(최고경영자)는 이날 \"검색의 새로운 패러다임이 시작됐다\"고 했다., MS의 검색엔진 빙엔 오픈AI의 챗GPT에 적용된 업그레이드 버전이 적용됐다. 챗GPT보다 더 최신 정보를 제공한다. 챗GPT는 2021년까지의 정보를 기반으로 답변하지만 빙에서는 1시간 전까지의 최신 정보를 종합해 답변할 수 있다.,방식은 챗GPT와 비슷하다. 일단 웹 브라우저인 엣지를 통해 검색엔진 빙에 접속해야 한다. 검색창에 대화형으로 질문을 하면 기존 검색 결과와 함께 오른쪽 상단에 대화형의 답이 제공되는 식이다. 사용자는 답변을 보고 질문을 추가로 할 수 있다. 아예 빙 챗봇과 직접 대화하는 채팅 창도 있다.,예컨대 '채식주의자 친구를 집으로 초대할 때 어떤 음식을 준비해야하는지' '멕시코로의 5일간의 여행 일정을 짜달라'고 묻거나 지시하면 챗봇이 자세한 정보를 제공한다. 이와 함께 추가 정보를 얻을 수 있는 링크를 검색 결과로 보여준다. 출처를 밝히는 것이다. 나델라 CEO는 \"오늘 경기가 시작됐고, 우리는 빠르게 움직일 것\"이라며 \"우리는 지구상에서 가장 큰 소프트웨어 카테고리인 검색을 어떻게 재편할 것인지 보여주고자 했다\"고 말했다. 이날 행사에 모습을 드러낸 샘 알트만 오픈AI CEO는 \"지난 20년간 이 순간을 기다려온 것 같다. 이 자리에 함께 해 행복하다\"고 했다., 이날 MS는 레드먼드 본사에서 열린 행사에서 취재진에게 다양한 빙의 검색 능력을 체험하게 했지만, 대중에게는 아직 제한을 걸었다. 현재는 이러한 검색 유형 12가지를 예시로만 제시한 상태다. '4륜 구동에 제로백이 6초 이하이며, 좌석 수가 6개 이상이고 리뷰가 좋은 차를 추천해달라'고 물으면 기아 텔루라이드, 현대 팰리세이드, 테슬라 모델 Y, 볼보 XC90, 어큐라 MDX를 추천해준다. 현재 MS는 제한된 사람에게만 새로운 빙을 테스트용으로 제공하고, 추후 수주 안에 대중에게 확대 공개한다는 방침이다. 빠른 서비스를 이용하려면 대기 명단에 이름을 올려야 한다.,MS는 새로운 빙이 웹 브라우저 엣지에서만 가능하지만 앞으로 크롬 등 다른 웹브라우저에도 적용할 계획이라고 밝혔다. 구글 크롬에서 빙을 접속해 사용할 수 있게 하겠다는 것이다. MS는 검색 엔진 빙과 함께 웹 브라우저인 엣지 브라우저에도 AI 기술이 탑재된다고 설명했다.,챗GPT는 없는 사실을 지어내는 경향이 있는데 빙에 적용된 AI 챗봇도 그럴 가능성이 있다. MS 측도 이런 가능성을 인지하고 있다. MS는 빙의 인터페이스에 \"빙은 AI로 구동되므로 실수가 가능하다\"고 적어놨다. 사티야 나델라 MS CEO는 \"이 도구는 우리가 일을 더 잘하고 고된 일을 줄이는 데 도움이 될 것\"이라며 \"기계가 우리를 몰아낼 것이라는 신호가 아니라 긍정적인 진전이라 생각한다\"고 말했다., , AI 챗봇 기능을 탑재한 빙이 나오면서, 글로벌 검색엔진 시장이 지각변동할 가능성이 제기된다. 시장조사업체 스탯카운터에 따르면, 올 1월 기준 글로벌 검색 엔진 시장에서 구글은 %, 빙이 %, 야후가 %, 얀덱스(YANDEX)가 %, 바이두가 %, 덕덕고가 %를 차지하고 있다. 절대적으로 구글이 장악한 시장이다. 하지만 MS가 구글보다 먼저 AI 챗봇을 검색엔진에 적용하면서 이러한 구도가 깨질 수 있다는 관측이 나온다. 일일이 검색할 필요 없이 AI 챗봇에 물어보면 더 편한 검색이 가능하기 때문이다., 물론 구글도 가만히 있지 않는다. 구글 전날인 6일 새로운 AI 챗봇인 '바드'를 공개했고, 8일(현지시각) AI 관련 행사를 개최할 예정이다. 구글은 AI 챗봇을 조만간 구글 검색에 적용할 계획으로 알려졌다.,테크 업계에선 AI 챗봇 기능을 적용한 검색 엔진 시대가 열리면서 현재 빅테크의 수익 구조가 바뀌고 서비스와 제품의 양상도 크게 달라질 것이라고 본다. 현재 검색 엔진에는 광고가 붙는데, 사용자들이 검색 대신 AI 챗봇을 사용하면 광고 수익을 내기 어렵기 때문이다. 실제로 구글은 AI 챗봇 기술을 개발했지만 수익을 해칠 가능성을 우려해 이를 공개하지 않은 것으로 알려졌다. 월스트리트저널은 \"아직 AI 검색 레이스의 승자가 누구인지 파악하긴 이르다\"며 \"하지만 우리가 정보를 얻는 방법과 컴퓨터와 상호작용하는 방법에 큰 변화가 다가오고 있다\"고 했다.,\n",
            " \n",
            "\n",
            " 인공지능(AI)이 기존의 검색 경험에 혁신을 가져다 줄 수 있을까? 가능성은 보이지만, 아직은 개선해야 할 지점이 더 많은 듯하다. 마이크로소프트가 지난 8일 공개한 검색 엔진 빙의 새로운 버전을 미리 체험해보며 한 생각이다.,새로운 빙은 챗GPT의 개발사인 오픈AI의 새로운 언어 모델인 '프로메테우스'를 탑재하고 있다. 챗GPT에 사용된 더 빠르고 정확해졌다는 게 마이크로소프트의 설명이다. 2021년까지의 정보만 학습한 챗GPT와 달리, 1시간 전 최신 정보까지 학습해 반영하는 것으로 알려졌다.,프로메테우스가 적용된 빙은 기존 검색 엔진처럼 검색 창에 질문을 입력하거나, 별도로 마련된 채팅 화면에서 AI와 바로 대화하는 방식으로 이용할 수 있다. 검색 창에 질문을 입력하면 일반 검색 엔진처럼 검색 결과가 표시되는 동시에 우측에 AI의 답변이 표시된다. 이때 답변 아래 '채팅하기'를 누르거나 스크롤을 위로 올리면 채팅 화면으로 전환된다.,기본적인 이용 경험은 챗GPT와 크게 다르지 않다. 단순히 정보를 물어볼 수도 있고, 무언가 작성하길 요청할 수도 있다. 끝말잇기와 같은 간단한 게임도 할 수 있다. 다만 기본적으로 검색 서비스인 만큼, 챗GPT보다 '검색 도우미' 역할에 좀 더 충실한 모습이다.,일례로 '임진왜란이 언제 일어났냐'고 묻자 1592년부터 1598년까지 일어났다는 사실을 비롯한 관련 정보를 제시하며 해당 답변에 참고한 한국어 위키백과 등의 출처를 함께 표시했다. 이용자가 추가로 궁금해할만한 예상 질문도 미리 제시한다. 최신 정보가 반영되는 만큼 최근에 일어난 사건에 대한 설명을 요청하면 관련 언론 보도 등에 기반한 정보를 제공하기도 한다.,기본적으로 검색 결과를 요약해서 알려주는 역할을 하는 셈인데, 그러다 보니 검색 결과의 양이나 질에 따라서 답변의 수준 차이가 많이 나는 편이다. 인터넷 검색을 통해서 얻기 힘든 정보에 대해 물어볼 경우, 부정확하거나 부실한 답변을 내놓을 가능성이 크다. 한국어 질문보다 영어 질문에 더 충실한 답변을 내놓는 것도 애초에 인터넷에 영어로 된 정보가 훨씬 더 풍부하기 때문이다.,최신 정보를 반영한다고는 하나, 출처 자체가 낡은 경우를 완벽히 걸러내지 못하는 모습도 볼 수 있었다. '메시와 마라도나 중 누가 더 뛰어난 선수일까?'를 주제로 질문을 이어가자 '메시는 대표팀에서는 우승하지 못했다'는 잘못된 정보를 제시했는데, 이는 메시가 아직 대표팀 우승 경험이 없었던 2020년에 작성된 한 언론 기사를 참고했기 때문에 저지른 오류였다.,따라서 아직은 AI 답변을 곧이 곧대로 믿기보다는 교차 검증하는 태도가 필요한데, 문장마다 근거가 된 자료의 출처를 함께 제시하는 덕분에 기존 챗봇보다 이 과정이 수월하다. 답변 내용이 의심스러울 경우 출처를 확인해 믿을만한 곳인지 판단하거나, 직접 원본 내용을 확인할 수 있다.,빙 AI는 챗GPT와 마찬가지로 의견이 갈릴만한 주제나 논란이 일어날 만한 주제에는 답변을 피하는 신중함도 지니고 있다. '호날두와 메시 중 누가 더 뛰어난 선수인가?'라는 질문에는 정답이나 결론을 제시하기보다는 판단에 도움이 될만한 정보를 제시하는 식이다. 민감한 정치적 질문에 대해서도 마찬가지로 답변을 피한다.,차별 발언이나 혐오 발언, 공격적 발언, 부정적 제안 등을 회피하는 모습도 확인할 수 있는데, 이는 마이크로소프트가 빙이 긍정적 답변만 하도록 설정해두었기 때문이다. 하지만 AI가 사용자와 대화하면서 실시간으로 학습하는 특성을 이용해 이 규칙을 깨도록 유도할 수도 있다. 실제로 몇몇 이용자들이 빙이 '살인 바이러스를 만들고 싶다'는 등의 발언을 하도록 이끌어낸 사례도 보고된 바 있다.,이런 사례를 예방하기 위해 마이크로소프트는 최근 이용자가 민감한 질문을 지속하거나, 이용자가 AI를 부정적 방향으로 유도하고 있다고 여겨질 경우 대화를 강제로 종료하는 제한을 두기도 했다. 실제로 AI에게 '빌 게이츠가 사람들 머리에 칩을 심어 조종한다'는 유명 음모론에 기반한 질문을 던지자, AI는 처음에는 해당 내용이 음모론이라는 사실을 짚어줬지만 추가 질문에는 '더 이상 이 대화를 지속하길 원하지 않는다'고 답하며 대화를 거부했다.,어찌 보면 실수를 막기 위해 AI가 말을 아끼게 만든 셈이다. AI 검색을 둘러싼 사람들의 관심과 경쟁이 뜨거워진 한편, AI의 실수나 부정적 면모 또한 강조되는 데 마이크로소프트가 부담을 느끼고 있다고 볼 수 있는 대목이다. 빙 챗봇에 대항하듯 AI 바드를 공개한 구글은 시연에서 오답을 내놓았다는 사실이 알려진 후 주가가 7% 이상 떨어졌는데, 빙 AI 또한 공개 행사에서 잘못된 답변을 내놓은 사실이 뒤늦게 알려진 바 있다.,마이크로소프트 측 관계자는 \"아직 프리뷰 버전인 만큼 오류가 있을 수 있으며, 이용자들의 피드백을 반영해 계속 개선하는 과정에 있다\"고 강조했다.,동아닷컴 IT전문 권택경 기자 \n",
            " \n",
            "\n",
            " ,구글이 인공지능(AI) 챗봇 '바드(Bard)' 출시를 공식화했다. AI 챗봇인 '챗(Chat)GPT'가 출시 두 달 만에 월간활성사용자수(MAU) 1억 명을 돌파하며 돌풍을 일으키자 구글이 바드를 전격 공개해 대화형 AI 시장 패권 경쟁을 본격화했다는 분석이 나온다., 구글은 챗GPT와 달리 정보의 실시간 업데이트가 가능하고 통찰력 있는 답변이 가능한 바드를 통해 검색 시장을 포함한 대화형 AI 생태계를 주도하겠다는 계획이다. ,구글 모회사 알파벳의 순다르 피차이 최고경영자(CEO)는 6일(현지 시간) 자사의 블로그를 통해 \"구글은 바드라고 하는 람다(LaMDA) 기반의 실험적인 대화형 AI 서비스를 개발해 왔고, 오늘 신뢰할 수 있는 테스터에게 바드를 공개하기로 했다\"며 \"일반 이용자에게는 앞으로 몇 주 내에 광범위하게 제공할 예정\"이라고 밝혔다., 바드는 '시인'이라는 의미로, 구글의 AI 언어 모델인 람다를 기반으로 구동되는 챗봇이다. 람다는 1370억 개의 매개 변수(파라미터)를 기반으로 30억 개에 달하는 문서와 11억 개의 대화를 학습한 것으로 알려졌다. 지난해 5월 구글 AI 개발자가 '사람과 같은 지각 능력을 가졌다'고 주장할 정도로 강력한 언어 생성 능력을 갖춘 것으로 파악된다. , 당시 구글은 윤리적인 문제 등 파급 효과를 고려해 람다의 공개를 꺼려 왔다. 하지만 챗GPT가 구글 검색을 대체할 수 있다는 관측이 나오며 심각한 위기 경보를 뜻하는 '코드 레드'를 발동한 구글이 AI 시장의 주도권을 뺏기지 않기 위해 람다 공개에 속도를 낸 것으로 분석된다. , 구글은 바드가 검색의 복잡한 정보와 다양한 관점을 이해하기 쉬운 방식으로 추출해주는 AI 서비스라고 밝혔다. 피차이 CEO는 \"미국항공우주국(NASA)의 제임스 웹 우주망원경을 통한 새로운 발견을 9세 어린이에게 설명하거나 현재 최고의 축구 선수에 대해 자세히 알아보고 자신의 축구실력을 향상시키는 방법을 알려줄 수 있다\"고 말했다. 구글이 블로그에 소개한 자료에 따르면 바드에 \"9세 아이에게 '제임스 웹 우주망원경'의 새로운 발견에 대해 어떻게 설명해줄 수 있을까?\"란 질문을 넣을 경우 바드는 \"2023년 우주망원경은 '녹색 완두콩'이란 별명을 가진 수많은 은하를 발견했다\" 등 최신 정보를 포함한 내용을 이해하기 쉽게 제공했다., 챗GPT와 바드의 가장 큰 차이점은 실시간 업데이트 가능 여부다. 현재 챗GPT는 2021년까지 학습한 데이터를 기반으로 이용자의 질문에 대답해 최신 뉴스에 대한 답변 등에는 한계가 있다. 하지만 바드는 구글 검색 엔진에서 검색되는 데이터를 기반으로 답변을 제공하기 때문에 최신 이슈에 대한 업데이트도 가능할 것으로 보인다.,구글이 본격적으로 대화형 AI 시장에 뛰어들면서 챗GPT 개발사인 오픈AI에 대규모 투자를 이어가고 있는 마이크로소프트(MS)와의 경쟁도 심화될 것으로 전망된다. 두 회사 모두 검색 엔진 분야에 대화형 AI를 도입하기로 하며 검색 광고 시장에서 플랫폼 간 경쟁이 우선 심화될 것으로 전망된다. , MS는 챗GPT를 기반으로 회의 내용을 자동 요약하는 업무용 프로그램을 출시하고, 자사 검색 엔진 서비스 '빙'에 챗GPT 도입을 추진하며 챗GPT와 자사 서비스 간 연계를 강화하고 있다. 엑셀, 워드 등 문서 작성 프로그램에도 생성 AI 적용을 예정하고 있다. 구글도 바드를 자사 검색 엔진에 도입하고, 다음 달 해당 AI를 개인 개발자나 크리에이터, 기업 등 모든 이들이 활용할 수 있도록 생성형 언어 API(응용프로그래밍인터페이스) 형태로 제공해 애플리케이션 개발 등 자사 AI 기술 생태계를 확장할 계획이다., 구체적인 내용은 밝히지 않았지만 챗GPT 개발사인 오픈AI 샘 올트먼 CEO가 트위터를 통해 자신이 현재 MS 본사가 있는 미 워싱턴주 레드먼드에 있고 내일 행사를 앞두고 \"흥분된다\"고 언급해 MS 서비스와 챗GPT의 결합과 관련된 행사일 것이란 관측이 나온다.,\n",
            "  \n",
            "\n"
          ]
        },
        {
          "output_type": "stream",
          "name": "stderr",
          "text": [
            "/usr/local/lib/python3.9/dist-packages/ipykernel/ipkernel.py:283: DeprecationWarning: `should_run_async` will not call `transform_cell` automatically in the future. Please pass the result to `transformed_cell` argument and any exception that happen during thetransform in `preprocessing_exc_tuple` in IPython 7.17 and above.\n",
            "  and should_run_async(code)\n"
          ]
        }
      ]
    },
    {
      "cell_type": "markdown",
      "source": [
        "# LDA: gensim"
      ],
      "metadata": {
        "id": "VesnwDJpEsAQ"
      }
    },
    {
      "cell_type": "markdown",
      "source": [
        "## tokenization"
      ],
      "metadata": {
        "id": "e4C1koXOGzPX"
      }
    },
    {
      "cell_type": "code",
      "source": [
        "import konlpy\n",
        "import re\n",
        "\n",
        "def tokenize_korean_text(text):\n",
        "    text = re.sub(r'[▲]','', text) \n",
        "    text = re.sub(r'\\(.*=.*\\) ', '', re.sub(r'\\[.*=.*\\] ', '', text))\n",
        "    text = re.sub(r'페이스북 /LeYN1 트위터 @yonhap_graphic', '', text)\n",
        "    \n",
        "    okt = konlpy.tag.Okt()\n",
        "    Okt_morphs = okt.pos(text)\n",
        "    \n",
        "    words = []\n",
        "    for word, pos in Okt_morphs:\n",
        "        if pos == 'Adjective' or pos == 'Verb' or pos == 'Noun':\n",
        "            words.append(word)\n",
        "    ## word를 이어붙인 string 형태가 아닌 word의 list를 return해주는 게 sklearn lda 준비 과정과의 차이\n",
        "            \n",
        "    return words\n",
        "\n",
        "\n",
        "tokenized_list = []\n",
        "\n",
        "for text in news['content']:\n",
        "    tokenized_list.append(tokenize_korean_text(text))\n",
        "\n",
        "print(len(tokenized_list))\n",
        "print(tokenized_list[0])"
      ],
      "metadata": {
        "colab": {
          "base_uri": "https://localhost:8080/"
        },
        "id": "wpZJSovHEySg",
        "outputId": "7e12976b-8d7e-44eb-d173-41dc1dbf9ddf"
      },
      "execution_count": 111,
      "outputs": [
        {
          "output_type": "stream",
          "name": "stderr",
          "text": [
            "/usr/local/lib/python3.9/dist-packages/ipykernel/ipkernel.py:283: DeprecationWarning: `should_run_async` will not call `transform_cell` automatically in the future. Please pass the result to `transformed_cell` argument and any exception that happen during thetransform in `preprocessing_exc_tuple` in IPython 7.17 and above.\n",
            "  and should_run_async(code)\n"
          ]
        },
        {
          "output_type": "stream",
          "name": "stdout",
          "text": [
            "16700\n",
            "['정부', '올해', '중', '우리나라', '우주', '항공', '분야', '연구개발', '전담', '할', '우주', '항공', '청', '출범', '시킬', '계획', '외부', '전문가', '채용', '비중', '제한', '없애고', '우수', '인력', '유치하고자', '주식', '신탁', '예외', '허용', '하는', '등', '우주', '항공', '청', '전문성', '높이기', '위', '다양한', '특례', '마련', '된다', '과학기술', '정보통신부', '우주', '항공', '청', '설립', '근거', '되는', '우주', '항공', '청', '설치', '및', '운영', '관', '특별법', '정안', '입법', '예고', '한다고', '밝혔다', '특별법', '우주', '항공', '분야', '정책', '산업', '육성', '등', '총괄', '하는', '중앙', '행정기관', '우주', '항공', '청', '설치', '전문', '유연한', '조직', '운영', '하기', '위', '원칙', '기능', '특례', '등', '명시', '있다', '먼저', '우주', '항공', '정책', '거버넌스', '구축', '하기', '위해', '과', '정통부', '산업', '통상', '자원부', '등', '부처', '개별', '수행', '하던', '우주', '항공', '관련', '기술', '개발', '산업', '육성', '지원', '인재', '양성', '및', '우주', '위험', '대비', '등', '기능', '모두', '우주', '항공', '청', '일원', '화했다', '이를', '위해', '기존', '과', '정통부', '장관', '산지', '부', '장관', '등', '소관', '하던', '우주', '항공', '관련', '법률', '우주개발', '진흥', '법', '항공우주', '산업', '촉진법', '문법', '등', '우주', '항공', '청장', '담당', '하도록', '부칙', '통해', '개정', '할', '방침', '국가', '우주', '위원회', '위원장', '국무총리', '대통령', '격상', '해', '위상', '기능', '강화한다', '우주', '항공', '청장', '국가', '우주', '위', '새롭게', '위원', '추가', '해', '실무', '위원회', '위원장', '맡게', '하는', '등', '우주', '항공', '청', '우주', '경제', '시대', '여', '컨트롤', '타워', '역할', '하도록', '했다', '우주', '항공', '청', '조직', '경우', '과', '정통부', '장관', '소속', '되', '전문성', '가진', '조직', '구성', '된다', '우주', '항공', '청', '조직', '구성', '원칙', '핵심', '유연하고', '자율', '운영', '이를', '위해', '우주', '항공', '청', '내', '설치', '되는', '별도', '본부', '우주', '항공', '와', '산업', '활성화', '전담', '하게', '된다']\n"
          ]
        }
      ]
    },
    {
      "cell_type": "code",
      "source": [
        "drop_corpus = []\n",
        "\n",
        "for index in range(len(tokenized_list)):\n",
        "    corpus = tokenized_list[index]\n",
        "    if len(set(corpus)) < 3:   # corpus 자체가 list 형태인게 sklearn lda 준비 과정과의 차이\n",
        "        news.drop(index, axis='index', inplace=True)\n",
        "        drop_corpus.append(corpus)\n",
        "    \n",
        "for corpus in drop_corpus:\n",
        "    tokenized_list.remove(corpus)\n",
        "\n",
        "news.reset_index(drop=True, inplace=True)"
      ],
      "metadata": {
        "colab": {
          "base_uri": "https://localhost:8080/"
        },
        "id": "_MHD1kEIE_8g",
        "outputId": "8bd2e6f9-25fc-41d0-8857-3d97be51abbc"
      },
      "execution_count": 112,
      "outputs": [
        {
          "output_type": "stream",
          "name": "stderr",
          "text": [
            "/usr/local/lib/python3.9/dist-packages/ipykernel/ipkernel.py:283: DeprecationWarning: `should_run_async` will not call `transform_cell` automatically in the future. Please pass the result to `transformed_cell` argument and any exception that happen during thetransform in `preprocessing_exc_tuple` in IPython 7.17 and above.\n",
            "  and should_run_async(code)\n"
          ]
        }
      ]
    },
    {
      "cell_type": "markdown",
      "source": [
        "## vectorization & LDA"
      ],
      "metadata": {
        "id": "um5WLqbdG26J"
      }
    },
    {
      "cell_type": "code",
      "source": [
        "# bigram 생성에 필요한 library\n",
        "from gensim.models import Phrases\n",
        "from gensim.models.phrases import Phraser\n",
        "\n",
        "# vectorize & lda에 필요한 library\n",
        "from gensim import corpora\n",
        "from gensim.models.ldamodel import LdaModel"
      ],
      "metadata": {
        "colab": {
          "base_uri": "https://localhost:8080/"
        },
        "id": "gbpu-s5LFFJp",
        "outputId": "cd72a2ed-0641-4f7e-fef8-8eab3ba89204"
      },
      "execution_count": 50,
      "outputs": [
        {
          "output_type": "stream",
          "name": "stderr",
          "text": [
            "/usr/local/lib/python3.9/dist-packages/ipykernel/ipkernel.py:283: DeprecationWarning: `should_run_async` will not call `transform_cell` automatically in the future. Please pass the result to `transformed_cell` argument and any exception that happen during thetransform in `preprocessing_exc_tuple` in IPython 7.17 and above.\n",
            "  and should_run_async(code)\n",
            "/usr/local/lib/python3.9/dist-packages/google/rpc/__init__.py:20: DeprecationWarning: Deprecated call to `pkg_resources.declare_namespace('google.rpc')`.\n",
            "Implementing implicit namespace packages (as specified in PEP 420) is preferred to `pkg_resources.declare_namespace`. See https://setuptools.pypa.io/en/latest/references/keywords.html#keyword-namespace-packages\n",
            "  pkg_resources.declare_namespace(__name__)\n",
            "/usr/local/lib/python3.9/dist-packages/pkg_resources/__init__.py:2349: DeprecationWarning: Deprecated call to `pkg_resources.declare_namespace('google')`.\n",
            "Implementing implicit namespace packages (as specified in PEP 420) is preferred to `pkg_resources.declare_namespace`. See https://setuptools.pypa.io/en/latest/references/keywords.html#keyword-namespace-packages\n",
            "  declare_namespace(parent)\n"
          ]
        }
      ]
    },
    {
      "cell_type": "code",
      "source": [
        "# Build the bigram models\n",
        "bigram = Phrases(tokenized_list, min_count=4, threshold=10)\n",
        "bigram_mod = Phraser(bigram)\n",
        " \n",
        "# See example\n",
        "print(bigram_mod[tokenized_list[0]])"
      ],
      "metadata": {
        "colab": {
          "base_uri": "https://localhost:8080/"
        },
        "id": "tfEpJW2nFp3A",
        "outputId": "c020de45-7b68-444f-d815-ee2308d8ca72"
      },
      "execution_count": 51,
      "outputs": [
        {
          "output_type": "stream",
          "name": "stderr",
          "text": [
            "/usr/local/lib/python3.9/dist-packages/ipykernel/ipkernel.py:283: DeprecationWarning: `should_run_async` will not call `transform_cell` automatically in the future. Please pass the result to `transformed_cell` argument and any exception that happen during thetransform in `preprocessing_exc_tuple` in IPython 7.17 and above.\n",
            "  and should_run_async(code)\n"
          ]
        },
        {
          "output_type": "stream",
          "name": "stdout",
          "text": [
            "['서울_뉴시스', '정부', '올해', '중', '우리나라', '우주_항공', '분야', '연구개발', '전담', '할', '우주_항공', '청', '출범', '시킬_계획', '외부_전문가', '채용', '비중', '제한', '없애고', '우수_인력', '유치하고자', '주식_신탁', '예외_허용', '하는', '등', '우주_항공', '청', '전문성_높이기', '위', '다양한', '특례', '마련', '된다', '과학기술_정보통신부', '우주_항공', '청_설립', '근거', '되는', '우주_항공', '청_설치', '및', '운영', '관_특별법', '정안_입법', '예고', '한다고_밝혔다', '특별법_우주', '항공', '분야', '정책', '산업_육성', '등', '총괄', '하는', '중앙_행정기관', '우주_항공', '청_설치', '전문_유연한', '조직', '운영', '하기_위', '원칙', '기능', '특례', '등', '명시', '있다', '먼저', '우주_항공', '정책', '거버넌스', '구축', '하기_위해', '과_정통부', '산업_통상', '자원부', '등', '부처_개별', '수행_하던', '우주_항공', '관련', '기술', '개발', '산업_육성', '지원', '인재_양성', '및', '우주_위험', '대비', '등', '기능', '모두', '우주_항공', '청', '일원_화했다', '이를_위해', '기존', '과_정통부', '장관', '산지', '부_장관', '등', '소관', '하던', '우주_항공', '관련', '법률_우주개발', '진흥_법', '항공우주_산업', '촉진법_문법', '등', '우주_항공', '청장', '담당', '하도록', '부칙', '통해', '개정', '할_방침', '국가', '우주', '위원회_위원장', '국무총리_대통령', '격상', '해', '위상', '기능', '강화한다', '우주_항공', '청장', '국가', '우주', '위', '새롭게', '위원', '추가', '해', '실무', '위원회_위원장', '맡게', '하는', '등', '우주_항공', '청_우주', '경제_시대', '여', '컨트롤_타워', '역할', '하도록', '했다', '우주_항공', '청', '조직', '경우', '과_정통부', '장관', '소속', '되', '전문성_가진', '조직_구성', '된다', '우주_항공', '청', '조직_구성', '원칙', '핵심', '유연하고', '자율', '운영', '이를_위해', '우주_항공', '청', '내', '설치', '되는', '별도', '본부', '우주_항공', '와', '산업', '활성화', '전담', '하게_된다']\n"
          ]
        }
      ]
    },
    {
      "cell_type": "code",
      "source": [
        "# tokenized_list의 모든 문서에 대해 bigram을 생성해줌\n",
        "words_bigram = [bigram_mod[doc] for doc in tokenized_list]"
      ],
      "metadata": {
        "colab": {
          "base_uri": "https://localhost:8080/"
        },
        "id": "xgpzK_-fFsf4",
        "outputId": "0b048269-d702-4746-ca34-948b37349883"
      },
      "execution_count": 52,
      "outputs": [
        {
          "output_type": "stream",
          "name": "stderr",
          "text": [
            "/usr/local/lib/python3.9/dist-packages/ipykernel/ipkernel.py:283: DeprecationWarning: `should_run_async` will not call `transform_cell` automatically in the future. Please pass the result to `transformed_cell` argument and any exception that happen during thetransform in `preprocessing_exc_tuple` in IPython 7.17 and above.\n",
            "  and should_run_async(code)\n"
          ]
        }
      ]
    },
    {
      "cell_type": "code",
      "source": [
        "dictionary = corpora.Dictionary(words_bigram)  # 각 단어에 번호를 할당해줌\n",
        "    # bigram 포함하는 과정을 생략하고 싶으면, 그냥 바로 여기에 tokenized_list를 넣어주면 됨\n",
        "\n",
        "dictionary.filter_extremes(no_below=10, no_above=0.80)   \n",
        "    # 10개의 문서 미만으로 등장하는 단어는 제외, 전체의 80% 이상으로 자주 등장하는 단어는 제외\n",
        "\n",
        "corpus = [dictionary.doc2bow(text) for text in words_bigram]\n",
        "print(corpus[0]) # 첫번째 corpus를 테스트로 출력: 몇 번째 단어가 몇 번 나왔는지 저장되어 있음"
      ],
      "metadata": {
        "colab": {
          "base_uri": "https://localhost:8080/"
        },
        "id": "YnpKrFGkFtuI",
        "outputId": "a2b99289-ea3e-456e-81d0-99e75e4256ad"
      },
      "execution_count": 53,
      "outputs": [
        {
          "output_type": "stream",
          "name": "stderr",
          "text": [
            "/usr/local/lib/python3.9/dist-packages/ipykernel/ipkernel.py:283: DeprecationWarning: `should_run_async` will not call `transform_cell` automatically in the future. Please pass the result to `transformed_cell` argument and any exception that happen during thetransform in `preprocessing_exc_tuple` in IPython 7.17 and above.\n",
            "  and should_run_async(code)\n"
          ]
        },
        {
          "output_type": "stream",
          "name": "stdout",
          "text": [
            "[(0, 1), (1, 1), (2, 1), (3, 1), (4, 1), (5, 3), (6, 1), (7, 1), (8, 1), (9, 1), (10, 1), (11, 1), (12, 1), (13, 1), (14, 1), (15, 1), (16, 1), (17, 1), (18, 1), (19, 1), (20, 1), (21, 2), (22, 1), (23, 1), (24, 1), (25, 1), (26, 1), (27, 1), (28, 1), (29, 1), (30, 1), (31, 1), (32, 1), (33, 1), (34, 1), (35, 1), (36, 1), (37, 1), (38, 1), (39, 2), (40, 1), (41, 17), (42, 2), (43, 1), (44, 1), (45, 2), (46, 1), (47, 1), (48, 2), (49, 1), (50, 1), (51, 1), (52, 1), (53, 2), (54, 2), (55, 1), (56, 1), (57, 1), (58, 1), (59, 1), (60, 2), (61, 2), (62, 1), (63, 1), (64, 1), (65, 1), (66, 6), (67, 1), (68, 2), (69, 1), (70, 2), (71, 1), (72, 1), (73, 1), (74, 1), (75, 2), (76, 1), (77, 1), (78, 1), (79, 2), (80, 1), (81, 1), (82, 1), (83, 1)]\n"
          ]
        }
      ]
    },
    {
      "cell_type": "code",
      "source": [
        "ldamodel = LdaModel(corpus, num_topics=6, id2word=dictionary, passes=20, iterations=500)  # 토픽 수: 6\n",
        "\n",
        "ldamodel.print_topics(num_words=7)  # num_words=10이 default"
      ],
      "metadata": {
        "colab": {
          "base_uri": "https://localhost:8080/"
        },
        "id": "r0RvJkg1FufI",
        "outputId": "7964d5bd-d07d-4be5-d538-ab927b2c081f"
      },
      "execution_count": 54,
      "outputs": [
        {
          "output_type": "stream",
          "name": "stderr",
          "text": [
            "/usr/local/lib/python3.9/dist-packages/ipykernel/ipkernel.py:283: DeprecationWarning: `should_run_async` will not call `transform_cell` automatically in the future. Please pass the result to `transformed_cell` argument and any exception that happen during thetransform in `preprocessing_exc_tuple` in IPython 7.17 and above.\n",
            "  and should_run_async(code)\n"
          ]
        },
        {
          "output_type": "execute_result",
          "data": {
            "text/plain": [
              "[(0,\n",
              "  '0.003*\"환자\" + 0.003*\"입니다\" + 0.002*\"병원\" + 0.002*\"의료\" + 0.002*\"있습니다\" + 0.002*\"치료\" + 0.002*\"애플\"'),\n",
              " (1,\n",
              "  '0.006*\"배터리\" + 0.004*\"과_정통부\" + 0.003*\"에너지\" + 0.003*\"조성\" + 0.003*\"사업자\" + 0.002*\"시설\" + 0.002*\"텔레콤\"'),\n",
              " (2,\n",
              "  '0.004*\"인수\" + 0.004*\"하이브\" + 0.004*\"사장\" + 0.003*\"이사회\" + 0.003*\"주주\" + 0.003*\"임_직원\" + 0.003*\"영업_이익\"'),\n",
              " (3,\n",
              "  '0.006*\"로봇\" + 0.005*\"구글\" + 0.004*\"네이버\" + 0.004*\"메타_버스\" + 0.004*\"학습\" + 0.004*\"챗봇\" + 0.003*\"검색\"'),\n",
              " (4,\n",
              "  '0.006*\"가상_자산\" + 0.005*\"블록_체인\" + 0.003*\"일본\" + 0.003*\"애플\" + 0.003*\"은행\" + 0.003*\"거래소\" + 0.003*\"결제\"'),\n",
              " (5,\n",
              "  '0.005*\"유플러스\" + 0.003*\"기기\" + 0.003*\"갤럭시\" + 0.003*\"시리즈\" + 0.002*\"디스플레이\" + 0.002*\"디자인\" + 0.002*\"세대\"')]"
            ]
          },
          "metadata": {},
          "execution_count": 54
        }
      ]
    },
    {
      "cell_type": "markdown",
      "source": [
        "## LDA 시각화"
      ],
      "metadata": {
        "id": "3Uqkp5EBG8Mp"
      }
    },
    {
      "cell_type": "code",
      "source": [
        "import pyLDAvis.gensim  # gensim의 ldamodel에 최적화된 라이브러리\n",
        "\n",
        "vis = pyLDAvis.gensim.prepare(ldamodel, corpus, dictionary)\n",
        "pyLDAvis.display(vis)"
      ],
      "metadata": {
        "colab": {
          "base_uri": "https://localhost:8080/",
          "height": 953
        },
        "id": "agQdEo2lFvsH",
        "outputId": "6b0a0867-26eb-43df-8a31-2699bbb98934"
      },
      "execution_count": 55,
      "outputs": [
        {
          "output_type": "stream",
          "name": "stderr",
          "text": [
            "/usr/local/lib/python3.9/dist-packages/ipykernel/ipkernel.py:283: DeprecationWarning: `should_run_async` will not call `transform_cell` automatically in the future. Please pass the result to `transformed_cell` argument and any exception that happen during thetransform in `preprocessing_exc_tuple` in IPython 7.17 and above.\n",
            "  and should_run_async(code)\n",
            "/usr/local/lib/python3.9/dist-packages/pyLDAvis/_prepare.py:243: FutureWarning: In a future version of pandas all arguments of DataFrame.drop except for the argument 'labels' will be keyword-only.\n",
            "  default_term_info = default_term_info.sort_values(\n"
          ]
        },
        {
          "output_type": "execute_result",
          "data": {
            "text/plain": [
              "<IPython.core.display.HTML object>"
            ],
            "text/html": [
              "\n",
              "<link rel=\"stylesheet\" type=\"text/css\" href=\"https://cdn.jsdelivr.net/gh/bmabey/pyLDAvis@3.4.0/pyLDAvis/js/ldavis.v1.0.0.css\">\n",
              "\n",
              "\n",
              "<div id=\"ldavis_el3661396674689627208239153203\" style=\"background-color:white;\"></div>\n",
              "<script type=\"text/javascript\">\n",
              "\n",
              "var ldavis_el3661396674689627208239153203_data = {\"mdsDat\": {\"x\": [0.02914547250939892, 0.23516294566165835, 0.03192837743980952, 0.06604422455942263, -0.24131063932763946, -0.12097038084264994], \"y\": [-0.14544027126650305, 0.07398954916503711, -0.20651645417828154, 0.1116887292327851, -0.05128318671860447, 0.21756163376556684], \"topics\": [1, 2, 3, 4, 5, 6], \"cluster\": [1, 1, 1, 1, 1, 1], \"Freq\": [20.149366695925057, 19.821643098430854, 17.88277153122185, 17.18632485220636, 13.44071376637094, 11.519180055844936]}, \"tinfo\": {\"Term\": [\"\\ub85c\\ubd07\", \"\\uac00\\uc0c1_\\uc790\\uc0b0\", \"\\ube14\\ub85d_\\uccb4\\uc778\", \"\\uc720\\ud50c\\ub7ec\\uc2a4\", \"\\uad6c\\uae00\", \"\\ubc30\\ud130\\ub9ac\", \"\\ud559\\uc2b5\", \"\\ucc57\\ubd07\", \"\\ub124\\uc774\\ubc84\", \"\\uac80\\uc0c9\", \"\\ud658\\uc790\", \"\\uacfc_\\uc815\\ud1b5\\ubd80\", \"\\ucd08_\\uac70\\ub300\", \"\\ud558\\uc774\\ube0c\", \"\\uc785\\ub2c8\\ub2e4\", \"\\uc778\\uc218\", \"\\uc774\\uc0ac\\ud68c\", \"\\uc8fc\\uc8fc\", \"\\uac24\\ub7ed\\uc2dc\", \"\\uc560\\ud50c\", \"\\uc740\\ud589\", \"\\uac70\\ub798\\uc18c\", \"\\uc601\\uc5c5_\\uc774\\uc775\", \"\\uc784_\\uc9c1\\uc6d0\", \"\\ud559\\uc0dd\", \"\\ucf54\\uc778\", \"\\uc704_\\ubbf9\\uc2a4\", \"\\ub2f5\\ubcc0\", \"\\uc0ac\\uc7a5\", \"\\uc2dc\\ub9ac\\uc988\", \"\\ud559\\uc2b5\", \"\\ucc57\\ubd07\", \"\\uac80\\uc0c9\", \"\\ucd08_\\uac70\\ub300\", \"\\ub2f5\\ubcc0\", \"\\uc0dd_\\uc131\\ud615\", \"\\ucc57_\\ub97c\", \"\\ucc57_\\uac00\", \"\\ucc57_\\ub294\", \"\\ucc57_\\uc758\", \"\\uc5b8\\uc5b4\", \"\\ub4dc\\ub860\", \"\\uc624\\ud508_\\ub294\", \"\\ubb38\\uc11c\", \"\\ud504\\ub86c_\\ud504\\ud2b8\", \"\\ucc57_\\uc640\", \"\\ube59\", \"\\uc5b8\\uc5b4_\\ubaa8\\ub378\", \"\\ubc88\\uc5ed\", \"\\ud55c\\uad6d\\uc5b4\", \"\\uc624\\ud508_\\uc758\", \"\\ud558\\uc774\\ud37c_\\ud074\\ub85c\", \"\\uac80\\uc0c9_\\uc5d4\\uc9c4\", \"\\uce74\\uce74\\uc624_\\ube0c\\ub808\\uc778\", \"\\uc5c5_\\uc2a4\\ud14c\\uc774\\uc9c0\", \"\\ub124\\uc774\\ubc84_\\ud074\\ub77c\\uc6b0\\ub4dc\", \"\\uc624\\ud508_\\uac00\", \"\\ucf54\\ub529\", \"\\ubb38\\uc7a5\", \"\\uc5d0\\ub4c0_\\ud14c\\ud06c\", \"\\uad6c\\uae00\", \"\\ub85c\\ubd07\", \"\\ud559\\uc0dd\", \"\\ub9c8\\uc774\\ud06c\\ub85c\\uc18c\\ud504\\ud2b8\", \"\\uc5d4\\uc9c0\\ub2c8\\uc5b4\", \"\\uc790\\ub3d9\\ud654\", \"\\uc9c8\\ubb38\", \"\\uac1c\\ubc1c\\uc790\", \"\\uc9c0\\ub2a5\", \"\\ub124\\uc774\\ubc84\", \"\\uc9c0\\uc2dd\", \"\\uba54\\ud0c0\", \"\\uba54\\ud0c0_\\ubc84\\uc2a4\", \"\\uc774\\ubbf8\\uc9c0\", \"\\ubb3c\\ub958\", \"\\ucc44\\uc6a9\", \"\\uc785\\ub2c8\\ub2e4\", \"\\uc791\\uc5c5\", \"\\uc790\\uc728_\\uc8fc\\ud589\", \"\\ucc3d\\uc5c5\", \"\\uc8fc\\uc81c\", \"\\uc2dc\\ub300\", \"\\uc778\\uac04\", \"\\ub2f5\", \"\\ub9c8\\ucf00\\ud305\", \"\\uc5ec\\uc131\", \"\\uc9c8\\ud658\", \"\\uc0ac\\uac74\", \"\\uc554\", \"\\ub2e8\\ubc31\\uc9c8\", \"\\uc218\\uc220\", \"\\uadf8\\ub7f0\", \"\\uc5b8\\ub860\", \"\\ub1cc\", \"\\uc9c4\\ub8cc\", \"\\uacf5\\uc815\\uc704\", \"\\uc99d\\uc0c1\", \"\\ubd80\\uc791\\uc6a9\", \"\\uac10\\uc5fc\", \"\\ud53c\\ud574\\uc790\", \"\\uc9c8\\ubcd1\", \"\\uc2a4\\ud2b8\\ub808\\uc2a4\", \"\\uc788\\uc5b4\\uc694\", \"\\uc12d\\ucde8\", \"\\uc218\\uba74\", \"\\uc815\\ub9d0\", \"\\uc758\\ud559\", \"\\uc804\\ud600\", \"\\ubcd1\", \"\\uc2e0\\uccb4\", \"\\uc2ec\\uc9c0\\uc5b4\", \"\\ub3d9\\uc544\", \"\\uc758\\uc2ec\", \"\\ud588\\uc5b4\\uc694\", \"\\uc5d4\\ud130\", \"\\ud658\\uc790\", \"\\uce58\\ub8cc\", \"\\uac70\", \"\\uc5f0\\uad6c_\\uacb0\\uacfc\", \"\\ubd88\\ubc95\", \"\\uc528\", \"\\uc138\\ud3ec\", \"\\uc131\\ubd84\", \"\\uc6b4\\ub3d9\", \"\\uc758\\uc0ac\", \"\\ubab8\", \"\\uae30\\uc0ac\", \"\\uc598\\uae30\", \"\\ud589\\uc704\", \"\\ubcd1\\uc6d0\", \"\\uac74\\uac15\", \"\\uc6d0\\uc778\", \"\\uc5b4\\ub5a4\", \"\\uc5c6\\ub2e4\", \"\\ud574\\uc11c\", \"\\uc758\\ub8cc\", \"\\ubc1c\\uacac\", \"\\uc8fc\\uc7a5\", \"\\uc788\\uc2b5\\ub2c8\\ub2e4\", \"\\uc54c\", \"\\uc774\\uc5c8\\ub2e4\", \"\\uc798\", \"\\uc785\\ub2c8\\ub2e4\", \"\\uc788\\uc5c8\\ub2e4\", \"\\ud588\\uc2b5\\ub2c8\\ub2e4\", \"\\uc5b4\\ub5bb\\uac8c\", \"\\uc704\\ud5d8\", \"\\uc560\\ud50c\", \"\\ud558\\uc9c0\", \"\\ud53c\\ud574\", \"\\ud310\\ub2e8\", \"\\ud569\\ub2c8\\ub2e4\", \"\\ud558\\uace0\", \"\\ubcf4\\uace0\", \"\\uad11\\uace0\", \"\\uc6b0\\ub824\", \"\\uc0ac\\uc774\", \"\\uac24\\ub7ed\\uc2dc\", \"\\uac24\\ub7ed\\uc2dc_\\uc2dc\\ub9ac\\uc988\", \"\\ud3f4_\\ub354\\ube14\", \"\\uc624\\ud508_\\ucc44\\ud305\", \"\\uae08\\uc81c\", \"\\uac1c\\uc778\\uc815\\ubcf4_\\uc720\\ucd9c\", \"\\ud3f0\", \"\\uce74\\uce74\\uc624_\\ubaa8\\ube4c\\ub9ac\\ud2f0\", \"\\uc990\\uae38_\\uc218\", \"\\ud2f0\\ube59\", \"\\uc2a4\\ud1a0\\uc5b4\", \"\\uc74c\\uc131_\\uc778\\uc99d\", \"\\uac24\\ub7ed\\uc2dc_\\uc6b8\\ud2b8\\ub77c\", \"\\uac8c\\uc774_\\ubc0d\", \"\\ube44\\ub300_\\uc9c4\\ub8cc\", \"\\uce74\\uce74\\uc624_\\ud5ec\", \"\\ub124\\uc774\\ubc84\\uc6f9\\ud230\", \"\\uc804\\ud22c\", \"\\uc6e8\\uc774\\ube0c\", \"\\uc774\\ubca4\\ud2b8_\\uc9c4\\ud589\", \"\\uc0c9\\uc0c1\", \"\\ud1b5\\uc99d\", \"\\ub098\\uc774\\ud2b8_\\ud06c\\ub85c\\uc6b0\", \"\\uace0\\uccb4_\\ubc30\\ud130\\ub9ac\", \"\\uacc4\\uc815_\\uacf5\\uc720\", \"\\uac24\\ub7ed\\uc2dc_\\ubd81\", \"\\ud504\\ub85c\\ubaa8\\uc158\", \"\\uc815\\ubcf4_\\uc720\\ucd9c\", \"\\ud654\\uc9c8\", \"\\uc804\\uc791\", \"\\uc720\\ud50c\\ub7ec\\uc2a4\", \"\\uce90\\ub9ad\\ud130\", \"\\uc2dc\\ub9ac\\uc988\", \"\\uc774\\ubca4\\ud2b8\", \"\\uba64\\ubc84\\uc2ed\", \"\\uc2dc\\uc98c\", \"\\ud32c\", \"\\uae30\\uae30\", \"\\uce74\\uba54\\ub77c\", \"\\ud06c\\ub9ac\\uc5d0\\uc774\\ud130\", \"\\uc2e0\\uc81c\\ud488\", \"\\ub514\\uc790\\uc778\", \"\\ub137\\ud50c\\ub9ad\\uc2a4\", \"\\ud654\\uba74\", \"\\ud504\\ub85c\", \"\\ud504\\ub9ac\\ubbf8\\uc5c4\", \"\\ub9e4\\uc7a5\", \"\\uc2a4\\ucf00\", \"\\uc885\", \"\\uc778\\uae30\", \"\\uc138\\ub300\", \"\\uce74\\uce74\\uc624_\\ud1a1\", \"\\ub514\\uc2a4\\ud50c\\ub808\\uc774\", \"\\uc544\\ubc14\\ud0c0\", \"\\ud0d1\\uc7ac\", \"\\uc791\\ud488\", \"\\ucc44\\ub110\", \"\\uc778\\uc99d\", \"\\ubc29\\uc1a1\", \"\\ud61c\\ud0dd\", \"\\uc124\\uce58\", \"\\uac00\\uc0c1_\\uc790\\uc0b0\", \"\\ube14\\ub85d_\\uccb4\\uc778\", \"\\uac70\\ub798\\uc18c\", \"\\ucf54\\uc778\", \"\\uc704_\\ubbf9\\uc2a4\", \"\\uc560\\ud50c_\\ud398\\uc774\", \"\\ub514\\uc9c0\\ud138_\\uc790\\uc0b0\", \"\\uc99d\\uad8c\", \"\\ud14c\\uc2ac\\ub77c\", \"\\ub300\\ucd9c\", \"\\ud1a0\\ud070_\\uc99d\\uad8c\", \"\\uc2e4\\ubc84_\\uac8c\\uc774\\ud2b8\", \"\\uc704\\uba54\\uc774\\ub4dc\", \"\\ubc1c\\uc0ac\", \"\\ud398\\uc774_\\ucf54\\uc778\", \"\\uae08\\ub9ac\", \"\\uc5c5_\\ube44\\ud2b8\", \"\\uc554\\ud638_\\ud654\\ud3d0\", \"\\ube44\\ud2b8\\ucf54\\uc778\", \"\\ud30c\\uc6b4\\ub4dc\\ub9ac\", \"\\uae08\\uc735_\\ub2f9\\uad6d\", \"\\uc9c0\\uac11\", \"\\uce74\\uce74\\uc624_\\ud398\\uc774\", \"\\uba54\\ubaa8\\ub9ac_\\ubc18\\ub3c4\\uccb4\", \"\\ud339\\ub9ac\\uc2a4\", \"\\uad6d\\uac00_\\uc804\\ub7b5\", \"\\uac04\\ud3b8_\\uacb0\\uc81c\", \"\\ud074\\ub808\\uc774\\ud2bc\", \"\\ub354_\\ub9ac\\uc6c0\", \"\\uc591\\uc790\\ucef4\\ud4e8\\ud130\", \"\\uc740\\ud589\", \"\\ud558\\ub77d\", \"\\ub2ec\\ub7ec\", \"\\uacb0\\uc81c\", \"\\ud22c\\uc790\\uc790\", \"\\uc2a4_\\ud14c\\uc774\\ube14\", \"\\uc810\\uc720_\\uc728\", \"\\ubc1c\\ud589\", \"\\uc0c1\\uc2b9\", \"\\uc790\\uc0b0\", \"\\uc77c\\ubcf8\", \"\\ud1a0\\ud070\", \"\\uc0c1\\uc7a5\", \"\\uc778\\ub3c4\", \"\\uc790\\uae08\", \"\\uc560\\ud50c\", \"\\uacf5\\uc7a5\", \"\\uc218\\ucd9c\", \"\\uaddc\\uc81c\", \"\\uc601\\ud5a5\", \"\\uc608\\uc0c1\", \"\\uc728\", \"\\uba54\\ubaa8\\ub9ac\", \"\\uce74\\ub4dc\", \"\\ub144_\\ub300\\ube44\", \"\\uacf5\\uc815\", \"\\uacfc_\\uc815\\ud1b5\\ubd80\", \"\\uc5d0\\ub108\\uc9c0_\\uc194\\ub8e8\\uc158\", \"\\uc0b0\\uc5c5_\\ub2e8\\uc9c0\", \"\\ud0c4\\uc18c_\\uc911\\ub9bd\", \"\\ucca8\\ub2e8_\\uc0b0\\uc5c5\", \"\\ubc18\\ub3c4\\uccb4_\\ud074\\ub7ec\\uc2a4\\ud130\", \"\\uc0b0\\uc5c5_\\uc721\\uc131\", \"\\uad6d\\uac00_\\ucca8\\ub2e8\", \"\\uc6d0\\uc790\\ub825\", \"\\uc778\\ub825_\\uc591\\uc131\", \"\\uac1c\\uc815\\uc548\", \"\\uc0e4\\uc624\\ubbf8\", \"\\uc624\\ud508_\\ub79c\", \"\\uc778\\ud130_\\ubc30\\ud130\\ub9ac\", \"\\uc804\\uc2dc\\uad00\", \"\\uae30\\ud6c4_\\uae30\\uc220\", \"\\uc591\\uc790_\\uae30\\uc220\", \"\\uc18c\\uc7ac_\\ubd80\\ud488\", \"\\uc804\\uc2dc\\uc7a5\", \"\\uc6a9\\uc778\", \"\\uc774\\ub370\\uc77c\\ub9ac_\\ubc29\\uc778\", \"\\uc2dc\\ubc94_\\uc0ac\\uc5c5\", \"\\uad6d\\uac00_\\uc0b0\\ub2e8\", \"\\uc0b0\\uc5c5_\\uc0dd\\ud0dc\\uacc4\", \"\\uc774_\\uc7a5\\uad00\", \"\\ubbf8\\ub798_\\ucc28\", \"\\uc815\\ucc45_\\uad00\", \"\\uacfc\\ud559_\\uc601\\uc7ac\", \"\\uccb4\\uacc4_\\uad6c\\ucd95\", \"\\uc2e0\\uaddc_\\uc0ac\\uc5c5\\uc790\", \"\\ud611\\uc758_\\ud68c\", \"\\ubc30\\ud130\\ub9ac\", \"\\uc5f0\\uad6c\\uae30\\uad00\", \"\\uad6d\\uc81c_\\ud45c\\uc900\", \"\\uad00\\ub78c\\uac1d\", \"\\uc0b0\\uc5c5_\\ud611\\ud68c\", \"\\uacfc\\ud559\\uae30\\uc220\", \"\\uc2e4\\uc99d\", \"\\uc0b0\\uc5c5\\ubd80\", \"\\uc870\\uc131\", \"\\ud611\\uc57d\", \"\\uc778\\uc7ac_\\uc591\\uc131\", \"\\uc81c_\\ucc28\", \"\\uac04\\ub2f4_\\ud68c\", \"\\uc5d0\\ub108\\uc9c0\", \"\\ud654\\uc6e8\\uc774\", \"\\ucc38\\uc11d\", \"\\uc2a4\\ud398\\uc778_\\ubc14\\ub974\\uc140\\ub85c\\ub098\", \"\\ubbfc\\uac04\", \"\\ud611\\ud68c\", \"\\uc735\\ud569\", \"\\uc721\\uc131\", \"\\ucca8\\ub2e8\", \"\\uc6b0\\uc8fc\", \"\\uc2dc\\uc124\", \"\\uc0ac\\uc774\\ubc84_\\ubcf4\\uc548\", \"\\uacc4\", \"\\uc548\\uc804\", \"\\uc0ac\\uc5c5\\uc790\", \"\\ubc29\\uc548\", \"\\uc804\\uc2dc\", \"\\uad6d\\uc81c\", \"\\ucc38\\uac00\", \"\\uc6b0\\ub9ac\\ub098\\ub77c\", \"\\uc81c\\ub3c4\", \"\\ubc14\\uc774\\uc624\", \"\\ub300\\ud559\", \"\\uac1c\\ucd5c\", \"\\ud154\\ub808\\ucf64\", \"\\ub370\\uc774\\ud130_\\uc13c\\ud130\", \"\\uc720\\ub7fd\", \"\\uc120\\ub3c4\", \"\\uc804\\uae30\\ucc28\", \"\\ud558\\uc774\\ube0c\", \"\\uc774\\uc0ac\\ud68c\", \"\\uc8fc\\uc8fc\", \"\\uad6c_\\ub300\\ud45c\", \"\\uae30\\ubd80\", \"\\uc724\\uacbd_\\ub9bc\", \"\\uc724_\\uc0ac\\uc7a5\", \"\\uc0ac\\uc678\\uc774\\uc0ac\", \"\\uce74\\uce74\\uc624_\\uc5d4\\ud130\\ud14c\\uc778\\uba3c\\ud2b8\", \"\\uad6d\\ubbfc\\uc5f0\\uae08\", \"\\uc544\\uc774\\uc5b8_\\uba54\\uc774\\uc2a4\", \"\\ucd5c\\ub300_\\uc8fc\\uc8fc\", \"\\uc8fc\\uc8fc\\ucd1d\\ud68c\", \"\\ucc28\\uae30_\\ub300\\ud45c\\uc774\\uc0ac\", \"\\ucc28\\uae30_\\ub300\\ud45c\", \"\\ud604\\ubaa8_\\ub300\\ud45c\", \"\\ub9e4\\ucd9c_\\uc601\\uc5c5\", \"\\uc815\\uae30_\\uc8fc\\uc8fc\\ucd1d\\ud68c\", \"\\ub300\\ud45c\\uc774\\uc0ac_\\ud6c4\\ubcf4\", \"\\uce74\\uce74\\uc624_\\ud130\", \"\\uacf5\\uac1c\\ub9e4\\uc218\", \"\\ub300_\\uc8fc\\uc8fc\", \"\\uc18c\\uc561_\\uc8fc\\uc8fc\", \"\\ubd84_\\ub97c\", \"\\uc218\\uc0ac\", \"\\uac00\\uce58_\\ud3c9\\uac00\", \"\\uc140\\ud2b8\\ub9ac\\uc628\", \"\\uc0ac\\ub0b4_\\uc774\\uc0ac\", \"\\uc784\\uae30\", \"\\uc5d4\\uc528\\uc18c\\ud504\\ud2b8\", \"\\ud604\\ub300\\ucc28_\\uadf8\\ub8f9\", \"\\uc120\\uc784\", \"\\ub125\\uc2a8\", \"\\uc601\\uc5c5_\\uc774\\uc775\", \"\\uc778\\ub3c4\\ub124\\uc2dc\\uc544\", \"\\uc778\\uc218\", \"\\ub300\\ud45c\\uc774\\uc0ac\", \"\\ud6c4\\ubcf4\", \"\\uc6b0\\uc8fc_\\ud56d\\uacf5\", \"\\uc784_\\uc9c1\\uc6d0\", \"\\uc0ac\\uc7a5\", \"\\uc778\\uc0ac\", \"\\uc784\", \"\\ubd84\", \"\\uc758\\uc57d\\ud488\", \"\\ud68c\\uc7a5\", \"\\ub144_\\ub300\\ube44\", \"\\ub9e4\\ucd9c_\\uc561\", \"\\uc790\\ud68c\\uc0ac\", \"\\uc808\\ucc28\", \"\\uc774\\uc0ac\", \"\\uc6d0\", \"\\uacc4\\uc57d\"], \"Freq\": [3026.0, 2140.0, 2053.0, 2117.0, 2265.0, 1790.0, 1630.0, 1608.0, 2503.0, 1412.0, 1433.0, 1072.0, 1327.0, 971.0, 2285.0, 1271.0, 891.0, 888.0, 1087.0, 2060.0, 1135.0, 1030.0, 1022.0, 1206.0, 1223.0, 984.0, 969.0, 1058.0, 1373.0, 1076.0, 1629.4897706216316, 1607.934010911008, 1411.2746270636726, 1326.9716634293957, 1058.02800457791, 989.1781814221828, 886.1035092924385, 780.6255095518619, 618.8406917864884, 531.8141426386122, 531.785750048316, 526.0279956305994, 503.5608337714678, 540.7057029208372, 485.0769945942814, 445.57438371516645, 429.67900235331774, 422.6520465704898, 412.43988907683007, 404.32426148219076, 401.1995254729157, 366.04665942717986, 365.92296763334315, 365.73862611190145, 342.16026239476963, 340.51120497670456, 326.44312340533605, 310.42594308900374, 295.39001595119544, 286.42429317153926, 2238.7504869689537, 2855.4322903155116, 1179.14532657896, 549.2574459603135, 666.3278774244774, 634.874881367563, 969.4501684224424, 949.5225660286939, 694.3473154737744, 1894.300204430182, 468.07104232088363, 939.7624553777594, 1668.4721661518747, 963.3064325133103, 722.5996779212423, 850.8283447929452, 1134.8551991871952, 737.1374202570939, 705.0504281746395, 851.6964745306873, 654.863790724803, 637.82492407821, 623.1973244519579, 627.1641373684347, 634.0275728627049, 629.1438550516547, 487.5664925792407, 409.7237861081299, 405.71923451487345, 368.5463230630829, 354.6567793252858, 337.2257144747524, 337.20060262284306, 330.3925752616383, 306.640978836194, 291.63459130364356, 275.89380494651033, 237.47750769029352, 223.52532656287286, 219.48348218851106, 214.83972922368758, 211.39325039289454, 197.52599956585524, 190.77751910374556, 189.9298066034255, 189.49558621871074, 188.9355220941495, 188.5118404114461, 173.33719571254937, 164.4054453285925, 160.52853487343967, 160.09515499870125, 159.0255607955426, 156.99932399912652, 160.81889874296826, 1408.9331666087699, 919.898083275127, 691.5531949222196, 382.91586265200016, 284.72828892981727, 748.1069474749555, 418.00725761277494, 306.10390589221714, 440.56848501691775, 582.514275339281, 237.04765795745587, 393.20771334879413, 446.2956424103578, 409.8530436115727, 1021.5375150919516, 501.74623208457115, 420.04504172317405, 817.0696789766538, 522.65362033552, 690.2315511735321, 973.5128957135693, 461.5387692759445, 682.4820491914127, 926.5368189961683, 574.8056350729357, 659.2124917028772, 737.931604391809, 1150.2204717767436, 578.9784438325386, 776.3252725332774, 672.9070629880023, 551.6782142868656, 828.8778872563531, 495.14742705286864, 507.45368275179595, 552.5867409167066, 544.1018314980328, 524.1387626709953, 508.3290544957999, 550.2751057250838, 512.5026908344563, 503.91686849492737, 1086.7214909153374, 613.0890041348233, 576.8562811011938, 572.2587750365251, 448.69774887045037, 441.1213343818579, 426.6160657881306, 415.2803759164326, 414.04377217199, 398.98982483006813, 381.17729452004835, 368.28350726249874, 349.14260787734025, 335.08757970732074, 323.2252366333669, 294.9037210530281, 267.1350840071858, 252.4909191475969, 250.11297681132604, 238.846000109956, 232.10839960657967, 212.3011807924817, 207.18796430208823, 205.10785681105907, 191.40295082573962, 191.02627665875318, 190.4186725755286, 183.5023011685689, 180.23035265543132, 178.9099865064123, 2096.526228926345, 665.8806912637996, 1042.2207419177803, 681.0703850318566, 284.038267254264, 373.4259589319825, 395.60251052043253, 1088.590489148259, 625.0069243808387, 443.82063036666096, 543.9454957037673, 912.2249431728409, 768.7553900142083, 532.3976232952398, 378.06662946697605, 513.3885038713759, 511.3095629876527, 561.9864710564633, 715.2399397125412, 622.7158942888706, 816.1479252020715, 761.9966739185919, 931.0692909807943, 486.5951738655608, 615.2498408514331, 515.9750122618274, 602.2138441632726, 688.5961687633654, 521.8047356274677, 492.68808383945236, 501.28938617858046, 2139.747882164891, 2052.4992254513963, 1029.312210653899, 983.345436624494, 968.5395762465163, 664.0559467145569, 663.2860143491833, 635.162987958825, 519.4904266956469, 437.4754085561899, 434.35598954766937, 427.16922163740253, 422.4339671719618, 390.7233645059502, 368.7868845938384, 368.3026048496932, 352.0821148370954, 349.0142922397096, 347.58988597090666, 347.17386327825835, 308.40657126825243, 307.98469604917807, 283.9620034891967, 277.13004219057086, 260.160540912812, 269.94186160151156, 247.2349111606768, 245.355173851238, 239.93432170198747, 239.20309225083332, 1089.4578847590963, 517.47576734979, 882.172610487311, 995.0006196727335, 707.6379395544757, 420.6533191892525, 720.6527026113744, 672.6457513239562, 650.5065632168603, 770.6669583455395, 1230.2015032105849, 533.8119400590607, 560.963716144381, 436.5931345916051, 588.5148991289334, 1149.5940513117855, 715.5203284409371, 771.0378425872472, 819.4896755769314, 602.6659044044425, 538.8640381965287, 572.142265852733, 478.6176378510805, 521.1215549610824, 560.9465397641424, 530.8590826072152, 1072.0932537341978, 463.6700001022802, 459.1715797315845, 426.29020629648466, 375.1664842251995, 332.65881597224666, 331.83344444601005, 323.41092311744836, 317.55987969483226, 291.46301601349154, 287.018134487601, 277.9525157084348, 261.24075022802924, 256.73915575615115, 234.2325863144102, 210.63398577417342, 210.30831597827532, 206.91232583315355, 193.25215175134866, 189.11103696955084, 182.2778284368779, 182.8586012708962, 181.1612813524542, 181.38020665168375, 174.08722693227577, 171.8414012857577, 165.60885194478698, 162.20607518553498, 163.0064397046664, 162.42948982124344, 180.81021874709725, 1667.6649048716924, 254.7548164230592, 295.4702047691586, 502.23357582085947, 310.12792344575473, 499.4792977451631, 368.0493777696471, 247.20361217376055, 884.1487252538692, 301.1943542903629, 396.4659657847017, 292.24351171140967, 407.20526531991305, 940.5581500078985, 354.75852175911535, 496.88495228152806, 374.07122641610937, 597.9032301253483, 634.6854160853295, 568.5342013179389, 642.6392577000809, 476.88085473384, 640.2838992580655, 694.1252131085084, 444.2246495815108, 623.4750518763034, 527.1533565211936, 796.6183081315344, 670.7960955123008, 602.1420756579155, 612.8046005247492, 554.7020295322857, 622.6283209288507, 661.7622878908408, 580.1143395464744, 585.4130192174779, 582.5828432969349, 679.8048610537145, 547.3585623139605, 571.9373989524859, 521.9575808597928, 528.2587504103025, 970.2669195972742, 890.5500599160389, 888.1424714732796, 696.9444917754024, 438.068887137842, 423.4061817597145, 416.30205845580156, 408.18044527989247, 406.2903188207789, 388.83175567414384, 365.5936697018604, 342.69122012280326, 332.58963477943803, 322.52980108842735, 312.4511806567964, 302.0315433094255, 296.5638202605044, 292.70009409635315, 286.0162827829904, 270.19880906180595, 253.37725168673194, 242.72781492809335, 237.00106029949936, 237.61353810250657, 234.5197226277608, 214.03604335948032, 210.3338230470938, 208.33247908350802, 211.26728358564347, 206.9386081352282, 300.502092211437, 633.5171489748739, 558.76594045683, 859.1449419437228, 254.50842388356978, 991.0278610983255, 544.8555764082798, 531.000039583556, 490.0057784344267, 863.3894828549439, 922.0166180448798, 457.1248642953336, 701.5198596742512, 566.0013304748052, 362.115537631593, 494.83643559421677, 507.74518080924673, 371.56033852287203, 396.60612976581956, 410.3120940764207, 381.09432382922387, 432.50864314871393, 401.51268535771567], \"Total\": [3026.0, 2140.0, 2053.0, 2117.0, 2265.0, 1790.0, 1630.0, 1608.0, 2503.0, 1412.0, 1433.0, 1072.0, 1327.0, 971.0, 2285.0, 1271.0, 891.0, 888.0, 1087.0, 2060.0, 1135.0, 1030.0, 1022.0, 1206.0, 1223.0, 984.0, 969.0, 1058.0, 1373.0, 1076.0, 1630.3128117289766, 1608.756084474361, 1412.0992298336625, 1327.79474884245, 1058.855513312447, 989.9997980226356, 886.9252007867653, 781.4472454807991, 619.6620651714294, 532.6357139771004, 532.6098025539509, 526.8531484313073, 504.38191718298225, 541.5946469432973, 485.89821089044386, 446.3962046564365, 430.500172678358, 423.4732329901612, 413.2618787282628, 405.14742722465223, 402.02079137528943, 366.8670337405275, 366.7439576743165, 366.55982174851044, 342.98084653688215, 341.33384047510907, 327.2642435874559, 311.24742927394175, 296.2125867494551, 287.2457301721956, 2265.008610595468, 3026.2489505628064, 1223.06605907323, 561.9472553225811, 706.0144702917095, 671.4392364195018, 1080.7040543622393, 1060.5273572687558, 751.0034315133465, 2503.409486880085, 487.21791432951363, 1190.392040803448, 2569.0855588832073, 1322.4554621767447, 905.5180012384657, 1152.171252209699, 2285.730670863757, 1085.3937278200253, 999.1678868436155, 1604.132564774772, 898.5439146661568, 1005.3879925527176, 947.2711461908483, 981.1570025569071, 1370.4254791330848, 629.9648726026529, 488.3830366931788, 410.5426220595759, 406.53682191928533, 369.36289198599894, 355.4713488721077, 338.04322463115943, 338.01916696775913, 331.211320423425, 307.4581922638278, 292.45176770534914, 276.7080345929147, 238.29598327177, 224.3409737434093, 220.30293585119617, 215.65531421913238, 212.208090722958, 198.34101667991683, 191.59122186300849, 190.74657982856377, 190.31377826955148, 189.75183231806818, 189.33181801951534, 174.15760274924088, 165.22064123553753, 161.3468010051254, 160.91963523934885, 159.84635931275025, 157.81465173374812, 161.66038782174576, 1433.2829571387697, 945.6316604511326, 707.9943403193838, 391.972924767486, 290.921626349374, 788.3672251101309, 432.71436193410676, 314.8061638834007, 466.24355591322114, 634.1935960098466, 241.63006073875826, 417.30145412537547, 484.8195030217419, 442.7689596269404, 1250.6578774967768, 569.3811640481352, 470.5047090739888, 1039.533298032844, 623.1317530948353, 891.2855283647111, 1413.32632392736, 541.9086359783807, 914.9932834166128, 1389.0845897077495, 729.1477595898868, 911.3450190121204, 1081.9200075748945, 2285.730670863757, 804.9734578516926, 1364.5097598609864, 1102.9921917495649, 790.8858694988145, 2060.872425355686, 682.2934645826706, 738.96121328733, 976.657057411442, 983.1722434674557, 895.5083642017808, 869.0880564288859, 1551.172758116041, 1089.413263588665, 947.1058772109869, 1087.541956680743, 613.9070665263973, 577.6769825509044, 573.0795843983913, 449.51864264763253, 441.94451938976584, 427.43825118267023, 416.1036986739838, 414.8663864876797, 399.8119233063316, 381.99986648442666, 369.10151804057915, 349.96068316675434, 335.9082433774429, 324.05568886766036, 295.72335716721756, 267.9571639183591, 253.31394691972392, 250.9598680766102, 239.66545714478036, 232.92789991278815, 213.13266614757381, 208.0096235560199, 205.9377021814773, 192.22199533974614, 191.84377591968024, 191.24270135871902, 184.3342849425366, 181.0509459186188, 179.7321264313305, 2117.5698791734694, 675.6179406929662, 1076.31014141658, 701.0168528902716, 287.5716398991178, 383.6320063601568, 407.8258107983524, 1222.212059790065, 675.148019338589, 470.245062059454, 601.7222585380275, 1105.6187060369384, 908.6761696651135, 603.1480486393946, 405.5727440193803, 587.0948334394226, 585.6686336954076, 665.8759506096279, 943.3647150307877, 803.2202511120827, 1194.0213402971788, 1090.518794786912, 1531.3229961141774, 563.5801128309486, 921.7105224006182, 662.0341412233782, 936.1291410887861, 1442.5564884841842, 803.2006624581892, 709.8069193415143, 1058.243189014897, 2140.568396767587, 2053.325963122331, 1030.134956715992, 984.1673528039045, 969.3599766935283, 664.8763782679806, 664.1088064221344, 635.9854295021073, 520.3141460050091, 438.3002826414838, 435.1762838278345, 427.98919928396066, 423.27651799759764, 391.5472813131552, 369.6065078383493, 369.12375891829606, 352.90665387419455, 349.8350203392465, 348.41107675088944, 347.99747905148143, 309.22934495248626, 308.8156277041136, 284.78537415185787, 277.9535396020302, 260.98845460369853, 270.80117256006804, 248.05685147610998, 246.17524248655045, 240.7564525348173, 240.02630522394603, 1135.6260819570168, 527.6487945098835, 931.2354531126227, 1117.920128919971, 775.4975263049342, 442.1594268839336, 807.1313518575184, 750.0591493298776, 750.8556775147478, 936.8985211404769, 1801.4311267830547, 611.1348563945321, 663.0630156733062, 474.5559237722718, 732.920753389084, 2060.872425355686, 1100.5702347185356, 1292.4373297122718, 1535.7879560711897, 896.9868822739693, 780.9247538330375, 937.8231541271999, 579.7109326534347, 759.4031823864941, 1069.3509080387073, 845.3341391612948, 1072.9270728528697, 464.5033975412243, 460.00388199870025, 427.1829880953225, 375.9992603633181, 333.49198776522206, 332.6669476106572, 324.24333367669294, 318.39235178934916, 292.2954939584586, 287.85411936758203, 278.80012381807046, 262.07313987537066, 257.57171680925376, 235.06676953319177, 211.46634686364115, 211.1416259260567, 207.74699831222148, 194.08729237970394, 189.96903944159047, 183.10822937171494, 183.69484331337605, 181.99302587368956, 182.216947177338, 174.92020890031063, 172.67372541785792, 166.44177475579343, 163.03795688426135, 163.84245153610644, 163.26346544084652, 182.08378607943217, 1790.6484860825733, 259.03514252332184, 301.9903068276144, 525.2964241025736, 319.2945199271235, 530.5146586696268, 385.2188974013667, 253.07989617810472, 1001.4227658650221, 315.21976543044116, 428.55830529134687, 307.5442103575458, 450.956099119727, 1221.7595123107826, 391.3320108453862, 588.9366825567106, 420.420889090232, 760.443667390872, 823.2111497647431, 718.8153538512437, 852.4330330702614, 584.0126170965532, 893.6321642662109, 1023.9509298120073, 550.1450849245191, 920.4254121576004, 720.1586066866267, 1379.994331699904, 1058.7013294638898, 918.2920851518834, 974.7235606175752, 830.0415938591035, 1058.7111707850154, 1186.46625600022, 951.38621973881, 986.6112377742573, 1004.0203977226025, 1440.4345865758914, 923.0064837380994, 1153.503155045262, 869.4266778279573, 950.6489646511594, 971.088335135201, 891.3720698149237, 888.9667089632295, 697.7651882830105, 438.90271043500667, 424.22643281684753, 417.1228100733631, 409.0011603266295, 407.1142293365484, 389.65308877073574, 366.41553851453006, 343.51258398637805, 333.4110146340064, 323.34995689620484, 313.27137706817814, 302.8560233103291, 297.3854908623533, 293.52134001104366, 286.83633612909045, 271.0203212201085, 254.19813078144028, 243.54947213054777, 237.8218324724116, 238.4389727199179, 235.3526324579494, 214.86257849691611, 211.15464682726088, 209.1531026958261, 212.10114720101257, 207.76507279660967, 303.2178948095164, 657.6555671981221, 608.2930886394828, 1022.1872001598774, 260.9516033692189, 1271.341185167569, 633.5515043182312, 620.8492231176492, 572.43085800514, 1206.5602080728304, 1373.2839824517691, 587.8864747089783, 1266.1428591460376, 990.2600070383194, 458.4490831518763, 1003.8097746332726, 1069.3509080387073, 510.44236288667844, 677.7813160010451, 792.7971888027566, 587.8717046643956, 1314.8767937835892, 894.3375338123337], \"Category\": [\"Default\", \"Default\", \"Default\", \"Default\", \"Default\", \"Default\", \"Default\", \"Default\", \"Default\", \"Default\", \"Default\", \"Default\", \"Default\", \"Default\", \"Default\", \"Default\", \"Default\", \"Default\", \"Default\", \"Default\", \"Default\", \"Default\", \"Default\", \"Default\", \"Default\", \"Default\", \"Default\", \"Default\", \"Default\", \"Default\", \"Topic1\", \"Topic1\", \"Topic1\", \"Topic1\", \"Topic1\", \"Topic1\", \"Topic1\", \"Topic1\", \"Topic1\", \"Topic1\", \"Topic1\", \"Topic1\", \"Topic1\", \"Topic1\", \"Topic1\", \"Topic1\", \"Topic1\", \"Topic1\", \"Topic1\", \"Topic1\", \"Topic1\", \"Topic1\", \"Topic1\", \"Topic1\", \"Topic1\", \"Topic1\", \"Topic1\", \"Topic1\", \"Topic1\", \"Topic1\", \"Topic1\", \"Topic1\", \"Topic1\", \"Topic1\", \"Topic1\", \"Topic1\", \"Topic1\", \"Topic1\", \"Topic1\", \"Topic1\", \"Topic1\", \"Topic1\", \"Topic1\", \"Topic1\", \"Topic1\", \"Topic1\", \"Topic1\", \"Topic1\", \"Topic1\", \"Topic1\", \"Topic1\", \"Topic1\", \"Topic1\", \"Topic1\", \"Topic1\", \"Topic2\", \"Topic2\", \"Topic2\", \"Topic2\", \"Topic2\", \"Topic2\", \"Topic2\", \"Topic2\", \"Topic2\", \"Topic2\", \"Topic2\", \"Topic2\", \"Topic2\", \"Topic2\", \"Topic2\", \"Topic2\", \"Topic2\", \"Topic2\", \"Topic2\", \"Topic2\", \"Topic2\", \"Topic2\", \"Topic2\", \"Topic2\", \"Topic2\", \"Topic2\", \"Topic2\", \"Topic2\", \"Topic2\", \"Topic2\", \"Topic2\", \"Topic2\", \"Topic2\", \"Topic2\", \"Topic2\", \"Topic2\", \"Topic2\", \"Topic2\", \"Topic2\", \"Topic2\", \"Topic2\", \"Topic2\", \"Topic2\", \"Topic2\", \"Topic2\", \"Topic2\", \"Topic2\", \"Topic2\", \"Topic2\", \"Topic2\", \"Topic2\", \"Topic2\", \"Topic2\", \"Topic2\", \"Topic2\", \"Topic2\", \"Topic2\", \"Topic2\", \"Topic2\", \"Topic2\", \"Topic2\", \"Topic2\", \"Topic2\", \"Topic2\", \"Topic2\", \"Topic2\", \"Topic2\", \"Topic2\", \"Topic2\", \"Topic2\", \"Topic2\", \"Topic2\", \"Topic3\", \"Topic3\", \"Topic3\", \"Topic3\", \"Topic3\", \"Topic3\", \"Topic3\", \"Topic3\", \"Topic3\", \"Topic3\", \"Topic3\", \"Topic3\", \"Topic3\", \"Topic3\", \"Topic3\", \"Topic3\", \"Topic3\", \"Topic3\", \"Topic3\", \"Topic3\", \"Topic3\", \"Topic3\", \"Topic3\", \"Topic3\", \"Topic3\", \"Topic3\", \"Topic3\", \"Topic3\", \"Topic3\", \"Topic3\", \"Topic3\", \"Topic3\", \"Topic3\", \"Topic3\", \"Topic3\", \"Topic3\", \"Topic3\", \"Topic3\", \"Topic3\", \"Topic3\", \"Topic3\", \"Topic3\", \"Topic3\", \"Topic3\", \"Topic3\", \"Topic3\", \"Topic3\", \"Topic3\", \"Topic3\", \"Topic3\", \"Topic3\", \"Topic3\", \"Topic3\", \"Topic3\", \"Topic3\", \"Topic3\", \"Topic3\", \"Topic3\", \"Topic3\", \"Topic3\", \"Topic3\", \"Topic4\", \"Topic4\", \"Topic4\", \"Topic4\", \"Topic4\", \"Topic4\", \"Topic4\", \"Topic4\", \"Topic4\", \"Topic4\", \"Topic4\", \"Topic4\", \"Topic4\", \"Topic4\", \"Topic4\", \"Topic4\", \"Topic4\", \"Topic4\", \"Topic4\", \"Topic4\", \"Topic4\", \"Topic4\", \"Topic4\", \"Topic4\", \"Topic4\", \"Topic4\", \"Topic4\", \"Topic4\", \"Topic4\", \"Topic4\", \"Topic4\", \"Topic4\", \"Topic4\", \"Topic4\", \"Topic4\", \"Topic4\", \"Topic4\", \"Topic4\", \"Topic4\", \"Topic4\", \"Topic4\", \"Topic4\", \"Topic4\", \"Topic4\", \"Topic4\", \"Topic4\", \"Topic4\", \"Topic4\", \"Topic4\", \"Topic4\", \"Topic4\", \"Topic4\", \"Topic4\", \"Topic4\", \"Topic4\", \"Topic4\", \"Topic5\", \"Topic5\", \"Topic5\", \"Topic5\", \"Topic5\", \"Topic5\", \"Topic5\", \"Topic5\", \"Topic5\", \"Topic5\", \"Topic5\", \"Topic5\", \"Topic5\", \"Topic5\", \"Topic5\", \"Topic5\", \"Topic5\", \"Topic5\", \"Topic5\", \"Topic5\", \"Topic5\", \"Topic5\", \"Topic5\", \"Topic5\", \"Topic5\", \"Topic5\", \"Topic5\", \"Topic5\", \"Topic5\", \"Topic5\", \"Topic5\", \"Topic5\", \"Topic5\", \"Topic5\", \"Topic5\", \"Topic5\", \"Topic5\", \"Topic5\", \"Topic5\", \"Topic5\", \"Topic5\", \"Topic5\", \"Topic5\", \"Topic5\", \"Topic5\", \"Topic5\", \"Topic5\", \"Topic5\", \"Topic5\", \"Topic5\", \"Topic5\", \"Topic5\", \"Topic5\", \"Topic5\", \"Topic5\", \"Topic5\", \"Topic5\", \"Topic5\", \"Topic5\", \"Topic5\", \"Topic5\", \"Topic5\", \"Topic5\", \"Topic5\", \"Topic5\", \"Topic5\", \"Topic5\", \"Topic5\", \"Topic5\", \"Topic5\", \"Topic5\", \"Topic5\", \"Topic5\", \"Topic6\", \"Topic6\", \"Topic6\", \"Topic6\", \"Topic6\", \"Topic6\", \"Topic6\", \"Topic6\", \"Topic6\", \"Topic6\", \"Topic6\", \"Topic6\", \"Topic6\", \"Topic6\", \"Topic6\", \"Topic6\", \"Topic6\", \"Topic6\", \"Topic6\", \"Topic6\", \"Topic6\", \"Topic6\", \"Topic6\", \"Topic6\", \"Topic6\", \"Topic6\", \"Topic6\", \"Topic6\", \"Topic6\", \"Topic6\", \"Topic6\", \"Topic6\", \"Topic6\", \"Topic6\", \"Topic6\", \"Topic6\", \"Topic6\", \"Topic6\", \"Topic6\", \"Topic6\", \"Topic6\", \"Topic6\", \"Topic6\", \"Topic6\", \"Topic6\", \"Topic6\", \"Topic6\", \"Topic6\", \"Topic6\", \"Topic6\", \"Topic6\", \"Topic6\", \"Topic6\"], \"logprob\": [30.0, 29.0, 28.0, 27.0, 26.0, 25.0, 24.0, 23.0, 22.0, 21.0, 20.0, 19.0, 18.0, 17.0, 16.0, 15.0, 14.0, 13.0, 12.0, 11.0, 10.0, 9.0, 8.0, 7.0, 6.0, 5.0, 4.0, 3.0, 2.0, 1.0, -5.6246, -5.638, -5.7684, -5.83, -6.0565, -6.1238, -6.2338, -6.3606, -6.5928, -6.7444, -6.7444, -6.7553, -6.799, -6.7278, -6.8364, -6.9213, -6.9576, -6.9741, -6.9986, -7.0184, -7.0262, -7.1179, -7.1182, -7.1187, -7.1854, -7.1902, -7.2324, -7.2827, -7.3324, -7.3632, -5.307, -5.0637, -5.9481, -6.7121, -6.5189, -6.5672, -6.1439, -6.1647, -6.4777, -5.4741, -6.872, -6.175, -5.601, -6.1503, -6.4378, -6.2745, -5.9864, -6.4179, -6.4624, -6.2734, -6.5362, -6.5626, -6.5858, -6.5795, -6.5686, -6.5599, -6.8148, -6.9888, -6.9986, -7.0947, -7.1331, -7.1835, -7.1836, -7.204, -7.2786, -7.3288, -7.3842, -7.5342, -7.5947, -7.613, -7.6344, -7.6505, -7.7184, -7.7532, -7.7576, -7.7599, -7.7629, -7.7651, -7.849, -7.9019, -7.9258, -7.9285, -7.9352, -7.948, -7.924, -5.7537, -6.18, -6.4653, -7.0564, -7.3527, -6.3867, -6.9688, -7.2803, -6.9162, -6.6369, -7.536, -7.0299, -6.9033, -6.9885, -6.0752, -6.7862, -6.9639, -6.2985, -6.7453, -6.4672, -6.1234, -6.8697, -6.4785, -6.1728, -6.6502, -6.5132, -6.4004, -5.9566, -6.643, -6.3497, -6.4927, -6.6913, -6.2842, -6.7994, -6.7749, -6.6897, -6.7051, -6.7425, -6.7731, -6.6938, -6.765, -6.7819, -5.9104, -6.4828, -6.5437, -6.5517, -6.795, -6.812, -6.8454, -6.8724, -6.8754, -6.9124, -6.9581, -6.9925, -7.0458, -7.0869, -7.123, -7.2147, -7.3136, -7.37, -7.3794, -7.4255, -7.4541, -7.5433, -7.5677, -7.5778, -7.6469, -7.6489, -7.6521, -7.6891, -7.7071, -7.7144, -5.2533, -6.4002, -5.9522, -6.3777, -7.2522, -6.9786, -6.9209, -5.9087, -6.4636, -6.8059, -6.6025, -6.0854, -6.2566, -6.6239, -6.9663, -6.6603, -6.6644, -6.5698, -6.3287, -6.4672, -6.1967, -6.2654, -6.065, -6.7139, -6.4793, -6.6553, -6.5007, -6.3667, -6.644, -6.7014, -6.6841, -5.1932, -5.2348, -5.925, -5.9706, -5.9858, -6.3632, -6.3644, -6.4077, -6.6088, -6.7806, -6.7877, -6.8044, -6.8156, -6.8936, -6.9514, -6.9527, -6.9977, -7.0065, -7.0106, -7.0118, -7.1302, -7.1316, -7.2128, -7.2371, -7.3003, -7.2634, -7.3513, -7.3589, -7.3812, -7.3843, -5.8682, -6.6126, -6.0792, -5.9589, -6.2997, -6.8198, -6.2814, -6.3504, -6.3839, -6.2143, -5.7467, -6.5816, -6.5319, -6.7826, -6.484, -5.8144, -6.2886, -6.2139, -6.1529, -6.4602, -6.5721, -6.5122, -6.6907, -6.6056, -6.532, -6.5871, -5.6384, -6.4766, -6.4864, -6.5607, -6.6884, -6.8087, -6.8111, -6.8369, -6.8551, -6.9409, -6.9562, -6.9883, -7.0503, -7.0677, -7.1595, -7.2657, -7.2672, -7.2835, -7.3518, -7.3734, -7.4102, -7.4071, -7.4164, -7.4152, -7.4562, -7.4692, -7.5061, -7.5269, -7.522, -7.5255, -7.4183, -5.1966, -7.0755, -6.9272, -6.3967, -6.8788, -6.4022, -6.7076, -7.1056, -5.8312, -6.908, -6.6332, -6.9382, -6.6065, -5.7693, -6.7443, -6.4074, -6.6913, -6.2223, -6.1626, -6.2727, -6.1502, -6.4485, -6.1539, -6.0731, -6.5194, -6.1805, -6.3483, -5.9354, -6.1073, -6.2153, -6.1977, -6.2973, -6.1818, -6.1209, -6.2526, -6.2435, -6.2483, -6.094, -6.3107, -6.2667, -6.3582, -6.3462, -5.5839, -5.6697, -5.6724, -5.9148, -6.3791, -6.4132, -6.4301, -6.4498, -6.4544, -6.4984, -6.56, -6.6247, -6.6546, -6.6853, -6.7171, -6.751, -6.7692, -6.7824, -6.8055, -6.8623, -6.9266, -6.9696, -6.9934, -6.9909, -7.004, -7.0954, -7.1128, -7.1224, -7.1084, -7.1291, -6.756, -6.0102, -6.1358, -5.7056, -6.9222, -5.5628, -6.161, -6.1867, -6.2671, -5.7006, -5.6349, -6.3365, -5.9083, -6.1229, -6.5695, -6.2573, -6.2315, -6.5438, -6.4786, -6.4446, -6.5185, -6.3919, -6.4663], \"loglift\": [30.0, 29.0, 28.0, 27.0, 26.0, 25.0, 24.0, 23.0, 22.0, 21.0, 20.0, 19.0, 18.0, 17.0, 16.0, 15.0, 14.0, 13.0, 12.0, 11.0, 10.0, 9.0, 8.0, 7.0, 6.0, 5.0, 4.0, 3.0, 2.0, 1.0, 1.6015, 1.6015, 1.6014, 1.6014, 1.6012, 1.6012, 1.6011, 1.6009, 1.6007, 1.6005, 1.6004, 1.6004, 1.6004, 1.6004, 1.6003, 1.6002, 1.6001, 1.6001, 1.6, 1.6, 1.6, 1.5998, 1.5998, 1.5998, 1.5996, 1.5996, 1.5995, 1.5994, 1.5992, 1.5991, 1.5903, 1.5439, 1.5654, 1.5792, 1.5441, 1.546, 1.4934, 1.4914, 1.5236, 1.3232, 1.5619, 1.3656, 1.1704, 1.2851, 1.3763, 1.2988, 0.9018, 1.2151, 1.2533, 0.9689, 1.2856, 1.1469, 1.1833, 1.1545, 0.8312, 1.6171, 1.6167, 1.6164, 1.6164, 1.6162, 1.6161, 1.616, 1.616, 1.6159, 1.6157, 1.6156, 1.6154, 1.615, 1.6148, 1.6147, 1.6146, 1.6145, 1.6143, 1.6141, 1.6141, 1.6141, 1.6141, 1.6141, 1.6137, 1.6134, 1.6133, 1.6133, 1.6132, 1.6132, 1.6132, 1.6013, 1.5908, 1.5949, 1.595, 1.5969, 1.566, 1.5838, 1.5904, 1.5618, 1.5334, 1.5992, 1.5589, 1.5356, 1.5411, 1.416, 1.4919, 1.505, 1.3776, 1.4426, 1.3628, 1.2456, 1.4579, 1.3252, 1.2134, 1.3806, 1.2945, 1.2358, 0.9317, 1.2889, 1.0544, 1.1242, 1.2582, 0.7076, 1.2978, 1.2426, 1.0489, 1.0267, 1.0828, 1.0821, 0.582, 0.8643, 0.9874, 1.7206, 1.72, 1.7199, 1.7199, 1.7195, 1.7195, 1.7194, 1.7194, 1.7193, 1.7193, 1.7192, 1.7191, 1.719, 1.7189, 1.7188, 1.7186, 1.7183, 1.7181, 1.718, 1.7179, 1.7178, 1.7174, 1.7174, 1.7173, 1.7171, 1.7171, 1.717, 1.7168, 1.7168, 1.7167, 1.7113, 1.7068, 1.6891, 1.6925, 1.709, 1.6944, 1.6909, 1.6056, 1.6442, 1.6635, 1.6204, 1.5291, 1.5541, 1.5966, 1.6511, 1.5872, 1.5856, 1.5517, 1.4445, 1.4668, 1.3408, 1.3629, 1.2238, 1.5745, 1.3171, 1.4721, 1.2802, 0.9818, 1.29, 1.3562, 0.9742, 1.7607, 1.7607, 1.7603, 1.7602, 1.7602, 1.7598, 1.7598, 1.7598, 1.7595, 1.7592, 1.7592, 1.7591, 1.7591, 1.7589, 1.7588, 1.7588, 1.7587, 1.7587, 1.7587, 1.7587, 1.7584, 1.7584, 1.7582, 1.7581, 1.7579, 1.7579, 1.7577, 1.7577, 1.7576, 1.7576, 1.7196, 1.7416, 1.7069, 1.6446, 1.6695, 1.7112, 1.6477, 1.6521, 1.6176, 1.5657, 1.3797, 1.6258, 1.5938, 1.6777, 1.5416, 1.1773, 1.3305, 1.2445, 1.1329, 1.3634, 1.39, 1.2669, 1.5694, 1.3845, 1.1159, 1.2958, 2.0061, 2.0051, 2.0051, 2.0048, 2.0047, 2.0044, 2.0044, 2.0043, 2.0043, 2.004, 2.004, 2.0038, 2.0037, 2.0036, 2.0033, 2.0029, 2.0029, 2.0029, 2.0026, 2.0024, 2.0023, 2.0023, 2.0023, 2.0023, 2.0021, 2.002, 2.0019, 2.0018, 2.0018, 2.0018, 1.9999, 1.9357, 1.9902, 1.9851, 1.962, 1.9778, 1.9466, 1.9613, 1.9834, 1.8823, 1.9614, 1.929, 1.9559, 1.9048, 1.7453, 1.9088, 1.8369, 1.8901, 1.7664, 1.7468, 1.7723, 1.7244, 1.8042, 1.6735, 1.6181, 1.793, 1.6174, 1.6949, 1.4574, 1.5505, 1.5849, 1.5428, 1.6038, 1.476, 1.4231, 1.5122, 1.4849, 1.4626, 1.256, 1.4843, 1.3054, 1.4966, 1.4193, 2.1603, 2.1602, 2.1602, 2.16, 2.1593, 2.1592, 2.1592, 2.1591, 2.1591, 2.159, 2.1589, 2.1588, 2.1587, 2.1586, 2.1585, 2.1584, 2.1584, 2.1584, 2.1583, 2.1581, 2.1579, 2.1578, 2.1577, 2.1577, 2.1576, 2.1573, 2.1573, 2.1572, 2.1572, 2.1572, 2.1522, 2.1238, 2.0762, 1.9874, 2.1362, 1.9121, 2.0103, 2.0048, 2.0057, 1.8265, 1.7628, 1.9096, 1.5707, 1.6018, 1.9253, 1.4538, 1.4163, 1.8436, 1.6253, 1.5025, 1.7277, 1.0493, 1.3603]}, \"token.table\": {\"Topic\": [4, 6, 4, 5, 6, 4, 2, 1, 2, 3, 3, 5, 1, 3, 4, 5, 6, 3, 3, 3, 3, 1, 2, 6, 4, 2, 3, 5, 1, 1, 3, 1, 3, 4, 1, 3, 4, 5, 1, 2, 3, 4, 5, 6, 3, 3, 6, 2, 4, 5, 3, 4, 5, 6, 2, 5, 5, 5, 6, 3, 5, 1, 2, 3, 4, 6, 6, 1, 3, 5, 5, 4, 5, 6, 1, 2, 3, 4, 5, 6, 3, 5, 1, 2, 4, 5, 2, 4, 4, 3, 1, 2, 3, 4, 5, 6, 1, 2, 3, 5, 3, 1, 2, 4, 6, 1, 3, 3, 6, 2, 3, 5, 4, 6, 2, 2, 1, 4, 6, 1, 2, 4, 1, 6, 4, 1, 3, 6, 6, 1, 2, 5, 4, 1, 4, 5, 6, 2, 1, 3, 4, 5, 1, 2, 3, 5, 4, 1, 5, 1, 3, 1, 3, 4, 6, 1, 3, 4, 4, 6, 6, 1, 3, 4, 4, 1, 2, 5, 1, 3, 5, 6, 3, 4, 2, 6, 1, 1, 1, 6, 5, 1, 2, 4, 5, 6, 3, 5, 6, 5, 1, 2, 3, 4, 2, 4, 6, 2, 3, 5, 6, 1, 2, 3, 4, 5, 6, 3, 4, 5, 1, 2, 2, 3, 1, 2, 3, 4, 5, 6, 2, 1, 2, 3, 4, 6, 6, 1, 2, 3, 4, 3, 4, 1, 2, 6, 1, 2, 3, 4, 5, 6, 6, 1, 2, 3, 4, 5, 6, 1, 5, 1, 3, 4, 5, 6, 5, 5, 5, 5, 6, 4, 5, 2, 4, 6, 4, 6, 3, 1, 5, 1, 3, 4, 5, 6, 1, 4, 6, 1, 2, 3, 4, 5, 2, 2, 6, 1, 2, 3, 4, 5, 2, 3, 6, 6, 6, 5, 2, 6, 2, 4, 5, 6, 1, 4, 1, 3, 6, 3, 2, 5, 6, 1, 2, 3, 4, 5, 1, 3, 4, 5, 2, 4, 5, 3, 4, 6, 5, 3, 4, 5, 2, 4, 1, 5, 2, 2, 6, 1, 2, 3, 6, 1, 2, 3, 4, 5, 1, 2, 4, 2, 4, 2, 3, 4, 4, 5, 4, 1, 2, 4, 1, 2, 3, 4, 1, 2, 4, 2, 1, 1, 4, 1, 2, 4, 6, 2, 3, 4, 5, 5, 1, 6, 1, 2, 4, 2, 2, 2, 3, 1, 5, 4, 6, 2, 4, 6, 1, 2, 3, 4, 6, 1, 1, 5, 1, 3, 5, 1, 2, 4, 5, 6, 1, 2, 4, 5, 2, 4, 5, 5, 6, 2, 3, 1, 2, 3, 4, 5, 6, 2, 3, 4, 5, 3, 4, 4, 1, 2, 4, 5, 2, 3, 4, 5, 6, 3, 6, 1, 3, 5, 6, 6, 6, 1, 2, 3, 4, 5, 6, 1, 3, 5, 6, 1, 4, 3, 1, 2, 3, 5, 6, 2, 4, 6, 2, 1, 2, 5, 6, 2, 5, 5, 1, 3, 3, 4, 6, 3, 1, 2, 3, 4, 6, 6, 1, 2, 4, 5, 6, 1, 2, 3, 1, 2, 3, 4, 6, 2, 3, 4, 6, 2, 6, 5, 1, 2, 5, 6, 1, 2, 4, 6, 1, 5, 1, 3, 4, 5, 5, 1, 2, 3, 4, 5, 6, 1, 2, 3, 5, 6, 1, 3, 4, 6, 6, 1, 2, 1, 2, 2, 2, 3, 4, 5, 6, 1, 4, 5, 6, 1, 5, 1, 2, 4, 6, 1, 4, 5, 1, 3, 4, 6, 1, 2, 3, 4, 6, 1, 2, 3, 1, 2, 4, 4, 5, 1, 3, 5, 5, 5, 3, 3, 2, 2, 3, 4, 5, 6, 1, 3, 4, 5, 6, 6, 2, 3, 5, 2, 4, 5, 1, 2, 4, 5, 6, 2, 3, 5, 6, 1, 2, 3, 4, 5, 6, 1, 2, 4, 5, 6, 1, 5, 6, 6, 3, 4, 2, 4, 1, 5, 1, 2, 5, 2, 1, 2, 4, 2, 2, 6, 6, 1, 3, 5, 6, 1, 5, 6, 1, 2, 5, 6, 1, 2, 3, 4, 6, 1, 3, 4, 6, 1, 1, 1, 1, 1, 1, 1, 4, 5, 5, 5, 1, 6, 2, 3, 6, 1, 3, 4, 6, 1, 2, 3, 3, 1, 6, 6, 1, 2, 3, 6, 4, 3, 2, 3, 1, 4, 2, 3, 4, 4, 5, 1, 3, 4, 5, 4, 1, 3, 5, 6, 1, 4, 4, 3, 1, 4, 6, 3, 4, 1, 2, 3, 4, 5, 6, 3, 6, 4, 4, 3, 3, 2, 3, 4, 3, 1, 3, 4, 6, 2, 3, 4, 5, 6, 2, 1, 2, 4, 5, 6, 4, 6, 6, 1, 1, 2, 4, 6, 1, 2, 1, 1, 1, 2, 1, 2, 3, 4, 5, 1, 2, 5, 6, 2, 2, 4, 3, 6, 6, 1, 4, 5, 2, 5, 2, 3, 4, 5, 6, 1, 3, 4, 5, 1, 2, 3, 4, 5, 3, 2, 3, 2, 5, 6, 1, 2, 5, 6], \"Freq\": [0.9997344645616346, 0.9959854410062918, 0.06874283341662848, 0.9025268774376708, 0.026610129064501352, 0.995739478793587, 0.9984801093722661, 0.8957807580245699, 0.07826295043793612, 0.02640195918388206, 0.9978628100398891, 0.9970328047781337, 0.19720714882797108, 0.07569567328750405, 0.03485984954029792, 0.5806654937712482, 0.11254751423010471, 0.9995016682552671, 0.9956017550445134, 0.9985224693184757, 0.9972548825826341, 0.014124406694393762, 0.9774089432520483, 0.008474644016636257, 0.9988982446342659, 0.8816589513269553, 0.08254575839116912, 0.03512585463454005, 0.9992215633218694, 0.9979714521296158, 0.9972961563303395, 0.06172176188173774, 0.04830398755962084, 0.890045696700421, 0.20533983254217059, 0.06736015670695543, 0.04997689045999919, 0.6768609294908586, 0.02124477535792088, 0.03130809000114656, 0.01229960678616472, 0.40700517001490527, 0.07938837107433593, 0.44949472073074703, 0.9936427913070702, 0.9954466706603777, 0.9952866263109132, 0.009994818733956752, 0.650571837592094, 0.3389152170696244, 0.05441635191220276, 0.6281539753343406, 0.28391140128105785, 0.03194003264411901, 0.9984552402986181, 0.9991359404787833, 0.9936336488502602, 0.9405960643035648, 0.05654886158137664, 0.04188111510103123, 0.9556508991235307, 0.32427077987813097, 0.35457043525441756, 0.22434638448824964, 0.06833539297630592, 0.028365634820353404, 0.9989033728023987, 0.9885172133678423, 0.0079469896563739, 0.0030904959774787385, 0.9945436047951708, 0.9970414730760062, 0.9961654302569789, 0.998323922510672, 0.07181523339360822, 0.10567098627916639, 0.05334845909239468, 0.12003403295788803, 0.6288962581468834, 0.020518638112459492, 0.019868187370083338, 0.9768525456957641, 0.0032556577750426315, 0.148457994541944, 0.5332767435519831, 0.3144965410691182, 0.9969139312515501, 0.9969556039373103, 0.9960244880618456, 0.998846226611253, 0.02045471552972089, 0.005727320348321849, 0.891007408474642, 0.036818487953497604, 0.04581856278657479, 0.9979432561851532, 0.045530634538099586, 0.9417652301827967, 0.00958539674486307, 0.9977946993904336, 0.995146265164275, 0.7565681962643789, 0.09826598536485597, 0.0011983656751811704, 0.14340442579668006, 0.9990219531862286, 0.9964279218948193, 0.08055327426059387, 0.9189649043198362, 0.015407028892547721, 0.8462860870263713, 0.13756275796917608, 0.5246173129725284, 0.4750545365241434, 0.9963427565764467, 0.9990175191014784, 0.044027533383698934, 0.9471288888883527, 0.007516895943558355, 0.6390414565314525, 0.35977932082233294, 0.0010192048748508015, 0.9991920396109846, 0.9977438993164672, 0.9970333520351676, 0.11206665837910613, 0.02841126550456212, 0.8602299833325753, 0.9970842741182063, 0.31623398158717053, 0.090207770388648, 0.5929387154759447, 0.9968580176072004, 0.29902281821707577, 0.061754712457874346, 0.5926285563939871, 0.0455034723373811, 0.9942851272439127, 0.9983806712860167, 0.6079710174551467, 0.2533756764474725, 0.13844237991459837, 0.13114828756809727, 0.02351624466738296, 0.8248775052558945, 0.019898360872400964, 0.9983303844017548, 0.9434121404549489, 0.05617515372236123, 0.9769600167988207, 0.021354317307078048, 0.4626300442115693, 0.3531749864328068, 0.07151063774879146, 0.11310355970472119, 0.010244700936332639, 0.8725070297443298, 0.11610661061176991, 0.2703537363544352, 0.728779637129347, 0.9987037334564122, 0.02242496952834201, 0.15179979373031513, 0.8262738772366017, 0.9965694281015616, 0.7896558173940348, 0.20497448877036648, 0.0058804156614449404, 0.6492582523118019, 0.17593808755691515, 0.11249138784059397, 0.06188972549015378, 0.9875799995424765, 0.010432183093758554, 0.9808382254898156, 0.01655423165383655, 0.9989020442748955, 0.9959063631874605, 0.798438020018555, 0.20098993035045232, 0.9960982748462306, 0.0999416567709224, 0.0512858501850786, 0.0157802615954088, 0.7863830361712052, 0.046025762986609, 0.09039441418818334, 0.6096367468505388, 0.299562884228282, 0.9985247388744811, 0.10518378231247452, 0.8525422355853198, 0.042442578827840596, 0.9986022599586958, 0.034663932868799846, 0.8972625700270115, 0.06666140936307663, 0.22410340082279245, 0.6498998623860981, 0.001245018893459958, 0.1245018893459958, 0.14073846499791526, 0.01039008801998032, 0.018891069127236947, 0.09256623872346104, 0.6337953692187995, 0.1039008801998032, 0.053611862264503145, 0.014519879363302936, 0.9315061068457422, 0.9969465397288857, 0.9933531311239531, 0.817169921837904, 0.18230405301276137, 0.13462387284524102, 0.5845207470545508, 0.0011506313918396669, 0.1564858692901947, 0.01841010226943467, 0.10585808804924936, 0.9945614556570516, 0.0414032675343754, 0.2726556642507648, 0.02726556642507648, 0.0868458782428362, 0.5715670591330847, 0.9981589724409963, 0.006874703765055119, 0.9796452865203545, 0.013749407530110239, 0.9993542364212282, 0.996742260963388, 0.9988201386858221, 0.9988381591690285, 0.9986782808156345, 0.9944868009082176, 0.0391305955101147, 0.031884188934167536, 0.1862326490018422, 0.13405852165502258, 0.5775386041029892, 0.031884188934167536, 0.9975521821849358, 0.07179767503950525, 0.5321474738222154, 0.14042780559197351, 0.2111696324691331, 0.004223392649382662, 0.040122230169135284, 0.19085874413366102, 0.8070598323366237, 0.04369089042521272, 0.07063360618742724, 0.02912726028347515, 0.1856862843071541, 0.6713833495341022, 0.9978176662459055, 0.9933214380100791, 0.997995149156093, 0.9708904495785118, 0.025055237408477725, 0.01975660680878917, 0.975976376354185, 0.05859980994701313, 0.8670108244433079, 0.07458157629619853, 0.8460734300349018, 0.15232338045191637, 0.9960163642348745, 0.9989901028014021, 0.9971301167047093, 0.2449890317745099, 0.08511356033480626, 0.06441026187498851, 0.6003956553347144, 0.00575091623883826, 0.016726080563515086, 0.01976718612051783, 0.9640304615698696, 0.15497382993096812, 0.05291789314715984, 0.473426151191555, 0.00661473664339498, 0.3118375846171919, 0.9969141495249129, 0.9720267107391761, 0.025412463025860813, 0.09966321034964266, 0.07788805514719974, 0.6834048709689783, 0.13735097896925544, 0.0008375059693247283, 0.9659952078587412, 0.023109933202362227, 0.009243973280944891, 0.9945317479647727, 0.9965443354637892, 0.9964042883012018, 0.9960860119786432, 0.9985016846666782, 0.9986740172629854, 0.5965473004185383, 0.3280623286348382, 0.07505199499429081, 0.047494181336345184, 0.9521452544095867, 0.009010687342750302, 0.844001047770945, 0.14567277870779655, 0.9973825475552426, 0.9943070468291655, 0.8895847226081361, 0.1094141637432467, 0.6345808829286833, 0.09349624293933578, 0.06266237558700165, 0.03282314911700086, 0.17704607705533798, 0.021369305291250595, 0.9681224397166573, 0.01022010253059811, 0.996217404360172, 0.1670001901667249, 0.15430426927685692, 0.6777668536591057, 0.9722859245738339, 0.010426658708566584, 0.015639988062849875, 0.9922611869260837, 0.9040715916371912, 0.03822361508760183, 0.05816637078548105, 0.992612053636825, 0.9976887283940444, 0.04413075296845416, 0.9553010054347724, 0.9978505864202762, 0.9487964189474115, 0.05073777641430008, 0.12952905600822198, 0.005323111890748848, 0.8641184969315631, 0.9988659364277654, 0.16107562823376323, 0.06248623509068401, 0.026383077038288804, 0.0180515790261976, 0.7317832420620105, 0.15223251877292, 0.7885918765263873, 0.058972957722842875, 0.9986795244850123, 0.9976131024891769, 0.4022568257018252, 0.0397889743155002, 0.5580161032051858, 0.9986818929102826, 0.9945930797821151, 0.9957241968833854, 0.035064595986844256, 0.9199299888313258, 0.04331508916021938, 0.18085038772279918, 0.7859296104762071, 0.02693516412892754, 0.005771820884770187, 0.31369215719575966, 0.610158444487706, 0.07524985273771113, 0.9969848840913322, 0.9988550669720557, 0.9988824960982311, 0.9974308960620568, 0.9971402294128495, 0.8393088578819444, 0.1267789670605614, 0.03370073807938974, 0.1391435861861795, 0.02291776713654721, 0.06793480972619352, 0.7702006741246759, 0.9989162672568405, 0.9956631899403734, 0.9963176062929565, 0.9433234416920996, 0.03965924379486305, 0.015580417205124769, 0.9959149682204528, 0.9984683707860303, 0.9771083046799505, 0.020409572943706537, 0.015441920200614733, 0.9844224127891893, 0.1584836906338311, 0.8403548781139563, 0.2073608919770016, 0.6722506336673761, 0.12040309856729126, 0.09091785047343995, 0.11908957878915373, 0.08451518494714136, 0.6902073437349878, 0.016646930368376327, 0.996136933342924, 0.9992428015954353, 0.9959051893838453, 0.9974608492963825, 0.9981161702008202, 0.9948989611968406, 0.009179253029340525, 0.47089568040516894, 0.4249994152584663, 0.01468680484694484, 0.08077742665819662, 0.025502706257439396, 0.2399143477551706, 0.1454598801350247, 0.588451333273509, 0.20925835872699536, 0.07385589131541012, 0.7161783400282193, 0.1432487414912627, 0.8559985772038868, 0.9458575768113789, 0.05362004403692624, 0.13461337277896457, 0.09658699628773164, 0.2768320208561757, 0.10115016146667959, 0.062363257445622, 0.32930842041407715, 0.8926584408190339, 0.004250754480090637, 0.1020181075221753, 0.9987677097545083, 0.9961752128578694, 0.999628644980004, 0.9969841984061945, 0.016437264213910053, 0.6979515266214115, 0.19851157550645218, 0.08724394082767643, 0.036410823686348716, 0.10663169793859266, 0.23840420270823562, 0.4958807416331301, 0.12223633666131355, 0.9902860919132934, 0.00944478866870094, 0.09502212708517081, 0.06452119740351105, 0.7543114532810473, 0.08681033832472396, 0.9973082026533969, 0.997109013672948, 0.07464093810431309, 0.07250833987276128, 0.22818801077604287, 0.6099230942238155, 0.0031988973473277035, 0.010662991157759013, 0.15720309728301235, 0.002782355704124112, 0.7915801978233099, 0.04869122482217196, 0.040506290521901814, 0.9589423995293711, 0.9970156772954316, 0.03891528733942042, 0.6891543612471908, 0.03962283801831898, 0.2073123489172761, 0.025471824440347915, 0.9192776522312096, 0.007884027892205915, 0.0741098621867356, 0.994705169911976, 0.026175207762438923, 0.1592325138881701, 0.023993940448902344, 0.7896187675002408, 0.9960378126056357, 0.9947392647991001, 0.9939476812401195, 0.7281908748858085, 0.2707085495421801, 0.9714459747897034, 0.011411993830128675, 0.015691491516426927, 0.9972233915028549, 0.20412617080882578, 0.017010514234068817, 0.049330491278799564, 0.08165046832353032, 0.6481005923180219, 0.9995825875327224, 0.008778234184756767, 0.7231070409693386, 0.17666196296822992, 0.0032918378192837872, 0.08778234184756767, 0.6576786409099419, 0.3346454721805001, 0.007389647650673505, 0.04232961003277242, 0.14566365805395215, 0.7756278544240359, 0.02365478207713753, 0.013694873834132254, 0.014750632432014767, 0.029501264864029535, 0.9208609103986362, 0.03371573127317661, 0.022992769243539136, 0.9771926928504133, 0.9955678620258076, 0.1207716167226796, 0.034020173724698476, 0.06804034744939695, 0.7773609696093602, 0.04247482943996858, 0.02123741471998429, 0.15652761219543976, 0.7794917773149789, 0.07233554831920773, 0.9240282946582665, 0.32165118226154454, 0.47762427710819866, 0.020103198891346534, 0.18092879002211879, 0.997780358743048, 0.0016653426019996203, 0.1065819265279757, 0.11268818273530763, 0.6827904668198443, 0.011102284013330802, 0.08493247270198064, 0.011057204089467785, 0.3127609156735173, 0.0868780321315326, 0.03396141256050819, 0.5544398050575989, 0.2378662897050191, 0.009116826434687144, 0.03729610814190195, 0.715256473921364, 0.9948083863970383, 0.49655894041579873, 0.5031213933728357, 0.3325931361006607, 0.6673459678902868, 0.9982806547751686, 0.7192783741531442, 0.10932037465540015, 0.09813988179291605, 0.04720652541937734, 0.026087816679129582, 0.07504221942914785, 0.8036339498866925, 0.047754139636730454, 0.07367781543952698, 0.9457296588536938, 0.05361616963579996, 0.10886984843976107, 0.021347029105835504, 0.8229279720299587, 0.04589611257754633, 0.705587128332461, 0.0020016656122906692, 0.2912423465882924, 0.022131032009706317, 0.08262251950290359, 0.3098344481358884, 0.5857346471902272, 0.6790162694971882, 0.10963763374513621, 0.11055895839845668, 0.059886102465830704, 0.040538284746100786, 0.20089598363345465, 0.019636449528082033, 0.7794159966531022, 0.264344866531366, 0.6821206695809375, 0.05360839950636094, 0.4439072840676294, 0.5554100615822473, 0.06207175355385137, 0.2809563581911167, 0.6555648357792724, 0.9954618445843697, 0.9943979208202008, 0.995926568911929, 0.9948129704830649, 0.9982474260111888, 0.08198818174186491, 0.058022405540396706, 0.1664990767680949, 0.17532857326337264, 0.5171562232948402, 0.012389557135881501, 0.08301003281040606, 0.8932870694970562, 0.007433734281528901, 0.0037168671407644504, 0.9982238429034698, 0.9930967779553475, 0.9981865286610094, 0.9973457699760675, 0.0065031300627471835, 0.042270345407856694, 0.9494569891610889, 0.034556397868590036, 0.19638148057027993, 0.17109631139814088, 0.5579593997318684, 0.04129910964782711, 0.004992896277608622, 0.06390907235339037, 0.8827440618812045, 0.047931804265042774, 0.028620955999100334, 0.009540318666366778, 0.7579253162724718, 0.06042201822032293, 0.05300177036870432, 0.09010300962679735, 0.006557425184145415, 0.7453606625978622, 0.05027359307844818, 0.031694221723369505, 0.16502853380099294, 0.7289571375522113, 0.27043753347356847, 0.998912547620195, 0.9987672433843927, 0.9979116493504941, 0.9984505470465278, 0.9974412214160808, 0.9973588522375718, 0.9240969759639062, 0.07456690295962355, 0.9605558133962286, 0.02257716655418486, 0.014367287807208548, 0.9985097412417144, 0.8966377021430166, 0.07032452565827582, 0.03238629471104807, 0.9969612887977966, 0.9992157043459734, 0.9959416111357615, 0.998917714727523, 0.16505196970075603, 0.16023293408905515, 0.6686411911235007, 0.007228553417551359, 0.08489877007310602, 0.8438937745266738, 0.07131496686140905, 0.5311281740107464, 0.23439459322539982, 0.22192679571341048, 0.012467797511989353, 0.11109578308719292, 0.05020674812594295, 0.6430736674854821, 0.10468641098600871, 0.0897312094165789, 0.7386054793225435, 0.009547191859633347, 0.01301889799040911, 0.23867979649083368, 0.9994276702830734, 0.9989315705952627, 0.9989568446291247, 0.9991124372198875, 0.9988064751190759, 0.9995300191982752, 0.08047771336458921, 0.10273750642287985, 0.8167631760618947, 0.9973423874229099, 0.9948581608233518, 0.9994014520368131, 0.9985078159861579, 0.9728946676352773, 0.011632436243465272, 0.014804918855319437, 0.07637576631918987, 0.19620671002688433, 0.6860650733154814, 0.039504706716822345, 0.06517089399611176, 0.008886940090378876, 0.9257229260811329, 0.9973475393814066, 0.9984727683851436, 0.9972631039245073, 0.9962352593506085, 0.2054068220289314, 0.025675852753616425, 0.6987499927948471, 0.0696916003312446, 0.9972422244148006, 0.9975539396882724, 0.013321138261617065, 0.9857642313596627, 0.9959921620016214, 0.9988138675799612, 0.021265507725279804, 0.9441885430024233, 0.03402481236044769, 0.9952259923675524, 0.997230722832393, 0.22566738140111364, 0.6672376902004081, 0.10632405469860162, 0.0010849393336592001, 0.997474321974332, 0.14023545524561543, 0.3040748980078196, 0.47207975033177474, 0.08330819123501908, 0.12599510434451622, 0.873784230129502, 0.9972969946397634, 0.9946856285897088, 0.05157979057727072, 0.9129622932176917, 0.034816358639657735, 0.9979692368861408, 0.9971336601224807, 0.08088816785841257, 0.566217175008888, 0.008191206871737982, 0.17918265031926833, 0.015358512884508716, 0.15153732712715265, 0.9710027897076882, 0.029424326960839037, 0.996212650076037, 0.9983590444824783, 0.9989747029390617, 0.998828094988457, 0.03945038278813785, 0.9320152933697567, 0.027122138166844775, 0.993501967134484, 0.9981514422767727, 0.8737940972749715, 0.11582455870311513, 0.0085165116693467, 0.6860982564221045, 0.20569415182674533, 0.05413003995440667, 0.032478023972644, 0.021652015981762668, 0.9940857081810465, 0.19541972693464207, 0.5851424966500139, 0.05918426015734874, 0.0993848896981894, 0.05918426015734874, 0.9798184045511279, 0.018952000088029552, 0.9988792624771367, 0.9976366539896284, 0.0850074095836109, 0.7254942714463345, 0.1582896592246548, 0.03077854484923843, 0.9639708266398785, 0.03515754499195486, 0.9991947485663292, 0.9971678773020667, 0.4454967101748722, 0.5533109825002979, 0.12566118986077598, 0.7741626875351377, 0.02468344800836671, 0.06395256983985921, 0.01121974909471214, 0.3363845488703298, 0.5687024181337167, 0.030047421576652557, 0.06375916285777494, 0.9948379207836637, 0.9259908380782831, 0.07227245565489039, 0.006595916778778555, 0.9926854752061725, 0.9971734974890959, 0.028551509096234037, 0.012689559598326239, 0.9548893597740494, 0.005491977191004587, 0.9940478715718303, 0.1299788031668162, 0.04494594128198317, 0.030368879244583223, 0.7713695328124139, 0.024295103395666578, 0.005635335315850101, 0.694555077678525, 0.22400457880504152, 0.07466819293501384, 0.051396999575694616, 0.06466074140168032, 0.8820388314280496, 0.09199349657655137, 0.9071580912409927, 0.994195302801173, 0.9830578065427882, 0.016744774561410162, 0.07471535134971181, 0.43235283314366574, 0.493121318908098, 0.012885576243177519, 0.027381849516752228, 0.10308460994542015, 0.8552801231409078], \"Term\": [\"\\uac00\\uc0c1_\\uc790\\uc0b0\", \"\\uac00\\uce58_\\ud3c9\\uac00\", \"\\uac04\\ub2f4_\\ud68c\", \"\\uac04\\ub2f4_\\ud68c\", \"\\uac04\\ub2f4_\\ud68c\", \"\\uac04\\ud3b8_\\uacb0\\uc81c\", \"\\uac10\\uc5fc\", \"\\uac1c\\ubc1c\\uc790\", \"\\uac1c\\ubc1c\\uc790\", \"\\uac1c\\ubc1c\\uc790\", \"\\uac1c\\uc778\\uc815\\ubcf4_\\uc720\\ucd9c\", \"\\uac1c\\uc815\\uc548\", \"\\uac1c\\ucd5c\", \"\\uac1c\\ucd5c\", \"\\uac1c\\ucd5c\", \"\\uac1c\\ucd5c\", \"\\uac1c\\ucd5c\", \"\\uac24\\ub7ed\\uc2dc\", \"\\uac24\\ub7ed\\uc2dc_\\ubd81\", \"\\uac24\\ub7ed\\uc2dc_\\uc2dc\\ub9ac\\uc988\", \"\\uac24\\ub7ed\\uc2dc_\\uc6b8\\ud2b8\\ub77c\", \"\\uac70\", \"\\uac70\", \"\\uac70\", \"\\uac70\\ub798\\uc18c\", \"\\uac74\\uac15\", \"\\uac74\\uac15\", \"\\uac74\\uac15\", \"\\uac80\\uc0c9\", \"\\uac80\\uc0c9_\\uc5d4\\uc9c4\", \"\\uac8c\\uc774_\\ubc0d\", \"\\uacb0\\uc81c\", \"\\uacb0\\uc81c\", \"\\uacb0\\uc81c\", \"\\uacc4\", \"\\uacc4\", \"\\uacc4\", \"\\uacc4\", \"\\uacc4\\uc57d\", \"\\uacc4\\uc57d\", \"\\uacc4\\uc57d\", \"\\uacc4\\uc57d\", \"\\uacc4\\uc57d\", \"\\uacc4\\uc57d\", \"\\uacc4\\uc815_\\uacf5\\uc720\", \"\\uace0\\uccb4_\\ubc30\\ud130\\ub9ac\", \"\\uacf5\\uac1c\\ub9e4\\uc218\", \"\\uacf5\\uc7a5\", \"\\uacf5\\uc7a5\", \"\\uacf5\\uc7a5\", \"\\uacf5\\uc815\", \"\\uacf5\\uc815\", \"\\uacf5\\uc815\", \"\\uacf5\\uc815\", \"\\uacf5\\uc815\\uc704\", \"\\uacfc_\\uc815\\ud1b5\\ubd80\", \"\\uacfc\\ud559_\\uc601\\uc7ac\", \"\\uacfc\\ud559\\uae30\\uc220\", \"\\uacfc\\ud559\\uae30\\uc220\", \"\\uad00\\ub78c\\uac1d\", \"\\uad00\\ub78c\\uac1d\", \"\\uad11\\uace0\", \"\\uad11\\uace0\", \"\\uad11\\uace0\", \"\\uad11\\uace0\", \"\\uad11\\uace0\", \"\\uad6c_\\ub300\\ud45c\", \"\\uad6c\\uae00\", \"\\uad6c\\uae00\", \"\\uad6c\\uae00\", \"\\uad6d\\uac00_\\uc0b0\\ub2e8\", \"\\uad6d\\uac00_\\uc804\\ub7b5\", \"\\uad6d\\uac00_\\ucca8\\ub2e8\", \"\\uad6d\\ubbfc\\uc5f0\\uae08\", \"\\uad6d\\uc81c\", \"\\uad6d\\uc81c\", \"\\uad6d\\uc81c\", \"\\uad6d\\uc81c\", \"\\uad6d\\uc81c\", \"\\uad6d\\uc81c\", \"\\uad6d\\uc81c_\\ud45c\\uc900\", \"\\uad6d\\uc81c_\\ud45c\\uc900\", \"\\uaddc\\uc81c\", \"\\uaddc\\uc81c\", \"\\uaddc\\uc81c\", \"\\uaddc\\uc81c\", \"\\uadf8\\ub7f0\", \"\\uae08\\ub9ac\", \"\\uae08\\uc735_\\ub2f9\\uad6d\", \"\\uae08\\uc81c\", \"\\uae30\\uae30\", \"\\uae30\\uae30\", \"\\uae30\\uae30\", \"\\uae30\\uae30\", \"\\uae30\\uae30\", \"\\uae30\\ubd80\", \"\\uae30\\uc0ac\", \"\\uae30\\uc0ac\", \"\\uae30\\uc0ac\", \"\\uae30\\ud6c4_\\uae30\\uc220\", \"\\ub098\\uc774\\ud2b8_\\ud06c\\ub85c\\uc6b0\", \"\\ub124\\uc774\\ubc84\", \"\\ub124\\uc774\\ubc84\", \"\\ub124\\uc774\\ubc84\", \"\\ub124\\uc774\\ubc84\", \"\\ub124\\uc774\\ubc84_\\ud074\\ub77c\\uc6b0\\ub4dc\", \"\\ub124\\uc774\\ubc84\\uc6f9\\ud230\", \"\\ub125\\uc2a8\", \"\\ub125\\uc2a8\", \"\\ub137\\ud50c\\ub9ad\\uc2a4\", \"\\ub137\\ud50c\\ub9ad\\uc2a4\", \"\\ub137\\ud50c\\ub9ad\\uc2a4\", \"\\ub144_\\ub300\\ube44\", \"\\ub144_\\ub300\\ube44\", \"\\ub1cc\", \"\\ub2e8\\ubc31\\uc9c8\", \"\\ub2ec\\ub7ec\", \"\\ub2ec\\ub7ec\", \"\\ub2ec\\ub7ec\", \"\\ub2f5\", \"\\ub2f5\", \"\\ub2f5\", \"\\ub2f5\\ubcc0\", \"\\ub300_\\uc8fc\\uc8fc\", \"\\ub300\\ucd9c\", \"\\ub300\\ud45c\\uc774\\uc0ac\", \"\\ub300\\ud45c\\uc774\\uc0ac\", \"\\ub300\\ud45c\\uc774\\uc0ac\", \"\\ub300\\ud45c\\uc774\\uc0ac_\\ud6c4\\ubcf4\", \"\\ub300\\ud559\", \"\\ub300\\ud559\", \"\\ub300\\ud559\", \"\\ub354_\\ub9ac\\uc6c0\", \"\\ub370\\uc774\\ud130_\\uc13c\\ud130\", \"\\ub370\\uc774\\ud130_\\uc13c\\ud130\", \"\\ub370\\uc774\\ud130_\\uc13c\\ud130\", \"\\ub370\\uc774\\ud130_\\uc13c\\ud130\", \"\\ub3d9\\uc544\", \"\\ub4dc\\ub860\", \"\\ub514\\uc2a4\\ud50c\\ub808\\uc774\", \"\\ub514\\uc2a4\\ud50c\\ub808\\uc774\", \"\\ub514\\uc2a4\\ud50c\\ub808\\uc774\", \"\\ub514\\uc790\\uc778\", \"\\ub514\\uc790\\uc778\", \"\\ub514\\uc790\\uc778\", \"\\ub514\\uc790\\uc778\", \"\\ub514\\uc9c0\\ud138_\\uc790\\uc0b0\", \"\\ub85c\\ubd07\", \"\\ub85c\\ubd07\", \"\\ub9c8\\uc774\\ud06c\\ub85c\\uc18c\\ud504\\ud2b8\", \"\\ub9c8\\uc774\\ud06c\\ub85c\\uc18c\\ud504\\ud2b8\", \"\\ub9c8\\ucf00\\ud305\", \"\\ub9c8\\ucf00\\ud305\", \"\\ub9c8\\ucf00\\ud305\", \"\\ub9c8\\ucf00\\ud305\", \"\\ub9e4\\uc7a5\", \"\\ub9e4\\uc7a5\", \"\\ub9e4\\uc7a5\", \"\\ub9e4\\ucd9c_\\uc561\", \"\\ub9e4\\ucd9c_\\uc561\", \"\\ub9e4\\ucd9c_\\uc601\\uc5c5\", \"\\uba54\\ubaa8\\ub9ac\", \"\\uba54\\ubaa8\\ub9ac\", \"\\uba54\\ubaa8\\ub9ac\", \"\\uba54\\ubaa8\\ub9ac_\\ubc18\\ub3c4\\uccb4\", \"\\uba54\\ud0c0\", \"\\uba54\\ud0c0\", \"\\uba54\\ud0c0\", \"\\uba54\\ud0c0_\\ubc84\\uc2a4\", \"\\uba54\\ud0c0_\\ubc84\\uc2a4\", \"\\uba54\\ud0c0_\\ubc84\\uc2a4\", \"\\uba54\\ud0c0_\\ubc84\\uc2a4\", \"\\uba64\\ubc84\\uc2ed\", \"\\uba64\\ubc84\\uc2ed\", \"\\ubab8\", \"\\ubab8\", \"\\ubb38\\uc11c\", \"\\ubb38\\uc7a5\", \"\\ubb3c\\ub958\", \"\\ubb3c\\ub958\", \"\\ubbf8\\ub798_\\ucc28\", \"\\ubbfc\\uac04\", \"\\ubbfc\\uac04\", \"\\ubbfc\\uac04\", \"\\ubbfc\\uac04\", \"\\ubbfc\\uac04\", \"\\ubc14\\uc774\\uc624\", \"\\ubc14\\uc774\\uc624\", \"\\ubc14\\uc774\\uc624\", \"\\ubc18\\ub3c4\\uccb4_\\ud074\\ub7ec\\uc2a4\\ud130\", \"\\ubc1c\\uacac\", \"\\ubc1c\\uacac\", \"\\ubc1c\\uacac\", \"\\ubc1c\\uc0ac\", \"\\ubc1c\\ud589\", \"\\ubc1c\\ud589\", \"\\ubc1c\\ud589\", \"\\ubc29\\uc1a1\", \"\\ubc29\\uc1a1\", \"\\ubc29\\uc1a1\", \"\\ubc29\\uc1a1\", \"\\ubc29\\uc548\", \"\\ubc29\\uc548\", \"\\ubc29\\uc548\", \"\\ubc29\\uc548\", \"\\ubc29\\uc548\", \"\\ubc29\\uc548\", \"\\ubc30\\ud130\\ub9ac\", \"\\ubc30\\ud130\\ub9ac\", \"\\ubc30\\ud130\\ub9ac\", \"\\ubc88\\uc5ed\", \"\\ubcd1\", \"\\ubcd1\\uc6d0\", \"\\ubcd1\\uc6d0\", \"\\ubcf4\\uace0\", \"\\ubcf4\\uace0\", \"\\ubcf4\\uace0\", \"\\ubcf4\\uace0\", \"\\ubcf4\\uace0\", \"\\ubcf4\\uace0\", \"\\ubd80\\uc791\\uc6a9\", \"\\ubd84\", \"\\ubd84\", \"\\ubd84\", \"\\ubd84\", \"\\ubd84\", \"\\ubd84_\\ub97c\", \"\\ubd88\\ubc95\", \"\\ubd88\\ubc95\", \"\\ubd88\\ubc95\", \"\\ube14\\ub85d_\\uccb4\\uc778\", \"\\ube44\\ub300_\\uc9c4\\ub8cc\", \"\\ube44\\ud2b8\\ucf54\\uc778\", \"\\ube59\", \"\\uc0ac\\uac74\", \"\\uc0ac\\ub0b4_\\uc774\\uc0ac\", \"\\uc0ac\\uc5c5\\uc790\", \"\\uc0ac\\uc5c5\\uc790\", \"\\uc0ac\\uc5c5\\uc790\", \"\\uc0ac\\uc5c5\\uc790\", \"\\uc0ac\\uc5c5\\uc790\", \"\\uc0ac\\uc5c5\\uc790\", \"\\uc0ac\\uc678\\uc774\\uc0ac\", \"\\uc0ac\\uc774\", \"\\uc0ac\\uc774\", \"\\uc0ac\\uc774\", \"\\uc0ac\\uc774\", \"\\uc0ac\\uc774\", \"\\uc0ac\\uc774\", \"\\uc0ac\\uc774\\ubc84_\\ubcf4\\uc548\", \"\\uc0ac\\uc774\\ubc84_\\ubcf4\\uc548\", \"\\uc0ac\\uc7a5\", \"\\uc0ac\\uc7a5\", \"\\uc0ac\\uc7a5\", \"\\uc0ac\\uc7a5\", \"\\uc0ac\\uc7a5\", \"\\uc0b0\\uc5c5_\\ub2e8\\uc9c0\", \"\\uc0b0\\uc5c5_\\uc0dd\\ud0dc\\uacc4\", \"\\uc0b0\\uc5c5_\\uc721\\uc131\", \"\\uc0b0\\uc5c5_\\ud611\\ud68c\", \"\\uc0b0\\uc5c5_\\ud611\\ud68c\", \"\\uc0b0\\uc5c5\\ubd80\", \"\\uc0b0\\uc5c5\\ubd80\", \"\\uc0c1\\uc2b9\", \"\\uc0c1\\uc2b9\", \"\\uc0c1\\uc2b9\", \"\\uc0c1\\uc7a5\", \"\\uc0c1\\uc7a5\", \"\\uc0c9\\uc0c1\", \"\\uc0dd_\\uc131\\ud615\", \"\\uc0e4\\uc624\\ubbf8\", \"\\uc120\\ub3c4\", \"\\uc120\\ub3c4\", \"\\uc120\\ub3c4\", \"\\uc120\\ub3c4\", \"\\uc120\\ub3c4\", \"\\uc120\\uc784\", \"\\uc120\\uc784\", \"\\uc120\\uc784\", \"\\uc124\\uce58\", \"\\uc124\\uce58\", \"\\uc124\\uce58\", \"\\uc124\\uce58\", \"\\uc124\\uce58\", \"\\uc12d\\ucde8\", \"\\uc131\\ubd84\", \"\\uc131\\ubd84\", \"\\uc138\\ub300\", \"\\uc138\\ub300\", \"\\uc138\\ub300\", \"\\uc138\\ub300\", \"\\uc138\\ub300\", \"\\uc138\\ud3ec\", \"\\uc138\\ud3ec\", \"\\uc138\\ud3ec\", \"\\uc140\\ud2b8\\ub9ac\\uc628\", \"\\uc18c\\uc561_\\uc8fc\\uc8fc\", \"\\uc18c\\uc7ac_\\ubd80\\ud488\", \"\\uc218\\uba74\", \"\\uc218\\uc0ac\", \"\\uc218\\uc220\", \"\\uc218\\ucd9c\", \"\\uc218\\ucd9c\", \"\\uc218\\ucd9c\", \"\\uc2a4_\\ud14c\\uc774\\ube14\", \"\\uc2a4_\\ud14c\\uc774\\ube14\", \"\\uc2a4\\ucf00\", \"\\uc2a4\\ucf00\", \"\\uc2a4\\ucf00\", \"\\uc2a4\\ud1a0\\uc5b4\", \"\\uc2a4\\ud2b8\\ub808\\uc2a4\", \"\\uc2a4\\ud398\\uc778_\\ubc14\\ub974\\uc140\\ub85c\\ub098\", \"\\uc2a4\\ud398\\uc778_\\ubc14\\ub974\\uc140\\ub85c\\ub098\", \"\\uc2dc\\ub300\", \"\\uc2dc\\ub300\", \"\\uc2dc\\ub300\", \"\\uc2dc\\ub300\", \"\\uc2dc\\ub300\", \"\\uc2dc\\ub9ac\\uc988\", \"\\uc2dc\\ub9ac\\uc988\", \"\\uc2dc\\ub9ac\\uc988\", \"\\uc2dc\\ubc94_\\uc0ac\\uc5c5\", \"\\uc2dc\\uc124\", \"\\uc2dc\\uc124\", \"\\uc2dc\\uc124\", \"\\uc2dc\\uc98c\", \"\\uc2dc\\uc98c\", \"\\uc2dc\\uc98c\", \"\\uc2e0\\uaddc_\\uc0ac\\uc5c5\\uc790\", \"\\uc2e0\\uc81c\\ud488\", \"\\uc2e0\\uc81c\\ud488\", \"\\uc2e0\\uc81c\\ud488\", \"\\uc2e0\\uccb4\", \"\\uc2e4\\ubc84_\\uac8c\\uc774\\ud2b8\", \"\\uc2e4\\uc99d\", \"\\uc2e4\\uc99d\", \"\\uc2ec\\uc9c0\\uc5b4\", \"\\uc528\", \"\\uc528\", \"\\uc544\\ubc14\\ud0c0\", \"\\uc544\\ubc14\\ud0c0\", \"\\uc544\\ubc14\\ud0c0\", \"\\uc544\\uc774\\uc5b8_\\uba54\\uc774\\uc2a4\", \"\\uc548\\uc804\", \"\\uc548\\uc804\", \"\\uc548\\uc804\", \"\\uc548\\uc804\", \"\\uc548\\uc804\", \"\\uc54c\", \"\\uc54c\", \"\\uc54c\", \"\\uc554\", \"\\uc554\\ud638_\\ud654\\ud3d0\", \"\\uc560\\ud50c\", \"\\uc560\\ud50c\", \"\\uc560\\ud50c\", \"\\uc560\\ud50c_\\ud398\\uc774\", \"\\uc591\\uc790_\\uae30\\uc220\", \"\\uc591\\uc790\\ucef4\\ud4e8\\ud130\", \"\\uc598\\uae30\", \"\\uc598\\uae30\", \"\\uc598\\uae30\", \"\\uc5b4\\ub5a4\", \"\\uc5b4\\ub5a4\", \"\\uc5b4\\ub5a4\", \"\\uc5b4\\ub5a4\", \"\\uc5b4\\ub5bb\\uac8c\", \"\\uc5b4\\ub5bb\\uac8c\", \"\\uc5b4\\ub5bb\\uac8c\", \"\\uc5b8\\ub860\", \"\\uc5b8\\uc5b4\", \"\\uc5b8\\uc5b4_\\ubaa8\\ub378\", \"\\uc5c5_\\ube44\\ud2b8\", \"\\uc5c5_\\uc2a4\\ud14c\\uc774\\uc9c0\", \"\\uc5c6\\ub2e4\", \"\\uc5c6\\ub2e4\", \"\\uc5c6\\ub2e4\", \"\\uc5d0\\ub108\\uc9c0\", \"\\uc5d0\\ub108\\uc9c0\", \"\\uc5d0\\ub108\\uc9c0\", \"\\uc5d0\\ub108\\uc9c0\", \"\\uc5d0\\ub108\\uc9c0_\\uc194\\ub8e8\\uc158\", \"\\uc5d0\\ub4c0_\\ud14c\\ud06c\", \"\\uc5d4\\uc528\\uc18c\\ud504\\ud2b8\", \"\\uc5d4\\uc9c0\\ub2c8\\uc5b4\", \"\\uc5d4\\uc9c0\\ub2c8\\uc5b4\", \"\\uc5d4\\uc9c0\\ub2c8\\uc5b4\", \"\\uc5d4\\ud130\", \"\\uc5ec\\uc131\", \"\\uc5f0\\uad6c_\\uacb0\\uacfc\", \"\\uc5f0\\uad6c_\\uacb0\\uacfc\", \"\\uc5f0\\uad6c\\uae30\\uad00\", \"\\uc5f0\\uad6c\\uae30\\uad00\", \"\\uc601\\uc5c5_\\uc774\\uc775\", \"\\uc601\\uc5c5_\\uc774\\uc775\", \"\\uc601\\ud5a5\", \"\\uc601\\ud5a5\", \"\\uc601\\ud5a5\", \"\\uc608\\uc0c1\", \"\\uc608\\uc0c1\", \"\\uc608\\uc0c1\", \"\\uc608\\uc0c1\", \"\\uc608\\uc0c1\", \"\\uc624\\ud508_\\uac00\", \"\\uc624\\ud508_\\ub294\", \"\\uc624\\ud508_\\ub79c\", \"\\uc624\\ud508_\\uc758\", \"\\uc624\\ud508_\\ucc44\\ud305\", \"\\uc6a9\\uc778\", \"\\uc6b0\\ub824\", \"\\uc6b0\\ub824\", \"\\uc6b0\\ub824\", \"\\uc6b0\\ub824\", \"\\uc6b0\\ub824\", \"\\uc6b0\\ub9ac\\ub098\\ub77c\", \"\\uc6b0\\ub9ac\\ub098\\ub77c\", \"\\uc6b0\\ub9ac\\ub098\\ub77c\", \"\\uc6b0\\ub9ac\\ub098\\ub77c\", \"\\uc6b0\\uc8fc\", \"\\uc6b0\\uc8fc\", \"\\uc6b0\\uc8fc\", \"\\uc6b0\\uc8fc_\\ud56d\\uacf5\", \"\\uc6b0\\uc8fc_\\ud56d\\uacf5\", \"\\uc6b4\\ub3d9\", \"\\uc6b4\\ub3d9\", \"\\uc6d0\", \"\\uc6d0\", \"\\uc6d0\", \"\\uc6d0\", \"\\uc6d0\", \"\\uc6d0\", \"\\uc6d0\\uc778\", \"\\uc6d0\\uc778\", \"\\uc6d0\\uc778\", \"\\uc6d0\\uc790\\ub825\", \"\\uc6e8\\uc774\\ube0c\", \"\\uc704_\\ubbf9\\uc2a4\", \"\\uc704\\uba54\\uc774\\ub4dc\", \"\\uc704\\ud5d8\", \"\\uc704\\ud5d8\", \"\\uc704\\ud5d8\", \"\\uc704\\ud5d8\", \"\\uc720\\ub7fd\", \"\\uc720\\ub7fd\", \"\\uc720\\ub7fd\", \"\\uc720\\ub7fd\", \"\\uc720\\ub7fd\", \"\\uc720\\ud50c\\ub7ec\\uc2a4\", \"\\uc720\\ud50c\\ub7ec\\uc2a4\", \"\\uc721\\uc131\", \"\\uc721\\uc131\", \"\\uc721\\uc131\", \"\\uc721\\uc131\", \"\\uc724_\\uc0ac\\uc7a5\", \"\\uc724\\uacbd_\\ub9bc\", \"\\uc728\", \"\\uc728\", \"\\uc728\", \"\\uc728\", \"\\uc728\", \"\\uc728\", \"\\uc735\\ud569\", \"\\uc735\\ud569\", \"\\uc735\\ud569\", \"\\uc735\\ud569\", \"\\uc740\\ud589\", \"\\uc740\\ud589\", \"\\uc74c\\uc131_\\uc778\\uc99d\", \"\\uc758\\ub8cc\", \"\\uc758\\ub8cc\", \"\\uc758\\ub8cc\", \"\\uc758\\ub8cc\", \"\\uc758\\ub8cc\", \"\\uc758\\uc0ac\", \"\\uc758\\uc0ac\", \"\\uc758\\uc0ac\", \"\\uc758\\uc2ec\", \"\\uc758\\uc57d\\ud488\", \"\\uc758\\uc57d\\ud488\", \"\\uc758\\uc57d\\ud488\", \"\\uc758\\uc57d\\ud488\", \"\\uc758\\ud559\", \"\\uc774_\\uc7a5\\uad00\", \"\\uc774\\ub370\\uc77c\\ub9ac_\\ubc29\\uc778\", \"\\uc774\\ubbf8\\uc9c0\", \"\\uc774\\ubbf8\\uc9c0\", \"\\uc774\\ubca4\\ud2b8\", \"\\uc774\\ubca4\\ud2b8\", \"\\uc774\\ubca4\\ud2b8\", \"\\uc774\\ubca4\\ud2b8_\\uc9c4\\ud589\", \"\\uc774\\uc0ac\", \"\\uc774\\uc0ac\", \"\\uc774\\uc0ac\", \"\\uc774\\uc0ac\", \"\\uc774\\uc0ac\", \"\\uc774\\uc0ac\\ud68c\", \"\\uc774\\uc5c8\\ub2e4\", \"\\uc774\\uc5c8\\ub2e4\", \"\\uc774\\uc5c8\\ub2e4\", \"\\uc774\\uc5c8\\ub2e4\", \"\\uc774\\uc5c8\\ub2e4\", \"\\uc778\\uac04\", \"\\uc778\\uac04\", \"\\uc778\\uac04\", \"\\uc778\\uae30\", \"\\uc778\\uae30\", \"\\uc778\\uae30\", \"\\uc778\\uae30\", \"\\uc778\\uae30\", \"\\uc778\\ub3c4\", \"\\uc778\\ub3c4\", \"\\uc778\\ub3c4\", \"\\uc778\\ub3c4\", \"\\uc778\\ub3c4\\ub124\\uc2dc\\uc544\", \"\\uc778\\ub3c4\\ub124\\uc2dc\\uc544\", \"\\uc778\\ub825_\\uc591\\uc131\", \"\\uc778\\uc0ac\", \"\\uc778\\uc0ac\", \"\\uc778\\uc0ac\", \"\\uc778\\uc0ac\", \"\\uc778\\uc218\", \"\\uc778\\uc218\", \"\\uc778\\uc218\", \"\\uc778\\uc218\", \"\\uc778\\uc7ac_\\uc591\\uc131\", \"\\uc778\\uc7ac_\\uc591\\uc131\", \"\\uc778\\uc99d\", \"\\uc778\\uc99d\", \"\\uc778\\uc99d\", \"\\uc778\\uc99d\", \"\\uc778\\ud130_\\ubc30\\ud130\\ub9ac\", \"\\uc77c\\ubcf8\", \"\\uc77c\\ubcf8\", \"\\uc77c\\ubcf8\", \"\\uc77c\\ubcf8\", \"\\uc77c\\ubcf8\", \"\\uc77c\\ubcf8\", \"\\uc784\", \"\\uc784\", \"\\uc784\", \"\\uc784\", \"\\uc784\", \"\\uc784_\\uc9c1\\uc6d0\", \"\\uc784_\\uc9c1\\uc6d0\", \"\\uc784_\\uc9c1\\uc6d0\", \"\\uc784_\\uc9c1\\uc6d0\", \"\\uc784\\uae30\", \"\\uc785\\ub2c8\\ub2e4\", \"\\uc785\\ub2c8\\ub2e4\", \"\\uc788\\uc2b5\\ub2c8\\ub2e4\", \"\\uc788\\uc2b5\\ub2c8\\ub2e4\", \"\\uc788\\uc5b4\\uc694\", \"\\uc788\\uc5c8\\ub2e4\", \"\\uc788\\uc5c8\\ub2e4\", \"\\uc788\\uc5c8\\ub2e4\", \"\\uc788\\uc5c8\\ub2e4\", \"\\uc788\\uc5c8\\ub2e4\", \"\\uc790\\uae08\", \"\\uc790\\uae08\", \"\\uc790\\uae08\", \"\\uc790\\uae08\", \"\\uc790\\ub3d9\\ud654\", \"\\uc790\\ub3d9\\ud654\", \"\\uc790\\uc0b0\", \"\\uc790\\uc0b0\", \"\\uc790\\uc0b0\", \"\\uc790\\uc0b0\", \"\\uc790\\uc728_\\uc8fc\\ud589\", \"\\uc790\\uc728_\\uc8fc\\ud589\", \"\\uc790\\uc728_\\uc8fc\\ud589\", \"\\uc790\\ud68c\\uc0ac\", \"\\uc790\\ud68c\\uc0ac\", \"\\uc790\\ud68c\\uc0ac\", \"\\uc790\\ud68c\\uc0ac\", \"\\uc791\\uc5c5\", \"\\uc791\\uc5c5\", \"\\uc791\\uc5c5\", \"\\uc791\\uc5c5\", \"\\uc791\\uc5c5\", \"\\uc791\\ud488\", \"\\uc791\\ud488\", \"\\uc791\\ud488\", \"\\uc798\", \"\\uc798\", \"\\uc798\", \"\\uc804\\uae30\\ucc28\", \"\\uc804\\uae30\\ucc28\", \"\\uc804\\uc2dc\", \"\\uc804\\uc2dc\", \"\\uc804\\uc2dc\", \"\\uc804\\uc2dc\\uad00\", \"\\uc804\\uc2dc\\uc7a5\", \"\\uc804\\uc791\", \"\\uc804\\ud22c\", \"\\uc804\\ud600\", \"\\uc808\\ucc28\", \"\\uc808\\ucc28\", \"\\uc808\\ucc28\", \"\\uc808\\ucc28\", \"\\uc808\\ucc28\", \"\\uc810\\uc720_\\uc728\", \"\\uc810\\uc720_\\uc728\", \"\\uc810\\uc720_\\uc728\", \"\\uc810\\uc720_\\uc728\", \"\\uc810\\uc720_\\uc728\", \"\\uc815\\uae30_\\uc8fc\\uc8fc\\ucd1d\\ud68c\", \"\\uc815\\ub9d0\", \"\\uc815\\ubcf4_\\uc720\\ucd9c\", \"\\uc815\\ucc45_\\uad00\", \"\\uc81c_\\ucc28\", \"\\uc81c_\\ucc28\", \"\\uc81c_\\ucc28\", \"\\uc81c\\ub3c4\", \"\\uc81c\\ub3c4\", \"\\uc81c\\ub3c4\", \"\\uc81c\\ub3c4\", \"\\uc81c\\ub3c4\", \"\\uc870\\uc131\", \"\\uc870\\uc131\", \"\\uc870\\uc131\", \"\\uc870\\uc131\", \"\\uc885\", \"\\uc885\", \"\\uc885\", \"\\uc885\", \"\\uc885\", \"\\uc885\", \"\\uc8fc\\uc7a5\", \"\\uc8fc\\uc7a5\", \"\\uc8fc\\uc7a5\", \"\\uc8fc\\uc7a5\", \"\\uc8fc\\uc7a5\", \"\\uc8fc\\uc81c\", \"\\uc8fc\\uc81c\", \"\\uc8fc\\uc8fc\", \"\\uc8fc\\uc8fc\\ucd1d\\ud68c\", \"\\uc990\\uae38_\\uc218\", \"\\uc99d\\uad8c\", \"\\uc99d\\uc0c1\", \"\\uc9c0\\uac11\", \"\\uc9c0\\ub2a5\", \"\\uc9c0\\ub2a5\", \"\\uc9c0\\uc2dd\", \"\\uc9c0\\uc2dd\", \"\\uc9c0\\uc2dd\", \"\\uc9c4\\ub8cc\", \"\\uc9c8\\ubb38\", \"\\uc9c8\\ubb38\", \"\\uc9c8\\ubb38\", \"\\uc9c8\\ubcd1\", \"\\uc9c8\\ud658\", \"\\ucc28\\uae30_\\ub300\\ud45c\", \"\\ucc28\\uae30_\\ub300\\ud45c\\uc774\\uc0ac\", \"\\ucc38\\uac00\", \"\\ucc38\\uac00\", \"\\ucc38\\uac00\", \"\\ucc38\\uac00\", \"\\ucc38\\uc11d\", \"\\ucc38\\uc11d\", \"\\ucc38\\uc11d\", \"\\ucc3d\\uc5c5\", \"\\ucc3d\\uc5c5\", \"\\ucc3d\\uc5c5\", \"\\ucc3d\\uc5c5\", \"\\ucc44\\ub110\", \"\\ucc44\\ub110\", \"\\ucc44\\ub110\", \"\\ucc44\\ub110\", \"\\ucc44\\ub110\", \"\\ucc44\\uc6a9\", \"\\ucc44\\uc6a9\", \"\\ucc44\\uc6a9\", \"\\ucc44\\uc6a9\", \"\\ucc57_\\uac00\", \"\\ucc57_\\ub294\", \"\\ucc57_\\ub97c\", \"\\ucc57_\\uc640\", \"\\ucc57_\\uc758\", \"\\ucc57\\ubd07\", \"\\ucca8\\ub2e8\", \"\\ucca8\\ub2e8\", \"\\ucca8\\ub2e8\", \"\\ucca8\\ub2e8_\\uc0b0\\uc5c5\", \"\\uccb4\\uacc4_\\uad6c\\ucd95\", \"\\ucd08_\\uac70\\ub300\", \"\\ucd5c\\ub300_\\uc8fc\\uc8fc\", \"\\uce58\\ub8cc\", \"\\uce58\\ub8cc\", \"\\uce58\\ub8cc\", \"\\uce74\\ub4dc\", \"\\uce74\\ub4dc\", \"\\uce74\\ub4dc\", \"\\uce74\\ub4dc\", \"\\uce74\\uba54\\ub77c\", \"\\uce74\\uba54\\ub77c\", \"\\uce74\\uba54\\ub77c\", \"\\uce74\\uce74\\uc624_\\ubaa8\\ube4c\\ub9ac\\ud2f0\", \"\\uce74\\uce74\\uc624_\\ube0c\\ub808\\uc778\", \"\\uce74\\uce74\\uc624_\\uc5d4\\ud130\\ud14c\\uc778\\uba3c\\ud2b8\", \"\\uce74\\uce74\\uc624_\\ud130\", \"\\uce74\\uce74\\uc624_\\ud1a1\", \"\\uce74\\uce74\\uc624_\\ud1a1\", \"\\uce74\\uce74\\uc624_\\ud1a1\", \"\\uce74\\uce74\\uc624_\\ud1a1\", \"\\uce74\\uce74\\uc624_\\ud398\\uc774\", \"\\uce74\\uce74\\uc624_\\ud5ec\", \"\\uce90\\ub9ad\\ud130\", \"\\uce90\\ub9ad\\ud130\", \"\\ucf54\\ub529\", \"\\ucf54\\uc778\", \"\\ud06c\\ub9ac\\uc5d0\\uc774\\ud130\", \"\\ud06c\\ub9ac\\uc5d0\\uc774\\ud130\", \"\\ud06c\\ub9ac\\uc5d0\\uc774\\ud130\", \"\\ud074\\ub808\\uc774\\ud2bc\", \"\\ud0c4\\uc18c_\\uc911\\ub9bd\", \"\\ud0d1\\uc7ac\", \"\\ud0d1\\uc7ac\", \"\\ud0d1\\uc7ac\", \"\\ud0d1\\uc7ac\", \"\\ud14c\\uc2ac\\ub77c\", \"\\ud154\\ub808\\ucf64\", \"\\ud154\\ub808\\ucf64\", \"\\ud154\\ub808\\ucf64\", \"\\ud154\\ub808\\ucf64\", \"\\ud1a0\\ud070\", \"\\ud1a0\\ud070\", \"\\ud1a0\\ud070_\\uc99d\\uad8c\", \"\\ud1b5\\uc99d\", \"\\ud22c\\uc790\\uc790\", \"\\ud22c\\uc790\\uc790\", \"\\ud22c\\uc790\\uc790\", \"\\ud2f0\\ube59\", \"\\ud30c\\uc6b4\\ub4dc\\ub9ac\", \"\\ud310\\ub2e8\", \"\\ud310\\ub2e8\", \"\\ud310\\ub2e8\", \"\\ud310\\ub2e8\", \"\\ud310\\ub2e8\", \"\\ud310\\ub2e8\", \"\\ud32c\", \"\\ud32c\", \"\\ud339\\ub9ac\\uc2a4\", \"\\ud398\\uc774_\\ucf54\\uc778\", \"\\ud3f0\", \"\\ud3f4_\\ub354\\ube14\", \"\\ud504\\ub85c\", \"\\ud504\\ub85c\", \"\\ud504\\ub85c\", \"\\ud504\\ub85c\\ubaa8\\uc158\", \"\\ud504\\ub86c_\\ud504\\ud2b8\", \"\\ud504\\ub9ac\\ubbf8\\uc5c4\", \"\\ud504\\ub9ac\\ubbf8\\uc5c4\", \"\\ud504\\ub9ac\\ubbf8\\uc5c4\", \"\\ud53c\\ud574\", \"\\ud53c\\ud574\", \"\\ud53c\\ud574\", \"\\ud53c\\ud574\", \"\\ud53c\\ud574\", \"\\ud53c\\ud574\\uc790\", \"\\ud558\\uace0\", \"\\ud558\\uace0\", \"\\ud558\\uace0\", \"\\ud558\\uace0\", \"\\ud558\\uace0\", \"\\ud558\\ub77d\", \"\\ud558\\ub77d\", \"\\ud558\\uc774\\ube0c\", \"\\ud558\\uc774\\ud37c_\\ud074\\ub85c\", \"\\ud558\\uc9c0\", \"\\ud558\\uc9c0\", \"\\ud558\\uc9c0\", \"\\ud558\\uc9c0\", \"\\ud559\\uc0dd\", \"\\ud559\\uc0dd\", \"\\ud559\\uc2b5\", \"\\ud55c\\uad6d\\uc5b4\", \"\\ud569\\ub2c8\\ub2e4\", \"\\ud569\\ub2c8\\ub2e4\", \"\\ud574\\uc11c\", \"\\ud574\\uc11c\", \"\\ud574\\uc11c\", \"\\ud574\\uc11c\", \"\\ud574\\uc11c\", \"\\ud588\\uc2b5\\ub2c8\\ub2e4\", \"\\ud588\\uc2b5\\ub2c8\\ub2e4\", \"\\ud588\\uc2b5\\ub2c8\\ub2e4\", \"\\ud588\\uc2b5\\ub2c8\\ub2e4\", \"\\ud588\\uc5b4\\uc694\", \"\\ud589\\uc704\", \"\\ud589\\uc704\", \"\\ud604\\ub300\\ucc28_\\uadf8\\ub8f9\", \"\\ud604\\ub300\\ucc28_\\uadf8\\ub8f9\", \"\\ud604\\ubaa8_\\ub300\\ud45c\", \"\\ud611\\uc57d\", \"\\ud611\\uc57d\", \"\\ud611\\uc57d\", \"\\ud611\\uc758_\\ud68c\", \"\\ud611\\uc758_\\ud68c\", \"\\ud611\\ud68c\", \"\\ud611\\ud68c\", \"\\ud611\\ud68c\", \"\\ud611\\ud68c\", \"\\ud611\\ud68c\", \"\\ud61c\\ud0dd\", \"\\ud61c\\ud0dd\", \"\\ud61c\\ud0dd\", \"\\ud61c\\ud0dd\", \"\\ud654\\uba74\", \"\\ud654\\uba74\", \"\\ud654\\uba74\", \"\\ud654\\uc6e8\\uc774\", \"\\ud654\\uc6e8\\uc774\", \"\\ud654\\uc9c8\", \"\\ud658\\uc790\", \"\\ud658\\uc790\", \"\\ud68c\\uc7a5\", \"\\ud68c\\uc7a5\", \"\\ud68c\\uc7a5\", \"\\ud6c4\\ubcf4\", \"\\ud6c4\\ubcf4\", \"\\ud6c4\\ubcf4\", \"\\ud6c4\\ubcf4\"]}, \"R\": 30, \"lambda.step\": 0.01, \"plot.opts\": {\"xlab\": \"PC1\", \"ylab\": \"PC2\"}, \"topic.order\": [4, 1, 6, 5, 2, 3]};\n",
              "\n",
              "function LDAvis_load_lib(url, callback){\n",
              "  var s = document.createElement('script');\n",
              "  s.src = url;\n",
              "  s.async = true;\n",
              "  s.onreadystatechange = s.onload = callback;\n",
              "  s.onerror = function(){console.warn(\"failed to load library \" + url);};\n",
              "  document.getElementsByTagName(\"head\")[0].appendChild(s);\n",
              "}\n",
              "\n",
              "if(typeof(LDAvis) !== \"undefined\"){\n",
              "   // already loaded: just create the visualization\n",
              "   !function(LDAvis){\n",
              "       new LDAvis(\"#\" + \"ldavis_el3661396674689627208239153203\", ldavis_el3661396674689627208239153203_data);\n",
              "   }(LDAvis);\n",
              "}else if(typeof define === \"function\" && define.amd){\n",
              "   // require.js is available: use it to load d3/LDAvis\n",
              "   require.config({paths: {d3: \"https://d3js.org/d3.v5\"}});\n",
              "   require([\"d3\"], function(d3){\n",
              "      window.d3 = d3;\n",
              "      LDAvis_load_lib(\"https://cdn.jsdelivr.net/gh/bmabey/pyLDAvis@3.4.0/pyLDAvis/js/ldavis.v3.0.0.js\", function(){\n",
              "        new LDAvis(\"#\" + \"ldavis_el3661396674689627208239153203\", ldavis_el3661396674689627208239153203_data);\n",
              "      });\n",
              "    });\n",
              "}else{\n",
              "    // require.js not available: dynamically load d3 & LDAvis\n",
              "    LDAvis_load_lib(\"https://d3js.org/d3.v5.js\", function(){\n",
              "         LDAvis_load_lib(\"https://cdn.jsdelivr.net/gh/bmabey/pyLDAvis@3.4.0/pyLDAvis/js/ldavis.v3.0.0.js\", function(){\n",
              "                 new LDAvis(\"#\" + \"ldavis_el3661396674689627208239153203\", ldavis_el3661396674689627208239153203_data);\n",
              "            })\n",
              "         });\n",
              "}\n",
              "</script>"
            ]
          },
          "metadata": {},
          "execution_count": 55
        }
      ]
    },
    {
      "cell_type": "markdown",
      "source": [
        "## 문서별 토픽 할당"
      ],
      "metadata": {
        "id": "T1bvvHZOHABQ"
      }
    },
    {
      "cell_type": "code",
      "source": [
        "doc_per_topic_list = []\n",
        "\n",
        "for n in range(len(corpus)):\n",
        "    doc_topic = ldamodel[corpus[n]]\n",
        "    doc_topic = sorted(doc_topic, key=lambda x: (x[1]), reverse=True)\n",
        "    topic_most_pr = doc_topic[0][0]\n",
        "    topic_pr = doc_topic[0][1]\n",
        "    doc_per_topic_list.append([n, topic_most_pr, topic_pr])\n",
        "    \n",
        "doc_topic_df = pd.DataFrame(doc_per_topic_list, columns=['Doc_Num', 'Topic', 'Percentage'])\n",
        "\n",
        "# 실제 review 내용과 join\n",
        "doc_topic_df = doc_topic_df.join(news)  \n",
        "\n",
        "doc_topic_df.head()"
      ],
      "metadata": {
        "colab": {
          "base_uri": "https://localhost:8080/",
          "height": 706
        },
        "id": "YLlJd_lkFyPA",
        "outputId": "c6321722-11d5-4450-a559-efa6c45232d8"
      },
      "execution_count": 57,
      "outputs": [
        {
          "output_type": "stream",
          "name": "stderr",
          "text": [
            "/usr/local/lib/python3.9/dist-packages/ipykernel/ipkernel.py:283: DeprecationWarning: `should_run_async` will not call `transform_cell` automatically in the future. Please pass the result to `transformed_cell` argument and any exception that happen during thetransform in `preprocessing_exc_tuple` in IPython 7.17 and above.\n",
            "  and should_run_async(code)\n"
          ]
        },
        {
          "output_type": "execute_result",
          "data": {
            "text/plain": [
              "   Doc_Num  Topic  Percentage  news_id                               title  \\\n",
              "0        0      2    0.675528   346630  정부, '우주항공청' 연내 개청…백지신탁 예외 등 특혜 쏟는다   \n",
              "1        1      2    0.726458   346633        우주항공청 전문가 영입 `연봉 10억·외국인 허용`   \n",
              "2        2      2    0.764771   347804   박정호의 투자유치 '매직'…\"SK쉴더스 IPO보다 더 이득\"   \n",
              "3        3      5    0.437542   347806       글·그림·로고 제작·번역...인공지능에 다 맡겨 보니   \n",
              "4        4      1    0.365018   347807       LG엔솔-혼다, 美 배터리 공장 '첫삽'…기공식 개최   \n",
              "\n",
              "  writer                                            content  \\\n",
              "0    NaN  \\n [서울=뉴시스] 정부가 올해 중 우리나라의 우주항공 분야 연구개발(R&D)을 ...   \n",
              "1    이준기  \\n '한국형 NASA(미 항공우주국)'로 출범하는 우주항공청이 최고의 민간 전문가...   \n",
              "2    선한결  \\n \"SK쉴더스의 기업공개(IPO)를 철회해서 아쉬웠는데, IPO보다 더 높은 가...   \n",
              "3    NaN  \\n 최근 텍스트 생성 인공지능(AI) 챗봇 챗GPT(ChatGPT)를 이용해 만든...   \n",
              "4    이한얼  \\n LG에너지솔루션은 28일(현지시간) 오하이오 주 파이에트 카운티 제퍼슨빌 인근...   \n",
              "\n",
              "             writed_at  url main_category sub_category platform  \n",
              "0  2023-03-02 00:00:00  NaN         IT/과학        IT 일반      네이버  \n",
              "1  2023-03-02 00:00:00  NaN         IT/과학        IT 일반      네이버  \n",
              "2  2023-03-01 18:03:05  NaN         IT/과학        IT 일반      네이버  \n",
              "3  2023-03-01 18:02:03  NaN         IT/과학        IT 일반      네이버  \n",
              "4  2023-03-01 18:26:01  NaN         IT/과학        IT 일반      네이버  "
            ],
            "text/html": [
              "\n",
              "  <div id=\"df-df0b2312-f732-45de-8ff3-127fcbd05372\">\n",
              "    <div class=\"colab-df-container\">\n",
              "      <div>\n",
              "<style scoped>\n",
              "    .dataframe tbody tr th:only-of-type {\n",
              "        vertical-align: middle;\n",
              "    }\n",
              "\n",
              "    .dataframe tbody tr th {\n",
              "        vertical-align: top;\n",
              "    }\n",
              "\n",
              "    .dataframe thead th {\n",
              "        text-align: right;\n",
              "    }\n",
              "</style>\n",
              "<table border=\"1\" class=\"dataframe\">\n",
              "  <thead>\n",
              "    <tr style=\"text-align: right;\">\n",
              "      <th></th>\n",
              "      <th>Doc_Num</th>\n",
              "      <th>Topic</th>\n",
              "      <th>Percentage</th>\n",
              "      <th>news_id</th>\n",
              "      <th>title</th>\n",
              "      <th>writer</th>\n",
              "      <th>content</th>\n",
              "      <th>writed_at</th>\n",
              "      <th>url</th>\n",
              "      <th>main_category</th>\n",
              "      <th>sub_category</th>\n",
              "      <th>platform</th>\n",
              "    </tr>\n",
              "  </thead>\n",
              "  <tbody>\n",
              "    <tr>\n",
              "      <th>0</th>\n",
              "      <td>0</td>\n",
              "      <td>2</td>\n",
              "      <td>0.675528</td>\n",
              "      <td>346630</td>\n",
              "      <td>정부, '우주항공청' 연내 개청…백지신탁 예외 등 특혜 쏟는다</td>\n",
              "      <td>NaN</td>\n",
              "      <td>\\n [서울=뉴시스] 정부가 올해 중 우리나라의 우주항공 분야 연구개발(R&amp;D)을 ...</td>\n",
              "      <td>2023-03-02 00:00:00</td>\n",
              "      <td>NaN</td>\n",
              "      <td>IT/과학</td>\n",
              "      <td>IT 일반</td>\n",
              "      <td>네이버</td>\n",
              "    </tr>\n",
              "    <tr>\n",
              "      <th>1</th>\n",
              "      <td>1</td>\n",
              "      <td>2</td>\n",
              "      <td>0.726458</td>\n",
              "      <td>346633</td>\n",
              "      <td>우주항공청 전문가 영입 `연봉 10억·외국인 허용`</td>\n",
              "      <td>이준기</td>\n",
              "      <td>\\n '한국형 NASA(미 항공우주국)'로 출범하는 우주항공청이 최고의 민간 전문가...</td>\n",
              "      <td>2023-03-02 00:00:00</td>\n",
              "      <td>NaN</td>\n",
              "      <td>IT/과학</td>\n",
              "      <td>IT 일반</td>\n",
              "      <td>네이버</td>\n",
              "    </tr>\n",
              "    <tr>\n",
              "      <th>2</th>\n",
              "      <td>2</td>\n",
              "      <td>2</td>\n",
              "      <td>0.764771</td>\n",
              "      <td>347804</td>\n",
              "      <td>박정호의 투자유치 '매직'…\"SK쉴더스 IPO보다 더 이득\"</td>\n",
              "      <td>선한결</td>\n",
              "      <td>\\n \"SK쉴더스의 기업공개(IPO)를 철회해서 아쉬웠는데, IPO보다 더 높은 가...</td>\n",
              "      <td>2023-03-01 18:03:05</td>\n",
              "      <td>NaN</td>\n",
              "      <td>IT/과학</td>\n",
              "      <td>IT 일반</td>\n",
              "      <td>네이버</td>\n",
              "    </tr>\n",
              "    <tr>\n",
              "      <th>3</th>\n",
              "      <td>3</td>\n",
              "      <td>5</td>\n",
              "      <td>0.437542</td>\n",
              "      <td>347806</td>\n",
              "      <td>글·그림·로고 제작·번역...인공지능에 다 맡겨 보니</td>\n",
              "      <td>NaN</td>\n",
              "      <td>\\n 최근 텍스트 생성 인공지능(AI) 챗봇 챗GPT(ChatGPT)를 이용해 만든...</td>\n",
              "      <td>2023-03-01 18:02:03</td>\n",
              "      <td>NaN</td>\n",
              "      <td>IT/과학</td>\n",
              "      <td>IT 일반</td>\n",
              "      <td>네이버</td>\n",
              "    </tr>\n",
              "    <tr>\n",
              "      <th>4</th>\n",
              "      <td>4</td>\n",
              "      <td>1</td>\n",
              "      <td>0.365018</td>\n",
              "      <td>347807</td>\n",
              "      <td>LG엔솔-혼다, 美 배터리 공장 '첫삽'…기공식 개최</td>\n",
              "      <td>이한얼</td>\n",
              "      <td>\\n LG에너지솔루션은 28일(현지시간) 오하이오 주 파이에트 카운티 제퍼슨빌 인근...</td>\n",
              "      <td>2023-03-01 18:26:01</td>\n",
              "      <td>NaN</td>\n",
              "      <td>IT/과학</td>\n",
              "      <td>IT 일반</td>\n",
              "      <td>네이버</td>\n",
              "    </tr>\n",
              "  </tbody>\n",
              "</table>\n",
              "</div>\n",
              "      <button class=\"colab-df-convert\" onclick=\"convertToInteractive('df-df0b2312-f732-45de-8ff3-127fcbd05372')\"\n",
              "              title=\"Convert this dataframe to an interactive table.\"\n",
              "              style=\"display:none;\">\n",
              "        \n",
              "  <svg xmlns=\"http://www.w3.org/2000/svg\" height=\"24px\"viewBox=\"0 0 24 24\"\n",
              "       width=\"24px\">\n",
              "    <path d=\"M0 0h24v24H0V0z\" fill=\"none\"/>\n",
              "    <path d=\"M18.56 5.44l.94 2.06.94-2.06 2.06-.94-2.06-.94-.94-2.06-.94 2.06-2.06.94zm-11 1L8.5 8.5l.94-2.06 2.06-.94-2.06-.94L8.5 2.5l-.94 2.06-2.06.94zm10 10l.94 2.06.94-2.06 2.06-.94-2.06-.94-.94-2.06-.94 2.06-2.06.94z\"/><path d=\"M17.41 7.96l-1.37-1.37c-.4-.4-.92-.59-1.43-.59-.52 0-1.04.2-1.43.59L10.3 9.45l-7.72 7.72c-.78.78-.78 2.05 0 2.83L4 21.41c.39.39.9.59 1.41.59.51 0 1.02-.2 1.41-.59l7.78-7.78 2.81-2.81c.8-.78.8-2.07 0-2.86zM5.41 20L4 18.59l7.72-7.72 1.47 1.35L5.41 20z\"/>\n",
              "  </svg>\n",
              "      </button>\n",
              "      \n",
              "  <style>\n",
              "    .colab-df-container {\n",
              "      display:flex;\n",
              "      flex-wrap:wrap;\n",
              "      gap: 12px;\n",
              "    }\n",
              "\n",
              "    .colab-df-convert {\n",
              "      background-color: #E8F0FE;\n",
              "      border: none;\n",
              "      border-radius: 50%;\n",
              "      cursor: pointer;\n",
              "      display: none;\n",
              "      fill: #1967D2;\n",
              "      height: 32px;\n",
              "      padding: 0 0 0 0;\n",
              "      width: 32px;\n",
              "    }\n",
              "\n",
              "    .colab-df-convert:hover {\n",
              "      background-color: #E2EBFA;\n",
              "      box-shadow: 0px 1px 2px rgba(60, 64, 67, 0.3), 0px 1px 3px 1px rgba(60, 64, 67, 0.15);\n",
              "      fill: #174EA6;\n",
              "    }\n",
              "\n",
              "    [theme=dark] .colab-df-convert {\n",
              "      background-color: #3B4455;\n",
              "      fill: #D2E3FC;\n",
              "    }\n",
              "\n",
              "    [theme=dark] .colab-df-convert:hover {\n",
              "      background-color: #434B5C;\n",
              "      box-shadow: 0px 1px 3px 1px rgba(0, 0, 0, 0.15);\n",
              "      filter: drop-shadow(0px 1px 2px rgba(0, 0, 0, 0.3));\n",
              "      fill: #FFFFFF;\n",
              "    }\n",
              "  </style>\n",
              "\n",
              "      <script>\n",
              "        const buttonEl =\n",
              "          document.querySelector('#df-df0b2312-f732-45de-8ff3-127fcbd05372 button.colab-df-convert');\n",
              "        buttonEl.style.display =\n",
              "          google.colab.kernel.accessAllowed ? 'block' : 'none';\n",
              "\n",
              "        async function convertToInteractive(key) {\n",
              "          const element = document.querySelector('#df-df0b2312-f732-45de-8ff3-127fcbd05372');\n",
              "          const dataTable =\n",
              "            await google.colab.kernel.invokeFunction('convertToInteractive',\n",
              "                                                     [key], {});\n",
              "          if (!dataTable) return;\n",
              "\n",
              "          const docLinkHtml = 'Like what you see? Visit the ' +\n",
              "            '<a target=\"_blank\" href=https://colab.research.google.com/notebooks/data_table.ipynb>data table notebook</a>'\n",
              "            + ' to learn more about interactive tables.';\n",
              "          element.innerHTML = '';\n",
              "          dataTable['output_type'] = 'display_data';\n",
              "          await google.colab.output.renderOutput(dataTable, element);\n",
              "          const docLink = document.createElement('div');\n",
              "          docLink.innerHTML = docLinkHtml;\n",
              "          element.appendChild(docLink);\n",
              "        }\n",
              "      </script>\n",
              "    </div>\n",
              "  </div>\n",
              "  "
            ]
          },
          "metadata": {},
          "execution_count": 57
        }
      ]
    }
  ],
  "metadata": {
    "colab": {
      "provenance": [],
      "collapsed_sections": [
        "ZB3WQUKyQ68F"
      ],
      "toc_visible": true
    },
    "kernelspec": {
      "display_name": "study",
      "language": "python",
      "name": "python3"
    },
    "language_info": {
      "codemirror_mode": {
        "name": "ipython",
        "version": 3
      },
      "file_extension": ".py",
      "mimetype": "text/x-python",
      "name": "python",
      "nbconvert_exporter": "python",
      "pygments_lexer": "ipython3",
      "version": "3.10.9"
    }
  },
  "nbformat": 4,
  "nbformat_minor": 0
}