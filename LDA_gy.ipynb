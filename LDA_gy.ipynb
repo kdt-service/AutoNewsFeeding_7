{
  "cells": [
    {
      "cell_type": "markdown",
      "source": [
        "## LDA(Latent Dirichlet Allocation): scikit-learn"
      ],
      "metadata": {
        "id": "lTHWa_JBCgJK"
      }
    },
    {
      "cell_type": "markdown",
      "source": [
        "### 데이터 준비"
      ],
      "metadata": {
        "id": "vF11EqTl-hMD"
      }
    },
    {
      "cell_type": "code",
      "execution_count": 1,
      "metadata": {
        "id": "MnXzLcez1U_5"
      },
      "outputs": [],
      "source": [
        "import pandas as pd"
      ]
    },
    {
      "cell_type": "code",
      "execution_count": 2,
      "metadata": {
        "id": "dYrZyPPf1U_8"
      },
      "outputs": [],
      "source": [
        "news = pd.read_csv('./0306뉴스.csv') "
      ]
    },
    {
      "cell_type": "code",
      "execution_count": 3,
      "metadata": {
        "colab": {
          "base_uri": "https://localhost:8080/"
        },
        "id": "X2q38eztbsF_",
        "outputId": "86282f54-d47c-43bc-bf18-4109eb5df875"
      },
      "outputs": [
        {
          "output_type": "stream",
          "name": "stdout",
          "text": [
            "<class 'pandas.core.frame.DataFrame'>\n",
            "RangeIndex: 869 entries, 0 to 868\n",
            "Data columns (total 9 columns):\n",
            " #   Column         Non-Null Count  Dtype \n",
            "---  ------         --------------  ----- \n",
            " 0   news_id        869 non-null    int64 \n",
            " 1   title          869 non-null    object\n",
            " 2   writer         869 non-null    object\n",
            " 3   content        869 non-null    object\n",
            " 4   writed_at      869 non-null    object\n",
            " 5   url            869 non-null    object\n",
            " 6   main_category  869 non-null    object\n",
            " 7   sub_category   869 non-null    object\n",
            " 8   platform       869 non-null    object\n",
            "dtypes: int64(1), object(8)\n",
            "memory usage: 61.2+ KB\n"
          ]
        }
      ],
      "source": [
        "news.info()"
      ]
    },
    {
      "cell_type": "code",
      "source": [
        "news['sub_category'].unique()"
      ],
      "metadata": {
        "colab": {
          "base_uri": "https://localhost:8080/"
        },
        "id": "7nnATfKNrnmv",
        "outputId": "abf91176-2b4e-4bc6-bd67-70b8b4ee06f7"
      },
      "execution_count": 4,
      "outputs": [
        {
          "output_type": "execute_result",
          "data": {
            "text/plain": [
              "array(['IT기기', 'Tech일반', '게임', '과학', '소프트웨어', '인터넷', '통신_모바일', '휴대폰통신'],\n",
              "      dtype=object)"
            ]
          },
          "metadata": {},
          "execution_count": 4
        }
      ]
    },
    {
      "cell_type": "code",
      "source": [
        "news.drop(news[news['sub_category'] == '과학'].index, inplace=True)"
      ],
      "metadata": {
        "id": "q9NjJlatsIEe"
      },
      "execution_count": 5,
      "outputs": []
    },
    {
      "cell_type": "code",
      "source": [
        "news['sub_category'].unique()"
      ],
      "metadata": {
        "colab": {
          "base_uri": "https://localhost:8080/"
        },
        "id": "hKPaS5AmsR5d",
        "outputId": "0b253c0c-6405-4718-ab44-fc9a859a3c7c"
      },
      "execution_count": 6,
      "outputs": [
        {
          "output_type": "execute_result",
          "data": {
            "text/plain": [
              "array(['IT기기', 'Tech일반', '게임', '소프트웨어', '인터넷', '통신_모바일', '휴대폰통신'],\n",
              "      dtype=object)"
            ]
          },
          "metadata": {},
          "execution_count": 6
        }
      ]
    },
    {
      "cell_type": "code",
      "execution_count": 7,
      "metadata": {
        "id": "ifqNiXRdcJuF"
      },
      "outputs": [],
      "source": [
        "news.dropna(subset=['content'], inplace=True) #content null 값 행 삭제 "
      ]
    },
    {
      "cell_type": "code",
      "source": [
        "news.drop_duplicates(subset=['content'], ignore_index=True, inplace=True) # 중복 기사 삭제 "
      ],
      "metadata": {
        "id": "bhXo0a5riwzJ"
      },
      "execution_count": 8,
      "outputs": []
    },
    {
      "cell_type": "code",
      "source": [
        "news.info()"
      ],
      "metadata": {
        "colab": {
          "base_uri": "https://localhost:8080/"
        },
        "id": "k5vaZZlWv598",
        "outputId": "3c218ea8-72a6-4242-cfc9-e91e0ef6b4c8"
      },
      "execution_count": 9,
      "outputs": [
        {
          "output_type": "stream",
          "name": "stdout",
          "text": [
            "<class 'pandas.core.frame.DataFrame'>\n",
            "RangeIndex: 761 entries, 0 to 760\n",
            "Data columns (total 9 columns):\n",
            " #   Column         Non-Null Count  Dtype \n",
            "---  ------         --------------  ----- \n",
            " 0   news_id        761 non-null    int64 \n",
            " 1   title          761 non-null    object\n",
            " 2   writer         761 non-null    object\n",
            " 3   content        761 non-null    object\n",
            " 4   writed_at      761 non-null    object\n",
            " 5   url            761 non-null    object\n",
            " 6   main_category  761 non-null    object\n",
            " 7   sub_category   761 non-null    object\n",
            " 8   platform       761 non-null    object\n",
            "dtypes: int64(1), object(8)\n",
            "memory usage: 53.6+ KB\n"
          ]
        }
      ]
    },
    {
      "cell_type": "markdown",
      "source": [
        "### 전처리 필요 부분 확인"
      ],
      "metadata": {
        "id": "ZB3WQUKyQ68F"
      }
    },
    {
      "cell_type": "code",
      "source": [
        "news['content'].iloc[0]"
      ],
      "metadata": {
        "colab": {
          "base_uri": "https://localhost:8080/"
        },
        "id": "5tRrDfq6RHPF",
        "outputId": "2954f3b7-4666-41ea-fed2-5bc9fd3aac14"
      },
      "execution_count": null,
      "outputs": [
        {
          "output_type": "stream",
          "name": "stderr",
          "text": [
            "/usr/local/lib/python3.9/dist-packages/ipykernel/ipkernel.py:283: DeprecationWarning: `should_run_async` will not call `transform_cell` automatically in the future. Please pass the result to `transformed_cell` argument and any exception that happen during thetransform in `preprocessing_exc_tuple` in IPython 7.17 and above.\n",
            "  and should_run_async(code)\n"
          ]
        },
        {
          "output_type": "execute_result",
          "data": {
            "text/plain": [
              "\"\\n [서울=뉴시스] 정부가 올해 중 우리나라의 우주항공 분야 연구개발(R&D)을 전담할 '우주항공청'을 출범시킬 계획이다. 외부 전문가 채용 비중 제한을 없애고, 우수 인력을 유치하고자 주식백지신탁 예외까지 허용하는 등 우주항공청의 전문성을 높이기 위한 다양한 특례까지 마련된다. 과학기술정보통신부는 우주항공청 설립의 근거가 되는 '우주항공청의 설치 및 운영에 관한 특별법' 제정안을 2일부터 입법예고한다고 밝혔다. 특별법은 우주항공분야의 정책과 R&D, 산업육성 등을 총괄하는 중앙행정기관으로 우주항공청을 설치하고, 전문적이고 유연한 조직으로 운영하기 위한 원칙과 기능, 특례 등까지 명시하고 있다. 먼저 우주항공 정책 거버넌스를 구축하기 위해 과기정통부, 산업통상자원부 등의 부처가 개별적으로 수행하던 우주항공 관련 기술개발, 산업육성 지원, 인재양성 및 우주위험 대비 등의 기능을 모두 우주항공청으로 일원화했다. 이를 위해 기존 과기정통부 장관, 산지부 장관 등이 소관하던 우주항공 관련 법률인 '우주개발진흥법', '항공우주산업촉진법', '천문법' 등을 우주항공청장이 담당하도록 부칙을 통해 개정할 방침이다. 국가우주위원회 위원장은 국무총리에서 대통령으로 격상해 위상과 기능을 강화한다. 우주항공청장도 국가우주위에 새롭게 위원으로 추가해 실무위원회 위원장을 맡게 하는 등 우주항공청이 우주경제 시대를 여는 컨트롤 타워 역할을 하도록 했다. 우주항공청 조직의 경우 과기정통부 장관 소속으로 하되 전문성을 가진 조직으로 구성된다. 특히 우주항공청 조직 구성 원칙의 핵심은 유연하고 자율적인 운영이다. 이를 위해 우주항공청 내에 설치되는 별도의 본부가 우주항공 R&D와 산업 활성화를 전담하게 된다.\""
            ],
            "application/vnd.google.colaboratory.intrinsic+json": {
              "type": "string"
            }
          },
          "metadata": {},
          "execution_count": 99
        }
      ]
    },
    {
      "cell_type": "code",
      "source": [
        "# ▲ 없애기 \n",
        "text = re.sub(r'[▲]','', text)\n",
        "\n",
        "#뉴스기사 출처 ( = ), [ = ] 형태 없애기 코드 '\\(.*=.*\\) ' \n",
        "text = re.sub(r'\\(.*=.*\\) ', '', re.sub(r'\\[.*=.*\\] ', '', text))\n",
        "\n",
        "#[] 안에 들어가는 거 다 없애기? -> 그러면 안됨.. \n",
        "\n",
        "# 괄호 안 기자로 끝나는 거 지우기 \n",
        "#re.sub(r'\\[.*기자\\]', '', text)\n",
        "\n",
        "text = re.sub(r'페이스북 /LeYN1 트위터 @yonhap_graphic', '', text)\n",
        "\n",
        " # 앞에 r을 붙여주면 deprecation warning이 안뜸 (raw string으로 declare)"
      ],
      "metadata": {
        "id": "k6AUF1P6S1yM"
      },
      "execution_count": null,
      "outputs": []
    },
    {
      "cell_type": "code",
      "source": [
        "a = news['content'].str.contains('페이스북 /LeYN1 트위터 @yonhap_graphics')\n",
        "\n",
        "print((news['content'].loc[a]))"
      ],
      "metadata": {
        "colab": {
          "base_uri": "https://localhost:8080/"
        },
        "id": "qyjk77_4qUS1",
        "outputId": "f66a7b95-b72b-4a79-d283-43ceccdb1f09"
      },
      "execution_count": null,
      "outputs": [
        {
          "output_type": "stream",
          "name": "stdout",
          "text": [
            "7528     \\n ,(서울=연합뉴스) 원형민 기자 = 정부가 미래산업의 성장동력을 확보하기 위한...\n",
            "9133     \\n ,(서울=연합뉴스) 원형민 기자 = 한국은행이 22일 발표한 '2월 기업경기실...\n",
            "9937     \\n ,(서울=연합뉴스) 원형민 기자 = 서방이 우크라이나 침공에 대한 제재로 러시...\n",
            "16843    \\n ,(서울=연합뉴스) 반종빈 기자 = 일본은 16일 한국에 대한 반도체 핵심 소...\n",
            "Name: content, dtype: object\n"
          ]
        },
        {
          "output_type": "stream",
          "name": "stderr",
          "text": [
            "/usr/local/lib/python3.9/dist-packages/ipykernel/ipkernel.py:283: DeprecationWarning: `should_run_async` will not call `transform_cell` automatically in the future. Please pass the result to `transformed_cell` argument and any exception that happen during thetransform in `preprocessing_exc_tuple` in IPython 7.17 and above.\n",
            "  and should_run_async(code)\n"
          ]
        }
      ]
    },
    {
      "cell_type": "code",
      "source": [
        "news['content'].iloc[9133]"
      ],
      "metadata": {
        "colab": {
          "base_uri": "https://localhost:8080/"
        },
        "id": "BvrXhBwIsWOV",
        "outputId": "e39a82a4-3f12-4236-c6ad-a933e7da1c7d"
      },
      "execution_count": null,
      "outputs": [
        {
          "output_type": "stream",
          "name": "stderr",
          "text": [
            "/usr/local/lib/python3.9/dist-packages/ipykernel/ipkernel.py:283: DeprecationWarning: `should_run_async` will not call `transform_cell` automatically in the future. Please pass the result to `transformed_cell` argument and any exception that happen during thetransform in `preprocessing_exc_tuple` in IPython 7.17 and above.\n",
            "  and should_run_async(code)\n"
          ]
        },
        {
          "output_type": "execute_result",
          "data": {
            "text/plain": [
              "\"\\n ,(서울=연합뉴스) 원형민 기자 = 한국은행이 22일 발표한 '2월 기업경기실사지수(BSI)' 조사 결과에 따르면 이달 제조업 업황 BSI는 전월보다 3포인트 하락한 63을 기록했다., , 페이스북 /LeYN1 트위터 @yonhap_graphics,\\n \""
            ],
            "application/vnd.google.colaboratory.intrinsic+json": {
              "type": "string"
            }
          },
          "metadata": {},
          "execution_count": 95
        }
      ]
    },
    {
      "cell_type": "markdown",
      "metadata": {
        "id": "-4TtBQCb7exM"
      },
      "source": [
        "### tokenization"
      ]
    },
    {
      "cell_type": "code",
      "execution_count": null,
      "metadata": {
        "id": "cZcP1pW21U_-"
      },
      "outputs": [],
      "source": [
        "!pip3 install mecab-python3"
      ]
    },
    {
      "cell_type": "code",
      "execution_count": null,
      "metadata": {
        "id": "kILaoYfW1U__"
      },
      "outputs": [],
      "source": [
        "!pip install konlpy"
      ]
    },
    {
      "cell_type": "code",
      "execution_count": 10,
      "metadata": {
        "colab": {
          "base_uri": "https://localhost:8080/"
        },
        "id": "NONSMDLVBWtr",
        "outputId": "a7e75a7f-9817-4b54-ea2b-ed5198d57b77"
      },
      "outputs": [
        {
          "output_type": "stream",
          "name": "stdout",
          "text": [
            "761\n",
            "운전자 라면 당연히 교통법규 준수 생활화 해야 연속 된 벌점 면허 정지 이르는 처분 받기도 경찰청 운용 착한 운전 마일리지 를 평소 쌓아 두면 이 같은 경우 감경 혜택 받을 수 출처 바토 리먼 츠 1년 교통법규 무 위반 무사 달성 시 마일리지 10 점 적립 운전면허 보유 운전자 라면 누구 착한 운전 마일리지 적립 신청 할 수 교통법규 무 위반 무사 를 작성 후 1년 동안 서약 내용 지키면 마일리지 10 점 적립 할 수 있으며 횟수 제한 갱신 가능하다 경찰청 교통 민원 24 홈페이지 착한 운전 마일리지 신청 방법 출처 IT 동아 착한 운전 마일리지 적립 신청 하려면 면허증 챙겨 가까운 경찰서 교통 민원 실 방문 하면 된다 온라인 신청 원할 경우 경찰청 교통 민원 24 홈페이지 메인 화면 진입 하자 이후 상단 두 탭 운전면허 조사 예약 클릭 후 하위 카테고리 중 착한 운전 마일리지 신청 누르면 서약 작성 페이지 진입 할 수 착한 운전 마일리지 신청 페이지 출처 IT 동아 착한 운전 마일리지 서약 확인 출처 IT 동아 면허 정지 처분 시 착한 운전 마일리지 감경 혜택 서약 확인 를 발급 후 1년 과태료 범칙 금 아니라 사람 죽거나 다치게 교통사고 유발 하지 않으면 도로교통법 시행 규칙 별표 28 근거 해 착한 운전 마일리지 10 점 부여 된다 쌓은 착한 운전 마일리 혹시 운전자 벌점 40 점 이상 처분 면허 정지 대상 될 경우 사용 할 수 쌓은 마일리지 벌점 정지 일 사용자 중심 IT 널 IT 동아\n"
          ]
        }
      ],
      "source": [
        "import konlpy\n",
        "import re\n",
        "\n",
        "# tokenization 함수를 만들어둠\n",
        "def tokenize_korean_text(text):\n",
        "    text = re.sub(r'[▲]','', text) \n",
        "    text = re.sub(r'\\(.*=.*\\) ', '', re.sub(r'\\[.*=.*\\] ', '', text))\n",
        "    text = re.sub(r'페이스북 /LeYN1 트위터 @yonhap_graphic', '', text)\n",
        "\n",
        "    okt = konlpy.tag.Okt()\n",
        "    Okt_morphs = okt.pos(text)   # stem=True로 설정하면 동사원형으로 바꿔서 return, 단어 간 관계 파악 위함으로 설정 안함 \n",
        "    \n",
        "    words = []\n",
        "    stopwords = ['하는', '있다', '있는', '위해', '통해', '한다', '때문', '했다'] # 불용어 사전  \n",
        "    for word, pos in Okt_morphs:\n",
        "        if pos in ['Adjective', 'Verb', 'Noun', 'Alpha', 'Number'] and word not in stopwords:  # 이 경우에는 형용사, 동사, 명사, 영어, 숫자만 남김\n",
        "            words.append(word)\n",
        "\n",
        "    words_str = ' '.join(words)\n",
        "    return words_str\n",
        "\n",
        "\n",
        "# news['content']를 하나씩 tokenize해서 list로 저장\n",
        "tokenized_list = []\n",
        "\n",
        "for text in news['content']:\n",
        "    tokenized_list.append(tokenize_korean_text(text))\n",
        "\n",
        "print(len(tokenized_list))\n",
        "print(tokenized_list[0])"
      ]
    },
    {
      "cell_type": "code",
      "source": [
        "tokenized_list[1]"
      ],
      "metadata": {
        "colab": {
          "base_uri": "https://localhost:8080/",
          "height": 35
        },
        "id": "q0u8g1ZS87_N",
        "outputId": "4dc9d96d-ecdc-41b6-fdab-e0a0ba5deb43"
      },
      "execution_count": 11,
      "outputs": [
        {
          "output_type": "execute_result",
          "data": {
            "text/plain": [
              "'편집 자주 스마트폰 앱 모든 것 앱 으리 띵 사용자 중심 IT 널 IT 동아'"
            ],
            "application/vnd.google.colaboratory.intrinsic+json": {
              "type": "string"
            }
          },
          "metadata": {},
          "execution_count": 11
        }
      ]
    },
    {
      "cell_type": "code",
      "execution_count": 12,
      "metadata": {
        "id": "pInBIqWpbNeK",
        "colab": {
          "base_uri": "https://localhost:8080/"
        },
        "outputId": "ca4f4508-fbbf-409e-b2fc-40d9e2b381cd"
      },
      "outputs": [
        {
          "output_type": "stream",
          "name": "stdout",
          "text": [
            "730\n",
            "730\n"
          ]
        }
      ],
      "source": [
        "#단어가 1-20개만 포함된 corpus 삭제 \n",
        "drop_corpus = []\n",
        "\n",
        "for index in range(len(tokenized_list)):\n",
        "    corpus = tokenized_list[index]\n",
        "    if len(set(corpus.split())) < 21:   # 같은 단어 1-20개만 반복되는 corpus도 지우기 위해 set()을 사용\n",
        "        news.drop(index=[index], axis=0, inplace=True)\n",
        "        drop_corpus.append(corpus)\n",
        "                \n",
        "for corpus in drop_corpus:\n",
        "    tokenized_list.remove(corpus)\n",
        "\n",
        "news.reset_index(drop=True, inplace=True)\n",
        "\n",
        "print(len(tokenized_list))\n",
        "print(len(news))"
      ]
    },
    {
      "cell_type": "markdown",
      "metadata": {
        "id": "wu-O4nVZ7f0E"
      },
      "source": [
        "### vectorization & LDA"
      ]
    },
    {
      "cell_type": "code",
      "execution_count": 13,
      "metadata": {
        "id": "sEUQo5XDbRN2"
      },
      "outputs": [],
      "source": [
        "from sklearn.feature_extraction.text import CountVectorizer\n",
        "from sklearn.decomposition import LatentDirichletAllocation"
      ]
    },
    {
      "cell_type": "code",
      "source": [
        "count_vectorizer = CountVectorizer()\n",
        "X = count_vectorizer.fit_transform(tokenized_list)\n",
        "word_count = X.toarray().sum(axis=1)\n",
        "print(\"Total number of tokens:\", word_count.sum())"
      ],
      "metadata": {
        "colab": {
          "base_uri": "https://localhost:8080/"
        },
        "id": "WpGSE7dWCj0f",
        "outputId": "8ae1b8c4-d448-4245-a047-66ac7ed5d901"
      },
      "execution_count": 14,
      "outputs": [
        {
          "output_type": "stream",
          "name": "stdout",
          "text": [
            "Total number of tokens: 152367\n"
          ]
        }
      ]
    },
    {
      "cell_type": "code",
      "source": [
        "count_vectorizer = CountVectorizer()\n",
        "X = count_vectorizer.fit_transform(tokenized_list)\n",
        "unique_tokens = count_vectorizer.get_feature_names_out()\n",
        "count_unique_tokens = len(unique_tokens)\n",
        "print(\"Total number of unique tokens:\", len(unique_tokens))"
      ],
      "metadata": {
        "colab": {
          "base_uri": "https://localhost:8080/"
        },
        "id": "6B7hWx01RDqC",
        "outputId": "c60868fb-62e7-4499-81cb-4d6942c4053f"
      },
      "execution_count": 15,
      "outputs": [
        {
          "output_type": "stream",
          "name": "stdout",
          "text": [
            "Total number of unique tokens: 15663\n"
          ]
        }
      ]
    },
    {
      "cell_type": "markdown",
      "source": [
        "#### vectorization"
      ],
      "metadata": {
        "id": "eKoQFQFH6FpQ"
      }
    },
    {
      "cell_type": "code",
      "execution_count": 16,
      "metadata": {
        "id": "iK-HhjPpbWT3",
        "colab": {
          "base_uri": "https://localhost:8080/"
        },
        "outputId": "a036e2cb-a712-467f-f3ba-8165985d6310"
      },
      "outputs": [
        {
          "output_type": "stream",
          "name": "stdout",
          "text": [
            "CountVectorizer Shape: (730, 3100)\n"
          ]
        }
      ],
      "source": [
        "#LDA 는 Count기반의 Vectorizer만 적용 \n",
        "count_vectorizer_0 = CountVectorizer(max_df=0.8, max_features=round(count_unique_tokens*0.8), min_df=10, ngram_range=(1,2))\n",
        "    # 10개의 문서 미만으로 등장하는 단어는 제외, 전체의 80% 이상으로 자주 등장하는 단어는 제외, 최대로 사용할 단어 수(백터 수)는 유니크한 토큰 수의 80% \n",
        "    # unigram, bigram 포함\n",
        "\n",
        "feat_vect = count_vectorizer_0.fit_transform(tokenized_list)\n",
        "print('CountVectorizer Shape:', feat_vect.shape) #문서의 수, 단어의 수(=유니크한 토큰 수)"
      ]
    },
    {
      "cell_type": "markdown",
      "source": [
        "#### topic modeling: LDA"
      ],
      "metadata": {
        "id": "Pwyg0Qyh9IB_"
      }
    },
    {
      "cell_type": "code",
      "execution_count": 17,
      "metadata": {
        "id": "wPXBKpK9clDA",
        "colab": {
          "base_uri": "https://localhost:8080/",
          "height": 74
        },
        "outputId": "03da0083-10a0-4441-97e6-6f2617d0a8e8"
      },
      "outputs": [
        {
          "output_type": "execute_result",
          "data": {
            "text/plain": [
              "LatentDirichletAllocation(n_components=7)"
            ],
            "text/html": [
              "<style>#sk-container-id-1 {color: black;background-color: white;}#sk-container-id-1 pre{padding: 0;}#sk-container-id-1 div.sk-toggleable {background-color: white;}#sk-container-id-1 label.sk-toggleable__label {cursor: pointer;display: block;width: 100%;margin-bottom: 0;padding: 0.3em;box-sizing: border-box;text-align: center;}#sk-container-id-1 label.sk-toggleable__label-arrow:before {content: \"▸\";float: left;margin-right: 0.25em;color: #696969;}#sk-container-id-1 label.sk-toggleable__label-arrow:hover:before {color: black;}#sk-container-id-1 div.sk-estimator:hover label.sk-toggleable__label-arrow:before {color: black;}#sk-container-id-1 div.sk-toggleable__content {max-height: 0;max-width: 0;overflow: hidden;text-align: left;background-color: #f0f8ff;}#sk-container-id-1 div.sk-toggleable__content pre {margin: 0.2em;color: black;border-radius: 0.25em;background-color: #f0f8ff;}#sk-container-id-1 input.sk-toggleable__control:checked~div.sk-toggleable__content {max-height: 200px;max-width: 100%;overflow: auto;}#sk-container-id-1 input.sk-toggleable__control:checked~label.sk-toggleable__label-arrow:before {content: \"▾\";}#sk-container-id-1 div.sk-estimator input.sk-toggleable__control:checked~label.sk-toggleable__label {background-color: #d4ebff;}#sk-container-id-1 div.sk-label input.sk-toggleable__control:checked~label.sk-toggleable__label {background-color: #d4ebff;}#sk-container-id-1 input.sk-hidden--visually {border: 0;clip: rect(1px 1px 1px 1px);clip: rect(1px, 1px, 1px, 1px);height: 1px;margin: -1px;overflow: hidden;padding: 0;position: absolute;width: 1px;}#sk-container-id-1 div.sk-estimator {font-family: monospace;background-color: #f0f8ff;border: 1px dotted black;border-radius: 0.25em;box-sizing: border-box;margin-bottom: 0.5em;}#sk-container-id-1 div.sk-estimator:hover {background-color: #d4ebff;}#sk-container-id-1 div.sk-parallel-item::after {content: \"\";width: 100%;border-bottom: 1px solid gray;flex-grow: 1;}#sk-container-id-1 div.sk-label:hover label.sk-toggleable__label {background-color: #d4ebff;}#sk-container-id-1 div.sk-serial::before {content: \"\";position: absolute;border-left: 1px solid gray;box-sizing: border-box;top: 0;bottom: 0;left: 50%;z-index: 0;}#sk-container-id-1 div.sk-serial {display: flex;flex-direction: column;align-items: center;background-color: white;padding-right: 0.2em;padding-left: 0.2em;position: relative;}#sk-container-id-1 div.sk-item {position: relative;z-index: 1;}#sk-container-id-1 div.sk-parallel {display: flex;align-items: stretch;justify-content: center;background-color: white;position: relative;}#sk-container-id-1 div.sk-item::before, #sk-container-id-1 div.sk-parallel-item::before {content: \"\";position: absolute;border-left: 1px solid gray;box-sizing: border-box;top: 0;bottom: 0;left: 50%;z-index: -1;}#sk-container-id-1 div.sk-parallel-item {display: flex;flex-direction: column;z-index: 1;position: relative;background-color: white;}#sk-container-id-1 div.sk-parallel-item:first-child::after {align-self: flex-end;width: 50%;}#sk-container-id-1 div.sk-parallel-item:last-child::after {align-self: flex-start;width: 50%;}#sk-container-id-1 div.sk-parallel-item:only-child::after {width: 0;}#sk-container-id-1 div.sk-dashed-wrapped {border: 1px dashed gray;margin: 0 0.4em 0.5em 0.4em;box-sizing: border-box;padding-bottom: 0.4em;background-color: white;}#sk-container-id-1 div.sk-label label {font-family: monospace;font-weight: bold;display: inline-block;line-height: 1.2em;}#sk-container-id-1 div.sk-label-container {text-align: center;}#sk-container-id-1 div.sk-container {/* jupyter's `normalize.less` sets `[hidden] { display: none; }` but bootstrap.min.css set `[hidden] { display: none !important; }` so we also need the `!important` here to be able to override the default hidden behavior on the sphinx rendered scikit-learn.org. See: https://github.com/scikit-learn/scikit-learn/issues/21755 */display: inline-block !important;position: relative;}#sk-container-id-1 div.sk-text-repr-fallback {display: none;}</style><div id=\"sk-container-id-1\" class=\"sk-top-container\"><div class=\"sk-text-repr-fallback\"><pre>LatentDirichletAllocation(n_components=7)</pre><b>In a Jupyter environment, please rerun this cell to show the HTML representation or trust the notebook. <br />On GitHub, the HTML representation is unable to render, please try loading this page with nbviewer.org.</b></div><div class=\"sk-container\" hidden><div class=\"sk-item\"><div class=\"sk-estimator sk-toggleable\"><input class=\"sk-toggleable__control sk-hidden--visually\" id=\"sk-estimator-id-1\" type=\"checkbox\" checked><label for=\"sk-estimator-id-1\" class=\"sk-toggleable__label sk-toggleable__label-arrow\">LatentDirichletAllocation</label><div class=\"sk-toggleable__content\"><pre>LatentDirichletAllocation(n_components=7)</pre></div></div></div></div></div>"
            ]
          },
          "metadata": {},
          "execution_count": 17
        }
      ],
      "source": [
        "lda = LatentDirichletAllocation(n_components=7)  # 토픽 수는 7개로 설정\n",
        "lda.fit(feat_vect)"
      ]
    },
    {
      "cell_type": "markdown",
      "source": [
        "#### 토픽별 연관어 출력"
      ],
      "metadata": {
        "id": "J2LKRC8t9MQg"
      }
    },
    {
      "cell_type": "code",
      "execution_count": 18,
      "metadata": {
        "id": "tqb5M4D6cq1Z",
        "colab": {
          "base_uri": "https://localhost:8080/"
        },
        "outputId": "fe428b06-6de3-4065-99de-15d0e86bffce"
      },
      "outputs": [
        {
          "output_type": "stream",
          "name": "stdout",
          "text": [
            "Topic # 0\n",
            "카카오 세븐 sm 헌혈 sk 나이 세븐 나이 진행 하이브 행사\n",
            "Topic # 1\n",
            "기술 기업 ai 사업 한국 서비스 개발 제공 투자 데이터\n",
            "Topic # 2\n",
            "kt 게임 대표 후보 선임 이사회 이사 체인 면접 블록\n",
            "Topic # 3\n",
            "전자 뉴스 스마트폰 아이 게임 아이 뉴스 삼성 올해 시장 지난해\n",
            "Topic # 4\n",
            "게임 거짓 유통 신세계 kt 지니 스튜디오 네오위즈 넷마블 아시아\n",
            "Topic # 5\n",
            "서비스 리뷰 고객 제공 기업 이용 관리 플랫폼 개인정보 클라우드\n",
            "Topic # 6\n",
            "게임 클레이튼 세포 개발 진행 기술 플랫폼 로봇 제공 카카오\n"
          ]
        }
      ],
      "source": [
        "def display_topics(model, feature_names, num_top_words):\n",
        "    for topic_index, topic in enumerate(model.components_):\n",
        "        print('Topic #', topic_index)\n",
        "\n",
        "        # components_ array에서 가장 값이 큰 순으로 정렬했을 때, 그 값의 array index를 반환. \n",
        "        topic_word_indexes = topic.argsort()[::-1]\n",
        "        top_indexes=topic_word_indexes[:num_top_words]\n",
        "        \n",
        "        # top_indexes대상인 index별로 feature_names에 해당하는 word feature 추출 후 join으로 concat\n",
        "        feature_concat = ' '.join([feature_names[i] for i in top_indexes])                \n",
        "        print(feature_concat)\n",
        "\n",
        "# CountVectorizer객체내의 전체 word들의 명칭을 get_features_names_out()를 통해 추출\n",
        "feature_names = count_vectorizer_0.get_feature_names_out()\n",
        "\n",
        "# Topic별 가장 연관도가 높은 word를 10개만 추출\n",
        "display_topics(lda, feature_names, 10)"
      ]
    },
    {
      "cell_type": "markdown",
      "source": [
        "### LDA 시각화"
      ],
      "metadata": {
        "id": "nwcnguNiDLWx"
      }
    },
    {
      "cell_type": "code",
      "execution_count": null,
      "metadata": {
        "id": "fb-ZFuDAcq-i"
      },
      "outputs": [],
      "source": [
        "!pip install pyLDAvis # pyLDAvis 라이브러리를 이용한 시각화 "
      ]
    },
    {
      "cell_type": "code",
      "execution_count": null,
      "metadata": {
        "id": "39FWqVkHcrD3"
      },
      "outputs": [],
      "source": [
        "import pyLDAvis.sklearn  # sklearn의 ldamodel에 최적화된 라이브러리\n",
        "\n",
        "pyLDAvis.enable_notebook()\n",
        "vis = pyLDAvis.sklearn.prepare(lda, feat_vect, count_vectorizer.get_feature_names_out())\n",
        "pyLDAvis.display(vis) "
      ]
    },
    {
      "cell_type": "code",
      "source": [
        "pyLDAvis.show(vis) "
      ],
      "metadata": {
        "id": "d0MWsGlie-0D"
      },
      "execution_count": null,
      "outputs": []
    },
    {
      "cell_type": "markdown",
      "source": [
        "### 문서별 토픽 할당"
      ],
      "metadata": {
        "id": "HUabGKqKDTu4"
      }
    },
    {
      "cell_type": "markdown",
      "source": [
        "#### 1. 각 문서별로 가장 가까운 topic으로 할당"
      ],
      "metadata": {
        "id": "0BBjOgw0---V"
      }
    },
    {
      "cell_type": "code",
      "source": [
        "# 문서별로, 가장 확률이 높은 topic으로 할당해줌 \n",
        "doc_topic = lda.transform(feat_vect)\n",
        "\n",
        "doc_per_topic_list = []\n",
        "for n in range(doc_topic.shape[0]):\n",
        "    topic_most_pr = doc_topic[n].argmax()\n",
        "    topic_pr = doc_topic[n].max()\n",
        "    doc_per_topic_list.append([n, topic_most_pr, topic_pr])\n",
        "    \n",
        "doc_topic_df = pd.DataFrame(doc_per_topic_list, columns=['Doc_Num', 'Topic', 'Percentage'])\n",
        "\n",
        "doc_topic_df.head()"
      ],
      "metadata": {
        "colab": {
          "base_uri": "https://localhost:8080/",
          "height": 206
        },
        "id": "xJ9bM5Po7M22",
        "outputId": "0e5e9161-f5f7-4f27-961a-40509062e084"
      },
      "execution_count": 19,
      "outputs": [
        {
          "output_type": "execute_result",
          "data": {
            "text/plain": [
              "   Doc_Num  Topic  Percentage\n",
              "0        0      1    0.518573\n",
              "1        1      1    0.443633\n",
              "2        2      3    0.757092\n",
              "3        3      1    0.879446\n",
              "4        4      1    0.666486"
            ],
            "text/html": [
              "\n",
              "  <div id=\"df-ebd57dc4-c54a-4b97-84f7-021fe72a26e9\">\n",
              "    <div class=\"colab-df-container\">\n",
              "      <div>\n",
              "<style scoped>\n",
              "    .dataframe tbody tr th:only-of-type {\n",
              "        vertical-align: middle;\n",
              "    }\n",
              "\n",
              "    .dataframe tbody tr th {\n",
              "        vertical-align: top;\n",
              "    }\n",
              "\n",
              "    .dataframe thead th {\n",
              "        text-align: right;\n",
              "    }\n",
              "</style>\n",
              "<table border=\"1\" class=\"dataframe\">\n",
              "  <thead>\n",
              "    <tr style=\"text-align: right;\">\n",
              "      <th></th>\n",
              "      <th>Doc_Num</th>\n",
              "      <th>Topic</th>\n",
              "      <th>Percentage</th>\n",
              "    </tr>\n",
              "  </thead>\n",
              "  <tbody>\n",
              "    <tr>\n",
              "      <th>0</th>\n",
              "      <td>0</td>\n",
              "      <td>1</td>\n",
              "      <td>0.518573</td>\n",
              "    </tr>\n",
              "    <tr>\n",
              "      <th>1</th>\n",
              "      <td>1</td>\n",
              "      <td>1</td>\n",
              "      <td>0.443633</td>\n",
              "    </tr>\n",
              "    <tr>\n",
              "      <th>2</th>\n",
              "      <td>2</td>\n",
              "      <td>3</td>\n",
              "      <td>0.757092</td>\n",
              "    </tr>\n",
              "    <tr>\n",
              "      <th>3</th>\n",
              "      <td>3</td>\n",
              "      <td>1</td>\n",
              "      <td>0.879446</td>\n",
              "    </tr>\n",
              "    <tr>\n",
              "      <th>4</th>\n",
              "      <td>4</td>\n",
              "      <td>1</td>\n",
              "      <td>0.666486</td>\n",
              "    </tr>\n",
              "  </tbody>\n",
              "</table>\n",
              "</div>\n",
              "      <button class=\"colab-df-convert\" onclick=\"convertToInteractive('df-ebd57dc4-c54a-4b97-84f7-021fe72a26e9')\"\n",
              "              title=\"Convert this dataframe to an interactive table.\"\n",
              "              style=\"display:none;\">\n",
              "        \n",
              "  <svg xmlns=\"http://www.w3.org/2000/svg\" height=\"24px\"viewBox=\"0 0 24 24\"\n",
              "       width=\"24px\">\n",
              "    <path d=\"M0 0h24v24H0V0z\" fill=\"none\"/>\n",
              "    <path d=\"M18.56 5.44l.94 2.06.94-2.06 2.06-.94-2.06-.94-.94-2.06-.94 2.06-2.06.94zm-11 1L8.5 8.5l.94-2.06 2.06-.94-2.06-.94L8.5 2.5l-.94 2.06-2.06.94zm10 10l.94 2.06.94-2.06 2.06-.94-2.06-.94-.94-2.06-.94 2.06-2.06.94z\"/><path d=\"M17.41 7.96l-1.37-1.37c-.4-.4-.92-.59-1.43-.59-.52 0-1.04.2-1.43.59L10.3 9.45l-7.72 7.72c-.78.78-.78 2.05 0 2.83L4 21.41c.39.39.9.59 1.41.59.51 0 1.02-.2 1.41-.59l7.78-7.78 2.81-2.81c.8-.78.8-2.07 0-2.86zM5.41 20L4 18.59l7.72-7.72 1.47 1.35L5.41 20z\"/>\n",
              "  </svg>\n",
              "      </button>\n",
              "      \n",
              "  <style>\n",
              "    .colab-df-container {\n",
              "      display:flex;\n",
              "      flex-wrap:wrap;\n",
              "      gap: 12px;\n",
              "    }\n",
              "\n",
              "    .colab-df-convert {\n",
              "      background-color: #E8F0FE;\n",
              "      border: none;\n",
              "      border-radius: 50%;\n",
              "      cursor: pointer;\n",
              "      display: none;\n",
              "      fill: #1967D2;\n",
              "      height: 32px;\n",
              "      padding: 0 0 0 0;\n",
              "      width: 32px;\n",
              "    }\n",
              "\n",
              "    .colab-df-convert:hover {\n",
              "      background-color: #E2EBFA;\n",
              "      box-shadow: 0px 1px 2px rgba(60, 64, 67, 0.3), 0px 1px 3px 1px rgba(60, 64, 67, 0.15);\n",
              "      fill: #174EA6;\n",
              "    }\n",
              "\n",
              "    [theme=dark] .colab-df-convert {\n",
              "      background-color: #3B4455;\n",
              "      fill: #D2E3FC;\n",
              "    }\n",
              "\n",
              "    [theme=dark] .colab-df-convert:hover {\n",
              "      background-color: #434B5C;\n",
              "      box-shadow: 0px 1px 3px 1px rgba(0, 0, 0, 0.15);\n",
              "      filter: drop-shadow(0px 1px 2px rgba(0, 0, 0, 0.3));\n",
              "      fill: #FFFFFF;\n",
              "    }\n",
              "  </style>\n",
              "\n",
              "      <script>\n",
              "        const buttonEl =\n",
              "          document.querySelector('#df-ebd57dc4-c54a-4b97-84f7-021fe72a26e9 button.colab-df-convert');\n",
              "        buttonEl.style.display =\n",
              "          google.colab.kernel.accessAllowed ? 'block' : 'none';\n",
              "\n",
              "        async function convertToInteractive(key) {\n",
              "          const element = document.querySelector('#df-ebd57dc4-c54a-4b97-84f7-021fe72a26e9');\n",
              "          const dataTable =\n",
              "            await google.colab.kernel.invokeFunction('convertToInteractive',\n",
              "                                                     [key], {});\n",
              "          if (!dataTable) return;\n",
              "\n",
              "          const docLinkHtml = 'Like what you see? Visit the ' +\n",
              "            '<a target=\"_blank\" href=https://colab.research.google.com/notebooks/data_table.ipynb>data table notebook</a>'\n",
              "            + ' to learn more about interactive tables.';\n",
              "          element.innerHTML = '';\n",
              "          dataTable['output_type'] = 'display_data';\n",
              "          await google.colab.output.renderOutput(dataTable, element);\n",
              "          const docLink = document.createElement('div');\n",
              "          docLink.innerHTML = docLinkHtml;\n",
              "          element.appendChild(docLink);\n",
              "        }\n",
              "      </script>\n",
              "    </div>\n",
              "  </div>\n",
              "  "
            ]
          },
          "metadata": {},
          "execution_count": 19
        }
      ]
    },
    {
      "cell_type": "code",
      "source": [
        "doc_topic_df = doc_topic_df.join(news)\n",
        "doc_topic_df.head() #실제 뉴스기사와 join"
      ],
      "metadata": {
        "colab": {
          "base_uri": "https://localhost:8080/",
          "height": 597
        },
        "id": "W5EG442J7RAk",
        "outputId": "bae904d6-e1e4-4a07-bc13-3df24eef64f9"
      },
      "execution_count": 20,
      "outputs": [
        {
          "output_type": "execute_result",
          "data": {
            "text/plain": [
              "   Doc_Num  Topic  Percentage  news_id                                 title  \\\n",
              "0        0      1    0.518573   595156            교통법규 준수로 쌓아가는 ’착한 운전 마일리지’   \n",
              "1        1      1    0.443633   595158              '정수기만 렌털?'...매트리스 빌려 쓰세요   \n",
              "2        2      3    0.757092   595159  엇갈린 1분기 실적…삼성 반도체에 '울고', LG 가전에 '웃나'   \n",
              "3        3      1    0.879446   595160             다이슨, 일상 속 문제 해결할 아이디어 찾는다   \n",
              "4        4      1    0.666486   595161               벨킨, 사운드폼 펄스 노캔 무선이어폰 출시   \n",
              "\n",
              "  writer                                            content  \\\n",
              "0    김동진   운전자라면 당연히 교통법규 준수를 생활화해야 하지만, 때때로 연속된 벌점으로 면허...   \n",
              "1    신영빈  가전 렌털업체들이 매트리스 시장 공략에 적극 나서고 있다. 그동안 정수기·공기청정기...   \n",
              "2    류은주  삼성전자와 LG전자가 1분기 실적에서 희비가 엇갈릴 것으로 관측된다. LG전자의 영...   \n",
              "3    신영빈  글로벌 기술기업 다이슨이 일상 속 다양한 문제를 해결할 아이디어를 선보이는 국제 무...   \n",
              "4    신영빈  벨킨이 사운드폼 펄스 노이즈 캔슬링 블루투스 무선 이어폰을 출시했다고 6일 밝혔다....   \n",
              "\n",
              "             writed_at                                     url main_category  \\\n",
              "0  2023-03-06 20:03:00  https://v.daum.net/v/20230306200300905            IT   \n",
              "1  2023-03-06 17:35:00  https://v.daum.net/v/20230306173538566            IT   \n",
              "2  2023-03-06 17:21:00  https://v.daum.net/v/20230306172126080            IT   \n",
              "3  2023-03-06 14:53:00  https://v.daum.net/v/20230306145326668            IT   \n",
              "4  2023-03-06 14:45:00  https://v.daum.net/v/20230306144546341            IT   \n",
              "\n",
              "  sub_category platform  \n",
              "0         IT기기       다음  \n",
              "1         IT기기       다음  \n",
              "2         IT기기       다음  \n",
              "3         IT기기       다음  \n",
              "4         IT기기       다음  "
            ],
            "text/html": [
              "\n",
              "  <div id=\"df-ab9dee88-e900-4f27-a82a-f3d11675c4f7\">\n",
              "    <div class=\"colab-df-container\">\n",
              "      <div>\n",
              "<style scoped>\n",
              "    .dataframe tbody tr th:only-of-type {\n",
              "        vertical-align: middle;\n",
              "    }\n",
              "\n",
              "    .dataframe tbody tr th {\n",
              "        vertical-align: top;\n",
              "    }\n",
              "\n",
              "    .dataframe thead th {\n",
              "        text-align: right;\n",
              "    }\n",
              "</style>\n",
              "<table border=\"1\" class=\"dataframe\">\n",
              "  <thead>\n",
              "    <tr style=\"text-align: right;\">\n",
              "      <th></th>\n",
              "      <th>Doc_Num</th>\n",
              "      <th>Topic</th>\n",
              "      <th>Percentage</th>\n",
              "      <th>news_id</th>\n",
              "      <th>title</th>\n",
              "      <th>writer</th>\n",
              "      <th>content</th>\n",
              "      <th>writed_at</th>\n",
              "      <th>url</th>\n",
              "      <th>main_category</th>\n",
              "      <th>sub_category</th>\n",
              "      <th>platform</th>\n",
              "    </tr>\n",
              "  </thead>\n",
              "  <tbody>\n",
              "    <tr>\n",
              "      <th>0</th>\n",
              "      <td>0</td>\n",
              "      <td>1</td>\n",
              "      <td>0.518573</td>\n",
              "      <td>595156</td>\n",
              "      <td>교통법규 준수로 쌓아가는 ’착한 운전 마일리지’</td>\n",
              "      <td>김동진</td>\n",
              "      <td>운전자라면 당연히 교통법규 준수를 생활화해야 하지만, 때때로 연속된 벌점으로 면허...</td>\n",
              "      <td>2023-03-06 20:03:00</td>\n",
              "      <td>https://v.daum.net/v/20230306200300905</td>\n",
              "      <td>IT</td>\n",
              "      <td>IT기기</td>\n",
              "      <td>다음</td>\n",
              "    </tr>\n",
              "    <tr>\n",
              "      <th>1</th>\n",
              "      <td>1</td>\n",
              "      <td>1</td>\n",
              "      <td>0.443633</td>\n",
              "      <td>595158</td>\n",
              "      <td>'정수기만 렌털?'...매트리스 빌려 쓰세요</td>\n",
              "      <td>신영빈</td>\n",
              "      <td>가전 렌털업체들이 매트리스 시장 공략에 적극 나서고 있다. 그동안 정수기·공기청정기...</td>\n",
              "      <td>2023-03-06 17:35:00</td>\n",
              "      <td>https://v.daum.net/v/20230306173538566</td>\n",
              "      <td>IT</td>\n",
              "      <td>IT기기</td>\n",
              "      <td>다음</td>\n",
              "    </tr>\n",
              "    <tr>\n",
              "      <th>2</th>\n",
              "      <td>2</td>\n",
              "      <td>3</td>\n",
              "      <td>0.757092</td>\n",
              "      <td>595159</td>\n",
              "      <td>엇갈린 1분기 실적…삼성 반도체에 '울고', LG 가전에 '웃나'</td>\n",
              "      <td>류은주</td>\n",
              "      <td>삼성전자와 LG전자가 1분기 실적에서 희비가 엇갈릴 것으로 관측된다. LG전자의 영...</td>\n",
              "      <td>2023-03-06 17:21:00</td>\n",
              "      <td>https://v.daum.net/v/20230306172126080</td>\n",
              "      <td>IT</td>\n",
              "      <td>IT기기</td>\n",
              "      <td>다음</td>\n",
              "    </tr>\n",
              "    <tr>\n",
              "      <th>3</th>\n",
              "      <td>3</td>\n",
              "      <td>1</td>\n",
              "      <td>0.879446</td>\n",
              "      <td>595160</td>\n",
              "      <td>다이슨, 일상 속 문제 해결할 아이디어 찾는다</td>\n",
              "      <td>신영빈</td>\n",
              "      <td>글로벌 기술기업 다이슨이 일상 속 다양한 문제를 해결할 아이디어를 선보이는 국제 무...</td>\n",
              "      <td>2023-03-06 14:53:00</td>\n",
              "      <td>https://v.daum.net/v/20230306145326668</td>\n",
              "      <td>IT</td>\n",
              "      <td>IT기기</td>\n",
              "      <td>다음</td>\n",
              "    </tr>\n",
              "    <tr>\n",
              "      <th>4</th>\n",
              "      <td>4</td>\n",
              "      <td>1</td>\n",
              "      <td>0.666486</td>\n",
              "      <td>595161</td>\n",
              "      <td>벨킨, 사운드폼 펄스 노캔 무선이어폰 출시</td>\n",
              "      <td>신영빈</td>\n",
              "      <td>벨킨이 사운드폼 펄스 노이즈 캔슬링 블루투스 무선 이어폰을 출시했다고 6일 밝혔다....</td>\n",
              "      <td>2023-03-06 14:45:00</td>\n",
              "      <td>https://v.daum.net/v/20230306144546341</td>\n",
              "      <td>IT</td>\n",
              "      <td>IT기기</td>\n",
              "      <td>다음</td>\n",
              "    </tr>\n",
              "  </tbody>\n",
              "</table>\n",
              "</div>\n",
              "      <button class=\"colab-df-convert\" onclick=\"convertToInteractive('df-ab9dee88-e900-4f27-a82a-f3d11675c4f7')\"\n",
              "              title=\"Convert this dataframe to an interactive table.\"\n",
              "              style=\"display:none;\">\n",
              "        \n",
              "  <svg xmlns=\"http://www.w3.org/2000/svg\" height=\"24px\"viewBox=\"0 0 24 24\"\n",
              "       width=\"24px\">\n",
              "    <path d=\"M0 0h24v24H0V0z\" fill=\"none\"/>\n",
              "    <path d=\"M18.56 5.44l.94 2.06.94-2.06 2.06-.94-2.06-.94-.94-2.06-.94 2.06-2.06.94zm-11 1L8.5 8.5l.94-2.06 2.06-.94-2.06-.94L8.5 2.5l-.94 2.06-2.06.94zm10 10l.94 2.06.94-2.06 2.06-.94-2.06-.94-.94-2.06-.94 2.06-2.06.94z\"/><path d=\"M17.41 7.96l-1.37-1.37c-.4-.4-.92-.59-1.43-.59-.52 0-1.04.2-1.43.59L10.3 9.45l-7.72 7.72c-.78.78-.78 2.05 0 2.83L4 21.41c.39.39.9.59 1.41.59.51 0 1.02-.2 1.41-.59l7.78-7.78 2.81-2.81c.8-.78.8-2.07 0-2.86zM5.41 20L4 18.59l7.72-7.72 1.47 1.35L5.41 20z\"/>\n",
              "  </svg>\n",
              "      </button>\n",
              "      \n",
              "  <style>\n",
              "    .colab-df-container {\n",
              "      display:flex;\n",
              "      flex-wrap:wrap;\n",
              "      gap: 12px;\n",
              "    }\n",
              "\n",
              "    .colab-df-convert {\n",
              "      background-color: #E8F0FE;\n",
              "      border: none;\n",
              "      border-radius: 50%;\n",
              "      cursor: pointer;\n",
              "      display: none;\n",
              "      fill: #1967D2;\n",
              "      height: 32px;\n",
              "      padding: 0 0 0 0;\n",
              "      width: 32px;\n",
              "    }\n",
              "\n",
              "    .colab-df-convert:hover {\n",
              "      background-color: #E2EBFA;\n",
              "      box-shadow: 0px 1px 2px rgba(60, 64, 67, 0.3), 0px 1px 3px 1px rgba(60, 64, 67, 0.15);\n",
              "      fill: #174EA6;\n",
              "    }\n",
              "\n",
              "    [theme=dark] .colab-df-convert {\n",
              "      background-color: #3B4455;\n",
              "      fill: #D2E3FC;\n",
              "    }\n",
              "\n",
              "    [theme=dark] .colab-df-convert:hover {\n",
              "      background-color: #434B5C;\n",
              "      box-shadow: 0px 1px 3px 1px rgba(0, 0, 0, 0.15);\n",
              "      filter: drop-shadow(0px 1px 2px rgba(0, 0, 0, 0.3));\n",
              "      fill: #FFFFFF;\n",
              "    }\n",
              "  </style>\n",
              "\n",
              "      <script>\n",
              "        const buttonEl =\n",
              "          document.querySelector('#df-ab9dee88-e900-4f27-a82a-f3d11675c4f7 button.colab-df-convert');\n",
              "        buttonEl.style.display =\n",
              "          google.colab.kernel.accessAllowed ? 'block' : 'none';\n",
              "\n",
              "        async function convertToInteractive(key) {\n",
              "          const element = document.querySelector('#df-ab9dee88-e900-4f27-a82a-f3d11675c4f7');\n",
              "          const dataTable =\n",
              "            await google.colab.kernel.invokeFunction('convertToInteractive',\n",
              "                                                     [key], {});\n",
              "          if (!dataTable) return;\n",
              "\n",
              "          const docLinkHtml = 'Like what you see? Visit the ' +\n",
              "            '<a target=\"_blank\" href=https://colab.research.google.com/notebooks/data_table.ipynb>data table notebook</a>'\n",
              "            + ' to learn more about interactive tables.';\n",
              "          element.innerHTML = '';\n",
              "          dataTable['output_type'] = 'display_data';\n",
              "          await google.colab.output.renderOutput(dataTable, element);\n",
              "          const docLink = document.createElement('div');\n",
              "          docLink.innerHTML = docLinkHtml;\n",
              "          element.appendChild(docLink);\n",
              "        }\n",
              "      </script>\n",
              "    </div>\n",
              "  </div>\n",
              "  "
            ]
          },
          "metadata": {},
          "execution_count": 20
        }
      ]
    },
    {
      "cell_type": "markdown",
      "source": [
        "#### 2. 토픽별 문서 수 계산"
      ],
      "metadata": {
        "id": "zS-k8oWM_aQO"
      }
    },
    {
      "cell_type": "code",
      "source": [
        "doc_topic_df.groupby('Topic')[['Doc_Num']].count()"
      ],
      "metadata": {
        "colab": {
          "base_uri": "https://localhost:8080/",
          "height": 300
        },
        "id": "Jg3FKQ8w7Zar",
        "outputId": "619c0638-7415-4d2c-a039-4664ca319eef"
      },
      "execution_count": 21,
      "outputs": [
        {
          "output_type": "execute_result",
          "data": {
            "text/plain": [
              "       Doc_Num\n",
              "Topic         \n",
              "0           66\n",
              "1          298\n",
              "2           70\n",
              "3          110\n",
              "4           42\n",
              "5           73\n",
              "6           71"
            ],
            "text/html": [
              "\n",
              "  <div id=\"df-d182771f-f452-4513-86f6-435786dcb57a\">\n",
              "    <div class=\"colab-df-container\">\n",
              "      <div>\n",
              "<style scoped>\n",
              "    .dataframe tbody tr th:only-of-type {\n",
              "        vertical-align: middle;\n",
              "    }\n",
              "\n",
              "    .dataframe tbody tr th {\n",
              "        vertical-align: top;\n",
              "    }\n",
              "\n",
              "    .dataframe thead th {\n",
              "        text-align: right;\n",
              "    }\n",
              "</style>\n",
              "<table border=\"1\" class=\"dataframe\">\n",
              "  <thead>\n",
              "    <tr style=\"text-align: right;\">\n",
              "      <th></th>\n",
              "      <th>Doc_Num</th>\n",
              "    </tr>\n",
              "    <tr>\n",
              "      <th>Topic</th>\n",
              "      <th></th>\n",
              "    </tr>\n",
              "  </thead>\n",
              "  <tbody>\n",
              "    <tr>\n",
              "      <th>0</th>\n",
              "      <td>66</td>\n",
              "    </tr>\n",
              "    <tr>\n",
              "      <th>1</th>\n",
              "      <td>298</td>\n",
              "    </tr>\n",
              "    <tr>\n",
              "      <th>2</th>\n",
              "      <td>70</td>\n",
              "    </tr>\n",
              "    <tr>\n",
              "      <th>3</th>\n",
              "      <td>110</td>\n",
              "    </tr>\n",
              "    <tr>\n",
              "      <th>4</th>\n",
              "      <td>42</td>\n",
              "    </tr>\n",
              "    <tr>\n",
              "      <th>5</th>\n",
              "      <td>73</td>\n",
              "    </tr>\n",
              "    <tr>\n",
              "      <th>6</th>\n",
              "      <td>71</td>\n",
              "    </tr>\n",
              "  </tbody>\n",
              "</table>\n",
              "</div>\n",
              "      <button class=\"colab-df-convert\" onclick=\"convertToInteractive('df-d182771f-f452-4513-86f6-435786dcb57a')\"\n",
              "              title=\"Convert this dataframe to an interactive table.\"\n",
              "              style=\"display:none;\">\n",
              "        \n",
              "  <svg xmlns=\"http://www.w3.org/2000/svg\" height=\"24px\"viewBox=\"0 0 24 24\"\n",
              "       width=\"24px\">\n",
              "    <path d=\"M0 0h24v24H0V0z\" fill=\"none\"/>\n",
              "    <path d=\"M18.56 5.44l.94 2.06.94-2.06 2.06-.94-2.06-.94-.94-2.06-.94 2.06-2.06.94zm-11 1L8.5 8.5l.94-2.06 2.06-.94-2.06-.94L8.5 2.5l-.94 2.06-2.06.94zm10 10l.94 2.06.94-2.06 2.06-.94-2.06-.94-.94-2.06-.94 2.06-2.06.94z\"/><path d=\"M17.41 7.96l-1.37-1.37c-.4-.4-.92-.59-1.43-.59-.52 0-1.04.2-1.43.59L10.3 9.45l-7.72 7.72c-.78.78-.78 2.05 0 2.83L4 21.41c.39.39.9.59 1.41.59.51 0 1.02-.2 1.41-.59l7.78-7.78 2.81-2.81c.8-.78.8-2.07 0-2.86zM5.41 20L4 18.59l7.72-7.72 1.47 1.35L5.41 20z\"/>\n",
              "  </svg>\n",
              "      </button>\n",
              "      \n",
              "  <style>\n",
              "    .colab-df-container {\n",
              "      display:flex;\n",
              "      flex-wrap:wrap;\n",
              "      gap: 12px;\n",
              "    }\n",
              "\n",
              "    .colab-df-convert {\n",
              "      background-color: #E8F0FE;\n",
              "      border: none;\n",
              "      border-radius: 50%;\n",
              "      cursor: pointer;\n",
              "      display: none;\n",
              "      fill: #1967D2;\n",
              "      height: 32px;\n",
              "      padding: 0 0 0 0;\n",
              "      width: 32px;\n",
              "    }\n",
              "\n",
              "    .colab-df-convert:hover {\n",
              "      background-color: #E2EBFA;\n",
              "      box-shadow: 0px 1px 2px rgba(60, 64, 67, 0.3), 0px 1px 3px 1px rgba(60, 64, 67, 0.15);\n",
              "      fill: #174EA6;\n",
              "    }\n",
              "\n",
              "    [theme=dark] .colab-df-convert {\n",
              "      background-color: #3B4455;\n",
              "      fill: #D2E3FC;\n",
              "    }\n",
              "\n",
              "    [theme=dark] .colab-df-convert:hover {\n",
              "      background-color: #434B5C;\n",
              "      box-shadow: 0px 1px 3px 1px rgba(0, 0, 0, 0.15);\n",
              "      filter: drop-shadow(0px 1px 2px rgba(0, 0, 0, 0.3));\n",
              "      fill: #FFFFFF;\n",
              "    }\n",
              "  </style>\n",
              "\n",
              "      <script>\n",
              "        const buttonEl =\n",
              "          document.querySelector('#df-d182771f-f452-4513-86f6-435786dcb57a button.colab-df-convert');\n",
              "        buttonEl.style.display =\n",
              "          google.colab.kernel.accessAllowed ? 'block' : 'none';\n",
              "\n",
              "        async function convertToInteractive(key) {\n",
              "          const element = document.querySelector('#df-d182771f-f452-4513-86f6-435786dcb57a');\n",
              "          const dataTable =\n",
              "            await google.colab.kernel.invokeFunction('convertToInteractive',\n",
              "                                                     [key], {});\n",
              "          if (!dataTable) return;\n",
              "\n",
              "          const docLinkHtml = 'Like what you see? Visit the ' +\n",
              "            '<a target=\"_blank\" href=https://colab.research.google.com/notebooks/data_table.ipynb>data table notebook</a>'\n",
              "            + ' to learn more about interactive tables.';\n",
              "          element.innerHTML = '';\n",
              "          dataTable['output_type'] = 'display_data';\n",
              "          await google.colab.output.renderOutput(dataTable, element);\n",
              "          const docLink = document.createElement('div');\n",
              "          docLink.innerHTML = docLinkHtml;\n",
              "          element.appendChild(docLink);\n",
              "        }\n",
              "      </script>\n",
              "    </div>\n",
              "  </div>\n",
              "  "
            ]
          },
          "metadata": {},
          "execution_count": 21
        }
      ]
    },
    {
      "cell_type": "markdown",
      "source": [
        "#### 3. 토픽별로, 가장 높은 확률로 할당된 문서 top3 확인(이걸로 메인 뉴스 뽑기)"
      ],
      "metadata": {
        "id": "OBj55nrb_sGV"
      }
    },
    {
      "cell_type": "code",
      "source": [
        "for topic in range(len(doc_topic_df['Topic'].unique())):\n",
        "    print('Topic #', topic, '-----------------------------')\n",
        "    top_pr_topics = doc_topic_df[doc_topic_df['Topic'] == topic].sort_values(by='Percentage', ascending=False)\n",
        "    print(top_pr_topics['content'].iloc[0])\n",
        "    print(top_pr_topics['content'].iloc[1])\n",
        "    print(top_pr_topics['content'].iloc[2], '\\n')"
      ],
      "metadata": {
        "colab": {
          "base_uri": "https://localhost:8080/"
        },
        "id": "-fy0WruM7f97",
        "outputId": "ba987b0e-b0cd-4943-acd0-66e25c7119a6"
      },
      "execution_count": 22,
      "outputs": [
        {
          "output_type": "stream",
          "name": "stdout",
          "text": [
            "Topic # 0 -----------------------------\n",
            "기사내용 요약 원작 '세븐나이츠' 정식 계승…내년 상반기 CBT [서울=뉴시스]최은수 기자 = 넷마블은 모바일 역할수행게임(RPG) '세븐나이츠'를 정식 계승한 리메이크 작품 '더 세븐나이츠(The SevenKnights)'를 공개했다고 6일 밝혔다. '세븐나이츠'의 9주년을 기념해 공개된 더 세븐나이츠는 원작을 계승한 리메이크 프로젝트다. 이용자들이 가장 많이 즐겼던 시점의 재미를 다시 한번 선사하기 위해 원작의 장점은 계승, 발전시키고 부족한 부분은 최근 트렌드에 맞게 개선하고 보완할 계획이다 더 세븐나이츠는 기존의 스토리와 캐릭터성은 최대한 유지하는 동시에 새로운 재미를 제공하기 위해 준비 중이며, 내년 상반기 비공개베타테스트(CBT) 진행을 목표로 개발에 전념하고 있다. 이 프로젝트는 '세븐나이츠'부터 '세븐나이츠2'까지 오랜 기간 경험과 노하우를 쌓은 개발진이 이끌고 있으며, 구체적인 게임성 및 향후 일정에 대해서는 '세븐나이츠' 공식 커뮤니티를 통해 공지될 예정이다. 넷마블은 리메이크 프로젝트 공개 소식과 함께 더 세븐나이츠의 티저 영상을 공개했다. 원작의 사황 중 한명인 '에이스'가 검술을 연마하는 모습이 담긴 영상은 고퀄리티 카툰 스타일 그래픽으로 연출돼 기대감을 높이고 있다. 넷마블 관계자는 \"오랜 기간 '세븐나이츠'를 사랑해주신 이용자분들에게 원작의 감동을 드리기 위해 리메이크 프로젝트 개발에 최선을 다하고 있다\"며 \"빠른 시일 내에 구체적인 게임성에 대해 안내해드릴 수 있도록 노력할 예정이며, 앞으로 많은 응원 부탁드린다\"고 전했다. 한편, '세븐나이츠'는 지난 2014년 3월에 출시된 수집형 RPG로 화려한 그래픽과 연출, 500여종 이상의 캐릭터를 모으고 성장하는 재미를 갖춘 게임으로 국내뿐만 아니라 글로벌 시장에서 큰 성공을 기록한 바 있다. ☞공감언론 뉴시스 \n",
            "넷마블의 RPG '세븐나이츠'가 9주년을 기념해 리메이크 버전 '더 세븐나이츠'로 돌아왔다. /사진=넷마블 제공 넷마블(대표 권영식, 도기욱)이 모바일 롤플레잉 게임(RPG) '세븐나이츠'를 정식 계승한 리메이크 작품 <더 세븐나이츠(The SevenKnights)>를 공개했다. '세븐나이츠'의 9주년을 기념해 공개된 '더 세븐나이츠'는 원작을 계승한 리메이크 프로젝트다. 이용자들이 가장 많이 즐겼던 시점의 재미를 다시 한번 선사하기 위해 원작의 장점은 계승·발전시키고 부족한 부분은 최근 트렌드에 맞게 개선하고 보완할 계획이다. '더 세븐나이츠'는 기존의 스토리와 캐릭터성은 최대한 유지하는 동시에 새로운 재미를 제공하기 위해 준비 중이며 오는 2024년 상반기 (비공개 베타 테스트)CBT 진행을 목표로 개발에 전념하고 있다. 이 프로젝트는 '세븐나이츠'부터 '세븐나이츠2'까지 오랜 기간 경험과 노하우를 쌓은 개발진이 이끌고 있으며 구체적인 게임성 및 향후 일정에 대해서는 '세븐나이츠' 공식 커뮤니티를 통해 공지될 예정이다. 넷마블은 리메이크 프로젝트 공개 소식과 함께 티저 영상을 공개했다. 원작의 사황 중 한명인 '에이스'가 검술을 연마하는 모습이 담긴 영상은 고퀄리티 카툰 스타일 그래픽으로 연출돼 기대감을 높이고 있다. 넷마블 관계자는 \"오랜 기간 '세븐나이츠'를 사랑해주신 이용자분들에게 원작의 감동을 드리기 위해 리메이크 프로젝트 개발에 최선을 다하고 있다\"며 \"빠른 시일 내 구체적인 게임성에 대해 안내해드릴 수 있도록 노력할 예정\"이라고 전했다. 한편 '세븐나이츠'는 2014년 3월에 출시된 수집형 RPG로 국내뿐만 아니라 글로벌 시장에서 큰 성공을 기록했다. 송혜남 기자 <저작권자 '성공을 꿈꾸는 사람들의 경제 뉴스' 머니S, 무단전재 및 재배포 금지>\n",
            "카카오모빌리티가 지난해 7월부터 운영해 온 '플랫폼 종사자 건강보호 지원사업' 적용 대상을 확대한다고 6일 밝혔다. 이달부터 기존 대리운전 종사자는 물론, 퀵과 도보배송 기사도 건강검진 무상 지원을 받을 수 있게 됐다. 카카오모빌리티는 전국대리운전노동조합 단체교섭과 현장 목소리 경청을 통해 야간 노동자에 대한 지원 방안 일환으로, 작년 7~11월 대리기사 건강검진 무상지원 사업을 진행한 바 있다. 이를 통해 총 860여명 대리운전 종사자가 건강검진 수검을 완료했으며, 약 400명이 건강 관련 상담을 받았다. 특히 안전보건공단 직종별 건강진단 사업에서 대리기사의 참여인원이 전년 대비 15배 이상 증가하며 해당 사업이 건강검진 접근성 증가에 기여한 것으로 분석됐다. 그간 플랫폼 종사자들은 국가 건강지원 사업에 대한 정보 비대칭과 수익 대비 높은 비용으로 인해 건강진단, 관리를 받기 어려운 환경에서 근무해왔다. (사진=카카오모빌리티) 또 일정하지 않은 근무 장소와 업무 시간 때문에 건강관리가 미흡한 경우도 많았다. 카카오모빌리티는 지난해 이어 올해도 안전보건공단과 손잡고 고용노동부 주관 '플랫폼종사자 일터개선 지원 사업'에 참여한다. 이전에 지원해왔던 대리기사에서 퀵, 도보배송기사로 대상을 확대하고 이들이 무상으로 건강검진을 받을 수 있도록 안전보건공단 직종별 건강진단 비용 중 20%에 해당하는 자기부담금 전액을 지원한다는 계획이다. 건강검진은 대한산업보건협회, 한국의학연구소, 한국산업보건연구재단 등 지정 협약 병원에서 시행된다. 검진 항목은 ▲업무 특성에 맞는 뇌심혈관계중심으로 구성된 '직종별 건강검진' ▲야간에 근무하는 대리기사들에게는 불면증 등을 검진할 수 있는 특수건강진단도 제공된다. ▲국가가 제공하는 '공단 일반검진' 대상자인 경우 해당 검진도 함께 받을 수 있다. 카카오모빌리티는 플랫폼 종사자들의 자기부담금 지원을 통한 경제적 부담 감소는 물론, 신청 절차도 간소화해 편의성을 높였다. 오는 11월 30일까지 카카오 T 대리 기사앱 또는 픽커앱 내 공지사항을 통해 예약 신청할 수 있다. 병원 최종 예약 확정 안내를 받은 후, 일정에 맞춰 검진을 받으면 된다. 뿐만 아니라, 건강검진 수검률 증대를 위해 건강검진 완료자 선착순 2천명에게 2만원 상당의 건강물품도 지급하는 이벤트도 진행한다. 카카오모빌리티는 향후에도 안전보건공단과의 지속적인 협력을 통해 플랫폼 종사자의 일터 개선을 위한 노력을 이어나간다는 포부다. 이를 위해 올 2분기 내에 베테랑 기사 교육 등 대리운전 종사자들을 위한 근로자 보호 추가 사업도 운영 예정이다. 류긍선 카카오모빌리티 대표는 \"지난해 대리기사 건강검진 무상지원에 이어 올해 퀵, 도보배송기사까지 대상을 확대하게 돼, 카카오T를 넘어 산업 내 전체 플랫폼 종사자들 건강보호와 건강한 일터 조성에 실질적인 도움이 되길 바란다\"며 \"향후 건강 복지 혜택 사각지대에 있는 플랫폼 종사자를 대상으로 지원 프로그램을 확대하고 장기적인 상생과 동반성장 마련을 위해 노력해나갈 계획\"이라고 했다. 김성현 기자() \n",
            "\n",
            "Topic # 1 -----------------------------\n",
            "연결기준 내부회계관리제도 확대 이슈가 시장 화두로 떠오르면서 대응을 위한 기업의 회계 프로세스 재정비 작업이 분주하다. 2019년 신(新)외부감사법 도입으로 내부회계관리가 검토 수준에서 감사 수준으로 상향 적용되면서 새로운 환경에 적응하느라 어려움을 겪어온 기업에는 또 다른 숙제가 생겼다. 내년부터는 연결자산 총액 5000억원 이상 상장사도 감사 대상에 포함된다. 올해 2조원 이상 상장사에 이어 확대 적용된다. 연결 내부회계관리제도를 통한 그룹사 수준의 통제를 받게 되는 기업이 크게 증가할 전망이다. 제도의 안정적 운영과 현장의 혼란을 최소화하기 위한 대책 마련이 시급해졌다. 무엇보다 연결결산절차 및 연결시스템의 통제 구축과 운영을 위한 필수 요소가 한둘이 아닌 만큼 주의가 요구된다. 이런 가운데 더존비즈온 차세대 통합 연결결산시스템 'EFIS 10'이 주목받고 있다. 더존비즈온은 EFIS 10으로 기업 연결내부회계관리제도 대응 지원을 강화, 연결결산시스템 전환 레퍼런스 기업 150곳을 확보했다고 밝혔다. ◇그룹 자회사에 대한 내부통제 구축·운영 필수 연결내부회계제도 대응을 위해서는 그룹 수준의 통제 정비와 다수 자회사에 대한 내부통제 구축 및 운영이 필요하다. 연결절차와 연결시스템 통제 구축 및 운영의 핵심과제에 대한 대응책도 마련해야 한다. 내부통제 구성요소인 통제환경, 위험평가, 통제활동, 정보 및 의사소통, 모니터링 등 각각의 영역에 대해 개별 법인 단위가 아닌 연결재무제표 기준 그룹 차원의 대응에 나서야 한다는 점도 과제다. 다만 상장사의 최종 재무실적인 연결재무제표가 여전히 엑셀에 의해 수기로 작성되거나 연결시스템의 부문 활용을 통한 수기결산과 병행돼 작성되는 경우가 많다. 이 경우 '수동통제(EUC)' 항목으로 분류돼 각종 추가 통제활동이 원활하게 이뤄지기 어려워지기 때문에 연결내부회계 대응에 최적화된 연결시스템을 도입하거나 기존 시스템의 고도화 작업이 필요하다. 계열사의 재무데이터를 합산하고 연결조정을 통해 결산해야하는 그룹사 연결결산 업무는 권한과 책임의 명확한 구분에 따라 이뤄져야 한다. 이에 따라 연결결산통제를 위한 연결시스템은 권한 관리, 프로세스통제 및 자동화 통제(ITAC)가 적용될 수 있어야 한다. 권한 관리의 경우 법인 담당자와 연결담당자의 구분은 물론, 법인 관리자 및 연결관리자를 각각 세분화해 구분해야 한다. 연결조정 시스템을 통한 계산 및 전표 생성, 전표 승인에 대한 권한도 모두 구분 관리돼야 한다. 연결결산 전 과정에서 데이터의 수정 및 변경은 시스템과 적절한 권한자에 의해 통제돼 데이터의 정합성을 확보할 수 있어야 한다. 자동화 통제는 시스템의 자동계산 및 자동 전표처리를 통해 정확성을 확보하고 로직의 정확성을 바탕으로 수동통제(EUC)를 최소화할 수 있어야 한다. 특히 연결시스템은 그룹 관점에서 IT 일반통제(ITGC) 평가 범위에 반드시 추가로 고려돼야 하는 항목으로 프로그램 개발부터 변경, 배포, 운영 및 접근관리에 대한 전반적인 대응이 가능한 시스템이어야 한다는 점에 주목해야 한다. ◇더존 EFIS 10으로 연결결산·IT일반통제 대응 더존비즈온은 차세대 연결회계솔루션 EFIS 10을 앞세워 기업의 연결내부회계관리제도 대응을 돕고 있다. 그룹사 경영관리에 최적화된 EFIS 10은 복잡한 그룹 조직구조의 유연한 관리로 그룹사 연결재무제표에 대한 대외공신력을 확보할 수 있는 시스템이다. 새로운 모범규준을 적용해야 하는 기업의 당면 과제에 맞설 전략에 관심이 집중되고 있는 가운데 첨단 ICT 솔루션을 통해 방향성을 제시하고 있다는 평가를 받는다. EFIS 10은 연결결산통제 대응으로 주요 업무통제 및 권한제어 그룹 회계정책 데이터 취합 데이터 이관 연결조정 통제 전표결재 및 결산마감 기준정보관리 등을 제공하고 있다. 또한 연결결산 IT 일반통제(ITGC) 대응을 위해 접근보안 프로그램 변경 IT운영 프로그램 개발 등의 항목을 구분해 적용하고 있다. EFIS 10은 전 업권을 넘나들며 각종 레퍼런스를 쌓고 있다. 150곳에 달한다. 보다 다양한 기업들이 강화된 내부회계에 대응할 수 있도록 지원하는 것을 목표로 하고 있다. 국내 현대자동차그룹 역시 강화된 내부회계 대응을 위해 2022년부터 EFIS 10을 적용, 운영하고 있다. 현대자동차그룹은 2009년부터 더존비즈온 연결결산시스템을 사용해왔으며 강화된 연결내부회계제도에 맞춰 최근 EFIS 10 재구축을 성공적으로 마쳤다. 현대자동차그룹은 현재 이를 통해 전 세계 수많은 계열법인과 통합된 결산 체계를 구축함으로써 내부회계 대응뿐만 아니라 그룹관리의 효율성까지 제고해 그룹사 전반의 신뢰도를 높이고 있다. 더존비즈온은 각종 디바이스를 통해 언제 어디서든 저렴한 비용으로 이용할 수 있는 'EFIS 10 클라우드 에디션'을 선보인다는 방침이다. EFIS 10 클라우드 에디션은 기업의 ITGC 대응은 물론 내부회계시스템과의 연계, 사이버공격 방어와 같은 다양한 서비스를 제공하는 것이 특징이다. 더존비즈온 관계자는 \"더존비즈온은 2005년부터 국제회계기준과 변화하는 경영환경에 맞춰 연결회계솔루션을 개발해오며 해당 영역을 선도하고 있다\"며 \"그룹사 경영관리에 최적화된 EFIS 10을 통해 기업이 변화한 이슈에 대응하고 연결재무제표에 대한 대외공신력을 확보할 수 있도록 지원하는 데 앞장서겠다\"고 말했다. 권혜미기자 \n",
            "국회입법조사처 제공 국회입법조사처는 정부출연연구기관의 기술이전 시 기존 통상실시권 뿐 아니라, 전용실시권을 허용해야 한다고 주장했다. 디지털타임스 DB 과학기술 분야 정부출연연구기관의 기술이 산업체에 원활하게 이전되려면 기존 통상실시권뿐 아니라 전용실시권을 허용해야 한다는 지적이 나왔다. 통상실시권만 허용될 경우 후발 기업이 동일한 기술을 이전받은 선발 기업에 무임승차할 수 있기 때문이다. 국회입법조사처가 펴낸 '정부출연연구기관의 기술이전 운영실태와 개선과제' 보고서에 따르면, 최근 3년간(2019∼2021년) 25개 출연연의 기술이전 건수는 총 5674건으로, 이 가운데 전용실시권은 426건(%)에 그쳤다. 현재 기술이전법 시행령에 따라 공공연구기관은 기술이전 시 통상실시권 허락이 원칙이다. 다만, 법령·협약에서 전용실시를 정했거나, 기술이전 정보 등록 후 1년 내 통상실시권을 허락받고자 하는 자가 없는 경우, 기술 특성상 불가피하다고 인정될 때 등의 일부 예외규정을 통해 전용실시권이 허용된다. 통상실시는 독점 권한이 없어 동일한 공공기술을 복수 기업이 이전받아 사용할 수 있다. 이에 반해 전용실시권은 기술이전을 받은 기업에 독점·배타적 사용 권리를 부여한다. 그동안 출연연 등에서 개발된 공공기술은 국민 세금이 투입돼 공공적 목적이 크고, 특정 기업에 제공될 경우 특혜 우려가 있어 통상실시권을 적용해 왔다. 하지만 , 통상실시권은 현실에 맞지 않는다는 지적이 계속 나왔다. A기업이 먼저 출연연에서 이전받은 기술을 활용해 제품을 만들어 시장을 키우고 공정을 개선하자, 후발 주자인 B기업이 무임승차해 A사에 피해를 줄 수도 있다. 국회입법조사처는 기술이전법 시행령의 통상실시권 허락 원칙과 전용실시권 허락 사유 규정을 삭제하는 방안, 또는 과기출연기관법 개정을 통해 출연연 기술이전의 경우 통상실시권을 강제하지 않도록 완화하는 방안을 고려할 필요가 있다고 제안했다. 최근 3년간 출연연 중 한국생명공학연구원(91건), 한국화학연구원(81건), 한국생산기술연구원(54건) 등은 전용실시권 비중이 다른 출연연에 비해 높았고, 생명연은 기술이전 계약의 70%를 차지했다. 이는 바이오 분야가 상대적으로 연구개발 기간이 길고, 연구개발 성공확률이 낮기 때문으로 풀이된다. 입법조사처는 기술이전 기여자에게 기술료 수입의 10% 이상을 지급토록 한 현행 법령을 재검토해야 한다는 의견도 냈다. 국가연구개발혁신법에 따르면 연구성과 소유기관은 징수한 기술료 중 정부지분 기술료 50% 이상을 참여 연구자 보상금으로, 10% 이상을 성과 활용에 기여한 직원 등에 보상금을 사용토록 규정하고 있다. 출연연별로 기술이전 빈도와 건당 기술료 규모가 다르고, 기술이전 전담조직은 순환보직을 적용받기에 일괄적으로 10% 이상을 지급하는 것은 형평성에서 맞지 않다는 것. 기술이전 기여자 보상비율을 낮추거나 삭제하는 방안을 고려해야 한다는 주장이다. 한편, 지난 2021년 25개 출연연은 총 1974건의 기술이전 계약을 체결했고, 그 대가로 1231억원의 기술료를 받았다. 기술이전 계약 건수는 한국전자통신연구원(370건), 한국생산기술연구원(303건), 한국과학기술연구원(279건) 순으로 많았고, 기술료 규모는 한국전자통신연구원(532억원), 한국에너지기술연구원(87억원), 한국생산기술연구원(87억원) \n",
            "LG전자는 미국냉동공조협회(AHRI)가 수여하는 '퍼포먼스 어워드(Performance Award)'를 6년 연속 수상했다고 6일 밝혔다. 대용량 시스템 에어컨 제품군의 대표모델인 멀티브이(Multi V). LG전자 제공 AHRI는 글로벌 시험인증기관 인터텍(Intertek) 등 분야별 지정시험기관을 통해 각 제조사의 제품을 제품군별로 무작위 선정, 제품의 실제 성능이 실제 사양과 부합하는지 엄격하게 평가한다. 평가 대상이 된 모든 제품이 최근 3년 연속으로 1차 성능평가를 통과해야만 제품군 단위로 수여되는 퍼포먼스 어워드를 받을 수 있다. LG전자는 2018년부터 매년 이 상을 수상하며 차별화된 고객경험을 입증하고 있다. AHRI는 1953년 출범한 협회로 350여개 글로벌 에어컨 제조업체가 가입해 있다. 제품 성능을 철저하게 평가하기로 유명하다. 이번 퍼포먼스 어워드를 수상한 제품은 ▲대용량 시스템 에어컨(VRF; Variable Refrigerant Flow) ▲공랭식 냉각시스템(ACCL; Air Cooled Chillers) ▲수랭식 냉각시스템(WCCL; Water Cooled Chillers) ▲소형 단일 냉난방기(USHP; Unitary Small Heat Pump) ▲실내 팬 코일 에어컨(Room Fan-coil Air Contidioners) ▲상업용 일체형 냉난방기(PTHP; Packaged Terminal Heat Pump) ▲에너지 회수형 환기장치(ERV; Energy Recovery Ventilators) 등 7개 제품군이다. 2020년부터 2022년까지 3년간 평가 대상으로 선정된 67개 제품이 모두 성능 평가를 통과한 바 있다. 지난해 6개 제품군이 이 상을 수상했고, 에너지 회수형 환기장치(ERV)가 새롭게 추가되면서 수상 제품군이 7개로 늘었다. 대용량 시스템 에어컨(VRF)의 LG전자 대표제품인 멀티브이(Multi V)는 건물의 크기, 특징, 용도에 따라 최적의 냉난방을 구현한다. 이 제품은 독자 개발한 고효율 인버터 컴프레서를 탑재해 성능과 에너지효율이 우수하고, 실내외 온도뿐 아니라 습도까지 자동으로 감지해 절전효과를 높이면서 더욱 쾌적하게 냉방한다. 또 바깥 기온이 영하 30도인 환경에서도 안정적으로 작동해 겨울철 기온이 크게 낮아지는 북미 지역에서 인기가 높다. 공랭식 냉방시스템의 대표제품인 인버터 스크롤 칠러(Inverter Scroll Chiller)는 앞선 인버터 기술을 적용한 고효율 제품으로 설치면적이 (m2)에 불과해 좁은 공간에도 설치가 용이하다. 수랭식 냉각시스템은 중대형 빌딩의 중앙공조, 지역 냉/난방, 발전소 등의 공정 냉각용으로 사용된다. 이번에 처음으로 퍼포먼스 어워드를 수상한 LG전자 에너지 회수형 환기장치(LG ERV)는 실내 공기를 바깥으로 배출하고 필터를 거친 깨끗한 외부 공기를 실내로 공급해 준다. 전열교환기를 탑재해 외부로 배출되는 공기의 열 손실을 대폭 줄여줘 냉난방비 절감에 도움이 된다. 시스템 에어컨과 연동해 최적의 운전모드로 실내 공기질을 효과적으로 관리해 준다. LG전자는 차별화된 기술력을 바탕으로 북미 상업용 에어컨 시장에서 10년 이상 성장세를 이어가고 있다. LG전자 H&A사업본부 에어솔루션사업부장 이재성 부사장은 \"글로벌 시장에서 인정받은 앞선 공조 기술력을 바탕으로 실내 공기를 더욱 쾌적하게 관리하면서 에너지는 아껴주는 차별화된 고객경험을 제공하겠다\"고 말했다. 현화영 기자  \n",
            "\n",
            "Topic # 2 -----------------------------\n",
            "-KT, 최종 후보 발표 \"예정대로 진행\" -사내외에선 후보 4인 일괄 사퇴설도 KT의 차기 대표이사 선출을 둘러싸고 KT 안팎에서는 당혹감이 감돈다. KT 안팎에서는 후보자 4인의 동반 사퇴설이 나도는 등 '신관치' 논란이 확산 중이다. (연합뉴스) 통신 '공룡' KT의 차기 대표이사 선출을 둘러싸고 정치권 압박이 거세자 KT 안팎에서는 당혹감이 감돈다. 예정된 일정에 변화는 없다는 게 KT 측 입장이지만 KT 안팎에서는 후보자 4인의 동반 사퇴설이 나도는 등 '신관치' 논란이 확산 중이다. KT와 정치권 등에 따르면, KT는 3월 7일 예정대로 최종 후보자 1인을 발표한다. KT 이사회는 차기 대표이사 경선에 도전한 33명 가운데 면접 대상자로 박윤영 전 KT기업부문장(사장), 신수정 KT엔터프라이즈부문장(부사장), 윤경림 KT 그룹트랜스포메이션부문장(사장), 임헌문 전 KT 매스총괄사장 등 4명을 선정했다. KT는 3월 7일 대표이사 최종 후보 1명을 확정하고 오는 29일 또는 30일 열릴 주주총회에서 새 대표이사를 정식 선임한다는 계획이다. 일각에서는 주총 연기 가능성이 거론됐지만 \"정기 주총일을 확정한 적이 없으므로 연기 여부에 대해서도 논의한 적 없다\"는 게 KT 입장이다. 다만, 통신업계에서는 KT가 예정된 차기 CEO 선출 레이스를 무사히 완주할지 의구심을 갖는 시선이 적지 않다. 앞서 주요 금융지주 회장 선출 과정에서도 유력 후보들이 석연치 않은 이유로 돌연 자진 사퇴한 사례가 있어서다. 이에 비춰, 일각에서는 후보자 4인이 동반 사퇴하고 후보를 재선정할 가능성도 거론된다. 통신업계 관계자는 \"정치권의 이례적인 반발에 이사회의 동요가 큰 것으로 안다\"고 귀띔했다. 이사회에서 3월 7일 최종 후보 1명을 낙점하더라도 KT 입장에서는 부담이 적지 않다. 정기 주총에서 캐스팅보트를 쥔 국민연금 등이 적극적으로 반대 의견을 피력한다면, 이사회가 낙점한 후보가 대표이사로 선출되더라도 앞으로 경영 행보에 제약이 불가피하다. 규제 산업인 통신업 특성상 행정부와 입법부를 동시에 적으로 돌리는 것도 차기 CEO에게는 임기 내내 부담이 될 수밖에 없다. 통신업계에서는 '식물 대표설'부터 차기 경영진 수사설까지 여러 가능성이 언급된다. 이런 이유로 우여곡절 끝에 현 4인의 후보 중 한 명이 차기 CEO로 선출되더라도 중도 낙마할 가능성이 높다는 관측이 나온다. 현 여권 유력 인사로 차기 대표이사 후보군이 재차 꾸려질 경우 인사 개입 논란은 더욱 커질 전망이다. 이번에 진행되는 KT 이사회에서는 대표이사 최종 후보 선출뿐 아니라 신규 사외이사까지 폭넓은 현안이 다뤄진다. 대표이사뿐 아니라 이사회 구성 자체가 바뀌는 만큼 회의가 길어질 것이라는 관측이 나온다. 현재 사외이사 가운데 이강철 이사가 CEO 선임 과정에 앞서 사퇴했으며 표현명, 강충구, 여은정 등 3인의 사외이사가 3월 말로 임기가 끝난다. 사내외 이사를 재선임 또는 신규 선임하려면 상법에 따라 주총 소집 결의와 안건 정보 등은 주총 개최 2주 전에는 공고해야 한다. 차기 대표 후보를 원점에서 재선정한다면 혼돈이 불가피하다. 한편, KT는 차기 수장 선출을 놓고 정치권의 공개 압박을 받는 중이다. 당초 33명의 후보군이 공개된 뒤 통신업계에서는 \"현 정부와 코드가 맞는 윤진식 전 산업부 장관이 사실상 낙점된 것 같다\"는 소문이 파다했다. 그러나 민간 기업을 경영한 경험이 전무한 데다 관료 시절 경험도 통신과 거리가 멀고, 여든을 바라보는 고령이라는 점이 결국 발목을 잡은 것으로 알려진다. 여권 출신 인사들이 줄줄이 탈락하자 정치권과 대통령실은 재차 KT를 압박했다. 국민의힘 소속 국회 과학기술정보방송통신위원회 위원들은 지난 3월 2일 \"이권 카르텔을 유지하려는 전형적인 수법\"이라며 \"구현모 대표가 윤경림 KT그룹 트랜스포메이션부문장을 자신의 아바타로 출마시키고 신수정 KT엔터프라이즈부문장을 2순위로 넣으라고 지시했다\"고 주장했다. 대통령실에서도 \"조직 내에서 모럴해저드가 일어나면 피해는 국민이 본다\"는 입장을 밝혔다. 이는 사실상 이번 KT 대표이사 선출 과정에 문제가 있다는 인식을 보여준 것으로 해석된다. 현재 4명의 후보 가운데 통신 업계에서 가장 유력하다고 평가를 받는 인물은 윤경림 사장이다. 그는 KT 출신으로 현대차로 옮겨 부사장까지 지낸 뒤 KT로 다시 와 디지털 전환을 총괄하는 조직의 수장이 됐다. 이외 신수정 부사장은 사장급인 나머지 3명에 비해 중량감이 떨어지고 박윤영 전 사장과 임헌문 전 사장은 3년 전 구현모 대표와 맞붙어 탈락한 이력이 있어 차기 CEO로 선출될 가능성은 낮다는 게 통신업계 중론이다. 정치권은 윤 사장을 두고 현대차 재직 당시 구 대표의 친형 회사 인수를 성사시킨 공으로 KT에 합류했다거나, 대표 선임 업무를 맡은 이사회 현직 멤버라는 점을 부각하며 흠집내기에 몰두하고 있다. KT 내부에서는 당혹한 기류가 역력한 가운데 정치권발 의혹에 대해서는 적극 반박했다. KT 관계자는 \"구 대표와 윤 사장은 공개 경쟁 시작 이후 심사에 영향을 미치는 모든 과정에서 배제됐다\"며 \"윤 사장은 현대차 시절 인수 투자 담당이 아니어서 구 대표 형 문제와도 무관하다\"고 밝혔다.\n",
            "공시 전부터 제기된 주총 연기설7일 '최종 1인' 선정 이뤄질지 관심여권, 대표 선임 놓고 연일 비난 KT 차기 대표이사 선임 절차와 관련해 여권이 강도 높은 비난을 이어가면서 남은 선임 일정에 차질이 생길 가능성이 제기되고 있다. /최문정 기자 이동통신사 KT가 차기 대표이사 선임과 관련한 절차를 제대로 밟을 수 있을지 귀추가 주목된다. 정치권의 공세 수위가 높아지면서 일정에 차질이 생길 가능성이 제기되고 있어서다. 이와 관련해 KT 측은 아직 말을 아끼고 있다. 6일 이동통신 업계에 따르면 KT는 오는 7일 대표이사 최종 후보 1인을 확정해 발표할 예정이다. 현재 검토 중인 압축 후보는 4명으로, 박윤영 전 KT 기업부문장(사장)과 신수정 KT엔터프라이즈 부문장(부사장), 윤경림 KT그룹 트랜스포메이션 부문장(사장), 임헌문 전 KT 매스총괄(사장) 등 모두 KT 전·현직 인사가 대상이다. 회사는 최종 후보 1명을 이달 말 열리는 정기 주주총회에서 대표이사로 선임할 계획이다. 그러나 대표이사 선임 과정에 새 변수가 생길 수 있다는 관측이 나온다. 당초 KT는 내부적으로 정기 주총을 오는 29일 열기로 잠정 결정했지만, 이를 이틀 뒤인 31일로 미루는 안을 검토하고 있는 것으로 알려졌다. 이에 주총 일정이 연기되면 대표이사 최종 후보 1명을 확정하겠다는 계획도 뒤로 밀릴 수 있다는 전망이 조심스럽게 나오고 있다. 대표 인선 일정이 늦춰질 수 있다는 관측이 제기되는 건 정치권의 날 선 공세와 무관치 않다는 평가다. 앞서 여권은 차기 대표 후보들이 모두 KT 전·현직 인사로 압축된 데 대해 강하게 반발했다. 국민의힘은 지난 2일 \"KT 이사회는 차기 대표 지원자 33명 중 KT 출신 전·현직 임원 4명만 통과시켜 차기 사장 인선이 '그들만의 리그'로 전락했다\"며 \"철저히 내부 특정인들의 이해관계 속에서 서로 밀어주고 당겨주며 이권 카르텔을 유지하려는 전형적인 수법\"이라고 목소리를 높였다. 특히 국민의힘은 연임을 포기한 구현모 대표와 후보인 윤경림 사장·신수정 부사장을 싸잡아 비판했다. 유력한 후보였던 구현모 대표는 '셀프 연임', '깜깜이 선발' 등의 논란이 일자 지난달 23일 차기 대표이사 후보에서 사퇴하며 연임을 포기했다. /국회사진취재단 국민의힘은 \"구현모 대표는 친형 회사인 에어플러그를 인수한 현대차그룹에 지급 보증을 서주는 등 업무상 배임 의혹이 있다. 후보 4명 중 당시 현대차 윤경림 부사장은 이를 성사시킨 공을 인정받아 구현모 체제 KT 사장으로 합류했다는 구설수도 있다\"며 \"윤경림 사장은 현재 대표 선임 업무를 하고 있는 이사회 현직 멤버다. 심판이 선수로 뛰고 있는 격으로 출마 자격이 없다\"고 주장했다. 이어 \"KT 내부에서는 구현모 대표가 수사 대상이 되자 갑자기 사퇴하면서 자신의 아바타인 윤경림을 세우고 2순위로 신수정을 넣으라는 지시를 했다는 소문도 무성하다\"고 덧붙였다. KT는 지난 2002년 정부 지분이 매각되면서 민영화된 소유분산기업(주인 없는 회사)이다. 외부 변수로 인선 절차가 흔들릴 가능성이 큰 구조라는 의미다. 앞서 KT는 차기 대표로 구현모 현 대표를 선정했지만 정치권을 중심으로 '셀프 연임', '깜깜이 선발' 등의 논란이 일자 기존 절차를 중단하고 공개경쟁 방식으로 선임 절차를 다시 시작했다. 이 과정에서 구현모 대표는 결국 연임을 포기했다. 이에 일각에서는 '정치권이 지나치게 개입하는 것 아니냐'는 비판이 일었다. 동시에 새 대표 선임부터 여권과 척지는 건 KT로서도 굉장한 부담이 된다는 점에서 정치권의 압박을 무시하기 어려울 것이라는 해석도 나왔다. KT가 오는 7일 예정대로 최종 후보 1명을 확정한다고 하더라도 주총 문턱을 넘지 못할 가능성도 배제할 수 없다. 여권이 강하게 반발하는 상황에서 최대주주인 국민연금(지분율 약 10%)이 반대표를 던질 수 있기 때문이다. 국민연금은 압축 후보 명단 발표 이후 이렇다 할 입장을 내지 않았으나, 그동안 KT 대표 후보 선임 절차에 강한 불만을 드러내 왔다. KT는 인선 일정 연기 가능성에 대해 말을 아끼고 있다. 주총에 대해서만 \"주총일은 아직 공시되지 않은 상태\"라고 답했다. 이동통신 업계 관계자는 \"7일 대표이사 최종 후보 1명을 확정하겠다는 건 내부적으로 미리 계획한 절차이기에 그대로 추진될 것으로 전망된다\"며 \"다만 대표 선임 절차와 관련한 여러 변수가 상존하고 있는 건 사실이다. 끝날 때까지 불확실하다고 볼 수 있다\"고 밝혔다. 발로 뛰는 더팩트는 24시간 여러분의 제보를 : '더팩트제보' 검색이메일: 홈페이지: http:///bbs/report/write\n",
            "KT 차기 대표이사 선임 절차가 또 다시 정치권 '외풍'에 출렁이며 안갯속을 걷고 있다. 이미 두 차례나 최종 대표이사 후보 선임을 번복했던 KT의 혼란이 더욱 길어질 분위기다. 정기 주주총회 일정마저 예정보다 늦춰질 것이란 가능성까지 나온다. 새해 임직원 인사 및 조직개편도 하지 못한 KT가 정치권 외풍에 휩쓸려 경영 공백 리스크에 빠질 수 있다는 우려도 제기된다. 앞서 KT는 이달 7일 차기 대표이사 최종 후보 1명을 확정해 발표하겠다고 예고했다. 이어 이달 말 정기 주주총회를 거쳐 대표이사를 선임하기로 했다. KT 이사회가 지난 2일 발표한 차기 대표이사 후보 4명은 박윤영 전 KT 기업부문장(사장), 신수정 KT 엔터프라이즈 부문장(부사장), 윤경림 KT 그룹 트랜스포메이션 부문장(사장), 임헌문 전 KT 매스총괄 사장(가나다 순)이다. 모두 전·현직 KT 인사로 추려졌다. 그러나 해당 후보군을 두고 대통령실과 여당을 중심으로 강한 반대 목소리를 내면서 차기 대표이사 선임 절차가 또 다시 꼬일 수 있다는 우려가 고개를 들었다. 대통령실은 KT 차기 대표이사 인선과 관련해 \"공정하고 투명하게 거버넌스가 이뤄져야 한다\"며 \"정부는 기업 중심의 시장경제 정책 기조를 유지하고 있지만 민생의 영향이 크고 주인이 없는 회사, 특히 대기업은 지배구조가 중요한 측면이 있다\"며 부정적인 입장을 내놨다. 국회 과학기술정보방송통신위원회(과방위) 소속 여당 의원들도 차기 대표 후보군이 전·현직 KT 인사들로만 구성된 것을 두고 '그들만의 리그', '구현모 대표의 아바타를 내세웠다' 등의 강도 높은 표현을 사용했다. 아울러 이번 KT 차기 대표 인선을 '이익 카르텔'이라고 비판하며 당장 인선을 중단할 것을 주장하고 있다. 강충구 KT 이사회 의장은 \"공정성·투명성·객관성 강화를 위해 공개경쟁 방식으로 대표이사 선임 프로세스를 재추진하겠다고 밝힌 이후 사내·외 후보자군 뿐만 아니라 인선자문단 명단, 면접심사 대상자 등 각 단계별 진행상황을 투명하게 공개해왔다\"는 입장이다. 그러나 대통령실과 여당에서 비토의 목소리가 거세지면서 차기 대표 인선 절차가 또 다시 흔들릴 수 있다는 전망이 나온다. KT 측은 현재까지 7일에 최종 후보 1인을 확정하는 일정엔 변함이 없다는 입장이지만 최종 후보 1인 발표가 늦어질 경우 정기 주주총회 일정도 밀릴 수 있다. 대표 인선을 둘러싸고 잡음이 계속되자 KT가 이달 29일로 잠정 결정한 정기 주주총회 일정을 이틀 정도 미룰 수 있다는 관측도 나왔다. 앞서 KT는 2021년엔 3월29일에, 작년엔 3월31일에 정기 주주총회를 진행한 바 있다. 올해 정기 주주총회 일자는 아직 공시하지 않았다. 서울 광화문 KT 이스트 사옥. [KT 제공] 민간기업의 대표 선임 절차를 두고 대통령실과 여당이 적나라하게 비판을 쏟아내면서 야당은 \"KT를 관치화하겠다는 의도\"라며 강하게 반발하고 있다. 이동통신 업계에서도 산업 전반에 걸쳐 정치권의 입김이 갈수록 거세지고 있는 현 상황에 불편함을 내비치고 있다. KT는 지난 2002년 정부가 지분을 모두 팔고 손을 떼면서 민간기업으로 첫발을 내디뎠다. 그로부터 20년이 흐른 지난해 민영화 20주년을 맞았다. 그러나 최근 차기 대표 선임 과정은 또 다시 낙하산 논란을 불러오며 취약한 지배구조를 노출했다는 평가가 나온다. 차기 대표 후보로 구현모 현 대표를 추천했던 KT가 외풍 탓에 이를 전면 백지화하고, 다시 처음부터 선임에 나섰지만 낙하산 논란은 끊이지 않았다. 외부 공모 결과 이명박·박근혜 정부 장·차관 출신부터 윤석열 캠프 출신까지 정치권 이력을 자랑하는 이들이 대거 몰려 관치 논란에 불이 붙었다. 특히 새누리당 시절부터 자유한국당, 미래통합당 그리고 지금의 국민의힘에 이르기까지 현 여당 후보로 선거에 나섰다가 여러 차례 고배를 마셨거나 공천을 받지 못한 이들이 KT 대표 공모에 지원한 점이 도마 위에 올랐다. KT 이사회가 이들을 모두 배제하고 전·현직 KT 인사로 최종 후보 4인을 추리자 대통령실과 여당의 목소리는 더욱 노골적으로 변한 상황이다. 여당 의원들은 KT의 1대 주주인 국민연금을 향해 적극적으로 의사결정에 목소리를 내라며 스튜어드십 코드를 주문하고 있다. 만약 국민연금을 비롯한 주요 주주의 반대로 이달 정기 주주총회에서 KT의 새 대표 선임안이 부결되면 KT는 다시 처음부터 선임 절차를 밟아야 한다. 이제는 경영 공백을 걱정해야 하는 셈이다. 구 대표의 임기는 이달 30일까지다. 한편, 정치권의 KT 대표이사 인선 개입 등 경영 리스크가 장기화하면서 KT 주가도 하락세다. 지난해 12월 5일 3만8000원이었던 KT 주가는 지난 달 28일 2만9950원을 기록해 3만원선이 무너지기도 했다. 김현일 기자  \n",
            "\n",
            "Topic # 3 -----------------------------\n",
            "삼성전자 스마트폰이 인도에서 샤오미를 꺾고 점유율 1위에 올랐다. '가성비' 중심에서 최근 프리미엄 수요가 확대되면서 갤럭시S와 폴더블폰 시리즈 판매량 증가가 주효했다는 평가다. 중국에 이어 전 세계 2위 스마트폰 시장인 인도는 삼성이 절대 놓쳐서는 안 되는 요충지다. 삼성은 올 들어 인도를 스마트폰 핵심 생산기지로 키우는 등 현지 공략에 전사적 역량을 집중하고 있다. ━ '만년 2위'에서 \"일시적인 현상 아닐 것\" ━ 인도 현지 모델이 삼성전자 폴더블 스마트폰을 소개하고 있다./사진=삼성전자 뉴스룸 인도 노태문 삼성전자 MX(모바일경험)사업부장(사장)은 지난달 갤럭시언팩 기자간담회에서 \"인도 스마트폰 시장에서 삼성이 1위에 오르는 것이 첫 번째 목표\"라며 현지화 전략과 프리미엄 확대로 점유율 반등을 노리겠다고 밝혔다. 노사장의 바람대로 이뤄졌다. 시장조사업체 카운터포인트리서치에 따르면 지난해 4분기 인도 스마트폰 시장에서 삼성은 20% 점유율로 샤오미(18%)를 제치고 1위를 기록했다. 전년 동기(16%) 대비 4%포인트(p) 증가했다. 인도에서 삼성이 1위에 오른 것은 2020년 3분기 이후 9분기 만이다. 인도는 '중국 텃밭'이라 불릴 정도로 중국 제조사들이 강세다. 수년간 샤오미가 1위를 지키고 나머지는 삼성·오포·비보·리얼미 등 4파전 양상이다. 삼성은 2011~2017년만 해도 인도에서 점유율 1위였지만, 2018년 샤오미에 1위를 내준 뒤 '만년 2위'에 머물러 왔다. 2020년 3분기 24% 점유율로 1위에 오르긴 했지만 곧장 샤오미에 따라잡히며 '깜짝 반등'에 그쳤다. 업계에선 이번 1위 탈환이 일시적인 현상이 아닐 것으로 본다. 4분기는 신제품 출시가 없어 '신작 효과'가 없었던 데다, 프리미엄 제품의 꾸준한 판매량 증가가 이어져서다. 삼성전자 관계자는 \"지난해 갤럭시S와 폴더블폰 등이 인도에서 좋은 반응을 얻었다\"며 \"브랜드 이미지 제고 등 프리미엄 시장 확대를 위한 전략이 효과를 보고 있다\"고 설명했다. 실제 중저가 중심이던 인도는 최근 프리미엄폰에 대한 소비자의 관심이 높아지는 추세다. 지난달 출시한 갤럭시S23은 현지 사전예약 첫날 14만대가 판매되며 기록을 세웠다. 전작인 갤럭시S22보다 2배 많은 수준이다. 금액으로 따지면 1억6900만달러(약 2122억원)에 달한다. ━ 생산기자 인도에 전략 강화 ━ 삼성이 인도 시장을 사수해야 하는 이유는 분명하다. 인도는 미국을 꺾고 전 세계 2위 규모의 스마트폰 시장으로 성장한 만큼 글로벌 제조사들이 주목하는 곳이다. 인도 스마트폰 시장은 2016년부터 2021년까지 성장했다. 올해는 10% 가량 성장해 약 1억7500만대의 수요가 예상된다. 최근 몇 년 새 글로벌 스마트폰이 시장이 침체기에 접어든 것을 고려하면 더 고무적이다. 삼성은 인도를 스마트폰 핵심 생산 기지로 키우기 위해 차기 폴더블폰(갤럭시Z플립5·폴드5) 초도 물량부터 인도에서 생산하기로 했다. 그간 삼성은 갤럭시S, 폴더블폰 등 플래그십 제품은 경북 구미와 베트남 공장에서 초도 물량을 만들고 일정 기간 이후 일부를 인도로 이전·생산했다. 회사를 대표하는 모델이기 때문에 작은 품질 문제라도 발생할 경우 치명적일 수 있어서다. 생산 전략에 변화를 주면서까지 인도 시장에 승부수를 띄운 것이다. 부품 업계 한 관계자는 \"현지 생산은 단가를 줄일 수 있어 삼성 입장에선 프로모션 등으로 실구매가를 낮출 수 있고 현지화 전략에도 좋다\"며 \"중국 대신 인도를 생산 기지로 선택한 것도 단기간에 가장 효과를 볼 수 있는 시장이 인도이기 때문\"이라고 말했다. 현재 중국 스마트폰 시장에서 삼성 점유율은 0%대에 머물러 있다. 중국 시장을 키우기 위해선 상대적으로 많은 시간과 비용이 필요한 만큼 인도 시장에 우선적으로 집중해 효율성을 높이겠다는 전략인 것이다. 김승한 기자 <저작권자 '돈이 보이는 리얼타임 뉴스' 머니투데이, 무단전재 및 재배포 금지>\n",
            "글로벌 스마트폰 시장 전망치. IDC 제공 [파이낸셜뉴스] 글로벌 불확실성이 계속되면서 올해 전 세계 스마트폰 출하량이 전년 대비 하락할 것이란 전망이 나왔다. 다만 올 하반기부터는 성장세를 회복할 것으로 예상되는 가운데 삼성전자와 애플 등 글로벌 스마트폰사는 각사 플래그십(최상위 기종) 스마트폰 출시에 총력을 다할 방침이다. \"올해 작년보다 더 안 좋을 듯\" 스마트폰 시장침체6일 관련 업계에 따르면 글로벌 시장조사업체 IDC는 올해 전 세계 스마트폰 출하량 전망치를 11억9280만대로 전망했다. 이는 전년 대비 % 감소한 수치다. 지난해 전 세계 스마트폰 출하량은 약 12억1000만대다. 이는 2013년 이후 가장 낮은 숫자였으며, 올해는 이보다 더 축소될 것으로 추산된다. 당초 올해 스마트폰 출하량을 전년 대비 % 성장할 것이라고 전망했던 IDC는 수요 부진 및 거시경제 불확실성이 계속되면서 전망치를 수정했다. 나빌라 포팔 IDC 연구 디렉터는 \"비용 증가와 수요 감소로 글로벌 스마트폰 회사들은 올해 신중한 입장을 보이고 있다\"며 \"중국 경제 재개장 등 긍정적인 소식이 나오고 있지만, 여전히 경기 불확실성은 남아있다\"고 진단했다. 다행히 올 하반기부터는 출하량이 회복세를 탈 것으로 예상된다. 앤서니 스카셀라 IDC 연구원은 \"글로벌 대부분의 지역은 올 상반기에 두 자릿수 감소를 보일 전망\"이라면서도 \"하반기 들어 플러스 성장세로 전환하고 4·4분기에는 두 자릿수 성장세로 전환될 것\"이라고 했다. 폴더블폰·최상위 기종 강화 등 하반기 라인업 구축삼성전자, 애플 등 글로벌 스마트폰 회사들은 하반기 플래그십폰을 출시, 출하량 성장세를 견인할 것으로 보인다. 삼성전자의 경우 올해 상반기 바(Bar)형 갤럭시S23 시리즈를 선보인 데 이어 하반기 또 다른 플래그십폰인 폴더블폰(Z폴드5·플립5)으로 시장 공략에 나설 전망이다. 현재 전체 스마트폰 시장에서 폴더블폰의 비중은 크지 않지만, 출하량이 크게 늘고 있다는 점은 긍정적이다. IDC에 따르면, 올해 폴더블폰 출하량은 전년보다 50% 늘어난 2200만대에 육박할 것으로 예측된다. 애플은 매년 출시하는 플래그십폰 아이폰 시리즈 기능을 강화하면서 이른바 '급 나누기'에도 힘쓸 것으로 보인다. 애플은 지난해 말 아이폰14 시리즈를 출시하며 최상위 모델인 '프로' 기종들에만 신기능을 추가하는 전략을 펼친 바 있다. 아울러 올해 가을 출시 예정인 아이폰15 시리즈 중 프로맥스에만 폴디드 줌(잠망경 렌즈) 카메라를 장착할 것으로 업계는 보고 있다. 한편 내년부터 약 5년 동안 스마트폰 시장 성장률은 연평균 %에 이를 것으로 기대된다. 오는 2027년 전체 스마트폰 출하량은 13억7100만대에 달할 것이라는 분석이다. 업계 관계자는 \"올해는 팬데믹이 막 끝나는 시점에서 수요가 주춤할 수 있다\"면서 \"스마트폰사들이 기능을 고도화하고, 폼팩터(형태) 변화를 주는 등 꾸준히 노력 중인 만큼 내년부터 시장이 안정화되면 수요도 충분히 이끌어낼 수 있을 것\"이라고 말했다. #아이폰 #애플 #삼성전자 #갤럭시\n",
            " 전 세계 스마트폰 출하량이 올해 하반기부터 늘어나기 시작하며 향후 5년간 연평균 % 성장할 것이란 전망이 나와 삼성전자, 애플의 기대감이 커지고 있다. 지난해 내내 이어진 전 세계 스마트폰 시장 침체가 올해 상반기까지 이어질 것으로 보이지만 성수기인 4분기에는 10% 이상 성장세를 보일 것이란 관측이다. 갤럭시 익스피리언스 스토어 인 LA에서 한 고객이 '갤럭시S23'에 대한 설명을 듣고 있다. 6일 글로벌 시장조사업체 IDC에 따르면 올해 전 세계 스마트폰 출하량 전망치는 11억9천280만 대다. 이는 지난해 12억550만 대보다 ％ 감소한 수치다. 당초 IDC는 올해 스마트폰 시장이 전년 대비 % 성장할 것으로 예상했으나 시장 수요 부진 및 거시경제 불황이 계속되면서 전망치를 수정했다. 하지만 올해 하반기에는 애플, 삼성전자 등 주요 스마트폰 제조사들이 프리미엄 플래그십폰이 출시되면서 시장이 반등될 것이란 관측이다. 대부분 지역에서 상반기까지는 출하량이 두 자릿수 감소세를 보이다 3분기부터 성장세로 전환돼 4분기에는 10% 이상 성장할 것으로 내다봤다. 또 올해 하반기부터 향후 5년간 연간 평균 %씩 시장이 성장해 2027년 전체 스마트폰 출하량이 13억7천100만 대에 달할 것으로 전망됐다. 특히 '모바일월드콩그레스(MWC) 2023'에서 수 많은 폴더블폰이 출시됐던 만큼, 앞으로 폴더블폰이 점차 대세로 자리 잡으며 관련 시장이 점차 커질 것으로 관측됐다. 올해 폴더블폰 시장은 전년 대비 50% 증가한 2천200만 대에 육박할 것으로 전망됐다. 전 세계 스마트폰 시장 전망 [그래프=IDC] 5G 스마트폰 비중 또한 올해 전 세계 스마트폰 출하량의 62%에 달할 것으로 보인다. 2027년에는 5G 스마트폰 비중이 83%로 증가할 것이라는 전망이다. 2019년부터 꾸준히 올랐던 스마트폰 평균판매가격(ASP)은 올해부터 상승세가 꺾일 전망이다. ASP는 지난 2019년 334달러에서 415달러로 올랐다. 2027년에는 ASP가 376달러 수준으로 떨어질 전망이다. IDC는 \"올해에도 여전히 불확실성에 대한 우려가 많아 업체들이 신중한 전망을 내놓고 있다\"면서도 \"하지만 선진국 시장의 시장 회복력이 상당하고 신흥 시장에서의 스마트폰 판매도 안정적인 장기 성장을 촉진할 여지가 있다\"고 분석했다. 이어 \"단기적인 위기를 지나면 2024년에는 세계 시장이 성장으로 돌아설 것\"이라고 덧붙였다. /장유미 기자() 네이버 채널에서 '아이뉴스24'를 구독해주세요. 재밌는 아이뉴스TV 영상보기아이뉴스24 바로가기 [ 아이뉴스24 무단전재 및 재배포 금지] \n",
            "\n",
            "Topic # 4 -----------------------------\n",
            "신세계아이앤씨가 아시아 시장에서 독점 유통하는 네오위즈의 새 콘솔 플랫폼 게임 P의 거짓. [신세계아이앤씨 제공] 신세계아이앤씨가 아시아 시장에서 네오위즈의 하반기 최대 기대작으로 손꼽히는 콘솔 패키지 게임을 독점 유통한다. 신세계아이앤씨는 네오위즈의 신작 게임 'P의 거짓'(Lies of P) 콘솔 패키지를 아시아 지역에 독점 유통한다고 6일 밝혔다. 네오위즈의 P의 거짓은 고전 동화 '피노키오'(Pinocchio)를 각색한 액션 RPG 게임이다. 콘솔 플랫폼인 플레이스테이션(PS) 4·5, Xbox One, Xbox Series X|S와 PC 플랫폼을 통해 오는 8월 글로벌 시장에 동시 출시 예정이다. 신세계아이앤씨는 네오위즈와 독점 유통 계약을 체결하고, 오는 8월부터 국내를 포함한 일본, 대만 등 아시아 전역에 플레이스테이션(PS) 4·5용 P의 거짓 콘솔 패키지를 유통한다. 신세계아이앤씨는 게임 등 IT 유통 사업을 통해 탄탄하게 구축해온 온·오프라인 유통 채널 및 운영 노하우를 바탕으로 콘솔 패키지 판매를 확대한다는 계획이다. 신세계아이앤씨는 한국닌텐도㈜의 '닌텐도 스위치', 소니 인터랙티브 엔터테인먼트의 '플레이스테이션' 등 인기 콘솔 및 타이틀의 국내 유통 총판 사업을 담당하고 있다. 이 밖에도 블리자드, 포켓몬 등 주요 글로벌 게임사와 함께 인기 게임 IP 상품 판매, 브랜드 스토어 운영 등 게임 IP 라이선스 사업을 전개하는 등 관련 사업을 확대하고 있다. 정준 신세계아이앤씨(신세계I&C) 영업혁신담당은 \"네오위즈와 손잡고 선보일 'P의 거짓'은 올 하반기 대작으로 손꼽히는 트리플 A급 게임으로, 최근 글로벌 시장에서 콘솔 플랫폼 기반 게임이 확대되는 추세인 만큼 아시아 전역에서 게임 유저들의 호응을 받을 것이라 기대한다\"며 \"신세계아이앤씨가 그 동안 탄탄하게 다져온 유통 채널과 노하우를 기반으로 국내를 넘어 아시아 시장 전역으로 유통 커버리지를 확대함과 동시에 게임 IP, 퍼블리싱 등 게임 분야 사업 포트폴리오까지 확장하며 지속적으로 성장하고자 하는 목표를 갖고 있다\"라고 말했다. 박성준 네오위즈 본부장은 \"전문적인 온·오프라인 유통 경험을 가진 신세계아이앤씨는 아시아 게임 시장에 P의 거짓을 선보이기 위한 최적의 파트너라 생각한다\"며 \"앞으로 신세계아이앤씨와 긴밀히 협업해 P의 거짓만의 독보적인 재미와 뛰어난 게임성을 이용자들에게 적극 알리겠다\"고 말했다. 한편, P의 거짓은 고전 동화 피노키오를 각색해 탄생한 소울라이크 싱글플레이 액션 RPG로 출시 전부터 주목 받았다. 무기 조합 등 차별화된 전투 시스템이 가장 큰 특징이며, 높은 게임성을 인정받아 '게임스컴 2022'에서 한국 게임사 최초로 3관왕을 수상하며 글로벌 기대작으로 부상했으며, 올해 8월 출시를 앞두고 있다. 박혜림 기자 \n",
            "네오위즈 P의 거짓 네오위즈 'P의 거짓'이 신세계아이앤씨(신세계I&C) 유통망을 타고 한국을 포함한 아시아 국가에 유통된다. 소울라이크 싱글플레이 액션 역할수행게임(RPG)으로 글로벌 콘솔 시장 공략에 나선 네오위즈와 게임 지식재산권(IP)과 퍼블리싱 등 게임 분야 포트폴리오까지 사업 영역 확장에 나선 신세계아이앤씨 간 협력 확대로 시너지 극대화에 나설 전망이다. 네오위즈는 글로벌 리테일테크 전문기업 신세계아이앤씨와 'P의 거짓' 아시아 독점 퍼블리싱 계약을 체결했다고 6일 밝혔다. 네오위즈는 IT 기기·SW·게임 등 다양한 IT 유통 사업을 진행 중인 신세계아이앤씨의 온·오프라인 유통 채널을 활용, P의 거짓을기다리는 각국 소울라이크 팬을 만날 수 있을 것으로 기대하고 있다. 양사는 P의 거짓 8월 출시까지 협력 체계를 갖춰 나가며 한국과 일본, 대만 등 아시아 국가에 콘솔 패키지를 유통할 계획이다. 박성준 네오위즈 본부장은 \"전문적인 온·오프라인 유통 경험을 가진 신세계아이앤씨는 아시아 게임 시장에 P의 거짓을 선보이기 위한 최적의 파트너라 생각한다\"며 \"신세계아이앤씨와 긴밀히 협업해 P의 거짓만의 독보적인 재미와 뛰어난 게임성을 이용자에게 적극 알리겠다\"고 말했다. P의 거짓은 고전 동화 피노키오를 잔혹극으로 각색해 탄생한 소울라이크 싱글플레이 액션 RPG다. 지난해 8월 독일 게임스컴2022에서 한국 게임사 최초로 3관왕을 수상하며 글로벌 기대작으로 부상했다. 플레이스테이션(PS)4·5, 엑스박스 원, 엑스박스 시리즈 X|S, PC 플랫폼으로 출시를 준비 중이다. 정준 신세계아이앤씨 영업혁신담당은 \"이번 퍼블리싱 계약을 통해 신세계아이앤씨가 그동안 탄탄하게 다져온 유통 채널과 노하우를 기반으로 국내를 넘어 아시아 시장 전역에 유통 커버리지를 확대해 나가겠다\"며 \"게임 IP, 퍼블리싱 등 게임 분야 사업 포트폴리오까지 확장하며 지속 성장하는 것이 목표\"라고 말했다. 박정은기자 \n",
            "네오위즈가 글로벌 리테일테크 전문기업 '신세계아이앤씨(신세계I&C)'와 'P의 거짓'의 아시아 독점 퍼블리싱계약을 체결했다고 6일 밝혔다. 양사는 'P의 거짓'의 8월 출시까지 협력 체계를 갖춰 나가며, 'P의 거짓' 콘솔 패키지를 한국을 포함한 일본, 대만 등 아시아 국가에 유통할 계획이다. 네오위즈 측은 \"이번 계약을 통해 네오위즈는 IT 기기·SW·게임 등 다양한 IT 유통 사업을 진행 중인 신세계아이앤씨의 막강한 온·오프라인 유통 채널을 활용, 'P의 거짓'을 기다리는 각국의 소울라이크 팬들과 만난다는 계획이다\"라고 했다. 박성준 네오위즈 본부장은 \"전문적인 온·오프라인 유통 경험을 가진 신세계아이앤씨는 아시아 게임 시장에 'P의 거짓'을 선보이기 위한 최적의 파트너라 생각한다\"며 \"앞으로 신세계아이앤씨와 긴밀히 협업해 'P의 거짓'만의 독보적인 재미와 뛰어난 게임성을 이용자들에게 적극 알리겠다\"라고 했다. 정준 신세계아이앤씨 영업혁신담당은 \"이번 퍼블리싱 계약을 통해 신세계아이앤씨가 그동안 탄탄하게 다져온 유통 채널과 노하우를 기반으로 국내를 넘어 아시아 시장 전역에 유통 커버리지를 확대해 나가겠다\"며 \"동시에 게임 IP, 퍼블리싱 등 게임 분야 사업 포트폴리오까지 확장하며 지속적으로 성장하는 것이 목표\"라고 했다. 한편, 'P의 거짓'은 고전 동화 '피노키오'를 잔혹극으로 각색해 탄생한 소울라이크 싱글플레이 액션RPG로 출시 전부터 주목받았다. 무기 조합 등 차별화된 전투 시스템이 가장 큰 특징으로, 높은 게임성을 인정받아 작년 8월 '게임스컴 2022′에서 한국 게임사 최초로 3관왕을 수상하며 글로벌 기대작으로 부상했다. 올해 8월 글로벌 동시 출시를 앞두고 있으며, 플레이스테이션(PS) 4·5, 엑스박스 원(XBOX ONE), 엑스박스 시리즈 X|S(Xbox Series X|S), 그리고 PC 플랫폼에서 만나볼 수 있게 될 전망이다. - Copyright 조선비즈 & - \n",
            "\n",
            "Topic # 5 -----------------------------\n",
            "U+콕 내 동영상 리뷰 서비스를 소개하는 직원들의 모습. [LG유플러스 제공] LG유플러스가 자사 데이터 커머스 플랫폼 'U+콕'에서 보다 간편하고 생생하게 사용 후기를 공유할 수 있도록 '동영상 리뷰' 서비스를 강화한다. LG유플러스는 리뷰 마케팅 솔루션 기업 '인덴트코퍼레이션'과 제휴를 맺고 U+콕 내 동영상 리뷰 서비스를 론칭한다고 6일 밝혔다. 인덴트코퍼레이션은 국내 최초로 인공지능(AI) 챗봇을 활용해 상품의 실물이 포함된 생생한 동영상 포맷의 리뷰를 수집하는 리뷰 마케팅 솔루션 '브이리뷰'(VREVIEW)를 운영하고 있다. LG유플러스는 인덴트코퍼레이션과의 제휴를 통해 기존 동영상 리뷰를 더욱 간편화 했다. 기존에는 고객이 U+콕 앱 또는 웹에 접속해 리뷰를 작성하거나 동영상을 업로드해야 하는 번거로움이 있었지만, 이제는 영상을 촬영한 후 카카오톡 챗봇에 전송만 하면 된다. 예컨대 상품 배송이 완료되면 U+콕이 카카오톡 챗봇 '유플러스콕 쇼핑리뷰'가 고객에 배송완료 알림톡을 자동 전송하는데, 브이리뷰 솔루션이 적용됨에 따라 고객이 실제 제품을 사용하는 영상을 카카오톡 챗봇으로 보내면 U+콕에 영상 리뷰가 자동 게시되는 식이다. LG유플러스는 실제 고객의 생생한 사용 경험을 제공함으로써 소비자들의 구매 실패율을 최소화하고 반품율도 획기적으로 줄여 U+콕에 입점한 중소기업들이 혜택을 볼 것으로 기대하고 있다. LG유플러스는 향후 브이리뷰와 영상 리뷰에 AI 마케팅 기술을 접목해 광고 콘텐츠 선별 및 제작 과정까지 자동화로 집행할 수 있는 자동화 마케팅 플랫폼도 추가 구축할 계획이다. U+콕 이용을 원하는 고객은 원스토어와 구글 플레이스토어, 애플 앱스토어에서 U+콕 앱을 내려 받거나 U+콕 웹에서 이용 가능하다. 김태훈 LG유플러스 광고사업단장(상무)는 \"기존 구매자의 실제 체험 리뷰가 상품구매 의사결정에 많은 영향을 끼치는 만큼, U+콕은 상품에 대한 보다 정확하고 생생한 리뷰를 제공해 고객 만족도를 높여 나갈 예정\"이라며 \"향후 품질과 기능을 지속 개선해 고객이 매일 사용하고 싶은 커머스 플랫폼으로 성장할 것\"이라고 말했다. 한편 U+콕은 전문 MD가 직접 소싱한 고퀄리티 상품을 빅데이터 기반으로 고객에게 1:1 맞춤형으로 제안하는 모바일 쇼핑 플랫폼이다. 정상가 대비 최대 94% 할인된 최저가로 제공한다. 지난해 말 기준 U+콕의 누적 이용자 수는 530만명을 기록했다. U+콕은 브이리뷰 도입을 기념해 다양한 프로모션을 진행한다. 먼저 이날(6일)부터 다음달 23일까지 동영상 리뷰를 등록하는 모든 고객에게 5% 할인 쿠폰을 지급한다. 또 이벤트 종료 후 동영상 리뷰를 가장 많이 작성한 '동영상 리뷰 왕' 20명과 가장 유용하고 우수한 리뷰를 작성한 '베스트 동영상' 30명을 선정해 백화점상품권을 증정할 예정이다. 박혜림 기자 \n",
            "LG유플러스 모델들이 데이터 커머스 플랫폼 'U+콕' 내 신설된 동영상 리뷰 서비스를 소개하고 + LG유플러스는 리뷰 마케팅 솔루션 기업 인덴트코퍼레이션과 제휴를 맺고 자사 데이터 커머스 플랫폼 U+콕 내 동영상 리뷰 서비스를 출시한다고 6일 밝혔다. 인덴트코퍼레이션은 국내 최초로 인공지능(AI) 챗봇을 활용해 상품의 실물이 포함된 생생한 동영상 포맷의 리뷰를 수집하는데 최적화된 리뷰 마케팅 솔루션 '브이리뷰(VREVIEW)'를 운영하고 있다. U+콕은 상품 배송이 완료되면 카카오톡 챗봇으로 고객에 배송완료 알림톡을 자동 전송하는데, 브이리뷰 솔루션이 적용됨에 따라 고객이 실제 제품을 사용하는 영상을 카카오톡 챗봇으로 보내면 U+콕에 영상 리뷰가 자동 게시된다. 기존에는 고객이 U+콕 앱 또는 웹에 접속해 리뷰를 작성하거나 동영상을 업로드해야 하는 번거로움이 있었지만, 이제는 영상을 촬영한 후 카카오톡 챗봇에 전송만 하면 된다. LG유플러스는 실제 고객의 생생한 사용 경험을 제공함으로써 소비자들의 구매 실패율을 최소화하고 반품율도 획기적으로 줄여 U+콕에 입점한 중소기업들이 혜택을 볼 것으로 기대하고 있다. U+콕은 브이리뷰 도입을 기념해 다양한 프로모션을 진행한다. 먼저 3월 6일부터 4월 23일까지 동영상 리뷰를 등록하는 모든 고객에게 5% 할인 쿠폰을 지급한다. 또한 이벤트 종료 후 동영상 리뷰를 가장 많이 작성한 '동영상 리뷰 왕' 20명과 가장 유용하고 우수한 리뷰를 작성한 '베스트 동영상' 30명을 선정해 백화점상품권을 증정할 예정이다. LG유플러스는 향후 브이리뷰와 영상 리뷰에 AI 마케팅 기술이 접목하여 광고 콘텐츠 선별 및 제작 과정까지 자동화하여 집행할 수 있는 자동화 마케팅 플랫폼도 추가 구축할 계획이다. U+콕 이용을 원하는 고객은 원스토어와 구글 플레이스토어, 애플 앱스토어에서 'U+콕' 앱을 내려 받거나 U+콕 웹에서 이용 가능하다. 김태훈 LG유플러스 광고사업단장(상무)는 \"기존 구매자의 실제 체험 리뷰가 상품구매 의사결정에 많은 영향을 끼치는 만큼, U+콕은 상품에 대한 보다 정확하고 생생한 리뷰를 제공해 고객 만족도를 높여 나갈 예정\"이라며, \"향후 품질과 기능을 지속 개선하여 고객이 매일 사용하고 싶은 커머스 플랫폼으로 성장할 것\"이라고 말했다. 한편 U+콕은 전문 MD가 직접 소싱한 상품을 빅데이터 기반으로 고객에게 1:1 맞춤형으로 제안하는 모바일 쇼핑 플랫폼이다. 회사에 따르면 이곳 상품은 정상가 대비 최대 94% 할인된 가격으로 제공되며 지난해 말 기준 U+콕의 누적 이용자 수는 530만명을 기록했다.\n",
            " LG유플러스는 리뷰 마케팅 솔루션 기업 '인덴트코퍼레이션'과 제휴를 맺고 자사 데이터 커머스 플랫폼 'U+콕' 내 동영상 리뷰 서비스를 론칭한다고 6일 밝혔다. 인덴트코퍼레이션은 국내 최초로 인공지능(AI) 챗봇을 활용해 상품의 실물이 포함된 생생한 동영상 포맷의 리뷰를 수집하는데 최적화돼 있는 리뷰 마케팅 솔루션 '브이리뷰(VREVIEW)'를 운영하고 있다. LG유플러스가 리뷰 마케팅 솔루션 기업 '인덴트코퍼레이션'과 제휴를 맺고 자사 데이터 커머스 플랫폼 'U+콕' 내 동영상 리뷰 서비스를 론칭한다. [사진제공=LG유플러스] U+콕은 상품 배송이 완료되면 카카오톡 챗봇(카카오톡 채널 '유플러스콕 쇼핑리뷰')로 고객에 배송완료 알림톡을 자동 전송한다. 브이리뷰 솔루션이 적용됨에 따라 고객이 실제 제품을 사용하는 영상을 카카오톡 챗봇으로 보내면 U+콕에 영상 리뷰가 자동 게시된다. 기존에는 고객이 U+콕 앱 또는 웹에 접속해 리뷰를 작성하거나 동영상을 업로드해야 하는 번거로움이 있었지만, 이제는 영상을 촬영한 후 카카오톡 챗봇에 전송만 하면 된다. LG유플러스는 실제 고객의 생생한 사용 경험을 제공함으로써 소비자들의 구매 실패율을 최소화하고 반품률도 획기적으로 줄여 U+콕에 입점한 중소기업들이 혜택을 볼 것으로 기대하고 있다. U+콕은 브이리뷰 도입을 기념해 다양한 프로모션을 진행한다. 이날부터 오는 4월 23일까지 동영상 리뷰를 등록하는 모든 고객에게 5% 할인 쿠폰을 지급한다. 또한 이벤트 종료 후 동영상 리뷰를 가장 많이 작성한 '동영상 리뷰 왕' 20명과 가장 유용하고 우수한 리뷰를 작성한 '베스트 동영상' 30명을 선정해 백화점상품권을 증정할 예정이다. LG유플러스는 향후 브이리뷰와 영상 리뷰에 AI 마케팅 기술이 접목하여 광고 콘텐츠 선별 및 제작 과정까지 자동화해 집행할 수 있는 자동화 마케팅 플랫폼도 추가 구축할 계획이다. U+콕 이용을 원하는 고객은 원스토어와 구글 플레이스토어, 애플 앱스토어에서 'U+콕' 앱을 내려받거나 U+콕 웹에서 이용할 수 있다. 김태훈 LG유플러스 광고사업단장(상무)은 \"기존 구매자의 실제 체험 리뷰가 상품구매 의사결정에 많은 영향을 끼치는 만큼, U+콕은 상품에 대한 보다 정확하고 생생한 리뷰를 제공해 고객 만족도를 높여 나갈 예정\"이라며, \"향후 품질과 기능을 지속 개선해 고객이 매일 사용하고 싶은 커머스 플랫폼으로 성장할 것\"이라고 말했다. 오수연 기자  \n",
            "\n",
            "Topic # 6 -----------------------------\n",
            "서상민 클레이튼 재단 이사장이 6일 서울 강남구 EG빌딩에서 열린 기자 간담회에서 발표하고 있다. 데일리안 민단비자 클레이튼 재단이 \"플랫폼 자체가 벌어들이는 매출을 확대해 인플레이션 없이도 생태계가 운영될 수 있는 모습으로 발전하겠다\"고 계획을 밝혔다. 블록체인 플랫폼 '클레이튼' 운영 방향성은 명확하지만 전술이 부족하다는 평가가 나온다. 클레이튼 재단은 6일 강남구 EG빌딩에서 기자 간담회를 열고 \"토큰을 계속 발행하기보단 (플랫폼) 매출을 통해 클레이튼을 운영할 수 있는 생태계로 발전하겠다\"고 말했다. 플랫폼 수익을 다변화해 매출을 늘린 만큼 인플레이션을 줄이고 플랫폼 자체 수익만으로 생태계를 운영하겠다는 의미다. 다만 매출 확대에 대한 구체적인 방안은 나오지 않았다. 블록체인 대중화를 이끌어낼 수 있는 킬러앱에 대한 대답은 \"메타버스나 게임을 단기적으로는 킬러앱으로 생각하고 있다\"는 것에 그쳤다. 메타버스에 대해서 클레이튼 재단 관계자는 \"게임, NFT 등을 하나로 모으는 것을 파트너사와 준비하고 있다\"며 \"실제 서비스와 연결되면 많은 부분에서 시너지가 날 수 있을 것\"이라고 말했다. 클레이튼이 개발 중인 메타버스는 상반기 알파버전 공개를 목표로 하고 있다. 클레이 발행량을 점차 줄여나가는 디플레이션은 \"당연히 달성 가능하다\"고 자신했다. 최근 클레이튼 재단은 거버넌스카운슬(주요 의사결정 협의 운영체, GC) 투표에 따라 클레이 미유통 물량 약 74억8000개의 73%인 52억8000개를 소각하기로 결정했다. 나머지 20억여개는 펀드를 통해 클레이 가치 제고에 활용하겠다는 방침이다. 재단은 '클레이튼성장펀드(KGF)'와 '클레이튼향상리저브(KIR)'를 유망한 프로젝틀르 발굴하는 '클레이튼 커뮤니티 펀드(KCF)'로 통합하고, 재단 운영과 신규 GC 유치 등을 맡는 '클레이튼 재단 펀드(KFF)'도 편성한다. 퍼미션리스(Permissionless) 블록체인으로의 전환도 재차 강조했다. 선별된 소수의 기업이 아닌 누구나 블록체인 네트워크 검증인으로 참여할 수 있게 해 네트워크 보안을 강화하겠다는 방침이다. 클레이튼 관계자는 \"자격을 갖추면 누구나 (의사결정에) 참여할 수 있다\"며 \"여기서 말하는 자격은 스테이킹 양과 클레이에 대한 기여 정도 등으로 정량화 할 수 있는 요소는 최대한 정량화 할 것\"이라고 말했다. 한편 카카오로부터의 독립에 대해서는 \"재무적으로 카카오와 완전히 독립된 비영리법인\"이라며 \"앞으로 클레이튼 운영은 재단이 전담하며 기민성과 유연성을 높일 것\"이라고 강조했다. 클레이튼은 그간 카카오 계열사 소속으로서 의사결정 과정에서 엄격한 법무 검토를 거쳐야 하는 등 규제를 받아왔으나 이번 개편으로 사업 확장에 박차를 가할 수 있을 것으로 보고 있다. 클레이튼은 2019년부터 카카오의 블록체인 계열사 그라운드X가 운영해 왔다가 지난해 초 카카오의 다른 계열사이자 싱가포르 법인인 크러스트로 모두 이관됐다. 이후 최근 조직 개편을 통해 크러스트의 주요 인력이 클레이튼재단으로 이동하면서 운영 주체가 재단으로 변경됐다.\n",
            " 클레이튼 블록체인이 카카오에서 독립했다. 이달부터 카카오와 지분관계가 없는 싱가포르 소재 클레이튼 재단이 클레이튼의 개발과 운영 지원을 맡는다. 재단은 카카오와 분리되면서 보다 유연하고 기민한 의사결정이 가능해질 것으로 기대했다. 거버넌스(지배구조) 변화로 클레이튼 생태계 확대에도 속도를 내겠다는 포부다. 서상민 클레이튼 재단 이사장은 6일 클레이튼의 로드맵을 소개하는 기자간담회를 통해 \"클레이튼 재단은 카카오와 재무적·법적으로 완전히 독립된 비영리 법인으로, 이제 재단이 클레이튼 개발과 운영을 이끌게 될 것\"이라고 밝혔다. 서상민 클레이튼 재단 이사장이 6일 기자간담회에서 클레이튼 로드맵을 설명하고 있다. 클레이튼은 카카오의 블록체인 기술 자회사 그라운드엑스가 개발해 2019년 6월 론칭한 국내 대표 블록체인 플랫폼이다. 지난해 1월 카카오의 글로벌 블록체인 사업 자회사 크러스트유니버스로 운영이 이관됐다가, 이달부터 클레이튼 재단이 맡아 운영하게 됐다. 출범 4년 만에 카카오로부터 독립하게 된 셈이다. 기존보다 유연하고 기민하게 클레이튼을 운영할 수 있다는 점은 가장 기대되는 부분이다. 서 이사장은 \"카카오가 한국에서 은행, 간편결제 등 다양한 비즈니스를 하다 보니, (카카오 자회사에서) 블록체인 메인넷이나 토큰 이코노미를 설계할 때 카카오 다른 사업과 관련된 법·규제까지 검토하며 움직일 수밖에 없었다\"며 \"재단이 클레이튼을 맡으면 블록체인 관련 법·규제 사항만 검토하면 되니까, 더 유연하고 속도감 있게 운영할 수 있을 것\"이라고 기대했다. 또 \"카카오 공동체 회사들도 (이해상충 문제 등에서 자유로워져) 더 적극적으로 기여할 수 있게 될 것\"이라며 \"결과적으로 클레이튼 독립이 생태계 활성화에 도움이 될 것\"이라고 전망했다. 다만, 앞으로도 클레이튼 의사결정 협의체 '거버넌스 카운슬(GC)'에 소속된 카카오, 카카오페이, 카카오엔터테인먼트, 그라운드엑스 등 카카오 공동체 회사들은 GC 멤버로 운영 관련 의사결정 과정에 참여하고 서비스 개발에 기여한다. 거버넌스와 함께 토큰 이코노미에도 변화가 생겼다. 총 발행량이 감소하는 '디플레이션' 경제를 구축하기 위해 재단 보유의 리저브 물량을 대량 소각(폐기)했다. 클레이튼의 기반 토큰인 클레이의 현재 발행량은 총 110억개 가량인데, 재단이 보유하고 있던 74억개 중 52억개를 소각했다. 나머지 20억개도 3년 내 용처를 찾지 못하면 소각할 예정이다. 서 이사장은 \"많은 블록체인들이 토큰을 생성해 운영에 쓰는데, 이런 방식은 건강한 토큰 이코노미가 아니라고 본다\"며 \"클레이의 용처를 늘려, 클레이튼은 인플레이션 없이 자체 수익만으로 운영되도록 하는 게 목표\"라고 강조했다. 임유경 ()\n",
            "한빛소프트는 PC 온라인 스타일리시 리듬댄스게임 '오디션'에서 '출석의 계단' 이벤트를 오는 23일까지 진행한다. '오디션'은 오는 23일까지 게임 접속하는 모든 유저에게 특별 제작한 손 액세서리 '돌아온 사랑의 부메랑(30일)'을 지급한다. 이번 출석 이벤트는 15회까지 진행할 수 있으며 기본 출석 15회 달성 보상품 외에 연속 출석 7일과 14일을 달성할 경우 추가 보상품을 지급한다. 15회 출석을 완료한 유저 가운데 추첨을 통해 100명에게 각각 1만5000 캐시를 증정한다. 복귀 유저의 경우 더욱 특별한 혜택을 누릴 수 있다. 복귀 유저에게 경험치 10% 증가 효과를 지닌 전용 마크가 지급된다. 기본 출석체크 외에 복귀 유저 전용 출석체크도 추가로 진행한다. '퍼즐앤드래곤' '죠죠의 기묘한 모험'과 컬래버 그라비티 네오싸이언은 모바일 퍼즐게임 '퍼즐앤드래곤'에서 6일부터 '죠죠의 기묘한 모험'과 컬레버레이션을 진행한다. 이번 컬래버는 오는 20일 오전 9시 59분까지 진행하며 '마법석10개! 죠죠의 기묘한 모험 에그'에서 '죠나단 죠스타', '디오 브란도' 등 총 23종을 만나볼 수 있다. 같은 기간 동안 콜라보 던전 4종도 오픈한다. '죠죠의 기묘한 모험' 컬래버 던전을 클리어하면 '죠죠의 기묘한 모험 콜라보 디스크(금), (은), (동)'이 드롭된다. 이와 함께 스페셜 던전에 '엔리코 푸치 강림!', 3인 플레이 전용 던전 '협력! 엔리코 푸치 강림!'이 출현한다. 보스를 쓰러뜨리면 '엔리코 푸치'를 확정 보상으로 얻을 수 있다. '뮤 아크엔젤2' '영광의 축제' 이벤트 선 웹젠(대표 김태영)은 모바일 MMORPG '뮤 아크엔젤2'에서 '영광의 축제' 이벤트를 선보인다. '영광의 축제' 콘텐츠에서는 '불꽃놀이'로 '혼옥', '행운의 보석' 등의 성장 아이템 또는 '날개'와 '탈 것'으로 교환되는 '축제 포인트' 획득이 가능하다. 축제 기간에만 판매되는 특가 패키지와 누적된 충전 금액에 따라 '마법서 코어' 등의 풍성한 혜택을 부여한다. 웹젠은 '뮤 아크엔젤2' 이용자들의 의견에 귀 기울이고 운영진과의 소통을 강화하기 위해 '최애 성물 이벤트'를 진행하고 있다. '크루세이더 퀘스트' 9일 '베르세르크 컬래버레이션' 이벤트 엔에이치엔(대표 정우진, 이하 NHN)은 모바일 RPG '크루세이더 퀘스트'에서 오는 9일 '베르세르크 컬래버레이션' 이벤트를 시작한다. '베르세르크'는 1989년 연재 시작 후 글로벌 5500만 이상 누적 발행되며 현재까지 전 세계적으로 많은 팬을 보유한 불후의 다크·판타지 만화다. 이번 컬래버레이션을 통해 원작에 등장하는 캐릭터 8명이 한시적으로 게임 내 캐릭터로 구현된다. 컬래버레이션 기념 이벤트도 진행한다. 오는 9일부터 2주간 ▲스페셜 던전 이벤트와 ▲전용 미션 이벤트, ▲한정 퀘스트 이벤트, ▲출석 보상 이벤트가 시작된다. '크루세이더 퀘스트'는 서비스 3000일을 맞아 '★4 하슬라 모든 용사 선택권' 쿠폰을 제공 중이다. \n",
            "\n"
          ]
        }
      ]
    },
    {
      "cell_type": "markdown",
      "source": [
        "#### 키워드 요약, 문장 요약을 위해 토픽 7개만 들어있는 리스트 만들기"
      ],
      "metadata": {
        "id": "AYA0arnhvAYz"
      }
    },
    {
      "cell_type": "code",
      "source": [
        "#content만 담겨있는 list\n",
        "top7_topic_contents = []\n",
        "\n",
        "for topic in range(len(doc_topic_df['Topic'].unique())):\n",
        "    top_pr_topics = doc_topic_df[doc_topic_df['Topic'] == topic].sort_values(by='Percentage', ascending=False)\n",
        "    content1 = top_pr_topics['content'].iloc[0]\n",
        "    top7_topic_contents.append([content1])\n",
        "\n",
        "print(top7_topic_contents) "
      ],
      "metadata": {
        "colab": {
          "base_uri": "https://localhost:8080/"
        },
        "id": "dqKQ1zQgu8Ec",
        "outputId": "c31ea3dc-a9e2-4382-9f14-34a8ebcc486d"
      },
      "execution_count": 24,
      "outputs": [
        {
          "output_type": "stream",
          "name": "stdout",
          "text": [
            "[['기사내용 요약 원작 \\'세븐나이츠\\' 정식 계승…내년 상반기 CBT [서울=뉴시스]최은수 기자 = 넷마블은 모바일 역할수행게임(RPG) \\'세븐나이츠\\'를 정식 계승한 리메이크 작품 \\'더 세븐나이츠(The SevenKnights)\\'를 공개했다고 6일 밝혔다. \\'세븐나이츠\\'의 9주년을 기념해 공개된 더 세븐나이츠는 원작을 계승한 리메이크 프로젝트다. 이용자들이 가장 많이 즐겼던 시점의 재미를 다시 한번 선사하기 위해 원작의 장점은 계승, 발전시키고 부족한 부분은 최근 트렌드에 맞게 개선하고 보완할 계획이다 더 세븐나이츠는 기존의 스토리와 캐릭터성은 최대한 유지하는 동시에 새로운 재미를 제공하기 위해 준비 중이며, 내년 상반기 비공개베타테스트(CBT) 진행을 목표로 개발에 전념하고 있다. 이 프로젝트는 \\'세븐나이츠\\'부터 \\'세븐나이츠2\\'까지 오랜 기간 경험과 노하우를 쌓은 개발진이 이끌고 있으며, 구체적인 게임성 및 향후 일정에 대해서는 \\'세븐나이츠\\' 공식 커뮤니티를 통해 공지될 예정이다. 넷마블은 리메이크 프로젝트 공개 소식과 함께 더 세븐나이츠의 티저 영상을 공개했다. 원작의 사황 중 한명인 \\'에이스\\'가 검술을 연마하는 모습이 담긴 영상은 고퀄리티 카툰 스타일 그래픽으로 연출돼 기대감을 높이고 있다. 넷마블 관계자는 \"오랜 기간 \\'세븐나이츠\\'를 사랑해주신 이용자분들에게 원작의 감동을 드리기 위해 리메이크 프로젝트 개발에 최선을 다하고 있다\"며 \"빠른 시일 내에 구체적인 게임성에 대해 안내해드릴 수 있도록 노력할 예정이며, 앞으로 많은 응원 부탁드린다\"고 전했다. 한편, \\'세븐나이츠\\'는 지난 2014년 3월에 출시된 수집형 RPG로 화려한 그래픽과 연출, 500여종 이상의 캐릭터를 모으고 성장하는 재미를 갖춘 게임으로 국내뿐만 아니라 글로벌 시장에서 큰 성공을 기록한 바 있다. ☞공감언론 뉴시스 '], ['연결기준 내부회계관리제도 확대 이슈가 시장 화두로 떠오르면서 대응을 위한 기업의 회계 프로세스 재정비 작업이 분주하다. 2019년 신(新)외부감사법 도입으로 내부회계관리가 검토 수준에서 감사 수준으로 상향 적용되면서 새로운 환경에 적응하느라 어려움을 겪어온 기업에는 또 다른 숙제가 생겼다. 내년부터는 연결자산 총액 5000억원 이상 상장사도 감사 대상에 포함된다. 올해 2조원 이상 상장사에 이어 확대 적용된다. 연결 내부회계관리제도를 통한 그룹사 수준의 통제를 받게 되는 기업이 크게 증가할 전망이다. 제도의 안정적 운영과 현장의 혼란을 최소화하기 위한 대책 마련이 시급해졌다. 무엇보다 연결결산절차 및 연결시스템의 통제 구축과 운영을 위한 필수 요소가 한둘이 아닌 만큼 주의가 요구된다. 이런 가운데 더존비즈온 차세대 통합 연결결산시스템 \\'EFIS 10\\'이 주목받고 있다. 더존비즈온은 EFIS 10으로 기업 연결내부회계관리제도 대응 지원을 강화, 연결결산시스템 전환 레퍼런스 기업 150곳을 확보했다고 밝혔다. ◇그룹 자회사에 대한 내부통제 구축·운영 필수 연결내부회계제도 대응을 위해서는 그룹 수준의 통제 정비와 다수 자회사에 대한 내부통제 구축 및 운영이 필요하다. 연결절차와 연결시스템 통제 구축 및 운영의 핵심과제에 대한 대응책도 마련해야 한다. 내부통제 구성요소인 통제환경, 위험평가, 통제활동, 정보 및 의사소통, 모니터링 등 각각의 영역에 대해 개별 법인 단위가 아닌 연결재무제표 기준 그룹 차원의 대응에 나서야 한다는 점도 과제다. 다만 상장사의 최종 재무실적인 연결재무제표가 여전히 엑셀에 의해 수기로 작성되거나 연결시스템의 부문 활용을 통한 수기결산과 병행돼 작성되는 경우가 많다. 이 경우 \\'수동통제(EUC)\\' 항목으로 분류돼 각종 추가 통제활동이 원활하게 이뤄지기 어려워지기 때문에 연결내부회계 대응에 최적화된 연결시스템을 도입하거나 기존 시스템의 고도화 작업이 필요하다. 계열사의 재무데이터를 합산하고 연결조정을 통해 결산해야하는 그룹사 연결결산 업무는 권한과 책임의 명확한 구분에 따라 이뤄져야 한다. 이에 따라 연결결산통제를 위한 연결시스템은 권한 관리, 프로세스통제 및 자동화 통제(ITAC)가 적용될 수 있어야 한다. 권한 관리의 경우 법인 담당자와 연결담당자의 구분은 물론, 법인 관리자 및 연결관리자를 각각 세분화해 구분해야 한다. 연결조정 시스템을 통한 계산 및 전표 생성, 전표 승인에 대한 권한도 모두 구분 관리돼야 한다. 연결결산 전 과정에서 데이터의 수정 및 변경은 시스템과 적절한 권한자에 의해 통제돼 데이터의 정합성을 확보할 수 있어야 한다. 자동화 통제는 시스템의 자동계산 및 자동 전표처리를 통해 정확성을 확보하고 로직의 정확성을 바탕으로 수동통제(EUC)를 최소화할 수 있어야 한다. 특히 연결시스템은 그룹 관점에서 IT 일반통제(ITGC) 평가 범위에 반드시 추가로 고려돼야 하는 항목으로 프로그램 개발부터 변경, 배포, 운영 및 접근관리에 대한 전반적인 대응이 가능한 시스템이어야 한다는 점에 주목해야 한다. ◇더존 EFIS 10으로 연결결산·IT일반통제 대응 더존비즈온은 차세대 연결회계솔루션 EFIS 10을 앞세워 기업의 연결내부회계관리제도 대응을 돕고 있다. 그룹사 경영관리에 최적화된 EFIS 10은 복잡한 그룹 조직구조의 유연한 관리로 그룹사 연결재무제표에 대한 대외공신력을 확보할 수 있는 시스템이다. 새로운 모범규준을 적용해야 하는 기업의 당면 과제에 맞설 전략에 관심이 집중되고 있는 가운데 첨단 ICT 솔루션을 통해 방향성을 제시하고 있다는 평가를 받는다. EFIS 10은 연결결산통제 대응으로 주요 업무통제 및 권한제어 그룹 회계정책 데이터 취합 데이터 이관 연결조정 통제 전표결재 및 결산마감 기준정보관리 등을 제공하고 있다. 또한 연결결산 IT 일반통제(ITGC) 대응을 위해 접근보안 프로그램 변경 IT운영 프로그램 개발 등의 항목을 구분해 적용하고 있다. EFIS 10은 전 업권을 넘나들며 각종 레퍼런스를 쌓고 있다. 150곳에 달한다. 보다 다양한 기업들이 강화된 내부회계에 대응할 수 있도록 지원하는 것을 목표로 하고 있다. 국내 현대자동차그룹 역시 강화된 내부회계 대응을 위해 2022년부터 EFIS 10을 적용, 운영하고 있다. 현대자동차그룹은 2009년부터 더존비즈온 연결결산시스템을 사용해왔으며 강화된 연결내부회계제도에 맞춰 최근 EFIS 10 재구축을 성공적으로 마쳤다. 현대자동차그룹은 현재 이를 통해 전 세계 수많은 계열법인과 통합된 결산 체계를 구축함으로써 내부회계 대응뿐만 아니라 그룹관리의 효율성까지 제고해 그룹사 전반의 신뢰도를 높이고 있다. 더존비즈온은 각종 디바이스를 통해 언제 어디서든 저렴한 비용으로 이용할 수 있는 \\'EFIS 10 클라우드 에디션\\'을 선보인다는 방침이다. EFIS 10 클라우드 에디션은 기업의 ITGC 대응은 물론 내부회계시스템과의 연계, 사이버공격 방어와 같은 다양한 서비스를 제공하는 것이 특징이다. 더존비즈온 관계자는 \"더존비즈온은 2005년부터 국제회계기준과 변화하는 경영환경에 맞춰 연결회계솔루션을 개발해오며 해당 영역을 선도하고 있다\"며 \"그룹사 경영관리에 최적화된 EFIS 10을 통해 기업이 변화한 이슈에 대응하고 연결재무제표에 대한 대외공신력을 확보할 수 있도록 지원하는 데 앞장서겠다\"고 말했다. 권혜미기자 '], ['-KT, 최종 후보 발표 \"예정대로 진행\" -사내외에선 후보 4인 일괄 사퇴설도 KT의 차기 대표이사 선출을 둘러싸고 KT 안팎에서는 당혹감이 감돈다. KT 안팎에서는 후보자 4인의 동반 사퇴설이 나도는 등 \\'신관치\\' 논란이 확산 중이다. (연합뉴스) 통신 \\'공룡\\' KT의 차기 대표이사 선출을 둘러싸고 정치권 압박이 거세자 KT 안팎에서는 당혹감이 감돈다. 예정된 일정에 변화는 없다는 게 KT 측 입장이지만 KT 안팎에서는 후보자 4인의 동반 사퇴설이 나도는 등 \\'신관치\\' 논란이 확산 중이다. KT와 정치권 등에 따르면, KT는 3월 7일 예정대로 최종 후보자 1인을 발표한다. KT 이사회는 차기 대표이사 경선에 도전한 33명 가운데 면접 대상자로 박윤영 전 KT기업부문장(사장), 신수정 KT엔터프라이즈부문장(부사장), 윤경림 KT 그룹트랜스포메이션부문장(사장), 임헌문 전 KT 매스총괄사장 등 4명을 선정했다. KT는 3월 7일 대표이사 최종 후보 1명을 확정하고 오는 29일 또는 30일 열릴 주주총회에서 새 대표이사를 정식 선임한다는 계획이다. 일각에서는 주총 연기 가능성이 거론됐지만 \"정기 주총일을 확정한 적이 없으므로 연기 여부에 대해서도 논의한 적 없다\"는 게 KT 입장이다. 다만, 통신업계에서는 KT가 예정된 차기 CEO 선출 레이스를 무사히 완주할지 의구심을 갖는 시선이 적지 않다. 앞서 주요 금융지주 회장 선출 과정에서도 유력 후보들이 석연치 않은 이유로 돌연 자진 사퇴한 사례가 있어서다. 이에 비춰, 일각에서는 후보자 4인이 동반 사퇴하고 후보를 재선정할 가능성도 거론된다. 통신업계 관계자는 \"정치권의 이례적인 반발에 이사회의 동요가 큰 것으로 안다\"고 귀띔했다. 이사회에서 3월 7일 최종 후보 1명을 낙점하더라도 KT 입장에서는 부담이 적지 않다. 정기 주총에서 캐스팅보트를 쥔 국민연금 등이 적극적으로 반대 의견을 피력한다면, 이사회가 낙점한 후보가 대표이사로 선출되더라도 앞으로 경영 행보에 제약이 불가피하다. 규제 산업인 통신업 특성상 행정부와 입법부를 동시에 적으로 돌리는 것도 차기 CEO에게는 임기 내내 부담이 될 수밖에 없다. 통신업계에서는 \\'식물 대표설\\'부터 차기 경영진 수사설까지 여러 가능성이 언급된다. 이런 이유로 우여곡절 끝에 현 4인의 후보 중 한 명이 차기 CEO로 선출되더라도 중도 낙마할 가능성이 높다는 관측이 나온다. 현 여권 유력 인사로 차기 대표이사 후보군이 재차 꾸려질 경우 인사 개입 논란은 더욱 커질 전망이다. 이번에 진행되는 KT 이사회에서는 대표이사 최종 후보 선출뿐 아니라 신규 사외이사까지 폭넓은 현안이 다뤄진다. 대표이사뿐 아니라 이사회 구성 자체가 바뀌는 만큼 회의가 길어질 것이라는 관측이 나온다. 현재 사외이사 가운데 이강철 이사가 CEO 선임 과정에 앞서 사퇴했으며 표현명, 강충구, 여은정 등 3인의 사외이사가 3월 말로 임기가 끝난다. 사내외 이사를 재선임 또는 신규 선임하려면 상법에 따라 주총 소집 결의와 안건 정보 등은 주총 개최 2주 전에는 공고해야 한다. 차기 대표 후보를 원점에서 재선정한다면 혼돈이 불가피하다. 한편, KT는 차기 수장 선출을 놓고 정치권의 공개 압박을 받는 중이다. 당초 33명의 후보군이 공개된 뒤 통신업계에서는 \"현 정부와 코드가 맞는 윤진식 전 산업부 장관이 사실상 낙점된 것 같다\"는 소문이 파다했다. 그러나 민간 기업을 경영한 경험이 전무한 데다 관료 시절 경험도 통신과 거리가 멀고, 여든을 바라보는 고령이라는 점이 결국 발목을 잡은 것으로 알려진다. 여권 출신 인사들이 줄줄이 탈락하자 정치권과 대통령실은 재차 KT를 압박했다. 국민의힘 소속 국회 과학기술정보방송통신위원회 위원들은 지난 3월 2일 \"이권 카르텔을 유지하려는 전형적인 수법\"이라며 \"구현모 대표가 윤경림 KT그룹 트랜스포메이션부문장을 자신의 아바타로 출마시키고 신수정 KT엔터프라이즈부문장을 2순위로 넣으라고 지시했다\"고 주장했다. 대통령실에서도 \"조직 내에서 모럴해저드가 일어나면 피해는 국민이 본다\"는 입장을 밝혔다. 이는 사실상 이번 KT 대표이사 선출 과정에 문제가 있다는 인식을 보여준 것으로 해석된다. 현재 4명의 후보 가운데 통신 업계에서 가장 유력하다고 평가를 받는 인물은 윤경림 사장이다. 그는 KT 출신으로 현대차로 옮겨 부사장까지 지낸 뒤 KT로 다시 와 디지털 전환을 총괄하는 조직의 수장이 됐다. 이외 신수정 부사장은 사장급인 나머지 3명에 비해 중량감이 떨어지고 박윤영 전 사장과 임헌문 전 사장은 3년 전 구현모 대표와 맞붙어 탈락한 이력이 있어 차기 CEO로 선출될 가능성은 낮다는 게 통신업계 중론이다. 정치권은 윤 사장을 두고 현대차 재직 당시 구 대표의 친형 회사 인수를 성사시킨 공으로 KT에 합류했다거나, 대표 선임 업무를 맡은 이사회 현직 멤버라는 점을 부각하며 흠집내기에 몰두하고 있다. KT 내부에서는 당혹한 기류가 역력한 가운데 정치권발 의혹에 대해서는 적극 반박했다. KT 관계자는 \"구 대표와 윤 사장은 공개 경쟁 시작 이후 심사에 영향을 미치는 모든 과정에서 배제됐다\"며 \"윤 사장은 현대차 시절 인수 투자 담당이 아니어서 구 대표 형 문제와도 무관하다\"고 밝혔다.'], ['삼성전자 스마트폰이 인도에서 샤오미를 꺾고 점유율 1위에 올랐다. \\'가성비\\' 중심에서 최근 프리미엄 수요가 확대되면서 갤럭시S와 폴더블폰 시리즈 판매량 증가가 주효했다는 평가다. 중국에 이어 전 세계 2위 스마트폰 시장인 인도는 삼성이 절대 놓쳐서는 안 되는 요충지다. 삼성은 올 들어 인도를 스마트폰 핵심 생산기지로 키우는 등 현지 공략에 전사적 역량을 집중하고 있다. ━ \\'만년 2위\\'에서 \"일시적인 현상 아닐 것\" ━ 인도 현지 모델이 삼성전자 폴더블 스마트폰을 소개하고 있다./사진=삼성전자 뉴스룸 인도 노태문 삼성전자 MX(모바일경험)사업부장(사장)은 지난달 갤럭시언팩 기자간담회에서 \"인도 스마트폰 시장에서 삼성이 1위에 오르는 것이 첫 번째 목표\"라며 현지화 전략과 프리미엄 확대로 점유율 반등을 노리겠다고 밝혔다. 노사장의 바람대로 이뤄졌다. 시장조사업체 카운터포인트리서치에 따르면 지난해 4분기 인도 스마트폰 시장에서 삼성은 20% 점유율로 샤오미(18%)를 제치고 1위를 기록했다. 전년 동기(16%) 대비 4%포인트(p) 증가했다. 인도에서 삼성이 1위에 오른 것은 2020년 3분기 이후 9분기 만이다. 인도는 \\'중국 텃밭\\'이라 불릴 정도로 중국 제조사들이 강세다. 수년간 샤오미가 1위를 지키고 나머지는 삼성·오포·비보·리얼미 등 4파전 양상이다. 삼성은 2011~2017년만 해도 인도에서 점유율 1위였지만, 2018년 샤오미에 1위를 내준 뒤 \\'만년 2위\\'에 머물러 왔다. 2020년 3분기 24% 점유율로 1위에 오르긴 했지만 곧장 샤오미에 따라잡히며 \\'깜짝 반등\\'에 그쳤다. 업계에선 이번 1위 탈환이 일시적인 현상이 아닐 것으로 본다. 4분기는 신제품 출시가 없어 \\'신작 효과\\'가 없었던 데다, 프리미엄 제품의 꾸준한 판매량 증가가 이어져서다. 삼성전자 관계자는 \"지난해 갤럭시S와 폴더블폰 등이 인도에서 좋은 반응을 얻었다\"며 \"브랜드 이미지 제고 등 프리미엄 시장 확대를 위한 전략이 효과를 보고 있다\"고 설명했다. 실제 중저가 중심이던 인도는 최근 프리미엄폰에 대한 소비자의 관심이 높아지는 추세다. 지난달 출시한 갤럭시S23은 현지 사전예약 첫날 14만대가 판매되며 기록을 세웠다. 전작인 갤럭시S22보다 2배 많은 수준이다. 금액으로 따지면 1억6900만달러(약 2122억원)에 달한다. ━ 생산기자 인도에 전략 강화 ━ 삼성이 인도 시장을 사수해야 하는 이유는 분명하다. 인도는 미국을 꺾고 전 세계 2위 규모의 스마트폰 시장으로 성장한 만큼 글로벌 제조사들이 주목하는 곳이다. 인도 스마트폰 시장은 2016년부터 2021년까지 성장했다. 올해는 10% 가량 성장해 약 1억7500만대의 수요가 예상된다. 최근 몇 년 새 글로벌 스마트폰이 시장이 침체기에 접어든 것을 고려하면 더 고무적이다. 삼성은 인도를 스마트폰 핵심 생산 기지로 키우기 위해 차기 폴더블폰(갤럭시Z플립5·폴드5) 초도 물량부터 인도에서 생산하기로 했다. 그간 삼성은 갤럭시S, 폴더블폰 등 플래그십 제품은 경북 구미와 베트남 공장에서 초도 물량을 만들고 일정 기간 이후 일부를 인도로 이전·생산했다. 회사를 대표하는 모델이기 때문에 작은 품질 문제라도 발생할 경우 치명적일 수 있어서다. 생산 전략에 변화를 주면서까지 인도 시장에 승부수를 띄운 것이다. 부품 업계 한 관계자는 \"현지 생산은 단가를 줄일 수 있어 삼성 입장에선 프로모션 등으로 실구매가를 낮출 수 있고 현지화 전략에도 좋다\"며 \"중국 대신 인도를 생산 기지로 선택한 것도 단기간에 가장 효과를 볼 수 있는 시장이 인도이기 때문\"이라고 말했다. 현재 중국 스마트폰 시장에서 삼성 점유율은 0%대에 머물러 있다. 중국 시장을 키우기 위해선 상대적으로 많은 시간과 비용이 필요한 만큼 인도 시장에 우선적으로 집중해 효율성을 높이겠다는 전략인 것이다. 김승한 기자 <저작권자 \\'돈이 보이는 리얼타임 뉴스\\' 머니투데이, 무단전재 및 재배포 금지>'], ['신세계아이앤씨가 아시아 시장에서 독점 유통하는 네오위즈의 새 콘솔 플랫폼 게임 P의 거짓. [신세계아이앤씨 제공] 신세계아이앤씨가 아시아 시장에서 네오위즈의 하반기 최대 기대작으로 손꼽히는 콘솔 패키지 게임을 독점 유통한다. 신세계아이앤씨는 네오위즈의 신작 게임 \\'P의 거짓\\'(Lies of P) 콘솔 패키지를 아시아 지역에 독점 유통한다고 6일 밝혔다. 네오위즈의 P의 거짓은 고전 동화 \\'피노키오\\'(Pinocchio)를 각색한 액션 RPG 게임이다. 콘솔 플랫폼인 플레이스테이션(PS) 4·5, Xbox One, Xbox Series X|S와 PC 플랫폼을 통해 오는 8월 글로벌 시장에 동시 출시 예정이다. 신세계아이앤씨는 네오위즈와 독점 유통 계약을 체결하고, 오는 8월부터 국내를 포함한 일본, 대만 등 아시아 전역에 플레이스테이션(PS) 4·5용 P의 거짓 콘솔 패키지를 유통한다. 신세계아이앤씨는 게임 등 IT 유통 사업을 통해 탄탄하게 구축해온 온·오프라인 유통 채널 및 운영 노하우를 바탕으로 콘솔 패키지 판매를 확대한다는 계획이다. 신세계아이앤씨는 한국닌텐도㈜의 \\'닌텐도 스위치\\', 소니 인터랙티브 엔터테인먼트의 \\'플레이스테이션\\' 등 인기 콘솔 및 타이틀의 국내 유통 총판 사업을 담당하고 있다. 이 밖에도 블리자드, 포켓몬 등 주요 글로벌 게임사와 함께 인기 게임 IP 상품 판매, 브랜드 스토어 운영 등 게임 IP 라이선스 사업을 전개하는 등 관련 사업을 확대하고 있다. 정준 신세계아이앤씨(신세계I&C) 영업혁신담당은 \"네오위즈와 손잡고 선보일 \\'P의 거짓\\'은 올 하반기 대작으로 손꼽히는 트리플 A급 게임으로, 최근 글로벌 시장에서 콘솔 플랫폼 기반 게임이 확대되는 추세인 만큼 아시아 전역에서 게임 유저들의 호응을 받을 것이라 기대한다\"며 \"신세계아이앤씨가 그 동안 탄탄하게 다져온 유통 채널과 노하우를 기반으로 국내를 넘어 아시아 시장 전역으로 유통 커버리지를 확대함과 동시에 게임 IP, 퍼블리싱 등 게임 분야 사업 포트폴리오까지 확장하며 지속적으로 성장하고자 하는 목표를 갖고 있다\"라고 말했다. 박성준 네오위즈 본부장은 \"전문적인 온·오프라인 유통 경험을 가진 신세계아이앤씨는 아시아 게임 시장에 P의 거짓을 선보이기 위한 최적의 파트너라 생각한다\"며 \"앞으로 신세계아이앤씨와 긴밀히 협업해 P의 거짓만의 독보적인 재미와 뛰어난 게임성을 이용자들에게 적극 알리겠다\"고 말했다. 한편, P의 거짓은 고전 동화 피노키오를 각색해 탄생한 소울라이크 싱글플레이 액션 RPG로 출시 전부터 주목 받았다. 무기 조합 등 차별화된 전투 시스템이 가장 큰 특징이며, 높은 게임성을 인정받아 \\'게임스컴 2022\\'에서 한국 게임사 최초로 3관왕을 수상하며 글로벌 기대작으로 부상했으며, 올해 8월 출시를 앞두고 있다. 박혜림 기자 '], ['U+콕 내 동영상 리뷰 서비스를 소개하는 직원들의 모습. [LG유플러스 제공] LG유플러스가 자사 데이터 커머스 플랫폼 \\'U+콕\\'에서 보다 간편하고 생생하게 사용 후기를 공유할 수 있도록 \\'동영상 리뷰\\' 서비스를 강화한다. LG유플러스는 리뷰 마케팅 솔루션 기업 \\'인덴트코퍼레이션\\'과 제휴를 맺고 U+콕 내 동영상 리뷰 서비스를 론칭한다고 6일 밝혔다. 인덴트코퍼레이션은 국내 최초로 인공지능(AI) 챗봇을 활용해 상품의 실물이 포함된 생생한 동영상 포맷의 리뷰를 수집하는 리뷰 마케팅 솔루션 \\'브이리뷰\\'(VREVIEW)를 운영하고 있다. LG유플러스는 인덴트코퍼레이션과의 제휴를 통해 기존 동영상 리뷰를 더욱 간편화 했다. 기존에는 고객이 U+콕 앱 또는 웹에 접속해 리뷰를 작성하거나 동영상을 업로드해야 하는 번거로움이 있었지만, 이제는 영상을 촬영한 후 카카오톡 챗봇에 전송만 하면 된다. 예컨대 상품 배송이 완료되면 U+콕이 카카오톡 챗봇 \\'유플러스콕 쇼핑리뷰\\'가 고객에 배송완료 알림톡을 자동 전송하는데, 브이리뷰 솔루션이 적용됨에 따라 고객이 실제 제품을 사용하는 영상을 카카오톡 챗봇으로 보내면 U+콕에 영상 리뷰가 자동 게시되는 식이다. LG유플러스는 실제 고객의 생생한 사용 경험을 제공함으로써 소비자들의 구매 실패율을 최소화하고 반품율도 획기적으로 줄여 U+콕에 입점한 중소기업들이 혜택을 볼 것으로 기대하고 있다. LG유플러스는 향후 브이리뷰와 영상 리뷰에 AI 마케팅 기술을 접목해 광고 콘텐츠 선별 및 제작 과정까지 자동화로 집행할 수 있는 자동화 마케팅 플랫폼도 추가 구축할 계획이다. U+콕 이용을 원하는 고객은 원스토어와 구글 플레이스토어, 애플 앱스토어에서 U+콕 앱을 내려 받거나 U+콕 웹에서 이용 가능하다. 김태훈 LG유플러스 광고사업단장(상무)는 \"기존 구매자의 실제 체험 리뷰가 상품구매 의사결정에 많은 영향을 끼치는 만큼, U+콕은 상품에 대한 보다 정확하고 생생한 리뷰를 제공해 고객 만족도를 높여 나갈 예정\"이라며 \"향후 품질과 기능을 지속 개선해 고객이 매일 사용하고 싶은 커머스 플랫폼으로 성장할 것\"이라고 말했다. 한편 U+콕은 전문 MD가 직접 소싱한 고퀄리티 상품을 빅데이터 기반으로 고객에게 1:1 맞춤형으로 제안하는 모바일 쇼핑 플랫폼이다. 정상가 대비 최대 94% 할인된 최저가로 제공한다. 지난해 말 기준 U+콕의 누적 이용자 수는 530만명을 기록했다. U+콕은 브이리뷰 도입을 기념해 다양한 프로모션을 진행한다. 먼저 이날(6일)부터 다음달 23일까지 동영상 리뷰를 등록하는 모든 고객에게 5% 할인 쿠폰을 지급한다. 또 이벤트 종료 후 동영상 리뷰를 가장 많이 작성한 \\'동영상 리뷰 왕\\' 20명과 가장 유용하고 우수한 리뷰를 작성한 \\'베스트 동영상\\' 30명을 선정해 백화점상품권을 증정할 예정이다. 박혜림 기자 '], ['서상민 클레이튼 재단 이사장이 6일 서울 강남구 EG빌딩에서 열린 기자 간담회에서 발표하고 있다. 데일리안 민단비자 클레이튼 재단이 \"플랫폼 자체가 벌어들이는 매출을 확대해 인플레이션 없이도 생태계가 운영될 수 있는 모습으로 발전하겠다\"고 계획을 밝혔다. 블록체인 플랫폼 \\'클레이튼\\' 운영 방향성은 명확하지만 전술이 부족하다는 평가가 나온다. 클레이튼 재단은 6일 강남구 EG빌딩에서 기자 간담회를 열고 \"토큰을 계속 발행하기보단 (플랫폼) 매출을 통해 클레이튼을 운영할 수 있는 생태계로 발전하겠다\"고 말했다. 플랫폼 수익을 다변화해 매출을 늘린 만큼 인플레이션을 줄이고 플랫폼 자체 수익만으로 생태계를 운영하겠다는 의미다. 다만 매출 확대에 대한 구체적인 방안은 나오지 않았다. 블록체인 대중화를 이끌어낼 수 있는 킬러앱에 대한 대답은 \"메타버스나 게임을 단기적으로는 킬러앱으로 생각하고 있다\"는 것에 그쳤다. 메타버스에 대해서 클레이튼 재단 관계자는 \"게임, NFT 등을 하나로 모으는 것을 파트너사와 준비하고 있다\"며 \"실제 서비스와 연결되면 많은 부분에서 시너지가 날 수 있을 것\"이라고 말했다. 클레이튼이 개발 중인 메타버스는 상반기 알파버전 공개를 목표로 하고 있다. 클레이 발행량을 점차 줄여나가는 디플레이션은 \"당연히 달성 가능하다\"고 자신했다. 최근 클레이튼 재단은 거버넌스카운슬(주요 의사결정 협의 운영체, GC) 투표에 따라 클레이 미유통 물량 약 74억8000개의 73%인 52억8000개를 소각하기로 결정했다. 나머지 20억여개는 펀드를 통해 클레이 가치 제고에 활용하겠다는 방침이다. 재단은 \\'클레이튼성장펀드(KGF)\\'와 \\'클레이튼향상리저브(KIR)\\'를 유망한 프로젝틀르 발굴하는 \\'클레이튼 커뮤니티 펀드(KCF)\\'로 통합하고, 재단 운영과 신규 GC 유치 등을 맡는 \\'클레이튼 재단 펀드(KFF)\\'도 편성한다. 퍼미션리스(Permissionless) 블록체인으로의 전환도 재차 강조했다. 선별된 소수의 기업이 아닌 누구나 블록체인 네트워크 검증인으로 참여할 수 있게 해 네트워크 보안을 강화하겠다는 방침이다. 클레이튼 관계자는 \"자격을 갖추면 누구나 (의사결정에) 참여할 수 있다\"며 \"여기서 말하는 자격은 스테이킹 양과 클레이에 대한 기여 정도 등으로 정량화 할 수 있는 요소는 최대한 정량화 할 것\"이라고 말했다. 한편 카카오로부터의 독립에 대해서는 \"재무적으로 카카오와 완전히 독립된 비영리법인\"이라며 \"앞으로 클레이튼 운영은 재단이 전담하며 기민성과 유연성을 높일 것\"이라고 강조했다. 클레이튼은 그간 카카오 계열사 소속으로서 의사결정 과정에서 엄격한 법무 검토를 거쳐야 하는 등 규제를 받아왔으나 이번 개편으로 사업 확장에 박차를 가할 수 있을 것으로 보고 있다. 클레이튼은 2019년부터 카카오의 블록체인 계열사 그라운드X가 운영해 왔다가 지난해 초 카카오의 다른 계열사이자 싱가포르 법인인 크러스트로 모두 이관됐다. 이후 최근 조직 개편을 통해 크러스트의 주요 인력이 클레이튼재단으로 이동하면서 운영 주체가 재단으로 변경됐다.']]\n"
          ]
        }
      ]
    },
    {
      "cell_type": "code",
      "source": [
        "#news_id, title, content만 담겨있는 list\n",
        "top7_topic = []\n",
        "\n",
        "for topic in range(len(doc_topic_df['Topic'].unique())):\n",
        "    top_pr_topics = doc_topic_df[doc_topic_df['Topic'] == topic].sort_values(by='Percentage', ascending=False)\n",
        "    content1 = top_pr_topics.iloc[0]\n",
        "    top7_topic.append([content1['news_id'], content1['title'], content1['content']])\n",
        "\n",
        "print(top7_topic)"
      ],
      "metadata": {
        "colab": {
          "base_uri": "https://localhost:8080/"
        },
        "id": "oGE0iZNkx7sj",
        "outputId": "a3269e46-5a84-450c-b8eb-e3ec9d4a0f32"
      },
      "execution_count": 25,
      "outputs": [
        {
          "output_type": "stream",
          "name": "stdout",
          "text": [
            "[[624571, \"넷마블, 원작 리메이크 신작 '더 세븐나이츠' 공개\", '기사내용 요약 원작 \\'세븐나이츠\\' 정식 계승…내년 상반기 CBT [서울=뉴시스]최은수 기자 = 넷마블은 모바일 역할수행게임(RPG) \\'세븐나이츠\\'를 정식 계승한 리메이크 작품 \\'더 세븐나이츠(The SevenKnights)\\'를 공개했다고 6일 밝혔다. \\'세븐나이츠\\'의 9주년을 기념해 공개된 더 세븐나이츠는 원작을 계승한 리메이크 프로젝트다. 이용자들이 가장 많이 즐겼던 시점의 재미를 다시 한번 선사하기 위해 원작의 장점은 계승, 발전시키고 부족한 부분은 최근 트렌드에 맞게 개선하고 보완할 계획이다 더 세븐나이츠는 기존의 스토리와 캐릭터성은 최대한 유지하는 동시에 새로운 재미를 제공하기 위해 준비 중이며, 내년 상반기 비공개베타테스트(CBT) 진행을 목표로 개발에 전념하고 있다. 이 프로젝트는 \\'세븐나이츠\\'부터 \\'세븐나이츠2\\'까지 오랜 기간 경험과 노하우를 쌓은 개발진이 이끌고 있으며, 구체적인 게임성 및 향후 일정에 대해서는 \\'세븐나이츠\\' 공식 커뮤니티를 통해 공지될 예정이다. 넷마블은 리메이크 프로젝트 공개 소식과 함께 더 세븐나이츠의 티저 영상을 공개했다. 원작의 사황 중 한명인 \\'에이스\\'가 검술을 연마하는 모습이 담긴 영상은 고퀄리티 카툰 스타일 그래픽으로 연출돼 기대감을 높이고 있다. 넷마블 관계자는 \"오랜 기간 \\'세븐나이츠\\'를 사랑해주신 이용자분들에게 원작의 감동을 드리기 위해 리메이크 프로젝트 개발에 최선을 다하고 있다\"며 \"빠른 시일 내에 구체적인 게임성에 대해 안내해드릴 수 있도록 노력할 예정이며, 앞으로 많은 응원 부탁드린다\"고 전했다. 한편, \\'세븐나이츠\\'는 지난 2014년 3월에 출시된 수집형 RPG로 화려한 그래픽과 연출, 500여종 이상의 캐릭터를 모으고 성장하는 재미를 갖춘 게임으로 국내뿐만 아니라 글로벌 시장에서 큰 성공을 기록한 바 있다. ☞공감언론 뉴시스 '], [617250, \"[연결내부회계제도 대응]더존비즈온, 연결결산시스템 'EFIS 10' 150곳 도입 달성\", '연결기준 내부회계관리제도 확대 이슈가 시장 화두로 떠오르면서 대응을 위한 기업의 회계 프로세스 재정비 작업이 분주하다. 2019년 신(新)외부감사법 도입으로 내부회계관리가 검토 수준에서 감사 수준으로 상향 적용되면서 새로운 환경에 적응하느라 어려움을 겪어온 기업에는 또 다른 숙제가 생겼다. 내년부터는 연결자산 총액 5000억원 이상 상장사도 감사 대상에 포함된다. 올해 2조원 이상 상장사에 이어 확대 적용된다. 연결 내부회계관리제도를 통한 그룹사 수준의 통제를 받게 되는 기업이 크게 증가할 전망이다. 제도의 안정적 운영과 현장의 혼란을 최소화하기 위한 대책 마련이 시급해졌다. 무엇보다 연결결산절차 및 연결시스템의 통제 구축과 운영을 위한 필수 요소가 한둘이 아닌 만큼 주의가 요구된다. 이런 가운데 더존비즈온 차세대 통합 연결결산시스템 \\'EFIS 10\\'이 주목받고 있다. 더존비즈온은 EFIS 10으로 기업 연결내부회계관리제도 대응 지원을 강화, 연결결산시스템 전환 레퍼런스 기업 150곳을 확보했다고 밝혔다. ◇그룹 자회사에 대한 내부통제 구축·운영 필수 연결내부회계제도 대응을 위해서는 그룹 수준의 통제 정비와 다수 자회사에 대한 내부통제 구축 및 운영이 필요하다. 연결절차와 연결시스템 통제 구축 및 운영의 핵심과제에 대한 대응책도 마련해야 한다. 내부통제 구성요소인 통제환경, 위험평가, 통제활동, 정보 및 의사소통, 모니터링 등 각각의 영역에 대해 개별 법인 단위가 아닌 연결재무제표 기준 그룹 차원의 대응에 나서야 한다는 점도 과제다. 다만 상장사의 최종 재무실적인 연결재무제표가 여전히 엑셀에 의해 수기로 작성되거나 연결시스템의 부문 활용을 통한 수기결산과 병행돼 작성되는 경우가 많다. 이 경우 \\'수동통제(EUC)\\' 항목으로 분류돼 각종 추가 통제활동이 원활하게 이뤄지기 어려워지기 때문에 연결내부회계 대응에 최적화된 연결시스템을 도입하거나 기존 시스템의 고도화 작업이 필요하다. 계열사의 재무데이터를 합산하고 연결조정을 통해 결산해야하는 그룹사 연결결산 업무는 권한과 책임의 명확한 구분에 따라 이뤄져야 한다. 이에 따라 연결결산통제를 위한 연결시스템은 권한 관리, 프로세스통제 및 자동화 통제(ITAC)가 적용될 수 있어야 한다. 권한 관리의 경우 법인 담당자와 연결담당자의 구분은 물론, 법인 관리자 및 연결관리자를 각각 세분화해 구분해야 한다. 연결조정 시스템을 통한 계산 및 전표 생성, 전표 승인에 대한 권한도 모두 구분 관리돼야 한다. 연결결산 전 과정에서 데이터의 수정 및 변경은 시스템과 적절한 권한자에 의해 통제돼 데이터의 정합성을 확보할 수 있어야 한다. 자동화 통제는 시스템의 자동계산 및 자동 전표처리를 통해 정확성을 확보하고 로직의 정확성을 바탕으로 수동통제(EUC)를 최소화할 수 있어야 한다. 특히 연결시스템은 그룹 관점에서 IT 일반통제(ITGC) 평가 범위에 반드시 추가로 고려돼야 하는 항목으로 프로그램 개발부터 변경, 배포, 운영 및 접근관리에 대한 전반적인 대응이 가능한 시스템이어야 한다는 점에 주목해야 한다. ◇더존 EFIS 10으로 연결결산·IT일반통제 대응 더존비즈온은 차세대 연결회계솔루션 EFIS 10을 앞세워 기업의 연결내부회계관리제도 대응을 돕고 있다. 그룹사 경영관리에 최적화된 EFIS 10은 복잡한 그룹 조직구조의 유연한 관리로 그룹사 연결재무제표에 대한 대외공신력을 확보할 수 있는 시스템이다. 새로운 모범규준을 적용해야 하는 기업의 당면 과제에 맞설 전략에 관심이 집중되고 있는 가운데 첨단 ICT 솔루션을 통해 방향성을 제시하고 있다는 평가를 받는다. EFIS 10은 연결결산통제 대응으로 주요 업무통제 및 권한제어 그룹 회계정책 데이터 취합 데이터 이관 연결조정 통제 전표결재 및 결산마감 기준정보관리 등을 제공하고 있다. 또한 연결결산 IT 일반통제(ITGC) 대응을 위해 접근보안 프로그램 변경 IT운영 프로그램 개발 등의 항목을 구분해 적용하고 있다. EFIS 10은 전 업권을 넘나들며 각종 레퍼런스를 쌓고 있다. 150곳에 달한다. 보다 다양한 기업들이 강화된 내부회계에 대응할 수 있도록 지원하는 것을 목표로 하고 있다. 국내 현대자동차그룹 역시 강화된 내부회계 대응을 위해 2022년부터 EFIS 10을 적용, 운영하고 있다. 현대자동차그룹은 2009년부터 더존비즈온 연결결산시스템을 사용해왔으며 강화된 연결내부회계제도에 맞춰 최근 EFIS 10 재구축을 성공적으로 마쳤다. 현대자동차그룹은 현재 이를 통해 전 세계 수많은 계열법인과 통합된 결산 체계를 구축함으로써 내부회계 대응뿐만 아니라 그룹관리의 효율성까지 제고해 그룹사 전반의 신뢰도를 높이고 있다. 더존비즈온은 각종 디바이스를 통해 언제 어디서든 저렴한 비용으로 이용할 수 있는 \\'EFIS 10 클라우드 에디션\\'을 선보인다는 방침이다. EFIS 10 클라우드 에디션은 기업의 ITGC 대응은 물론 내부회계시스템과의 연계, 사이버공격 방어와 같은 다양한 서비스를 제공하는 것이 특징이다. 더존비즈온 관계자는 \"더존비즈온은 2005년부터 국제회계기준과 변화하는 경영환경에 맞춰 연결회계솔루션을 개발해오며 해당 영역을 선도하고 있다\"며 \"그룹사 경영관리에 최적화된 EFIS 10을 통해 기업이 변화한 이슈에 대응하고 연결재무제표에 대한 대외공신력을 확보할 수 있도록 지원하는 데 앞장서겠다\"고 말했다. 권혜미기자 '], [624577, '정치권 맹공에 혼돈의 KT, 차기 대표 후보자 7일 발표', '-KT, 최종 후보 발표 \"예정대로 진행\" -사내외에선 후보 4인 일괄 사퇴설도 KT의 차기 대표이사 선출을 둘러싸고 KT 안팎에서는 당혹감이 감돈다. KT 안팎에서는 후보자 4인의 동반 사퇴설이 나도는 등 \\'신관치\\' 논란이 확산 중이다. (연합뉴스) 통신 \\'공룡\\' KT의 차기 대표이사 선출을 둘러싸고 정치권 압박이 거세자 KT 안팎에서는 당혹감이 감돈다. 예정된 일정에 변화는 없다는 게 KT 측 입장이지만 KT 안팎에서는 후보자 4인의 동반 사퇴설이 나도는 등 \\'신관치\\' 논란이 확산 중이다. KT와 정치권 등에 따르면, KT는 3월 7일 예정대로 최종 후보자 1인을 발표한다. KT 이사회는 차기 대표이사 경선에 도전한 33명 가운데 면접 대상자로 박윤영 전 KT기업부문장(사장), 신수정 KT엔터프라이즈부문장(부사장), 윤경림 KT 그룹트랜스포메이션부문장(사장), 임헌문 전 KT 매스총괄사장 등 4명을 선정했다. KT는 3월 7일 대표이사 최종 후보 1명을 확정하고 오는 29일 또는 30일 열릴 주주총회에서 새 대표이사를 정식 선임한다는 계획이다. 일각에서는 주총 연기 가능성이 거론됐지만 \"정기 주총일을 확정한 적이 없으므로 연기 여부에 대해서도 논의한 적 없다\"는 게 KT 입장이다. 다만, 통신업계에서는 KT가 예정된 차기 CEO 선출 레이스를 무사히 완주할지 의구심을 갖는 시선이 적지 않다. 앞서 주요 금융지주 회장 선출 과정에서도 유력 후보들이 석연치 않은 이유로 돌연 자진 사퇴한 사례가 있어서다. 이에 비춰, 일각에서는 후보자 4인이 동반 사퇴하고 후보를 재선정할 가능성도 거론된다. 통신업계 관계자는 \"정치권의 이례적인 반발에 이사회의 동요가 큰 것으로 안다\"고 귀띔했다. 이사회에서 3월 7일 최종 후보 1명을 낙점하더라도 KT 입장에서는 부담이 적지 않다. 정기 주총에서 캐스팅보트를 쥔 국민연금 등이 적극적으로 반대 의견을 피력한다면, 이사회가 낙점한 후보가 대표이사로 선출되더라도 앞으로 경영 행보에 제약이 불가피하다. 규제 산업인 통신업 특성상 행정부와 입법부를 동시에 적으로 돌리는 것도 차기 CEO에게는 임기 내내 부담이 될 수밖에 없다. 통신업계에서는 \\'식물 대표설\\'부터 차기 경영진 수사설까지 여러 가능성이 언급된다. 이런 이유로 우여곡절 끝에 현 4인의 후보 중 한 명이 차기 CEO로 선출되더라도 중도 낙마할 가능성이 높다는 관측이 나온다. 현 여권 유력 인사로 차기 대표이사 후보군이 재차 꾸려질 경우 인사 개입 논란은 더욱 커질 전망이다. 이번에 진행되는 KT 이사회에서는 대표이사 최종 후보 선출뿐 아니라 신규 사외이사까지 폭넓은 현안이 다뤄진다. 대표이사뿐 아니라 이사회 구성 자체가 바뀌는 만큼 회의가 길어질 것이라는 관측이 나온다. 현재 사외이사 가운데 이강철 이사가 CEO 선임 과정에 앞서 사퇴했으며 표현명, 강충구, 여은정 등 3인의 사외이사가 3월 말로 임기가 끝난다. 사내외 이사를 재선임 또는 신규 선임하려면 상법에 따라 주총 소집 결의와 안건 정보 등은 주총 개최 2주 전에는 공고해야 한다. 차기 대표 후보를 원점에서 재선정한다면 혼돈이 불가피하다. 한편, KT는 차기 수장 선출을 놓고 정치권의 공개 압박을 받는 중이다. 당초 33명의 후보군이 공개된 뒤 통신업계에서는 \"현 정부와 코드가 맞는 윤진식 전 산업부 장관이 사실상 낙점된 것 같다\"는 소문이 파다했다. 그러나 민간 기업을 경영한 경험이 전무한 데다 관료 시절 경험도 통신과 거리가 멀고, 여든을 바라보는 고령이라는 점이 결국 발목을 잡은 것으로 알려진다. 여권 출신 인사들이 줄줄이 탈락하자 정치권과 대통령실은 재차 KT를 압박했다. 국민의힘 소속 국회 과학기술정보방송통신위원회 위원들은 지난 3월 2일 \"이권 카르텔을 유지하려는 전형적인 수법\"이라며 \"구현모 대표가 윤경림 KT그룹 트랜스포메이션부문장을 자신의 아바타로 출마시키고 신수정 KT엔터프라이즈부문장을 2순위로 넣으라고 지시했다\"고 주장했다. 대통령실에서도 \"조직 내에서 모럴해저드가 일어나면 피해는 국민이 본다\"는 입장을 밝혔다. 이는 사실상 이번 KT 대표이사 선출 과정에 문제가 있다는 인식을 보여준 것으로 해석된다. 현재 4명의 후보 가운데 통신 업계에서 가장 유력하다고 평가를 받는 인물은 윤경림 사장이다. 그는 KT 출신으로 현대차로 옮겨 부사장까지 지낸 뒤 KT로 다시 와 디지털 전환을 총괄하는 조직의 수장이 됐다. 이외 신수정 부사장은 사장급인 나머지 3명에 비해 중량감이 떨어지고 박윤영 전 사장과 임헌문 전 사장은 3년 전 구현모 대표와 맞붙어 탈락한 이력이 있어 차기 CEO로 선출될 가능성은 낮다는 게 통신업계 중론이다. 정치권은 윤 사장을 두고 현대차 재직 당시 구 대표의 친형 회사 인수를 성사시킨 공으로 KT에 합류했다거나, 대표 선임 업무를 맡은 이사회 현직 멤버라는 점을 부각하며 흠집내기에 몰두하고 있다. KT 내부에서는 당혹한 기류가 역력한 가운데 정치권발 의혹에 대해서는 적극 반박했다. KT 관계자는 \"구 대표와 윤 사장은 공개 경쟁 시작 이후 심사에 영향을 미치는 모든 과정에서 배제됐다\"며 \"윤 사장은 현대차 시절 인수 투자 담당이 아니어서 구 대표 형 문제와도 무관하다\"고 밝혔다.'], [624550, \"삼성, 신작 없이도 '인도 스마트폰 1위 탈환'…노태문, 약속지켰다\", '삼성전자 스마트폰이 인도에서 샤오미를 꺾고 점유율 1위에 올랐다. \\'가성비\\' 중심에서 최근 프리미엄 수요가 확대되면서 갤럭시S와 폴더블폰 시리즈 판매량 증가가 주효했다는 평가다. 중국에 이어 전 세계 2위 스마트폰 시장인 인도는 삼성이 절대 놓쳐서는 안 되는 요충지다. 삼성은 올 들어 인도를 스마트폰 핵심 생산기지로 키우는 등 현지 공략에 전사적 역량을 집중하고 있다. ━ \\'만년 2위\\'에서 \"일시적인 현상 아닐 것\" ━ 인도 현지 모델이 삼성전자 폴더블 스마트폰을 소개하고 있다./사진=삼성전자 뉴스룸 인도 노태문 삼성전자 MX(모바일경험)사업부장(사장)은 지난달 갤럭시언팩 기자간담회에서 \"인도 스마트폰 시장에서 삼성이 1위에 오르는 것이 첫 번째 목표\"라며 현지화 전략과 프리미엄 확대로 점유율 반등을 노리겠다고 밝혔다. 노사장의 바람대로 이뤄졌다. 시장조사업체 카운터포인트리서치에 따르면 지난해 4분기 인도 스마트폰 시장에서 삼성은 20% 점유율로 샤오미(18%)를 제치고 1위를 기록했다. 전년 동기(16%) 대비 4%포인트(p) 증가했다. 인도에서 삼성이 1위에 오른 것은 2020년 3분기 이후 9분기 만이다. 인도는 \\'중국 텃밭\\'이라 불릴 정도로 중국 제조사들이 강세다. 수년간 샤오미가 1위를 지키고 나머지는 삼성·오포·비보·리얼미 등 4파전 양상이다. 삼성은 2011~2017년만 해도 인도에서 점유율 1위였지만, 2018년 샤오미에 1위를 내준 뒤 \\'만년 2위\\'에 머물러 왔다. 2020년 3분기 24% 점유율로 1위에 오르긴 했지만 곧장 샤오미에 따라잡히며 \\'깜짝 반등\\'에 그쳤다. 업계에선 이번 1위 탈환이 일시적인 현상이 아닐 것으로 본다. 4분기는 신제품 출시가 없어 \\'신작 효과\\'가 없었던 데다, 프리미엄 제품의 꾸준한 판매량 증가가 이어져서다. 삼성전자 관계자는 \"지난해 갤럭시S와 폴더블폰 등이 인도에서 좋은 반응을 얻었다\"며 \"브랜드 이미지 제고 등 프리미엄 시장 확대를 위한 전략이 효과를 보고 있다\"고 설명했다. 실제 중저가 중심이던 인도는 최근 프리미엄폰에 대한 소비자의 관심이 높아지는 추세다. 지난달 출시한 갤럭시S23은 현지 사전예약 첫날 14만대가 판매되며 기록을 세웠다. 전작인 갤럭시S22보다 2배 많은 수준이다. 금액으로 따지면 1억6900만달러(약 2122억원)에 달한다. ━ 생산기자 인도에 전략 강화 ━ 삼성이 인도 시장을 사수해야 하는 이유는 분명하다. 인도는 미국을 꺾고 전 세계 2위 규모의 스마트폰 시장으로 성장한 만큼 글로벌 제조사들이 주목하는 곳이다. 인도 스마트폰 시장은 2016년부터 2021년까지 성장했다. 올해는 10% 가량 성장해 약 1억7500만대의 수요가 예상된다. 최근 몇 년 새 글로벌 스마트폰이 시장이 침체기에 접어든 것을 고려하면 더 고무적이다. 삼성은 인도를 스마트폰 핵심 생산 기지로 키우기 위해 차기 폴더블폰(갤럭시Z플립5·폴드5) 초도 물량부터 인도에서 생산하기로 했다. 그간 삼성은 갤럭시S, 폴더블폰 등 플래그십 제품은 경북 구미와 베트남 공장에서 초도 물량을 만들고 일정 기간 이후 일부를 인도로 이전·생산했다. 회사를 대표하는 모델이기 때문에 작은 품질 문제라도 발생할 경우 치명적일 수 있어서다. 생산 전략에 변화를 주면서까지 인도 시장에 승부수를 띄운 것이다. 부품 업계 한 관계자는 \"현지 생산은 단가를 줄일 수 있어 삼성 입장에선 프로모션 등으로 실구매가를 낮출 수 있고 현지화 전략에도 좋다\"며 \"중국 대신 인도를 생산 기지로 선택한 것도 단기간에 가장 효과를 볼 수 있는 시장이 인도이기 때문\"이라고 말했다. 현재 중국 스마트폰 시장에서 삼성 점유율은 0%대에 머물러 있다. 중국 시장을 키우기 위해선 상대적으로 많은 시간과 비용이 필요한 만큼 인도 시장에 우선적으로 집중해 효율성을 높이겠다는 전략인 것이다. 김승한 기자 <저작권자 \\'돈이 보이는 리얼타임 뉴스\\' 머니투데이, 무단전재 및 재배포 금지>'], [605278, '신세계I&C, 네오위즈와 ‘맞손’...콘솔 패키지 게임 아시아 독점유통', '신세계아이앤씨가 아시아 시장에서 독점 유통하는 네오위즈의 새 콘솔 플랫폼 게임 P의 거짓. [신세계아이앤씨 제공] 신세계아이앤씨가 아시아 시장에서 네오위즈의 하반기 최대 기대작으로 손꼽히는 콘솔 패키지 게임을 독점 유통한다. 신세계아이앤씨는 네오위즈의 신작 게임 \\'P의 거짓\\'(Lies of P) 콘솔 패키지를 아시아 지역에 독점 유통한다고 6일 밝혔다. 네오위즈의 P의 거짓은 고전 동화 \\'피노키오\\'(Pinocchio)를 각색한 액션 RPG 게임이다. 콘솔 플랫폼인 플레이스테이션(PS) 4·5, Xbox One, Xbox Series X|S와 PC 플랫폼을 통해 오는 8월 글로벌 시장에 동시 출시 예정이다. 신세계아이앤씨는 네오위즈와 독점 유통 계약을 체결하고, 오는 8월부터 국내를 포함한 일본, 대만 등 아시아 전역에 플레이스테이션(PS) 4·5용 P의 거짓 콘솔 패키지를 유통한다. 신세계아이앤씨는 게임 등 IT 유통 사업을 통해 탄탄하게 구축해온 온·오프라인 유통 채널 및 운영 노하우를 바탕으로 콘솔 패키지 판매를 확대한다는 계획이다. 신세계아이앤씨는 한국닌텐도㈜의 \\'닌텐도 스위치\\', 소니 인터랙티브 엔터테인먼트의 \\'플레이스테이션\\' 등 인기 콘솔 및 타이틀의 국내 유통 총판 사업을 담당하고 있다. 이 밖에도 블리자드, 포켓몬 등 주요 글로벌 게임사와 함께 인기 게임 IP 상품 판매, 브랜드 스토어 운영 등 게임 IP 라이선스 사업을 전개하는 등 관련 사업을 확대하고 있다. 정준 신세계아이앤씨(신세계I&C) 영업혁신담당은 \"네오위즈와 손잡고 선보일 \\'P의 거짓\\'은 올 하반기 대작으로 손꼽히는 트리플 A급 게임으로, 최근 글로벌 시장에서 콘솔 플랫폼 기반 게임이 확대되는 추세인 만큼 아시아 전역에서 게임 유저들의 호응을 받을 것이라 기대한다\"며 \"신세계아이앤씨가 그 동안 탄탄하게 다져온 유통 채널과 노하우를 기반으로 국내를 넘어 아시아 시장 전역으로 유통 커버리지를 확대함과 동시에 게임 IP, 퍼블리싱 등 게임 분야 사업 포트폴리오까지 확장하며 지속적으로 성장하고자 하는 목표를 갖고 있다\"라고 말했다. 박성준 네오위즈 본부장은 \"전문적인 온·오프라인 유통 경험을 가진 신세계아이앤씨는 아시아 게임 시장에 P의 거짓을 선보이기 위한 최적의 파트너라 생각한다\"며 \"앞으로 신세계아이앤씨와 긴밀히 협업해 P의 거짓만의 독보적인 재미와 뛰어난 게임성을 이용자들에게 적극 알리겠다\"고 말했다. 한편, P의 거짓은 고전 동화 피노키오를 각색해 탄생한 소울라이크 싱글플레이 액션 RPG로 출시 전부터 주목 받았다. 무기 조합 등 차별화된 전투 시스템이 가장 큰 특징이며, 높은 게임성을 인정받아 \\'게임스컴 2022\\'에서 한국 게임사 최초로 3관왕을 수상하며 글로벌 기대작으로 부상했으며, 올해 8월 출시를 앞두고 있다. 박혜림 기자 '], [605277, '“간편하고 생생한 사용후기 ‘U+콕’서 공유하세요”', 'U+콕 내 동영상 리뷰 서비스를 소개하는 직원들의 모습. [LG유플러스 제공] LG유플러스가 자사 데이터 커머스 플랫폼 \\'U+콕\\'에서 보다 간편하고 생생하게 사용 후기를 공유할 수 있도록 \\'동영상 리뷰\\' 서비스를 강화한다. LG유플러스는 리뷰 마케팅 솔루션 기업 \\'인덴트코퍼레이션\\'과 제휴를 맺고 U+콕 내 동영상 리뷰 서비스를 론칭한다고 6일 밝혔다. 인덴트코퍼레이션은 국내 최초로 인공지능(AI) 챗봇을 활용해 상품의 실물이 포함된 생생한 동영상 포맷의 리뷰를 수집하는 리뷰 마케팅 솔루션 \\'브이리뷰\\'(VREVIEW)를 운영하고 있다. LG유플러스는 인덴트코퍼레이션과의 제휴를 통해 기존 동영상 리뷰를 더욱 간편화 했다. 기존에는 고객이 U+콕 앱 또는 웹에 접속해 리뷰를 작성하거나 동영상을 업로드해야 하는 번거로움이 있었지만, 이제는 영상을 촬영한 후 카카오톡 챗봇에 전송만 하면 된다. 예컨대 상품 배송이 완료되면 U+콕이 카카오톡 챗봇 \\'유플러스콕 쇼핑리뷰\\'가 고객에 배송완료 알림톡을 자동 전송하는데, 브이리뷰 솔루션이 적용됨에 따라 고객이 실제 제품을 사용하는 영상을 카카오톡 챗봇으로 보내면 U+콕에 영상 리뷰가 자동 게시되는 식이다. LG유플러스는 실제 고객의 생생한 사용 경험을 제공함으로써 소비자들의 구매 실패율을 최소화하고 반품율도 획기적으로 줄여 U+콕에 입점한 중소기업들이 혜택을 볼 것으로 기대하고 있다. LG유플러스는 향후 브이리뷰와 영상 리뷰에 AI 마케팅 기술을 접목해 광고 콘텐츠 선별 및 제작 과정까지 자동화로 집행할 수 있는 자동화 마케팅 플랫폼도 추가 구축할 계획이다. U+콕 이용을 원하는 고객은 원스토어와 구글 플레이스토어, 애플 앱스토어에서 U+콕 앱을 내려 받거나 U+콕 웹에서 이용 가능하다. 김태훈 LG유플러스 광고사업단장(상무)는 \"기존 구매자의 실제 체험 리뷰가 상품구매 의사결정에 많은 영향을 끼치는 만큼, U+콕은 상품에 대한 보다 정확하고 생생한 리뷰를 제공해 고객 만족도를 높여 나갈 예정\"이라며 \"향후 품질과 기능을 지속 개선해 고객이 매일 사용하고 싶은 커머스 플랫폼으로 성장할 것\"이라고 말했다. 한편 U+콕은 전문 MD가 직접 소싱한 고퀄리티 상품을 빅데이터 기반으로 고객에게 1:1 맞춤형으로 제안하는 모바일 쇼핑 플랫폼이다. 정상가 대비 최대 94% 할인된 최저가로 제공한다. 지난해 말 기준 U+콕의 누적 이용자 수는 530만명을 기록했다. U+콕은 브이리뷰 도입을 기념해 다양한 프로모션을 진행한다. 먼저 이날(6일)부터 다음달 23일까지 동영상 리뷰를 등록하는 모든 고객에게 5% 할인 쿠폰을 지급한다. 또 이벤트 종료 후 동영상 리뷰를 가장 많이 작성한 \\'동영상 리뷰 왕\\' 20명과 가장 유용하고 우수한 리뷰를 작성한 \\'베스트 동영상\\' 30명을 선정해 백화점상품권을 증정할 예정이다. 박혜림 기자 '], [605201, '클레이튼 “디플레이션 목표”…방향성은 명확하나 전술은 글쎄', '서상민 클레이튼 재단 이사장이 6일 서울 강남구 EG빌딩에서 열린 기자 간담회에서 발표하고 있다. 데일리안 민단비자 클레이튼 재단이 \"플랫폼 자체가 벌어들이는 매출을 확대해 인플레이션 없이도 생태계가 운영될 수 있는 모습으로 발전하겠다\"고 계획을 밝혔다. 블록체인 플랫폼 \\'클레이튼\\' 운영 방향성은 명확하지만 전술이 부족하다는 평가가 나온다. 클레이튼 재단은 6일 강남구 EG빌딩에서 기자 간담회를 열고 \"토큰을 계속 발행하기보단 (플랫폼) 매출을 통해 클레이튼을 운영할 수 있는 생태계로 발전하겠다\"고 말했다. 플랫폼 수익을 다변화해 매출을 늘린 만큼 인플레이션을 줄이고 플랫폼 자체 수익만으로 생태계를 운영하겠다는 의미다. 다만 매출 확대에 대한 구체적인 방안은 나오지 않았다. 블록체인 대중화를 이끌어낼 수 있는 킬러앱에 대한 대답은 \"메타버스나 게임을 단기적으로는 킬러앱으로 생각하고 있다\"는 것에 그쳤다. 메타버스에 대해서 클레이튼 재단 관계자는 \"게임, NFT 등을 하나로 모으는 것을 파트너사와 준비하고 있다\"며 \"실제 서비스와 연결되면 많은 부분에서 시너지가 날 수 있을 것\"이라고 말했다. 클레이튼이 개발 중인 메타버스는 상반기 알파버전 공개를 목표로 하고 있다. 클레이 발행량을 점차 줄여나가는 디플레이션은 \"당연히 달성 가능하다\"고 자신했다. 최근 클레이튼 재단은 거버넌스카운슬(주요 의사결정 협의 운영체, GC) 투표에 따라 클레이 미유통 물량 약 74억8000개의 73%인 52억8000개를 소각하기로 결정했다. 나머지 20억여개는 펀드를 통해 클레이 가치 제고에 활용하겠다는 방침이다. 재단은 \\'클레이튼성장펀드(KGF)\\'와 \\'클레이튼향상리저브(KIR)\\'를 유망한 프로젝틀르 발굴하는 \\'클레이튼 커뮤니티 펀드(KCF)\\'로 통합하고, 재단 운영과 신규 GC 유치 등을 맡는 \\'클레이튼 재단 펀드(KFF)\\'도 편성한다. 퍼미션리스(Permissionless) 블록체인으로의 전환도 재차 강조했다. 선별된 소수의 기업이 아닌 누구나 블록체인 네트워크 검증인으로 참여할 수 있게 해 네트워크 보안을 강화하겠다는 방침이다. 클레이튼 관계자는 \"자격을 갖추면 누구나 (의사결정에) 참여할 수 있다\"며 \"여기서 말하는 자격은 스테이킹 양과 클레이에 대한 기여 정도 등으로 정량화 할 수 있는 요소는 최대한 정량화 할 것\"이라고 말했다. 한편 카카오로부터의 독립에 대해서는 \"재무적으로 카카오와 완전히 독립된 비영리법인\"이라며 \"앞으로 클레이튼 운영은 재단이 전담하며 기민성과 유연성을 높일 것\"이라고 강조했다. 클레이튼은 그간 카카오 계열사 소속으로서 의사결정 과정에서 엄격한 법무 검토를 거쳐야 하는 등 규제를 받아왔으나 이번 개편으로 사업 확장에 박차를 가할 수 있을 것으로 보고 있다. 클레이튼은 2019년부터 카카오의 블록체인 계열사 그라운드X가 운영해 왔다가 지난해 초 카카오의 다른 계열사이자 싱가포르 법인인 크러스트로 모두 이관됐다. 이후 최근 조직 개편을 통해 크러스트의 주요 인력이 클레이튼재단으로 이동하면서 운영 주체가 재단으로 변경됐다.']]\n"
          ]
        }
      ]
    },
    {
      "cell_type": "code",
      "source": [
        "top7_topic = pd.DataFrame(top7_topic, columns=['news_id', 'title', 'content'])\n"
      ],
      "metadata": {
        "id": "iLwY9SSUyimy"
      },
      "execution_count": 26,
      "outputs": []
    },
    {
      "cell_type": "code",
      "source": [
        "top7_topic"
      ],
      "metadata": {
        "colab": {
          "base_uri": "https://localhost:8080/",
          "height": 269
        },
        "id": "b5gssAhlyvgy",
        "outputId": "dcd58df1-f2e4-46c8-c821-55595218115c"
      },
      "execution_count": 27,
      "outputs": [
        {
          "output_type": "execute_result",
          "data": {
            "text/plain": [
              "   news_id                                             title  \\\n",
              "0   624571                      넷마블, 원작 리메이크 신작 '더 세븐나이츠' 공개   \n",
              "1   617250  [연결내부회계제도 대응]더존비즈온, 연결결산시스템 'EFIS 10' 150곳 도입 달성   \n",
              "2   624577                   정치권 맹공에 혼돈의 KT, 차기 대표 후보자 7일 발표   \n",
              "3   624550             삼성, 신작 없이도 '인도 스마트폰 1위 탈환'…노태문, 약속지켰다   \n",
              "4   605278           신세계I&C, 네오위즈와 ‘맞손’...콘솔 패키지 게임 아시아 독점유통   \n",
              "5   605277                      “간편하고 생생한 사용후기 ‘U+콕’서 공유하세요”   \n",
              "6   605201                  클레이튼 “디플레이션 목표”…방향성은 명확하나 전술은 글쎄   \n",
              "\n",
              "                                             content  \n",
              "0  기사내용 요약 원작 '세븐나이츠' 정식 계승…내년 상반기 CBT [서울=뉴시스]최은...  \n",
              "1  연결기준 내부회계관리제도 확대 이슈가 시장 화두로 떠오르면서 대응을 위한 기업의 회...  \n",
              "2  -KT, 최종 후보 발표 \"예정대로 진행\" -사내외에선 후보 4인 일괄 사퇴설도 K...  \n",
              "3  삼성전자 스마트폰이 인도에서 샤오미를 꺾고 점유율 1위에 올랐다. '가성비' 중심에...  \n",
              "4  신세계아이앤씨가 아시아 시장에서 독점 유통하는 네오위즈의 새 콘솔 플랫폼 게임 P의...  \n",
              "5  U+콕 내 동영상 리뷰 서비스를 소개하는 직원들의 모습. [LG유플러스 제공] LG...  \n",
              "6  서상민 클레이튼 재단 이사장이 6일 서울 강남구 EG빌딩에서 열린 기자 간담회에서 ...  "
            ],
            "text/html": [
              "\n",
              "  <div id=\"df-56fdd0f0-63cc-4e11-afa1-25f9e559951c\">\n",
              "    <div class=\"colab-df-container\">\n",
              "      <div>\n",
              "<style scoped>\n",
              "    .dataframe tbody tr th:only-of-type {\n",
              "        vertical-align: middle;\n",
              "    }\n",
              "\n",
              "    .dataframe tbody tr th {\n",
              "        vertical-align: top;\n",
              "    }\n",
              "\n",
              "    .dataframe thead th {\n",
              "        text-align: right;\n",
              "    }\n",
              "</style>\n",
              "<table border=\"1\" class=\"dataframe\">\n",
              "  <thead>\n",
              "    <tr style=\"text-align: right;\">\n",
              "      <th></th>\n",
              "      <th>news_id</th>\n",
              "      <th>title</th>\n",
              "      <th>content</th>\n",
              "    </tr>\n",
              "  </thead>\n",
              "  <tbody>\n",
              "    <tr>\n",
              "      <th>0</th>\n",
              "      <td>624571</td>\n",
              "      <td>넷마블, 원작 리메이크 신작 '더 세븐나이츠' 공개</td>\n",
              "      <td>기사내용 요약 원작 '세븐나이츠' 정식 계승…내년 상반기 CBT [서울=뉴시스]최은...</td>\n",
              "    </tr>\n",
              "    <tr>\n",
              "      <th>1</th>\n",
              "      <td>617250</td>\n",
              "      <td>[연결내부회계제도 대응]더존비즈온, 연결결산시스템 'EFIS 10' 150곳 도입 달성</td>\n",
              "      <td>연결기준 내부회계관리제도 확대 이슈가 시장 화두로 떠오르면서 대응을 위한 기업의 회...</td>\n",
              "    </tr>\n",
              "    <tr>\n",
              "      <th>2</th>\n",
              "      <td>624577</td>\n",
              "      <td>정치권 맹공에 혼돈의 KT, 차기 대표 후보자 7일 발표</td>\n",
              "      <td>-KT, 최종 후보 발표 \"예정대로 진행\" -사내외에선 후보 4인 일괄 사퇴설도 K...</td>\n",
              "    </tr>\n",
              "    <tr>\n",
              "      <th>3</th>\n",
              "      <td>624550</td>\n",
              "      <td>삼성, 신작 없이도 '인도 스마트폰 1위 탈환'…노태문, 약속지켰다</td>\n",
              "      <td>삼성전자 스마트폰이 인도에서 샤오미를 꺾고 점유율 1위에 올랐다. '가성비' 중심에...</td>\n",
              "    </tr>\n",
              "    <tr>\n",
              "      <th>4</th>\n",
              "      <td>605278</td>\n",
              "      <td>신세계I&amp;C, 네오위즈와 ‘맞손’...콘솔 패키지 게임 아시아 독점유통</td>\n",
              "      <td>신세계아이앤씨가 아시아 시장에서 독점 유통하는 네오위즈의 새 콘솔 플랫폼 게임 P의...</td>\n",
              "    </tr>\n",
              "    <tr>\n",
              "      <th>5</th>\n",
              "      <td>605277</td>\n",
              "      <td>“간편하고 생생한 사용후기 ‘U+콕’서 공유하세요”</td>\n",
              "      <td>U+콕 내 동영상 리뷰 서비스를 소개하는 직원들의 모습. [LG유플러스 제공] LG...</td>\n",
              "    </tr>\n",
              "    <tr>\n",
              "      <th>6</th>\n",
              "      <td>605201</td>\n",
              "      <td>클레이튼 “디플레이션 목표”…방향성은 명확하나 전술은 글쎄</td>\n",
              "      <td>서상민 클레이튼 재단 이사장이 6일 서울 강남구 EG빌딩에서 열린 기자 간담회에서 ...</td>\n",
              "    </tr>\n",
              "  </tbody>\n",
              "</table>\n",
              "</div>\n",
              "      <button class=\"colab-df-convert\" onclick=\"convertToInteractive('df-56fdd0f0-63cc-4e11-afa1-25f9e559951c')\"\n",
              "              title=\"Convert this dataframe to an interactive table.\"\n",
              "              style=\"display:none;\">\n",
              "        \n",
              "  <svg xmlns=\"http://www.w3.org/2000/svg\" height=\"24px\"viewBox=\"0 0 24 24\"\n",
              "       width=\"24px\">\n",
              "    <path d=\"M0 0h24v24H0V0z\" fill=\"none\"/>\n",
              "    <path d=\"M18.56 5.44l.94 2.06.94-2.06 2.06-.94-2.06-.94-.94-2.06-.94 2.06-2.06.94zm-11 1L8.5 8.5l.94-2.06 2.06-.94-2.06-.94L8.5 2.5l-.94 2.06-2.06.94zm10 10l.94 2.06.94-2.06 2.06-.94-2.06-.94-.94-2.06-.94 2.06-2.06.94z\"/><path d=\"M17.41 7.96l-1.37-1.37c-.4-.4-.92-.59-1.43-.59-.52 0-1.04.2-1.43.59L10.3 9.45l-7.72 7.72c-.78.78-.78 2.05 0 2.83L4 21.41c.39.39.9.59 1.41.59.51 0 1.02-.2 1.41-.59l7.78-7.78 2.81-2.81c.8-.78.8-2.07 0-2.86zM5.41 20L4 18.59l7.72-7.72 1.47 1.35L5.41 20z\"/>\n",
              "  </svg>\n",
              "      </button>\n",
              "      \n",
              "  <style>\n",
              "    .colab-df-container {\n",
              "      display:flex;\n",
              "      flex-wrap:wrap;\n",
              "      gap: 12px;\n",
              "    }\n",
              "\n",
              "    .colab-df-convert {\n",
              "      background-color: #E8F0FE;\n",
              "      border: none;\n",
              "      border-radius: 50%;\n",
              "      cursor: pointer;\n",
              "      display: none;\n",
              "      fill: #1967D2;\n",
              "      height: 32px;\n",
              "      padding: 0 0 0 0;\n",
              "      width: 32px;\n",
              "    }\n",
              "\n",
              "    .colab-df-convert:hover {\n",
              "      background-color: #E2EBFA;\n",
              "      box-shadow: 0px 1px 2px rgba(60, 64, 67, 0.3), 0px 1px 3px 1px rgba(60, 64, 67, 0.15);\n",
              "      fill: #174EA6;\n",
              "    }\n",
              "\n",
              "    [theme=dark] .colab-df-convert {\n",
              "      background-color: #3B4455;\n",
              "      fill: #D2E3FC;\n",
              "    }\n",
              "\n",
              "    [theme=dark] .colab-df-convert:hover {\n",
              "      background-color: #434B5C;\n",
              "      box-shadow: 0px 1px 3px 1px rgba(0, 0, 0, 0.15);\n",
              "      filter: drop-shadow(0px 1px 2px rgba(0, 0, 0, 0.3));\n",
              "      fill: #FFFFFF;\n",
              "    }\n",
              "  </style>\n",
              "\n",
              "      <script>\n",
              "        const buttonEl =\n",
              "          document.querySelector('#df-56fdd0f0-63cc-4e11-afa1-25f9e559951c button.colab-df-convert');\n",
              "        buttonEl.style.display =\n",
              "          google.colab.kernel.accessAllowed ? 'block' : 'none';\n",
              "\n",
              "        async function convertToInteractive(key) {\n",
              "          const element = document.querySelector('#df-56fdd0f0-63cc-4e11-afa1-25f9e559951c');\n",
              "          const dataTable =\n",
              "            await google.colab.kernel.invokeFunction('convertToInteractive',\n",
              "                                                     [key], {});\n",
              "          if (!dataTable) return;\n",
              "\n",
              "          const docLinkHtml = 'Like what you see? Visit the ' +\n",
              "            '<a target=\"_blank\" href=https://colab.research.google.com/notebooks/data_table.ipynb>data table notebook</a>'\n",
              "            + ' to learn more about interactive tables.';\n",
              "          element.innerHTML = '';\n",
              "          dataTable['output_type'] = 'display_data';\n",
              "          await google.colab.output.renderOutput(dataTable, element);\n",
              "          const docLink = document.createElement('div');\n",
              "          docLink.innerHTML = docLinkHtml;\n",
              "          element.appendChild(docLink);\n",
              "        }\n",
              "      </script>\n",
              "    </div>\n",
              "  </div>\n",
              "  "
            ]
          },
          "metadata": {},
          "execution_count": 27
        }
      ]
    },
    {
      "cell_type": "markdown",
      "source": [
        "# LDA: gensim"
      ],
      "metadata": {
        "id": "VesnwDJpEsAQ"
      }
    },
    {
      "cell_type": "markdown",
      "source": [
        "## tokenization"
      ],
      "metadata": {
        "id": "e4C1koXOGzPX"
      }
    },
    {
      "cell_type": "code",
      "source": [
        "import konlpy\n",
        "import re\n",
        "\n",
        "def tokenize_korean_text(text):\n",
        "    text = re.sub(r'[▲]','', text) \n",
        "    text = re.sub(r'\\(.*=.*\\) ', '', re.sub(r'\\[.*=.*\\] ', '', text))\n",
        "    text = re.sub(r'페이스북 /LeYN1 트위터 @yonhap_graphic', '', text)\n",
        "    \n",
        "    okt = konlpy.tag.Okt()\n",
        "    Okt_morphs = okt.pos(text)\n",
        "    \n",
        "    words = []\n",
        "    stopwords = ['하는', '있다', '있는', '위해', '통해', '한다', '때문'] # 불용어 사전  \n",
        "    for word, pos in Okt_morphs:\n",
        "        if pos in ['Adjective', 'Verb', 'Noun', 'Alpha', 'Number'] and word not in stopwords:  # 이 경우에는 형용사, 동사, 명사, 영어, 숫자만 남김\n",
        "            words.append(word)\n",
        "    ## word를 이어붙인 string 형태가 아닌 word의 list를 return해주는 게 sklearn lda 준비 과정과의 차이\n",
        "            \n",
        "    return words\n",
        "\n",
        "\n",
        "tokenized_list = []\n",
        "\n",
        "for text in news['content']:\n",
        "    tokenized_list.append(tokenize_korean_text(text))\n",
        "\n",
        "print(len(tokenized_list))\n",
        "print(tokenized_list[0])"
      ],
      "metadata": {
        "id": "wpZJSovHEySg",
        "colab": {
          "base_uri": "https://localhost:8080/"
        },
        "outputId": "0a77013e-a56d-45b5-cb11-019902621095"
      },
      "execution_count": 21,
      "outputs": [
        {
          "output_type": "stream",
          "name": "stdout",
          "text": [
            "16214\n",
            "['정부', '올해', '중', '우리나라', '우주', '항공', '분야', '연구개발', 'R', 'D', '전담', '할', '우주', '항공', '청', '출범', '시킬', '계획', '외부', '전문가', '채용', '비중', '제한', '없애고', '우수', '인력', '유치하고자', '주식', '신탁', '예외', '허용', '등', '우주', '항공', '청', '전문성', '높이기', '위', '다양한', '특례', '마련', '된다', '과학기술', '정보통신부', '우주', '항공', '청', '설립', '근거', '되는', '우주', '항공', '청', '설치', '및', '운영', '관', '특별법', '정안', '2일', '입법', '예고', '한다고', '밝혔다', '특별법', '우주', '항공', '분야', '정책', 'R', 'D', '산업', '육성', '등', '총괄', '중앙', '행정기관', '우주', '항공', '청', '설치', '전문', '유연한', '조직', '운영', '하기', '위', '원칙', '기능', '특례', '등', '명시', '먼저', '우주', '항공', '정책', '거버넌스', '구축', '하기', '과', '정통부', '산업', '통상', '자원부', '등', '부처', '개별', '수행', '하던', '우주', '항공', '관련', '기술', '개발', '산업', '육성', '지원', '인재', '양성', '및', '우주', '위험', '대비', '등', '기능', '모두', '우주', '항공', '청', '일원', '화했다', '이를', '기존', '과', '정통부', '장관', '산지', '부', '장관', '등', '소관', '하던', '우주', '항공', '관련', '법률', '우주개발', '진흥', '법', '항공우주', '산업', '촉진법', '문법', '등', '우주', '항공', '청장', '담당', '하도록', '부칙', '개정', '할', '방침', '국가', '우주', '위원회', '위원장', '국무총리', '대통령', '격상', '해', '위상', '기능', '강화한다', '우주', '항공', '청장', '국가', '우주', '위', '새롭게', '위원', '추가', '해', '실무', '위원회', '위원장', '맡게', '등', '우주', '항공', '청', '우주', '경제', '시대', '여', '컨트롤', '타워', '역할', '하도록', '했다', '우주', '항공', '청', '조직', '경우', '과', '정통부', '장관', '소속', '되', '전문성', '가진', '조직', '구성', '된다', '우주', '항공', '청', '조직', '구성', '원칙', '핵심', '유연하고', '자율', '운영', '이를', '우주', '항공', '청', '내', '설치', '되는', '별도', '본부', '우주', '항공', 'R', 'D', '와', '산업', '활성화', '전담', '하게', '된다']\n"
          ]
        }
      ]
    },
    {
      "cell_type": "code",
      "source": [
        "drop_corpus = []\n",
        "\n",
        "for index in range(len(tokenized_list)):\n",
        "    corpus = tokenized_list[index]\n",
        "    if len(set(corpus)) < 21:   # corpus 자체가 list 형태인게 sklearn lda 준비 과정과의 차이\n",
        "        news.drop(index, axis='index', inplace=True)\n",
        "        drop_corpus.append(corpus)\n",
        "    \n",
        "for corpus in drop_corpus:\n",
        "    tokenized_list.remove(corpus)\n",
        "\n",
        "news.reset_index(drop=True, inplace=True)"
      ],
      "metadata": {
        "id": "_MHD1kEIE_8g"
      },
      "execution_count": 23,
      "outputs": []
    },
    {
      "cell_type": "markdown",
      "source": [
        "## vectorization & LDA"
      ],
      "metadata": {
        "id": "um5WLqbdG26J"
      }
    },
    {
      "cell_type": "code",
      "source": [
        "# bigram 생성에 필요한 library\n",
        "from gensim.models import Phrases\n",
        "from gensim.models.phrases import Phraser\n",
        "\n",
        "# vectorize & lda에 필요한 library\n",
        "from gensim import corpora\n",
        "from gensim.models.ldamodel import LdaModel"
      ],
      "metadata": {
        "id": "gbpu-s5LFFJp"
      },
      "execution_count": 25,
      "outputs": []
    },
    {
      "cell_type": "code",
      "source": [
        "# Build the bigram models\n",
        "bigram = Phrases(tokenized_list, min_count=10, threshold=20)\n",
        "bigram_mod = Phraser(bigram)\n",
        " \n",
        "# See example\n",
        "print(bigram_mod[tokenized_list[0]])"
      ],
      "metadata": {
        "colab": {
          "base_uri": "https://localhost:8080/"
        },
        "id": "tfEpJW2nFp3A",
        "outputId": "0a3d54f2-c246-44b5-dfbc-818303244321"
      },
      "execution_count": 28,
      "outputs": [
        {
          "output_type": "stream",
          "name": "stdout",
          "text": [
            "['정부', '올해', '중', '우리나라', '우주_항공', '분야', '연구개발_R', 'D', '전담', '할', '우주_항공', '청', '출범', '시킬', '계획', '외부_전문가', '채용', '비중', '제한', '없애고', '우수_인력', '유치하고자', '주식_신탁', '예외_허용', '등', '우주_항공', '청', '전문성', '높이기_위', '다양한', '특례', '마련', '된다', '과학기술_정보통신부', '우주_항공', '청_설립', '근거', '되는', '우주_항공', '청_설치', '및', '운영', '관_특별법', '정안', '2일', '입법_예고', '한다고_밝혔다', '특별법_우주', '항공', '분야', '정책', 'R_D', '산업_육성', '등', '총괄', '중앙_행정기관', '우주_항공', '청_설치', '전문', '유연한_조직', '운영', '하기_위', '원칙', '기능', '특례', '등', '명시', '먼저', '우주_항공', '정책', '거버넌스', '구축', '하기', '과_정통부', '산업_통상', '자원부', '등', '부처', '개별', '수행', '하던', '우주_항공', '관련', '기술', '개발', '산업_육성', '지원', '인재_양성', '및', '우주', '위험', '대비', '등', '기능', '모두', '우주_항공', '청', '일원', '화했다', '이를', '기존', '과_정통부', '장관', '산지', '부_장관', '등', '소관', '하던', '우주_항공', '관련', '법률', '우주개발_진흥', '법', '항공우주_산업', '촉진법', '문법', '등', '우주_항공', '청장', '담당', '하도록', '부칙', '개정', '할', '방침', '국가', '우주', '위원회_위원장', '국무총리_대통령', '격상', '해', '위상', '기능', '강화한다', '우주_항공', '청장', '국가', '우주', '위', '새롭게', '위원', '추가', '해', '실무', '위원회_위원장', '맡게', '등', '우주_항공', '청', '우주', '경제', '시대', '여', '컨트롤_타워', '역할', '하도록', '했다', '우주_항공', '청', '조직', '경우', '과_정통부', '장관', '소속', '되', '전문성_가진', '조직', '구성', '된다', '우주_항공', '청', '조직', '구성', '원칙', '핵심', '유연하고', '자율', '운영', '이를', '우주_항공', '청', '내', '설치', '되는', '별도', '본부', '우주_항공', 'R_D', '와', '산업', '활성화', '전담', '하게_된다']\n"
          ]
        }
      ]
    },
    {
      "cell_type": "code",
      "source": [
        "# tokenized_list의 모든 문서에 대해 bigram을 생성해줌\n",
        "words_bigram = [bigram_mod[doc] for doc in tokenized_list]"
      ],
      "metadata": {
        "id": "xgpzK_-fFsf4"
      },
      "execution_count": 29,
      "outputs": []
    },
    {
      "cell_type": "code",
      "source": [
        "dictionary = corpora.Dictionary(words_bigram)  # 각 단어에 번호를 할당해줌\n",
        "    # bigram 포함하는 과정을 생략하고 싶으면, 그냥 바로 여기에 tokenized_list를 넣어주면 됨\n",
        "\n",
        "dictionary.filter_extremes(no_below=20, no_above=0.80)   \n",
        "    # 20개의 문서 미만으로 등장하는 단어는 제외, 전체의 80% 이상으로 자주 등장하는 단어는 제외\n",
        "\n",
        "corpus = [dictionary.doc2bow(text) for text in words_bigram]\n",
        "print(corpus[0]) # 첫번째 corpus를 테스트로 출력: 몇 번째 단어가 몇 번 나왔는지 저장되어 있음"
      ],
      "metadata": {
        "colab": {
          "base_uri": "https://localhost:8080/"
        },
        "id": "YnpKrFGkFtuI",
        "outputId": "6b441e10-cfe5-439a-db09-7797ee717c36"
      },
      "execution_count": 31,
      "outputs": [
        {
          "output_type": "stream",
          "name": "stdout",
          "text": [
            "[(0, 1), (1, 1), (2, 2), (3, 1), (4, 1), (5, 1), (6, 1), (7, 1), (8, 1), (9, 1), (10, 1), (11, 1), (12, 3), (13, 1), (14, 1), (15, 2), (16, 2), (17, 1), (18, 2), (19, 1), (20, 3), (21, 1), (22, 1), (23, 1), (24, 1), (25, 1), (26, 1), (27, 1), (28, 1), (29, 2), (30, 2), (31, 1), (32, 1), (33, 1), (34, 1), (35, 1), (36, 1), (37, 2), (38, 1), (39, 1), (40, 1), (41, 1), (42, 1), (43, 1), (44, 1), (45, 2), (46, 1), (47, 1), (48, 2), (49, 1), (50, 1), (51, 1), (52, 1), (53, 1), (54, 1), (55, 1), (56, 1), (57, 1), (58, 1), (59, 1), (60, 1), (61, 1), (62, 1), (63, 1), (64, 1), (65, 1), (66, 1), (67, 4), (68, 17), (69, 3), (70, 2), (71, 1), (72, 1), (73, 1), (74, 2), (75, 1), (76, 1), (77, 1), (78, 2), (79, 1), (80, 1), (81, 1), (82, 1), (83, 1), (84, 2), (85, 2), (86, 1), (87, 1), (88, 1), (89, 1), (90, 1), (91, 2), (92, 1), (93, 3), (94, 1), (95, 1), (96, 1), (97, 1), (98, 1), (99, 7), (100, 2), (101, 2), (102, 1), (103, 1), (104, 1), (105, 1), (106, 2), (107, 1), (108, 1), (109, 1), (110, 2), (111, 2), (112, 1), (113, 2), (114, 1), (115, 1), (116, 2), (117, 1), (118, 1), (119, 1)]\n"
          ]
        }
      ]
    },
    {
      "cell_type": "code",
      "source": [
        "ldamodel = LdaModel(corpus, num_topics=10, id2word=dictionary, passes=20, iterations=500)  # 토픽 수: 6\n",
        "\n",
        "ldamodel.print_topics(num_words=7)  # num_words=10이 default"
      ],
      "metadata": {
        "colab": {
          "base_uri": "https://localhost:8080/"
        },
        "id": "r0RvJkg1FufI",
        "outputId": "78535577-0961-4b02-a988-5936a8572743"
      },
      "execution_count": 33,
      "outputs": [
        {
          "output_type": "execute_result",
          "data": {
            "text/plain": [
              "[(0,\n",
              "  '0.027*\"기술\" + 0.014*\"기업\" + 0.012*\"산업\" + 0.011*\"개발\" + 0.011*\"지원\" + 0.010*\"사업\" + 0.010*\"해\"'),\n",
              " (1,\n",
              "  '0.034*\"KT\" + 0.012*\"대표\" + 0.009*\"카카오\" + 0.009*\"경영\" + 0.009*\"는\" + 0.008*\"전\" + 0.008*\"기업\"'),\n",
              " (2,\n",
              "  '0.025*\"서비스\" + 0.015*\"할_수\" + 0.015*\"고객\" + 0.014*\"데이터\" + 0.011*\"제공\" + 0.010*\"해\" + 0.008*\"관리\"'),\n",
              " (3,\n",
              "  '0.062*\"AI\" + 0.021*\"챗_GPT\" + 0.019*\"기술\" + 0.016*\"를\" + 0.015*\"인공_지능\" + 0.014*\"는\" + 0.012*\"가\"'),\n",
              " (4,\n",
              "  '0.022*\"것\" + 0.011*\"이\" + 0.008*\"그\" + 0.007*\"고\" + 0.006*\"미국\" + 0.006*\"수\" + 0.006*\"할\"'),\n",
              " (5,\n",
              "  '0.019*\"서비스\" + 0.016*\"기업\" + 0.016*\"플랫폼\" + 0.015*\"대표\" + 0.014*\"사업\" + 0.012*\"글로벌\" + 0.011*\"콘텐츠\"'),\n",
              " (6,\n",
              "  '0.012*\"것\" + 0.008*\"이\" + 0.007*\"해\" + 0.006*\"할_수\" + 0.006*\"입니다\" + 0.005*\"수\" + 0.005*\"된\"'),\n",
              " (7,\n",
              "  '0.023*\"게임\" + 0.010*\"해\" + 0.009*\"된\" + 0.008*\"블록_체인\" + 0.008*\"것\" + 0.007*\"거래\" + 0.007*\"가상_자산\"'),\n",
              " (8,\n",
              "  '0.014*\"시장\" + 0.011*\"지난해\" + 0.010*\"것\" + 0.009*\"투자\" + 0.009*\"매출\" + 0.007*\"증가\" + 0.007*\"미국\"'),\n",
              " (9,\n",
              "  '0.013*\"제품\" + 0.009*\"전자\" + 0.008*\"를\" + 0.008*\"해\" + 0.008*\"할_수\" + 0.008*\"는\" + 0.008*\"의\"')]"
            ]
          },
          "metadata": {},
          "execution_count": 33
        }
      ]
    },
    {
      "cell_type": "markdown",
      "source": [
        "## LDA 시각화"
      ],
      "metadata": {
        "id": "3Uqkp5EBG8Mp"
      }
    },
    {
      "cell_type": "code",
      "source": [
        "import pyLDAvis.gensim  # gensim의 ldamodel에 최적화된 라이브러리\n",
        "\n",
        "vis = pyLDAvis.gensim.prepare(ldamodel, corpus, dictionary)\n",
        "pyLDAvis.display(vis)"
      ],
      "metadata": {
        "colab": {
          "base_uri": "https://localhost:8080/",
          "height": 916
        },
        "id": "agQdEo2lFvsH",
        "outputId": "5ddad78f-9c55-4f1b-c6cf-7456368c2067"
      },
      "execution_count": 36,
      "outputs": [
        {
          "output_type": "stream",
          "name": "stderr",
          "text": [
            "/usr/local/lib/python3.9/dist-packages/pyLDAvis/_prepare.py:243: FutureWarning: In a future version of pandas all arguments of DataFrame.drop except for the argument 'labels' will be keyword-only.\n",
            "  default_term_info = default_term_info.sort_values(\n"
          ]
        },
        {
          "output_type": "execute_result",
          "data": {
            "text/plain": [
              "<IPython.core.display.HTML object>"
            ],
            "text/html": [
              "\n",
              "<link rel=\"stylesheet\" type=\"text/css\" href=\"https://cdn.jsdelivr.net/gh/bmabey/pyLDAvis@3.4.0/pyLDAvis/js/ldavis.v1.0.0.css\">\n",
              "\n",
              "\n",
              "<div id=\"ldavis_el1000061404677908500802145296464\" style=\"background-color:white;\"></div>\n",
              "<script type=\"text/javascript\">\n",
              "\n",
              "var ldavis_el1000061404677908500802145296464_data = {\"mdsDat\": {\"x\": [0.08321023704730161, -0.1924454112767503, -0.08059578902436794, 0.14500859229272683, -0.1070219706049323, 0.13135198054946934, 0.14543619918281378, 0.11142449630039439, -0.07152604051341879, -0.16484229395323655], \"y\": [0.1339068854706004, -0.1356594931618628, -0.182295093650182, -0.01862557396413391, 0.03287381732732505, 0.1460514176443662, -0.08772957845586703, -0.1389695602932142, 0.04952208757743165, 0.2009250915055366], \"topics\": [1, 2, 3, 4, 5, 6, 7, 8, 9, 10], \"cluster\": [1, 1, 1, 1, 1, 1, 1, 1, 1, 1], \"Freq\": [15.921822549548207, 13.530956365429486, 13.416880748660502, 10.511864719356415, 9.967302542896888, 9.885460714472751, 8.886894648458735, 7.6651630130768424, 5.768484577061867, 4.445170121038315]}, \"tinfo\": {\"Term\": [\"AI\", \"\\uae30\\uc220\", \"\\uc11c\\ube44\\uc2a4\", \"KT\", \"\\ucc57_GPT\", \"\\uac8c\\uc784\", \"\\ub370\\uc774\\ud130\", \"\\uc0ac\\uc5c5\", \"\\ub300\\ud45c\", \"\\uae30\\uc5c5\", \"\\ud50c\\ub7ab\\ud3fc\", \"\\uace0\\uac1d\", \"\\uc778\\uacf5_\\uc9c0\\ub2a5\", \"\\ubc18\\ub3c4\\uccb4\", \"\\uc2dc\\uc7a5\", \"\\uac1c\\ubc1c\", \"\\uc0b0\\uc5c5\", \"\\uc81c\\ud488\", \"\\ucf58\\ud150\\uce20\", \"\\ud560_\\uc218\", \"\\uae00\\ub85c\\ubc8c\", \"\\uc81c\\uacf5\", \"\\uac83\", \"\\ub294\", \"\\ub97c\", \"\\uc2a4\\ud0c0\\ud2b8\\uc5c5\", \"\\ub9e4\\ucd9c\", \"\\uc758\", \"\\uc9c0\\uc6d0\", \"\\uc804\\uc790\", \"SW\", \"\\uc778\\uc7ac_\\uc591\\uc131\", \"UAM\", \"\\uc2e4\\uc99d\", \"\\ud0c4\\uc18c_\\uc911\\ub9bd\", \"\\uc0b0\\uc5c5_\\ub2e8\\uc9c0\", \"\\uc774\\ubc88_\\ud611\\uc57d\", \"\\uad6d\\uac00_\\uc804\\ub7b5\", \"\\ud339\\ub9ac\\uc2a4\", \"\\uccb4\\uacb0_\\ud588\\ub2e4\\uace0\", \"\\ud56d\\uccb4\", \"\\uc624\\ud508_\\ub79c\", \"\\uc18c\\uc790\", \"\\uace0\\uccb4_\\ubc30\\ud130\\ub9ac\", \"\\ucca8\\ub2e8_\\uc0b0\\uc5c5\", \"\\uad6d\\uac00_\\ucca8\\ub2e8\", \"ERP\", \"\\uc778\\ub825_\\uc591\\uc131\", \"\\uad50\\uc721_\\ud504\\ub85c\\uadf8\\ub7a8\", \"\\ud559\\uacfc\", \"\\ud55c\\ucef4\", \"\\uc778\\uc7ac_\\uc721\\uc131\", \"MOU_\\uccb4\\uacb0\", \"\\ud2b8\\ub9ad\", \"\\uc18c\\uc7ac_\\ubd80\\ud488\", \"\\ucee8\\uc18c\\uc2dc\\uc5c4\", \"\\uc77c\\ub9ac_\\uae40\\ub3c4\\ud604\", \"15\\uc77c_\\ubc1d\\ud614\\ub2e4\", \"MOU_\\ub97c\", \"\\uc0b0\\uc5c5\\ubd80\", \"\\uc591\\uc790\", \"\\uc0b0\\uc5c5_\\ud1b5\\uc0c1\", \"\\uc790\\uc6d0\\ubd80\", \"\\ucca8\\ub2e8\", \"\\uc218\\uc18c\", \"\\ub85c\\ubd07\", \"\\uc790\\uc728_\\uc8fc\\ud589\", \"\\uc0b0\\uc5c5_\\ud611\\ud68c\", \"\\uacfc\\ud559\\uae30\\uc220\", \"\\uc0b0\\uc5c5\", \"\\uccad\\ub144\", \"\\ub4dc\\ub860\", \"R_D\", \"\\uad50\\uc721\", \"\\ucd94\\uc9c4\", \"\\ud611\\ub825\", \"\\uae30\\uc220\", \"SaaS\", \"\\ubd84\\uc57c\", \"\\ud601\\uc2e0\", \"\\uc735\\ud569\", \"\\uc5f0\\uad6c\\uac1c\\ubc1c\", \"\\ubbf8\\ub798\", \"\\ubbfc\\uac04\", \"\\uc9c0\\uc6d0\", \"\\uc6b0\\uc218\", \"\\uc120\\ub3c4\", \"\\ubc18\\ub3c4\\uccb4\", \"\\uac1c\\ubc1c\", \"\\ub514\\uc9c0\\ud138\", \"\\ud55c\\uad6d\", \"\\ub514\\uc9c0\\ud138_\\uc804\\ud658\", \"\\uae30\\uc5c5\", \"\\uc0ac\\uc5c5\", \"\\uad6d\\uac00\", \"\\uc815\\ubd80\", \"\\ubc0f\", \"\\uc9c0\\uc5ed\", \"\\uc704\", \"\\uc2dc\\uc2a4\\ud15c\", \"\\uad6c\\ucd95\", \"\\uacc4\\ud68d\", \"\\uc5f0\\uad6c\", \"\\ud575\\uc2ec\", \"\\uc804\\ub7b5\", \"\\ud574\", \"\\uae30\\ubc18\", \"\\uad00\\ub828\", \"\\ud65c\\uc6a9\", \"\\ud560\", \"\\uad6d\\ub0b4\", \"\\ud560_\\uc218\", \"\\uc774\\ubc88\", \"\\ub137\\ud50c\\ub9ad\\uc2a4\", \"\\ud2f1\\ud1a1\", \"\\uc560\\ud50c_\\ud398\\uc774\", \"\\ud2b8\\uc704\\ud130\", \"the\", \"\\uc5b8\\ub860\", \"\\ub2f4\\ubc30\", \"\\uc2a4_\\ud14c\\uc774\\ube14\", \"a\", \"\\uc7ac\\ud0dd\\uadfc\\ubb34\", \"\\ud574\\uace0\", \"\\uc2e4\\ubc84_\\uac8c\\uc774\\ud2b8\", \"\\ubaa8\\uc784\", \"\\uc2a4\\ud398\\uc774\\uc2a4_X\", \"\\uc5f0\\ubd09\", \"s\", \"\\ub9e4\\ud06c\\ub85c\", \"\\uac10\\uc6d0\", \"\\uc608\\uae08\", \"\\ub300_\\uc8fc\\uc8fc\", \"\\uc18c\\uc15c\\ubbf8\\ub514\\uc5b4\", \"\\uc6b0\\uc8fc_\\ud56d\\uacf5\", \"\\uccb4\\ud06c\\uce74\\ub4dc\", \"\\ubc95\\ubb34\\ubd80\", \"\\uc99d\\uac10\", \"\\ubbfc\\uc8fc\\ub2f9\", \"\\uacc4\\uc815_\\uacf5\\uc720\", \"\\ub354_\\uae00\\ub85c\\ub9ac\", \"\\ud035\", \"\\uba38\\uc2a4\\ud06c\", \"\\ubd88\\ubc95\", \"\\ud398\\uc774\\uc2a4\\ubd81\", \"and\", \"in\", \"\\uc9c1\\uc6d0\", \"\\ud310\\uacb0\", \"\\uc8fc\\uc7a5\", \"\\uba54\\ud0c0\", \"\\uc9c0\\uc801\", \"\\uadf8\", \"\\uc5c6\\ub2e4\", \"\\uae30\\uc0ac\", \"\\uc77c\", \"\\ubb38\\uc81c\", \"\\uac83\", \"\\uc774\\uc720\", \"\\uace0\", \"\\uc0ac\\uc2e4\", \"\\ud574\\uc57c\", \"\\uc560\\ud50c\", \"\\ubbf8\\uad6d\", \"\\uc6b0\\ub824\", \"\\uc774\", \"\\uc6b0\\ub9ac\", \"\\uc218\", \"\\uba70\", \"\\ud55c\", \"\\uc77c\\ubd80\", \"\\uc0c1\\ud669\", \"\\uc815\\ubd80\", \"\\ub2e4\\ub978\", \"\\ub300\\ud574\", \"\\ub54c\", \"\\ud560\", \"\\ub300\\ud55c\", \"\\ud55c\\uad6d\", \"\\ub354\", \"\\uac00\", \"\\uace0_\\ub9d0\", \"\\ub294\", \"\\ucd5c\\uadfc\", \"\\ub420\", \"\\uacbd\\uc6b0\", \"\\uae30\\uc5c5\", \"\\uad00\\ub828\", \"\\uc785\\ub2c8\\ub2e4\", \"\\uc788\\uc2b5\\ub2c8\\ub2e4\", \"\\ud658\\uc790\", \"\\ud588\\uc2b5\\ub2c8\\ub2e4\", \"\\uce58\\ub8cc\", \"\\ud569\\ub2c8\\ub2e4\", \"\\uc138\\ud3ec\", \"\\uc575\\ucee4\", \"\\uc554\", \"\\ube44\\ub300_\\uc9c4\\ub8cc\", \"\\uc9c8\\ud658\", \"\\uc5f0\\uad6c_\\uacb0\\uacfc\", \"\\ud050\\ube44\\ud2b8\", \"\\uc131\\ubd84\", \"\\uc9c4\\ub8cc\", \"\\ub429\\ub2c8\\ub2e4\", \"\\uc6d0\\uc790\\ub825\", \"\\ub1cc\", \"\\ub2e8\\ubc31\\uc9c8\", \"\\uce58\\ub8cc_\\uc81c\", \"\\uc758\\ud559\", \"\\uc99d\\uc0c1\", \"\\uc218\\uc220\", \"\\uc218\\uba74\", \"\\uac10\\uc5fc\", \"\\uc9c8\\ubcd1\", \"\\uc758\\ub8cc_\\uae30\\uad00\", \"\\uc6d0\\uc804\", \"\\uce58\\ub9e4\", \"\\uc57d\\ubb3c\", \"\\uc6b4\\ub3d9\", \"\\ubcd1\\uc6d0\", \"\\uac74\\uac15\", \"\\uac80\\uc0ac\", \"\\uc8fc\\ubbfc\", \"\\uc758\\ub8cc\", \"\\ubc31\\uc2e0\", \"\\uac70\", \"\\uc0ac\\ub78c\", \"\\ud300\", \"\\uc758\\uc0ac\", \"\\uc784\", \"\\uc5f0\\uad6c\", \"\\uac83\", \"\\uad50\\uc218\", \"\\uc218\", \"\\uc774\", \"\\ubc1c\\uc0dd\", \"\\ub54c\", \"\\uba85\", \"\\ud560_\\uc218\", \"\\ud574\", \"1\", \"\\ud6a8\\uacfc\", \"\\uc815\\ub3c4\", \"\\ub41c\", \"\\uc774\\uc0c1\", \"\\uc0ac\\uc6a9\", \"\\ud558\\uba74\", \"\\uadf8\", \"2\", \"\\uc911\", \"\\uac1c\\ubc1c\", \"\\ub418\\ub294\", \"\\ubd84\\uc11d\", \"\\ud560\", \"LG_\\uc720\\ud50c\\ub7ec\\uc2a4\", \"\\uac1c\\uc778\\uc815\\ubcf4_\\uc720\\ucd9c\", \"\\uc7ac\\ub09c\", \"\\ud1a0\\ud070_\\uc99d\\uad8c\", \"\\uc815\\ubcf4\\ubcf4\\ud638\", \"\\uc54c\\ub730\\ud3f0\", \"\\ub9c8\\uc774_\\ub370\\uc774\\ud130\", \"\\ud1b5\\uc2e0_3\", \"\\uc0b0\\ubd88\", \"\\ubc31\\uc5c5\", \"STO\", \"\\uce74\\uce74\\uc624_\\ud398\\uc774\", \"RPA\", \"\\ubc88\\ud638\", \"\\uc801\\ub9bd\", \"\\ub124\\ud2b8\\uc6cd_\\uc2a4\", \"\\ud0a4_\\uc624\\uc2a4\", \"\\uc720\\ud50c\\ub7ec\\uc2a4\", \"\\uc9c4\\ud765_KISA\", \"KISA\", \"\\ud669_\\ub300\\ud45c\", \"\\uc804\\ud654\\ubc88\\ud638\", \"\\uc0ac\\uace0_\\ubc1c\\uc0dd\", \"\\uc804\\uc790\\ubb38\\uc11c\", \"\\uc0ac\\uc774\\ubc84_\\uacf5\\uaca9\", \"\\uc138\\ud0c1\", \"\\uc785\\ubc95_\\uc608\\uace0\", \"\\ube75\", \"ID\", \"\\ud074\\ub808\\uc774\", \"\\ubc30\\uc1a1\", \"\\ud648\\uc1fc\\ud551\", \"\\ubcf4\\uc548\", \"\\uae08\\uc81c\", \"\\uacb0\\uc81c\", \"\\uc778\\uc99d\", \"\\ud30c\\uc77c\", \"AI_\\ucee8\\ud0dd\", \"\\uc545\\uc131\\ucf54\\ub4dc\", \"\\uac00\\uc785\", \"\\uace0\\uac1d\", \"\\uc804\\ud654\", \"\\uc0c1\\ud488\", \"\\uad00\\ub9ac\", \"\\ub370\\uc774\\ud130\", \"\\ub4f1\\ub85d\", \"\\uc694\\uae08\", \"\\uc11c\\ube44\\uc2a4\", \"\\uc774\\uc6a9\", \"\\uc81c\\uacf5\", \"\\uc0c1\\ub2f4\", \"\\uae08\\uc735\", \"\\uc124\\uce58\", \"\\uce74\\uce74\\uc624_\\ud1a1\", \"\\uc790\\ub3d9\", \"\\ub3c4\\uc785\", \"\\ud1b5\\uc2e0\", \"\\ud560_\\uc218\", \"\\uc2dc\", \"\\uc194\\ub8e8\\uc158\", \"\\ud655\\uc778\", \"\\uc815\\ubcf4\", \"\\ubc0f\", \"\\uc13c\\ud130\", \"\\uc5c5\\ubb34\", \"\\uc0ac\\uc6a9\", \"\\uae30\\ub2a5\", \"\\ud574\", \"\\ud074\\ub77c\\uc6b0\\ub4dc\", \"\\uc571\", \"\\uc6b4\\uc601\", \"\\ub41c\", \"\\uc2dc\\uc2a4\\ud15c\", \"\\ub41c\\ub2e4\", \"\\uc9c0\\uc6d0\", \"\\uc801\\uc6a9\", \"\\ub97c\", \"\\ud560\", \"\\ud50c\\ub7ab\\ud3fc\", \"\\uc601\\uc5c5_\\uc774\\uc775\", \"\\ud558\\uc774\\ube0c\", \"\\uc624\\ud508_\\ucc44\\ud305\", \"\\uc0bc\\uc131_SDI\", \"SK_\\uc628\", \"\\uc21c\\uc774\\uc775\", \"LG_\\uc5d0\\ub108\\uc9c0\", \"4\\ubd84\", \"\\uc2dc\\uc7a5\\uc870\\uc0ac_\\uc5c5\\uccb4\", \"D_\\ub7a8\", \"\\ub144_\\ub3d9\\uae30\", \"\\uc9c0\\ub09c\\ud574_4\\ubd84\", \"\\uc544\\uc774\\uc5b8_\\uba54\\uc774\\uc2a4\", \"\\ub144_\\ub300\\ube44\", \"\\ubc14\\uc774\\uc624_\\uc9c1\\uc2a4\", \"\\uc720\\ub8cc_\\ubc29\\uc1a1\", \"\\ub9e4\\ucd9c_\\ub144\", \"\\uc218\\ucd9c_\\uaddc\\uc81c\", \"LG_\\ud654\\ud559\", \"\\uc544\\uc774\\ub3cc\", \"\\ud3ec\\ub4dc\", \"SK_\\uc2a4\\ud018\\uc5b4\", \"\\ucd9c_\\ud558\\ub7c9\", \"\\uc801\\uc790\", \"\\uacf5\\uc7a5_\\uac74\\uc124\", \"\\uc5f0\\uacb0_\\uae30\\uc900\", \"\\uba54\\ubaa8\\ub9ac_\\ubc18\\ub3c4\\uccb4\", \"\\uc0dd\\uc0b0_\\ub2a5\\ub825\", \"\\uc601\\uc5c5_\\uc190\\uc2e4\", \"\\uc778\\ud50c\\ub808\\uc774\\uc158\", \"\\ub300\\ub9cc\", \"TSMC\", \"\\uac1c_\\ud488\\ubaa9\", \"\\ub9e4\\ucd9c\", \"\\ud558\\ub77d\", \"\\uc810\\uc720_\\uc728\", \"\\ud30c\\uc6b4\\ub4dc\\ub9ac\", \"\\uc2e4\\uc801\", \"\\ub2ec\\ub7ec\", \"\\uac10\\uc18c\", \"\\uc0c1\\uc2b9\", \"\\uc99d\\uac00\", \"\\uac19\\uc740_\\uae30\\uac04\", \"\\ubc30\\ud130\\ub9ac\", \"\\uc804\\uae30\\ucc28\", \"\\uc911\\uad6d\", \"\\uc9c0\\ub09c\\ud574\", \"1\\uc870\", \"\\uae30\\ub85d\", \"\\uacf5\\uc7a5\", \"\\uc190\\uc2e4\", \"\\uc2dc\\uc7a5\", \"\\uc77c\\ubcf8\", \"\\uaddc\\ubaa8\", \"2021\\ub144\", \"\\ub300\\ube44\", \"\\ud22c\\uc790\", \"\\uc6d0\", \"\\uc0dd\\uc0b0\", \"2022\\ub144\", \"\\uc5c5\\uccb4\", \"\\uc62c\\ud574\", \"\\ubc18\\ub3c4\\uccb4\", \"\\ubbf8\\uad6d\", \"\\uc57d\", \"\\uae30\\uc900\", \"\\ub85c\", \"\\uac83\", \"\\uc804\\ub9dd\", \"\\uad6d\\ub0b4\", \"\\ud560\", \"\\uae00\\ub85c\\ubc8c\", \"\\ud68c\\uc0ac\", \"\\uc774\", \"\\uc758\", \"\\ub97c\", \"\\uc6f9\\ud230\", \"B_2\", \"\\ub124\\uc774\\ubc84\\uc6f9\\ud230\", \"AICC\", \"\\uc5d0\\uc774_\\ub2f7\", \"\\ud380\\ub529\", \"\\ud2f0\\ub9f5_\\ubaa8\\ube4c\\ub9ac\\ud2f0\", \"\\uc0c1\\ub2f4\\uc0ac\", \"\\uc9c0\\ub2c8_\\ubc84\\uc2a4\", \"\\ubdf0\\ud2f0\", \"\\ub514_\\uc9c0\\ucf54\", \"\\uc5bc\\ub77c\\uc774\\uc5b8\\uc2a4\", \"\\uac70\\ub798_\\uc561\", \"\\uad11\\uace0\\uc8fc\", \"\\uc804\\uae30\\ucc28_\\ucda9\\uc804\", \"\\uc624\\ub514\\uc624_\\ub4dc\\ub77c\\ub9c8\", \"\\ubc84\\ud2f0_\\uceec\", \"\\ucf54_GPT\", \"\\uc624\\ub298_\\uc9d1\", \"\\ub124\\ud2b8\\uc6cc\\ud0b9\", \"\\uc6f9\\uc18c\\uc124\", \"\\uc6f9\\ud230_\\uc6f9\\uc18c\\uc124\", \"\\ub808\\uc774_\\ud130\", \"\\ubc95\\uc778_\\uc124\\ub9bd\", \"\\ud53c\\uc628\", \"\\uba54\\uc774\\ucee4\", \"\\uc774\\ud504_\\ub79c\\ub4dc\", \"\\ub9e4\\ucd9c_\\ube44\\uc911\", \"\\uacf5\\ubaa8\\uc804\", \"\\uc778\\ud130_\\ub799\\ud2f0\\ube0c\", \"\\uc544\\ud2f0\\uc2a4\\ud2b8\", \"\\ud06c\\ub9ac\\uc5d0\\uc774\\ud130\", \"\\ucf58\\ud150\\uce20_\\uc81c\\uc791\", \"\\uc774\\ucee4\\uba38\\uc2a4\", \"\\ub77c\\uc774\\ube0c\", \"\\uacf5\\uc5f0\", \"\\uba54\\ud0c0_\\ubc84\\uc2a4\", \"IP\", \"\\uc2a4\\ud0c0\\ud2b8\\uc5c5\", \"\\ucee4\\uba38\\uc2a4\", \"\\ucf58\\ud150\\uce20\", \"\\uc544\\ubc14\\ud0c0\", \"\\ucef4\\ud37c\\ub2c8\", \"\\uc74c\\uc545\", \"\\uc5d4\\ud130\\ud14c\\uc778\\uba3c\\ud2b8\", \"\\ubbf8\\ub514\\uc5b4\", \"\\ud50c\\ub7ab\\ud3fc\", \"\\uc791\\ud488\", \"\\ub9c8\\ucf00\\ud305\", \"\\ud32c\", \"\\ub300\\ud45c\", \"\\uc5ec\\ud589\", \"\\uae00\\ub85c\\ubc8c\", \"\\ucc3d\\uc5c5\", \"OTT\", \"\\ud30c\\ud2b8\\ub108\", \"\\ud611\\uc5c5\", \"\\uc2a4\\ud1a0\\ub9ac\", \"\\uc11c\\ube44\\uc2a4\", \"\\uc0ac\\uc5c5\", \"\\ub2e4\\uc591\\ud55c\", \"\\uc131\\uc7a5\", \"\\ud655\\uc7a5\", \"\\uae30\\uc5c5\", \"\\uc81c\\uc791\", \"\\ud504\\ub85c\\uadf8\\ub7a8\", \"\\ube44\\uc988\\ub2c8\\uc2a4\", \"\\ub124\\uc774\\ubc84\", \"\\ube0c\\ub79c\\ub4dc\", \"\\uad6d\\ub0b4\", \"\\uc6b4\\uc601\", \"\\uc9c4\\ud589\", \"\\ub97c\", \"\\ud574\", \"\\ud558\\uba70\", \"\\uae30\\ubc18\", \"\\uc2dc\\uc7a5\", \"\\ud22c\\uc790\", \"\\ubc0f\", \"\\uc81c\\uacf5\", \"\\uc758\", \"\\uc774\\ubc88\", \"\\uc194\\ub8e8\\uc158\", \"\\ucc38\\uc5ec\", \"\\ud560_\\uc218\", \"\\ub294\", \"\\uacc4\\ud68d\", \"\\uac24\\ub7ed\\uc2dc_S\", \"\\uac24\\ub7ed\\uc2dc\", \"\\ud3f4_\\ub354\\ube14\", \"\\ud3f0\", \"\\uad00\\ub78c\\uac1d\", \"23_\\uc2dc\\ub9ac\\uc988\", \"\\ud0a4_\\ubcf4\\ub4dc\", \"\\uac8c\\uc774_\\ubc0d\", \"\\uc0ac\\uc6b4\\ub4dc\", \"\\uc0c9\\uc0c1\", \"23_\\uc6b8\\ud2b8\\ub77c\", \"e_\\uc2a4\\ud3ec\\uce20\", \"\\uc804\\uc2dc\\uad00\", \"\\uc544\\uc774\\ud3f0_14\", \"\\uac24\\ub7ed\\uc2dc_Z\", \"S_23\", \"\\ud654\\uc9c8\", \"\\uc0ac\\uc6b4\\ub4dc_\\ubc14\", \"BMW\", \"\\uc0ac\\uc591\", \"\\uc804\\uc791\", \"\\uceec\\ub7ec\", \"\\ucde8\\ud5a5\", \"4_K\", \"\\uc99d\\uc815\", \"\\ubaa8\\uc158\", \"\\uadf8\\ub7a8\", \"\\ucd94\\ucca8\", \"\\uac24\\ub7ed\\uc2dc_\\ubd81\", \"\\ub098\\ubcfc_\\uc218\", \"OLED\", \"MWC_2023\", \"\\uc2e0\\uc81c\\ud488\", \"\\uc6b8\\ud2b8\\ub77c\", \"\\ud654\\uc6e8\\uc774\", \"\\ud004\\ucef4\", \"\\ub178\\ud2b8\\ubd81\", \"\\uce74\\uba54\\ub77c\", \"\\ubd80\\uc2a4\", \"\\uc804\\uc2dc\\uc7a5\", \"MWC\", \"\\ubaa8\\ub4dc\", \"TV\", \"\\uc2a4\\ub9c8\\ud2b8\\ud3f0\", \"\\uc2dc\\ub9ac\\uc988\", \"LG_\\uc804\\uc790\", \"\\ub514\\uc790\\uc778\", \"\\ud504\\ub85c\", \"\\uc804\\uc2dc\", \"\\ud0d1\\uc7ac\", \"23\", \"\\uc81c\\ud488\", \"\\uc0bc\\uc131\", \"\\uc804\\uc790\", \"\\uc131\\ub2a5\", \"5_G\", \"\\ud654\\uba74\", \"\\ub514\\uc2a4\\ud50c\\ub808\\uc774\", \"\\ucd9c\\uc2dc\", \"\\ud2f0\\ube59\", \"\\uc0bc\\uc131_\\uc804\\uc790\", \"\\uae30\\uae30\", \"\\ubaa8\\ub378\", \"\\uacf5\\uac04\", \"3\", \"\\ucd5c\\ub300\", \"\\uc758\", \"\\ub97c\", \"\\uc801\\uc6a9\", \"\\ub294\", \"\\uae30\\ub2a5\", \"\\ub41c\", \"\\ud560_\\uc218\", \"\\uacf5\\uac1c\", \"\\ud574\", \"2\", \"\\uc0ac\\uc6a9\", \"\\ub410\\ub2e4\", \"\\ub41c\\ub2e4\", \"\\uc640\", \"\\uc774\", \"\\ucc57_GPT\", \"GPT\", \"\\uc624\\ud508_AI\", \"\\ud559\\uc2b5\", \"\\ucd08_\\uac70\\ub300\", \"\\ucc57\\ubd07\", \"\\uc0dd_\\uc131\\ud615\", \"AI_\\ucc57\\ubd07\", \"\\ube59\", \"\\ud55c\\uad6d\\uc5b4\", \"\\ubc88\\uc5ed\", \"MS\", \"\\ubb38\\uc7a5\", \"\\uc5b8\\uc5b4_\\ubaa8\\ub378\", \"\\ud14d\\uc2a4\\ud2b8\", \"\\ud558\\uc774\\ud37c_\\ud074\\ub85c\", \"\\uac80\\uc0c9_\\uc5d4\\uc9c4\", \"\\uc5c5_\\uc2a4\\ud14c\\uc774\\uc9c0\", \"\\uce74\\uce74\\uc624_\\ube0c\\ub808\\uc778\", \"\\ud504\\ub86c_\\ud504\\ud2b8\", \"\\ub525\", \"\\uce74\\uce74\\uc624_\\ud5ec\", \"MS_\\ub294\", \"\\uc74c\\uc131\\uc778\\uc2dd\", \"OCR\", \"\\uc774\\ubbf8\\uc9c0_\\uc0dd\", \"\\ucd08\\ub300_\\uaddc\\ubaa8\", \"\\uc790\\uc5f0\\uc2a4\\ub7ec\\uc6b4_\\ub300\\ud654\", \"\\ucd94\\ub860\", \"\\ubc14\\ub4dc\", \"AI\", \"\\uc5b8\\uc5b4\", \"\\uc2dc\\uac01\\uc7a5\\uc560\\uc778\", \"\\uc778\\uacf5_\\uc9c0\\ub2a5\", \"\\uc601\\uc5b4\", \"\\uc0dd\", \"\\ub2f5\\ubcc0\", \"\\uac80\\uc0c9\", \"\\uad6c\\uae00\", \"\\ub300\\ud654\", \"\\uc774\\ubbf8\\uc9c0\", \"\\uc9c8\\ubb38\", \"\\ubb38\\uc11c\", \"\\uc778\\uac04\", \"\\ubaa8\\ub378\", \"4\", \"\\uac00\", \"\\ub370\\uc774\\ud130\", \"\\ud65c\\uc6a9\", \"\\uae30\\uc220\", \"\\ub97c\", \"\\ub294\", \"\\uc758\", \"\\ud560_\\uc218\", \"\\uc11c\\ube44\\uc2a4\", \"\\uac1c\\ubc1c\", \"\\uae30\\ubc18\", \"\\ud574\", \"\\uc815\\ubcf4\", \"\\uacf5\\uac1c\", \"\\uac83\", \"\\ub41c\", \"\\ud560\", \"\\uac00\\uc0c1_\\uc790\\uc0b0\", \"NFT\", \"\\uac70\\ub798\\uc18c\", \"\\ucf54\\uc778\", \"\\ub514\\uc9c0\\ud138_\\uc790\\uc0b0\", \"\\uc704_\\ubbf9\\uc2a4\", \"\\ub125\\uc2a8\", \"LG_CNS\", \"\\uac1c\\uc815\\uc548\", \"\\uacf5\\uc815\\uc704\", \"\\uc704\\uba54\\uc774\\ub4dc\", \"ADC\", \"\\ud32c\\ub364_\\ud50c\\ub7ab\\ud3fc\", \"\\ucef4\\ud22c\\uc2a4\", \"\\ube44\\ud2b8\\ucf54\\uc778\", \"\\ub137\\ub9c8\\ube14\", \"\\uc0ac\\ub0b4_\\uc774\\uc0ac\", \"\\uce74\\uce74\\uc624_T\", \"\\uc554\\ud638_\\ud654\\ud3d0\", \"\\uc5c5_\\ube44\\ud2b8\", \"\\uc554\\uc138\\ud3ec\", \"\\ud604\\ud589\", \"\\ub354_\\ub9ac\\uc6c0\", \"\\ud074\\ub808\\uc774\\ud2bc\", \"\\ubc29_\\ucc38\\uc5ec\\uc790\", \"\\ud0c8_\\uc911\\uc559\", \"\\uba54\\uac00\\uc640\\ud2b8\", \"MMORPG\", \"\\uad00_\\ubc95\\ub960\", \"\\uc778\\ub514_\\uac8c\\uc784\", \"\\ube14\\ub85d_\\uccb4\\uc778\", \"\\uc6f9_3\", \"\\uac1c\\uc815\", \"\\uce74\\uce74\\uc624_\\ubaa8\\ube4c\\ub9ac\\ud2f0\", \"\\uac8c\\uc784\", \"\\uc99d\\uad8c\", \"\\ubc1c\\ud589\", \"\\uac1c\\uc778\\uc815\\ubcf4\", \"\\uac70\\ub798\", \"\\ub9e4\\ub9e4\", \"\\uad6d\\ud68c\", \"\\ud611\\uc0c1\", \"\\ubc95\\uc548\", \"\\uaddc\\uc81c\", \"\\ubc29\", \"\\uc704\\uc6d0\\ud68c\", \"\\uac1c\\uc778_\\uc815\\ubcf4\\ubcf4\\ud638\", \"\\uc81c\\ub3c4\", \"\\uc0c1\\uc7a5\", \"\\uc774\\uc6a9\\uc790\", \"\\uce74\\uce74\\uc624\", \"\\ub41c\", \"\\uc0ac\\uc5c5\\uc790\", \"\\ud574\", \"\\uad00\\ub828\", \"\\ubc1d\\ud614\\ub2e4\", \"\\ub300\\ud55c\", \"\\ud574\\ub2f9\", \"\\uc704\", \"\\uc2dc\\uc7a5\", \"\\uac83\", \"\\uac1c\\ubc1c\", \"\\ud560\", \"\\ubc0f\", \"\\uc774\", \"\\ud560_\\uc218\", \"\\uc758\", \"\\ud50c\\ub7ab\\ud3fc\", \"\\ub420\", \"\\ub97c\", \"\\uc9c4\\ud589\", \"\\uc774\\uc0ac\\ud68c\", \"\\uad6c_\\ub300\\ud45c\", \"\\uae30\\ubd80\", \"\\uc0ac\\uc678\\uc774\\uc0ac\", \"\\uc724\\uacbd_\\ub9bc\", \"KT_\\uc774\\uc0ac\\ud68c\", \"\\uad6d\\ubbfc\\uc5f0\\uae08\", \"\\uc724_\\uc0ac\\uc7a5\", \"\\uc18c\\uc561_\\uc8fc\\uc8fc\", \"\\ud6c4\\ubcf4\\uc790\", \"\\uce74\\uce74\\uc624_\\uc5d4\\ud130\\ud14c\\uc778\\uba3c\\ud2b8\", \"\\ucc28\\uae30_\\ub300\\ud45c\\uc774\\uc0ac\", \"\\uacf5\\uac1c\\ub9e4\\uc218\", \"\\ub300\\ud45c\\uc774\\uc0ac_\\ud6c4\\ubcf4\", \"\\uc815\\uae30_\\uc8fc\\uc8fc\\ucd1d\\ud68c\", \"\\uc5ec\\uad8c\", \"\\ucc28\\uae30_\\ub300\\ud45c\", \"\\uce74\\uce74\\uc624_\\ud130\", \"\\uc9c0\\ubc30\\uad6c\\uc870\", \"\\uadf8\\ub8f9_\\ud2b8\\ub79c\\uc2a4\", \"\\uc158_\\ubd80\\ubb38\", \"\\uce74\\uce74\\uc624_SM\", \"\\ud604\\ubaa8_\\ub300\\ud45c\", \"\\uc2e0\\uc784\", \"\\ub300\\ud45c\\uc774\\uc0ac_\\uc120\\uc784\", \"SM_\\uc5d4\\ud130\", \"\\ub0b4\\uc815\", \"\\ud558\\uc774\\ube0c_SM\", \"\\ucd5c\\uc885_\\ud6c4\\ubcf4\", \"\\uc2e0\\ud55c\\uc740\\ud589\", \"KT\", \"\\uc8fc\\uc8fc\", \"\\ucd5c\\ub300_\\uc8fc\\uc8fc\", \"\\uc120\\uc784\", \"\\ud6c4\\ubcf4\", \"\\ub300\\ud45c\\uc774\\uc0ac\", \"\\uc784_\\uc9c1\\uc6d0\", \"\\uc778\\uc0ac\", \"ESG_\\uacbd\\uc601\", \"\\uacbd\\uc601\", \"\\uc548\\uac74\", \"\\ud68c\\uc7a5\", \"\\uc0ac\\uc7a5\", \"LG\", \"\\uc784\\uc6d0\", \"\\ubd84\", \"\\uce74\\uce74\\uc624\", \"\\uc774\\uc0ac\", \"\\ub300\\ud45c\", \"\\uc804\", \"\\uadf8\\ub8f9\", \"\\uba85\", \"\\ucd1d\", \"\\ud68c\\uc0ac\", \"\\ub294\", \"\\uae30\\uc5c5\", \"\\ud574\", \"\\uc9c4\\ud589\", \"\\uc0ac\\uc5c5\", \"\\uc758\", \"\\uc774\", \"\\ub97c\", \"\\ub410\\ub2e4\", \"\\ub41c\"], \"Freq\": [17733.0, 22747.0, 19244.0, 5902.0, 5826.0, 5692.0, 9082.0, 12996.0, 10068.0, 20413.0, 9012.0, 7738.0, 4860.0, 7168.0, 11092.0, 12298.0, 7765.0, 7340.0, 4863.0, 20546.0, 8497.0, 8207.0, 28287.0, 14961.0, 16941.0, 3970.0, 3540.0, 12394.0, 9832.0, 4892.0, 568.6938733343184, 532.6096791878045, 498.9846160414562, 381.6040942898688, 370.7296180100414, 303.8129020628605, 300.9367324884162, 281.580155355188, 276.9593365456531, 268.19372497105036, 267.2442622499667, 262.6225914548811, 249.2242499786324, 247.1580012565429, 241.63890568136375, 232.9525120573791, 228.20387870963694, 226.33914962869164, 208.22870994978763, 202.7595474101204, 198.15581842839708, 191.7046005439313, 191.7292413025061, 186.4443582257803, 183.1235357218545, 182.8019529404546, 177.9537709280703, 177.13446152905863, 173.15854566462298, 171.94237805496533, 1008.3939268143549, 415.7618655782057, 384.63639439288255, 1009.3977996714915, 315.11808209697625, 3413.681444846098, 881.3608765298634, 402.9508094359888, 605.6785326799499, 6782.6587066778575, 305.85091832258297, 529.6791161829065, 798.6737075716352, 2753.5609018302384, 3090.7793220569456, 3255.2348520265455, 15348.375226231217, 437.4602335839862, 5066.794287880733, 3338.0029429064934, 842.6173180731655, 886.5230402760873, 2317.685361370595, 768.8334983535734, 6097.006929836308, 661.487528773594, 1016.197713524589, 4546.35206492677, 6379.807863546486, 2953.103802852008, 4631.36030981475, 735.251969998307, 8293.898514871935, 5789.7933692117385, 1792.7787341308508, 2576.933271470265, 5333.95503884113, 2009.838324430666, 4234.126557302489, 2519.7359732745194, 2062.99393681858, 3218.399674381068, 2210.5818902661895, 1580.5120470162171, 2101.043678336208, 5747.773842784521, 2724.9462153572936, 2540.3664525676663, 2630.1754856835705, 2989.9985860748375, 2494.8395522121123, 2511.458282130896, 2245.33728765436, 975.7446412784536, 709.6528946324402, 550.3480932694205, 519.9363326387388, 429.3748989935588, 419.8620880020401, 381.0082854358624, 375.02519900461226, 341.55789490765517, 319.9866870899662, 305.01678995260005, 263.3914414831482, 258.46637516713014, 248.9658304170848, 235.83907803147807, 224.14168350644732, 221.3181054561826, 208.69920954046586, 203.559597574974, 194.3991002968845, 194.2921256099612, 696.3495878730341, 187.1355829414653, 173.46542470095784, 172.1384558837914, 170.50865003321272, 170.41947843287224, 169.87243813605346, 168.7581835503631, 161.51982334759526, 494.30221627377495, 467.19424852881673, 478.2127690552676, 316.18077333800466, 1936.3640982097777, 198.9439983094609, 907.0995738568657, 1237.8618417463242, 976.4415455162363, 3680.7299431473443, 1002.7744401280967, 473.23210713553465, 1657.0426990413532, 1841.4655260169764, 10799.722352780313, 1114.1391921594713, 3281.998727609362, 1282.9390298215046, 1606.4851132827107, 1452.1255948188782, 3049.0664364722174, 836.8914692579041, 5253.998755978062, 1438.334704960906, 2901.183947811557, 2513.766522811788, 1981.2882989954708, 1067.4073108247974, 1573.626578207024, 1766.6831355352417, 1239.598196372664, 1454.0989832040596, 1381.3284834765755, 2822.6956759128393, 1956.8112412880052, 2072.3769538713855, 1565.6980431628374, 2044.5437162052372, 1408.8538157664802, 1950.226768295631, 1472.1408071904098, 1438.6252331617288, 1369.2092097482782, 1725.4154104717088, 1372.5565307547856, 2698.696227745259, 2109.64977719584, 1802.0184015711898, 1872.8196891818177, 1270.0890432196543, 1184.584810706913, 933.0392771061296, 713.897601558715, 698.3007450855355, 595.7041913119377, 583.4311655295858, 523.9409140773669, 491.10645811634845, 467.2553770467687, 466.6929588564186, 465.60599054069746, 445.1317272982206, 416.6647684226074, 406.9143470164562, 406.2864128504881, 393.4237432875744, 384.0711758786116, 383.2327290569944, 351.224444470507, 350.33864145164466, 349.26057001959146, 344.81297282647967, 343.5969996975735, 332.1340408041258, 330.16678778979207, 590.1855332058655, 1540.5719878733646, 620.9234779471088, 812.8741372484895, 513.4087494056339, 1511.7450712202372, 640.9407341778835, 903.3280214782877, 1897.8172294379742, 2010.8344552905041, 737.4384741971135, 1052.45088470273, 1956.8675356237527, 5663.622351894614, 1166.629097564535, 2626.0647723309908, 3706.7311663269343, 1193.7412806641441, 1362.2109805184093, 1584.9846680497817, 3020.946309424129, 3312.575569893587, 1360.7088712226764, 1047.7074942823544, 1005.4272507167261, 2245.16305494969, 1425.0613822182013, 1536.1059775096235, 1286.1072628604738, 1416.7351379116028, 1303.0221532324842, 1415.7956720437815, 1576.8969503205085, 1266.82332381962, 1205.222990584563, 1208.2470300814152, 2379.081201046487, 700.6590364702375, 528.977802244696, 475.61910641926954, 405.37530412957545, 389.545704317894, 328.23034125900693, 310.93145854000136, 292.87728746604176, 291.2220942124691, 281.7467988599428, 270.30894495191836, 261.88042102450856, 231.023296163835, 186.3631442644454, 180.4814464935171, 175.1467813135498, 183.4300159083105, 171.82375519695964, 158.80075529503407, 155.79434808623688, 148.70448673922772, 145.21116780428926, 142.87186947617832, 139.8270030019938, 139.4183664139236, 137.7398571617765, 131.26374480846079, 129.75356515434683, 129.59412519436998, 530.2080575639862, 382.60609550095984, 3125.3574482904246, 624.131429183492, 1139.6043932908233, 2202.2186092948023, 696.3602016223944, 274.2851278497641, 212.10517579927586, 585.3203282452955, 5667.9972249484135, 343.76000953557417, 2042.8958248945062, 3158.2488443947377, 5126.284299281825, 882.6010306436091, 398.8182365115786, 9401.117918484639, 2856.8464381500494, 4309.166063135762, 748.216614792278, 1384.6715528911368, 878.2436521247948, 792.254955259489, 823.8278614236059, 1576.8859098649875, 1256.5981183000963, 5835.261125230235, 1385.3326066709635, 2426.2838997232443, 1538.1650288266674, 1930.6266226616367, 3116.3998695760633, 1481.6445777130111, 1271.6447682031696, 1987.6627168998664, 1717.976774547509, 3953.5794820697624, 1476.7884971168373, 1143.9608012288074, 1701.1236090160094, 2388.9475963561786, 1494.5310676270678, 1676.8747940294236, 1795.2821259002292, 1443.4116341283002, 1664.8274153601817, 1637.965796779332, 1476.0853554228386, 1349.4462747106866, 990.1565004475107, 860.0547276735163, 615.5108455444242, 569.1401319868854, 474.33965833541674, 469.0204059792666, 466.11706753592364, 461.9370633487239, 402.33280725260744, 398.61860053773137, 379.01105777886625, 344.6742961703147, 1267.0665092300615, 337.4464663849084, 336.8852086672464, 328.98336345545346, 314.4075210253696, 287.0008092914263, 259.50974366408917, 248.5534006765562, 247.39239995389158, 242.1165690415018, 227.02546299531136, 213.3231738401084, 218.33353993351605, 209.55044438937412, 191.77199857503996, 190.40765330698102, 182.5090291464112, 572.8020070773451, 360.5372413868548, 286.07578194472734, 3243.8673093369107, 614.0111742931622, 834.8311356958035, 485.48621067244727, 911.0736691369543, 876.9343747011108, 1546.0251065904868, 877.5889592405738, 2693.282900473138, 387.5972927118941, 2095.6632793676895, 1052.6948413850084, 2452.97792175361, 4130.149007360044, 489.03246257354886, 2189.9592611003236, 1252.7847864252947, 585.9463223138603, 5193.679883377812, 1520.3222891217151, 2115.2783936885203, 1409.3238600105897, 1567.1465015923623, 3397.9938573879576, 1323.77190288908, 1749.3653014740244, 1168.2603028121114, 2021.837454644193, 2409.503267900287, 2621.544484269529, 2649.8487398351904, 2011.3684525235276, 1693.2271474849392, 1908.940362248485, 3639.876565561114, 1152.343959259386, 1894.8925630598148, 1973.5190090607125, 1582.503971841967, 1372.6883763723665, 1566.6975623491671, 1454.680444414869, 1425.7326479139385, 845.8388723523709, 682.0374668015961, 608.6316284786806, 512.7098128194467, 311.1649187610632, 284.10219148598514, 251.09343663817626, 218.82257286751613, 208.78222583008076, 200.23016968494633, 186.4525934249149, 178.5723166686755, 177.44937220044878, 166.48403199229566, 162.41530046843238, 158.95682110806075, 155.11531091375102, 153.51182761326905, 151.98154013707426, 150.24134234602556, 148.9250310431402, 147.263318841206, 146.76808276040111, 143.86760098469748, 143.2500364992386, 142.88138137912534, 141.78322620097177, 138.68195117567544, 134.43268308988178, 131.7837140735858, 648.8714296129212, 575.6303830225089, 377.7437658536516, 250.18664648171725, 373.2217429724378, 171.17903018336312, 2082.5682149441946, 1039.1184984959643, 3391.2040898092864, 397.8487306142007, 3939.816179581267, 600.1197952904097, 252.40820249996503, 473.5816505776253, 552.2557212733965, 1023.6971122577086, 5689.467589399256, 518.000780808972, 1244.3771393699458, 600.043041839974, 5404.911266416801, 464.0921443842091, 4184.231692636368, 1185.880721026704, 819.280104084019, 878.435938287383, 1353.7449148949772, 606.7844840893288, 6643.844387268216, 4929.685100558973, 3215.6957501378306, 1700.30715588141, 1197.9598886378226, 5773.147271202338, 1172.1514786962712, 1356.7587947076556, 1004.6083216925773, 1267.7335877327116, 1056.7433310870003, 2312.8961092878553, 1822.80118203491, 1821.8645410094844, 2772.5432331713955, 3346.6771313521654, 1575.8593602749797, 1898.9183671107326, 2173.199187078958, 1814.8420566664797, 1919.5998125165816, 1613.441500583267, 1706.7039958824842, 1562.3353193314958, 1319.135414977891, 1267.0878630286131, 1444.8208910888616, 1408.498669041565, 1283.1013710207171, 1634.5047927705157, 889.5060869108501, 788.9163198829622, 773.1212916811697, 682.1635945894145, 499.87276413880954, 470.3235503403178, 447.0682089041977, 444.6072849682598, 439.94208094238803, 404.5286615604761, 343.2705243423822, 339.5693105568561, 320.5717356558729, 313.6378015232244, 284.6919674397057, 279.09259249551695, 237.25528179364434, 225.4000778998036, 223.12004666160138, 220.27993806349238, 220.15161614049038, 200.15732247498346, 197.34822671773367, 197.0920863874863, 195.40435751761225, 186.09153521988563, 183.1284009385846, 182.5546354095914, 177.64002324562503, 603.7150191694486, 495.5410740311135, 722.0722534562535, 267.643073111629, 487.70234073261554, 381.6012021255508, 435.613038954597, 855.6959362928282, 736.6034944064838, 399.02437649935484, 616.5623542398087, 481.32637665318896, 1200.2775783678915, 2085.201075134413, 1078.3650752700428, 1174.6280381579465, 1151.399625490438, 663.6018405488521, 1124.5470928943557, 1467.7922922590549, 695.7323371978371, 4292.430797667859, 1429.174647792097, 2823.6423647549645, 1313.0472050602261, 1206.1660273025543, 704.2501081159178, 1229.1681189618446, 2326.431818962336, 688.1119432503792, 997.4855257772899, 887.8288945744008, 1610.7982266215695, 1132.71740064293, 1702.7688482257179, 1334.971549215646, 2449.5197143233686, 2687.0360783611677, 1591.2552509125474, 2460.4065455249083, 1531.780268124566, 2256.4632694274387, 2529.4149091607314, 1443.450624902471, 2561.923676684033, 1369.427990280341, 1468.5846395726007, 1238.3727599668325, 1214.9315279728744, 1174.8984447679638, 1172.1849797070015, 5825.8328760158265, 2487.0969526628373, 1810.9458136185017, 1802.7320481094594, 1241.1883586268339, 1095.8879263960787, 773.0310690862126, 641.4966175468, 560.9206214969322, 549.1282684864176, 526.8261148432084, 520.731256601084, 445.46208319970464, 421.4471359952461, 402.6191461297606, 383.8762458358447, 371.77979009563387, 302.51128126320083, 302.04362640425705, 298.1943286023095, 288.0084795710157, 277.13911517974543, 256.0288428529314, 252.0333647057241, 247.603817148616, 216.77660527829545, 205.44471713835193, 181.95095562349562, 181.406044580762, 177.51124235575767, 17054.074390014608, 728.0443251923015, 428.9486583607916, 4051.3146639805414, 519.790992707763, 1453.3861155156378, 1142.0822022969592, 1188.4849396056923, 1910.4178068511699, 1697.3623985528977, 1330.7267797356747, 867.0123561198853, 745.7585263444107, 832.0513834848181, 1867.003659787733, 2008.9241862538831, 3432.539439130521, 3058.632248895797, 2995.0126581765294, 5269.8107115637895, 4317.359031956761, 3975.498022023786, 3053.3146814772126, 3168.5470005429556, 2812.9543031070284, 2192.8660287472985, 1691.7668825905096, 2661.247929020887, 1426.2166453588297, 1368.3889361009522, 2262.5667733013224, 1554.418094950404, 1528.6535517386185, 1489.9216317150463, 970.6942909555477, 928.3296783437286, 742.6270406351362, 707.3511994476853, 656.9733888353073, 617.4172569850002, 495.93781443495226, 411.6132800411801, 394.56874137136083, 380.6571672625685, 298.22649201858854, 292.15782425581597, 248.6713300302143, 239.294975660522, 231.47480230620155, 206.52390343387307, 194.72792593064847, 280.81955701996674, 186.69371383339637, 167.32740799644338, 166.85875490452273, 165.76171253406642, 160.59516202708957, 159.37188981774113, 158.34583054809647, 146.1138347482766, 139.03440830239174, 135.99755660296847, 134.69028853131925, 1683.387186627407, 266.05110164578343, 470.0811789433999, 414.18895947342713, 4734.711885162132, 638.8940511620805, 768.4375322692032, 1134.6231287978521, 1530.095742634698, 218.07388527292755, 476.4990971196474, 508.2041881348923, 375.9605408614252, 994.2315318392702, 459.12092335014023, 883.1381371113189, 430.0683052172701, 751.4602726025065, 462.9271379283809, 1036.5515016005106, 997.1665329571401, 1847.2326459570254, 681.6749268828202, 2022.8529718540199, 1152.9818958536055, 1168.1869021397379, 1059.5340478028568, 815.3951775958174, 1152.5082555451884, 1191.7014826611278, 1581.5474510594229, 1202.8060285957372, 1217.2639207989753, 964.5274767089106, 959.8902369197356, 967.7179395183782, 857.4479681276727, 832.9286813703748, 786.1059814066269, 807.6706086975355, 770.6139438642793, 810.8178149820576, 722.8190594114741, 526.3794643128571, 522.9671769013165, 514.6582217944471, 504.26520915669727, 428.9355682290333, 410.85219487711777, 409.94488081430484, 392.81370777011574, 333.5393132379888, 323.7917968903514, 315.62578376541376, 276.88326433652617, 275.4565869436428, 249.4677309781022, 248.56881209825318, 244.99548642150316, 274.8385522298033, 199.1396724994254, 195.11875297896506, 193.1893160623175, 187.84313295917752, 184.96375310622264, 176.5767974216375, 175.87104237380652, 171.07084465871367, 167.49166100985104, 157.86425174648375, 152.7922926308687, 5507.772540095039, 901.3977348507565, 273.86801311129125, 921.2127546086904, 768.4669153235552, 722.8048062563976, 979.064818587113, 723.4037372650037, 345.4838676232382, 1384.5328281662075, 268.082650003367, 1119.8789014770282, 1080.5614612628112, 1034.378925475741, 353.4496276505439, 800.3286122035038, 1511.423817261868, 529.2525571065701, 1878.5827040685951, 1325.9871355153462, 788.4037958262005, 1100.2102937099844, 898.9138054273251, 958.1879760879063, 1368.4228824896702, 1220.8107162429158, 1206.9383666656872, 833.0934068988212, 937.9766290702282, 904.4172396353597, 886.2308107485719, 735.1763209912283, 664.2347116070546, 676.0851280073356], \"Total\": [17733.0, 22747.0, 19244.0, 5902.0, 5826.0, 5692.0, 9082.0, 12996.0, 10068.0, 20413.0, 9012.0, 7738.0, 4860.0, 7168.0, 11092.0, 12298.0, 7765.0, 7340.0, 4863.0, 20546.0, 8497.0, 8207.0, 28287.0, 14961.0, 16941.0, 3970.0, 3540.0, 12394.0, 9832.0, 4892.0, 569.5724928917655, 533.4882560981013, 499.8632134946208, 382.4826873757276, 371.6082012979171, 304.6914772418114, 301.8153670504795, 282.45872678612693, 277.8380324245527, 269.07247476188326, 268.1241271078783, 263.5011622880836, 250.10289932815664, 248.03683527302118, 242.51751933455333, 233.83114272787202, 229.08254412944206, 227.21770491665796, 209.10733247402152, 203.63819430927543, 199.03442108943935, 192.58320053979742, 192.60795501486749, 187.32314705330404, 184.00216611226205, 183.6806419450274, 178.83260889968926, 178.0144044878942, 174.03726959641506, 172.82097254565807, 1020.8990554869778, 418.73592410899164, 389.14203370654224, 1031.8750898781236, 318.49296928958995, 3688.475623990709, 917.5431590926685, 412.8556804796828, 628.5394865711094, 7765.023684285307, 311.4921034562623, 562.3066175494998, 874.8145136144259, 3338.30053931111, 3812.95616633401, 4048.4193834444004, 22747.887143966072, 461.4591314957793, 6905.2620614295565, 4452.4010759196435, 960.6646792529539, 1020.9400008442184, 3071.5995628128026, 877.6193825706938, 9832.16186951187, 750.0907980901657, 1236.6582422886877, 7168.667103661451, 12298.784788360796, 4786.297457125637, 8706.978414827136, 880.3387033660678, 20413.493648126965, 12996.992519870219, 2840.3793305025483, 4727.092744143128, 12909.63943454533, 3400.3537558036182, 9850.058169790205, 4711.727241003248, 3572.360219451373, 7514.304990853026, 4463.721568186673, 2598.3090359616776, 4184.898721135645, 27148.410365258682, 7564.43762433112, 7045.088949731081, 9031.695779073449, 15353.082124313989, 10048.480850075888, 20546.098021404625, 8543.197361748895, 976.6293077240067, 710.53747336085, 551.2326220737403, 520.8209337491708, 430.2594233897712, 420.746721001337, 381.893042008467, 375.9099067511656, 342.4424755469926, 320.87143634013984, 305.9013297109101, 264.27601548518584, 259.35126141926173, 249.8507013883745, 236.72368331880583, 225.02631676260285, 222.20309176843253, 209.5837833884539, 204.44428668854988, 195.28407753235112, 195.17673844355906, 699.6061895233362, 188.02036631732804, 174.35000915964542, 173.02386146761452, 171.39334340020952, 171.30397345253115, 170.75700482542956, 169.64323317304496, 162.40435078906614, 500.19746867576913, 474.9046824012895, 488.67393004497274, 322.472204790272, 2311.4404702344154, 202.19360346540637, 1101.486092149358, 1567.3519291238485, 1236.2230838146577, 5723.948533785767, 1322.8754722393396, 551.2081466728703, 2575.7570752867073, 2968.9797367110386, 28287.579325887404, 1660.4984593664158, 7012.218688213602, 2070.7028002213456, 2826.8266904549246, 2573.7354904894078, 7306.007798555722, 1236.7111334279223, 17708.809142254333, 2779.127538897309, 8912.448833908433, 7456.5018040408095, 5139.814559216692, 1920.7779169781918, 3826.1009959633293, 4727.092744143128, 2598.359638605218, 3654.1415263050803, 3375.530610571864, 15353.082124313989, 7244.678953315094, 8706.978414827136, 4808.355298167034, 10747.233803574596, 4264.589766423619, 14961.158590208797, 5442.937610419088, 5534.543881494691, 4730.632362439353, 20413.493648126965, 7045.088949731081, 2699.5835568261055, 2110.5371164312814, 1802.9056249661355, 1873.8078127439014, 1270.9762643741544, 1185.472127880263, 933.926591616627, 714.7849187201597, 699.1880104718738, 596.5915511645599, 584.3183801394374, 524.8281406999255, 491.9937198428814, 468.1426132211248, 467.5802196326719, 466.49327554147555, 446.01902877164014, 417.552017368091, 407.8015863241808, 407.1736538662187, 394.3109720985126, 384.9583789690395, 384.1199355382727, 352.1116876167246, 351.22589318274214, 350.1477857086182, 345.70026099635936, 344.484312747263, 333.0212471276602, 331.053999269311, 598.0278923986567, 1592.7998904876117, 645.3842111450163, 874.7920219712585, 538.7221341983671, 1870.5970370695047, 704.5747853261271, 1115.9846680043172, 3138.3540112040873, 3841.5138773458184, 949.9080723933515, 1579.732755010353, 4463.721568186673, 28287.579325887404, 2201.5283311852886, 8912.448833908433, 17708.809142254333, 2454.044115488152, 3375.530610571864, 4937.145894854634, 20546.098021404625, 27148.410365258682, 3810.7115657816976, 2224.8235330595826, 2040.3677298998919, 14567.50877608598, 5147.73075929888, 6364.850567278831, 4053.698663006065, 5723.948533785767, 4682.778441693183, 6306.284470260654, 12298.784788360796, 5446.845355674321, 4654.03893170613, 15353.082124313989, 2380.1905093336536, 701.5383583345584, 529.8571885572923, 476.49868592202887, 406.25459451242773, 390.424947888725, 329.10972440157934, 311.81078251500213, 293.75670234085936, 292.10135767627304, 282.6263246570425, 271.1882470611707, 262.7596944431728, 231.9026601765245, 187.2425154069222, 181.36094755033366, 176.02608263475804, 184.35619571566784, 172.70308113791359, 159.68001633837466, 156.67367046433893, 149.583830987633, 146.09051291713152, 143.75113013057768, 140.70631287324784, 140.29774622988373, 138.619694827898, 132.1431154908121, 130.63295434644564, 130.47360850347965, 538.9579089746545, 393.58925206908896, 3435.82330180405, 653.9279357948234, 1226.5209745866575, 2449.616280405357, 759.6608451380529, 286.4464263825217, 218.19450610360323, 651.3165032551583, 7738.53461380905, 375.30293203736863, 2888.432656246393, 4960.463974395884, 9082.429690033552, 1152.0318161347936, 456.215522003851, 19244.41542174132, 4704.997406424926, 8207.304582607803, 1014.6652584120354, 2275.6617436599877, 1311.3010482308332, 1147.1291142990488, 1213.0122712612997, 2976.8665360092305, 2246.8148429461817, 20546.098021404625, 2591.075701978779, 5995.323200375824, 3362.284809859332, 4902.830944322383, 12909.63943454533, 3465.084793943754, 2656.3168019676, 6364.850567278831, 5071.7882376890675, 27148.410365258682, 3993.2299797770984, 2339.9738776803783, 6245.613739959589, 14567.50877608598, 4711.727241003248, 7243.6075385898175, 9832.16186951187, 5289.4605070628395, 16941.837520943012, 15353.082124313989, 9012.294579022, 1350.3672075926556, 991.0295794249976, 860.9288916224323, 616.3837594597417, 570.0129921379001, 475.21250475623464, 469.8933013379782, 466.99002629267255, 462.80997670513875, 403.2056709935532, 399.4914442316872, 379.8838999187821, 345.5477424458863, 1270.293529920556, 338.31940339106046, 337.7596558191945, 329.87888519679194, 315.280450863415, 287.8737058679484, 260.38326213984175, 249.42625373832135, 248.26525459252485, 242.98939486889014, 227.89839271142574, 214.19603499656586, 219.2398761918808, 210.42333846946414, 192.6448447150787, 191.28052702953784, 183.38190212586878, 578.312628954193, 365.1225976171019, 289.4876536199354, 3540.1087843678033, 638.9262210510474, 881.7004276043765, 504.84723991271227, 997.194266207104, 961.1186629606277, 1796.887030287804, 978.023529725971, 3360.9196517781193, 403.19935024607713, 2707.1178187759288, 1251.4726098779408, 3341.240664388232, 6229.27949718466, 525.5510975280989, 3181.8473972020824, 1632.0508682612642, 662.2087282207024, 11092.122623921392, 2379.6492679137036, 3799.230134866812, 2226.8925380834035, 2665.186002847503, 8067.910328595732, 2111.0681573441793, 3360.348131474197, 1839.3939557028584, 4395.9257336595765, 6034.328108799734, 7168.667103661451, 7306.007798555722, 4693.654404191482, 4164.504547505264, 5616.9286802647675, 28287.579325887404, 2059.196392814774, 10048.480850075888, 15353.082124313989, 8497.902345422171, 5022.018898778238, 17708.809142254333, 12394.979809358632, 16941.837520943012, 846.7180093919359, 682.9168313661921, 609.510722662054, 513.5892023374963, 312.0440739301212, 284.9813442363775, 251.97264763959433, 219.70268562685487, 209.6614574450299, 201.10931404962093, 187.33213405006268, 179.45152804834495, 178.32851108791243, 167.36321530120514, 163.29463606040963, 159.8359204092848, 155.99454913873595, 154.3910445908167, 152.8606518685218, 151.12052254547194, 149.80416741365107, 148.14244762129812, 147.64724077547962, 144.74689470569618, 144.12923612274585, 143.76064731674938, 142.6623161402777, 139.56127097857643, 135.31182007200644, 132.6628713128385, 659.3080676602224, 587.9181114085326, 385.687066066373, 254.05394896907896, 385.41363967481243, 173.3214319373472, 2372.5908126469235, 1141.8366002552086, 3970.807201298586, 421.6254166950498, 4863.676887797764, 660.102724365402, 265.7732915340821, 531.0406726867203, 633.3180691487133, 1278.3684891163873, 9012.294579022, 610.4518564365213, 1737.2451384253736, 740.4831152917625, 10068.673258418217, 560.4699669628126, 8497.902345422171, 1805.4137937068176, 1138.5787702108162, 1255.3448316699073, 2222.592235891908, 795.1139246809569, 19244.41542174132, 12996.992519870219, 7693.822551405413, 3372.5850176018384, 2064.7262793306604, 20413.493648126965, 2059.2671038204976, 2686.71919875087, 1692.0014530639692, 2556.340481506365, 2062.648823034833, 10048.480850075888, 6245.613739959589, 6733.253572938656, 16941.837520943012, 27148.410365258682, 4926.62360578883, 7564.43762433112, 11092.122623921392, 8067.910328595732, 12909.63943454533, 8207.304582607803, 12394.979809358632, 8543.197361748895, 5995.323200375824, 3936.2158187159316, 20546.098021404625, 14961.158590208797, 7514.304990853026, 1635.379751540606, 890.3811025362186, 789.7912997010633, 773.9963208418403, 683.0386038228586, 500.747719087504, 471.1985697055822, 447.94323362866703, 445.4823800803883, 440.8170914807229, 405.4036173416076, 344.1457956131106, 340.444337786966, 321.44671818974257, 314.5127696818559, 285.56692407774335, 279.96764148178556, 238.13026336877172, 226.27521622023139, 223.99506612097255, 221.1550581995181, 221.0266854342874, 201.03253595065843, 198.22320786424314, 197.9670966075008, 196.27952000650174, 186.96660789569728, 184.0034256685471, 183.42958658910499, 178.51507522793116, 606.7951358028107, 501.91060826275844, 734.4004277584705, 270.00004470143637, 500.5369123345831, 389.53215169189036, 446.6721687836125, 904.4400947003921, 776.47117031211, 410.8653397934369, 653.444299417681, 509.7917993608665, 1381.4862670252564, 2537.0947767983334, 1236.665122236638, 1365.6122819947027, 1350.574787356793, 729.2922773954203, 1325.5163559291857, 1840.8605123293637, 797.2771467976123, 7340.562633506919, 1951.5787754942405, 4892.081579558826, 1949.5737881190653, 1787.1853809240617, 850.0253767873062, 1937.9610428047188, 5035.621764638632, 853.300353357286, 1659.815758388741, 1363.6121717297124, 3955.548649376052, 2128.4853827028815, 5273.39425453881, 3241.4284391291903, 12394.979809358632, 16941.837520943012, 5289.4605070628395, 14961.158590208797, 5071.7882376890675, 14567.50877608598, 20546.098021404625, 4657.707248092812, 27148.410365258682, 4682.778441693183, 6364.850567278831, 7036.0430587941355, 7243.6075385898175, 5556.673548382619, 17708.809142254333, 5826.731924699037, 2487.995991017534, 1811.8448462828533, 1803.6311818501235, 1242.0874345947568, 1096.7869874377534, 773.9301287528858, 642.3956790830003, 561.8196841287438, 550.0273791799527, 527.7252304546015, 521.6303917845356, 446.361218096478, 422.3461652188896, 403.5182149765744, 384.77527806497994, 372.6788411406045, 303.41033056781095, 302.9426629669307, 299.0933616388059, 288.907602721539, 278.03849881388265, 256.92789317408267, 252.9325619409035, 248.50288502341482, 217.67564609453817, 206.34375764055548, 182.84998683422245, 182.30513415522952, 178.4102726408862, 17733.095304252158, 739.6829518884499, 443.77305450609043, 4860.1236401432425, 555.1411739017625, 1739.753703212029, 1341.0313162468976, 1422.8463307055824, 2694.5926278226493, 2384.580577819227, 1822.8331939306615, 1119.9460881477346, 946.7183540372396, 1142.7852025051043, 3955.548649376052, 4542.062232530083, 10747.233803574596, 9082.429690033552, 9031.695779073449, 22747.887143966072, 16941.837520943012, 14961.158590208797, 12394.979809358632, 20546.098021404625, 19244.41542174132, 12298.784788360796, 7564.43762433112, 27148.410365258682, 4902.830944322383, 4657.707248092812, 28287.579325887404, 14567.50877608598, 15353.082124313989, 1490.8146548815237, 971.5873658499702, 929.2227407487102, 743.5200752456284, 708.2442722582044, 657.8664012434133, 618.3103221526246, 496.8312184914915, 412.5063401564964, 395.46179574604105, 381.55018355341787, 299.1197374926696, 293.05112659337715, 249.56443557622333, 240.18803374341428, 232.36785510962807, 207.4173512248492, 195.62101576163684, 282.1591091664726, 187.5867655715113, 168.22140822617598, 167.75185965000446, 166.65475903713383, 161.48818272703053, 160.2649283314461, 159.2388649249348, 147.00721180994773, 139.92743828298356, 136.8906932832198, 135.58332726357145, 1753.0250910381242, 271.7587918486825, 496.7067637271109, 436.7157068833513, 5692.741064980461, 709.9971611293523, 873.7160210634033, 1411.967757868718, 2093.2239166155455, 227.6778259515213, 561.4032601278891, 620.2801945311102, 445.8404910760356, 1573.1507468539387, 587.4398748142148, 1524.8324706329436, 550.5722962261843, 1451.935139760662, 677.1164719694439, 3905.4040762599507, 3751.7691634607454, 14567.50877608598, 1741.8571872987038, 27148.410365258682, 7045.088949731081, 8358.975700587684, 7244.678953315094, 3277.252238004019, 9850.058169790205, 11092.122623921392, 28287.579325887404, 12298.784788360796, 15353.082124313989, 12909.63943454533, 17708.809142254333, 20546.098021404625, 12394.979809358632, 9012.294579022, 5534.543881494691, 16941.837520943012, 6733.253572938656, 811.6977096851384, 723.6989242952119, 527.2594065752578, 523.8470614829283, 515.5380840937245, 505.14506629685127, 429.8154740140134, 411.7320713936722, 410.8247685977849, 393.6935762006639, 334.41923579086085, 324.6716553424379, 316.50567146281855, 277.763119679503, 276.3364672465348, 250.3477047717709, 249.44867091699166, 245.87538009618095, 275.92011935577233, 200.0195318919293, 195.99861209573575, 194.06930160979132, 188.72300644158247, 185.8438477376974, 177.45665804340962, 176.75092564516078, 171.95071597691822, 168.3715702519811, 158.74417259145267, 153.67241044890267, 5902.778928349397, 959.5827195499961, 281.19696944808794, 1023.547711978325, 855.6470260468409, 811.7221686794188, 1148.1176061644246, 881.0713674027901, 383.5397974552034, 1992.4485935567702, 284.83366949188934, 1689.264756715374, 1657.4786123622373, 1577.4745063089256, 413.91300699077374, 1413.6543303019976, 3751.7691634607454, 859.7100842984391, 10068.673258418217, 5886.35073438322, 2299.378549547259, 4937.145894854634, 3638.4767924732414, 5022.018898778238, 14961.158590208797, 20413.493648126965, 27148.410365258682, 6733.253572938656, 12996.992519870219, 12394.979809358632, 17708.809142254333, 16941.837520943012, 7036.0430587941355, 14567.50877608598], \"Category\": [\"Default\", \"Default\", \"Default\", \"Default\", \"Default\", \"Default\", \"Default\", \"Default\", \"Default\", \"Default\", \"Default\", \"Default\", \"Default\", \"Default\", \"Default\", \"Default\", \"Default\", \"Default\", \"Default\", \"Default\", \"Default\", \"Default\", \"Default\", \"Default\", \"Default\", \"Default\", \"Default\", \"Default\", \"Default\", \"Default\", \"Topic1\", \"Topic1\", \"Topic1\", \"Topic1\", \"Topic1\", \"Topic1\", \"Topic1\", \"Topic1\", \"Topic1\", \"Topic1\", \"Topic1\", \"Topic1\", \"Topic1\", \"Topic1\", \"Topic1\", \"Topic1\", \"Topic1\", \"Topic1\", \"Topic1\", \"Topic1\", \"Topic1\", \"Topic1\", \"Topic1\", \"Topic1\", \"Topic1\", \"Topic1\", \"Topic1\", \"Topic1\", \"Topic1\", \"Topic1\", \"Topic1\", \"Topic1\", \"Topic1\", \"Topic1\", \"Topic1\", \"Topic1\", \"Topic1\", \"Topic1\", \"Topic1\", \"Topic1\", \"Topic1\", \"Topic1\", \"Topic1\", \"Topic1\", \"Topic1\", \"Topic1\", \"Topic1\", \"Topic1\", \"Topic1\", \"Topic1\", \"Topic1\", \"Topic1\", \"Topic1\", \"Topic1\", \"Topic1\", \"Topic1\", \"Topic1\", \"Topic1\", \"Topic1\", \"Topic1\", \"Topic1\", \"Topic1\", \"Topic1\", \"Topic1\", \"Topic1\", \"Topic1\", \"Topic1\", \"Topic1\", \"Topic1\", \"Topic1\", \"Topic1\", \"Topic1\", \"Topic1\", \"Topic1\", \"Topic1\", \"Topic1\", \"Topic1\", \"Topic1\", \"Topic1\", \"Topic1\", \"Topic1\", \"Topic1\", \"Topic1\", \"Topic2\", \"Topic2\", \"Topic2\", \"Topic2\", \"Topic2\", \"Topic2\", \"Topic2\", \"Topic2\", \"Topic2\", \"Topic2\", \"Topic2\", \"Topic2\", \"Topic2\", \"Topic2\", \"Topic2\", \"Topic2\", \"Topic2\", \"Topic2\", \"Topic2\", \"Topic2\", \"Topic2\", \"Topic2\", \"Topic2\", \"Topic2\", \"Topic2\", \"Topic2\", \"Topic2\", \"Topic2\", \"Topic2\", \"Topic2\", \"Topic2\", \"Topic2\", \"Topic2\", \"Topic2\", \"Topic2\", \"Topic2\", \"Topic2\", \"Topic2\", \"Topic2\", \"Topic2\", \"Topic2\", \"Topic2\", \"Topic2\", \"Topic2\", \"Topic2\", \"Topic2\", \"Topic2\", \"Topic2\", \"Topic2\", \"Topic2\", \"Topic2\", \"Topic2\", \"Topic2\", \"Topic2\", \"Topic2\", \"Topic2\", \"Topic2\", \"Topic2\", \"Topic2\", \"Topic2\", \"Topic2\", \"Topic2\", \"Topic2\", \"Topic2\", \"Topic2\", \"Topic2\", \"Topic2\", \"Topic2\", \"Topic2\", \"Topic2\", \"Topic2\", \"Topic2\", \"Topic2\", \"Topic2\", \"Topic2\", \"Topic3\", \"Topic3\", \"Topic3\", \"Topic3\", \"Topic3\", \"Topic3\", \"Topic3\", \"Topic3\", \"Topic3\", \"Topic3\", \"Topic3\", \"Topic3\", \"Topic3\", \"Topic3\", \"Topic3\", \"Topic3\", \"Topic3\", \"Topic3\", \"Topic3\", \"Topic3\", \"Topic3\", \"Topic3\", \"Topic3\", \"Topic3\", \"Topic3\", \"Topic3\", \"Topic3\", \"Topic3\", \"Topic3\", \"Topic3\", \"Topic3\", \"Topic3\", \"Topic3\", \"Topic3\", \"Topic3\", \"Topic3\", \"Topic3\", \"Topic3\", \"Topic3\", \"Topic3\", \"Topic3\", \"Topic3\", \"Topic3\", \"Topic3\", \"Topic3\", \"Topic3\", \"Topic3\", \"Topic3\", \"Topic3\", \"Topic3\", \"Topic3\", \"Topic3\", \"Topic3\", \"Topic3\", \"Topic3\", \"Topic3\", \"Topic3\", \"Topic3\", \"Topic3\", \"Topic3\", \"Topic3\", \"Topic3\", \"Topic3\", \"Topic3\", \"Topic3\", \"Topic3\", \"Topic4\", \"Topic4\", \"Topic4\", \"Topic4\", \"Topic4\", \"Topic4\", \"Topic4\", \"Topic4\", \"Topic4\", \"Topic4\", \"Topic4\", \"Topic4\", \"Topic4\", \"Topic4\", \"Topic4\", \"Topic4\", \"Topic4\", \"Topic4\", \"Topic4\", \"Topic4\", \"Topic4\", \"Topic4\", \"Topic4\", \"Topic4\", \"Topic4\", \"Topic4\", \"Topic4\", \"Topic4\", \"Topic4\", \"Topic4\", \"Topic4\", \"Topic4\", \"Topic4\", \"Topic4\", \"Topic4\", \"Topic4\", \"Topic4\", \"Topic4\", \"Topic4\", \"Topic4\", \"Topic4\", \"Topic4\", \"Topic4\", \"Topic4\", \"Topic4\", \"Topic4\", \"Topic4\", \"Topic4\", \"Topic4\", \"Topic4\", \"Topic4\", \"Topic4\", \"Topic4\", \"Topic4\", \"Topic4\", \"Topic4\", \"Topic4\", \"Topic4\", \"Topic4\", \"Topic4\", \"Topic4\", \"Topic4\", \"Topic4\", \"Topic4\", \"Topic4\", \"Topic4\", \"Topic4\", \"Topic4\", \"Topic4\", \"Topic4\", \"Topic4\", \"Topic4\", \"Topic4\", \"Topic4\", \"Topic4\", \"Topic4\", \"Topic4\", \"Topic4\", \"Topic4\", \"Topic5\", \"Topic5\", \"Topic5\", \"Topic5\", \"Topic5\", \"Topic5\", \"Topic5\", \"Topic5\", \"Topic5\", \"Topic5\", \"Topic5\", \"Topic5\", \"Topic5\", \"Topic5\", \"Topic5\", \"Topic5\", \"Topic5\", \"Topic5\", \"Topic5\", \"Topic5\", \"Topic5\", \"Topic5\", \"Topic5\", \"Topic5\", \"Topic5\", \"Topic5\", \"Topic5\", \"Topic5\", \"Topic5\", \"Topic5\", \"Topic5\", \"Topic5\", \"Topic5\", \"Topic5\", \"Topic5\", \"Topic5\", \"Topic5\", \"Topic5\", \"Topic5\", \"Topic5\", \"Topic5\", \"Topic5\", \"Topic5\", \"Topic5\", \"Topic5\", \"Topic5\", \"Topic5\", \"Topic5\", \"Topic5\", \"Topic5\", \"Topic5\", \"Topic5\", \"Topic5\", \"Topic5\", \"Topic5\", \"Topic5\", \"Topic5\", \"Topic5\", \"Topic5\", \"Topic5\", \"Topic5\", \"Topic5\", \"Topic5\", \"Topic5\", \"Topic5\", \"Topic5\", \"Topic5\", \"Topic5\", \"Topic5\", \"Topic5\", \"Topic5\", \"Topic5\", \"Topic5\", \"Topic5\", \"Topic5\", \"Topic5\", \"Topic6\", \"Topic6\", \"Topic6\", \"Topic6\", \"Topic6\", \"Topic6\", \"Topic6\", \"Topic6\", \"Topic6\", \"Topic6\", \"Topic6\", \"Topic6\", \"Topic6\", \"Topic6\", \"Topic6\", \"Topic6\", \"Topic6\", \"Topic6\", \"Topic6\", \"Topic6\", \"Topic6\", \"Topic6\", \"Topic6\", \"Topic6\", \"Topic6\", \"Topic6\", \"Topic6\", \"Topic6\", \"Topic6\", \"Topic6\", \"Topic6\", \"Topic6\", \"Topic6\", \"Topic6\", \"Topic6\", \"Topic6\", \"Topic6\", \"Topic6\", \"Topic6\", \"Topic6\", \"Topic6\", \"Topic6\", \"Topic6\", \"Topic6\", \"Topic6\", \"Topic6\", \"Topic6\", \"Topic6\", \"Topic6\", \"Topic6\", \"Topic6\", \"Topic6\", \"Topic6\", \"Topic6\", \"Topic6\", \"Topic6\", \"Topic6\", \"Topic6\", \"Topic6\", \"Topic6\", \"Topic6\", \"Topic6\", \"Topic6\", \"Topic6\", \"Topic6\", \"Topic6\", \"Topic6\", \"Topic6\", \"Topic6\", \"Topic6\", \"Topic6\", \"Topic6\", \"Topic6\", \"Topic6\", \"Topic6\", \"Topic6\", \"Topic6\", \"Topic6\", \"Topic6\", \"Topic6\", \"Topic6\", \"Topic6\", \"Topic6\", \"Topic6\", \"Topic6\", \"Topic6\", \"Topic6\", \"Topic7\", \"Topic7\", \"Topic7\", \"Topic7\", \"Topic7\", \"Topic7\", \"Topic7\", \"Topic7\", \"Topic7\", \"Topic7\", \"Topic7\", \"Topic7\", \"Topic7\", \"Topic7\", \"Topic7\", \"Topic7\", \"Topic7\", \"Topic7\", \"Topic7\", \"Topic7\", \"Topic7\", \"Topic7\", \"Topic7\", \"Topic7\", \"Topic7\", \"Topic7\", \"Topic7\", \"Topic7\", \"Topic7\", \"Topic7\", \"Topic7\", \"Topic7\", \"Topic7\", \"Topic7\", \"Topic7\", \"Topic7\", \"Topic7\", \"Topic7\", \"Topic7\", \"Topic7\", \"Topic7\", \"Topic7\", \"Topic7\", \"Topic7\", \"Topic7\", \"Topic7\", \"Topic7\", \"Topic7\", \"Topic7\", \"Topic7\", \"Topic7\", \"Topic7\", \"Topic7\", \"Topic7\", \"Topic7\", \"Topic7\", \"Topic7\", \"Topic7\", \"Topic7\", \"Topic7\", \"Topic7\", \"Topic7\", \"Topic7\", \"Topic7\", \"Topic7\", \"Topic7\", \"Topic7\", \"Topic7\", \"Topic7\", \"Topic7\", \"Topic7\", \"Topic7\", \"Topic7\", \"Topic7\", \"Topic7\", \"Topic7\", \"Topic7\", \"Topic7\", \"Topic7\", \"Topic7\", \"Topic7\", \"Topic8\", \"Topic8\", \"Topic8\", \"Topic8\", \"Topic8\", \"Topic8\", \"Topic8\", \"Topic8\", \"Topic8\", \"Topic8\", \"Topic8\", \"Topic8\", \"Topic8\", \"Topic8\", \"Topic8\", \"Topic8\", \"Topic8\", \"Topic8\", \"Topic8\", \"Topic8\", \"Topic8\", \"Topic8\", \"Topic8\", \"Topic8\", \"Topic8\", \"Topic8\", \"Topic8\", \"Topic8\", \"Topic8\", \"Topic8\", \"Topic8\", \"Topic8\", \"Topic8\", \"Topic8\", \"Topic8\", \"Topic8\", \"Topic8\", \"Topic8\", \"Topic8\", \"Topic8\", \"Topic8\", \"Topic8\", \"Topic8\", \"Topic8\", \"Topic8\", \"Topic8\", \"Topic8\", \"Topic8\", \"Topic8\", \"Topic8\", \"Topic8\", \"Topic8\", \"Topic8\", \"Topic8\", \"Topic8\", \"Topic8\", \"Topic8\", \"Topic8\", \"Topic8\", \"Topic8\", \"Topic8\", \"Topic8\", \"Topic8\", \"Topic9\", \"Topic9\", \"Topic9\", \"Topic9\", \"Topic9\", \"Topic9\", \"Topic9\", \"Topic9\", \"Topic9\", \"Topic9\", \"Topic9\", \"Topic9\", \"Topic9\", \"Topic9\", \"Topic9\", \"Topic9\", \"Topic9\", \"Topic9\", \"Topic9\", \"Topic9\", \"Topic9\", \"Topic9\", \"Topic9\", \"Topic9\", \"Topic9\", \"Topic9\", \"Topic9\", \"Topic9\", \"Topic9\", \"Topic9\", \"Topic9\", \"Topic9\", \"Topic9\", \"Topic9\", \"Topic9\", \"Topic9\", \"Topic9\", \"Topic9\", \"Topic9\", \"Topic9\", \"Topic9\", \"Topic9\", \"Topic9\", \"Topic9\", \"Topic9\", \"Topic9\", \"Topic9\", \"Topic9\", \"Topic9\", \"Topic9\", \"Topic9\", \"Topic9\", \"Topic9\", \"Topic9\", \"Topic9\", \"Topic9\", \"Topic9\", \"Topic9\", \"Topic9\", \"Topic9\", \"Topic9\", \"Topic9\", \"Topic9\", \"Topic9\", \"Topic9\", \"Topic9\", \"Topic9\", \"Topic9\", \"Topic9\", \"Topic9\", \"Topic9\", \"Topic10\", \"Topic10\", \"Topic10\", \"Topic10\", \"Topic10\", \"Topic10\", \"Topic10\", \"Topic10\", \"Topic10\", \"Topic10\", \"Topic10\", \"Topic10\", \"Topic10\", \"Topic10\", \"Topic10\", \"Topic10\", \"Topic10\", \"Topic10\", \"Topic10\", \"Topic10\", \"Topic10\", \"Topic10\", \"Topic10\", \"Topic10\", \"Topic10\", \"Topic10\", \"Topic10\", \"Topic10\", \"Topic10\", \"Topic10\", \"Topic10\", \"Topic10\", \"Topic10\", \"Topic10\", \"Topic10\", \"Topic10\", \"Topic10\", \"Topic10\", \"Topic10\", \"Topic10\", \"Topic10\", \"Topic10\", \"Topic10\", \"Topic10\", \"Topic10\", \"Topic10\", \"Topic10\", \"Topic10\", \"Topic10\", \"Topic10\", \"Topic10\", \"Topic10\", \"Topic10\", \"Topic10\", \"Topic10\", \"Topic10\", \"Topic10\", \"Topic10\", \"Topic10\", \"Topic10\", \"Topic10\", \"Topic10\", \"Topic10\", \"Topic10\"], \"logprob\": [30.0, 29.0, 28.0, 27.0, 26.0, 25.0, 24.0, 23.0, 22.0, 21.0, 20.0, 19.0, 18.0, 17.0, 16.0, 15.0, 14.0, 13.0, 12.0, 11.0, 10.0, 9.0, 8.0, 7.0, 6.0, 5.0, 4.0, 3.0, 2.0, 1.0, -6.917, -6.9826, -7.0478, -7.316, -7.3449, -7.544, -7.5535, -7.62, -7.6365, -7.6687, -7.6722, -7.6897, -7.742, -7.7504, -7.7729, -7.8096, -7.8301, -7.8384, -7.9217, -7.9484, -7.9713, -8.0044, -8.0043, -8.0323, -8.0502, -8.052, -8.0789, -8.0835, -8.1062, -8.1132, -6.3443, -7.2303, -7.3081, -6.3433, -7.5074, -5.1248, -6.4789, -7.2616, -6.854, -4.4383, -7.5373, -6.9881, -6.5774, -5.3397, -5.2242, -5.1724, -3.6216, -7.1794, -4.7299, -5.1473, -6.5239, -6.4731, -5.5121, -6.6155, -4.5448, -6.7659, -6.3366, -4.8383, -4.4995, -5.2698, -4.8198, -6.6602, -4.2371, -4.5965, -5.7689, -5.406, -4.6785, -5.6546, -4.9095, -5.4285, -5.6285, -5.1837, -5.5594, -5.8949, -5.6102, -4.6038, -5.3502, -5.4203, -5.3856, -5.2574, -5.4384, -5.4318, -5.5438, -6.2145, -6.5329, -6.7871, -6.844, -7.0353, -7.0577, -7.1549, -7.1707, -7.2642, -7.3294, -7.3773, -7.524, -7.5429, -7.5804, -7.6345, -7.6854, -7.6981, -7.7568, -7.7817, -7.8278, -7.8283, -6.5518, -7.8658, -7.9417, -7.9494, -7.9589, -7.9594, -7.9626, -7.9692, -8.013, -6.8945, -6.9509, -6.9276, -7.3414, -5.5291, -7.8047, -6.2874, -5.9765, -6.2138, -4.8868, -6.1871, -6.9381, -5.6849, -5.5794, -3.8104, -6.0818, -5.0015, -5.9408, -5.7159, -5.8169, -5.0751, -6.368, -4.5309, -5.8264, -5.1248, -5.2681, -5.5062, -6.1247, -5.7365, -5.6208, -5.9751, -5.8155, -5.8669, -5.1522, -5.5186, -5.4612, -5.7416, -5.4747, -5.8471, -5.522, -5.8032, -5.8262, -5.8757, -5.6445, -5.8732, -5.1887, -5.4349, -5.5925, -5.554, -5.9424, -6.0121, -6.2508, -6.5185, -6.5406, -6.6995, -6.7203, -6.8278, -6.8925, -6.9423, -6.9435, -6.9459, -6.9908, -7.0569, -7.0806, -7.0821, -7.1143, -7.1384, -7.1406, -7.2278, -7.2303, -7.2334, -7.2462, -7.2497, -7.2837, -7.2896, -6.7088, -5.7493, -6.658, -6.3886, -6.8481, -5.7682, -6.6263, -6.2831, -5.5407, -5.4829, -6.486, -6.1303, -5.5101, -4.4474, -6.0273, -5.216, -4.8713, -6.0044, -5.8723, -5.7209, -5.0759, -4.9837, -5.8734, -6.1348, -6.176, -5.3727, -5.8272, -5.7522, -5.9298, -5.8331, -5.9168, -5.8338, -5.726, -5.9449, -5.9948, -5.9923, -5.0707, -6.2932, -6.5743, -6.6806, -6.8404, -6.8802, -7.0515, -7.1056, -7.1654, -7.1711, -7.2042, -7.2456, -7.2773, -7.4027, -7.6175, -7.6496, -7.6796, -7.6334, -7.6987, -7.7775, -7.7967, -7.8432, -7.867, -7.8833, -7.9048, -7.9077, -7.9198, -7.968, -7.9796, -7.9808, -6.5719, -6.8982, -4.7979, -6.4088, -5.8068, -5.148, -6.2993, -7.231, -7.4881, -6.473, -4.2026, -7.0053, -5.2231, -4.7874, -4.3031, -6.0623, -6.8567, -3.6966, -4.8877, -4.4767, -6.2275, -5.612, -6.0673, -6.1703, -6.1312, -5.482, -5.709, -4.1735, -5.6115, -5.0511, -5.5069, -5.2796, -4.8008, -5.5443, -5.6971, -5.2505, -5.3963, -4.5628, -5.5476, -5.8029, -5.4062, -5.0666, -5.5356, -5.4205, -5.3523, -5.5704, -5.4277, -5.444, -5.548, -5.5846, -5.8941, -6.035, -6.3696, -6.4479, -6.6301, -6.6414, -6.6476, -6.6566, -6.7947, -6.804, -6.8544, -6.9494, -5.6475, -6.9706, -6.9723, -6.996, -7.0413, -7.1325, -7.2332, -7.2763, -7.281, -7.3026, -7.3669, -7.4292, -7.406, -7.447, -7.5357, -7.5428, -7.5852, -6.4415, -6.9044, -7.1357, -4.7075, -6.372, -6.0648, -6.6069, -5.9774, -6.0156, -5.4486, -6.0148, -4.8935, -6.832, -5.1444, -5.8329, -4.9869, -4.4659, -6.5996, -5.1004, -5.6589, -6.4188, -4.2368, -5.4653, -5.1351, -5.5411, -5.435, -4.6611, -5.6038, -5.325, -5.7287, -5.1802, -5.0048, -4.9205, -4.9097, -5.1854, -5.3576, -5.2377, -4.5923, -5.7425, -5.2451, -5.2044, -5.4252, -5.5675, -5.4353, -5.5095, -5.5296, -6.0434, -6.2587, -6.3725, -6.544, -7.0434, -7.1344, -7.2579, -7.3955, -7.4425, -7.4843, -7.5556, -7.5988, -7.6051, -7.6689, -7.6936, -7.7151, -7.7396, -7.75, -7.76, -7.7715, -7.7803, -7.7915, -7.7949, -7.8149, -7.8192, -7.8217, -7.8295, -7.8516, -7.8827, -7.9026, -6.3085, -6.4283, -6.8495, -7.2616, -6.8616, -7.641, -5.1424, -5.8376, -4.6548, -6.7977, -4.5049, -6.3866, -7.2527, -6.6234, -6.4697, -5.8526, -4.1374, -6.5338, -5.6574, -6.3868, -4.1887, -6.6437, -4.4447, -5.7055, -6.0753, -6.0056, -5.5731, -6.3756, -3.9823, -4.2807, -4.708, -5.3452, -5.6954, -4.1228, -5.7172, -5.5709, -5.8714, -5.6388, -5.8208, -5.0375, -5.2756, -5.2761, -4.8562, -4.668, -5.4212, -5.2347, -5.0998, -5.28, -5.2239, -5.3976, -5.3414, -5.4298, -5.599, -5.6393, -5.508, -5.5335, -5.6267, -5.2782, -5.8866, -6.0066, -6.0268, -6.152, -6.4629, -6.5239, -6.5746, -6.5801, -6.5906, -6.6745, -6.8388, -6.8496, -6.9072, -6.929, -7.0259, -7.0457, -7.2081, -7.2594, -7.2696, -7.2824, -7.283, -7.3782, -7.3923, -7.3936, -7.4022, -7.451, -7.4671, -7.4702, -7.4975, -6.2742, -6.4716, -6.0951, -7.0876, -6.4876, -6.7329, -6.6005, -5.9254, -6.0752, -6.6882, -6.2531, -6.5007, -5.587, -5.0347, -5.6941, -5.6086, -5.6285, -6.1796, -5.6521, -5.3858, -6.1323, -4.3127, -5.4124, -4.7315, -5.4972, -5.5821, -6.1201, -5.5632, -4.9252, -6.1433, -5.772, -5.8885, -5.2928, -5.6449, -5.2373, -5.4806, -4.8736, -4.7811, -5.305, -4.8692, -5.3431, -4.9557, -4.8415, -5.4025, -4.8288, -5.4551, -5.3852, -5.5557, -5.5748, -5.6083, -5.6106, -3.8593, -4.7105, -5.0278, -5.0323, -5.4056, -5.5301, -5.8791, -6.0656, -6.1998, -6.221, -6.2625, -6.2741, -6.4303, -6.4857, -6.5314, -6.5791, -6.6111, -6.8173, -6.8188, -6.8316, -6.8664, -6.9049, -6.9841, -6.9998, -7.0175, -7.1505, -7.2042, -7.3256, -7.3286, -7.3503, -2.7852, -5.939, -6.468, -4.2226, -6.276, -5.2477, -5.4888, -5.4489, -4.9743, -5.0925, -5.3359, -5.7643, -5.915, -5.8055, -4.9973, -4.924, -4.3883, -4.5037, -4.5247, -3.9596, -4.159, -4.2415, -4.5054, -4.4684, -4.5874, -4.8364, -5.0959, -4.6428, -5.2666, -5.308, -4.8051, -5.1805, -5.1972, -4.9386, -5.3671, -5.4117, -5.6349, -5.6836, -5.7575, -5.8196, -6.0387, -6.225, -6.2673, -6.3032, -6.5473, -6.5678, -6.729, -6.7674, -6.8006, -6.9147, -6.9735, -6.6074, -7.0156, -7.1252, -7.128, -7.1346, -7.1662, -7.1739, -7.1803, -7.2607, -7.3104, -7.3325, -7.3421, -4.8165, -6.6614, -6.0922, -6.2188, -3.7824, -5.7854, -5.6007, -5.211, -4.912, -6.8603, -6.0786, -6.0142, -6.3156, -5.3431, -6.1158, -5.4616, -6.1812, -5.6231, -6.1075, -5.3014, -5.3402, -4.7237, -5.7206, -4.6328, -5.195, -5.1819, -5.2795, -5.5414, -5.1954, -5.162, -4.8789, -5.1527, -5.1407, -5.3735, -5.3783, -5.3702, -5.4911, -5.5202, -5.578, -5.5509, -5.5979, -5.2865, -5.4014, -5.7185, -5.725, -5.741, -5.7614, -5.9232, -5.9663, -5.9685, -6.0112, -6.1748, -6.2044, -6.23, -6.3609, -6.3661, -6.4652, -6.4688, -6.4833, -6.3683, -6.6905, -6.7109, -6.7208, -6.7489, -6.7644, -6.8108, -6.8148, -6.8424, -6.8636, -6.9228, -6.9554, -3.3706, -5.1806, -6.3719, -5.1588, -5.3401, -5.4014, -5.0979, -5.4005, -6.1396, -4.7514, -6.3932, -4.9635, -4.9993, -5.043, -6.1168, -5.2995, -4.6637, -5.713, -4.4462, -4.7946, -5.3145, -4.9813, -5.1833, -5.1195, -4.7631, -4.8772, -4.8887, -5.2594, -5.1408, -5.1772, -5.1975, -5.3844, -5.4859, -5.4682], \"loglift\": [30.0, 29.0, 28.0, 27.0, 26.0, 25.0, 24.0, 23.0, 22.0, 21.0, 20.0, 19.0, 18.0, 17.0, 16.0, 15.0, 14.0, 13.0, 12.0, 11.0, 10.0, 9.0, 8.0, 7.0, 6.0, 5.0, 4.0, 3.0, 2.0, 1.0, 1.8359, 1.8358, 1.8357, 1.8352, 1.8351, 1.8346, 1.8346, 1.8344, 1.8343, 1.8342, 1.8342, 1.8341, 1.834, 1.8339, 1.8339, 1.8337, 1.8336, 1.8336, 1.8333, 1.8332, 1.8331, 1.8329, 1.8329, 1.8328, 1.8327, 1.8327, 1.8326, 1.8325, 1.8324, 1.8324, 1.8252, 1.8304, 1.8258, 1.8155, 1.8268, 1.7601, 1.7972, 1.8132, 1.8004, 1.7022, 1.8192, 1.7777, 1.7464, 1.6449, 1.6275, 1.6194, 1.444, 1.7841, 1.5279, 1.5494, 1.7064, 1.6963, 1.5559, 1.7051, 1.3596, 1.7118, 1.6411, 1.3821, 1.1811, 1.3546, 1.2062, 1.6574, 0.9368, 1.0289, 1.3773, 1.2308, 0.9536, 1.3117, 0.9932, 1.2116, 1.2884, 0.9896, 1.1348, 1.3404, 1.1484, 0.285, 0.8165, 0.8175, 0.6038, 0.2014, 0.4443, -0.2643, 0.5012, 1.9993, 1.9989, 1.9986, 1.9985, 1.9981, 1.9981, 1.9979, 1.9978, 1.9976, 1.9974, 1.9973, 1.9968, 1.9968, 1.9966, 1.9964, 1.9963, 1.9962, 1.996, 1.9959, 1.9956, 1.9956, 1.9955, 1.9955, 1.9951, 1.9951, 1.995, 1.995, 1.995, 1.995, 1.9947, 1.9883, 1.9838, 1.9786, 1.9805, 1.8231, 1.984, 1.806, 1.7642, 1.7643, 1.5586, 1.7232, 1.8477, 1.5591, 1.5225, 1.0373, 1.6012, 1.241, 1.5215, 1.4351, 1.4279, 1.1263, 1.6097, 0.7851, 1.3415, 0.8779, 0.9129, 1.0469, 1.4127, 1.1117, 1.016, 1.2601, 1.0787, 1.1067, 0.3066, 0.6912, 0.5648, 0.8782, 0.3407, 0.8926, -0.0373, 0.6926, 0.6529, 0.7604, -0.4705, 0.3645, 2.0083, 2.0082, 2.0082, 2.0081, 2.008, 2.0079, 2.0077, 2.0074, 2.0074, 2.0072, 2.0071, 2.007, 2.0069, 2.0068, 2.0068, 2.0068, 2.0067, 2.0065, 2.0065, 2.0065, 2.0064, 2.0063, 2.0063, 2.0061, 2.0061, 2.0061, 2.0061, 2.0061, 2.006, 2.006, 1.9955, 1.9753, 1.97, 1.9352, 1.9605, 1.7957, 1.914, 1.7972, 1.5057, 1.3613, 1.7555, 1.6025, 1.184, 0.4003, 1.3736, 0.7867, 0.4447, 1.288, 1.1012, 0.8724, 0.0916, -0.0949, 0.9788, 1.2556, 1.3009, 0.1386, 0.7243, 0.5871, 0.8606, 0.6124, 0.7295, 0.5148, -0.0454, 0.5501, 0.6576, -0.5335, 2.2522, 2.2514, 2.251, 2.2508, 2.2505, 2.2504, 2.25, 2.2498, 2.2497, 2.2497, 2.2495, 2.2494, 2.2493, 2.2489, 2.248, 2.2478, 2.2477, 2.2476, 2.2476, 2.2471, 2.247, 2.2468, 2.2466, 2.2465, 2.2464, 2.2464, 2.2463, 2.246, 2.2459, 2.2459, 2.2363, 2.2244, 2.158, 2.206, 2.1792, 2.1462, 2.1657, 2.2093, 2.2244, 2.1458, 1.9413, 2.1649, 1.9063, 1.8012, 1.6807, 1.9863, 2.1182, 1.5363, 1.7538, 1.6084, 1.948, 1.7559, 1.8518, 1.8825, 1.8658, 1.6172, 1.6716, 0.9939, 1.6265, 1.348, 1.4706, 1.3207, 0.8314, 1.4031, 1.516, 1.0888, 1.1701, 0.326, 1.2579, 1.537, 0.9521, 0.4447, 1.1044, 0.7895, 0.5522, 0.954, -0.0674, 0.0148, 0.4435, 2.3052, 2.305, 2.3048, 2.3044, 2.3043, 2.304, 2.304, 2.304, 2.304, 2.3037, 2.3037, 2.3036, 2.3033, 2.3033, 2.3033, 2.3033, 2.3031, 2.3031, 2.3028, 2.3025, 2.3024, 2.3023, 2.3023, 2.302, 2.3018, 2.3017, 2.3017, 2.3013, 2.3013, 2.3011, 2.2963, 2.2932, 2.294, 2.2185, 2.2661, 2.2512, 2.2668, 2.2155, 2.2142, 2.1555, 2.1975, 2.0844, 2.2664, 2.0498, 2.1329, 1.9968, 1.8949, 2.2338, 1.9323, 2.0414, 2.1835, 1.5471, 1.8578, 1.7202, 1.8484, 1.7748, 1.4412, 1.8392, 1.6531, 1.8519, 1.5292, 1.3878, 1.2999, 1.2917, 1.4585, 1.4059, 1.2266, 0.2554, 1.7253, 0.6376, 0.2544, 0.625, 1.0088, -0.1192, 0.1634, -0.1692, 2.3131, 2.3128, 2.3127, 2.3124, 2.3113, 2.311, 2.3106, 2.3101, 2.3099, 2.3097, 2.3094, 2.3092, 2.3092, 2.3088, 2.3087, 2.3086, 2.3085, 2.3084, 2.3083, 2.3083, 2.3082, 2.3082, 2.3081, 2.308, 2.308, 2.308, 2.3079, 2.3078, 2.3076, 2.3075, 2.2981, 2.293, 2.2933, 2.2988, 2.282, 2.3017, 2.1837, 2.2198, 2.1563, 2.2561, 2.1034, 2.2188, 2.2625, 2.1996, 2.1771, 2.0919, 1.8541, 2.1499, 1.9804, 2.1038, 1.692, 2.1254, 1.6056, 1.8938, 1.985, 1.9571, 1.8183, 2.0438, 1.2506, 1.3447, 1.4417, 1.6292, 1.7697, 1.0511, 1.7506, 1.6309, 1.7928, 1.6128, 1.6453, 0.8452, 1.0826, 1.0069, 0.5041, 0.2208, 1.1743, 0.9319, 0.6841, 0.8222, 0.4082, 0.6875, 0.3314, 0.6152, 0.8001, 1.1806, -0.3406, -0.0488, 0.5466, 2.4201, 2.4196, 2.4195, 2.4195, 2.4193, 2.4188, 2.4187, 2.4186, 2.4186, 2.4186, 2.4184, 2.418, 2.418, 2.4179, 2.4178, 2.4175, 2.4175, 2.4169, 2.4167, 2.4167, 2.4166, 2.4166, 2.4162, 2.4162, 2.4162, 2.4161, 2.4159, 2.4158, 2.4158, 2.4157, 2.4155, 2.4078, 2.4037, 2.4118, 2.3946, 2.4, 2.3955, 2.3652, 2.3679, 2.3913, 2.3625, 2.3631, 2.28, 2.2244, 2.2836, 2.2699, 2.261, 2.3262, 2.2562, 2.1941, 2.2844, 1.884, 2.1091, 1.871, 2.0253, 2.0274, 2.2325, 1.9653, 1.6484, 2.2054, 1.9114, 1.9915, 1.5222, 1.7898, 1.2902, 1.5335, 0.7992, 0.5792, 1.2194, 0.6155, 1.2233, 0.5556, 0.3259, 1.2491, 0.06, 1.1911, 0.9541, 0.6833, 0.6352, 0.8668, -0.2946, 2.5683, 2.5681, 2.568, 2.568, 2.5678, 2.5677, 2.5673, 2.5671, 2.5669, 2.5668, 2.5668, 2.5668, 2.5665, 2.5664, 2.5663, 2.5661, 2.5661, 2.5655, 2.5655, 2.5655, 2.5654, 2.5652, 2.565, 2.5649, 2.5649, 2.5643, 2.5641, 2.5636, 2.5635, 2.5634, 2.5294, 2.5526, 2.5345, 2.3865, 2.5027, 2.3886, 2.4079, 2.3885, 2.2246, 2.2285, 2.2538, 2.3125, 2.3299, 2.2512, 1.8177, 1.7527, 1.4271, 1.4801, 1.4647, 1.106, 1.2013, 1.2432, 1.1674, 0.6991, 0.6455, 0.8442, 1.0708, 0.246, 1.3337, 1.3436, 0.0426, 0.3308, 0.2616, 2.8522, 2.8518, 2.8518, 2.8516, 2.8515, 2.8514, 2.8513, 2.851, 2.8506, 2.8505, 2.8504, 2.8498, 2.8497, 2.8492, 2.849, 2.8489, 2.8484, 2.8482, 2.848, 2.848, 2.8474, 2.8474, 2.8474, 2.8472, 2.8472, 2.8471, 2.8467, 2.8464, 2.8462, 2.8462, 2.8122, 2.8315, 2.7977, 2.7998, 2.6685, 2.7472, 2.7244, 2.6341, 2.5394, 2.8097, 2.6888, 2.6535, 2.6823, 2.3939, 2.6063, 2.3066, 2.6057, 2.1941, 2.4725, 1.5263, 1.5277, 0.7877, 1.9146, 0.256, 1.0428, 0.8849, 0.9303, 1.4617, 0.7072, 0.6219, -0.0313, 0.5279, 0.3181, 0.2587, -0.0622, -0.2027, 0.1817, 0.4714, 0.9011, -0.1906, 0.6851, 3.1123, 3.1121, 3.1117, 3.1117, 3.1116, 3.1116, 3.1113, 3.1112, 3.1112, 3.1111, 3.1107, 3.1106, 3.1106, 3.1102, 3.1102, 3.1098, 3.1098, 3.1098, 3.1094, 3.1089, 3.1089, 3.1088, 3.1087, 3.1086, 3.1084, 3.1084, 3.1082, 3.1081, 3.1078, 3.1076, 3.0441, 3.0508, 3.0869, 3.008, 3.0059, 2.9973, 2.9541, 2.9162, 3.0089, 2.7494, 3.0527, 2.7023, 2.6855, 2.6913, 2.9554, 2.5444, 2.2042, 2.6282, 1.4344, 1.6229, 2.043, 1.6121, 1.7152, 1.4568, 0.7216, 0.2967, 0.0001, 1.0237, 0.4846, 0.4956, 0.1185, -0.0241, 0.7532, 0.0431]}, \"token.table\": {\"Topic\": [1, 2, 3, 4, 5, 6, 7, 9, 10, 1, 3, 5, 8, 1, 2, 3, 4, 5, 6, 7, 8, 9, 10, 1, 2, 3, 5, 6, 8, 10, 1, 3, 4, 5, 6, 10, 1, 3, 5, 7, 7, 7, 1, 2, 3, 4, 5, 6, 7, 8, 9, 10, 1, 2, 3, 4, 5, 7, 8, 10, 7, 5, 1, 4, 7, 9, 1, 6, 8, 10, 6, 8, 4, 6, 7, 6, 5, 1, 1, 4, 10, 8, 4, 6, 9, 4, 4, 6, 7, 10, 10, 5, 6, 7, 8, 10, 9, 5, 4, 4, 5, 7, 5, 9, 1, 1, 8, 8, 7, 10, 1, 7, 9, 8, 5, 7, 2, 4, 6, 7, 4, 1, 2, 5, 8, 5, 5, 10, 4, 1, 7, 1, 8, 2, 5, 2, 5, 6, 7, 1, 2, 1, 2, 7, 2, 5, 2, 2, 1, 2, 3, 4, 5, 6, 7, 8, 9, 10, 9, 2, 4, 2, 3, 5, 3, 2, 5, 7, 4, 5, 1, 3, 5, 6, 7, 8, 9, 4, 9, 4, 9, 4, 1, 9, 9, 7, 7, 7, 7, 2, 3, 8, 4, 5, 6, 9, 6, 9, 1, 3, 1, 3, 4, 2, 4, 6, 8, 8, 1, 2, 3, 4, 5, 6, 7, 8, 9, 10, 7, 6, 7, 9, 2, 4, 6, 1, 2, 4, 5, 6, 9, 10, 2, 3, 4, 5, 7, 8, 9, 10, 2, 1, 3, 4, 5, 6, 7, 8, 9, 10, 1, 2, 3, 4, 5, 6, 7, 8, 9, 10, 1, 2, 3, 4, 5, 6, 7, 8, 9, 10, 4, 5, 6, 7, 1, 1, 3, 4, 6, 7, 2, 3, 4, 5, 6, 7, 8, 9, 10, 10, 6, 6, 7, 1, 5, 5, 9, 1, 10, 9, 7, 1, 2, 3, 4, 5, 6, 7, 8, 9, 10, 1, 2, 3, 4, 9, 6, 1, 2, 3, 8, 9, 10, 1, 3, 6, 8, 1, 10, 2, 7, 8, 1, 4, 6, 8, 1, 2, 3, 5, 9, 1, 1, 1, 2, 3, 4, 5, 6, 7, 8, 9, 10, 1, 4, 9, 10, 1, 2, 3, 4, 5, 6, 8, 9, 10, 1, 2, 9, 1, 2, 3, 5, 6, 8, 9, 10, 7, 1, 3, 4, 5, 6, 10, 10, 1, 5, 6, 7, 8, 9, 10, 2, 4, 5, 6, 8, 9, 10, 2, 4, 7, 1, 3, 4, 5, 7, 1, 3, 4, 7, 8, 2, 3, 4, 5, 6, 7, 8, 9, 1, 4, 6, 7, 8, 9, 10, 10, 2, 9, 1, 2, 3, 4, 5, 6, 7, 8, 9, 1, 2, 4, 5, 6, 8, 10, 1, 2, 3, 4, 5, 6, 7, 8, 9, 10, 7, 10, 2, 4, 6, 8, 6, 6, 4, 9, 9, 2, 5, 6, 5, 7, 8, 3, 1, 2, 3, 4, 5, 6, 7, 8, 9, 10, 2, 3, 4, 6, 7, 8, 9, 1, 3, 4, 6, 7, 8, 9, 10, 3, 2, 5, 9, 2, 2, 8, 2, 5, 7, 1, 3, 4, 5, 7, 8, 1, 2, 3, 4, 6, 7, 8, 9, 10, 1, 6, 9, 10, 10, 10, 1, 2, 3, 4, 5, 6, 8, 9, 10, 1, 2, 3, 4, 5, 8, 9, 10, 1, 2, 3, 4, 5, 6, 8, 9, 2, 3, 4, 5, 6, 7, 8, 9, 2, 9, 1, 3, 4, 6, 8, 1, 2, 4, 6, 7, 8, 9, 1, 2, 3, 4, 5, 6, 7, 8, 9, 10, 1, 2, 3, 4, 5, 6, 7, 8, 9, 10, 1, 2, 3, 4, 5, 6, 7, 8, 9, 10, 1, 2, 3, 4, 5, 6, 7, 8, 9, 10, 1, 2, 3, 4, 5, 7, 8, 9, 10, 3, 1, 3, 9, 1, 2, 3, 4, 5, 9, 6, 1, 5, 7, 1, 2, 6, 7, 8, 1, 2, 4, 6, 7, 8, 9, 10, 9, 1, 4, 6, 10, 8, 2, 3, 4, 5, 7, 8, 9, 10, 3, 4, 6, 6, 1, 2, 3, 4, 5, 6, 7, 8, 9, 10, 1, 7, 8, 1, 2, 3, 4, 5, 6, 7, 8, 9, 10, 4, 4, 5, 6, 7, 4, 9, 5, 6, 5, 6, 2, 2, 9, 5, 6, 2, 7, 8, 9, 1, 6, 9, 1, 2, 3, 4, 5, 6, 7, 8, 9, 10, 1, 2, 3, 4, 5, 6, 7, 9, 10, 1, 3, 4, 5, 6, 7, 8, 2, 7, 7, 2, 4, 8, 8, 1, 2, 3, 4, 8, 9, 10, 1, 2, 3, 5, 6, 7, 8, 1, 2, 6, 7, 10, 1, 2, 3, 5, 6, 8, 10, 1, 2, 3, 4, 10, 2, 1, 3, 4, 5, 6, 7, 8, 9, 10, 8, 5, 1, 5, 1, 2, 3, 4, 5, 8, 9, 3, 4, 9, 1, 2, 3, 4, 5, 6, 7, 8, 9, 10, 3, 4, 9, 9, 4, 6, 1, 5, 7, 3, 5, 8, 4, 6, 8, 4, 2, 2, 9, 6, 3, 4, 1, 4, 1, 7, 2, 3, 5, 6, 8, 9, 10, 1, 2, 3, 4, 5, 6, 7, 8, 1, 2, 3, 4, 5, 6, 8, 10, 2, 4, 6, 4, 5, 6, 7, 1, 6, 9, 3, 1, 4, 6, 8, 9, 8, 4, 4, 9, 2, 3, 8, 10, 2, 3, 7, 8, 9, 10, 7, 1, 4, 5, 6, 9, 10, 1, 2, 4, 6, 9, 10, 1, 2, 3, 4, 5, 7, 8, 7, 7, 4, 1, 5, 6, 7, 8, 10, 4, 1, 2, 5, 6, 8, 9, 10, 1, 1, 5, 1, 9, 10, 1, 1, 3, 5, 7, 10, 5, 1, 5, 7, 10, 1, 3, 4, 6, 8, 6, 3, 5, 6, 1, 5, 6, 9, 10, 2, 4, 5, 6, 7, 8, 1, 2, 3, 4, 5, 8, 9, 10, 7, 1, 3, 6, 8, 9, 8, 1, 2, 3, 5, 7, 8, 5, 1, 2, 4, 6, 8, 9, 1, 6, 7, 8, 9, 10, 1, 2, 3, 4, 5, 7, 1, 3, 7, 8, 3, 1, 3, 5, 6, 10, 4, 3, 1, 3, 4, 6, 10, 10, 2, 10, 1, 1, 3, 5, 1, 4, 5, 6, 7, 8, 1, 2, 3, 4, 5, 6, 7, 8, 9, 10, 3, 1, 5, 3, 5, 5, 2, 2, 3, 4, 5, 7, 8, 2, 6, 8, 6, 7, 8, 2, 1, 2, 3, 4, 7, 8, 9, 3, 8, 6, 7, 8, 1, 3, 4, 7, 8, 9, 1, 2, 4, 5, 6, 7, 8, 9, 5, 10, 5, 7, 10, 2, 5, 6, 10, 1, 6, 7, 10, 5, 5, 7, 6, 7, 4, 8, 9, 10, 4, 3, 9, 5, 9, 2, 5, 7, 2, 2, 4, 6, 7, 8, 3, 1, 2, 3, 4, 5, 6, 7, 8, 9, 10, 3, 1, 3, 2, 8, 9, 8, 6, 9, 8, 1, 2, 4, 6, 8, 9, 10, 1, 2, 3, 4, 5, 7, 8, 9, 2, 3, 5, 8, 10, 6, 2, 6, 7, 10, 10, 3, 6, 7, 8, 5, 1, 3, 8, 3, 1, 3, 5, 8, 10, 2, 6, 8, 5, 5, 2, 6, 6, 8, 1, 5, 1, 2, 3, 4, 5, 6, 7, 9, 10, 1, 2, 3, 4, 5, 6, 7, 8, 9, 10, 2, 4, 2, 3, 5, 9, 10, 1, 2, 3, 8, 1, 4, 6, 2, 4, 3, 9, 1, 2, 3, 4, 6, 7, 8, 9, 10, 3, 7, 3, 4, 5, 6, 7, 9, 10, 3, 3, 1, 9, 6, 6, 6, 1, 2, 3, 4, 5, 6, 7, 8, 9, 10, 9, 9, 1, 9, 10, 5, 4, 10, 10, 1, 3, 6, 9, 10, 8, 2, 3, 6, 7, 8, 1, 2, 3, 4, 5, 6, 7, 8, 9, 10, 1, 3, 8, 9, 3, 2, 3, 9, 10, 3, 1, 2, 3, 4, 5, 6, 7, 8, 9, 10, 2, 4, 7, 8, 8, 1, 2, 3, 4, 5, 6, 7, 8, 9, 10, 1, 1, 3, 4, 5, 7, 8, 9, 10, 10, 1, 2, 3, 4, 5, 6, 7, 8, 10, 1, 2, 3, 4, 7, 8, 2, 4, 6, 7, 8, 9, 2, 3, 5, 8, 9, 10, 4, 6, 6, 2, 3, 8, 1, 6, 8, 10, 9, 1, 1, 2, 6, 10, 1, 1, 1, 2, 4, 6, 5, 2, 3, 4, 5, 6, 8, 9, 10, 1, 1, 2, 3, 5, 6, 7, 2, 3, 4, 5, 7, 8, 9, 1, 3, 4, 7, 9, 10, 4, 6, 10, 2, 8, 10, 3, 4, 3, 4, 7, 8, 8, 1, 5, 1, 4, 2, 3, 6, 7, 4, 2, 4, 1, 3, 4, 7, 8, 9, 5, 1, 2, 3, 4, 5, 6, 7, 8, 9, 10, 1, 5, 6, 1, 2, 5, 6, 7, 8, 9, 10, 1, 2, 3, 5, 8, 9, 10, 1, 7, 7, 1, 7, 1, 4, 5, 7, 4, 7, 3, 4, 7, 4, 2, 4, 5, 10, 2, 3, 5, 7, 8, 1, 2, 3, 4, 8, 9, 4, 1, 2, 4, 5, 9, 10, 1, 4, 6, 7, 8, 9, 1, 2, 3, 4, 9, 1, 3, 6, 7, 8, 1, 3, 4, 5, 6, 7, 8, 1, 3, 4, 2, 9, 5, 10, 1, 2, 3, 4, 5, 6, 7, 8, 9, 10, 2, 5, 3, 4, 5, 6, 2, 5, 9, 3, 7, 1, 2, 3, 4, 5, 6, 7, 9, 10, 5, 6, 10, 1, 3, 4, 5, 6, 7, 9, 1, 4, 6, 7, 8, 9, 10, 2, 3, 8, 9, 10, 1, 2, 4, 6, 10, 3, 1, 2, 3, 4, 5, 6, 7, 8, 9, 10, 4, 2, 8, 3, 3, 10, 10, 1, 3, 4, 6, 9, 10, 1, 2, 3, 6, 10, 8, 8, 1, 5, 1, 1, 2, 1, 2, 8, 8, 1, 2, 3, 4, 5, 6, 7, 9, 10, 1, 2, 3, 4, 5, 6, 7, 8, 9, 10, 1, 2, 3, 4, 5, 6, 7, 8, 9, 10, 5, 10, 10, 8, 1, 4, 5, 6, 9, 10, 7, 5, 2, 4, 5, 6, 7, 8, 9, 7, 3, 3, 3, 3, 7, 8, 6, 8, 9, 10, 10, 9, 1, 9, 8, 10, 10, 2, 4, 6, 8, 9, 10, 4, 8, 4, 6, 1, 7, 9, 4, 6, 6, 9, 2, 6, 7, 8, 6, 7, 8, 5, 7, 2, 3, 6, 7, 1, 4, 6, 8, 4, 9, 7, 4, 1, 9, 5, 7, 8, 8, 4, 1, 4, 6, 7, 8, 10, 4, 1, 2, 4, 5, 6, 8, 9, 10, 1, 2, 6, 5, 7, 2, 1, 3, 4, 6, 7, 8, 9, 10, 1, 5, 4, 7, 8, 1, 5, 6, 7, 8, 9, 2, 9, 6, 7, 9, 9, 1, 6, 2, 9, 5, 7, 7, 3, 7, 8, 1, 2, 3, 4, 6, 7, 8, 9, 8, 1, 2, 4, 6, 8, 9, 10, 6, 5, 10, 1, 2, 3, 4, 5, 6, 7, 8, 9, 10, 2, 3, 4, 5, 7, 8, 9, 5, 10, 8, 1, 8, 1, 2, 3, 4, 5, 6, 7, 8, 9, 10, 1, 2, 3, 5, 6, 7, 9, 10, 8, 1, 1, 2, 3, 4, 5, 6, 7, 8, 9, 10, 1, 2, 3, 4, 5, 6, 7, 8, 9, 10, 3, 1, 1, 2, 3, 4, 5, 6, 7, 8, 9, 10, 2, 1, 2, 3, 4, 5, 6, 7, 8, 9, 10, 1, 2, 3, 4, 8, 9, 1, 2, 3, 5, 6, 7, 8, 9, 10, 3, 1, 2, 4, 6, 7, 8, 9, 10, 10, 9, 1, 2, 4, 6, 7, 8, 10, 2, 5, 9, 1, 4, 6, 7, 8, 9, 4, 6, 7, 2, 3, 4, 7, 8, 4, 7, 7, 2, 3, 4, 7, 8, 9, 1, 3, 4, 5, 6, 7, 8, 9, 3, 1, 3, 4, 6, 7, 8, 9, 4, 1, 2, 3, 4, 5, 6, 8, 9, 10, 1, 2, 5, 9, 10, 1, 2, 3, 4, 5, 6, 7, 8, 9, 1, 3, 10, 10], \"Freq\": [0.12254929084463613, 0.035951290890182334, 0.3571511452667019, 0.032277436346660054, 0.08476107268269266, 0.029390836348178257, 0.21938159988461628, 0.06009376360475733, 0.05851925451467635, 0.9943015595237227, 0.0342497619825399, 0.9304518671923339, 0.0342497619825399, 0.07324711264280512, 0.04569936473924285, 0.2782536086693151, 0.00811484046771602, 0.1373116426510895, 0.06299678784147962, 0.29234780527113763, 0.003630323367136114, 0.033100007170946924, 0.0651322721750891, 0.04310939946955111, 0.07813578653856139, 0.07409428033829098, 0.6327202484645574, 0.12528669220838293, 0.027392430912943935, 0.018860362267928612, 0.04403624343163004, 0.03533772621056732, 0.046754530063212146, 0.6349917571375788, 0.23757825160027565, 0.0005436573263164203, 0.06145918040773666, 0.006271344939564966, 0.06020491141982367, 0.8729712155874432, 0.9985067948210198, 0.9990044061662441, 0.1412752326186836, 0.05935456081831942, 0.15265310370206753, 0.03735734339044385, 0.1668754425562974, 0.007205985019476479, 0.3229419075833801, 0.04133959826962822, 0.027686152969567526, 0.04323591011685887, 0.01585183036118234, 0.022676923988913623, 0.09687229665166984, 0.003962957590295585, 0.0704525793830326, 0.24658402784061415, 0.44231009993910164, 0.10127558286310938, 0.9938291389922371, 0.9978799840747518, 0.027976952214183604, 0.2965556934703462, 0.6748040874061085, 0.9962565576512747, 0.021541642530303298, 0.013026490640052518, 0.9617046379889855, 0.0037218544685864337, 0.9988527750684503, 0.9978273840742631, 0.9565488508978616, 0.038401596203928745, 0.99436431332811, 0.9986574772738315, 0.997009786616884, 0.9952744364108757, 0.07039686671147481, 0.028680204956526772, 0.899515519091067, 0.9995996814218633, 0.9951547115380471, 0.9099375512816599, 0.0893297692307308, 0.995741381082191, 0.04184469772596905, 0.010334115632729197, 0.014569408924831329, 0.9331198181159414, 0.9977331931493549, 0.015214191991068505, 0.008241020661828774, 0.22504325653455498, 0.09572262461047268, 0.6554781049485348, 0.9983269600207183, 0.9980989272768209, 0.999499826031158, 0.1025181172180927, 0.03661361329217597, 0.8604199123661352, 0.9969649681435332, 0.9933720055597106, 0.9940399570803401, 0.9968435622774742, 0.9987914972086289, 0.9963885074422263, 0.944227381813326, 0.05509268354178239, 0.011954319955036498, 0.9882237829496838, 0.9993954575052998, 0.997976341307396, 0.003296005326993816, 0.9953936087521323, 0.20815424123542872, 0.06938474707847624, 0.7193178209781271, 0.0026348638131066925, 0.9971087862437095, 0.9133364702636368, 0.0034292983864717278, 0.060584271494333854, 0.02171888978098761, 0.9949036179283263, 0.9982228613174222, 0.9957515037478881, 0.9977839125290168, 0.9989948726476258, 0.9980147417997576, 0.9469961046897107, 0.04984190024682688, 0.010955224426275403, 0.9887090044713551, 0.027506607128151266, 0.0919299764546108, 0.010857871234796552, 0.8686296987837241, 0.9982731005776841, 0.9987078835758156, 0.020463543039997444, 0.9781573573118778, 0.9966706098760576, 0.9799294181199855, 0.018606254774430103, 0.9954391256215352, 0.9970728743606615, 0.008281200690953429, 0.19028152149437935, 0.05703793284892643, 0.019539911742699104, 0.10635294819954798, 0.10077011627306252, 0.10858608097014216, 0.31943103339374296, 0.038242398696425386, 0.051455100922440974, 0.9994535505276554, 0.09979787042880402, 0.8981808338592362, 0.027825900658869796, 0.11130360263547918, 0.8603768483722541, 0.9965096731005982, 0.9972145584022983, 0.9623031380462275, 0.037202440903849, 0.010363136259823576, 0.9879523234365143, 0.518750438339066, 0.1282240503543428, 0.003984133460597843, 0.0530133676797917, 0.019920667302989213, 0.17831029957328712, 0.09781454189998376, 0.21795502756408577, 0.781005515437974, 0.19618011704326388, 0.8038427178487527, 0.9992326031382853, 0.05234476737321885, 0.94623233328511, 0.9987725275778688, 0.9995719781842483, 0.9997677899948019, 0.9983696379565936, 0.9976580299989047, 0.14516328462621253, 0.8091509013424069, 0.04480348290932486, 0.05589464130964683, 0.18870413091718374, 0.02436433082728195, 0.7309299248184585, 0.9925502036673345, 0.9986841252424311, 0.03718715082511874, 0.9622175275999475, 0.038866380975199476, 0.9293637568481521, 0.03086447900971723, 0.012650698541053192, 0.11737036979754907, 0.03373519610947518, 0.8349461037095107, 0.9981784822059474, 0.04609797059611401, 0.3817930080046252, 0.200229221975759, 0.034219965902636776, 0.12867838417933664, 0.0357400676937663, 0.02573567683586733, 0.07999977565874693, 0.055925605431788615, 0.01163054626236312, 0.9978943009786616, 0.034781135790282004, 0.133327687196081, 0.8317609998332591, 0.017121598761959275, 0.9294582185063607, 0.05299542473939776, 0.061231190804383426, 0.030615595402191713, 0.007528425098899601, 0.11694153653624048, 0.07126909093624956, 0.01706443022417243, 0.6951245841317298, 0.2893904863268797, 0.2154046059657344, 0.2069490767816035, 0.08814889174456451, 0.05263566917121479, 0.016488281909055234, 0.12767849068037643, 0.0031708234440490832, 0.9923879555958316, 0.4282498519712988, 0.005722418780225559, 0.11564609116316303, 0.13268026799732285, 0.17074100686114865, 0.001730033584719355, 0.0411215675137139, 0.05336488211326626, 0.05070329198292879, 0.1406117013517142, 0.46804016616260236, 0.018539068129536353, 0.035794662311643265, 0.058897193365373184, 0.02124862424077628, 0.02766599397792348, 0.08656318734329667, 0.06460152202061514, 0.07829191079319583, 0.16203199788182396, 0.3303952026273371, 0.08160222179866099, 0.1327208549943739, 0.06940878635748175, 0.09778197267253343, 0.03048358860294807, 0.02743522974265326, 0.04127008918552969, 0.02720074059955366, 0.7324384115160151, 0.04070538102109117, 0.13839829547170998, 0.08838882736008369, 0.9958198334861034, 0.10335988294203387, 0.0826879063536271, 0.0004698176497365176, 0.280481136892701, 0.5323033971514745, 0.13933894197960714, 0.0036498644278171364, 0.0006440937225559652, 0.05474796641725705, 0.03542515474057809, 0.3098090805494193, 0.2937067374855202, 0.12538357799089458, 0.03714273800072733, 0.998402330484375, 0.9903052071037965, 0.986606203794887, 0.005769626922777117, 0.231610427929069, 0.7677456777648768, 0.9944161664963358, 0.9988322620515848, 0.9641399036135825, 0.035001778679040946, 0.9934933978208657, 0.9984794361298971, 0.3605348375476444, 0.19488753226492747, 0.05379633993329025, 0.06046765385641595, 0.037189026550190095, 0.05180914004129536, 0.0008516570965692387, 0.03633736945362085, 0.16366010539072204, 0.040595654936467045, 0.23526025106192297, 0.019353028364991094, 0.08991094427902112, 0.6366339955900195, 0.018748246228585123, 0.9918547495711543, 0.29661212656229097, 0.01226420737700131, 0.5300862966281678, 0.1162828551300865, 0.029070713782521625, 0.015443816696964614, 0.8249706602414875, 0.016175895298852695, 0.008087947649426348, 0.15097502278929184, 0.9947044780260917, 0.9990342333368913, 0.2382549381940396, 0.05232701913607411, 0.7088269968078125, 0.577489355291507, 0.1595583773708963, 0.2071459636043215, 0.05570546859089186, 0.6312537134548027, 0.22778647663427626, 0.050697453841322696, 0.0771023777170116, 0.013026429112006525, 0.9983759510943548, 0.996445543060792, 0.2482962387275841, 0.13584142920366826, 0.03682148630429103, 0.05781968525079213, 0.18858572039630137, 0.230184048167095, 0.038413766793125234, 0.00905609528024455, 0.05503319439533227, 0.9981027346307527, 0.062343777611884386, 0.016031257100198842, 0.8478753755216277, 0.07303128234535028, 0.17687794004180746, 0.007896336609009262, 0.045798752332253716, 0.02605791080973056, 0.5566917309351529, 0.11318082472913274, 0.0334278249781392, 0.03263819131723828, 0.007106702948108335, 0.14175373876023384, 0.22566178143445298, 0.6318529880164684, 0.011006388269940014, 0.6430875432007808, 0.24755638378579362, 0.003668796089980004, 0.015548707238486685, 0.04542318968546672, 0.008036410482813342, 0.025856277205573364, 0.9948300506353706, 0.19440035225518348, 0.11568343109592574, 0.017830904792981037, 0.06610481776910042, 0.2631145707256958, 0.34270129211875744, 0.9949028383264084, 0.23311635265697855, 0.186281265146894, 0.4923567993522454, 0.03224325120040995, 0.010590848934441226, 0.04177501524140706, 0.0036479590774186445, 0.0039548935711003945, 0.6086141773304496, 0.07865843880299674, 0.056247375233427835, 0.007470354523189635, 0.15204368617785963, 0.0927202826113537, 0.03975973280358184, 0.9542335872859642, 0.0045876614773363664, 0.03226723911109341, 0.037400663515131, 0.24713771773723817, 0.03153389276765947, 0.6512115529693397, 0.007689595498129499, 0.11968165300934887, 0.3387365401483713, 0.30206308469575366, 0.2318708796359049, 0.002514262628382084, 0.07919927279403564, 0.024514060626725318, 0.6882793945195954, 0.09962765664964007, 0.030485434369132765, 0.023571212141082036, 0.051542383881832715, 0.36023828013797077, 0.10496484199249496, 0.25104311705761706, 0.03146301309094937, 0.22367822752053085, 0.027100494469095047, 0.0014541728739514417, 0.9976114099444179, 0.8581150384932807, 0.13969314580123174, 0.6747000239128182, 0.0007033620264923829, 0.0016704848129194094, 0.007297381024858472, 0.0007912822798039307, 0.018639093702048144, 0.04444368804898744, 0.2316698674759286, 0.02013373800834446, 0.4062998790391283, 0.0845029287849646, 0.048791256272362166, 0.060352236674247176, 0.28280313500034815, 0.05741300436868319, 0.059813377418227114, 0.0038419936435379236, 0.0773201220762007, 0.06003115068028005, 0.15992298541226607, 0.40653095240685655, 0.005042616657143524, 0.059791026077558936, 0.020410591231295218, 0.12294379659321356, 0.08428373555511319, 0.9971146681742508, 0.9944709972766509, 0.09427539161684238, 0.04459499852414951, 0.49602156253176827, 0.36458367214480125, 0.9991620776418445, 0.9925852390754222, 0.9924959172924703, 0.9978808017500617, 0.994113406482223, 0.9993556329724803, 0.9974072686013271, 0.0015744392558821264, 0.9987698253897969, 0.9761073791262277, 0.022387783924913477, 0.9986779674265006, 0.05280339722600152, 0.13033749948190249, 0.0326846344854617, 0.05012980749303941, 0.0848196342782227, 0.094110358600266, 0.16442576857716928, 0.2656879797131089, 0.03341987166202628, 0.0914367688673039, 0.47722416157357783, 0.3128897123865474, 0.044258692404001175, 0.001539432779269606, 0.00769716389634803, 0.060037878391514636, 0.09659940689916778, 0.13803281696508674, 0.0534194800119121, 0.14726099964354358, 0.417997683012918, 0.1416721002749007, 0.09358157082378762, 0.007148592215705999, 0.0009098208274534907, 0.9980343717360051, 0.07803406893480788, 0.9124783794110201, 0.009364088272176945, 0.9976615389383104, 0.147647558711855, 0.8515833941865576, 0.9934245661572773, 0.9908135691869634, 0.008645842663062508, 0.03677041673462795, 0.060408541778317344, 0.12644520856703692, 0.5879514594200204, 0.1088104168677766, 0.07954416681368495, 0.08759843301723763, 0.000297953853800128, 0.06366280676196068, 0.045785575533953, 0.536813526596564, 0.0018870410740674773, 0.03436401113828143, 0.04300467289848514, 0.18661843043014684, 0.056669636206729275, 0.05050989314078044, 0.0012319486131897668, 0.8906988473362014, 0.9974266502680451, 0.9972526241770918, 0.1966960867669552, 0.27012929249328516, 0.09703673613836457, 0.1300264657785767, 0.03174743856589453, 0.0040029379061345275, 0.06584142693883342, 0.14631428208629652, 0.05838768049292776, 0.13491540939261365, 0.39790467597740414, 0.06130030771591371, 0.05391143133944196, 0.005473241760349438, 0.07963566761308433, 0.20032064842878944, 0.0662262253002282, 0.034387598709283936, 0.10190471324824386, 0.00796785823751701, 0.02516165759215898, 0.020968047993465817, 0.022226130873073766, 0.7116555488982298, 0.07548497277647694, 0.32568308764474335, 0.24415833007338997, 0.01497393506412613, 0.07611750324264116, 0.06551096590555182, 0.11646393938764768, 0.1443320963125491, 0.012894221860775278, 0.9955667714703507, 0.9960711650785325, 0.07431932016393142, 0.01695581526703028, 0.5643864224597221, 0.007486983364662721, 0.3368041487132833, 0.14444718794026132, 0.1125344371162501, 0.5297516636785863, 0.0033592369288432864, 0.010749558172298517, 0.13436947715373146, 0.06483327272667543, 0.11284751860743712, 0.12649155108390306, 0.15946462956869578, 0.05912414073135245, 0.10034048883734334, 0.0031267574425234467, 0.17595116881109213, 0.07859531207797572, 0.08953896312680779, 0.09437122462888949, 0.09399936413957805, 0.14210060125787777, 0.23261170774383866, 0.14907711656511208, 0.06462456284595991, 0.010464772960851463, 0.11713202015830233, 0.05544493744170424, 0.11144065240766382, 0.023132656018724287, 0.0917795911813569, 0.07468675781998227, 0.1541100839208274, 0.16399509598523682, 0.04283505227910748, 0.03775525441267486, 0.1548651890090809, 0.10667575519508497, 0.1267890089094736, 0.0464046399690331, 0.11775900274216977, 0.02374507440990997, 0.1565518277955692, 0.23151447549662219, 0.1072669931191863, 0.03948308884438518, 0.16773410120953844, 0.04666183227063703, 0.07979449423795326, 0.029681343012387458, 0.2366952052508099, 0.26000335905031713, 0.1326215882855683, 0.02222405362278597, 0.1073259174954054, 0.025837720878523523, 0.0682983111334398, 0.14201712315048595, 0.0046977674324588225, 0.9989425880986109, 0.9425462611656782, 0.03556778344021427, 0.01956228089211785, 0.01909669480640966, 0.028645042209614488, 0.04860976859813367, 0.766471887002715, 0.0434015791054765, 0.09461544244993876, 0.9928889186213686, 0.3111517655315232, 0.05418065568956871, 0.6341716746902852, 0.005182978436684491, 0.0074042549095492734, 0.10291914324273489, 0.8522297400891213, 0.03183829611106188, 0.6169695942327401, 0.013162575156336818, 0.08691478198470026, 0.2250173562440437, 0.01922153832353948, 0.019012608559153182, 0.0031339464657944805, 0.016505451386517597, 0.998243159448029, 0.8349059256279998, 0.04543705717703401, 0.05679632147129251, 0.06247595361842176, 0.9968585017736146, 0.4091208640427759, 0.40349211935283186, 0.0539174491352536, 0.0002962497205233714, 0.06369368991252486, 0.05302869997368348, 0.007406243013084285, 0.008887491615701142, 0.007783844916675003, 0.023351534750025008, 0.9677913846399254, 0.9956163029388145, 0.02652695244707585, 0.13067639661848104, 0.09311138342161523, 0.05180767222885283, 0.3398654511507906, 0.10290321150610632, 0.10290321150610632, 0.10165697884080745, 0.013352492842487844, 0.03703091348316629, 0.9255856207357166, 0.0005422294204661491, 0.07374320118339628, 0.06026500955034359, 0.0589074236349098, 0.030221042987047912, 0.0982774151824898, 0.08417032675689516, 0.16367764102164817, 0.15860145020741745, 0.25481297377946455, 0.047692583463934984, 0.043383723819297296, 0.9966281020604992, 0.19743903287643833, 0.031083696137981544, 0.716076259178686, 0.05468428024274531, 0.0395295411943908, 0.9574933311530216, 0.9163560211269941, 0.08333077257474206, 0.9973357337003621, 0.9959783185217438, 0.9945856209341752, 0.9975102219423215, 0.9931485551113651, 0.997988158193177, 0.9947089323055603, 0.789867276771748, 0.02488273327471581, 0.17226507651726328, 0.012760376038315799, 0.12138629150245245, 0.8779432124986405, 0.0004214801788279599, 0.14926570518588833, 0.33715542033901463, 0.05055990193628024, 0.08033257628602616, 0.08837924502920073, 0.09039091221499437, 0.027895118309671854, 0.04519545610749719, 0.055656125473624134, 0.07510224160296268, 0.04212960370824209, 0.1221353415195672, 0.32103568210367167, 0.10005780880707496, 0.11646404871268846, 0.046788165656749627, 0.02248262505584073, 0.005873838978552984, 0.22280078884166488, 0.056376502924613506, 0.012893280937916094, 0.0025280943015521754, 0.031095559909091755, 0.017949469541020443, 0.40727599198005543, 0.4719952060997911, 0.05492438292476264, 0.943522435243244, 0.9934811334037328, 0.9947898405742577, 0.21125607119277726, 0.7879851455490592, 0.9969504113679881, 0.005725872692830223, 0.6200783310294377, 0.22701401146868058, 0.010778113304151007, 0.09464530745207603, 0.02694528326037752, 0.014483089752452915, 0.026827236625554383, 0.417327777914874, 0.11511074490862876, 0.36271518906999545, 0.012044881750248907, 0.007254303781399909, 0.058718798532463416, 0.007822470660953193, 0.07196673008076937, 0.8010209956816069, 0.056321788758862984, 0.06257976528762554, 0.754655661520313, 0.0214871758672738, 0.0006511265414325393, 0.0214871758672738, 0.052090123314603144, 0.05632244583391465, 0.0934366586955694, 0.87623406601102, 0.03190449135020619, 0.03190449135020619, 0.025067814632304865, 0.03532282970915686, 0.9977050252220645, 0.41317962651432183, 0.028195985011476028, 0.2413700255378003, 0.03609705773447206, 0.14872607478580763, 0.02223144972058687, 0.0030984598913709922, 0.07475034487932519, 0.03245636736211114, 0.9977003978817295, 0.9961001249770609, 0.6341485710332534, 0.3657583707103366, 0.004074906370626034, 0.02526441949788141, 0.4865438206527484, 0.30806292161932813, 0.08964794015377274, 0.0032599250965008267, 0.08312808996077109, 0.09499654120909945, 0.025179806103616722, 0.8790041403444383, 0.25553370131819225, 0.023328217114722608, 0.029070547481423556, 0.15157359530437714, 0.10240489153950026, 0.08290489466924496, 0.06077299638091838, 0.08170857584284894, 0.13973003892305644, 0.0730950802927975, 0.14299335745052386, 0.07319898059967292, 0.7813565603546482, 0.9921072667325562, 0.9833792048961735, 0.014843459696546015, 0.041372414315769525, 0.7742551821951154, 0.18432888163900885, 0.9097685772324364, 0.06670690035869659, 0.022708732037003094, 0.9962295359219329, 0.9936244622377707, 0.9986257423129519, 0.9961075902456772, 0.9922569022728913, 0.15476387044494, 0.8433509461927164, 0.9948399949635204, 0.967478720461392, 0.03201908808795003, 0.09022582734019764, 0.9095345498003795, 0.050227235074708027, 0.9491659551297389, 0.09620456506573744, 0.15350287220047812, 0.12308525236351701, 0.04951705554854133, 0.0007073865078363046, 0.009903411109708266, 0.5659092062690437, 0.09797941243968804, 0.06252633557006408, 0.2589148947145265, 0.24688233529210868, 0.1564232724914318, 0.03351927267673538, 0.0002148671325431755, 0.14331637740629807, 0.7337882262720393, 0.0008689025769947179, 0.0434451288497359, 0.00014481709616578632, 0.0034756103079788716, 0.13583843620350758, 0.07023629164040637, 0.012309453174091838, 0.9876099559396484, 0.009996052185623971, 0.9944840244975067, 0.004848135023433954, 0.018422913089049028, 0.5124478719769691, 0.46445133524497284, 0.0045635399292901615, 0.03479699196083748, 0.9600547126244177, 0.9990084486389303, 0.11229304777246944, 0.18557903684502844, 0.5939711211122726, 0.10815593548611531, 0.99505373467238, 0.9985410192061623, 0.9913494131982109, 0.992535361158256, 0.997987867348683, 0.15422097006013177, 0.6047756222605993, 0.23834149918384, 0.002549106943142674, 0.6195963997647828, 0.2100736039732506, 0.028975669513551808, 0.020282968659486266, 0.07968309116226747, 0.041531792969424254, 0.995557642682919, 0.44548767656425614, 0.001615758412409219, 0.09117493898594879, 0.3793185225322595, 0.010233136611925054, 0.07217054242094512, 0.016074796604549874, 0.01550069672581595, 0.4173706118395628, 0.1595997662880309, 0.39153611729653626, 0.9983829985024056, 0.000314225758933263, 0.06441628058131892, 0.24132538286074598, 0.3123404043796634, 0.01162635308053073, 0.23079881993648166, 0.13935912408690213, 0.9989171736033617, 0.9952535920769492, 0.994980233233145, 0.17556787630898418, 0.018703107098207935, 0.04464612662152862, 0.06877916803857112, 0.03981951833812012, 0.6521954442955735, 0.9974240508052091, 0.873532428977299, 0.004893739097912039, 0.01571147815645444, 0.037218173665699454, 0.016097825979973814, 0.036445478018660715, 0.015969043372134024, 0.9977305658560884, 0.9934662302623944, 0.004776279953184588, 0.9761280250080807, 0.014532923449251823, 0.009688615632834548, 0.9952495780253686, 0.019471414875567316, 0.009735707437783658, 0.22955773326984624, 0.7322276804522551, 0.009223301783163464, 0.9993774017341436, 0.146401791145718, 0.17833304600466063, 0.6006690772521845, 0.07410461033301775, 0.03942186811697932, 0.02266757416726311, 0.7371889337875133, 0.05913280217546898, 0.13994763181527659, 0.9968016520833599, 0.09508973677356959, 0.897728912765528, 0.007157292015214916, 0.01624535874604509, 0.23629612721520132, 0.04873607623813527, 0.6837819181289888, 0.014768507950950083, 0.0006924170434352662, 0.7073040098691245, 0.02458080504195195, 0.2008009425962272, 0.06024028277886816, 0.006231753390917396, 0.0763179017773107, 0.411384854100983, 0.11630639140720295, 0.08128379264638229, 0.14505628591235423, 0.04024985230721181, 0.07344291232679556, 0.056192975623704795, 0.998146416061187, 0.026440524262182786, 0.08736868886634311, 0.021267378210886152, 0.8351756902815562, 0.029314494290680913, 0.9987981747727219, 0.3707949150653552, 0.004166235000734328, 0.041959938221681446, 0.5204817868774528, 0.004761411429410661, 0.05773211358160426, 0.9966526759850105, 0.004105087022323889, 0.002078525074594374, 0.4885053556565428, 0.34524301489012554, 0.14617227587084936, 0.013874154872917446, 0.8215689389816262, 0.16253479993632566, 0.012938093527269705, 0.0024258925363630696, 0.0996533906590961, 0.8998114980100737, 0.11286500548419222, 0.03202925831308158, 0.03736746803192851, 0.6695640190210863, 0.011439020826100562, 0.13650564852480004, 0.11028051428996204, 0.002564663123022373, 0.6734805361056752, 0.2138929044600659, 0.9975592625220274, 0.165155213906533, 0.029354337839760804, 0.264782057483903, 0.5040643871474078, 0.03647054095243009, 0.9907500564709192, 0.9990078539095637, 0.48079631497382713, 0.08051751013067093, 0.4276951613392628, 0.001442966131374031, 0.009812169693343411, 0.9949050042494791, 0.9939709083523837, 0.997992407807835, 0.9955902177419002, 0.9945535091600465, 0.11325734138466963, 0.884917360685552, 0.25953563269157204, 0.4046487435152659, 0.046369476791938966, 0.22000481974304853, 0.03302574246332343, 0.03619487936636962, 0.0021318495459645525, 0.3254997648864825, 0.2946440477738377, 0.09223054351488749, 0.06631174114026582, 0.05554029080276072, 0.05913077424859575, 0.05744773513336058, 0.038261089219679606, 0.008864006006905246, 0.9968427983057049, 0.989032821360606, 0.009419360203434344, 0.9970844118342794, 0.9959386924882009, 0.9974484998940493, 0.9975794552502499, 0.0019707580677414465, 0.004729819362579471, 0.05754613557805024, 0.05715198396450195, 0.8218061142481832, 0.056363680737405365, 0.07580322708731943, 0.8539825350601334, 0.07001095392117875, 0.763412614416936, 0.09558378697806777, 0.14086031765188933, 0.9965951610956171, 0.13353527252629602, 0.020068884888345066, 0.10343194519377842, 0.5345270301991907, 0.13353527252629602, 0.006175041504106174, 0.06831139663917456, 0.031547656753476594, 0.9667103390886757, 0.12129395201888556, 0.8716992018423909, 0.005660384427547993, 0.5348357133388364, 0.02164811220657195, 0.3172934093022065, 0.060699608736074294, 0.023982712542574808, 0.04159833325968728, 0.09745654972013235, 0.025693909963217132, 0.028037915784422905, 0.4682602398208764, 0.19590479421077484, 0.05490382865824292, 0.022268055301454846, 0.10746365149528007, 0.9982498719865436, 0.9954593722204439, 0.01633985976373445, 0.9831148957846894, 0.99562439056602, 0.99517165610794, 0.9135632151847907, 0.04312098600762459, 0.0421181723795403, 0.9987380151006588, 0.9089494374937136, 0.0727159549994971, 0.018178988749874274, 0.9985280845754366, 0.9984148574028897, 0.9986102885347273, 0.9843653245488045, 0.01516741640290916, 0.9716101646451999, 0.02291533407182075, 0.056173134406975724, 0.9409000013168434, 0.9989115759865681, 0.9983008712190702, 0.9927392818841834, 0.003544099649853957, 0.995892001608962, 0.56416053839468, 0.1185047962881387, 0.31704889761023336, 0.9977638803939012, 0.1632496856668663, 0.48889434660443726, 0.11495854828373568, 0.07564187006030192, 0.15726671289373506, 0.9989018812518246, 0.03920186365568076, 0.09246526536176874, 0.17236036792090073, 0.07819067370453717, 0.4284508033237718, 0.0545417233470341, 0.10098740963474283, 0.0017044288545948157, 0.00021305360682435197, 0.03174498741682844, 0.9968162315766087, 0.987365003995596, 0.011754345285661856, 0.998225248197871, 0.9842054601114941, 0.01487123634783851, 0.9968126495994301, 0.9974838439479695, 0.9968720310853293, 0.9986476051522601, 0.109926647222089, 0.1404199979926, 0.4788585454332096, 0.007152761291848256, 0.18220718238181874, 0.016187828186814475, 0.0647513127472579, 0.11396916835146828, 0.1767545784612592, 0.0009099334798520421, 0.14968405743566093, 0.45997137406520733, 0.02570562080582019, 0.02547813743585718, 0.0475440243222692, 0.7581968379095727, 0.1980534112984128, 0.0007559290507573008, 0.03174902013180663, 0.010583006710602211, 0.9966540818514149, 0.0015789854240921457, 0.8715999540988645, 0.004736956272276437, 0.12000289223100308, 0.9946166681536005, 0.07672132769756969, 0.8278766523644729, 0.04995807384958026, 0.04460542307998237, 0.9943446593137297, 0.49532659379070304, 0.4384234030069678, 0.06631237981096702, 0.9984220726068136, 0.868807176980564, 0.047994984974123606, 0.01958978978535657, 0.04015906905998098, 0.022528258253160058, 0.9969429196578053, 0.06304702595558798, 0.9366986713401643, 0.9933055023978469, 0.9989875290328672, 0.9978268569117478, 0.9943696964653659, 0.994770134227999, 0.9995337093655748, 0.9980980642220634, 0.9989210588336955, 0.30856790788102567, 0.003480089186628109, 0.006297304242469911, 0.009114519298311714, 0.3993816637987496, 0.20814247706690023, 0.05203561926672506, 0.0041429633174144154, 0.00878308223291856, 0.11139758249432745, 0.016376704373156376, 0.03941206876616755, 0.05308931637451793, 0.09412105919956908, 0.18410295135976895, 0.21145744657646973, 0.20443885898797412, 0.050569823394032334, 0.03473301037383715, 0.12494094841323451, 0.8745866388926415, 0.6767950715216731, 0.1123948804558095, 0.052558757047680704, 0.10673470661990543, 0.05175016078540869, 0.15940254407171675, 0.5174285742102228, 0.27094834240632665, 0.051814822452205894, 0.8812266484044291, 0.018664407076644487, 0.09732155118536055, 0.9948454007735507, 0.002858751151648134, 0.9865760569018658, 0.01170513965815773, 0.3224663073725451, 0.05908146346597277, 0.0009606742026987442, 0.27235113646509396, 0.2918848452533018, 0.00032022473423291473, 0.006404494684658295, 0.039227529943532055, 0.007365168887357039, 0.0074074061810307556, 0.9925924282581212, 0.12884472680512055, 0.06963299573659087, 0.6271706554778661, 0.11131805440883576, 0.045474609460630776, 0.013263427759350643, 0.004736938485482373, 0.9977152796048936, 0.9985940934627745, 0.018398668782660915, 0.9788091792375606, 0.9946318755510283, 0.9991520088341436, 0.992288181816608, 0.4298451772584993, 0.019593792917073777, 0.04680175406617104, 0.10334964346933215, 0.06578641352468294, 0.11959320236431559, 0.0364464852706191, 0.03695409648608733, 0.11705514628697442, 0.024568382828662454, 0.9986830133872535, 0.9985580309559965, 0.2065800709695318, 0.5790800084637987, 0.21379397820973767, 0.9977508982908214, 0.9926436119469535, 0.9982219714116654, 0.998956267033753, 0.877517429552574, 0.01145040536782718, 0.060374864666725134, 0.003122837827589231, 0.046842567413838465, 0.9963130016406453, 0.005649284799263966, 0.02448023413014385, 0.8925869982837066, 0.06025903785881563, 0.018830949330879886, 0.02428402503509806, 0.05276329692011339, 0.08124256880512873, 0.0005647447682580945, 0.11738623397364677, 0.13771704563093817, 0.19766066889033304, 0.24630939678456604, 0.06914089519959812, 0.07293275292933105, 0.1502194189509769, 0.8082980834657547, 0.018710603783929507, 0.02245272454071541, 0.9979743694889293, 0.11895887958430502, 0.7758645509171044, 0.04000387101065125, 0.06421674030657173, 0.9966752837448686, 0.08882584861376833, 0.2966884988027583, 0.20933084603384564, 0.04957984429935702, 0.0884870341880324, 0.036140205411832, 0.06618175116041734, 0.0605348440648186, 0.054210308117748, 0.050031596867004924, 0.023589651616600784, 0.02304105506737751, 0.22273019898464927, 0.7301820070161777, 0.9968960877954867, 0.2627821768523935, 0.03148704034445161, 0.1092096975515738, 0.12384122187520373, 0.0210693950260271, 0.1828355279480796, 0.12337301309684758, 0.010768801902191628, 0.07959549232054682, 0.0548974792622595, 0.9972984574693868, 0.039548215870639086, 0.009305462557797432, 0.22333110138713838, 0.017447742295870185, 0.02326365639449358, 0.031405936132566335, 0.04071139869036377, 0.6153237116343553, 0.9991404316202777, 0.023505502843447115, 0.09110810606261734, 0.27682100456125736, 0.1456952655585565, 0.20727579780130637, 0.14258709989330728, 0.07381893454966862, 0.03574390515036586, 0.003690946727483431, 0.0010626998419111203, 0.1385760593852101, 0.14516479840505903, 0.6072266896680141, 0.04314561358159148, 0.06461215038819611, 0.2161108001936294, 0.2678340011878393, 0.13570938874718433, 0.00230449905419747, 0.11266439820520964, 0.2655295021336418, 0.6708828868321027, 0.20475779310854123, 0.05299613468691655, 0.02830475375323952, 0.016260177688031216, 0.026498067343458276, 0.011808515522681884, 0.9840429602234902, 0.9953574555762401, 0.029751872815178614, 0.2415152028526264, 0.7280458288890767, 0.13518174611307548, 0.02551375421312231, 0.8335178896561168, 0.00534965814146113, 0.9956976475253667, 0.9946408009133593, 0.021564654922345206, 0.07717876498523547, 0.07831374682325365, 0.8205918688871361, 0.9990847856676878, 0.9969716956714669, 0.08899353002500696, 0.011838588856537623, 0.8989162986929602, 0.9950033396211112, 0.9979174492060473, 0.643306007347591, 0.21120004103626402, 0.011647061086558679, 0.01436470867342237, 0.052800010259066006, 0.038823536955195595, 0.005823530543279339, 0.02174118069490953, 0.9953441997809455, 0.11220140866981015, 0.1542244081716117, 0.03698023956158537, 0.6387495924273836, 0.03403862959645926, 0.023953109716026887, 0.5555040957981373, 0.13900617954836236, 0.036443567671855304, 0.04269103641560193, 0.022907385393737618, 0.024989874974986493, 0.178573481592091, 0.023421683118647188, 0.6659354227247796, 0.014559424641321225, 0.0037981107759968414, 0.02721979389464403, 0.2639686989317805, 0.07142125472140577, 0.07490521836635239, 0.8527001021006859, 0.08697479758301592, 0.05556723178914906, 0.8528362096334616, 0.999783834501203, 0.9955295325915456, 0.9997455072326851, 0.679300629945976, 0.14756652034020595, 0.1722983393916371, 0.9953514525817654, 0.9893559848390323, 0.01027902321910683, 0.960172817234227, 0.038145344612029446, 0.07699214852807539, 0.01801943901720913, 0.8485517646285755, 0.05569644787137368, 0.9983822271815803, 0.9972841573245677, 0.9933641384585017, 0.13290580373202668, 0.03762198427122803, 0.27280664976573893, 0.3007868189724814, 0.21098560023462554, 0.0448060817702565, 0.9960579243199695, 0.10532841619145626, 0.15170689622414588, 0.1071971461561434, 0.057081206194079526, 0.07729746672114936, 0.10991529883205194, 0.060648781581209496, 0.03958309834291824, 0.0659152023907823, 0.22526690301592098, 0.15821361045953009, 0.8414087465347737, 0.9920717784022576, 0.502043212990793, 0.0016726808619398148, 0.10561784871105688, 0.2793377039439491, 0.0238954408848545, 0.018877398299035054, 0.014098310122064153, 0.054481605217468254, 0.04564887561380619, 0.1655985806841267, 0.022338811470586008, 0.5594415394372844, 0.13306161615088188, 0.04710575462275745, 0.02670944849743979, 0.15088459610881239, 0.8487258531120697, 0.998694829851322, 0.02677276210626641, 0.9711210982182089, 0.1105868721119708, 0.037407389272625984, 0.27472967859240066, 0.5772593841852228, 0.9947747879971769, 0.9947771567653857, 0.07993542666224873, 0.9165928923937855, 0.0026645142220749576, 0.9960969645998619, 0.031756817988710044, 0.021549269349481814, 0.9470336793061744, 0.9951636233181541, 0.32347110294298864, 0.49255827039046, 0.08674906851652878, 0.01813398607407664, 0.07841723707708816, 0.11197612282262302, 0.0854608296223662, 0.03426591736648573, 0.3938540859207378, 0.29085237002743247, 0.08362515547773304, 0.9969118022802094, 0.5451553712782355, 0.3738026934608623, 0.017346814297561238, 0.0027501047057109282, 0.010788872307019795, 0.05013652425026846, 0.058728172586821246, 0.5250201155116447, 0.196532245606935, 0.11977135612623503, 0.09552466246487108, 0.00414265117832349, 0.2927127998775877, 0.08402579196486047, 0.004132415998271827, 0.10124419195765975, 0.5172407357836903, 0.0577875496477474, 0.13499948573171242, 0.569134522581176, 0.19958557063213597, 0.037877553550624346, 0.14235965990263014, 0.07315515537580132, 0.07070302726264598, 0.1106182237712303, 0.00313327481125406, 0.5846963256479316, 0.015257686037411075, 0.024131178532963652, 0.9522534298007963, 0.022274934030427986, 0.8234330024359615, 0.1761256918109995, 0.059400819584090256, 0.9389497972853565, 0.07928598881923475, 0.12130756289342917, 0.2245379203360728, 0.07976170475215016, 0.14223906394170716, 0.12352757058036774, 0.09435032669488935, 0.03885013452142503, 0.04043585429780972, 0.05581733612874126, 0.2654702516504917, 0.7341584298744714, 0.09372434709450639, 0.09342680948468256, 0.8012687832555737, 0.011306429173305533, 0.994082541801287, 0.09859194350672468, 0.9000035985828152, 0.9975104348381606, 0.9951148618933469, 0.04270156767250843, 0.04270156767250843, 0.009631932557708667, 0.03676187592858808, 0.6629980243889466, 0.1390208932495951, 0.02054812278977849, 0.012200447906430979, 0.03339069953339004, 0.9976732366942346, 0.9968451166318764, 0.9966652690716405, 0.5911149675440076, 0.14233813148820879, 0.09557829077204102, 0.043524883182344834, 0.09263742028674746, 0.010293046698527495, 0.024409225027936632, 0.6201077729309895, 0.1825641220946574, 0.06600786364313796, 0.05065010184018907, 0.003661453145073909, 0.030410402510474964, 0.04658182056788473, 0.7895015169821308, 0.008898070375823195, 0.03397445052587038, 0.07846480240498635, 0.08898070375823194, 0.0056241984889542065, 0.8375729442011803, 0.06749038186745047, 0.004758937182961252, 0.08393034668131662, 0.9987591014155224, 0.18817054582529727, 0.008910996645239018, 0.13010055102048967, 0.0598521941338554, 0.003712915268849591, 0.2705972647937582, 0.0980209630976292, 0.0023762657720637383, 0.11450630689132138, 0.12371433675806837, 0.9959289600782969, 0.22501083102739328, 0.7741444067490078, 0.9967219963813413, 0.9977437298153743, 0.9982013497392377, 0.9979312781655378, 0.3805685635623191, 0.04877781322027054, 0.0365833599152029, 0.3218827570316811, 0.108987926414042, 0.10314475087203041, 0.09914624593206577, 0.12794850732015192, 0.11022403877363737, 0.6569131155051956, 0.0055388964207857974, 0.9998743850397622, 0.9992824610003881, 0.9778315320308533, 0.02132041001454784, 0.9978660538175825, 0.9823684022955225, 0.0160517712793386, 0.9960141788459324, 0.9945731074919515, 0.9991245104294034, 0.9934877717847115, 0.15803316409478754, 0.003847763995351349, 0.07310751591167562, 0.06156422392562158, 0.16050672666322768, 0.13357237869576824, 0.1423672678279999, 0.02006334083290346, 0.24708141655863305, 0.0626499924135166, 0.2704421959903121, 0.12033942824297177, 0.08432946192904434, 0.18372431792820115, 0.05493357106053215, 0.039868176990419654, 0.07606186762227528, 0.043175214713127276, 0.0644872355927986, 0.06386073420630892, 0.032084620084329114, 0.018201851778609786, 0.1891141549201322, 0.23539004927252996, 0.020978405439753652, 0.4118554597363401, 0.014808286192767285, 0.0030850596234931844, 0.010489202719876826, 0.02489358265040718, 0.9744059494587953, 0.9953121265536601, 0.9928409358229142, 0.8106571030875135, 0.01730940433638819, 0.02176788727151848, 0.02176788727151848, 0.050354630796765644, 0.07815458321581334, 0.9945467011556914, 0.9959282384754939, 0.0003971704177713444, 0.06672463018558586, 0.12530726680685916, 0.11081054655820509, 0.46190919586807355, 0.15866958189965208, 0.07585954979432678, 0.9948638366134333, 0.9992318783587708, 0.9971175594121218, 0.9969333874746173, 0.019901815615508224, 0.9464418981597243, 0.03316969269251371, 0.2974596653943837, 0.03385069668914581, 0.2657412960557352, 0.4027433283251915, 0.9944901043033517, 0.9968254138788771, 0.05037602186787456, 0.9479851387863667, 0.9968883122710465, 0.9987463765657217, 0.9964397407506254, 0.0026152243567047332, 0.6904192301700496, 0.06189364310867868, 0.1595286857589887, 0.06712409182208814, 0.01743482904469822, 0.9956183681481495, 0.9962649100095385, 0.054550791032209694, 0.9439658622095417, 0.9962944274485327, 0.9953549254368534, 0.9977383172609506, 0.048913869128692763, 0.9481765400331212, 0.9974671808727437, 0.999300522927432, 0.10958787195284643, 0.8100867082443057, 0.07299004604739302, 0.007196201722982411, 0.9800691629491922, 0.005185551126715303, 0.012963877816788257, 0.017970275289462666, 0.9806635943678197, 0.9962083181214259, 0.9979802184401892, 0.9797282798790138, 0.020411005830812786, 0.42246502418930754, 0.36987601702881284, 0.11419327269135995, 0.09340809367078347, 0.9963700819735738, 0.9969769755360012, 0.9974563384045688, 0.9941708488912573, 0.9983633264933528, 0.9922200844277632, 0.0027161210567079666, 0.797453142249459, 0.19936328556236474, 0.9987157581557885, 0.9989534369416698, 0.2514670943063258, 0.5594586505186753, 0.01379730959910814, 0.07833311256267847, 0.002225372515985184, 0.09435579467777179, 0.9973997611357037, 0.19620941923328622, 0.08478031759669474, 0.004214226313285996, 0.4211747356631122, 0.22496531642982598, 0.01760059224960622, 0.04697622860986449, 0.00409027848054229, 0.9929365533618356, 0.998423769675959, 0.9961398681614619, 0.1921949280282689, 0.8062811614844452, 0.9992435678890971, 0.09137022830241946, 0.5234915359434915, 0.001041256162990535, 0.2577109003401574, 0.031237684889716053, 0.04347244480485484, 0.04269150268261194, 0.009110991426167182, 0.03763514682834571, 0.9606866427235616, 0.9161983330515293, 0.00921463840712745, 0.0737171072570196, 0.1879961537628381, 0.03743991197819233, 0.6994094195075078, 0.02469441002816941, 0.023897816156292977, 0.025491003900045845, 0.9842052200926684, 0.00989150974967506, 0.8102818114408864, 0.17286011977405574, 0.016205636228817728, 0.9964131631036668, 0.9969837375493931, 0.9965564614799364, 0.9833552232811844, 0.014739799920702979, 0.9982910630619961, 0.9987127576514102, 0.9989980901266413, 0.07130200279332691, 0.9104717279763281, 0.017825500698331727, 0.19428900505966246, 0.03573131127534022, 0.033870305479749584, 0.081884255005988, 0.5050769729232987, 0.001488804636472509, 0.12282638250898201, 0.024937477660914528, 0.9963444135542993, 0.08599363826876837, 0.001442473932250308, 0.163776271077035, 0.6312487846593848, 0.024743975914755287, 0.09242929119726974, 0.0002219190665000474, 0.9921651140800875, 0.9609873249370746, 0.037563022473110406, 0.08058257170966363, 0.05987873716461151, 0.06738895165644415, 0.057442991924017146, 0.10372215149531011, 0.31989454159806013, 0.09479108561313077, 0.07753789015892067, 0.06535916395594885, 0.07347831475793005, 0.1815625830101074, 0.3172411436834213, 0.2543356291894303, 0.018748310202130653, 0.09744187539265274, 0.1154501207183835, 0.01529467411226448, 0.9989611012159749, 0.9918539082938501, 0.9979851146651656, 0.9968660382624186, 0.9996500493801199, 0.054865792676181066, 0.3854224655727471, 0.17160152177443866, 0.02996217046855278, 0.04319221976635531, 0.12743650426559786, 0.05778418590363751, 0.05564403087016945, 0.05136372080323334, 0.02276346717416023, 0.5318722270074608, 0.2379700398098594, 0.04180554753416449, 0.05524304495586022, 0.0970485924900247, 0.011944442152618426, 0.011944442152618426, 0.012059292557932064, 0.9981321308377694, 0.9948028030338807, 0.19474916995753386, 0.1838718751806415, 0.07868127000291, 0.10668867571586638, 0.12857353227296717, 0.04227164257606671, 0.04442104813078197, 0.09958912403514023, 0.07926747151783234, 0.04188084156611849, 0.12221298649427628, 0.04983914702116245, 0.1470352179208318, 0.28399553014500284, 0.0003893683361028316, 0.07032965570857397, 0.12308906525050765, 0.15423853213873417, 0.04711356866844263, 0.0017521575124627424, 0.9996017385232774, 0.9958074376968471, 0.21172510370462092, 0.04195457430750926, 0.12203292772675872, 0.14564388657760458, 0.044054144751344226, 0.12328530307922168, 0.09437016626500327, 0.0980167886148219, 0.07451633347154629, 0.044459325012435186, 0.9970535279733439, 0.03173390158803897, 0.19711635024878052, 0.13456394808004984, 0.16751838434455185, 0.06285753583784641, 0.05431379310260515, 0.05278812475702636, 0.04607518403647965, 0.24868394032934382, 0.004577005036736389, 0.07004320451217179, 0.5681282143765045, 0.20199328169924285, 0.0852546075122899, 0.014857649441975833, 0.05907684420976105, 0.6084726559151751, 0.035792509171480885, 0.02193734433090764, 0.06619689868273884, 0.135857588575621, 0.013855164840573246, 0.06273310747259553, 0.042720091591767505, 0.013085433460541399, 0.999568892424075, 0.7497078414730497, 0.002021381238243693, 0.029197728996853342, 0.11027757644196147, 0.04357199557991961, 0.029422326912213755, 0.01909082280563488, 0.016620245736670366, 0.9961689544098786, 0.9955180249472457, 0.8040174921874428, 0.00024700998223884567, 0.011362459182986902, 0.10794336223837557, 0.019266778614629963, 0.009139369342837291, 0.047919936554336066, 0.07899655741392918, 0.09995482774823691, 0.8189847176791024, 0.22001336642110977, 0.10303284439761583, 0.6091985646915801, 0.05129145965645504, 0.008548576609409173, 0.008098651524703428, 0.9730956777568962, 0.017785038496862332, 0.0076221593557981426, 0.023528709314056644, 0.005882177328514161, 0.11176136924176906, 0.8282105678547939, 0.029410886642570806, 0.02397425585264053, 0.974953071340715, 0.9965437381382215, 0.034202932381808326, 0.30544705700971436, 0.45742704350627134, 0.07554386804329839, 0.023793344265605792, 0.1035010475553852, 0.14045445292342176, 0.018888702289701548, 0.10606732824217022, 0.043589312976234335, 0.5802221882836526, 0.040683358777818715, 0.04794824427385777, 0.022278982187853107, 0.9994976858724081, 0.29119669930576525, 0.05569275275695814, 0.12135041157380938, 0.0918985781079031, 0.04284909605754036, 0.3316099294375539, 0.06543621645996474, 0.9957001679839226, 0.002986846585473666, 0.2552758215051493, 0.0015929848455859552, 0.05316586922143126, 0.2733960241236896, 0.20728715303187242, 0.014535986715971842, 0.000995615528491222, 0.19075993525891816, 0.27526768563155923, 0.041438146224105694, 0.015983284972155055, 0.004143814622410569, 0.6630103395856911, 0.02337264022395946, 0.0031463169532253117, 0.4710485952828753, 0.17304743242739215, 0.20765691891287058, 0.013933689364283524, 0.022024218672577183, 0.06202739136358472, 0.02382211407442022, 0.029217655457183134, 0.07245978553381417, 0.8975663756446659, 0.9982382841819334], \"Term\": [\"1\", \"1\", \"1\", \"1\", \"1\", \"1\", \"1\", \"1\", \"1\", \"15\\uc77c_\\ubc1d\\ud614\\ub2e4\", \"1\\uc870\", \"1\\uc870\", \"1\\uc870\", \"2\", \"2\", \"2\", \"2\", \"2\", \"2\", \"2\", \"2\", \"2\", \"2\", \"2021\\ub144\", \"2021\\ub144\", \"2021\\ub144\", \"2021\\ub144\", \"2021\\ub144\", \"2021\\ub144\", \"2021\\ub144\", \"2022\\ub144\", \"2022\\ub144\", \"2022\\ub144\", \"2022\\ub144\", \"2022\\ub144\", \"2022\\ub144\", \"23\", \"23\", \"23\", \"23\", \"23_\\uc2dc\\ub9ac\\uc988\", \"23_\\uc6b8\\ud2b8\\ub77c\", \"3\", \"3\", \"3\", \"3\", \"3\", \"3\", \"3\", \"3\", \"3\", \"3\", \"4\", \"4\", \"4\", \"4\", \"4\", \"4\", \"4\", \"4\", \"4_K\", \"4\\ubd84\", \"5_G\", \"5_G\", \"5_G\", \"ADC\", \"AI\", \"AI\", \"AI\", \"AI\", \"AICC\", \"AI_\\ucc57\\ubd07\", \"AI_\\ucee8\\ud0dd\", \"AI_\\ucee8\\ud0dd\", \"BMW\", \"B_2\", \"D_\\ub7a8\", \"ERP\", \"ESG_\\uacbd\\uc601\", \"ESG_\\uacbd\\uc601\", \"ESG_\\uacbd\\uc601\", \"GPT\", \"ID\", \"IP\", \"IP\", \"KISA\", \"KT\", \"KT\", \"KT\", \"KT\", \"KT_\\uc774\\uc0ac\\ud68c\", \"LG\", \"LG\", \"LG\", \"LG\", \"LG\", \"LG_CNS\", \"LG_\\uc5d0\\ub108\\uc9c0\", \"LG_\\uc720\\ud50c\\ub7ec\\uc2a4\", \"LG_\\uc804\\uc790\", \"LG_\\uc804\\uc790\", \"LG_\\uc804\\uc790\", \"LG_\\ud654\\ud559\", \"MMORPG\", \"MOU_\\ub97c\", \"MOU_\\uccb4\\uacb0\", \"MS\", \"MS_\\ub294\", \"MWC\", \"MWC\", \"MWC_2023\", \"MWC_2023\", \"NFT\", \"OCR\", \"OLED\", \"OLED\", \"OTT\", \"OTT\", \"OTT\", \"OTT\", \"RPA\", \"R_D\", \"R_D\", \"R_D\", \"R_D\", \"SK_\\uc2a4\\ud018\\uc5b4\", \"SK_\\uc628\", \"SM_\\uc5d4\\ud130\", \"STO\", \"SW\", \"S_23\", \"SaaS\", \"SaaS\", \"TSMC\", \"TSMC\", \"TV\", \"TV\", \"TV\", \"TV\", \"UAM\", \"a\", \"and\", \"and\", \"e_\\uc2a4\\ud3ec\\uce20\", \"in\", \"in\", \"s\", \"the\", \"\\uac00\", \"\\uac00\", \"\\uac00\", \"\\uac00\", \"\\uac00\", \"\\uac00\", \"\\uac00\", \"\\uac00\", \"\\uac00\", \"\\uac00\", \"\\uac00\\uc0c1_\\uc790\\uc0b0\", \"\\uac00\\uc785\", \"\\uac00\\uc785\", \"\\uac10\\uc18c\", \"\\uac10\\uc18c\", \"\\uac10\\uc18c\", \"\\uac10\\uc5fc\", \"\\uac10\\uc6d0\", \"\\uac19\\uc740_\\uae30\\uac04\", \"\\uac19\\uc740_\\uae30\\uac04\", \"\\uac1c_\\ud488\\ubaa9\", \"\\uac1c_\\ud488\\ubaa9\", \"\\uac1c\\ubc1c\", \"\\uac1c\\ubc1c\", \"\\uac1c\\ubc1c\", \"\\uac1c\\ubc1c\", \"\\uac1c\\ubc1c\", \"\\uac1c\\ubc1c\", \"\\uac1c\\ubc1c\", \"\\uac1c\\uc778_\\uc815\\ubcf4\\ubcf4\\ud638\", \"\\uac1c\\uc778_\\uc815\\ubcf4\\ubcf4\\ud638\", \"\\uac1c\\uc778\\uc815\\ubcf4\", \"\\uac1c\\uc778\\uc815\\ubcf4\", \"\\uac1c\\uc778\\uc815\\ubcf4_\\uc720\\ucd9c\", \"\\uac1c\\uc815\", \"\\uac1c\\uc815\", \"\\uac1c\\uc815\\uc548\", \"\\uac24\\ub7ed\\uc2dc\", \"\\uac24\\ub7ed\\uc2dc_S\", \"\\uac24\\ub7ed\\uc2dc_Z\", \"\\uac24\\ub7ed\\uc2dc_\\ubd81\", \"\\uac70\", \"\\uac70\", \"\\uac70\", \"\\uac70\\ub798\", \"\\uac70\\ub798\", \"\\uac70\\ub798\", \"\\uac70\\ub798\", \"\\uac70\\ub798_\\uc561\", \"\\uac70\\ub798\\uc18c\", \"\\uac74\\uac15\", \"\\uac74\\uac15\", \"\\uac80\\uc0ac\", \"\\uac80\\uc0ac\", \"\\uac80\\uc0ac\", \"\\uac80\\uc0c9\", \"\\uac80\\uc0c9\", \"\\uac80\\uc0c9\", \"\\uac80\\uc0c9\", \"\\uac80\\uc0c9_\\uc5d4\\uc9c4\", \"\\uac83\", \"\\uac83\", \"\\uac83\", \"\\uac83\", \"\\uac83\", \"\\uac83\", \"\\uac83\", \"\\uac83\", \"\\uac83\", \"\\uac83\", \"\\uac8c\\uc774_\\ubc0d\", \"\\uac8c\\uc784\", \"\\uac8c\\uc784\", \"\\uac8c\\uc784\", \"\\uacb0\\uc81c\", \"\\uacb0\\uc81c\", \"\\uacb0\\uc81c\", \"\\uacbd\\uc601\", \"\\uacbd\\uc601\", \"\\uacbd\\uc601\", \"\\uacbd\\uc601\", \"\\uacbd\\uc601\", \"\\uacbd\\uc601\", \"\\uacbd\\uc601\", \"\\uacbd\\uc6b0\", \"\\uacbd\\uc6b0\", \"\\uacbd\\uc6b0\", \"\\uacbd\\uc6b0\", \"\\uacbd\\uc6b0\", \"\\uacbd\\uc6b0\", \"\\uacbd\\uc6b0\", \"\\uacbd\\uc6b0\", \"\\uacc4\\uc815_\\uacf5\\uc720\", \"\\uacc4\\ud68d\", \"\\uacc4\\ud68d\", \"\\uacc4\\ud68d\", \"\\uacc4\\ud68d\", \"\\uacc4\\ud68d\", \"\\uacc4\\ud68d\", \"\\uacc4\\ud68d\", \"\\uacc4\\ud68d\", \"\\uacc4\\ud68d\", \"\\uace0\", \"\\uace0\", \"\\uace0\", \"\\uace0\", \"\\uace0\", \"\\uace0\", \"\\uace0\", \"\\uace0\", \"\\uace0\", \"\\uace0\", \"\\uace0_\\ub9d0\", \"\\uace0_\\ub9d0\", \"\\uace0_\\ub9d0\", \"\\uace0_\\ub9d0\", \"\\uace0_\\ub9d0\", \"\\uace0_\\ub9d0\", \"\\uace0_\\ub9d0\", \"\\uace0_\\ub9d0\", \"\\uace0_\\ub9d0\", \"\\uace0_\\ub9d0\", \"\\uace0\\uac1d\", \"\\uace0\\uac1d\", \"\\uace0\\uac1d\", \"\\uace0\\uac1d\", \"\\uace0\\uccb4_\\ubc30\\ud130\\ub9ac\", \"\\uacf5\\uac04\", \"\\uacf5\\uac04\", \"\\uacf5\\uac04\", \"\\uacf5\\uac04\", \"\\uacf5\\uac04\", \"\\uacf5\\uac1c\", \"\\uacf5\\uac1c\", \"\\uacf5\\uac1c\", \"\\uacf5\\uac1c\", \"\\uacf5\\uac1c\", \"\\uacf5\\uac1c\", \"\\uacf5\\uac1c\", \"\\uacf5\\uac1c\", \"\\uacf5\\uac1c\", \"\\uacf5\\uac1c\\ub9e4\\uc218\", \"\\uacf5\\ubaa8\\uc804\", \"\\uacf5\\uc5f0\", \"\\uacf5\\uc5f0\", \"\\uacf5\\uc7a5\", \"\\uacf5\\uc7a5\", \"\\uacf5\\uc7a5_\\uac74\\uc124\", \"\\uacf5\\uc815\\uc704\", \"\\uacfc\\ud559\\uae30\\uc220\", \"\\uacfc\\ud559\\uae30\\uc220\", \"\\uad00_\\ubc95\\ub960\", \"\\uad00\\ub78c\\uac1d\", \"\\uad00\\ub828\", \"\\uad00\\ub828\", \"\\uad00\\ub828\", \"\\uad00\\ub828\", \"\\uad00\\ub828\", \"\\uad00\\ub828\", \"\\uad00\\ub828\", \"\\uad00\\ub828\", \"\\uad00\\ub828\", \"\\uad00\\ub828\", \"\\uad00\\ub9ac\", \"\\uad00\\ub9ac\", \"\\uad00\\ub9ac\", \"\\uad00\\ub9ac\", \"\\uad00\\ub9ac\", \"\\uad11\\uace0\\uc8fc\", \"\\uad50\\uc218\", \"\\uad50\\uc218\", \"\\uad50\\uc218\", \"\\uad50\\uc218\", \"\\uad50\\uc218\", \"\\uad50\\uc218\", \"\\uad50\\uc721\", \"\\uad50\\uc721\", \"\\uad50\\uc721\", \"\\uad50\\uc721\", \"\\uad50\\uc721_\\ud504\\ub85c\\uadf8\\ub7a8\", \"\\uad6c_\\ub300\\ud45c\", \"\\uad6c\\uae00\", \"\\uad6c\\uae00\", \"\\uad6c\\uae00\", \"\\uad6c\\ucd95\", \"\\uad6c\\ucd95\", \"\\uad6c\\ucd95\", \"\\uad6c\\ucd95\", \"\\uad6d\\uac00\", \"\\uad6d\\uac00\", \"\\uad6d\\uac00\", \"\\uad6d\\uac00\", \"\\uad6d\\uac00\", \"\\uad6d\\uac00_\\uc804\\ub7b5\", \"\\uad6d\\uac00_\\ucca8\\ub2e8\", \"\\uad6d\\ub0b4\", \"\\uad6d\\ub0b4\", \"\\uad6d\\ub0b4\", \"\\uad6d\\ub0b4\", \"\\uad6d\\ub0b4\", \"\\uad6d\\ub0b4\", \"\\uad6d\\ub0b4\", \"\\uad6d\\ub0b4\", \"\\uad6d\\ub0b4\", \"\\uad6d\\ubbfc\\uc5f0\\uae08\", \"\\uad6d\\ud68c\", \"\\uad6d\\ud68c\", \"\\uad6d\\ud68c\", \"\\uad6d\\ud68c\", \"\\uaddc\\ubaa8\", \"\\uaddc\\ubaa8\", \"\\uaddc\\ubaa8\", \"\\uaddc\\ubaa8\", \"\\uaddc\\ubaa8\", \"\\uaddc\\ubaa8\", \"\\uaddc\\ubaa8\", \"\\uaddc\\ubaa8\", \"\\uaddc\\ubaa8\", \"\\uaddc\\uc81c\", \"\\uaddc\\uc81c\", \"\\uaddc\\uc81c\", \"\\uadf8\", \"\\uadf8\", \"\\uadf8\", \"\\uadf8\", \"\\uadf8\", \"\\uadf8\", \"\\uadf8\", \"\\uadf8\", \"\\uadf8\\ub7a8\", \"\\uadf8\\ub8f9\", \"\\uadf8\\ub8f9\", \"\\uadf8\\ub8f9\", \"\\uadf8\\ub8f9\", \"\\uadf8\\ub8f9\", \"\\uadf8\\ub8f9\", \"\\uadf8\\ub8f9_\\ud2b8\\ub79c\\uc2a4\", \"\\uae00\\ub85c\\ubc8c\", \"\\uae00\\ub85c\\ubc8c\", \"\\uae00\\ub85c\\ubc8c\", \"\\uae00\\ub85c\\ubc8c\", \"\\uae00\\ub85c\\ubc8c\", \"\\uae00\\ub85c\\ubc8c\", \"\\uae00\\ub85c\\ubc8c\", \"\\uae08\\uc735\", \"\\uae08\\uc735\", \"\\uae08\\uc735\", \"\\uae08\\uc735\", \"\\uae08\\uc735\", \"\\uae08\\uc735\", \"\\uae08\\uc735\", \"\\uae08\\uc81c\", \"\\uae08\\uc81c\", \"\\uae08\\uc81c\", \"\\uae30\\uae30\", \"\\uae30\\uae30\", \"\\uae30\\uae30\", \"\\uae30\\uae30\", \"\\uae30\\uae30\", \"\\uae30\\ub2a5\", \"\\uae30\\ub2a5\", \"\\uae30\\ub2a5\", \"\\uae30\\ub2a5\", \"\\uae30\\ub2a5\", \"\\uae30\\ub85d\", \"\\uae30\\ub85d\", \"\\uae30\\ub85d\", \"\\uae30\\ub85d\", \"\\uae30\\ub85d\", \"\\uae30\\ub85d\", \"\\uae30\\ub85d\", \"\\uae30\\ub85d\", \"\\uae30\\ubc18\", \"\\uae30\\ubc18\", \"\\uae30\\ubc18\", \"\\uae30\\ubc18\", \"\\uae30\\ubc18\", \"\\uae30\\ubc18\", \"\\uae30\\ubc18\", \"\\uae30\\ubd80\", \"\\uae30\\uc0ac\", \"\\uae30\\uc0ac\", \"\\uae30\\uc220\", \"\\uae30\\uc220\", \"\\uae30\\uc220\", \"\\uae30\\uc220\", \"\\uae30\\uc220\", \"\\uae30\\uc220\", \"\\uae30\\uc220\", \"\\uae30\\uc220\", \"\\uae30\\uc220\", \"\\uae30\\uc5c5\", \"\\uae30\\uc5c5\", \"\\uae30\\uc5c5\", \"\\uae30\\uc5c5\", \"\\uae30\\uc5c5\", \"\\uae30\\uc5c5\", \"\\uae30\\uc5c5\", \"\\uae30\\uc900\", \"\\uae30\\uc900\", \"\\uae30\\uc900\", \"\\uae30\\uc900\", \"\\uae30\\uc900\", \"\\uae30\\uc900\", \"\\uae30\\uc900\", \"\\uae30\\uc900\", \"\\uae30\\uc900\", \"\\uae30\\uc900\", \"\\ub098\\ubcfc_\\uc218\", \"\\ub0b4\\uc815\", \"\\ub124\\uc774\\ubc84\", \"\\ub124\\uc774\\ubc84\", \"\\ub124\\uc774\\ubc84\", \"\\ub124\\uc774\\ubc84\", \"\\ub124\\uc774\\ubc84\\uc6f9\\ud230\", \"\\ub124\\ud2b8\\uc6cc\\ud0b9\", \"\\ub124\\ud2b8\\uc6cd_\\uc2a4\", \"\\ub125\\uc2a8\", \"\\ub137\\ub9c8\\ube14\", \"\\ub137\\ud50c\\ub9ad\\uc2a4\", \"\\ub144_\\ub300\\ube44\", \"\\ub144_\\ub300\\ube44\", \"\\ub144_\\ub3d9\\uae30\", \"\\ub178\\ud2b8\\ubd81\", \"\\ub178\\ud2b8\\ubd81\", \"\\ub1cc\", \"\\ub294\", \"\\ub294\", \"\\ub294\", \"\\ub294\", \"\\ub294\", \"\\ub294\", \"\\ub294\", \"\\ub294\", \"\\ub294\", \"\\ub294\", \"\\ub2e4\\ub978\", \"\\ub2e4\\ub978\", \"\\ub2e4\\ub978\", \"\\ub2e4\\ub978\", \"\\ub2e4\\ub978\", \"\\ub2e4\\ub978\", \"\\ub2e4\\ub978\", \"\\ub2e4\\uc591\\ud55c\", \"\\ub2e4\\uc591\\ud55c\", \"\\ub2e4\\uc591\\ud55c\", \"\\ub2e4\\uc591\\ud55c\", \"\\ub2e4\\uc591\\ud55c\", \"\\ub2e4\\uc591\\ud55c\", \"\\ub2e4\\uc591\\ud55c\", \"\\ub2e4\\uc591\\ud55c\", \"\\ub2e8\\ubc31\\uc9c8\", \"\\ub2ec\\ub7ec\", \"\\ub2ec\\ub7ec\", \"\\ub2ec\\ub7ec\", \"\\ub2f4\\ubc30\", \"\\ub2f5\\ubcc0\", \"\\ub2f5\\ubcc0\", \"\\ub300_\\uc8fc\\uc8fc\", \"\\ub300\\ub9cc\", \"\\ub300\\ub9cc\", \"\\ub300\\ube44\", \"\\ub300\\ube44\", \"\\ub300\\ube44\", \"\\ub300\\ube44\", \"\\ub300\\ube44\", \"\\ub300\\ube44\", \"\\ub300\\ud45c\", \"\\ub300\\ud45c\", \"\\ub300\\ud45c\", \"\\ub300\\ud45c\", \"\\ub300\\ud45c\", \"\\ub300\\ud45c\", \"\\ub300\\ud45c\", \"\\ub300\\ud45c\", \"\\ub300\\ud45c\", \"\\ub300\\ud45c\\uc774\\uc0ac\", \"\\ub300\\ud45c\\uc774\\uc0ac\", \"\\ub300\\ud45c\\uc774\\uc0ac\", \"\\ub300\\ud45c\\uc774\\uc0ac\", \"\\ub300\\ud45c\\uc774\\uc0ac_\\uc120\\uc784\", \"\\ub300\\ud45c\\uc774\\uc0ac_\\ud6c4\\ubcf4\", \"\\ub300\\ud55c\", \"\\ub300\\ud55c\", \"\\ub300\\ud55c\", \"\\ub300\\ud55c\", \"\\ub300\\ud55c\", \"\\ub300\\ud55c\", \"\\ub300\\ud55c\", \"\\ub300\\ud55c\", \"\\ub300\\ud55c\", \"\\ub300\\ud574\", \"\\ub300\\ud574\", \"\\ub300\\ud574\", \"\\ub300\\ud574\", \"\\ub300\\ud574\", \"\\ub300\\ud574\", \"\\ub300\\ud574\", \"\\ub300\\ud574\", \"\\ub300\\ud654\", \"\\ub300\\ud654\", \"\\ub300\\ud654\", \"\\ub300\\ud654\", \"\\ub300\\ud654\", \"\\ub300\\ud654\", \"\\ub300\\ud654\", \"\\ub300\\ud654\", \"\\ub354\", \"\\ub354\", \"\\ub354\", \"\\ub354\", \"\\ub354\", \"\\ub354\", \"\\ub354\", \"\\ub354\", \"\\ub354_\\uae00\\ub85c\\ub9ac\", \"\\ub354_\\ub9ac\\uc6c0\", \"\\ub370\\uc774\\ud130\", \"\\ub370\\uc774\\ud130\", \"\\ub370\\uc774\\ud130\", \"\\ub370\\uc774\\ud130\", \"\\ub370\\uc774\\ud130\", \"\\ub3c4\\uc785\", \"\\ub3c4\\uc785\", \"\\ub3c4\\uc785\", \"\\ub3c4\\uc785\", \"\\ub3c4\\uc785\", \"\\ub3c4\\uc785\", \"\\ub3c4\\uc785\", \"\\ub410\\ub2e4\", \"\\ub410\\ub2e4\", \"\\ub410\\ub2e4\", \"\\ub410\\ub2e4\", \"\\ub410\\ub2e4\", \"\\ub410\\ub2e4\", \"\\ub410\\ub2e4\", \"\\ub410\\ub2e4\", \"\\ub410\\ub2e4\", \"\\ub410\\ub2e4\", \"\\ub418\\ub294\", \"\\ub418\\ub294\", \"\\ub418\\ub294\", \"\\ub418\\ub294\", \"\\ub418\\ub294\", \"\\ub418\\ub294\", \"\\ub418\\ub294\", \"\\ub418\\ub294\", \"\\ub418\\ub294\", \"\\ub418\\ub294\", \"\\ub41c\", \"\\ub41c\", \"\\ub41c\", \"\\ub41c\", \"\\ub41c\", \"\\ub41c\", \"\\ub41c\", \"\\ub41c\", \"\\ub41c\", \"\\ub41c\", \"\\ub41c\\ub2e4\", \"\\ub41c\\ub2e4\", \"\\ub41c\\ub2e4\", \"\\ub41c\\ub2e4\", \"\\ub41c\\ub2e4\", \"\\ub41c\\ub2e4\", \"\\ub41c\\ub2e4\", \"\\ub41c\\ub2e4\", \"\\ub41c\\ub2e4\", \"\\ub41c\\ub2e4\", \"\\ub420\", \"\\ub420\", \"\\ub420\", \"\\ub420\", \"\\ub420\", \"\\ub420\", \"\\ub420\", \"\\ub420\", \"\\ub420\", \"\\ub429\\ub2c8\\ub2e4\", \"\\ub4dc\\ub860\", \"\\ub4dc\\ub860\", \"\\ub4dc\\ub860\", \"\\ub4f1\\ub85d\", \"\\ub4f1\\ub85d\", \"\\ub4f1\\ub85d\", \"\\ub4f1\\ub85d\", \"\\ub4f1\\ub85d\", \"\\ub4f1\\ub85d\", \"\\ub514_\\uc9c0\\ucf54\", \"\\ub514\\uc2a4\\ud50c\\ub808\\uc774\", \"\\ub514\\uc2a4\\ud50c\\ub808\\uc774\", \"\\ub514\\uc2a4\\ud50c\\ub808\\uc774\", \"\\ub514\\uc790\\uc778\", \"\\ub514\\uc790\\uc778\", \"\\ub514\\uc790\\uc778\", \"\\ub514\\uc790\\uc778\", \"\\ub514\\uc790\\uc778\", \"\\ub514\\uc9c0\\ud138\", \"\\ub514\\uc9c0\\ud138\", \"\\ub514\\uc9c0\\ud138\", \"\\ub514\\uc9c0\\ud138\", \"\\ub514\\uc9c0\\ud138\", \"\\ub514\\uc9c0\\ud138\", \"\\ub514\\uc9c0\\ud138\", \"\\ub514\\uc9c0\\ud138\", \"\\ub514\\uc9c0\\ud138_\\uc790\\uc0b0\", \"\\ub514\\uc9c0\\ud138_\\uc804\\ud658\", \"\\ub514\\uc9c0\\ud138_\\uc804\\ud658\", \"\\ub514\\uc9c0\\ud138_\\uc804\\ud658\", \"\\ub514\\uc9c0\\ud138_\\uc804\\ud658\", \"\\ub525\", \"\\ub54c\", \"\\ub54c\", \"\\ub54c\", \"\\ub54c\", \"\\ub54c\", \"\\ub54c\", \"\\ub54c\", \"\\ub54c\", \"\\ub77c\\uc774\\ube0c\", \"\\ub77c\\uc774\\ube0c\", \"\\ub77c\\uc774\\ube0c\", \"\\ub808\\uc774_\\ud130\", \"\\ub85c\", \"\\ub85c\", \"\\ub85c\", \"\\ub85c\", \"\\ub85c\", \"\\ub85c\", \"\\ub85c\", \"\\ub85c\", \"\\ub85c\", \"\\ub85c\", \"\\ub85c\\ubd07\", \"\\ub85c\\ubd07\", \"\\ub85c\\ubd07\", \"\\ub97c\", \"\\ub97c\", \"\\ub97c\", \"\\ub97c\", \"\\ub97c\", \"\\ub97c\", \"\\ub97c\", \"\\ub97c\", \"\\ub97c\", \"\\ub97c\", \"\\ub9c8\\uc774_\\ub370\\uc774\\ud130\", \"\\ub9c8\\ucf00\\ud305\", \"\\ub9c8\\ucf00\\ud305\", \"\\ub9c8\\ucf00\\ud305\", \"\\ub9c8\\ucf00\\ud305\", \"\\ub9e4\\ub9e4\", \"\\ub9e4\\ub9e4\", \"\\ub9e4\\ucd9c\", \"\\ub9e4\\ucd9c\", \"\\ub9e4\\ucd9c_\\ub144\", \"\\ub9e4\\ucd9c_\\ube44\\uc911\", \"\\ub9e4\\ud06c\\ub85c\", \"\\uba38\\uc2a4\\ud06c\", \"\\uba54\\uac00\\uc640\\ud2b8\", \"\\uba54\\ubaa8\\ub9ac_\\ubc18\\ub3c4\\uccb4\", \"\\uba54\\uc774\\ucee4\", \"\\uba54\\ud0c0\", \"\\uba54\\ud0c0\", \"\\uba54\\ud0c0\", \"\\uba54\\ud0c0\", \"\\uba54\\ud0c0_\\ubc84\\uc2a4\", \"\\uba54\\ud0c0_\\ubc84\\uc2a4\", \"\\uba54\\ud0c0_\\ubc84\\uc2a4\", \"\\uba70\", \"\\uba70\", \"\\uba70\", \"\\uba70\", \"\\uba70\", \"\\uba70\", \"\\uba70\", \"\\uba70\", \"\\uba70\", \"\\uba70\", \"\\uba85\", \"\\uba85\", \"\\uba85\", \"\\uba85\", \"\\uba85\", \"\\uba85\", \"\\uba85\", \"\\uba85\", \"\\uba85\", \"\\ubaa8\\ub378\", \"\\ubaa8\\ub378\", \"\\ubaa8\\ub378\", \"\\ubaa8\\ub378\", \"\\ubaa8\\ub378\", \"\\ubaa8\\ub378\", \"\\ubaa8\\ub378\", \"\\ubaa8\\ub4dc\", \"\\ubaa8\\ub4dc\", \"\\ubaa8\\uc158\", \"\\ubaa8\\uc784\", \"\\ubb38\\uc11c\", \"\\ubb38\\uc11c\", \"\\ubb38\\uc7a5\", \"\\ubb38\\uc81c\", \"\\ubb38\\uc81c\", \"\\ubb38\\uc81c\", \"\\ubb38\\uc81c\", \"\\ubb38\\uc81c\", \"\\ubb38\\uc81c\", \"\\ubb38\\uc81c\", \"\\ubbf8\\uad6d\", \"\\ubbf8\\uad6d\", \"\\ubbf8\\uad6d\", \"\\ubbf8\\uad6d\", \"\\ubbf8\\uad6d\", \"\\ubbf8\\uad6d\", \"\\ubbf8\\uad6d\", \"\\ubbf8\\ub514\\uc5b4\", \"\\ubbf8\\ub514\\uc5b4\", \"\\ubbf8\\ub514\\uc5b4\", \"\\ubbf8\\ub514\\uc5b4\", \"\\ubbf8\\ub514\\uc5b4\", \"\\ubbf8\\ub798\", \"\\ubbf8\\ub798\", \"\\ubbf8\\ub798\", \"\\ubbf8\\ub798\", \"\\ubbf8\\ub798\", \"\\ubbf8\\ub798\", \"\\ubbf8\\ub798\", \"\\ubbfc\\uac04\", \"\\ubbfc\\uac04\", \"\\ubbfc\\uac04\", \"\\ubbfc\\uac04\", \"\\ubbfc\\uac04\", \"\\ubbfc\\uc8fc\\ub2f9\", \"\\ubc0f\", \"\\ubc0f\", \"\\ubc0f\", \"\\ubc0f\", \"\\ubc0f\", \"\\ubc0f\", \"\\ubc0f\", \"\\ubc0f\", \"\\ubc0f\", \"\\ubc14\\ub4dc\", \"\\ubc14\\uc774\\uc624_\\uc9c1\\uc2a4\", \"\\ubc18\\ub3c4\\uccb4\", \"\\ubc18\\ub3c4\\uccb4\", \"\\ubc1c\\uc0dd\", \"\\ubc1c\\uc0dd\", \"\\ubc1c\\uc0dd\", \"\\ubc1c\\uc0dd\", \"\\ubc1c\\uc0dd\", \"\\ubc1c\\uc0dd\", \"\\ubc1c\\uc0dd\", \"\\ubc1c\\ud589\", \"\\ubc1c\\ud589\", \"\\ubc1c\\ud589\", \"\\ubc1d\\ud614\\ub2e4\", \"\\ubc1d\\ud614\\ub2e4\", \"\\ubc1d\\ud614\\ub2e4\", \"\\ubc1d\\ud614\\ub2e4\", \"\\ubc1d\\ud614\\ub2e4\", \"\\ubc1d\\ud614\\ub2e4\", \"\\ubc1d\\ud614\\ub2e4\", \"\\ubc1d\\ud614\\ub2e4\", \"\\ubc1d\\ud614\\ub2e4\", \"\\ubc1d\\ud614\\ub2e4\", \"\\ubc29\", \"\\ubc29\", \"\\ubc29\", \"\\ubc29_\\ucc38\\uc5ec\\uc790\", \"\\ubc30\\uc1a1\", \"\\ubc30\\uc1a1\", \"\\ubc30\\ud130\\ub9ac\", \"\\ubc30\\ud130\\ub9ac\", \"\\ubc30\\ud130\\ub9ac\", \"\\ubc31\\uc2e0\", \"\\ubc31\\uc2e0\", \"\\ubc31\\uc2e0\", \"\\ubc31\\uc5c5\", \"\\ubc84\\ud2f0_\\uceec\", \"\\ubc88\\uc5ed\", \"\\ubc88\\ud638\", \"\\ubc95\\ubb34\\ubd80\", \"\\ubc95\\uc548\", \"\\ubc95\\uc548\", \"\\ubc95\\uc778_\\uc124\\ub9bd\", \"\\ubcd1\\uc6d0\", \"\\ubcd1\\uc6d0\", \"\\ubcf4\\uc548\", \"\\ubcf4\\uc548\", \"\\ubd80\\uc2a4\", \"\\ubd80\\uc2a4\", \"\\ubd84\", \"\\ubd84\", \"\\ubd84\", \"\\ubd84\", \"\\ubd84\", \"\\ubd84\", \"\\ubd84\", \"\\ubd84\\uc11d\", \"\\ubd84\\uc11d\", \"\\ubd84\\uc11d\", \"\\ubd84\\uc11d\", \"\\ubd84\\uc11d\", \"\\ubd84\\uc11d\", \"\\ubd84\\uc11d\", \"\\ubd84\\uc11d\", \"\\ubd84\\uc57c\", \"\\ubd84\\uc57c\", \"\\ubd84\\uc57c\", \"\\ubd84\\uc57c\", \"\\ubd84\\uc57c\", \"\\ubd84\\uc57c\", \"\\ubd84\\uc57c\", \"\\ubd84\\uc57c\", \"\\ubd88\\ubc95\", \"\\ubd88\\ubc95\", \"\\ubdf0\\ud2f0\", \"\\ube0c\\ub79c\\ub4dc\", \"\\ube0c\\ub79c\\ub4dc\", \"\\ube0c\\ub79c\\ub4dc\", \"\\ube0c\\ub79c\\ub4dc\", \"\\ube14\\ub85d_\\uccb4\\uc778\", \"\\ube14\\ub85d_\\uccb4\\uc778\", \"\\ube14\\ub85d_\\uccb4\\uc778\", \"\\ube44\\ub300_\\uc9c4\\ub8cc\", \"\\ube44\\uc988\\ub2c8\\uc2a4\", \"\\ube44\\uc988\\ub2c8\\uc2a4\", \"\\ube44\\uc988\\ub2c8\\uc2a4\", \"\\ube44\\uc988\\ub2c8\\uc2a4\", \"\\ube44\\ud2b8\\ucf54\\uc778\", \"\\ube59\", \"\\ube75\", \"\\uc0ac\\uace0_\\ubc1c\\uc0dd\", \"\\uc0ac\\ub0b4_\\uc774\\uc0ac\", \"\\uc0ac\\ub78c\", \"\\uc0ac\\ub78c\", \"\\uc0ac\\ub78c\", \"\\uc0ac\\ub78c\", \"\\uc0ac\\uc2e4\", \"\\uc0ac\\uc2e4\", \"\\uc0ac\\uc2e4\", \"\\uc0ac\\uc2e4\", \"\\uc0ac\\uc2e4\", \"\\uc0ac\\uc2e4\", \"\\uc0ac\\uc591\", \"\\uc0ac\\uc5c5\", \"\\uc0ac\\uc5c5\", \"\\uc0ac\\uc5c5\", \"\\uc0ac\\uc5c5\", \"\\uc0ac\\uc5c5\", \"\\uc0ac\\uc5c5\", \"\\uc0ac\\uc5c5\\uc790\", \"\\uc0ac\\uc5c5\\uc790\", \"\\uc0ac\\uc5c5\\uc790\", \"\\uc0ac\\uc5c5\\uc790\", \"\\uc0ac\\uc5c5\\uc790\", \"\\uc0ac\\uc678\\uc774\\uc0ac\", \"\\uc0ac\\uc6a9\", \"\\uc0ac\\uc6a9\", \"\\uc0ac\\uc6a9\", \"\\uc0ac\\uc6a9\", \"\\uc0ac\\uc6a9\", \"\\uc0ac\\uc6a9\", \"\\uc0ac\\uc6a9\", \"\\uc0ac\\uc6b4\\ub4dc\", \"\\uc0ac\\uc6b4\\ub4dc_\\ubc14\", \"\\uc0ac\\uc774\\ubc84_\\uacf5\\uaca9\", \"\\uc0ac\\uc7a5\", \"\\uc0ac\\uc7a5\", \"\\uc0ac\\uc7a5\", \"\\uc0ac\\uc7a5\", \"\\uc0ac\\uc7a5\", \"\\uc0ac\\uc7a5\", \"\\uc0b0\\ubd88\", \"\\uc0b0\\uc5c5\", \"\\uc0b0\\uc5c5\", \"\\uc0b0\\uc5c5\", \"\\uc0b0\\uc5c5\", \"\\uc0b0\\uc5c5\", \"\\uc0b0\\uc5c5\", \"\\uc0b0\\uc5c5\", \"\\uc0b0\\uc5c5_\\ub2e8\\uc9c0\", \"\\uc0b0\\uc5c5_\\ud1b5\\uc0c1\", \"\\uc0b0\\uc5c5_\\ud1b5\\uc0c1\", \"\\uc0b0\\uc5c5_\\ud611\\ud68c\", \"\\uc0b0\\uc5c5_\\ud611\\ud68c\", \"\\uc0b0\\uc5c5_\\ud611\\ud68c\", \"\\uc0b0\\uc5c5\\ubd80\", \"\\uc0bc\\uc131\", \"\\uc0bc\\uc131\", \"\\uc0bc\\uc131\", \"\\uc0bc\\uc131\", \"\\uc0bc\\uc131\", \"\\uc0bc\\uc131_SDI\", \"\\uc0bc\\uc131_\\uc804\\uc790\", \"\\uc0bc\\uc131_\\uc804\\uc790\", \"\\uc0bc\\uc131_\\uc804\\uc790\", \"\\uc0bc\\uc131_\\uc804\\uc790\", \"\\uc0c1\\ub2f4\", \"\\uc0c1\\ub2f4\", \"\\uc0c1\\ub2f4\", \"\\uc0c1\\ub2f4\", \"\\uc0c1\\ub2f4\", \"\\uc0c1\\ub2f4\\uc0ac\", \"\\uc0c1\\uc2b9\", \"\\uc0c1\\uc2b9\", \"\\uc0c1\\uc2b9\", \"\\uc0c1\\uc7a5\", \"\\uc0c1\\uc7a5\", \"\\uc0c1\\uc7a5\", \"\\uc0c1\\uc7a5\", \"\\uc0c1\\uc7a5\", \"\\uc0c1\\ud488\", \"\\uc0c1\\ud488\", \"\\uc0c1\\ud488\", \"\\uc0c1\\ud488\", \"\\uc0c1\\ud488\", \"\\uc0c1\\ud488\", \"\\uc0c1\\ud669\", \"\\uc0c1\\ud669\", \"\\uc0c1\\ud669\", \"\\uc0c1\\ud669\", \"\\uc0c1\\ud669\", \"\\uc0c1\\ud669\", \"\\uc0c1\\ud669\", \"\\uc0c1\\ud669\", \"\\uc0c9\\uc0c1\", \"\\uc0dd\", \"\\uc0dd\", \"\\uc0dd\", \"\\uc0dd\", \"\\uc0dd\", \"\\uc0dd_\\uc131\\ud615\", \"\\uc0dd\\uc0b0\", \"\\uc0dd\\uc0b0\", \"\\uc0dd\\uc0b0\", \"\\uc0dd\\uc0b0\", \"\\uc0dd\\uc0b0\", \"\\uc0dd\\uc0b0\", \"\\uc0dd\\uc0b0_\\ub2a5\\ub825\", \"\\uc11c\\ube44\\uc2a4\", \"\\uc11c\\ube44\\uc2a4\", \"\\uc11c\\ube44\\uc2a4\", \"\\uc11c\\ube44\\uc2a4\", \"\\uc11c\\ube44\\uc2a4\", \"\\uc11c\\ube44\\uc2a4\", \"\\uc120\\ub3c4\", \"\\uc120\\ub3c4\", \"\\uc120\\ub3c4\", \"\\uc120\\ub3c4\", \"\\uc120\\uc784\", \"\\uc120\\uc784\", \"\\uc124\\uce58\", \"\\uc124\\uce58\", \"\\uc124\\uce58\", \"\\uc124\\uce58\", \"\\uc124\\uce58\", \"\\uc124\\uce58\", \"\\uc131\\ub2a5\", \"\\uc131\\ub2a5\", \"\\uc131\\ub2a5\", \"\\uc131\\ub2a5\", \"\\uc131\\ubd84\", \"\\uc131\\uc7a5\", \"\\uc131\\uc7a5\", \"\\uc131\\uc7a5\", \"\\uc131\\uc7a5\", \"\\uc131\\uc7a5\", \"\\uc138\\ud0c1\", \"\\uc138\\ud3ec\", \"\\uc13c\\ud130\", \"\\uc13c\\ud130\", \"\\uc13c\\ud130\", \"\\uc13c\\ud130\", \"\\uc13c\\ud130\", \"\\uc158_\\ubd80\\ubb38\", \"\\uc18c\\uc15c\\ubbf8\\ub514\\uc5b4\", \"\\uc18c\\uc561_\\uc8fc\\uc8fc\", \"\\uc18c\\uc790\", \"\\uc18c\\uc7ac_\\ubd80\\ud488\", \"\\uc190\\uc2e4\", \"\\uc190\\uc2e4\", \"\\uc194\\ub8e8\\uc158\", \"\\uc194\\ub8e8\\uc158\", \"\\uc194\\ub8e8\\uc158\", \"\\uc194\\ub8e8\\uc158\", \"\\uc194\\ub8e8\\uc158\", \"\\uc194\\ub8e8\\uc158\", \"\\uc218\", \"\\uc218\", \"\\uc218\", \"\\uc218\", \"\\uc218\", \"\\uc218\", \"\\uc218\", \"\\uc218\", \"\\uc218\", \"\\uc218\", \"\\uc218\\uba74\", \"\\uc218\\uc18c\", \"\\uc218\\uc18c\", \"\\uc218\\uc220\", \"\\uc218\\ucd9c_\\uaddc\\uc81c\", \"\\uc21c\\uc774\\uc775\", \"\\uc2a4_\\ud14c\\uc774\\ube14\", \"\\uc2a4\\ub9c8\\ud2b8\\ud3f0\", \"\\uc2a4\\ub9c8\\ud2b8\\ud3f0\", \"\\uc2a4\\ub9c8\\ud2b8\\ud3f0\", \"\\uc2a4\\ub9c8\\ud2b8\\ud3f0\", \"\\uc2a4\\ub9c8\\ud2b8\\ud3f0\", \"\\uc2a4\\ub9c8\\ud2b8\\ud3f0\", \"\\uc2a4\\ud0c0\\ud2b8\\uc5c5\", \"\\uc2a4\\ud0c0\\ud2b8\\uc5c5\", \"\\uc2a4\\ud0c0\\ud2b8\\uc5c5\", \"\\uc2a4\\ud1a0\\ub9ac\", \"\\uc2a4\\ud1a0\\ub9ac\", \"\\uc2a4\\ud1a0\\ub9ac\", \"\\uc2a4\\ud398\\uc774\\uc2a4_X\", \"\\uc2dc\", \"\\uc2dc\", \"\\uc2dc\", \"\\uc2dc\", \"\\uc2dc\", \"\\uc2dc\", \"\\uc2dc\", \"\\uc2dc\\uac01\\uc7a5\\uc560\\uc778\", \"\\uc2dc\\uac01\\uc7a5\\uc560\\uc778\", \"\\uc2dc\\ub9ac\\uc988\", \"\\uc2dc\\ub9ac\\uc988\", \"\\uc2dc\\ub9ac\\uc988\", \"\\uc2dc\\uc2a4\\ud15c\", \"\\uc2dc\\uc2a4\\ud15c\", \"\\uc2dc\\uc2a4\\ud15c\", \"\\uc2dc\\uc2a4\\ud15c\", \"\\uc2dc\\uc2a4\\ud15c\", \"\\uc2dc\\uc2a4\\ud15c\", \"\\uc2dc\\uc7a5\", \"\\uc2dc\\uc7a5\", \"\\uc2dc\\uc7a5\", \"\\uc2dc\\uc7a5\", \"\\uc2dc\\uc7a5\", \"\\uc2dc\\uc7a5\", \"\\uc2dc\\uc7a5\", \"\\uc2dc\\uc7a5\", \"\\uc2dc\\uc7a5\\uc870\\uc0ac_\\uc5c5\\uccb4\", \"\\uc2e0\\uc784\", \"\\uc2e0\\uc81c\\ud488\", \"\\uc2e0\\uc81c\\ud488\", \"\\uc2e0\\ud55c\\uc740\\ud589\", \"\\uc2e4\\ubc84_\\uac8c\\uc774\\ud2b8\", \"\\uc2e4\\uc801\", \"\\uc2e4\\uc801\", \"\\uc2e4\\uc801\", \"\\uc2e4\\uc99d\", \"\\uc544\\ubc14\\ud0c0\", \"\\uc544\\ubc14\\ud0c0\", \"\\uc544\\ubc14\\ud0c0\", \"\\uc544\\uc774\\ub3cc\", \"\\uc544\\uc774\\uc5b8_\\uba54\\uc774\\uc2a4\", \"\\uc544\\uc774\\ud3f0_14\", \"\\uc544\\ud2f0\\uc2a4\\ud2b8\", \"\\uc544\\ud2f0\\uc2a4\\ud2b8\", \"\\uc545\\uc131\\ucf54\\ub4dc\", \"\\uc545\\uc131\\ucf54\\ub4dc\", \"\\uc548\\uac74\", \"\\uc548\\uac74\", \"\\uc54c\\ub730\\ud3f0\", \"\\uc554\", \"\\uc554\\uc138\\ud3ec\", \"\\uc554\\ud638_\\ud654\\ud3d0\", \"\\uc554\\ud638_\\ud654\\ud3d0\", \"\\uc560\\ud50c\", \"\\uc560\\ud50c\", \"\\uc560\\ud50c\", \"\\uc560\\ud50c_\\ud398\\uc774\", \"\\uc571\", \"\\uc571\", \"\\uc571\", \"\\uc571\", \"\\uc571\", \"\\uc575\\ucee4\", \"\\uc57d\", \"\\uc57d\", \"\\uc57d\", \"\\uc57d\", \"\\uc57d\", \"\\uc57d\", \"\\uc57d\", \"\\uc57d\", \"\\uc57d\", \"\\uc57d\", \"\\uc57d\\ubb3c\", \"\\uc591\\uc790\", \"\\uc591\\uc790\", \"\\uc5b8\\ub860\", \"\\uc5b8\\uc5b4\", \"\\uc5b8\\uc5b4\", \"\\uc5b8\\uc5b4_\\ubaa8\\ub378\", \"\\uc5bc\\ub77c\\uc774\\uc5b8\\uc2a4\", \"\\uc5c5_\\ube44\\ud2b8\", \"\\uc5c5_\\uc2a4\\ud14c\\uc774\\uc9c0\", \"\\uc5c5\\ubb34\", \"\\uc5c5\\ubb34\", \"\\uc5c5\\ubb34\", \"\\uc5c5\\ubb34\", \"\\uc5c5\\ubb34\", \"\\uc5c5\\ubb34\", \"\\uc5c5\\ubb34\", \"\\uc5c5\\uccb4\", \"\\uc5c5\\uccb4\", \"\\uc5c5\\uccb4\", \"\\uc5c5\\uccb4\", \"\\uc5c5\\uccb4\", \"\\uc5c5\\uccb4\", \"\\uc5c5\\uccb4\", \"\\uc5c5\\uccb4\", \"\\uc5c6\\ub2e4\", \"\\uc5c6\\ub2e4\", \"\\uc5c6\\ub2e4\", \"\\uc5c6\\ub2e4\", \"\\uc5c6\\ub2e4\", \"\\uc5d0\\uc774_\\ub2f7\", \"\\uc5d4\\ud130\\ud14c\\uc778\\uba3c\\ud2b8\", \"\\uc5d4\\ud130\\ud14c\\uc778\\uba3c\\ud2b8\", \"\\uc5d4\\ud130\\ud14c\\uc778\\uba3c\\ud2b8\", \"\\uc5d4\\ud130\\ud14c\\uc778\\uba3c\\ud2b8\", \"\\uc5ec\\uad8c\", \"\\uc5ec\\ud589\", \"\\uc5ec\\ud589\", \"\\uc5ec\\ud589\", \"\\uc5ec\\ud589\", \"\\uc5f0\\uacb0_\\uae30\\uc900\", \"\\uc5f0\\uad6c\", \"\\uc5f0\\uad6c\", \"\\uc5f0\\uad6c\", \"\\uc5f0\\uad6c_\\uacb0\\uacfc\", \"\\uc5f0\\uad6c\\uac1c\\ubc1c\", \"\\uc5f0\\uad6c\\uac1c\\ubc1c\", \"\\uc5f0\\uad6c\\uac1c\\ubc1c\", \"\\uc5f0\\uad6c\\uac1c\\ubc1c\", \"\\uc5f0\\uad6c\\uac1c\\ubc1c\", \"\\uc5f0\\ubd09\", \"\\uc601\\uc5b4\", \"\\uc601\\uc5b4\", \"\\uc601\\uc5c5_\\uc190\\uc2e4\", \"\\uc601\\uc5c5_\\uc774\\uc775\", \"\\uc608\\uae08\", \"\\uc624\\ub298_\\uc9d1\", \"\\uc624\\ub514\\uc624_\\ub4dc\\ub77c\\ub9c8\", \"\\uc624\\ud508_AI\", \"\\uc624\\ud508_\\ub79c\", \"\\uc624\\ud508_\\ucc44\\ud305\", \"\\uc62c\\ud574\", \"\\uc62c\\ud574\", \"\\uc62c\\ud574\", \"\\uc62c\\ud574\", \"\\uc62c\\ud574\", \"\\uc62c\\ud574\", \"\\uc62c\\ud574\", \"\\uc62c\\ud574\", \"\\uc62c\\ud574\", \"\\uc640\", \"\\uc640\", \"\\uc640\", \"\\uc640\", \"\\uc640\", \"\\uc640\", \"\\uc640\", \"\\uc640\", \"\\uc640\", \"\\uc640\", \"\\uc694\\uae08\", \"\\uc694\\uae08\", \"\\uc6b0\\ub824\", \"\\uc6b0\\ub824\", \"\\uc6b0\\ub824\", \"\\uc6b0\\ub824\", \"\\uc6b0\\ub824\", \"\\uc6b0\\ub9ac\", \"\\uc6b0\\ub9ac\", \"\\uc6b0\\ub9ac\", \"\\uc6b0\\ub9ac\", \"\\uc6b0\\uc218\", \"\\uc6b0\\uc218\", \"\\uc6b0\\uc218\", \"\\uc6b0\\uc8fc_\\ud56d\\uacf5\", \"\\uc6b0\\uc8fc_\\ud56d\\uacf5\", \"\\uc6b4\\ub3d9\", \"\\uc6b4\\ub3d9\", \"\\uc6b4\\uc601\", \"\\uc6b4\\uc601\", \"\\uc6b4\\uc601\", \"\\uc6b4\\uc601\", \"\\uc6b4\\uc601\", \"\\uc6b4\\uc601\", \"\\uc6b4\\uc601\", \"\\uc6b4\\uc601\", \"\\uc6b4\\uc601\", \"\\uc6b8\\ud2b8\\ub77c\", \"\\uc6b8\\ud2b8\\ub77c\", \"\\uc6d0\", \"\\uc6d0\", \"\\uc6d0\", \"\\uc6d0\", \"\\uc6d0\", \"\\uc6d0\", \"\\uc6d0\", \"\\uc6d0\\uc790\\ub825\", \"\\uc6d0\\uc804\", \"\\uc6f9_3\", \"\\uc6f9_3\", \"\\uc6f9\\uc18c\\uc124\", \"\\uc6f9\\ud230\", \"\\uc6f9\\ud230_\\uc6f9\\uc18c\\uc124\", \"\\uc704\", \"\\uc704\", \"\\uc704\", \"\\uc704\", \"\\uc704\", \"\\uc704\", \"\\uc704\", \"\\uc704\", \"\\uc704\", \"\\uc704\", \"\\uc704_\\ubbf9\\uc2a4\", \"\\uc704\\uba54\\uc774\\ub4dc\", \"\\uc704\\uc6d0\\ud68c\", \"\\uc704\\uc6d0\\ud68c\", \"\\uc704\\uc6d0\\ud68c\", \"\\uc720\\ub8cc_\\ubc29\\uc1a1\", \"\\uc720\\ud50c\\ub7ec\\uc2a4\", \"\\uc724_\\uc0ac\\uc7a5\", \"\\uc724\\uacbd_\\ub9bc\", \"\\uc735\\ud569\", \"\\uc735\\ud569\", \"\\uc735\\ud569\", \"\\uc735\\ud569\", \"\\uc735\\ud569\", \"\\uc74c\\uc131\\uc778\\uc2dd\", \"\\uc74c\\uc545\", \"\\uc74c\\uc545\", \"\\uc74c\\uc545\", \"\\uc74c\\uc545\", \"\\uc74c\\uc545\", \"\\uc758\", \"\\uc758\", \"\\uc758\", \"\\uc758\", \"\\uc758\", \"\\uc758\", \"\\uc758\", \"\\uc758\", \"\\uc758\", \"\\uc758\", \"\\uc758\\ub8cc\", \"\\uc758\\ub8cc\", \"\\uc758\\ub8cc\", \"\\uc758\\ub8cc\", \"\\uc758\\ub8cc_\\uae30\\uad00\", \"\\uc758\\uc0ac\", \"\\uc758\\uc0ac\", \"\\uc758\\uc0ac\", \"\\uc758\\uc0ac\", \"\\uc758\\ud559\", \"\\uc774\", \"\\uc774\", \"\\uc774\", \"\\uc774\", \"\\uc774\", \"\\uc774\", \"\\uc774\", \"\\uc774\", \"\\uc774\", \"\\uc774\", \"\\uc774\\ubbf8\\uc9c0\", \"\\uc774\\ubbf8\\uc9c0\", \"\\uc774\\ubbf8\\uc9c0\", \"\\uc774\\ubbf8\\uc9c0\", \"\\uc774\\ubbf8\\uc9c0_\\uc0dd\", \"\\uc774\\ubc88\", \"\\uc774\\ubc88\", \"\\uc774\\ubc88\", \"\\uc774\\ubc88\", \"\\uc774\\ubc88\", \"\\uc774\\ubc88\", \"\\uc774\\ubc88\", \"\\uc774\\ubc88\", \"\\uc774\\ubc88\", \"\\uc774\\ubc88\", \"\\uc774\\ubc88_\\ud611\\uc57d\", \"\\uc774\\uc0ac\", \"\\uc774\\uc0ac\", \"\\uc774\\uc0ac\", \"\\uc774\\uc0ac\", \"\\uc774\\uc0ac\", \"\\uc774\\uc0ac\", \"\\uc774\\uc0ac\", \"\\uc774\\uc0ac\", \"\\uc774\\uc0ac\\ud68c\", \"\\uc774\\uc0c1\", \"\\uc774\\uc0c1\", \"\\uc774\\uc0c1\", \"\\uc774\\uc0c1\", \"\\uc774\\uc0c1\", \"\\uc774\\uc0c1\", \"\\uc774\\uc0c1\", \"\\uc774\\uc0c1\", \"\\uc774\\uc0c1\", \"\\uc774\\uc6a9\", \"\\uc774\\uc6a9\", \"\\uc774\\uc6a9\", \"\\uc774\\uc6a9\", \"\\uc774\\uc6a9\", \"\\uc774\\uc6a9\", \"\\uc774\\uc6a9\\uc790\", \"\\uc774\\uc6a9\\uc790\", \"\\uc774\\uc6a9\\uc790\", \"\\uc774\\uc6a9\\uc790\", \"\\uc774\\uc6a9\\uc790\", \"\\uc774\\uc6a9\\uc790\", \"\\uc774\\uc720\", \"\\uc774\\uc720\", \"\\uc774\\uc720\", \"\\uc774\\uc720\", \"\\uc774\\uc720\", \"\\uc774\\uc720\", \"\\uc774\\ucee4\\uba38\\uc2a4\", \"\\uc774\\ucee4\\uba38\\uc2a4\", \"\\uc774\\ud504_\\ub79c\\ub4dc\", \"\\uc778\\uac04\", \"\\uc778\\uac04\", \"\\uc778\\uac04\", \"\\uc778\\uacf5_\\uc9c0\\ub2a5\", \"\\uc778\\uacf5_\\uc9c0\\ub2a5\", \"\\uc778\\uacf5_\\uc9c0\\ub2a5\", \"\\uc778\\uacf5_\\uc9c0\\ub2a5\", \"\\uc778\\ub514_\\uac8c\\uc784\", \"\\uc778\\ub825_\\uc591\\uc131\", \"\\uc778\\uc0ac\", \"\\uc778\\uc0ac\", \"\\uc778\\uc0ac\", \"\\uc778\\uc0ac\", \"\\uc778\\uc7ac_\\uc591\\uc131\", \"\\uc778\\uc7ac_\\uc721\\uc131\", \"\\uc778\\uc99d\", \"\\uc778\\uc99d\", \"\\uc778\\uc99d\", \"\\uc778\\ud130_\\ub799\\ud2f0\\ube0c\", \"\\uc778\\ud50c\\ub808\\uc774\\uc158\", \"\\uc77c\", \"\\uc77c\", \"\\uc77c\", \"\\uc77c\", \"\\uc77c\", \"\\uc77c\", \"\\uc77c\", \"\\uc77c\", \"\\uc77c\\ub9ac_\\uae40\\ub3c4\\ud604\", \"\\uc77c\\ubcf8\", \"\\uc77c\\ubcf8\", \"\\uc77c\\ubcf8\", \"\\uc77c\\ubcf8\", \"\\uc77c\\ubcf8\", \"\\uc77c\\ubcf8\", \"\\uc77c\\ubd80\", \"\\uc77c\\ubd80\", \"\\uc77c\\ubd80\", \"\\uc77c\\ubd80\", \"\\uc77c\\ubd80\", \"\\uc77c\\ubd80\", \"\\uc77c\\ubd80\", \"\\uc784\", \"\\uc784\", \"\\uc784\", \"\\uc784\", \"\\uc784\", \"\\uc784\", \"\\uc784_\\uc9c1\\uc6d0\", \"\\uc784_\\uc9c1\\uc6d0\", \"\\uc784_\\uc9c1\\uc6d0\", \"\\uc784\\uc6d0\", \"\\uc784\\uc6d0\", \"\\uc784\\uc6d0\", \"\\uc785\\ub2c8\\ub2e4\", \"\\uc785\\ubc95_\\uc608\\uace0\", \"\\uc788\\uc2b5\\ub2c8\\ub2e4\", \"\\uc790\\ub3d9\", \"\\uc790\\ub3d9\", \"\\uc790\\ub3d9\", \"\\uc790\\uc5f0\\uc2a4\\ub7ec\\uc6b4_\\ub300\\ud654\", \"\\uc790\\uc6d0\\ubd80\", \"\\uc790\\uc6d0\\ubd80\", \"\\uc790\\uc728_\\uc8fc\\ud589\", \"\\uc790\\uc728_\\uc8fc\\ud589\", \"\\uc791\\ud488\", \"\\uc791\\ud488\", \"\\uc791\\ud488\", \"\\uc791\\ud488\", \"\\uc7ac\\ub09c\", \"\\uc7ac\\ud0dd\\uadfc\\ubb34\", \"\\uc801\\ub9bd\", \"\\uc801\\uc6a9\", \"\\uc801\\uc6a9\", \"\\uc801\\uc6a9\", \"\\uc801\\uc6a9\", \"\\uc801\\uc6a9\", \"\\uc801\\uc6a9\", \"\\uc801\\uc790\", \"\\uc804\", \"\\uc804\", \"\\uc804\", \"\\uc804\", \"\\uc804\", \"\\uc804\", \"\\uc804\", \"\\uc804\", \"\\uc804\", \"\\uc804\", \"\\uc804\\uae30\\ucc28\", \"\\uc804\\uae30\\ucc28\", \"\\uc804\\uae30\\ucc28_\\ucda9\\uc804\", \"\\uc804\\ub7b5\", \"\\uc804\\ub7b5\", \"\\uc804\\ub7b5\", \"\\uc804\\ub7b5\", \"\\uc804\\ub7b5\", \"\\uc804\\ub7b5\", \"\\uc804\\ub7b5\", \"\\uc804\\ub7b5\", \"\\uc804\\ub9dd\", \"\\uc804\\ub9dd\", \"\\uc804\\ub9dd\", \"\\uc804\\ub9dd\", \"\\uc804\\ub9dd\", \"\\uc804\\ub9dd\", \"\\uc804\\ub9dd\", \"\\uc804\\uc2dc\", \"\\uc804\\uc2dc\", \"\\uc804\\uc2dc\\uad00\", \"\\uc804\\uc2dc\\uc7a5\", \"\\uc804\\uc2dc\\uc7a5\", \"\\uc804\\uc790\", \"\\uc804\\uc790\", \"\\uc804\\uc790\", \"\\uc804\\uc790\", \"\\uc804\\uc790\\ubb38\\uc11c\", \"\\uc804\\uc791\", \"\\uc804\\ud654\", \"\\uc804\\ud654\", \"\\uc804\\ud654\", \"\\uc804\\ud654\\ubc88\\ud638\", \"\\uc810\\uc720_\\uc728\", \"\\uc810\\uc720_\\uc728\", \"\\uc810\\uc720_\\uc728\", \"\\uc815\\uae30_\\uc8fc\\uc8fc\\ucd1d\\ud68c\", \"\\uc815\\ub3c4\", \"\\uc815\\ub3c4\", \"\\uc815\\ub3c4\", \"\\uc815\\ub3c4\", \"\\uc815\\ub3c4\", \"\\uc815\\ubcf4\", \"\\uc815\\ubcf4\", \"\\uc815\\ubcf4\", \"\\uc815\\ubcf4\", \"\\uc815\\ubcf4\", \"\\uc815\\ubcf4\", \"\\uc815\\ubcf4\\ubcf4\\ud638\", \"\\uc815\\ubd80\", \"\\uc815\\ubd80\", \"\\uc815\\ubd80\", \"\\uc815\\ubd80\", \"\\uc815\\ubd80\", \"\\uc815\\ubd80\", \"\\uc81c\\uacf5\", \"\\uc81c\\uacf5\", \"\\uc81c\\uacf5\", \"\\uc81c\\uacf5\", \"\\uc81c\\uacf5\", \"\\uc81c\\uacf5\", \"\\uc81c\\ub3c4\", \"\\uc81c\\ub3c4\", \"\\uc81c\\ub3c4\", \"\\uc81c\\ub3c4\", \"\\uc81c\\ub3c4\", \"\\uc81c\\uc791\", \"\\uc81c\\uc791\", \"\\uc81c\\uc791\", \"\\uc81c\\uc791\", \"\\uc81c\\uc791\", \"\\uc81c\\ud488\", \"\\uc81c\\ud488\", \"\\uc81c\\ud488\", \"\\uc81c\\ud488\", \"\\uc81c\\ud488\", \"\\uc81c\\ud488\", \"\\uc81c\\ud488\", \"\\uc8fc\\ubbfc\", \"\\uc8fc\\ubbfc\", \"\\uc8fc\\ubbfc\", \"\\uc8fc\\uc7a5\", \"\\uc8fc\\uc7a5\", \"\\uc8fc\\uc8fc\", \"\\uc8fc\\uc8fc\", \"\\uc911\", \"\\uc911\", \"\\uc911\", \"\\uc911\", \"\\uc911\", \"\\uc911\", \"\\uc911\", \"\\uc911\", \"\\uc911\", \"\\uc911\", \"\\uc911\\uad6d\", \"\\uc911\\uad6d\", \"\\uc99d\\uac00\", \"\\uc99d\\uac00\", \"\\uc99d\\uac00\", \"\\uc99d\\uac00\", \"\\uc99d\\uac10\", \"\\uc99d\\uad8c\", \"\\uc99d\\uad8c\", \"\\uc99d\\uc0c1\", \"\\uc99d\\uc815\", \"\\uc9c0\\ub09c\\ud574\", \"\\uc9c0\\ub09c\\ud574\", \"\\uc9c0\\ub09c\\ud574\", \"\\uc9c0\\ub09c\\ud574\", \"\\uc9c0\\ub09c\\ud574\", \"\\uc9c0\\ub09c\\ud574\", \"\\uc9c0\\ub09c\\ud574\", \"\\uc9c0\\ub09c\\ud574\", \"\\uc9c0\\ub09c\\ud574\", \"\\uc9c0\\ub09c\\ud574_4\\ubd84\", \"\\uc9c0\\ub2c8_\\ubc84\\uc2a4\", \"\\uc9c0\\ubc30\\uad6c\\uc870\", \"\\uc9c0\\uc5ed\", \"\\uc9c0\\uc5ed\", \"\\uc9c0\\uc5ed\", \"\\uc9c0\\uc5ed\", \"\\uc9c0\\uc5ed\", \"\\uc9c0\\uc5ed\", \"\\uc9c0\\uc5ed\", \"\\uc9c0\\uc6d0\", \"\\uc9c0\\uc6d0\", \"\\uc9c0\\uc6d0\", \"\\uc9c0\\uc6d0\", \"\\uc9c0\\uc6d0\", \"\\uc9c0\\uc6d0\", \"\\uc9c0\\uc6d0\", \"\\uc9c0\\uc801\", \"\\uc9c0\\uc801\", \"\\uc9c0\\uc801\", \"\\uc9c0\\uc801\", \"\\uc9c0\\uc801\", \"\\uc9c1\\uc6d0\", \"\\uc9c1\\uc6d0\", \"\\uc9c1\\uc6d0\", \"\\uc9c1\\uc6d0\", \"\\uc9c1\\uc6d0\", \"\\uc9c4\\ub8cc\", \"\\uc9c4\\ud589\", \"\\uc9c4\\ud589\", \"\\uc9c4\\ud589\", \"\\uc9c4\\ud589\", \"\\uc9c4\\ud589\", \"\\uc9c4\\ud589\", \"\\uc9c4\\ud589\", \"\\uc9c4\\ud589\", \"\\uc9c4\\ud589\", \"\\uc9c4\\ud589\", \"\\uc9c4\\ud765_KISA\", \"\\uc9c8\\ubb38\", \"\\uc9c8\\ubb38\", \"\\uc9c8\\ubcd1\", \"\\uc9c8\\ud658\", \"\\ucc28\\uae30_\\ub300\\ud45c\", \"\\ucc28\\uae30_\\ub300\\ud45c\\uc774\\uc0ac\", \"\\ucc38\\uc5ec\", \"\\ucc38\\uc5ec\", \"\\ucc38\\uc5ec\", \"\\ucc38\\uc5ec\", \"\\ucc38\\uc5ec\", \"\\ucc38\\uc5ec\", \"\\ucc3d\\uc5c5\", \"\\ucc3d\\uc5c5\", \"\\ucc3d\\uc5c5\", \"\\ucc3d\\uc5c5\", \"\\ucc3d\\uc5c5\", \"\\ucc57_GPT\", \"\\ucc57\\ubd07\", \"\\ucca8\\ub2e8\", \"\\ucca8\\ub2e8\", \"\\ucca8\\ub2e8_\\uc0b0\\uc5c5\", \"\\uccad\\ub144\", \"\\uccad\\ub144\", \"\\uccb4\\uacb0_\\ud588\\ub2e4\\uace0\", \"\\uccb4\\ud06c\\uce74\\ub4dc\", \"\\ucd08_\\uac70\\ub300\", \"\\ucd08\\ub300_\\uaddc\\ubaa8\", \"\\ucd1d\", \"\\ucd1d\", \"\\ucd1d\", \"\\ucd1d\", \"\\ucd1d\", \"\\ucd1d\", \"\\ucd1d\", \"\\ucd1d\", \"\\ucd1d\", \"\\ucd5c\\uadfc\", \"\\ucd5c\\uadfc\", \"\\ucd5c\\uadfc\", \"\\ucd5c\\uadfc\", \"\\ucd5c\\uadfc\", \"\\ucd5c\\uadfc\", \"\\ucd5c\\uadfc\", \"\\ucd5c\\uadfc\", \"\\ucd5c\\uadfc\", \"\\ucd5c\\uadfc\", \"\\ucd5c\\ub300\", \"\\ucd5c\\ub300\", \"\\ucd5c\\ub300\", \"\\ucd5c\\ub300\", \"\\ucd5c\\ub300\", \"\\ucd5c\\ub300\", \"\\ucd5c\\ub300\", \"\\ucd5c\\ub300\", \"\\ucd5c\\ub300\", \"\\ucd5c\\ub300\", \"\\ucd5c\\ub300_\\uc8fc\\uc8fc\", \"\\ucd5c\\ub300_\\uc8fc\\uc8fc\", \"\\ucd5c\\uc885_\\ud6c4\\ubcf4\", \"\\ucd94\\ub860\", \"\\ucd94\\uc9c4\", \"\\ucd94\\uc9c4\", \"\\ucd94\\uc9c4\", \"\\ucd94\\uc9c4\", \"\\ucd94\\uc9c4\", \"\\ucd94\\uc9c4\", \"\\ucd94\\ucca8\", \"\\ucd9c_\\ud558\\ub7c9\", \"\\ucd9c\\uc2dc\", \"\\ucd9c\\uc2dc\", \"\\ucd9c\\uc2dc\", \"\\ucd9c\\uc2dc\", \"\\ucd9c\\uc2dc\", \"\\ucd9c\\uc2dc\", \"\\ucd9c\\uc2dc\", \"\\ucde8\\ud5a5\", \"\\uce58\\ub8cc\", \"\\uce58\\ub8cc_\\uc81c\", \"\\uce58\\ub9e4\", \"\\uce74\\uba54\\ub77c\", \"\\uce74\\uba54\\ub77c\", \"\\uce74\\uba54\\ub77c\", \"\\uce74\\uce74\\uc624\", \"\\uce74\\uce74\\uc624\", \"\\uce74\\uce74\\uc624\", \"\\uce74\\uce74\\uc624\", \"\\uce74\\uce74\\uc624_SM\", \"\\uce74\\uce74\\uc624_T\", \"\\uce74\\uce74\\uc624_\\ubaa8\\ube4c\\ub9ac\\ud2f0\", \"\\uce74\\uce74\\uc624_\\ubaa8\\ube4c\\ub9ac\\ud2f0\", \"\\uce74\\uce74\\uc624_\\ube0c\\ub808\\uc778\", \"\\uce74\\uce74\\uc624_\\uc5d4\\ud130\\ud14c\\uc778\\uba3c\\ud2b8\", \"\\uce74\\uce74\\uc624_\\ud130\", \"\\uce74\\uce74\\uc624_\\ud1a1\", \"\\uce74\\uce74\\uc624_\\ud1a1\", \"\\uce74\\uce74\\uc624_\\ud1a1\", \"\\uce74\\uce74\\uc624_\\ud1a1\", \"\\uce74\\uce74\\uc624_\\ud1a1\", \"\\uce74\\uce74\\uc624_\\ud1a1\", \"\\uce74\\uce74\\uc624_\\ud398\\uc774\", \"\\uce74\\uce74\\uc624_\\ud5ec\", \"\\ucee4\\uba38\\uc2a4\", \"\\ucee4\\uba38\\uc2a4\", \"\\ucee8\\uc18c\\uc2dc\\uc5c4\", \"\\uceec\\ub7ec\", \"\\ucef4\\ud22c\\uc2a4\", \"\\ucef4\\ud37c\\ub2c8\", \"\\ucef4\\ud37c\\ub2c8\", \"\\ucf54_GPT\", \"\\ucf54\\uc778\", \"\\ucf58\\ud150\\uce20\", \"\\ucf58\\ud150\\uce20\", \"\\ucf58\\ud150\\uce20\", \"\\ucf58\\ud150\\uce20\", \"\\ucf58\\ud150\\uce20_\\uc81c\\uc791\", \"\\ucf58\\ud150\\uce20_\\uc81c\\uc791\", \"\\ucf58\\ud150\\uce20_\\uc81c\\uc791\", \"\\ud004\\ucef4\", \"\\ud004\\ucef4\", \"\\ud035\", \"\\ud050\\ube44\\ud2b8\", \"\\ud06c\\ub9ac\\uc5d0\\uc774\\ud130\", \"\\ud06c\\ub9ac\\uc5d0\\uc774\\ud130\", \"\\ud074\\ub77c\\uc6b0\\ub4dc\", \"\\ud074\\ub77c\\uc6b0\\ub4dc\", \"\\ud074\\ub77c\\uc6b0\\ub4dc\", \"\\ud074\\ub77c\\uc6b0\\ub4dc\", \"\\ud074\\ub808\\uc774\", \"\\ud074\\ub808\\uc774\\ud2bc\", \"\\ud0a4_\\ubcf4\\ub4dc\", \"\\ud0a4_\\uc624\\uc2a4\", \"\\ud0c4\\uc18c_\\uc911\\ub9bd\", \"\\ud0c8_\\uc911\\uc559\", \"\\ud0d1\\uc7ac\", \"\\ud0d1\\uc7ac\", \"\\ud0d1\\uc7ac\", \"\\ud14d\\uc2a4\\ud2b8\", \"\\ud1a0\\ud070_\\uc99d\\uad8c\", \"\\ud1b5\\uc2e0\", \"\\ud1b5\\uc2e0\", \"\\ud1b5\\uc2e0\", \"\\ud1b5\\uc2e0\", \"\\ud1b5\\uc2e0\", \"\\ud1b5\\uc2e0\", \"\\ud1b5\\uc2e0_3\", \"\\ud22c\\uc790\", \"\\ud22c\\uc790\", \"\\ud22c\\uc790\", \"\\ud22c\\uc790\", \"\\ud22c\\uc790\", \"\\ud22c\\uc790\", \"\\ud22c\\uc790\", \"\\ud22c\\uc790\", \"\\ud2b8\\ub9ad\", \"\\ud2b8\\uc704\\ud130\", \"\\ud2f0\\ub9f5_\\ubaa8\\ube4c\\ub9ac\\ud2f0\", \"\\ud2f0\\ube59\", \"\\ud2f0\\ube59\", \"\\ud2f1\\ud1a1\", \"\\ud300\", \"\\ud300\", \"\\ud300\", \"\\ud300\", \"\\ud300\", \"\\ud300\", \"\\ud300\", \"\\ud300\", \"\\ud30c\\uc6b4\\ub4dc\\ub9ac\", \"\\ud30c\\uc6b4\\ub4dc\\ub9ac\", \"\\ud30c\\uc77c\", \"\\ud30c\\uc77c\", \"\\ud30c\\uc77c\", \"\\ud30c\\ud2b8\\ub108\", \"\\ud30c\\ud2b8\\ub108\", \"\\ud30c\\ud2b8\\ub108\", \"\\ud30c\\ud2b8\\ub108\", \"\\ud30c\\ud2b8\\ub108\", \"\\ud30c\\ud2b8\\ub108\", \"\\ud310\\uacb0\", \"\\ud310\\uacb0\", \"\\ud32c\", \"\\ud32c\", \"\\ud32c\", \"\\ud32c\\ub364_\\ud50c\\ub7ab\\ud3fc\", \"\\ud339\\ub9ac\\uc2a4\", \"\\ud380\\ub529\", \"\\ud398\\uc774\\uc2a4\\ubd81\", \"\\ud398\\uc774\\uc2a4\\ubd81\", \"\\ud3ec\\ub4dc\", \"\\ud3f0\", \"\\ud3f4_\\ub354\\ube14\", \"\\ud504\\ub85c\", \"\\ud504\\ub85c\", \"\\ud504\\ub85c\", \"\\ud504\\ub85c\\uadf8\\ub7a8\", \"\\ud504\\ub85c\\uadf8\\ub7a8\", \"\\ud504\\ub85c\\uadf8\\ub7a8\", \"\\ud504\\ub85c\\uadf8\\ub7a8\", \"\\ud504\\ub85c\\uadf8\\ub7a8\", \"\\ud504\\ub85c\\uadf8\\ub7a8\", \"\\ud504\\ub85c\\uadf8\\ub7a8\", \"\\ud504\\ub85c\\uadf8\\ub7a8\", \"\\ud504\\ub86c_\\ud504\\ud2b8\", \"\\ud50c\\ub7ab\\ud3fc\", \"\\ud50c\\ub7ab\\ud3fc\", \"\\ud50c\\ub7ab\\ud3fc\", \"\\ud50c\\ub7ab\\ud3fc\", \"\\ud50c\\ub7ab\\ud3fc\", \"\\ud50c\\ub7ab\\ud3fc\", \"\\ud50c\\ub7ab\\ud3fc\", \"\\ud53c\\uc628\", \"\\ud558\\ub77d\", \"\\ud558\\ub77d\", \"\\ud558\\uba70\", \"\\ud558\\uba70\", \"\\ud558\\uba70\", \"\\ud558\\uba70\", \"\\ud558\\uba70\", \"\\ud558\\uba70\", \"\\ud558\\uba70\", \"\\ud558\\uba70\", \"\\ud558\\uba70\", \"\\ud558\\uba70\", \"\\ud558\\uba74\", \"\\ud558\\uba74\", \"\\ud558\\uba74\", \"\\ud558\\uba74\", \"\\ud558\\uba74\", \"\\ud558\\uba74\", \"\\ud558\\uba74\", \"\\ud558\\uc774\\ube0c\", \"\\ud558\\uc774\\ube0c_SM\", \"\\ud558\\uc774\\ud37c_\\ud074\\ub85c\", \"\\ud559\\uacfc\", \"\\ud559\\uc2b5\", \"\\ud55c\", \"\\ud55c\", \"\\ud55c\", \"\\ud55c\", \"\\ud55c\", \"\\ud55c\", \"\\ud55c\", \"\\ud55c\", \"\\ud55c\", \"\\ud55c\", \"\\ud55c\\uad6d\", \"\\ud55c\\uad6d\", \"\\ud55c\\uad6d\", \"\\ud55c\\uad6d\", \"\\ud55c\\uad6d\", \"\\ud55c\\uad6d\", \"\\ud55c\\uad6d\", \"\\ud55c\\uad6d\", \"\\ud55c\\uad6d\\uc5b4\", \"\\ud55c\\ucef4\", \"\\ud560\", \"\\ud560\", \"\\ud560\", \"\\ud560\", \"\\ud560\", \"\\ud560\", \"\\ud560\", \"\\ud560\", \"\\ud560\", \"\\ud560\", \"\\ud560_\\uc218\", \"\\ud560_\\uc218\", \"\\ud560_\\uc218\", \"\\ud560_\\uc218\", \"\\ud560_\\uc218\", \"\\ud560_\\uc218\", \"\\ud560_\\uc218\", \"\\ud560_\\uc218\", \"\\ud560_\\uc218\", \"\\ud560_\\uc218\", \"\\ud569\\ub2c8\\ub2e4\", \"\\ud56d\\uccb4\", \"\\ud574\", \"\\ud574\", \"\\ud574\", \"\\ud574\", \"\\ud574\", \"\\ud574\", \"\\ud574\", \"\\ud574\", \"\\ud574\", \"\\ud574\", \"\\ud574\\uace0\", \"\\ud574\\ub2f9\", \"\\ud574\\ub2f9\", \"\\ud574\\ub2f9\", \"\\ud574\\ub2f9\", \"\\ud574\\ub2f9\", \"\\ud574\\ub2f9\", \"\\ud574\\ub2f9\", \"\\ud574\\ub2f9\", \"\\ud574\\ub2f9\", \"\\ud574\\ub2f9\", \"\\ud574\\uc57c\", \"\\ud574\\uc57c\", \"\\ud574\\uc57c\", \"\\ud574\\uc57c\", \"\\ud574\\uc57c\", \"\\ud574\\uc57c\", \"\\ud575\\uc2ec\", \"\\ud575\\uc2ec\", \"\\ud575\\uc2ec\", \"\\ud575\\uc2ec\", \"\\ud575\\uc2ec\", \"\\ud575\\uc2ec\", \"\\ud575\\uc2ec\", \"\\ud575\\uc2ec\", \"\\ud575\\uc2ec\", \"\\ud588\\uc2b5\\ub2c8\\ub2e4\", \"\\ud601\\uc2e0\", \"\\ud601\\uc2e0\", \"\\ud601\\uc2e0\", \"\\ud601\\uc2e0\", \"\\ud601\\uc2e0\", \"\\ud601\\uc2e0\", \"\\ud601\\uc2e0\", \"\\ud601\\uc2e0\", \"\\ud604\\ubaa8_\\ub300\\ud45c\", \"\\ud604\\ud589\", \"\\ud611\\ub825\", \"\\ud611\\ub825\", \"\\ud611\\ub825\", \"\\ud611\\ub825\", \"\\ud611\\ub825\", \"\\ud611\\ub825\", \"\\ud611\\ub825\", \"\\ud611\\uc0c1\", \"\\ud611\\uc0c1\", \"\\ud611\\uc0c1\", \"\\ud611\\uc5c5\", \"\\ud611\\uc5c5\", \"\\ud611\\uc5c5\", \"\\ud611\\uc5c5\", \"\\ud611\\uc5c5\", \"\\ud611\\uc5c5\", \"\\ud648\\uc1fc\\ud551\", \"\\ud648\\uc1fc\\ud551\", \"\\ud648\\uc1fc\\ud551\", \"\\ud654\\uba74\", \"\\ud654\\uba74\", \"\\ud654\\uba74\", \"\\ud654\\uba74\", \"\\ud654\\uba74\", \"\\ud654\\uc6e8\\uc774\", \"\\ud654\\uc6e8\\uc774\", \"\\ud654\\uc9c8\", \"\\ud655\\uc778\", \"\\ud655\\uc778\", \"\\ud655\\uc778\", \"\\ud655\\uc778\", \"\\ud655\\uc778\", \"\\ud655\\uc778\", \"\\ud655\\uc7a5\", \"\\ud655\\uc7a5\", \"\\ud655\\uc7a5\", \"\\ud655\\uc7a5\", \"\\ud655\\uc7a5\", \"\\ud655\\uc7a5\", \"\\ud655\\uc7a5\", \"\\ud655\\uc7a5\", \"\\ud658\\uc790\", \"\\ud65c\\uc6a9\", \"\\ud65c\\uc6a9\", \"\\ud65c\\uc6a9\", \"\\ud65c\\uc6a9\", \"\\ud65c\\uc6a9\", \"\\ud65c\\uc6a9\", \"\\ud65c\\uc6a9\", \"\\ud669_\\ub300\\ud45c\", \"\\ud68c\\uc0ac\", \"\\ud68c\\uc0ac\", \"\\ud68c\\uc0ac\", \"\\ud68c\\uc0ac\", \"\\ud68c\\uc0ac\", \"\\ud68c\\uc0ac\", \"\\ud68c\\uc0ac\", \"\\ud68c\\uc0ac\", \"\\ud68c\\uc0ac\", \"\\ud68c\\uc7a5\", \"\\ud68c\\uc7a5\", \"\\ud68c\\uc7a5\", \"\\ud68c\\uc7a5\", \"\\ud68c\\uc7a5\", \"\\ud6a8\\uacfc\", \"\\ud6a8\\uacfc\", \"\\ud6a8\\uacfc\", \"\\ud6a8\\uacfc\", \"\\ud6a8\\uacfc\", \"\\ud6a8\\uacfc\", \"\\ud6a8\\uacfc\", \"\\ud6a8\\uacfc\", \"\\ud6a8\\uacfc\", \"\\ud6c4\\ubcf4\", \"\\ud6c4\\ubcf4\", \"\\ud6c4\\ubcf4\", \"\\ud6c4\\ubcf4\\uc790\"]}, \"R\": 30, \"lambda.step\": 0.01, \"plot.opts\": {\"xlab\": \"PC1\", \"ylab\": \"PC2\"}, \"topic.order\": [1, 5, 7, 3, 9, 6, 10, 4, 8, 2]};\n",
              "\n",
              "function LDAvis_load_lib(url, callback){\n",
              "  var s = document.createElement('script');\n",
              "  s.src = url;\n",
              "  s.async = true;\n",
              "  s.onreadystatechange = s.onload = callback;\n",
              "  s.onerror = function(){console.warn(\"failed to load library \" + url);};\n",
              "  document.getElementsByTagName(\"head\")[0].appendChild(s);\n",
              "}\n",
              "\n",
              "if(typeof(LDAvis) !== \"undefined\"){\n",
              "   // already loaded: just create the visualization\n",
              "   !function(LDAvis){\n",
              "       new LDAvis(\"#\" + \"ldavis_el1000061404677908500802145296464\", ldavis_el1000061404677908500802145296464_data);\n",
              "   }(LDAvis);\n",
              "}else if(typeof define === \"function\" && define.amd){\n",
              "   // require.js is available: use it to load d3/LDAvis\n",
              "   require.config({paths: {d3: \"https://d3js.org/d3.v5\"}});\n",
              "   require([\"d3\"], function(d3){\n",
              "      window.d3 = d3;\n",
              "      LDAvis_load_lib(\"https://cdn.jsdelivr.net/gh/bmabey/pyLDAvis@3.4.0/pyLDAvis/js/ldavis.v3.0.0.js\", function(){\n",
              "        new LDAvis(\"#\" + \"ldavis_el1000061404677908500802145296464\", ldavis_el1000061404677908500802145296464_data);\n",
              "      });\n",
              "    });\n",
              "}else{\n",
              "    // require.js not available: dynamically load d3 & LDAvis\n",
              "    LDAvis_load_lib(\"https://d3js.org/d3.v5.js\", function(){\n",
              "         LDAvis_load_lib(\"https://cdn.jsdelivr.net/gh/bmabey/pyLDAvis@3.4.0/pyLDAvis/js/ldavis.v3.0.0.js\", function(){\n",
              "                 new LDAvis(\"#\" + \"ldavis_el1000061404677908500802145296464\", ldavis_el1000061404677908500802145296464_data);\n",
              "            })\n",
              "         });\n",
              "}\n",
              "</script>"
            ]
          },
          "metadata": {},
          "execution_count": 36
        }
      ]
    },
    {
      "cell_type": "markdown",
      "source": [
        "## 문서별 토픽 할당"
      ],
      "metadata": {
        "id": "T1bvvHZOHABQ"
      }
    },
    {
      "cell_type": "code",
      "source": [
        "doc_per_topic_list = []\n",
        "\n",
        "for n in range(len(corpus)):\n",
        "    doc_topic = ldamodel[corpus[n]]\n",
        "    doc_topic = sorted(doc_topic, key=lambda x: (x[1]), reverse=True)\n",
        "    topic_most_pr = doc_topic[0][0]\n",
        "    topic_pr = doc_topic[0][1]\n",
        "    doc_per_topic_list.append([n, topic_most_pr, topic_pr])\n",
        "    \n",
        "doc_topic_df = pd.DataFrame(doc_per_topic_list, columns=['Doc_Num', 'Topic', 'Percentage'])\n",
        "\n",
        "# 실제 review 내용과 join\n",
        "doc_topic_df = doc_topic_df.join(news)  \n",
        "\n",
        "doc_topic_df.head()"
      ],
      "metadata": {
        "colab": {
          "base_uri": "https://localhost:8080/",
          "height": 445
        },
        "id": "YLlJd_lkFyPA",
        "outputId": "618d6e90-d3c9-4d83-bf32-5c148de661c6"
      },
      "execution_count": 37,
      "outputs": [
        {
          "output_type": "stream",
          "name": "stderr",
          "text": [
            "/usr/local/lib/python3.9/dist-packages/ipykernel/ipkernel.py:283: DeprecationWarning: `should_run_async` will not call `transform_cell` automatically in the future. Please pass the result to `transformed_cell` argument and any exception that happen during thetransform in `preprocessing_exc_tuple` in IPython 7.17 and above.\n",
            "  and should_run_async(code)\n"
          ]
        },
        {
          "output_type": "execute_result",
          "data": {
            "text/plain": [
              "   Doc_Num  Topic  Percentage  news_id                               title  \\\n",
              "0        0      0    0.476281   346630  정부, '우주항공청' 연내 개청…백지신탁 예외 등 특혜 쏟는다   \n",
              "1        1      0    0.405812   346633        우주항공청 전문가 영입 `연봉 10억·외국인 허용`   \n",
              "2        2      8    0.601316   347804   박정호의 투자유치 '매직'…\"SK쉴더스 IPO보다 더 이득\"   \n",
              "3        3      3    0.481386   347806       글·그림·로고 제작·번역...인공지능에 다 맡겨 보니   \n",
              "4        4      8    0.587245   347807       LG엔솔-혼다, 美 배터리 공장 '첫삽'…기공식 개최   \n",
              "\n",
              "  writer                                            content  \\\n",
              "0    NaN  \\n [서울=뉴시스] 정부가 올해 중 우리나라의 우주항공 분야 연구개발(R&D)을 ...   \n",
              "1    이준기  \\n '한국형 NASA(미 항공우주국)'로 출범하는 우주항공청이 최고의 민간 전문가...   \n",
              "2    선한결  \\n \"SK쉴더스의 기업공개(IPO)를 철회해서 아쉬웠는데, IPO보다 더 높은 가...   \n",
              "3    NaN  \\n 최근 텍스트 생성 인공지능(AI) 챗봇 챗GPT(ChatGPT)를 이용해 만든...   \n",
              "4    이한얼  \\n LG에너지솔루션은 28일(현지시간) 오하이오 주 파이에트 카운티 제퍼슨빌 인근...   \n",
              "\n",
              "             writed_at  url main_category sub_category platform  \n",
              "0  2023-03-02 00:00:00  NaN         IT/과학        IT 일반      네이버  \n",
              "1  2023-03-02 00:00:00  NaN         IT/과학        IT 일반      네이버  \n",
              "2  2023-03-01 18:03:05  NaN         IT/과학        IT 일반      네이버  \n",
              "3  2023-03-01 18:02:03  NaN         IT/과학        IT 일반      네이버  \n",
              "4  2023-03-01 18:26:01  NaN         IT/과학        IT 일반      네이버  "
            ],
            "text/html": [
              "\n",
              "  <div id=\"df-a2809942-1ed2-4b58-bd30-bf6695a40610\">\n",
              "    <div class=\"colab-df-container\">\n",
              "      <div>\n",
              "<style scoped>\n",
              "    .dataframe tbody tr th:only-of-type {\n",
              "        vertical-align: middle;\n",
              "    }\n",
              "\n",
              "    .dataframe tbody tr th {\n",
              "        vertical-align: top;\n",
              "    }\n",
              "\n",
              "    .dataframe thead th {\n",
              "        text-align: right;\n",
              "    }\n",
              "</style>\n",
              "<table border=\"1\" class=\"dataframe\">\n",
              "  <thead>\n",
              "    <tr style=\"text-align: right;\">\n",
              "      <th></th>\n",
              "      <th>Doc_Num</th>\n",
              "      <th>Topic</th>\n",
              "      <th>Percentage</th>\n",
              "      <th>news_id</th>\n",
              "      <th>title</th>\n",
              "      <th>writer</th>\n",
              "      <th>content</th>\n",
              "      <th>writed_at</th>\n",
              "      <th>url</th>\n",
              "      <th>main_category</th>\n",
              "      <th>sub_category</th>\n",
              "      <th>platform</th>\n",
              "    </tr>\n",
              "  </thead>\n",
              "  <tbody>\n",
              "    <tr>\n",
              "      <th>0</th>\n",
              "      <td>0</td>\n",
              "      <td>0</td>\n",
              "      <td>0.476281</td>\n",
              "      <td>346630</td>\n",
              "      <td>정부, '우주항공청' 연내 개청…백지신탁 예외 등 특혜 쏟는다</td>\n",
              "      <td>NaN</td>\n",
              "      <td>\\n [서울=뉴시스] 정부가 올해 중 우리나라의 우주항공 분야 연구개발(R&amp;D)을 ...</td>\n",
              "      <td>2023-03-02 00:00:00</td>\n",
              "      <td>NaN</td>\n",
              "      <td>IT/과학</td>\n",
              "      <td>IT 일반</td>\n",
              "      <td>네이버</td>\n",
              "    </tr>\n",
              "    <tr>\n",
              "      <th>1</th>\n",
              "      <td>1</td>\n",
              "      <td>0</td>\n",
              "      <td>0.405812</td>\n",
              "      <td>346633</td>\n",
              "      <td>우주항공청 전문가 영입 `연봉 10억·외국인 허용`</td>\n",
              "      <td>이준기</td>\n",
              "      <td>\\n '한국형 NASA(미 항공우주국)'로 출범하는 우주항공청이 최고의 민간 전문가...</td>\n",
              "      <td>2023-03-02 00:00:00</td>\n",
              "      <td>NaN</td>\n",
              "      <td>IT/과학</td>\n",
              "      <td>IT 일반</td>\n",
              "      <td>네이버</td>\n",
              "    </tr>\n",
              "    <tr>\n",
              "      <th>2</th>\n",
              "      <td>2</td>\n",
              "      <td>8</td>\n",
              "      <td>0.601316</td>\n",
              "      <td>347804</td>\n",
              "      <td>박정호의 투자유치 '매직'…\"SK쉴더스 IPO보다 더 이득\"</td>\n",
              "      <td>선한결</td>\n",
              "      <td>\\n \"SK쉴더스의 기업공개(IPO)를 철회해서 아쉬웠는데, IPO보다 더 높은 가...</td>\n",
              "      <td>2023-03-01 18:03:05</td>\n",
              "      <td>NaN</td>\n",
              "      <td>IT/과학</td>\n",
              "      <td>IT 일반</td>\n",
              "      <td>네이버</td>\n",
              "    </tr>\n",
              "    <tr>\n",
              "      <th>3</th>\n",
              "      <td>3</td>\n",
              "      <td>3</td>\n",
              "      <td>0.481386</td>\n",
              "      <td>347806</td>\n",
              "      <td>글·그림·로고 제작·번역...인공지능에 다 맡겨 보니</td>\n",
              "      <td>NaN</td>\n",
              "      <td>\\n 최근 텍스트 생성 인공지능(AI) 챗봇 챗GPT(ChatGPT)를 이용해 만든...</td>\n",
              "      <td>2023-03-01 18:02:03</td>\n",
              "      <td>NaN</td>\n",
              "      <td>IT/과학</td>\n",
              "      <td>IT 일반</td>\n",
              "      <td>네이버</td>\n",
              "    </tr>\n",
              "    <tr>\n",
              "      <th>4</th>\n",
              "      <td>4</td>\n",
              "      <td>8</td>\n",
              "      <td>0.587245</td>\n",
              "      <td>347807</td>\n",
              "      <td>LG엔솔-혼다, 美 배터리 공장 '첫삽'…기공식 개최</td>\n",
              "      <td>이한얼</td>\n",
              "      <td>\\n LG에너지솔루션은 28일(현지시간) 오하이오 주 파이에트 카운티 제퍼슨빌 인근...</td>\n",
              "      <td>2023-03-01 18:26:01</td>\n",
              "      <td>NaN</td>\n",
              "      <td>IT/과학</td>\n",
              "      <td>IT 일반</td>\n",
              "      <td>네이버</td>\n",
              "    </tr>\n",
              "  </tbody>\n",
              "</table>\n",
              "</div>\n",
              "      <button class=\"colab-df-convert\" onclick=\"convertToInteractive('df-a2809942-1ed2-4b58-bd30-bf6695a40610')\"\n",
              "              title=\"Convert this dataframe to an interactive table.\"\n",
              "              style=\"display:none;\">\n",
              "        \n",
              "  <svg xmlns=\"http://www.w3.org/2000/svg\" height=\"24px\"viewBox=\"0 0 24 24\"\n",
              "       width=\"24px\">\n",
              "    <path d=\"M0 0h24v24H0V0z\" fill=\"none\"/>\n",
              "    <path d=\"M18.56 5.44l.94 2.06.94-2.06 2.06-.94-2.06-.94-.94-2.06-.94 2.06-2.06.94zm-11 1L8.5 8.5l.94-2.06 2.06-.94-2.06-.94L8.5 2.5l-.94 2.06-2.06.94zm10 10l.94 2.06.94-2.06 2.06-.94-2.06-.94-.94-2.06-.94 2.06-2.06.94z\"/><path d=\"M17.41 7.96l-1.37-1.37c-.4-.4-.92-.59-1.43-.59-.52 0-1.04.2-1.43.59L10.3 9.45l-7.72 7.72c-.78.78-.78 2.05 0 2.83L4 21.41c.39.39.9.59 1.41.59.51 0 1.02-.2 1.41-.59l7.78-7.78 2.81-2.81c.8-.78.8-2.07 0-2.86zM5.41 20L4 18.59l7.72-7.72 1.47 1.35L5.41 20z\"/>\n",
              "  </svg>\n",
              "      </button>\n",
              "      \n",
              "  <style>\n",
              "    .colab-df-container {\n",
              "      display:flex;\n",
              "      flex-wrap:wrap;\n",
              "      gap: 12px;\n",
              "    }\n",
              "\n",
              "    .colab-df-convert {\n",
              "      background-color: #E8F0FE;\n",
              "      border: none;\n",
              "      border-radius: 50%;\n",
              "      cursor: pointer;\n",
              "      display: none;\n",
              "      fill: #1967D2;\n",
              "      height: 32px;\n",
              "      padding: 0 0 0 0;\n",
              "      width: 32px;\n",
              "    }\n",
              "\n",
              "    .colab-df-convert:hover {\n",
              "      background-color: #E2EBFA;\n",
              "      box-shadow: 0px 1px 2px rgba(60, 64, 67, 0.3), 0px 1px 3px 1px rgba(60, 64, 67, 0.15);\n",
              "      fill: #174EA6;\n",
              "    }\n",
              "\n",
              "    [theme=dark] .colab-df-convert {\n",
              "      background-color: #3B4455;\n",
              "      fill: #D2E3FC;\n",
              "    }\n",
              "\n",
              "    [theme=dark] .colab-df-convert:hover {\n",
              "      background-color: #434B5C;\n",
              "      box-shadow: 0px 1px 3px 1px rgba(0, 0, 0, 0.15);\n",
              "      filter: drop-shadow(0px 1px 2px rgba(0, 0, 0, 0.3));\n",
              "      fill: #FFFFFF;\n",
              "    }\n",
              "  </style>\n",
              "\n",
              "      <script>\n",
              "        const buttonEl =\n",
              "          document.querySelector('#df-a2809942-1ed2-4b58-bd30-bf6695a40610 button.colab-df-convert');\n",
              "        buttonEl.style.display =\n",
              "          google.colab.kernel.accessAllowed ? 'block' : 'none';\n",
              "\n",
              "        async function convertToInteractive(key) {\n",
              "          const element = document.querySelector('#df-a2809942-1ed2-4b58-bd30-bf6695a40610');\n",
              "          const dataTable =\n",
              "            await google.colab.kernel.invokeFunction('convertToInteractive',\n",
              "                                                     [key], {});\n",
              "          if (!dataTable) return;\n",
              "\n",
              "          const docLinkHtml = 'Like what you see? Visit the ' +\n",
              "            '<a target=\"_blank\" href=https://colab.research.google.com/notebooks/data_table.ipynb>data table notebook</a>'\n",
              "            + ' to learn more about interactive tables.';\n",
              "          element.innerHTML = '';\n",
              "          dataTable['output_type'] = 'display_data';\n",
              "          await google.colab.output.renderOutput(dataTable, element);\n",
              "          const docLink = document.createElement('div');\n",
              "          docLink.innerHTML = docLinkHtml;\n",
              "          element.appendChild(docLink);\n",
              "        }\n",
              "      </script>\n",
              "    </div>\n",
              "  </div>\n",
              "  "
            ]
          },
          "metadata": {},
          "execution_count": 37
        }
      ]
    }
  ],
  "metadata": {
    "colab": {
      "provenance": [],
      "collapsed_sections": [
        "ZB3WQUKyQ68F"
      ],
      "toc_visible": true
    },
    "kernelspec": {
      "display_name": "study",
      "language": "python",
      "name": "python3"
    },
    "language_info": {
      "codemirror_mode": {
        "name": "ipython",
        "version": 3
      },
      "file_extension": ".py",
      "mimetype": "text/x-python",
      "name": "python",
      "nbconvert_exporter": "python",
      "pygments_lexer": "ipython3",
      "version": "3.10.9"
    }
  },
  "nbformat": 4,
  "nbformat_minor": 0
}